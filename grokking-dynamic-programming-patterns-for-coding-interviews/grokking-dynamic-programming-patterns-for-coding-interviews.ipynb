{
 "cells": [
  {
   "cell_type": "markdown",
   "metadata": {
    "toc": true
   },
   "source": [
    "<h1>Grokking Dynamic Programming Patterns for Coding Interviews<span class=\"tocSkip\"></span></h1>\n",
    "<div class=\"toc\"><ul class=\"toc-item\"><li><span><a href=\"#0/1-Knapsack\" data-toc-modified-id=\"0/1-Knapsack-1\"><span class=\"toc-item-num\">1&nbsp;&nbsp;</span>0/1 Knapsack</a></span><ul class=\"toc-item\"><li><span><a href=\"#0/1-Knapsack\" data-toc-modified-id=\"0/1-Knapsack-1.1\"><span class=\"toc-item-num\">1.1&nbsp;&nbsp;</span>0/1 Knapsack</a></span><ul class=\"toc-item\"><li><span><a href=\"#Basic-Solution\" data-toc-modified-id=\"Basic-Solution-1.1.1\"><span class=\"toc-item-num\">1.1.1&nbsp;&nbsp;</span>Basic Solution</a></span></li><li><span><a href=\"#Top-down-Dynamic-Programming-with-Memoization\" data-toc-modified-id=\"Top-down-Dynamic-Programming-with-Memoization-1.1.2\"><span class=\"toc-item-num\">1.1.2&nbsp;&nbsp;</span>Top-down Dynamic Programming with Memoization</a></span></li><li><span><a href=\"#Bottom-up-Dynamic-Programming\" data-toc-modified-id=\"Bottom-up-Dynamic-Programming-1.1.3\"><span class=\"toc-item-num\">1.1.3&nbsp;&nbsp;</span>Bottom-up Dynamic Programming</a></span></li><li><span><a href=\"#Challenge\" data-toc-modified-id=\"Challenge-1.1.4\"><span class=\"toc-item-num\">1.1.4&nbsp;&nbsp;</span>Challenge</a></span></li></ul></li><li><span><a href=\"#Equal-Subset-Sum-Partition\" data-toc-modified-id=\"Equal-Subset-Sum-Partition-1.2\"><span class=\"toc-item-num\">1.2&nbsp;&nbsp;</span>Equal Subset Sum Partition</a></span><ul class=\"toc-item\"><li><span><a href=\"#Basic-Solution\" data-toc-modified-id=\"Basic-Solution-1.2.1\"><span class=\"toc-item-num\">1.2.1&nbsp;&nbsp;</span>Basic Solution</a></span></li><li><span><a href=\"#Top-down-Dynamic-Programming-with-Memoization\" data-toc-modified-id=\"Top-down-Dynamic-Programming-with-Memoization-1.2.2\"><span class=\"toc-item-num\">1.2.2&nbsp;&nbsp;</span>Top-down Dynamic Programming with Memoization</a></span></li><li><span><a href=\"#Bottom-up-Dynamic-Programming\" data-toc-modified-id=\"Bottom-up-Dynamic-Programming-1.2.3\"><span class=\"toc-item-num\">1.2.3&nbsp;&nbsp;</span>Bottom-up Dynamic Programming</a></span></li></ul></li><li><span><a href=\"#Subset-Sum\" data-toc-modified-id=\"Subset-Sum-1.3\"><span class=\"toc-item-num\">1.3&nbsp;&nbsp;</span>Subset Sum</a></span><ul class=\"toc-item\"><li><span><a href=\"#Bottom-up-Dynamic-Programming\" data-toc-modified-id=\"Bottom-up-Dynamic-Programming-1.3.1\"><span class=\"toc-item-num\">1.3.1&nbsp;&nbsp;</span>Bottom-up Dynamic Programming</a></span></li><li><span><a href=\"#Challenge\" data-toc-modified-id=\"Challenge-1.3.2\"><span class=\"toc-item-num\">1.3.2&nbsp;&nbsp;</span>Challenge</a></span></li></ul></li><li><span><a href=\"#Minimum-Subset-Sum-Difference\" data-toc-modified-id=\"Minimum-Subset-Sum-Difference-1.4\"><span class=\"toc-item-num\">1.4&nbsp;&nbsp;</span>Minimum Subset Sum Difference</a></span><ul class=\"toc-item\"><li><span><a href=\"#Basic-Solution\" data-toc-modified-id=\"Basic-Solution-1.4.1\"><span class=\"toc-item-num\">1.4.1&nbsp;&nbsp;</span>Basic Solution</a></span></li><li><span><a href=\"#Top-down-Dynamic-Programming-with-Memoization\" data-toc-modified-id=\"Top-down-Dynamic-Programming-with-Memoization-1.4.2\"><span class=\"toc-item-num\">1.4.2&nbsp;&nbsp;</span>Top-down Dynamic Programming with Memoization</a></span></li><li><span><a href=\"#Bottom-up-Dynamic-Programming\" data-toc-modified-id=\"Bottom-up-Dynamic-Programming-1.4.3\"><span class=\"toc-item-num\">1.4.3&nbsp;&nbsp;</span>Bottom-up Dynamic Programming</a></span></li></ul></li><li><span><a href=\"#Count-of-Subset-Sum\" data-toc-modified-id=\"Count-of-Subset-Sum-1.5\"><span class=\"toc-item-num\">1.5&nbsp;&nbsp;</span>Count of Subset Sum</a></span><ul class=\"toc-item\"><li><span><a href=\"#Basic-Solution\" data-toc-modified-id=\"Basic-Solution-1.5.1\"><span class=\"toc-item-num\">1.5.1&nbsp;&nbsp;</span>Basic Solution</a></span></li><li><span><a href=\"#Top-down-Dynamic-Programming-with-Memoization\" data-toc-modified-id=\"Top-down-Dynamic-Programming-with-Memoization-1.5.2\"><span class=\"toc-item-num\">1.5.2&nbsp;&nbsp;</span>Top-down Dynamic Programming with Memoization</a></span></li><li><span><a href=\"#Bottom-up-Dynamic-Programming\" data-toc-modified-id=\"Bottom-up-Dynamic-Programming-1.5.3\"><span class=\"toc-item-num\">1.5.3&nbsp;&nbsp;</span>Bottom-up Dynamic Programming</a></span></li><li><span><a href=\"#Challenge\" data-toc-modified-id=\"Challenge-1.5.4\"><span class=\"toc-item-num\">1.5.4&nbsp;&nbsp;</span>Challenge</a></span></li></ul></li><li><span><a href=\"#Target-Sum\" data-toc-modified-id=\"Target-Sum-1.6\"><span class=\"toc-item-num\">1.6&nbsp;&nbsp;</span>Target Sum</a></span><ul class=\"toc-item\"><li><span><a href=\"#Solution\" data-toc-modified-id=\"Solution-1.6.1\"><span class=\"toc-item-num\">1.6.1&nbsp;&nbsp;</span>Solution</a></span></li><li><span><a href=\"#Space-Optimized-Solution\" data-toc-modified-id=\"Space-Optimized-Solution-1.6.2\"><span class=\"toc-item-num\">1.6.2&nbsp;&nbsp;</span>Space Optimized Solution</a></span></li></ul></li></ul></li><li><span><a href=\"#Unbounded-Knapsack\" data-toc-modified-id=\"Unbounded-Knapsack-2\"><span class=\"toc-item-num\">2&nbsp;&nbsp;</span>Unbounded Knapsack</a></span><ul class=\"toc-item\"><li><span><a href=\"#Unbounded-Knapsack\" data-toc-modified-id=\"Unbounded-Knapsack-2.1\"><span class=\"toc-item-num\">2.1&nbsp;&nbsp;</span>Unbounded Knapsack</a></span><ul class=\"toc-item\"><li><span><a href=\"#Basic-Solution\" data-toc-modified-id=\"Basic-Solution-2.1.1\"><span class=\"toc-item-num\">2.1.1&nbsp;&nbsp;</span>Basic Solution</a></span></li><li><span><a href=\"#Top-down-Dynamic-Programming-with-Memoization\" data-toc-modified-id=\"Top-down-Dynamic-Programming-with-Memoization-2.1.2\"><span class=\"toc-item-num\">2.1.2&nbsp;&nbsp;</span>Top-down Dynamic Programming with Memoization</a></span></li><li><span><a href=\"#Bottom-up-Dynamic-Programming\" data-toc-modified-id=\"Bottom-up-Dynamic-Programming-2.1.3\"><span class=\"toc-item-num\">2.1.3&nbsp;&nbsp;</span>Bottom-up Dynamic Programming</a></span></li></ul></li><li><span><a href=\"#Rod-Cutting\" data-toc-modified-id=\"Rod-Cutting-2.2\"><span class=\"toc-item-num\">2.2&nbsp;&nbsp;</span>Rod Cutting</a></span></li><li><span><a href=\"#Minimum-Coin-Change\" data-toc-modified-id=\"Minimum-Coin-Change-2.3\"><span class=\"toc-item-num\">2.3&nbsp;&nbsp;</span>Minimum Coin Change</a></span><ul class=\"toc-item\"><li><span><a href=\"#Basic-Solution\" data-toc-modified-id=\"Basic-Solution-2.3.1\"><span class=\"toc-item-num\">2.3.1&nbsp;&nbsp;</span>Basic Solution</a></span></li><li><span><a href=\"#Top-down-Dynamic-Programming-with-Memoization\" data-toc-modified-id=\"Top-down-Dynamic-Programming-with-Memoization-2.3.2\"><span class=\"toc-item-num\">2.3.2&nbsp;&nbsp;</span>Top-down Dynamic Programming with Memoization</a></span></li><li><span><a href=\"#Bottom-up-Dynamic-Programming\" data-toc-modified-id=\"Bottom-up-Dynamic-Programming-2.3.3\"><span class=\"toc-item-num\">2.3.3&nbsp;&nbsp;</span>Bottom-up Dynamic Programming</a></span></li></ul></li><li><span><a href=\"#Maximum-Ribbon-Cut\" data-toc-modified-id=\"Maximum-Ribbon-Cut-2.4\"><span class=\"toc-item-num\">2.4&nbsp;&nbsp;</span>Maximum Ribbon Cut</a></span><ul class=\"toc-item\"><li><span><a href=\"#Basic-Solution\" data-toc-modified-id=\"Basic-Solution-2.4.1\"><span class=\"toc-item-num\">2.4.1&nbsp;&nbsp;</span>Basic Solution</a></span></li><li><span><a href=\"#Bottom-up-Dynamic-Programming\" data-toc-modified-id=\"Bottom-up-Dynamic-Programming-2.4.2\"><span class=\"toc-item-num\">2.4.2&nbsp;&nbsp;</span>Bottom-up Dynamic Programming</a></span></li></ul></li></ul></li><li><span><a href=\"#Fibonacci-Numbers\" data-toc-modified-id=\"Fibonacci-Numbers-3\"><span class=\"toc-item-num\">3&nbsp;&nbsp;</span>Fibonacci Numbers</a></span><ul class=\"toc-item\"><li><span><a href=\"#Fibonacci-Numbers\" data-toc-modified-id=\"Fibonacci-Numbers-3.1\"><span class=\"toc-item-num\">3.1&nbsp;&nbsp;</span>Fibonacci Numbers</a></span><ul class=\"toc-item\"><li><span><a href=\"#Basic-Solution\" data-toc-modified-id=\"Basic-Solution-3.1.1\"><span class=\"toc-item-num\">3.1.1&nbsp;&nbsp;</span>Basic Solution</a></span></li><li><span><a href=\"#Top-down-Dynamic-Programming-with-Memoization\" data-toc-modified-id=\"Top-down-Dynamic-Programming-with-Memoization-3.1.2\"><span class=\"toc-item-num\">3.1.2&nbsp;&nbsp;</span>Top-down Dynamic Programming with Memoization</a></span></li><li><span><a href=\"#Bottom-up-Dynamic-Programming\" data-toc-modified-id=\"Bottom-up-Dynamic-Programming-3.1.3\"><span class=\"toc-item-num\">3.1.3&nbsp;&nbsp;</span>Bottom-up Dynamic Programming</a></span></li><li><span><a href=\"#Memory-Optimization\" data-toc-modified-id=\"Memory-Optimization-3.1.4\"><span class=\"toc-item-num\">3.1.4&nbsp;&nbsp;</span>Memory Optimization</a></span></li></ul></li><li><span><a href=\"#Staircase\" data-toc-modified-id=\"Staircase-3.2\"><span class=\"toc-item-num\">3.2&nbsp;&nbsp;</span>Staircase</a></span><ul class=\"toc-item\"><li><span><a href=\"#Basic-Solution\" data-toc-modified-id=\"Basic-Solution-3.2.1\"><span class=\"toc-item-num\">3.2.1&nbsp;&nbsp;</span>Basic Solution</a></span></li><li><span><a href=\"#Top-down-Dynamic-Programming-with-Memoization\" data-toc-modified-id=\"Top-down-Dynamic-Programming-with-Memoization-3.2.2\"><span class=\"toc-item-num\">3.2.2&nbsp;&nbsp;</span>Top-down Dynamic Programming with Memoization</a></span></li><li><span><a href=\"#Bottom-up-Dynamic-Programming\" data-toc-modified-id=\"Bottom-up-Dynamic-Programming-3.2.3\"><span class=\"toc-item-num\">3.2.3&nbsp;&nbsp;</span>Bottom-up Dynamic Programming</a></span></li><li><span><a href=\"#Memory-Optimization\" data-toc-modified-id=\"Memory-Optimization-3.2.4\"><span class=\"toc-item-num\">3.2.4&nbsp;&nbsp;</span>Memory Optimization</a></span></li></ul></li><li><span><a href=\"#Number-Factors\" data-toc-modified-id=\"Number-Factors-3.3\"><span class=\"toc-item-num\">3.3&nbsp;&nbsp;</span>Number Factors</a></span><ul class=\"toc-item\"><li><span><a href=\"#Basic-Solution\" data-toc-modified-id=\"Basic-Solution-3.3.1\"><span class=\"toc-item-num\">3.3.1&nbsp;&nbsp;</span>Basic Solution</a></span></li><li><span><a href=\"#Top-down-Dynamic-Programming-with-Memoization\" data-toc-modified-id=\"Top-down-Dynamic-Programming-with-Memoization-3.3.2\"><span class=\"toc-item-num\">3.3.2&nbsp;&nbsp;</span>Top-down Dynamic Programming with Memoization</a></span></li><li><span><a href=\"#Bottom-up-Dynamic-Programming\" data-toc-modified-id=\"Bottom-up-Dynamic-Programming-3.3.3\"><span class=\"toc-item-num\">3.3.3&nbsp;&nbsp;</span>Bottom-up Dynamic Programming</a></span></li></ul></li><li><span><a href=\"#Minimum-Jumps-to-Reach-the-End\" data-toc-modified-id=\"Minimum-Jumps-to-Reach-the-End-3.4\"><span class=\"toc-item-num\">3.4&nbsp;&nbsp;</span>Minimum Jumps to Reach the End</a></span><ul class=\"toc-item\"><li><span><a href=\"#Basic-Solution\" data-toc-modified-id=\"Basic-Solution-3.4.1\"><span class=\"toc-item-num\">3.4.1&nbsp;&nbsp;</span>Basic Solution</a></span></li><li><span><a href=\"#Top-down-Dynamic-Programming-with-Memoization\" data-toc-modified-id=\"Top-down-Dynamic-Programming-with-Memoization-3.4.2\"><span class=\"toc-item-num\">3.4.2&nbsp;&nbsp;</span>Top-down Dynamic Programming with Memoization</a></span></li><li><span><a href=\"#Bottom-up-Dynamic-Programming\" data-toc-modified-id=\"Bottom-up-Dynamic-Programming-3.4.3\"><span class=\"toc-item-num\">3.4.3&nbsp;&nbsp;</span>Bottom-up Dynamic Programming</a></span></li></ul></li><li><span><a href=\"#Minimum-Jumps-with-Fee\" data-toc-modified-id=\"Minimum-Jumps-with-Fee-3.5\"><span class=\"toc-item-num\">3.5&nbsp;&nbsp;</span>Minimum Jumps with Fee</a></span><ul class=\"toc-item\"><li><span><a href=\"#Basic-Solution\" data-toc-modified-id=\"Basic-Solution-3.5.1\"><span class=\"toc-item-num\">3.5.1&nbsp;&nbsp;</span>Basic Solution</a></span></li><li><span><a href=\"#Top-down-Dynamic-Programming-with-Memoization\" data-toc-modified-id=\"Top-down-Dynamic-Programming-with-Memoization-3.5.2\"><span class=\"toc-item-num\">3.5.2&nbsp;&nbsp;</span>Top-down Dynamic Programming with Memoization</a></span></li><li><span><a href=\"#Bottom-up-Dynamic-Programming\" data-toc-modified-id=\"Bottom-up-Dynamic-Programming-3.5.3\"><span class=\"toc-item-num\">3.5.3&nbsp;&nbsp;</span>Bottom-up Dynamic Programming</a></span></li></ul></li><li><span><a href=\"#House-Thief\" data-toc-modified-id=\"House-Thief-3.6\"><span class=\"toc-item-num\">3.6&nbsp;&nbsp;</span>House Thief</a></span><ul class=\"toc-item\"><li><span><a href=\"#Basic-Solution\" data-toc-modified-id=\"Basic-Solution-3.6.1\"><span class=\"toc-item-num\">3.6.1&nbsp;&nbsp;</span>Basic Solution</a></span></li><li><span><a href=\"#Top-down-Dynamic-Programming-with-Memoization\" data-toc-modified-id=\"Top-down-Dynamic-Programming-with-Memoization-3.6.2\"><span class=\"toc-item-num\">3.6.2&nbsp;&nbsp;</span>Top-down Dynamic Programming with Memoization</a></span></li><li><span><a href=\"#Bottom-up-Dynamic-Programming\" data-toc-modified-id=\"Bottom-up-Dynamic-Programming-3.6.3\"><span class=\"toc-item-num\">3.6.3&nbsp;&nbsp;</span>Bottom-up Dynamic Programming</a></span></li><li><span><a href=\"#Memory-Optimization\" data-toc-modified-id=\"Memory-Optimization-3.6.4\"><span class=\"toc-item-num\">3.6.4&nbsp;&nbsp;</span>Memory Optimization</a></span></li></ul></li></ul></li><li><span><a href=\"#Palindromic-Subsequence\" data-toc-modified-id=\"Palindromic-Subsequence-4\"><span class=\"toc-item-num\">4&nbsp;&nbsp;</span>Palindromic Subsequence</a></span><ul class=\"toc-item\"><li><span><a href=\"#Longest-Palindromic-Subsequence\" data-toc-modified-id=\"Longest-Palindromic-Subsequence-4.1\"><span class=\"toc-item-num\">4.1&nbsp;&nbsp;</span>Longest Palindromic Subsequence</a></span><ul class=\"toc-item\"><li><span><a href=\"#Basic-Solution\" data-toc-modified-id=\"Basic-Solution-4.1.1\"><span class=\"toc-item-num\">4.1.1&nbsp;&nbsp;</span>Basic Solution</a></span></li><li><span><a href=\"#Top-down-Dynamic-Programming-with-Memoization\" data-toc-modified-id=\"Top-down-Dynamic-Programming-with-Memoization-4.1.2\"><span class=\"toc-item-num\">4.1.2&nbsp;&nbsp;</span>Top-down Dynamic Programming with Memoization</a></span></li><li><span><a href=\"#Bottom-up-Dynamic-Programming\" data-toc-modified-id=\"Bottom-up-Dynamic-Programming-4.1.3\"><span class=\"toc-item-num\">4.1.3&nbsp;&nbsp;</span>Bottom-up Dynamic Programming</a></span></li></ul></li><li><span><a href=\"#Longest-Palindromic-Substring\" data-toc-modified-id=\"Longest-Palindromic-Substring-4.2\"><span class=\"toc-item-num\">4.2&nbsp;&nbsp;</span>Longest Palindromic Substring</a></span><ul class=\"toc-item\"><li><span><a href=\"#Basic-Solution\" data-toc-modified-id=\"Basic-Solution-4.2.1\"><span class=\"toc-item-num\">4.2.1&nbsp;&nbsp;</span>Basic Solution</a></span></li><li><span><a href=\"#Top-down-Dynamic-Programming-with-Memoization\" data-toc-modified-id=\"Top-down-Dynamic-Programming-with-Memoization-4.2.2\"><span class=\"toc-item-num\">4.2.2&nbsp;&nbsp;</span>Top-down Dynamic Programming with Memoization</a></span></li><li><span><a href=\"#Bottom-up-Dynamic-Programming\" data-toc-modified-id=\"Bottom-up-Dynamic-Programming-4.2.3\"><span class=\"toc-item-num\">4.2.3&nbsp;&nbsp;</span>Bottom-up Dynamic Programming</a></span></li></ul></li><li><span><a href=\"#Count-of-Palindromic-Substrings\" data-toc-modified-id=\"Count-of-Palindromic-Substrings-4.3\"><span class=\"toc-item-num\">4.3&nbsp;&nbsp;</span>Count of Palindromic Substrings</a></span></li><li><span><a href=\"#Minimum-Deletions-in-a-String-to-Make-it-a-Palindrome\" data-toc-modified-id=\"Minimum-Deletions-in-a-String-to-Make-it-a-Palindrome-4.4\"><span class=\"toc-item-num\">4.4&nbsp;&nbsp;</span>Minimum Deletions in a String to Make it a Palindrome</a></span></li><li><span><a href=\"#Palindromic-Partitioning\" data-toc-modified-id=\"Palindromic-Partitioning-4.5\"><span class=\"toc-item-num\">4.5&nbsp;&nbsp;</span>Palindromic Partitioning</a></span><ul class=\"toc-item\"><li><span><a href=\"#Basic-Solution\" data-toc-modified-id=\"Basic-Solution-4.5.1\"><span class=\"toc-item-num\">4.5.1&nbsp;&nbsp;</span>Basic Solution</a></span></li><li><span><a href=\"#Top-down-Dynamic-Programming-with-Memoization\" data-toc-modified-id=\"Top-down-Dynamic-Programming-with-Memoization-4.5.2\"><span class=\"toc-item-num\">4.5.2&nbsp;&nbsp;</span>Top-down Dynamic Programming with Memoization</a></span></li><li><span><a href=\"#Bottom-up-Dynamic-Programming\" data-toc-modified-id=\"Bottom-up-Dynamic-Programming-4.5.3\"><span class=\"toc-item-num\">4.5.3&nbsp;&nbsp;</span>Bottom-up Dynamic Programming</a></span></li></ul></li></ul></li><li><span><a href=\"#Longest-Common-Substring\" data-toc-modified-id=\"Longest-Common-Substring-5\"><span class=\"toc-item-num\">5&nbsp;&nbsp;</span>Longest Common Substring</a></span><ul class=\"toc-item\"><li><span><a href=\"#Longest-Common-Substring\" data-toc-modified-id=\"Longest-Common-Substring-5.1\"><span class=\"toc-item-num\">5.1&nbsp;&nbsp;</span>Longest Common Substring</a></span><ul class=\"toc-item\"><li><span><a href=\"#Basic-Solution\" data-toc-modified-id=\"Basic-Solution-5.1.1\"><span class=\"toc-item-num\">5.1.1&nbsp;&nbsp;</span>Basic Solution</a></span></li><li><span><a href=\"#Top-down-Dynamic-Programming-with-Memoization\" data-toc-modified-id=\"Top-down-Dynamic-Programming-with-Memoization-5.1.2\"><span class=\"toc-item-num\">5.1.2&nbsp;&nbsp;</span>Top-down Dynamic Programming with Memoization</a></span></li><li><span><a href=\"#Bottom-up-Dynamic-Programming\" data-toc-modified-id=\"Bottom-up-Dynamic-Programming-5.1.3\"><span class=\"toc-item-num\">5.1.3&nbsp;&nbsp;</span>Bottom-up Dynamic Programming</a></span></li><li><span><a href=\"#Challenge\" data-toc-modified-id=\"Challenge-5.1.4\"><span class=\"toc-item-num\">5.1.4&nbsp;&nbsp;</span>Challenge</a></span></li></ul></li><li><span><a href=\"#Longest-Common-Subsequence\" data-toc-modified-id=\"Longest-Common-Subsequence-5.2\"><span class=\"toc-item-num\">5.2&nbsp;&nbsp;</span>Longest Common Subsequence</a></span><ul class=\"toc-item\"><li><span><a href=\"#Basic-Solution\" data-toc-modified-id=\"Basic-Solution-5.2.1\"><span class=\"toc-item-num\">5.2.1&nbsp;&nbsp;</span>Basic Solution</a></span></li><li><span><a href=\"#Top-down-Dynamic-Programming-with-Memoization\" data-toc-modified-id=\"Top-down-Dynamic-Programming-with-Memoization-5.2.2\"><span class=\"toc-item-num\">5.2.2&nbsp;&nbsp;</span>Top-down Dynamic Programming with Memoization</a></span></li><li><span><a href=\"#Bottom-up-Dynamic-Programming\" data-toc-modified-id=\"Bottom-up-Dynamic-Programming-5.2.3\"><span class=\"toc-item-num\">5.2.3&nbsp;&nbsp;</span>Bottom-up Dynamic Programming</a></span></li><li><span><a href=\"#Challenge\" data-toc-modified-id=\"Challenge-5.2.4\"><span class=\"toc-item-num\">5.2.4&nbsp;&nbsp;</span>Challenge</a></span></li></ul></li><li><span><a href=\"#Minimum-Deletions-&amp;-Insertions-to-Transform-a-String-into-Another\" data-toc-modified-id=\"Minimum-Deletions-&amp;-Insertions-to-Transform-a-String-into-Another-5.3\"><span class=\"toc-item-num\">5.3&nbsp;&nbsp;</span>Minimum Deletions &amp; Insertions to Transform a String into Another</a></span></li><li><span><a href=\"#Longest-Increasing-Subsequence\" data-toc-modified-id=\"Longest-Increasing-Subsequence-5.4\"><span class=\"toc-item-num\">5.4&nbsp;&nbsp;</span>Longest Increasing Subsequence</a></span><ul class=\"toc-item\"><li><span><a href=\"#Basic-Solution\" data-toc-modified-id=\"Basic-Solution-5.4.1\"><span class=\"toc-item-num\">5.4.1&nbsp;&nbsp;</span>Basic Solution</a></span></li><li><span><a href=\"#Top-down-Dynamic-Programming-with-Memoization\" data-toc-modified-id=\"Top-down-Dynamic-Programming-with-Memoization-5.4.2\"><span class=\"toc-item-num\">5.4.2&nbsp;&nbsp;</span>Top-down Dynamic Programming with Memoization</a></span></li><li><span><a href=\"#Bottom-up-Dynamic-Programming\" data-toc-modified-id=\"Bottom-up-Dynamic-Programming-5.4.3\"><span class=\"toc-item-num\">5.4.3&nbsp;&nbsp;</span>Bottom-up Dynamic Programming</a></span></li></ul></li><li><span><a href=\"#Maximum-Sum-Increasing-Subsequence\" data-toc-modified-id=\"Maximum-Sum-Increasing-Subsequence-5.5\"><span class=\"toc-item-num\">5.5&nbsp;&nbsp;</span>Maximum Sum Increasing Subsequence</a></span><ul class=\"toc-item\"><li><span><a href=\"#Basic-Solution\" data-toc-modified-id=\"Basic-Solution-5.5.1\"><span class=\"toc-item-num\">5.5.1&nbsp;&nbsp;</span>Basic Solution</a></span></li><li><span><a href=\"#Top-down-Dynamic-Programming-with-Memoization\" data-toc-modified-id=\"Top-down-Dynamic-Programming-with-Memoization-5.5.2\"><span class=\"toc-item-num\">5.5.2&nbsp;&nbsp;</span>Top-down Dynamic Programming with Memoization</a></span></li><li><span><a href=\"#Bottom-up-Dynamic-Programming\" data-toc-modified-id=\"Bottom-up-Dynamic-Programming-5.5.3\"><span class=\"toc-item-num\">5.5.3&nbsp;&nbsp;</span>Bottom-up Dynamic Programming</a></span></li></ul></li><li><span><a href=\"#Shortest-Common-Super-sequence\" data-toc-modified-id=\"Shortest-Common-Super-sequence-5.6\"><span class=\"toc-item-num\">5.6&nbsp;&nbsp;</span>Shortest Common Super-sequence</a></span><ul class=\"toc-item\"><li><span><a href=\"#Basic-Solution\" data-toc-modified-id=\"Basic-Solution-5.6.1\"><span class=\"toc-item-num\">5.6.1&nbsp;&nbsp;</span>Basic Solution</a></span></li><li><span><a href=\"#Top-down-Dynamic-Programming-with-Memoization\" data-toc-modified-id=\"Top-down-Dynamic-Programming-with-Memoization-5.6.2\"><span class=\"toc-item-num\">5.6.2&nbsp;&nbsp;</span>Top-down Dynamic Programming with Memoization</a></span></li><li><span><a href=\"#Bottom-up-Dynamic-Programming\" data-toc-modified-id=\"Bottom-up-Dynamic-Programming-5.6.3\"><span class=\"toc-item-num\">5.6.3&nbsp;&nbsp;</span>Bottom-up Dynamic Programming</a></span></li></ul></li><li><span><a href=\"#Minimum-Deletions-to-Make-a-Sequence-Sorted\" data-toc-modified-id=\"Minimum-Deletions-to-Make-a-Sequence-Sorted-5.7\"><span class=\"toc-item-num\">5.7&nbsp;&nbsp;</span>Minimum Deletions to Make a Sequence Sorted</a></span></li><li><span><a href=\"#Longest-Repeating-Subsequence\" data-toc-modified-id=\"Longest-Repeating-Subsequence-5.8\"><span class=\"toc-item-num\">5.8&nbsp;&nbsp;</span>Longest Repeating Subsequence</a></span><ul class=\"toc-item\"><li><span><a href=\"#Basic-Solution\" data-toc-modified-id=\"Basic-Solution-5.8.1\"><span class=\"toc-item-num\">5.8.1&nbsp;&nbsp;</span>Basic Solution</a></span></li><li><span><a href=\"#Top-down-Dynamic-Programming-with-Memoization\" data-toc-modified-id=\"Top-down-Dynamic-Programming-with-Memoization-5.8.2\"><span class=\"toc-item-num\">5.8.2&nbsp;&nbsp;</span>Top-down Dynamic Programming with Memoization</a></span></li><li><span><a href=\"#Bottom-up-Dynamic-Programming\" data-toc-modified-id=\"Bottom-up-Dynamic-Programming-5.8.3\"><span class=\"toc-item-num\">5.8.3&nbsp;&nbsp;</span>Bottom-up Dynamic Programming</a></span></li></ul></li><li><span><a href=\"#Subsequence-Pattern-Matching\" data-toc-modified-id=\"Subsequence-Pattern-Matching-5.9\"><span class=\"toc-item-num\">5.9&nbsp;&nbsp;</span>Subsequence Pattern Matching</a></span><ul class=\"toc-item\"><li><span><a href=\"#Basic-Solution\" data-toc-modified-id=\"Basic-Solution-5.9.1\"><span class=\"toc-item-num\">5.9.1&nbsp;&nbsp;</span>Basic Solution</a></span></li><li><span><a href=\"#Top-down-Dynamic-Programming-with-Memoization\" data-toc-modified-id=\"Top-down-Dynamic-Programming-with-Memoization-5.9.2\"><span class=\"toc-item-num\">5.9.2&nbsp;&nbsp;</span>Top-down Dynamic Programming with Memoization</a></span></li><li><span><a href=\"#Bottom-up-Dynamic-Programming\" data-toc-modified-id=\"Bottom-up-Dynamic-Programming-5.9.3\"><span class=\"toc-item-num\">5.9.3&nbsp;&nbsp;</span>Bottom-up Dynamic Programming</a></span></li></ul></li><li><span><a href=\"#Longest-Bitonic-Subsequence\" data-toc-modified-id=\"Longest-Bitonic-Subsequence-5.10\"><span class=\"toc-item-num\">5.10&nbsp;&nbsp;</span>Longest Bitonic Subsequence</a></span><ul class=\"toc-item\"><li><span><a href=\"#Basic-Solution\" data-toc-modified-id=\"Basic-Solution-5.10.1\"><span class=\"toc-item-num\">5.10.1&nbsp;&nbsp;</span>Basic Solution</a></span></li><li><span><a href=\"#Top-down-Dynamic-Programming-with-Memoization\" data-toc-modified-id=\"Top-down-Dynamic-Programming-with-Memoization-5.10.2\"><span class=\"toc-item-num\">5.10.2&nbsp;&nbsp;</span>Top-down Dynamic Programming with Memoization</a></span></li><li><span><a href=\"#Bottom-up-Dynamic-Programming\" data-toc-modified-id=\"Bottom-up-Dynamic-Programming-5.10.3\"><span class=\"toc-item-num\">5.10.3&nbsp;&nbsp;</span>Bottom-up Dynamic Programming</a></span></li></ul></li><li><span><a href=\"#Longest-Alternating-Subsequence\" data-toc-modified-id=\"Longest-Alternating-Subsequence-5.11\"><span class=\"toc-item-num\">5.11&nbsp;&nbsp;</span>Longest Alternating Subsequence</a></span><ul class=\"toc-item\"><li><span><a href=\"#Basic-Solution\" data-toc-modified-id=\"Basic-Solution-5.11.1\"><span class=\"toc-item-num\">5.11.1&nbsp;&nbsp;</span>Basic Solution</a></span></li><li><span><a href=\"#Top-down-Dynamic-Programming-with-Memoization\" data-toc-modified-id=\"Top-down-Dynamic-Programming-with-Memoization-5.11.2\"><span class=\"toc-item-num\">5.11.2&nbsp;&nbsp;</span>Top-down Dynamic Programming with Memoization</a></span></li><li><span><a href=\"#Bottom-up-Dynamic-Programming\" data-toc-modified-id=\"Bottom-up-Dynamic-Programming-5.11.3\"><span class=\"toc-item-num\">5.11.3&nbsp;&nbsp;</span>Bottom-up Dynamic Programming</a></span></li></ul></li><li><span><a href=\"#Edit-Distance\" data-toc-modified-id=\"Edit-Distance-5.12\"><span class=\"toc-item-num\">5.12&nbsp;&nbsp;</span>Edit Distance</a></span><ul class=\"toc-item\"><li><span><a href=\"#Basic-Solution\" data-toc-modified-id=\"Basic-Solution-5.12.1\"><span class=\"toc-item-num\">5.12.1&nbsp;&nbsp;</span>Basic Solution</a></span></li><li><span><a href=\"#Top-down-Dynamic-Programming-with-Memoization\" data-toc-modified-id=\"Top-down-Dynamic-Programming-with-Memoization-5.12.2\"><span class=\"toc-item-num\">5.12.2&nbsp;&nbsp;</span>Top-down Dynamic Programming with Memoization</a></span></li><li><span><a href=\"#Bottom-up-Dynamic-Programming\" data-toc-modified-id=\"Bottom-up-Dynamic-Programming-5.12.3\"><span class=\"toc-item-num\">5.12.3&nbsp;&nbsp;</span>Bottom-up Dynamic Programming</a></span></li></ul></li><li><span><a href=\"#Strings-Interleaving\" data-toc-modified-id=\"Strings-Interleaving-5.13\"><span class=\"toc-item-num\">5.13&nbsp;&nbsp;</span>Strings Interleaving</a></span><ul class=\"toc-item\"><li><span><a href=\"#Basic-Solution\" data-toc-modified-id=\"Basic-Solution-5.13.1\"><span class=\"toc-item-num\">5.13.1&nbsp;&nbsp;</span>Basic Solution</a></span></li><li><span><a href=\"#Top-down-Dynamic-Programming-with-Memoization\" data-toc-modified-id=\"Top-down-Dynamic-Programming-with-Memoization-5.13.2\"><span class=\"toc-item-num\">5.13.2&nbsp;&nbsp;</span>Top-down Dynamic Programming with Memoization</a></span></li><li><span><a href=\"#Bottom-up-Dynamic-Programming\" data-toc-modified-id=\"Bottom-up-Dynamic-Programming-5.13.3\"><span class=\"toc-item-num\">5.13.3&nbsp;&nbsp;</span>Bottom-up Dynamic Programming</a></span></li></ul></li></ul></li></ul></div>"
   ]
  },
  {
   "cell_type": "markdown",
   "metadata": {},
   "source": [
    "## 0/1 Knapsack"
   ]
  },
  {
   "cell_type": "markdown",
   "metadata": {},
   "source": [
    "### 0/1 Knapsack"
   ]
  },
  {
   "cell_type": "markdown",
   "metadata": {},
   "source": [
    "Given two integer arrays to represent weights and profits of ‘N’ items, we need to find a subset of these items which will give us maximum profit such that their cumulative weight is not more than a given number ‘C’. Each item can only be selected once, which means either we put an item in the knapsack or we skip it."
   ]
  },
  {
   "cell_type": "markdown",
   "metadata": {},
   "source": [
    "#### Basic Solution"
   ]
  },
  {
   "cell_type": "code",
   "execution_count": 1,
   "metadata": {},
   "outputs": [
    {
     "name": "stdout",
     "output_type": "stream",
     "text": [
      "22\n",
      "17\n"
     ]
    }
   ],
   "source": [
    "def solve_knapsack(profits, weights, capacity):\n",
    "    return knapsack_recursive(profits, weights, capacity, 0)\n",
    "\n",
    "\n",
    "def knapsack_recursive(profits, weights, capacity, currentIndex):\n",
    "    # base checks\n",
    "    if capacity <= 0 or currentIndex >= len(profits):\n",
    "        return 0\n",
    "\n",
    "    # recursive call after choosing the element at the currentIndex\n",
    "    # if the weight of the element at currentIndex exceeds the capacity, we    shouldn't process this\n",
    "    profit1 = 0\n",
    "    if weights[currentIndex] <= capacity:\n",
    "        profit1 = profits[currentIndex] + knapsack_recursive(\n",
    "            profits, weights, capacity - weights[currentIndex], currentIndex + 1)\n",
    "\n",
    "    # recursive call after excluding the element at the currentIndex\n",
    "    profit2 = knapsack_recursive(profits, weights, capacity, currentIndex + 1)\n",
    "\n",
    "    return max(profit1, profit2)\n",
    "\n",
    "\n",
    "def main():\n",
    "    print(solve_knapsack([1, 6, 10, 16], [1, 2, 3, 5], 7))\n",
    "    print(solve_knapsack([1, 6, 10, 16], [1, 2, 3, 5], 6))\n",
    "\n",
    "\n",
    "main()"
   ]
  },
  {
   "cell_type": "markdown",
   "metadata": {},
   "source": [
    "#### Top-down Dynamic Programming with Memoization"
   ]
  },
  {
   "cell_type": "code",
   "execution_count": 2,
   "metadata": {},
   "outputs": [
    {
     "name": "stdout",
     "output_type": "stream",
     "text": [
      "22\n",
      "17\n"
     ]
    }
   ],
   "source": [
    "def solve_knapsack(profits, weights, capacity):\n",
    "    # create a two dimensional array for Memoization, each element is initialized to '-1'\n",
    "    dp = [[-1 for x in range(capacity+1)] for y in range(len(profits))]\n",
    "    return knapsack_recursive(dp, profits, weights, capacity, 0)\n",
    "\n",
    "\n",
    "def knapsack_recursive(dp, profits, weights, capacity, currentIndex):\n",
    "\n",
    "    # base checks\n",
    "    if capacity <= 0 or currentIndex >= len(profits):\n",
    "        return 0\n",
    "\n",
    "    # if we have already solved a similar problem, return the result from memory\n",
    "    if dp[currentIndex][capacity] != -1:\n",
    "        return dp[currentIndex][capacity]\n",
    "\n",
    "    # recursive call after choosing the element at the currentIndex\n",
    "    # if the weight of the element at currentIndex exceeds the capacity, we\n",
    "    # shouldn't process this\n",
    "    profit1 = 0\n",
    "    if weights[currentIndex] <= capacity:\n",
    "        profit1 = profits[currentIndex] + knapsack_recursive(\n",
    "            dp, profits, weights, capacity - weights[currentIndex], currentIndex + 1)\n",
    "\n",
    "    # recursive call after excluding the element at the currentIndex\n",
    "    profit2 = knapsack_recursive(\n",
    "        dp, profits, weights, capacity, currentIndex + 1)\n",
    "\n",
    "    dp[currentIndex][capacity] = max(profit1, profit2)\n",
    "    return dp[currentIndex][capacity]\n",
    "\n",
    "\n",
    "def main():\n",
    "    print(solve_knapsack([1, 6, 10, 16], [1, 2, 3, 5], 7))\n",
    "    print(solve_knapsack([1, 6, 10, 16], [1, 2, 3, 5], 6))\n",
    "\n",
    "\n",
    "main()"
   ]
  },
  {
   "cell_type": "markdown",
   "metadata": {},
   "source": [
    "#### Bottom-up Dynamic Programming"
   ]
  },
  {
   "cell_type": "code",
   "execution_count": 3,
   "metadata": {
    "scrolled": true
   },
   "outputs": [
    {
     "name": "stdout",
     "output_type": "stream",
     "text": [
      "16\n",
      "17\n",
      "22\n"
     ]
    }
   ],
   "source": [
    "def solve_knapsack(profits, weights, capacity):\n",
    "    # basic checks\n",
    "    n = len(profits)\n",
    "    if capacity <= 0 or n == 0 or len(weights) != n:\n",
    "        return 0\n",
    "\n",
    "    dp = [[0 for x in range(capacity+1)] for y in range(n)]\n",
    "\n",
    "    # populate the capacity = 0 columns, with '0' capacity we have '0' profit\n",
    "    for i in range(0, n):\n",
    "        dp[i][0] = 0\n",
    "\n",
    "    # if we have only one weight, we will take it if it is not more than the capacity\n",
    "    for c in range(0, capacity+1):\n",
    "        if weights[0] <= c:\n",
    "            dp[0][c] = profits[0]\n",
    "\n",
    "    # process all sub-arrays for all the capacities\n",
    "    for i in range(1, n):\n",
    "        for c in range(1, capacity+1):\n",
    "            profit1, profit2 = 0, 0\n",
    "            # include the item, if it is not more than the capacity\n",
    "            if weights[i] <= c:\n",
    "                profit1 = profits[i] + dp[i - 1][c - weights[i]]\n",
    "            # exclude the item\n",
    "            profit2 = dp[i - 1][c]\n",
    "            # take maximum\n",
    "            dp[i][c] = max(profit1, profit2)\n",
    "\n",
    "    # maximum profit will be at the bottom-right corner.\n",
    "    return dp[n - 1][capacity]\n",
    "\n",
    "\n",
    "def main():\n",
    "    print(solve_knapsack([1, 6, 10, 16], [1, 2, 3, 5], 5))\n",
    "    print(solve_knapsack([1, 6, 10, 16], [1, 2, 3, 5], 6))\n",
    "    print(solve_knapsack([1, 6, 10, 16], [1, 2, 3, 5], 7))\n",
    "\n",
    "\n",
    "main()"
   ]
  },
  {
   "cell_type": "markdown",
   "metadata": {},
   "source": [
    "Let’s write a function to print the set of items included in the knapsack."
   ]
  },
  {
   "cell_type": "code",
   "execution_count": 4,
   "metadata": {},
   "outputs": [
    {
     "name": "stdout",
     "output_type": "stream",
     "text": [
      "Selected weights are: 5 2 \n",
      "Total knapsack profit: 22\n",
      "Selected weights are: 3 2 1 \n",
      "Total knapsack profit: 17\n"
     ]
    }
   ],
   "source": [
    "from __future__ import print_function\n",
    "\n",
    "\n",
    "def solve_knapsack(profits, weights, capacity):\n",
    "    # basic checks\n",
    "    n = len(profits)\n",
    "    if capacity <= 0 or n == 0 or len(weights) != n:\n",
    "        return 0\n",
    "\n",
    "    dp = [[0 for x in range(capacity+1)] for y in range(n)]\n",
    "\n",
    "    # populate the capacity = 0 columns, with '0' capacity we have '0' profit\n",
    "    for i in range(0, n):\n",
    "        dp[i][0] = 0\n",
    "\n",
    "    # if we have only one weight, we will take it if it is not more than the capacity\n",
    "    for c in range(0, capacity+1):\n",
    "        if weights[0] <= c:\n",
    "            dp[0][c] = profits[0]\n",
    "\n",
    "    # process all sub-arrays for all the capacities\n",
    "    for i in range(1, n):\n",
    "        for c in range(1, capacity+1):\n",
    "            profit1, profit2 = 0, 0\n",
    "            # include the item, if it is not more than the capacity\n",
    "            if weights[i] <= c:\n",
    "                profit1 = profits[i] + dp[i - 1][c - weights[i]]\n",
    "            # exclude the item\n",
    "            profit2 = dp[i - 1][c]\n",
    "            # take maximum\n",
    "            dp[i][c] = max(profit1, profit2)\n",
    "\n",
    "    print_selected_elements(dp, weights, profits, capacity)\n",
    "    # maximum profit will be at the bottom-right corner.\n",
    "    return dp[n - 1][capacity]\n",
    "\n",
    "\n",
    "def print_selected_elements(dp, weights, profits, capacity):\n",
    "    print(\"Selected weights are: \", end='')\n",
    "    n = len(weights)\n",
    "    totalProfit = dp[n-1][capacity]\n",
    "    for i in range(n-1, 0, -1):\n",
    "        if totalProfit != dp[i - 1][capacity]:\n",
    "            print(str(weights[i]) + \" \", end='')\n",
    "            capacity -= weights[i]\n",
    "            totalProfit -= profits[i]\n",
    "\n",
    "    if totalProfit != 0:\n",
    "        print(str(weights[0]) + \" \", end='')\n",
    "    print()\n",
    "\n",
    "\n",
    "def main():\n",
    "    print(\"Total knapsack profit: \" +\n",
    "          str(solve_knapsack([1, 6, 10, 16], [1, 2, 3, 5], 7)))\n",
    "    print(\"Total knapsack profit: \" +\n",
    "          str(solve_knapsack([1, 6, 10, 16], [1, 2, 3, 5], 6)))\n",
    "\n",
    "\n",
    "main()"
   ]
  },
  {
   "cell_type": "markdown",
   "metadata": {},
   "source": [
    "#### Challenge\n",
    "Can we further improve our bottom-up DP solution? Can you find an algorithm that has $O(C)$ space complexity?"
   ]
  },
  {
   "cell_type": "code",
   "execution_count": 5,
   "metadata": {},
   "outputs": [
    {
     "name": "stdout",
     "output_type": "stream",
     "text": [
      "Total knapsack profit: 22\n",
      "Total knapsack profit: 17\n"
     ]
    }
   ],
   "source": [
    "def solve_knapsack(profits, weights, capacity):\n",
    "    # basic checks\n",
    "    n = len(profits)\n",
    "    if capacity <= 0 or n == 0 or len(weights) != n:\n",
    "        return 0\n",
    "\n",
    "    # we only need one previous row to find the optimal solution, overall we need '2' rows\n",
    "    # the above solution is similar to the previous solution, the only difference is that\n",
    "    # we use `i % 2` instead if `i` and `(i-1) % 2` instead if `i-1`\n",
    "    dp = [[0 for x in range(capacity+1)] for y in range(2)]\n",
    "\n",
    "    # if we have only one weight, we will take it if it is not more than the capacity\n",
    "    for c in range(0, capacity+1):\n",
    "        if weights[0] <= c:\n",
    "            dp[0][c] = dp[1][c] = profits[0]\n",
    "\n",
    "    # process all sub-arrays for all the capacities\n",
    "    for i in range(1, n):\n",
    "        for c in range(0, capacity+1):\n",
    "            profit1, profit2 = 0, 0\n",
    "            # include the item, if it is not more than the capacity\n",
    "            if weights[i] <= c:\n",
    "                profit1 = profits[i] + dp[(i - 1) % 2][c - weights[i]]\n",
    "            # exclude the item\n",
    "            profit2 = dp[(i - 1) % 2][c]\n",
    "            # take maximum\n",
    "            dp[i % 2][c] = max(profit1, profit2)\n",
    "\n",
    "    return dp[(n - 1) % 2][capacity]\n",
    "\n",
    "\n",
    "def main():\n",
    "    print(\"Total knapsack profit: \" +\n",
    "          str(solve_knapsack([1, 6, 10, 16], [1, 2, 3, 5], 7)))\n",
    "    print(\"Total knapsack profit: \" +\n",
    "          str(solve_knapsack([1, 6, 10, 16], [1, 2, 3, 5], 6)))\n",
    "\n",
    "\n",
    "main()"
   ]
  },
  {
   "cell_type": "markdown",
   "metadata": {},
   "source": [
    "This space optimization solution can also be implemented using a single array. It is a bit tricky though, but the intuition is to use the same array for the previous and the next iteration!"
   ]
  },
  {
   "cell_type": "code",
   "execution_count": 6,
   "metadata": {},
   "outputs": [
    {
     "name": "stdout",
     "output_type": "stream",
     "text": [
      "Total knapsack profit: 22\n",
      "Total knapsack profit: 17\n"
     ]
    }
   ],
   "source": [
    "def solve_knapsack(profits, weights, capacity):\n",
    "    # basic checks\n",
    "    n = len(profits)\n",
    "    if capacity <= 0 or n == 0 or len(weights) != n:\n",
    "        return 0\n",
    "\n",
    "    dp = [0 for x in range(capacity+1)]\n",
    "\n",
    "    # if we have only one weight, we will take it if it is not more than the capacity\n",
    "    for c in range(0, capacity+1):\n",
    "        if weights[0] <= c:\n",
    "            dp[c] = profits[0]\n",
    "\n",
    "    # process all sub-arrays for all the capacities\n",
    "    for i in range(1, n):\n",
    "        for c in range(capacity, -1, -1):\n",
    "            profit1, profit2 = 0, 0\n",
    "            # include the item, if it is not more than the capacity\n",
    "            if weights[i] <= c:\n",
    "                profit1 = profits[i] + dp[c - weights[i]]\n",
    "            # exclude the item\n",
    "            profit2 = dp[c]\n",
    "            # take maximum\n",
    "            dp[c] = max(profit1, profit2)\n",
    "\n",
    "    return dp[capacity]\n",
    "\n",
    "\n",
    "def main():\n",
    "    print(\"Total knapsack profit: \" +\n",
    "                str(solve_knapsack([1, 6, 10, 16], [1, 2, 3, 5], 7)))\n",
    "    print(\"Total knapsack profit: \" +\n",
    "                str(solve_knapsack([1, 6, 10, 16], [1, 2, 3, 5], 6)))\n",
    "\n",
    "\n",
    "main()"
   ]
  },
  {
   "cell_type": "markdown",
   "metadata": {},
   "source": [
    "### Equal Subset Sum Partition"
   ]
  },
  {
   "cell_type": "markdown",
   "metadata": {},
   "source": [
    "Given a set of positive numbers, find if we can partition it into two subsets such that the sum of elements in both the subsets is equal."
   ]
  },
  {
   "cell_type": "markdown",
   "metadata": {},
   "source": [
    "#### Basic Solution"
   ]
  },
  {
   "cell_type": "code",
   "execution_count": 7,
   "metadata": {},
   "outputs": [
    {
     "name": "stdout",
     "output_type": "stream",
     "text": [
      "Can partition: True\n",
      "Can partition: True\n",
      "Can partition: False\n"
     ]
    }
   ],
   "source": [
    "def can_partition(num):\n",
    "    s = sum(num)\n",
    "    # if 's' is a an odd number, we can't have two subsets with equal sum\n",
    "    if s % 2 != 0:\n",
    "        return False\n",
    "\n",
    "    return can_partition_recursive(num, s / 2, 0)\n",
    "\n",
    "\n",
    "def can_partition_recursive(num, sum, currentIndex):\n",
    "    # base check\n",
    "    if sum == 0:\n",
    "        return True\n",
    "\n",
    "    n = len(num)\n",
    "    if n == 0 or currentIndex >= n:\n",
    "        return False\n",
    "\n",
    "    # recursive call after choosing the number at the `currentIndex`\n",
    "    # if the number at `currentIndex` exceeds the sum, we shouldn't process this\n",
    "    if num[currentIndex] <= sum:\n",
    "        if(can_partition_recursive(num, sum - num[currentIndex], currentIndex + 1)):\n",
    "            return True\n",
    "\n",
    "    # recursive call after excluding the number at the 'currentIndex'\n",
    "    return can_partition_recursive(num, sum, currentIndex + 1)\n",
    "\n",
    "\n",
    "def main():\n",
    "    print(\"Can partition: \" + str(can_partition([1, 2, 3, 4])))\n",
    "    print(\"Can partition: \" + str(can_partition([1, 1, 3, 4, 7])))\n",
    "    print(\"Can partition: \" + str(can_partition([2, 3, 4, 6])))\n",
    "\n",
    "\n",
    "main()"
   ]
  },
  {
   "cell_type": "markdown",
   "metadata": {},
   "source": [
    "#### Top-down Dynamic Programming with Memoization"
   ]
  },
  {
   "cell_type": "code",
   "execution_count": 8,
   "metadata": {},
   "outputs": [
    {
     "name": "stdout",
     "output_type": "stream",
     "text": [
      "Can partition: True\n",
      "Can partition: True\n",
      "Can partition: False\n"
     ]
    }
   ],
   "source": [
    "def can_partition(num):\n",
    "    s = sum(num)\n",
    "\n",
    "    # if 's' is a an odd number, we can't have two subsets with equal sum\n",
    "    if s % 2 != 0:\n",
    "        return False\n",
    "\n",
    "    # initialize the 'dp' array, -1 for default, 1 for true and 0 for false\n",
    "    dp = [[-1 for x in range(int(s/2)+1)] for y in range(len(num))]\n",
    "    return True if can_partition_recursive(dp, num, int(s / 2), 0) == 1 else False\n",
    "\n",
    "\n",
    "def can_partition_recursive(dp, num, sum, currentIndex):\n",
    "    # base check\n",
    "    if sum == 0:\n",
    "        return 1\n",
    "\n",
    "    n = len(num)\n",
    "    if n == 0 or currentIndex >= n:\n",
    "        return 0\n",
    "\n",
    "    # if we have not already processed a similar problem\n",
    "    if dp[currentIndex][sum] == -1:\n",
    "        # recursive call after choosing the number at the currentIndex\n",
    "        # if the number at currentIndex exceeds the sum, we shouldn't process this\n",
    "        if num[currentIndex] <= sum:\n",
    "            if can_partition_recursive(dp, num, sum - num[currentIndex], currentIndex + 1) == 1:\n",
    "                dp[currentIndex][sum] = 1\n",
    "                return 1\n",
    "\n",
    "        # recursive call after excluding the number at the currentIndex\n",
    "        dp[currentIndex][sum] = can_partition_recursive(\n",
    "            dp, num, sum, currentIndex + 1)\n",
    "\n",
    "    return dp[currentIndex][sum]\n",
    "\n",
    "\n",
    "def main():\n",
    "    print(\"Can partition: \" + str(can_partition([1, 2, 3, 4])))\n",
    "    print(\"Can partition: \" + str(can_partition([1, 1, 3, 4, 7])))\n",
    "    print(\"Can partition: \" + str(can_partition([2, 3, 4, 6])))\n",
    "\n",
    "\n",
    "main()"
   ]
  },
  {
   "cell_type": "markdown",
   "metadata": {},
   "source": [
    "#### Bottom-up Dynamic Programming"
   ]
  },
  {
   "cell_type": "code",
   "execution_count": 9,
   "metadata": {},
   "outputs": [
    {
     "name": "stdout",
     "output_type": "stream",
     "text": [
      "Can partition: True\n",
      "Can partition: True\n",
      "Can partition: False\n"
     ]
    }
   ],
   "source": [
    "def can_partition(num):\n",
    "    s = sum(num)\n",
    "\n",
    "    # if 's' is a an odd number, we can't have two subsets with same total\n",
    "    if s % 2 != 0:\n",
    "        return False\n",
    "\n",
    "    # we are trying to find a subset of given numbers that has a total sum of 's/2'.\n",
    "    s = int(s / 2)\n",
    "\n",
    "    n = len(num)\n",
    "    dp = [[False for x in range(s+1)] for y in range(n)]\n",
    "\n",
    "    # populate the sum=0 column, as we can always have '0' sum without including \n",
    "    # any element\n",
    "    for i in range(0, n):\n",
    "        dp[i][0] = True\n",
    "\n",
    "    # with only one number, we can form a subset only when the required sum is\n",
    "    # equal to its value\n",
    "    for j in range(1, s+1):\n",
    "        dp[0][j] = num[0] == j\n",
    "\n",
    "    # process all subsets for all sums\n",
    "    for i in range(1, n):\n",
    "        for j in range(1, s+1):\n",
    "            # if we can get the sum 'j' without the number at index 'i'\n",
    "            if dp[i - 1][j]:\n",
    "                dp[i][j] = dp[i - 1][j]\n",
    "            elif j >= num[i]:    # else if we can find a subset to get the remaining sum\n",
    "                dp[i][j] = dp[i - 1][j - num[i]]\n",
    "\n",
    "    # the bottom-right corner will have our answer.\n",
    "    return dp[n - 1][s]\n",
    "\n",
    "\n",
    "def main():\n",
    "    print(\"Can partition: \" + str(can_partition([1, 2, 3, 4])))\n",
    "    print(\"Can partition: \" + str(can_partition([1, 1, 3, 4, 7])))\n",
    "    print(\"Can partition: \" + str(can_partition([2, 3, 4, 6])))\n",
    "\n",
    "\n",
    "main()"
   ]
  },
  {
   "cell_type": "markdown",
   "metadata": {},
   "source": [
    "### Subset Sum"
   ]
  },
  {
   "cell_type": "markdown",
   "metadata": {},
   "source": [
    "Given a set of positive numbers, determine if there exists a subset whose sum is equal to a given number ‘S’."
   ]
  },
  {
   "cell_type": "markdown",
   "metadata": {},
   "source": [
    "#### Bottom-up Dynamic Programming "
   ]
  },
  {
   "cell_type": "code",
   "execution_count": 10,
   "metadata": {},
   "outputs": [
    {
     "name": "stdout",
     "output_type": "stream",
     "text": [
      "Can partition: True\n",
      "Can partition: True\n",
      "Can partition: False\n"
     ]
    }
   ],
   "source": [
    "def can_partition(num, sum):\n",
    "    n = len(num)\n",
    "    dp = [[False for x in range(sum+1)] for y in range(n)]\n",
    "\n",
    "    # populate the sum = 0 columns, as we can always form '0' sum with an empty set\n",
    "    for i in range(0, n):\n",
    "        dp[i][0] = True\n",
    "\n",
    "    # with only one number, we can form a subset only when the required sum is\n",
    "    # equal to its value\n",
    "    for s in range(1, sum+1):\n",
    "        dp[0][s] = True if num[0] == s else False\n",
    "\n",
    "    # process all subsets for all sums\n",
    "    for i in range(1, n):\n",
    "        for s in range(1, sum+1):\n",
    "            # if we can get the sum 's' without the number at index 'i'\n",
    "            if dp[i - 1][s]:\n",
    "                dp[i][s] = dp[i - 1][s]\n",
    "            elif s >= num[i]:\n",
    "                # else include the number and see if we can find a subset to get the remaining sum\n",
    "                dp[i][s] = dp[i - 1][s - num[i]]\n",
    "\n",
    "    # the bottom-right corner will have our answer.\n",
    "    return dp[n - 1][sum]\n",
    "\n",
    "\n",
    "def main():\n",
    "    print(\"Can partition: \" + str(can_partition([1, 2, 3, 7], 6)))\n",
    "    print(\"Can partition: \" + str(can_partition([1, 2, 7, 1, 5], 10)))\n",
    "    print(\"Can partition: \" + str(can_partition([1, 3, 4, 8], 6)))\n",
    "\n",
    "\n",
    "main()"
   ]
  },
  {
   "cell_type": "markdown",
   "metadata": {},
   "source": [
    "#### Challenge"
   ]
  },
  {
   "cell_type": "markdown",
   "metadata": {},
   "source": [
    "Can we further improve our bottom-up DP solution? Can you find an algorithm that has $O(S)$ space complexity?"
   ]
  },
  {
   "cell_type": "code",
   "execution_count": 11,
   "metadata": {},
   "outputs": [
    {
     "name": "stdout",
     "output_type": "stream",
     "text": [
      "Can partition: True\n",
      "Can partition: True\n",
      "Can partition: False\n"
     ]
    }
   ],
   "source": [
    "def can_partition(num, sum):\n",
    "    n = len(num)\n",
    "    dp = [False for x in range(sum+1)]\n",
    "\n",
    "    # handle sum=0, as we can always have '0' sum with an empty set\n",
    "    dp[0] = True\n",
    "\n",
    "    # with only one number, we can have a subset only when the required sum is equal to its value\n",
    "    for s in range(1, sum+1):\n",
    "        dp[s] = num[0] == s\n",
    "\n",
    "    # process all subsets for all sums\n",
    "    for i in range(1, n):\n",
    "        for s in range(sum, -1, -1):\n",
    "            # if dp[s]==true, this means we can get the sum 's' without num[i], hence we can move on to\n",
    "            # the next number else we can include num[i] and see if we can find a subset to get the\n",
    "            # remaining sum\n",
    "            if not dp[s] and s >= num[i]:\n",
    "                dp[s] = dp[s - num[i]]\n",
    "\n",
    "    return dp[sum]\n",
    "\n",
    "\n",
    "def main():\n",
    "    print(\"Can partition: \" + str(can_partition([1, 2, 3, 7], 6)))\n",
    "    print(\"Can partition: \" + str(can_partition([1, 2, 7, 1, 5], 10)))\n",
    "    print(\"Can partition: \" + str(can_partition([1, 3, 4, 8], 6)))\n",
    "\n",
    "\n",
    "main()"
   ]
  },
  {
   "cell_type": "markdown",
   "metadata": {},
   "source": [
    "### Minimum Subset Sum Difference"
   ]
  },
  {
   "cell_type": "markdown",
   "metadata": {},
   "source": [
    "Given a set of positive numbers, partition the set into two subsets with a minimum difference between their subset sums."
   ]
  },
  {
   "cell_type": "markdown",
   "metadata": {},
   "source": [
    "#### Basic Solution"
   ]
  },
  {
   "cell_type": "code",
   "execution_count": 12,
   "metadata": {},
   "outputs": [
    {
     "name": "stdout",
     "output_type": "stream",
     "text": [
      "Can partition: 3\n",
      "Can partition: 0\n",
      "Can partition: 92\n"
     ]
    }
   ],
   "source": [
    "def can_partition(num):\n",
    "    return can_partition_recursive(num, 0, 0, 0)\n",
    "\n",
    "\n",
    "def can_partition_recursive(num, currentIndex, sum1, sum2):\n",
    "    # base check\n",
    "    if currentIndex == len(num):\n",
    "        return abs(sum1 - sum2)\n",
    "\n",
    "    # recursive call after including the number at the currentIndex in the first set\n",
    "    diff1 = can_partition_recursive(\n",
    "        num, currentIndex + 1, sum1 + num[currentIndex], sum2)\n",
    "\n",
    "    # recursive call after including the number at the currentIndex in the second set\n",
    "    diff2 = can_partition_recursive(\n",
    "        num, currentIndex + 1, sum1, sum2 + num[currentIndex])\n",
    "\n",
    "    return min(diff1, diff2)\n",
    "\n",
    "\n",
    "def main():\n",
    "    print(\"Can partition: \" + str(can_partition([1, 2, 3, 9])))\n",
    "    print(\"Can partition: \" + str(can_partition([1, 2, 7, 1, 5])))\n",
    "    print(\"Can partition: \" + str(can_partition([1, 3, 100, 4])))\n",
    "\n",
    "\n",
    "main()"
   ]
  },
  {
   "cell_type": "markdown",
   "metadata": {},
   "source": [
    "#### Top-down Dynamic Programming with Memoization"
   ]
  },
  {
   "cell_type": "code",
   "execution_count": 13,
   "metadata": {},
   "outputs": [
    {
     "name": "stdout",
     "output_type": "stream",
     "text": [
      "Can partition: 3\n",
      "Can partition: 0\n",
      "Can partition: 92\n"
     ]
    }
   ],
   "source": [
    "def can_partition(num):\n",
    "    s = sum(num)\n",
    "    dp = [[-1 for x in range(s+1)] for y in range(len(num))]\n",
    "    return can_partition_recursive(dp, num, 0, 0, 0)\n",
    "\n",
    "\n",
    "def can_partition_recursive(dp, num, currentIndex, sum1, sum2):\n",
    "    # base check\n",
    "    if currentIndex == len(num):\n",
    "        return abs(sum1 - sum2)\n",
    "\n",
    "    # check if we have not already processed similar problem\n",
    "    if dp[currentIndex][sum1] == -1:\n",
    "        # recursive call after including the number at the currentIndex in the first set\n",
    "        diff1 = can_partition_recursive(\n",
    "            dp, num, currentIndex + 1, sum1 + num[currentIndex], sum2)\n",
    "\n",
    "        # recursive call after including the number at the currentIndex in the second set\n",
    "        diff2 = can_partition_recursive(\n",
    "            dp, num, currentIndex + 1, sum1, sum2 + num[currentIndex])\n",
    "\n",
    "        dp[currentIndex][sum1] = min(diff1, diff2)\n",
    "\n",
    "    return dp[currentIndex][sum1]\n",
    "\n",
    "\n",
    "def main():\n",
    "    print(\"Can partition: \" + str(can_partition([1, 2, 3, 9])))\n",
    "    print(\"Can partition: \" + str(can_partition([1, 2, 7, 1, 5])))\n",
    "    print(\"Can partition: \" + str(can_partition([1, 3, 100, 4])))\n",
    "\n",
    "\n",
    "main()"
   ]
  },
  {
   "cell_type": "markdown",
   "metadata": {},
   "source": [
    "#### Bottom-up Dynamic Programming"
   ]
  },
  {
   "cell_type": "code",
   "execution_count": 14,
   "metadata": {},
   "outputs": [
    {
     "name": "stdout",
     "output_type": "stream",
     "text": [
      "Can partition: 3\n",
      "Can partition: 0\n",
      "Can partition: 92\n"
     ]
    }
   ],
   "source": [
    "def can_partition(num):\n",
    "    s = sum(num)\n",
    "    n = len(num)\n",
    "    dp = [[False for x in range(int(s/2)+1)] for y in range(n)]\n",
    "\n",
    "    # populate the s=0 columns, as we can always form '0' sum with an empty set\n",
    "    for i in range(0, n):\n",
    "        dp[i][0] = True\n",
    "\n",
    "    # with only one number, we can form a subset only when the required sum is equal to that number\n",
    "    for j in range(0, int(s/2)+1):\n",
    "        dp[0][j] = num[0] == j\n",
    "\n",
    "    # process all subsets for all sums\n",
    "    for i in range(1, n):\n",
    "        for j in range(1, int(s/2)+1):\n",
    "            # if we can get the sum 's' without the number at index 'i'\n",
    "            if dp[i - 1][j]:\n",
    "                dp[i][j] = dp[i - 1][j]\n",
    "            elif j >= num[i]:\n",
    "                # else include the number and see if we can find a subset to get the remaining sum\n",
    "                dp[i][j] = dp[i - 1][j - num[i]]\n",
    "\n",
    "    sum1 = 0\n",
    "    # find the largest index in the last row which is true\n",
    "    for i in range(int(s/2), -1, -1):\n",
    "        if dp[n - 1][i]:\n",
    "            sum1 = i\n",
    "            break\n",
    "\n",
    "    sum2 = s - sum1\n",
    "    return abs(sum2 - sum1)\n",
    "\n",
    "\n",
    "def main():\n",
    "    print(\"Can partition: \" + str(can_partition([1, 2, 3, 9])))\n",
    "    print(\"Can partition: \" + str(can_partition([1, 2, 7, 1, 5])))\n",
    "    print(\"Can partition: \" + str(can_partition([1, 3, 100, 4])))\n",
    "\n",
    "\n",
    "main()"
   ]
  },
  {
   "cell_type": "markdown",
   "metadata": {},
   "source": [
    "### Count of Subset Sum"
   ]
  },
  {
   "cell_type": "markdown",
   "metadata": {},
   "source": [
    "Given a set of positive numbers, find the total number of subsets whose sum is equal to a given number ‘S’."
   ]
  },
  {
   "cell_type": "markdown",
   "metadata": {},
   "source": [
    "#### Basic Solution"
   ]
  },
  {
   "cell_type": "code",
   "execution_count": 1,
   "metadata": {},
   "outputs": [
    {
     "name": "stdout",
     "output_type": "stream",
     "text": [
      "Total number of subsets 3\n",
      "Total number of subsets: 3\n"
     ]
    }
   ],
   "source": [
    "def count_subsets(num, sum):\n",
    "    return count_subsets_recursive(num, sum, 0)\n",
    "\n",
    "\n",
    "def count_subsets_recursive(num, sum, currentIndex):\n",
    "    # base checks\n",
    "    if sum == 0:\n",
    "        return 1\n",
    "    n = len(num)\n",
    "    if n == 0 or currentIndex >= n:\n",
    "        return 0\n",
    "\n",
    "    # recursive call after selecting the number at the currentIndex\n",
    "    # if the number at currentIndex exceeds the sum, we shouldn't process this\n",
    "    sum1 = 0\n",
    "    if num[currentIndex] <= sum:\n",
    "        sum1 = count_subsets_recursive(\n",
    "            num, sum - num[currentIndex], currentIndex + 1)\n",
    "\n",
    "    # recursive call after excluding the number at the currentIndex\n",
    "    sum2 = count_subsets_recursive(num, sum, currentIndex + 1)\n",
    "\n",
    "    return sum1 + sum2\n",
    "\n",
    "\n",
    "def main():\n",
    "    print(\"Total number of subsets \" + str(count_subsets([1, 1, 2, 3], 4)))\n",
    "    print(\"Total number of subsets: \" + str(count_subsets([1, 2, 7, 1, 5], 9)))\n",
    "\n",
    "\n",
    "main()"
   ]
  },
  {
   "cell_type": "markdown",
   "metadata": {},
   "source": [
    "#### Top-down Dynamic Programming with Memoization"
   ]
  },
  {
   "cell_type": "code",
   "execution_count": 2,
   "metadata": {},
   "outputs": [
    {
     "name": "stdout",
     "output_type": "stream",
     "text": [
      "Total number of subsets 3\n",
      "Total number of subsets: 3\n"
     ]
    }
   ],
   "source": [
    "def count_subsets(num, sum):\n",
    "    # create a two dimensional array for Memoization, each element is initialized to '-1'\n",
    "    dp = [[-1 for x in range(sum+1)] for y in range(len(num))]\n",
    "    return count_subsets_recursive(dp, num, sum, 0)\n",
    "\n",
    "\n",
    "def count_subsets_recursive(dp, num, sum, currentIndex):\n",
    "    # base checks\n",
    "    if sum == 0:\n",
    "        return 1\n",
    "\n",
    "    n = len(num)\n",
    "    if n == 0 or currentIndex >= n:\n",
    "        return 0\n",
    "\n",
    "    # check if we have not already processed a similar problem\n",
    "    if dp[currentIndex][sum] == -1:\n",
    "        # recursive call after choosing the number at the currentIndex\n",
    "        # if the number at currentIndex exceeds the sum, we shouldn't process this\n",
    "        sum1 = 0\n",
    "        if num[currentIndex] <= sum:\n",
    "            sum1 = count_subsets_recursive(\n",
    "                dp, num, sum - num[currentIndex], currentIndex + 1)\n",
    "\n",
    "        # recursive call after excluding the number at the currentIndex\n",
    "        sum2 = count_subsets_recursive(dp, num, sum, currentIndex + 1)\n",
    "\n",
    "        dp[currentIndex][sum] = sum1 + sum2\n",
    "\n",
    "    return dp[currentIndex][sum]\n",
    "\n",
    "\n",
    "def main():\n",
    "    print(\"Total number of subsets \" + str(count_subsets([1, 1, 2, 3], 4)))\n",
    "    print(\"Total number of subsets: \" + str(count_subsets([1, 2, 7, 1, 5], 9)))\n",
    "\n",
    "\n",
    "main()"
   ]
  },
  {
   "cell_type": "markdown",
   "metadata": {},
   "source": [
    "#### Bottom-up Dynamic Programming"
   ]
  },
  {
   "cell_type": "code",
   "execution_count": 3,
   "metadata": {},
   "outputs": [
    {
     "name": "stdout",
     "output_type": "stream",
     "text": [
      "Total number of subsets 3\n",
      "Total number of subsets: 3\n"
     ]
    }
   ],
   "source": [
    "def count_subsets(num, sum):\n",
    "    n = len(num)\n",
    "    dp = [[-1 for x in range(sum+1)] for y in range(n)]\n",
    "\n",
    "    # populate the sum = 0 columns, as we will always have an empty set for zero sum\n",
    "    for i in range(0, n):\n",
    "        dp[i][0] = 1\n",
    "\n",
    "    # with only one number, we can form a subset only when the required sum is\n",
    "    # equal to its value\n",
    "    for s in range(1, sum+1):\n",
    "        dp[0][s] = 1 if num[0] == s else 0\n",
    "\n",
    "    # process all subsets for all sums\n",
    "    for i in range(1, n):\n",
    "        for s in range(1, sum+1):\n",
    "            # exclude the number\n",
    "            dp[i][s] = dp[i - 1][s]\n",
    "            # include the number, if it does not exceed the sum\n",
    "            if s >= num[i]:\n",
    "                dp[i][s] += dp[i - 1][s - num[i]]\n",
    "\n",
    "    # the bottom-right corner will have our answer.\n",
    "    return dp[n - 1][sum]\n",
    "\n",
    "\n",
    "def main():\n",
    "    print(\"Total number of subsets \" + str(count_subsets([1, 1, 2, 3], 4)))\n",
    "    print(\"Total number of subsets: \" + str(count_subsets([1, 2, 7, 1, 5], 9)))\n",
    "\n",
    "\n",
    "main()"
   ]
  },
  {
   "cell_type": "markdown",
   "metadata": {},
   "source": [
    "#### Challenge"
   ]
  },
  {
   "cell_type": "markdown",
   "metadata": {},
   "source": [
    "Can we further improve our bottom-up DP solution? Can you find an algorithm that has $O(S)$ space complexity?"
   ]
  },
  {
   "cell_type": "code",
   "execution_count": 4,
   "metadata": {},
   "outputs": [
    {
     "name": "stdout",
     "output_type": "stream",
     "text": [
      "Total number of subsets 3\n",
      "Total number of subsets: 3\n"
     ]
    }
   ],
   "source": [
    "def count_subsets(num, sum):\n",
    "    n = len(num)\n",
    "    dp = [0 for x in range(sum+1)]\n",
    "    dp[0] = 1\n",
    "\n",
    "    # with only one number, we can form a subset only when the required sum is equal to the number\n",
    "    for s in range(1, sum+1):\n",
    "        dp[s] = 1 if num[0] == s else 0\n",
    "\n",
    "    # process all subsets for all sums\n",
    "    for i in range(1, n):\n",
    "        for s in range(sum, -1, -1):\n",
    "            if s >= num[i]:\n",
    "                dp[s] += dp[s - num[i]]\n",
    "\n",
    "    return dp[sum]\n",
    "\n",
    "\n",
    "def main():\n",
    "    print(\"Total number of subsets \" + str(count_subsets([1, 1, 2, 3], 4)))\n",
    "    print(\"Total number of subsets: \" + str(count_subsets([1, 2, 7, 1, 5], 9)))\n",
    "\n",
    "\n",
    "main()"
   ]
  },
  {
   "cell_type": "markdown",
   "metadata": {},
   "source": [
    "### Target Sum"
   ]
  },
  {
   "cell_type": "markdown",
   "metadata": {},
   "source": [
    "Given a set of positive numbers (non zero) and a target sum ‘S’. Each number should be assigned either a ‘+’ or ‘-’ sign. We need to find out total ways to assign symbols to make the sum of numbers equal to target ‘S’."
   ]
  },
  {
   "cell_type": "markdown",
   "metadata": {},
   "source": [
    "#### Solution"
   ]
  },
  {
   "cell_type": "code",
   "execution_count": 5,
   "metadata": {},
   "outputs": [
    {
     "name": "stdout",
     "output_type": "stream",
     "text": [
      "Total ways: 3\n",
      "Total ways: 2\n"
     ]
    }
   ],
   "source": [
    "def find_target_subsets(num, s):\n",
    "    totalSum = sum(num)\n",
    "\n",
    "    # if 's + totalSum' is odd, we can't find a subset with sum equal to '(s + totalSum) / 2'\n",
    "    if totalSum < s or (s + totalSum) % 2 == 1:\n",
    "        return 0\n",
    "\n",
    "    return count_subsets(num, int((s + totalSum) / 2))\n",
    "\n",
    "\n",
    "# this function is exactly similar to what we have in 'Count of Subset Sum' problem.\n",
    "def count_subsets(num, s):\n",
    "    n = len(num)\n",
    "    dp = [[0 for x in range(s+1)] for y in range(n)]\n",
    "\n",
    "    # populate the sum = 0 columns, as we will always have an empty set for zero sum\n",
    "    for i in range(0, n):\n",
    "        dp[i][0] = 1\n",
    "\n",
    "    # with only one number, we can form a subset only when the required sum is\n",
    "    # equal to the number\n",
    "    for s in range(1, s+1):\n",
    "        dp[0][s] = 1 if num[0] == s else 0\n",
    "\n",
    "    # process all subsets for all sums\n",
    "    for i in range(1, n):\n",
    "        for s in range(1, s+1):\n",
    "            dp[i][s] = dp[i - 1][s]\n",
    "            if s >= num[i]:\n",
    "                dp[i][s] += dp[i - 1][s - num[i]]\n",
    "\n",
    "    # the bottom-right corner will have our answer.\n",
    "    return dp[n - 1][s]\n",
    "\n",
    "\n",
    "def main():\n",
    "    print(\"Total ways: \" + str(find_target_subsets([1, 1, 2, 3], 1)))\n",
    "    print(\"Total ways: \" + str(find_target_subsets([1, 2, 7, 1], 9)))\n",
    "\n",
    "\n",
    "main()"
   ]
  },
  {
   "cell_type": "markdown",
   "metadata": {},
   "source": [
    "#### Space Optimized Solution"
   ]
  },
  {
   "cell_type": "code",
   "execution_count": 6,
   "metadata": {},
   "outputs": [
    {
     "name": "stdout",
     "output_type": "stream",
     "text": [
      "Total ways: 3\n",
      "Total ways: 2\n"
     ]
    }
   ],
   "source": [
    "def find_target_subsets(num, s):\n",
    "    totalSum = sum(num)\n",
    "\n",
    "    # if 's + totalSum' is odd, we can't find a subset with sum equal to '(s +totalSum) / 2'\n",
    "    if totalSum < s or (s + totalSum) % 2 == 1:\n",
    "        return 0\n",
    "\n",
    "    return count_subsets(num, int((s + totalSum) / 2))\n",
    "\n",
    "\n",
    "# this function is exactly similar to what we have in 'Count of Subset Sum' problem\n",
    "def count_subsets(num, sum):\n",
    "    n = len(num)\n",
    "    dp = [0 for x in range(sum+1)]\n",
    "    dp[0] = 1\n",
    "\n",
    "    # with only one number, we can form a subset only when the required sum is equal to the number\n",
    "    for s in range(1, sum+1):\n",
    "        dp[s] = 1 if num[0] == s else 0\n",
    "\n",
    "    # process all subsets for all sums\n",
    "    for i in range(1, n):\n",
    "        for s in range(sum, -1, -1):\n",
    "            if s >= num[i]:\n",
    "                dp[s] += dp[s - num[i]]\n",
    "\n",
    "    return dp[sum]\n",
    "\n",
    "\n",
    "def main():\n",
    "    print(\"Total ways: \" + str(find_target_subsets([1, 1, 2, 3], 1)))\n",
    "    print(\"Total ways: \" + str(find_target_subsets([1, 2, 7, 1], 9)))\n",
    "\n",
    "\n",
    "main()"
   ]
  },
  {
   "cell_type": "markdown",
   "metadata": {},
   "source": [
    "## Unbounded Knapsack"
   ]
  },
  {
   "cell_type": "markdown",
   "metadata": {},
   "source": [
    "### Unbounded Knapsack"
   ]
  },
  {
   "cell_type": "markdown",
   "metadata": {},
   "source": [
    "Given two integer arrays to represent weights and profits of ‘N’ items, we need to find a subset of these items which will give us maximum profit such that their cumulative weight is not more than a given number ‘C’. We can assume an infinite supply of item quantities; therefore, each item can be selected multiple times."
   ]
  },
  {
   "cell_type": "markdown",
   "metadata": {},
   "source": [
    "#### Basic Solution"
   ]
  },
  {
   "cell_type": "code",
   "execution_count": 7,
   "metadata": {},
   "outputs": [
    {
     "name": "stdout",
     "output_type": "stream",
     "text": [
      "140\n",
      "105\n"
     ]
    }
   ],
   "source": [
    "def solve_knapsack(profits, weights, capacity):\n",
    "    return solve_knapsack_recursive(profits, weights, capacity, 0)\n",
    "\n",
    "\n",
    "def solve_knapsack_recursive(profits, weights, capacity, currentIndex):\n",
    "    n = len(profits)\n",
    "    # base checks\n",
    "    if capacity <= 0 or n == 0 or len(weights) != n or currentIndex >= n:\n",
    "        return 0\n",
    "\n",
    "    # recursive call after choosing the items at the currentIndex, note that we recursive call on all\n",
    "    # items as we did not increment currentIndex\n",
    "    profit1 = 0\n",
    "    if weights[currentIndex] <= capacity:\n",
    "        profit1 = profits[currentIndex] + solve_knapsack_recursive(\n",
    "            profits, weights, capacity - weights[currentIndex], currentIndex)\n",
    "\n",
    "    # recursive call after excluding the element at the currentIndex\n",
    "    profit2 = solve_knapsack_recursive(\n",
    "        profits, weights, capacity, currentIndex + 1)\n",
    "\n",
    "    return max(profit1, profit2)\n",
    "\n",
    "\n",
    "def main():\n",
    "    print(solve_knapsack([15, 50, 60, 90], [1, 3, 4, 5], 8))\n",
    "    print(solve_knapsack([15, 50, 60, 90], [1, 3, 4, 5], 6))\n",
    "\n",
    "\n",
    "main()"
   ]
  },
  {
   "cell_type": "markdown",
   "metadata": {},
   "source": [
    "#### Top-down Dynamic Programming with Memoization"
   ]
  },
  {
   "cell_type": "code",
   "execution_count": 8,
   "metadata": {},
   "outputs": [
    {
     "name": "stdout",
     "output_type": "stream",
     "text": [
      "140\n",
      "105\n"
     ]
    }
   ],
   "source": [
    "def solve_knapsack(profits, weights, capacity):\n",
    "    dp = [[-1 for _ in range(capacity+1)] for _ in range(len(profits))]\n",
    "    return solve_knapsack_recursive(dp, profits, weights, capacity, 0)\n",
    "\n",
    "\n",
    "def solve_knapsack_recursive(dp, profits, weights, capacity, currentIndex):\n",
    "    n = len(profits)\n",
    "    # base checks\n",
    "    if capacity <= 0 or n == 0 or len(weights) != n or currentIndex >= n:\n",
    "        return 0\n",
    "\n",
    "    # check if we have not already processed a similar sub-problem\n",
    "    if dp[currentIndex][capacity] == -1:\n",
    "        # recursive call after choosing the items at the currentIndex, note that we\n",
    "        # recursive call on all items as we did not increment currentIndex\n",
    "        profit1 = 0\n",
    "        if weights[currentIndex] <= capacity:\n",
    "            profit1 = profits[currentIndex] + solve_knapsack_recursive(\n",
    "                dp, profits, weights, capacity - weights[currentIndex], currentIndex)\n",
    "\n",
    "        # recursive call after excluding the element at the currentIndex\n",
    "        profit2 = solve_knapsack_recursive(\n",
    "            dp, profits, weights, capacity, currentIndex + 1)\n",
    "\n",
    "        dp[currentIndex][capacity] = max(profit1, profit2)\n",
    "\n",
    "    return dp[currentIndex][capacity]\n",
    "\n",
    "\n",
    "def main():\n",
    "    print(solve_knapsack([15, 50, 60, 90], [1, 3, 4, 5], 8))\n",
    "    print(solve_knapsack([15, 50, 60, 90], [1, 3, 4, 5], 6))\n",
    "\n",
    "\n",
    "main()"
   ]
  },
  {
   "cell_type": "markdown",
   "metadata": {},
   "source": [
    "#### Bottom-up Dynamic Programming"
   ]
  },
  {
   "cell_type": "code",
   "execution_count": 9,
   "metadata": {},
   "outputs": [
    {
     "name": "stdout",
     "output_type": "stream",
     "text": [
      "140\n",
      "105\n"
     ]
    }
   ],
   "source": [
    "def solve_knapsack(profits, weights, capacity):\n",
    "    n = len(profits)\n",
    "    # base checks\n",
    "    if capacity <= 0 or n == 0 or len(weights) != n:\n",
    "        return 0\n",
    "\n",
    "    dp = [[-1 for _ in range(capacity+1)] for _ in range(len(profits))]\n",
    "\n",
    "    # populate the capacity=0 columns\n",
    "    for i in range(n):\n",
    "        dp[i][0] = 0\n",
    "\n",
    "    # process all sub-arrays for all capacities\n",
    "    for i in range(n):\n",
    "        for c in range(1, capacity+1):\n",
    "            profit1, profit2 = 0, 0\n",
    "            if weights[i] <= c:\n",
    "                profit1 = profits[i] + dp[i][c - weights[i]]\n",
    "            if i > 0:\n",
    "                profit2 = dp[i - 1][c]\n",
    "            dp[i][c] = profit1 if profit1 > profit2 else profit2\n",
    "\n",
    "    # maximum profit will be in the bottom-right corner.\n",
    "    return dp[n - 1][capacity]\n",
    "\n",
    "\n",
    "def main():\n",
    "    print(solve_knapsack([15, 50, 60, 90], [1, 3, 4, 5], 8))\n",
    "    print(solve_knapsack([15, 50, 60, 90], [1, 3, 4, 5], 6))\n",
    "\n",
    "\n",
    "main()"
   ]
  },
  {
   "cell_type": "markdown",
   "metadata": {},
   "source": [
    "### Rod Cutting"
   ]
  },
  {
   "cell_type": "markdown",
   "metadata": {},
   "source": [
    "Given a rod of length ‘n’, we are asked to cut the rod and sell the pieces in a way that will maximize the profit. We are also given the price of every piece of length ‘i’ where ‘1 <= i <= n’."
   ]
  },
  {
   "cell_type": "code",
   "execution_count": 1,
   "metadata": {},
   "outputs": [
    {
     "name": "stdout",
     "output_type": "stream",
     "text": [
      "14\n"
     ]
    }
   ],
   "source": [
    "def solve_rod_cutting(lengths, prices, n):\n",
    "    lengthCount = len(lengths)\n",
    "    # base checks\n",
    "    if n <= 0 or lengthCount == 0 or len(prices) != lengthCount:\n",
    "        return 0\n",
    "\n",
    "    dp = [[0 for _ in range(n+1)] for _ in range(lengthCount)]\n",
    "\n",
    "    # process all rod lengths for all prices\n",
    "    for i in range(lengthCount):\n",
    "        for length in range(1, n+1):\n",
    "            p1, p2 = 0, 0\n",
    "            if lengths[i] <= length:\n",
    "                p1 = prices[i] + dp[i][length - lengths[i]]\n",
    "            if i > 0:\n",
    "                p2 = dp[i - 1][length]\n",
    "            dp[i][length] = max(p1, p2)\n",
    "\n",
    "    # maximum price will be at the bottom-right corner.\n",
    "    return dp[lengthCount - 1][n]\n",
    "\n",
    "\n",
    "def main():\n",
    "    print(solve_rod_cutting([1, 2, 3, 4, 5], [2, 6, 7, 10, 13], 5))\n",
    "\n",
    "\n",
    "main()"
   ]
  },
  {
   "cell_type": "markdown",
   "metadata": {},
   "source": [
    "### Minimum Coin Change"
   ]
  },
  {
   "cell_type": "markdown",
   "metadata": {},
   "source": [
    "Given a number array to represent different coin denominations and a total amount ‘T’, we need to find the minimum number of coins needed to make change for ‘T’. We can assume an infinite supply of coins, therefore, each coin can be chosen multiple times.\n",
    "\n",
    "This problem follows the Unbounded Knapsack pattern."
   ]
  },
  {
   "cell_type": "markdown",
   "metadata": {},
   "source": [
    "#### Basic Solution"
   ]
  },
  {
   "cell_type": "code",
   "execution_count": 2,
   "metadata": {},
   "outputs": [
    {
     "name": "stdout",
     "output_type": "stream",
     "text": [
      "2\n",
      "4\n",
      "3\n",
      "-1\n"
     ]
    }
   ],
   "source": [
    "import math\n",
    "\n",
    "\n",
    "def count_change(denominations, total):\n",
    "    result = count_change_recursive(denominations, total, 0)\n",
    "    return -1 if result == math.inf else result\n",
    "\n",
    "\n",
    "def count_change_recursive(denominations, total, currentIndex):\n",
    "    # base check\n",
    "    if total == 0:\n",
    "        return 0\n",
    "\n",
    "    n = len(denominations)\n",
    "    if n == 0 or currentIndex >= n:\n",
    "        return math.inf\n",
    "\n",
    "    # recursive call after selecting the coin at the currentIndex\n",
    "    # if the coin at currentIndex exceeds the total, we shouldn't process this\n",
    "    count1 = math.inf\n",
    "    if denominations[currentIndex] <= total:\n",
    "        res = count_change_recursive(\n",
    "            denominations, total - denominations[currentIndex], currentIndex)\n",
    "        if res != math.inf:\n",
    "            count1 = res + 1\n",
    "\n",
    "    # recursive call after excluding the coin at the currentIndex\n",
    "    count2 = count_change_recursive(denominations, total, currentIndex + 1)\n",
    "\n",
    "    return min(count1, count2)\n",
    "\n",
    "\n",
    "def main():\n",
    "    print(count_change([1, 2, 3], 5))\n",
    "    print(count_change([1, 2, 3], 11))\n",
    "    print(count_change([1, 2, 3], 7))\n",
    "    print(count_change([3, 5], 7))\n",
    "\n",
    "\n",
    "main()"
   ]
  },
  {
   "cell_type": "markdown",
   "metadata": {},
   "source": [
    "#### Top-down Dynamic Programming with Memoization"
   ]
  },
  {
   "cell_type": "code",
   "execution_count": 3,
   "metadata": {},
   "outputs": [
    {
     "name": "stdout",
     "output_type": "stream",
     "text": [
      "2\n",
      "4\n",
      "3\n",
      "-1\n"
     ]
    }
   ],
   "source": [
    "import math\n",
    "\n",
    "\n",
    "def count_change(denominations, total):\n",
    "    dp = [[-1 for _ in range(total+1)] for _ in range(len(denominations))]\n",
    "    result = count_change_recursive(dp, denominations, total, 0)\n",
    "    return -1 if result == math.inf else result\n",
    "\n",
    "\n",
    "def count_change_recursive(dp, denominations, total, currentIndex):\n",
    "    # base check\n",
    "    if total == 0:\n",
    "        return 0\n",
    "    n = len(denominations)\n",
    "    if n == 0 or currentIndex >= n:\n",
    "        return math.inf\n",
    "\n",
    "    # check if we have not already processed a similar sub-problem\n",
    "    if dp[currentIndex][total] == -1:\n",
    "        # recursive call after selecting the coin at the currentIndex\n",
    "        # if the coin at currentIndex exceeds the total, we shouldn't process this\n",
    "        count1 = math.inf\n",
    "        if denominations[currentIndex] <= total:\n",
    "            res = count_change_recursive(\n",
    "                dp, denominations, total - denominations[currentIndex], currentIndex)\n",
    "            if res != math.inf:\n",
    "                count1 = res + 1\n",
    "\n",
    "        # recursive call after excluding the coin at the currentIndex\n",
    "        count2 = count_change_recursive(\n",
    "            dp, denominations, total, currentIndex + 1)\n",
    "        dp[currentIndex][total] = min(count1, count2)\n",
    "\n",
    "    return dp[currentIndex][total]\n",
    "\n",
    "\n",
    "def main():\n",
    "    print(count_change([1, 2, 3], 5))\n",
    "    print(count_change([1, 2, 3], 11))\n",
    "    print(count_change([1, 2, 3], 7))\n",
    "    print(count_change([3, 5], 7))\n",
    "\n",
    "\n",
    "main()"
   ]
  },
  {
   "cell_type": "markdown",
   "metadata": {},
   "source": [
    "#### Bottom-up Dynamic Programming"
   ]
  },
  {
   "cell_type": "code",
   "execution_count": 4,
   "metadata": {},
   "outputs": [
    {
     "name": "stdout",
     "output_type": "stream",
     "text": [
      "2\n",
      "4\n",
      "3\n",
      "-1\n"
     ]
    }
   ],
   "source": [
    "import math\n",
    "\n",
    "\n",
    "def count_change(denominations, total):\n",
    "    n = len(denominations)\n",
    "    dp = [[math.inf for _ in range(total+1)] for _ in range(n)]\n",
    "\n",
    "    # populate the total=0 columns, as we don't need any coin to make zero total\n",
    "    for i in range(n):\n",
    "        dp[i][0] = 0\n",
    "\n",
    "    for i in range(n):\n",
    "        for t in range(1, total+1):\n",
    "            if i > 0:\n",
    "                dp[i][t] = dp[i - 1][t]    # exclude the coin\n",
    "            if t >= denominations[i]:\n",
    "                if dp[i][t - denominations[i]] != math.inf:\n",
    "                    # include the coin\n",
    "                    dp[i][t] = min(dp[i][t], dp[i][t - denominations[i]] + 1)\n",
    "\n",
    "    # total combinations will be at the bottom-right corner.\n",
    "    return -1 if dp[n - 1][total] == math.inf else dp[n - 1][total]\n",
    "\n",
    "\n",
    "def main():\n",
    "    print(count_change([1, 2, 3], 5))\n",
    "    print(count_change([1, 2, 3], 11))\n",
    "    print(count_change([1, 2, 3], 7))\n",
    "    print(count_change([3, 5], 7))\n",
    "\n",
    "\n",
    "main()"
   ]
  },
  {
   "cell_type": "markdown",
   "metadata": {},
   "source": [
    "### Maximum Ribbon Cut"
   ]
  },
  {
   "cell_type": "markdown",
   "metadata": {},
   "source": [
    "Given a number array to represent possible ribbon lengths and a total ribbon length ‘n’, we need to find the maximum number of pieces that the ribbon can be cut into.\n",
    "\n",
    "This problem follows the Unbounded Knapsack pattern and is quite similar to Minimum Coin Change (MCC). The only difference is that in MCC we were asked to find the minimum number of coin changes, whereas in this problem we need to find the maximum number of pieces."
   ]
  },
  {
   "cell_type": "markdown",
   "metadata": {},
   "source": [
    "#### Basic Solution"
   ]
  },
  {
   "cell_type": "code",
   "execution_count": 5,
   "metadata": {
    "scrolled": true
   },
   "outputs": [
    {
     "name": "stdout",
     "output_type": "stream",
     "text": [
      "2\n",
      "3\n",
      "3\n",
      "-1\n"
     ]
    }
   ],
   "source": [
    "import math\n",
    "\n",
    "\n",
    "def count_ribbon_pieces(ribbonLengths, total):\n",
    "    maxPieces = count_ribbon_pieces_recursive(ribbonLengths, total, 0)\n",
    "    return -1 if maxPieces == -math.inf else maxPieces\n",
    "\n",
    "\n",
    "def count_ribbon_pieces_recursive(ribbonLengths, total, currentIndex):\n",
    "    # base check\n",
    "    if total == 0:\n",
    "        return 0\n",
    "\n",
    "    n = len(ribbonLengths)\n",
    "    if n == 0 or currentIndex >= n:\n",
    "        return -math.inf\n",
    "\n",
    "    # recursive call after selecting the ribbon length at the currentIndex\n",
    "    # if the ribbon length at the currentIndex exceeds the total, we shouldn't process this\n",
    "    c1 = -math.inf\n",
    "    if ribbonLengths[currentIndex] <= total:\n",
    "        result = count_ribbon_pieces_recursive(\n",
    "            ribbonLengths, total - ribbonLengths[currentIndex], currentIndex)\n",
    "        if result != -math.inf:\n",
    "            c1 = result + 1\n",
    "\n",
    "    # recursive call after excluding the ribbon length at the currentIndex\n",
    "    c2 = count_ribbon_pieces_recursive(ribbonLengths, total, currentIndex + 1)\n",
    "    return max(c1, c2)\n",
    "\n",
    "\n",
    "def main():\n",
    "    print(count_ribbon_pieces([2, 3, 5], 5))\n",
    "    print(count_ribbon_pieces([2, 3], 7))\n",
    "    print(count_ribbon_pieces([3, 5, 7], 13))\n",
    "    print(count_ribbon_pieces([3, 5], 7))\n",
    "\n",
    "\n",
    "main()"
   ]
  },
  {
   "cell_type": "markdown",
   "metadata": {},
   "source": [
    "#### Bottom-up Dynamic Programming"
   ]
  },
  {
   "cell_type": "code",
   "execution_count": 6,
   "metadata": {},
   "outputs": [
    {
     "name": "stdout",
     "output_type": "stream",
     "text": [
      "2\n",
      "3\n",
      "3\n",
      "-1\n"
     ]
    }
   ],
   "source": [
    "import math\n",
    "\n",
    "\n",
    "def count_ribbon_pieces(ribbonLengths, total):\n",
    "    n = len(ribbonLengths)\n",
    "    dp = [[-math.inf for _ in range(total+1)] for _ in range(n)]\n",
    "\n",
    "    # populate the total=0 columns, as we don't need any ribbon to make zero total\n",
    "    for i in range(n):\n",
    "        dp[i][0] = 0\n",
    "\n",
    "    for i in range(n):\n",
    "        for t in range(1, total+1):\n",
    "            if i > 0:    # exclude the ribbon\n",
    "                dp[i][t] = dp[i - 1][t]\n",
    "            # include the ribbon and check if the remaining length can be cut into available lengths\n",
    "            if t >= ribbonLengths[i] and dp[i][t - ribbonLengths[i]] != -math.inf:\n",
    "                dp[i][t] = max(dp[i][t], dp[i][t - ribbonLengths[i]] + 1)\n",
    "\n",
    "    # total combinations will be at the bottom-right corner, return '-1' if cutting is not possible\n",
    "    return -1 if dp[n - 1][total] == -math.inf else dp[n - 1][total]\n",
    "\n",
    "\n",
    "def main():\n",
    "    print(count_ribbon_pieces([2, 3, 5], 5))\n",
    "    print(count_ribbon_pieces([2, 3], 7))\n",
    "    print(count_ribbon_pieces([3, 5, 7], 13))\n",
    "    print(count_ribbon_pieces([3, 5], 7))\n",
    "\n",
    "\n",
    "main()"
   ]
  },
  {
   "cell_type": "markdown",
   "metadata": {},
   "source": [
    "## Fibonacci Numbers"
   ]
  },
  {
   "cell_type": "markdown",
   "metadata": {},
   "source": [
    "### Fibonacci Numbers"
   ]
  },
  {
   "cell_type": "markdown",
   "metadata": {},
   "source": [
    "Write a function to calculate the nth Fibonacci number.\n",
    "\n",
    "Fibonacci numbers are a series of numbers in which each number is the sum of the two preceding numbers. First few Fibonacci numbers are: 0, 1, 1, 2, 3, 5, 8, …\n",
    "\n",
    "Mathematically we can define the Fibonacci numbers as:\n",
    "\n",
    "    Fib(n) = Fib(n-1) + Fib(n-2), for n > 1\n",
    "    Given that: Fib(0) = 0, and Fib(1) = 1"
   ]
  },
  {
   "cell_type": "markdown",
   "metadata": {},
   "source": [
    "#### Basic Solution"
   ]
  },
  {
   "cell_type": "code",
   "execution_count": 7,
   "metadata": {},
   "outputs": [
    {
     "name": "stdout",
     "output_type": "stream",
     "text": [
      "5th Fibonacci is ---> 5\n",
      "6th Fibonacci is ---> 8\n",
      "7th Fibonacci is ---> 13\n"
     ]
    }
   ],
   "source": [
    "def calculateFibonacci(n):\n",
    "    if n < 2:\n",
    "        return n\n",
    "\n",
    "    return calculateFibonacci(n - 1) + calculateFibonacci(n - 2)\n",
    "\n",
    "\n",
    "def main():\n",
    "    print(\"5th Fibonacci is ---> \" + str(calculateFibonacci(5)))\n",
    "    print(\"6th Fibonacci is ---> \" + str(calculateFibonacci(6)))\n",
    "    print(\"7th Fibonacci is ---> \" + str(calculateFibonacci(7)))\n",
    "\n",
    "\n",
    "main()"
   ]
  },
  {
   "cell_type": "markdown",
   "metadata": {},
   "source": [
    "#### Top-down Dynamic Programming with Memoization"
   ]
  },
  {
   "cell_type": "code",
   "execution_count": 8,
   "metadata": {
    "scrolled": true
   },
   "outputs": [
    {
     "name": "stdout",
     "output_type": "stream",
     "text": [
      "5th Fibonacci is ---> 5\n",
      "6th Fibonacci is ---> 8\n",
      "7th Fibonacci is ---> 13\n"
     ]
    }
   ],
   "source": [
    "def calculateFibonacci(n):\n",
    "    memoize = [-1 for x in range(n+1)]\n",
    "    return calculateFibonacciRecur(memoize, n)\n",
    "\n",
    "\n",
    "def calculateFibonacciRecur(memoize, n):\n",
    "    if n < 2:\n",
    "        return n\n",
    "\n",
    "    # if we have already solved this subproblem, simply return the result from the cache\n",
    "    if memoize[n] >= 0:\n",
    "        return memoize[n]\n",
    "\n",
    "    memoize[n] = calculateFibonacciRecur(\n",
    "        memoize, n - 1) + calculateFibonacciRecur(memoize, n - 2)\n",
    "    return memoize[n]\n",
    "\n",
    "\n",
    "def main():\n",
    "    print(\"5th Fibonacci is ---> \" + str(calculateFibonacci(5)))\n",
    "    print(\"6th Fibonacci is ---> \" + str(calculateFibonacci(6)))\n",
    "    print(\"7th Fibonacci is ---> \" + str(calculateFibonacci(7)))\n",
    "\n",
    "\n",
    "main()"
   ]
  },
  {
   "cell_type": "markdown",
   "metadata": {},
   "source": [
    "#### Bottom-up Dynamic Programming"
   ]
  },
  {
   "cell_type": "code",
   "execution_count": 9,
   "metadata": {},
   "outputs": [
    {
     "name": "stdout",
     "output_type": "stream",
     "text": [
      "5th Fibonacci is ---> 5\n",
      "6th Fibonacci is ---> 8\n",
      "7th Fibonacci is ---> 13\n"
     ]
    }
   ],
   "source": [
    "def calculateFibonacci(n):\n",
    "    if n < 2:\n",
    "        return n\n",
    "    dp = [0, 1]\n",
    "    for i in range(2, n + 1):\n",
    "        dp.append(dp[i - 1] + dp[i - 2])\n",
    "\n",
    "    return dp[n]\n",
    "\n",
    "\n",
    "def main():\n",
    "    print(\"5th Fibonacci is ---> \" + str(calculateFibonacci(5)))\n",
    "    print(\"6th Fibonacci is ---> \" + str(calculateFibonacci(6)))\n",
    "    print(\"7th Fibonacci is ---> \" + str(calculateFibonacci(7)))\n",
    "\n",
    "\n",
    "main()"
   ]
  },
  {
   "cell_type": "markdown",
   "metadata": {},
   "source": [
    "#### Memory Optimization"
   ]
  },
  {
   "cell_type": "code",
   "execution_count": 10,
   "metadata": {},
   "outputs": [
    {
     "name": "stdout",
     "output_type": "stream",
     "text": [
      "5th Fibonacci is ---> 5\n",
      "6th Fibonacci is ---> 8\n",
      "7th Fibonacci is ---> 13\n"
     ]
    }
   ],
   "source": [
    "def calculateFibonacci(n):\n",
    "    if n < 2:\n",
    "        return n\n",
    "\n",
    "    n1, n2, temp = 0, 1, 0\n",
    "    for i in range(2, n + 1):\n",
    "        temp = n1 + n2\n",
    "        n1 = n2\n",
    "        n2 = temp\n",
    "\n",
    "    return n2\n",
    "\n",
    "\n",
    "def main():\n",
    "    print(\"5th Fibonacci is ---> \" + str(calculateFibonacci(5)))\n",
    "    print(\"6th Fibonacci is ---> \" + str(calculateFibonacci(6)))\n",
    "    print(\"7th Fibonacci is ---> \" + str(calculateFibonacci(7)))\n",
    "\n",
    "\n",
    "main()"
   ]
  },
  {
   "cell_type": "markdown",
   "metadata": {},
   "source": [
    "### Staircase"
   ]
  },
  {
   "cell_type": "markdown",
   "metadata": {},
   "source": [
    "Given a stair with ‘n’ steps, implement a method to count how many possible ways are there to reach the top of the staircase, given that, at every step you can either take 1 step, 2 steps, or 3 steps."
   ]
  },
  {
   "cell_type": "markdown",
   "metadata": {},
   "source": [
    "#### Basic Solution"
   ]
  },
  {
   "cell_type": "code",
   "execution_count": 11,
   "metadata": {},
   "outputs": [
    {
     "name": "stdout",
     "output_type": "stream",
     "text": [
      "4\n",
      "7\n",
      "13\n"
     ]
    }
   ],
   "source": [
    "def count_ways(n):\n",
    "    if n == 0:\n",
    "        return 1    # base case, we don't need to take any step, so there is only one way\n",
    "\n",
    "    if n == 1:\n",
    "        return 1    # we can take one step to reach the end, and that is the only way\n",
    "\n",
    "    if n == 2:\n",
    "        return 2    # we can take one step twice or jump two steps to reach at the top\n",
    "\n",
    "    # if we take 1 step, we are left with 'n-1' steps;\n",
    "    take1Step = count_ways(n - 1)\n",
    "    # similarly, if we took 2 steps, we are left with 'n-2' steps;\n",
    "    take2Step = count_ways(n - 2)\n",
    "    # if we took 3 steps, we are left with 'n-3' steps;\n",
    "    take3Step = count_ways(n - 3)\n",
    "\n",
    "    return take1Step + take2Step + take3Step\n",
    "\n",
    "\n",
    "def main():\n",
    "\n",
    "    print(count_ways(3))\n",
    "    print(count_ways(4))\n",
    "    print(count_ways(5))\n",
    "\n",
    "\n",
    "main()"
   ]
  },
  {
   "cell_type": "markdown",
   "metadata": {},
   "source": [
    "#### Top-down Dynamic Programming with Memoization"
   ]
  },
  {
   "cell_type": "code",
   "execution_count": 12,
   "metadata": {},
   "outputs": [
    {
     "name": "stdout",
     "output_type": "stream",
     "text": [
      "4\n",
      "7\n",
      "13\n"
     ]
    }
   ],
   "source": [
    "def count_ways(n):\n",
    "    dp = [0 for x in range(n+1)]\n",
    "    return count_ways_recursive(dp, n)\n",
    "\n",
    "\n",
    "def count_ways_recursive(dp, n):\n",
    "    if n == 0:\n",
    "        return 1    # base case, we don't need to take any step, so there is only one way\n",
    "\n",
    "    if n == 1:\n",
    "        return 1    # we can take one step to reach the end, and that is the only way\n",
    "\n",
    "    if n == 2:\n",
    "        return 2    # we can take one step twice or jump two steps to reach at the top\n",
    "\n",
    "    if dp[n] == 0:\n",
    "        # if we take 1 step, we are left with 'n-1' steps;\n",
    "        take1Step = count_ways_recursive(dp, n - 1)\n",
    "        # similarly, if we took 2 steps, we are left with 'n-2' steps;\n",
    "        take2Step = count_ways_recursive(dp, n - 2)\n",
    "        # if we took 3 steps, we are left with 'n-3' steps;\n",
    "        take3Step = count_ways_recursive(dp, n - 3)\n",
    "\n",
    "        dp[n] = take1Step + take2Step + take3Step\n",
    "\n",
    "    return dp[n]\n",
    "\n",
    "\n",
    "def main():\n",
    "\n",
    "    print(count_ways(3))\n",
    "    print(count_ways(4))\n",
    "    print(count_ways(5))\n",
    "\n",
    "\n",
    "main()"
   ]
  },
  {
   "cell_type": "markdown",
   "metadata": {},
   "source": [
    "#### Bottom-up Dynamic Programming"
   ]
  },
  {
   "cell_type": "code",
   "execution_count": 13,
   "metadata": {},
   "outputs": [
    {
     "name": "stdout",
     "output_type": "stream",
     "text": [
      "4\n",
      "7\n",
      "13\n"
     ]
    }
   ],
   "source": [
    "def count_ways(n):\n",
    "    dp = [0 for x in range(n+1)]\n",
    "    dp[0] = 1\n",
    "    dp[1] = 1\n",
    "    dp[2] = 2\n",
    "\n",
    "    for i in range(3, n+1):\n",
    "        dp[i] = dp[i - 1] + dp[i - 2] + dp[i - 3]\n",
    "\n",
    "    return dp[n]\n",
    "\n",
    "\n",
    "def main():\n",
    "\n",
    "    print(count_ways(3))\n",
    "    print(count_ways(4))\n",
    "    print(count_ways(5))\n",
    "\n",
    "\n",
    "main()"
   ]
  },
  {
   "cell_type": "markdown",
   "metadata": {},
   "source": [
    "#### Memory Optimization"
   ]
  },
  {
   "cell_type": "code",
   "execution_count": 14,
   "metadata": {},
   "outputs": [
    {
     "name": "stdout",
     "output_type": "stream",
     "text": [
      "4\n",
      "7\n",
      "13\n"
     ]
    }
   ],
   "source": [
    "def count_ways(n):\n",
    "    if n < 2:\n",
    "        return 1\n",
    "    if n == 2:\n",
    "        return 2\n",
    "    n1, n2, n3 = 1, 1, 2\n",
    "    for i in range(3, n+1):\n",
    "        n1, n2, n3 = n2, n3, n1+n2+n3\n",
    "    return n3\n",
    "\n",
    "\n",
    "def main():\n",
    "\n",
    "    print(count_ways(3))\n",
    "    print(count_ways(4))\n",
    "    print(count_ways(5))\n",
    "\n",
    "\n",
    "main()"
   ]
  },
  {
   "cell_type": "markdown",
   "metadata": {},
   "source": [
    "### Number Factors"
   ]
  },
  {
   "cell_type": "markdown",
   "metadata": {},
   "source": [
    "Given a number ‘n’, implement a method to count how many possible ways there are to express ‘n’ as the sum of 1, 3, or 4."
   ]
  },
  {
   "cell_type": "markdown",
   "metadata": {},
   "source": [
    "#### Basic Solution"
   ]
  },
  {
   "cell_type": "code",
   "execution_count": 15,
   "metadata": {},
   "outputs": [
    {
     "name": "stdout",
     "output_type": "stream",
     "text": [
      "4\n",
      "6\n",
      "9\n"
     ]
    }
   ],
   "source": [
    "def count_ways(n):\n",
    "    if n == 0:\n",
    "        return 1    # base case, we don't need to subtract any thing, so there is only one way\n",
    "\n",
    "    if n == 1:\n",
    "        return 1    # we take subtract 1 to be left with zero, and that is the only way\n",
    "\n",
    "    if n == 2:\n",
    "        return 1    # we can subtract 1 twice to get zero and that is the only way\n",
    "\n",
    "    if n == 3:\n",
    "        return 2    # '3' can be expressed as {1, 1, 1}, {3}\n",
    "\n",
    "    # if we subtract 1, we are left with 'n-1'\n",
    "    subtract1 = count_ways(n - 1)\n",
    "    # if we subtract 3, we are left with 'n-3'\n",
    "    subtract3 = count_ways(n - 3)\n",
    "    # if we subtract 4, we are left with 'n-4'\n",
    "    subtract4 = count_ways(n - 4)\n",
    "\n",
    "    return subtract1 + subtract3 + subtract4\n",
    "\n",
    "\n",
    "def main():\n",
    "\n",
    "    print(count_ways(4))\n",
    "    print(count_ways(5))\n",
    "    print(count_ways(6))\n",
    "\n",
    "\n",
    "main()"
   ]
  },
  {
   "cell_type": "markdown",
   "metadata": {},
   "source": [
    "#### Top-down Dynamic Programming with Memoization"
   ]
  },
  {
   "cell_type": "code",
   "execution_count": 16,
   "metadata": {},
   "outputs": [
    {
     "name": "stdout",
     "output_type": "stream",
     "text": [
      "4\n",
      "6\n",
      "9\n"
     ]
    }
   ],
   "source": [
    "def count_ways(n):\n",
    "    dp = [0 for x in range(n+1)]\n",
    "    return count_ways_recursive(dp, n)\n",
    "\n",
    "\n",
    "def count_ways_recursive(dp, n):\n",
    "    if n == 0:\n",
    "        return 1    # base case, we don't need to subtract any thing, so there is only one way\n",
    "\n",
    "    if n == 1:\n",
    "        return 1    # we can take subtract 1 to be left with zero, and that is the only way\n",
    "\n",
    "    if n == 2:\n",
    "        return 1    # we can subtract 1 twice to get zero and that is the only way\n",
    "\n",
    "    if n == 3:\n",
    "        return 2    # '3' can be expressed as {1, 1, 1}, {3}\n",
    "\n",
    "    if dp[n] == 0:\n",
    "        # if we subtract 1, we are left with 'n-1'\n",
    "        subtract1 = count_ways_recursive(dp, n - 1)\n",
    "        # if we subtract 3, we are left with 'n-3'\n",
    "        subtract3 = count_ways_recursive(dp, n - 3)\n",
    "        # if we subtract 4, we are left with 'n-4'\n",
    "        subtract4 = count_ways_recursive(dp, n - 4)\n",
    "\n",
    "        dp[n] = subtract1 + subtract3 + subtract4\n",
    "\n",
    "    return dp[n]\n",
    "\n",
    "\n",
    "def main():\n",
    "\n",
    "    print(count_ways(4))\n",
    "    print(count_ways(5))\n",
    "    print(count_ways(6))\n",
    "\n",
    "\n",
    "main()"
   ]
  },
  {
   "cell_type": "markdown",
   "metadata": {},
   "source": [
    "#### Bottom-up Dynamic Programming"
   ]
  },
  {
   "cell_type": "code",
   "execution_count": 17,
   "metadata": {},
   "outputs": [
    {
     "name": "stdout",
     "output_type": "stream",
     "text": [
      "4\n",
      "6\n",
      "9\n"
     ]
    }
   ],
   "source": [
    "def count_ways(n):\n",
    "    dp = [0 for x in range(n+1)]\n",
    "    dp[0] = 1\n",
    "    dp[1] = 1\n",
    "    dp[2] = 1\n",
    "    dp[3] = 2\n",
    "\n",
    "    for i in range(4, n+1):\n",
    "        dp[i] = dp[i - 1] + dp[i - 3] + dp[i - 4]\n",
    "\n",
    "    return dp[n]\n",
    "\n",
    "\n",
    "def main():\n",
    "\n",
    "    print(count_ways(4))\n",
    "    print(count_ways(5))\n",
    "    print(count_ways(6))\n",
    "\n",
    "\n",
    "main()"
   ]
  },
  {
   "cell_type": "markdown",
   "metadata": {},
   "source": [
    "### Minimum Jumps to Reach the End"
   ]
  },
  {
   "cell_type": "markdown",
   "metadata": {},
   "source": [
    "Given an array of positive numbers, where each element represents the max number of jumps that can be made forward from that element, write a program to find the minimum number of jumps needed to reach the end of the array (starting from the first element). If an element is 0, then we cannot move through that element."
   ]
  },
  {
   "cell_type": "markdown",
   "metadata": {},
   "source": [
    "#### Basic Solution"
   ]
  },
  {
   "cell_type": "code",
   "execution_count": 18,
   "metadata": {},
   "outputs": [
    {
     "name": "stdout",
     "output_type": "stream",
     "text": [
      "3\n",
      "4\n"
     ]
    }
   ],
   "source": [
    "import math\n",
    "\n",
    "\n",
    "def count_min_jumps(jumps):\n",
    "    return count_min_jumps_recursive(jumps, 0)\n",
    "\n",
    "\n",
    "def count_min_jumps_recursive(jumps, currentIndex):\n",
    "    n = len(jumps)\n",
    "    # if we have reached the last index, we don't need any more jumps\n",
    "    if currentIndex == n - 1:\n",
    "        return 0\n",
    "\n",
    "    if jumps[currentIndex] == 0:\n",
    "        return math.inf\n",
    "\n",
    "    totalJumps = math.inf\n",
    "    start, end = currentIndex + 1, currentIndex + jumps[currentIndex]\n",
    "    while start < n and start <= end:\n",
    "        # jump one step and recurse for the remaining array\n",
    "        minJumps = count_min_jumps_recursive(jumps, start)\n",
    "        start += 1\n",
    "        if minJumps != math.inf:\n",
    "            totalJumps = min(totalJumps, minJumps + 1)\n",
    "\n",
    "    return totalJumps\n",
    "\n",
    "\n",
    "def main():\n",
    "\n",
    "    print(count_min_jumps([2, 1, 1, 1, 4]))\n",
    "    print(count_min_jumps([1, 1, 3, 6, 9, 3, 0, 1, 3]))\n",
    "\n",
    "\n",
    "main()"
   ]
  },
  {
   "cell_type": "markdown",
   "metadata": {},
   "source": [
    "#### Top-down Dynamic Programming with Memoization"
   ]
  },
  {
   "cell_type": "code",
   "execution_count": 19,
   "metadata": {},
   "outputs": [
    {
     "name": "stdout",
     "output_type": "stream",
     "text": [
      "3\n",
      "4\n"
     ]
    }
   ],
   "source": [
    "import math\n",
    "\n",
    "\n",
    "def count_min_jumps(jumps):\n",
    "    dp = [0 for x in range(len(jumps))]\n",
    "    return count_min_jumps_recursive(dp, jumps, 0)\n",
    "\n",
    "\n",
    "def count_min_jumps_recursive(dp, jumps, currentIndex):\n",
    "    n = len(jumps)\n",
    "    # if we have reached the last index, we don't need any more jumps\n",
    "    if currentIndex == n - 1:\n",
    "        return 0\n",
    "\n",
    "    if jumps[currentIndex] == 0:\n",
    "        return math.inf\n",
    "\n",
    "    # if we have already solved this problem, return the result\n",
    "    if dp[currentIndex] != 0:\n",
    "        return dp[currentIndex]\n",
    "\n",
    "    totalJumps = math.inf\n",
    "    start, end = currentIndex + 1, currentIndex + jumps[currentIndex]\n",
    "    while start < n and start <= end:\n",
    "        # jump one step and recurse for the remaining array\n",
    "        minJumps = count_min_jumps_recursive(dp, jumps, start)\n",
    "        start += 1\n",
    "        if minJumps != math.inf:\n",
    "            totalJumps = min(totalJumps, minJumps + 1)\n",
    "\n",
    "    dp[currentIndex] = totalJumps\n",
    "    return dp[currentIndex]\n",
    "\n",
    "\n",
    "def main():\n",
    "\n",
    "    print(count_min_jumps([2, 1, 1, 1, 4]))\n",
    "    print(count_min_jumps([1, 1, 3, 6, 9, 3, 0, 1, 3]))\n",
    "\n",
    "\n",
    "main()"
   ]
  },
  {
   "cell_type": "markdown",
   "metadata": {},
   "source": [
    "#### Bottom-up Dynamic Programming"
   ]
  },
  {
   "cell_type": "code",
   "execution_count": 20,
   "metadata": {},
   "outputs": [
    {
     "name": "stdout",
     "output_type": "stream",
     "text": [
      "3\n",
      "4\n"
     ]
    }
   ],
   "source": [
    "import math\n",
    "\n",
    "\n",
    "def count_min_jumps(jumps):\n",
    "    n = len(jumps)\n",
    "    # initialize with infinity, except the first index which should be zero as we\n",
    "    # start from there\n",
    "    dp = [math.inf for _ in range(n)]\n",
    "    dp[0] = 0\n",
    "\n",
    "    for start in range(n - 1):\n",
    "        end = start + 1\n",
    "        while end <= start + jumps[start] and end < n:\n",
    "            dp[end] = min(dp[end], dp[start] + 1)\n",
    "            end += 1\n",
    "\n",
    "    return dp[n - 1]\n",
    "\n",
    "\n",
    "def main():\n",
    "\n",
    "    print(count_min_jumps([2, 1, 1, 1, 4]))\n",
    "    print(count_min_jumps([1, 1, 3, 6, 9, 3, 0, 1, 3]))\n",
    "\n",
    "\n",
    "main()"
   ]
  },
  {
   "cell_type": "markdown",
   "metadata": {},
   "source": [
    "### Minimum Jumps with Fee"
   ]
  },
  {
   "cell_type": "markdown",
   "metadata": {},
   "source": [
    "Given a staircase with ‘n’ steps and an array of ‘n’ numbers representing the fee that you have to pay if you take the step. Implement a method to calculate the minimum fee required to reach the top of the staircase (beyond the top-most step). At every step, you have an option to take either 1 step, 2 steps, or 3 steps. You should assume that you are standing at the first step."
   ]
  },
  {
   "cell_type": "markdown",
   "metadata": {},
   "source": [
    "#### Basic Solution"
   ]
  },
  {
   "cell_type": "code",
   "execution_count": 21,
   "metadata": {},
   "outputs": [
    {
     "name": "stdout",
     "output_type": "stream",
     "text": [
      "3\n",
      "5\n"
     ]
    }
   ],
   "source": [
    "def find_min_fee(fee):\n",
    "    return find_min_fee_recursive(fee, 0)\n",
    "\n",
    "\n",
    "def find_min_fee_recursive(fee, currentIndex):\n",
    "    n = len(fee)\n",
    "    if currentIndex > n - 1:\n",
    "        return 0\n",
    "\n",
    "    # if we take 1 step, we are left with 'n-1' steps;\n",
    "    take1Step = find_min_fee_recursive(fee, currentIndex + 1)\n",
    "    # similarly, if we took 2 steps, we are left with 'n-2' steps;\n",
    "    take2Step = find_min_fee_recursive(fee, currentIndex + 2)\n",
    "    # if we took 3 steps, we are left with 'n-3' steps;\n",
    "    take3Step = find_min_fee_recursive(fee, currentIndex + 3)\n",
    "\n",
    "    _min = min(take1Step, take2Step, take3Step)\n",
    "\n",
    "    return _min + fee[currentIndex]\n",
    "\n",
    "\n",
    "def main():\n",
    "\n",
    "    print(find_min_fee([1, 2, 5, 2, 1, 2]))\n",
    "    print(find_min_fee([2, 3, 4, 5]))\n",
    "\n",
    "\n",
    "main()"
   ]
  },
  {
   "cell_type": "markdown",
   "metadata": {},
   "source": [
    "#### Top-down Dynamic Programming with Memoization"
   ]
  },
  {
   "cell_type": "code",
   "execution_count": 23,
   "metadata": {},
   "outputs": [
    {
     "name": "stdout",
     "output_type": "stream",
     "text": [
      "3\n",
      "5\n"
     ]
    }
   ],
   "source": [
    "def find_min_fee(fee):\n",
    "    dp = [0 for x in range(len(fee))]\n",
    "    return find_min_fee_recursive(dp, fee, 0)\n",
    "\n",
    "\n",
    "def find_min_fee_recursive(dp, fee, currentIndex):\n",
    "    n = len(fee)\n",
    "    if currentIndex > n-1:\n",
    "        return 0\n",
    "\n",
    "    if dp[currentIndex] == 0:\n",
    "        # if we take 1 step, we are left with 'n-1' steps\n",
    "        take1Step = find_min_fee_recursive(dp, fee, currentIndex + 1)\n",
    "        # similarly, if we took 2 steps, we are left with 'n-2' steps\n",
    "        take2Step = find_min_fee_recursive(dp, fee, currentIndex + 2)\n",
    "        # if we took 3 steps, we are left with 'n-3' steps\n",
    "        take3Step = find_min_fee_recursive(dp, fee, currentIndex + 3)\n",
    "\n",
    "        dp[currentIndex] = fee[currentIndex] + \\\n",
    "            min(take1Step, take2Step, take3Step)\n",
    "\n",
    "    return dp[currentIndex]\n",
    "\n",
    "\n",
    "def main():\n",
    "\n",
    "    print(find_min_fee([1, 2, 5, 2, 1, 2]))\n",
    "    print(find_min_fee([2, 3, 4, 5]))\n",
    "\n",
    "\n",
    "main()"
   ]
  },
  {
   "cell_type": "markdown",
   "metadata": {},
   "source": [
    "#### Bottom-up Dynamic Programming"
   ]
  },
  {
   "cell_type": "code",
   "execution_count": 24,
   "metadata": {},
   "outputs": [
    {
     "name": "stdout",
     "output_type": "stream",
     "text": [
      "3\n",
      "5\n"
     ]
    }
   ],
   "source": [
    "def find_min_fee(fee):\n",
    "    n = len(fee)\n",
    "    dp = [0 for x in range(n+1)]    # +1 to handle the 0th step\n",
    "    dp[0] = 0    # if there are no steps, we don't have to pay any fee\n",
    "    dp[1] = fee[0]    # only one step, so we have to pay its fee\n",
    "    # for 2 steps, since we start from the first step, so we have to pay its fee\n",
    "    # and from the first step we can reach the top by taking two steps, so\n",
    "    # we don't have to pay any other fee.\n",
    "    dp[2] = fee[0]\n",
    "\n",
    "    # please note that dp[] has one extra element to handle the 0th step\n",
    "    for i in range(2, n):\n",
    "        dp[i + 1] = min(fee[i] + dp[i], \n",
    "                        fee[i - 1] + dp[i - 1], \n",
    "                        Bfee[i - 2] + dp[i - 2])\n",
    "\n",
    "    return dp[n]\n",
    "\n",
    "\n",
    "def main():\n",
    "\n",
    "    print(find_min_fee([1, 2, 5, 2, 1, 2]))\n",
    "    print(find_min_fee([2, 3, 4, 5]))\n",
    "\n",
    "\n",
    "main()"
   ]
  },
  {
   "cell_type": "markdown",
   "metadata": {},
   "source": [
    "### House Thief"
   ]
  },
  {
   "cell_type": "markdown",
   "metadata": {},
   "source": [
    "Given a number array representing the wealth of ‘n’ houses, determine the maximum amount of money the thief can steal without alerting the security system."
   ]
  },
  {
   "cell_type": "markdown",
   "metadata": {},
   "source": [
    "#### Basic Solution"
   ]
  },
  {
   "cell_type": "code",
   "execution_count": 25,
   "metadata": {},
   "outputs": [
    {
     "name": "stdout",
     "output_type": "stream",
     "text": [
      "15\n",
      "18\n"
     ]
    }
   ],
   "source": [
    "def find_max_steal(wealth):\n",
    "    return find_max_steal_recursive(wealth, 0)\n",
    "\n",
    "\n",
    "def find_max_steal_recursive(wealth, currentIndex):\n",
    "\n",
    "    if currentIndex >= len(wealth):\n",
    "        return 0\n",
    "\n",
    "    # steal from current house and skip one to steal next\n",
    "    stealCurrent = wealth[currentIndex] + find_max_steal_recursive(wealth, currentIndex + 2)\n",
    "    # skip current house to steel from the adjacent house\n",
    "    skipCurrent = find_max_steal_recursive(wealth, currentIndex + 1)\n",
    "\n",
    "    return max(stealCurrent, skipCurrent)\n",
    "\n",
    "\n",
    "def main():\n",
    "\n",
    "    print(find_max_steal([2, 5, 1, 3, 6, 2, 4]))\n",
    "    print(find_max_steal([2, 10, 14, 8, 1]))\n",
    "\n",
    "\n",
    "main()"
   ]
  },
  {
   "cell_type": "markdown",
   "metadata": {},
   "source": [
    "#### Top-down Dynamic Programming with Memoization"
   ]
  },
  {
   "cell_type": "code",
   "execution_count": 26,
   "metadata": {},
   "outputs": [
    {
     "name": "stdout",
     "output_type": "stream",
     "text": [
      "15\n",
      "18\n"
     ]
    }
   ],
   "source": [
    "def find_max_steal(wealth):\n",
    "    dp = [0 for x in range(len(wealth))]\n",
    "    return find_max_steal_recursive(dp, wealth, 0)\n",
    "\n",
    "\n",
    "def find_max_steal_recursive(dp, wealth, currentIndex):\n",
    "    if currentIndex >= len(wealth):\n",
    "        return 0\n",
    "\n",
    "    if dp[currentIndex] == 0:\n",
    "        # steal from current house and skip one to steal next\n",
    "        stealCurrent = wealth[currentIndex] + find_max_steal_recursive(dp, wealth, currentIndex + 2)\n",
    "        # skip current house to steel from the adjacent house\n",
    "        skipCurrent = find_max_steal_recursive(dp, wealth, currentIndex + 1)\n",
    "\n",
    "        dp[currentIndex] = max(stealCurrent, skipCurrent)\n",
    "\n",
    "    return dp[currentIndex]\n",
    "\n",
    "\n",
    "def main():\n",
    "\n",
    "    print(find_max_steal([2, 5, 1, 3, 6, 2, 4]))\n",
    "    print(find_max_steal([2, 10, 14, 8, 1]))\n",
    "\n",
    "\n",
    "main()"
   ]
  },
  {
   "cell_type": "markdown",
   "metadata": {},
   "source": [
    "#### Bottom-up Dynamic Programming"
   ]
  },
  {
   "cell_type": "code",
   "execution_count": 27,
   "metadata": {},
   "outputs": [
    {
     "name": "stdout",
     "output_type": "stream",
     "text": [
      "15\n",
      "18\n"
     ]
    }
   ],
   "source": [
    "def find_max_steal(wealth):\n",
    "    n = len(wealth)\n",
    "    if n == 0:\n",
    "        return 0\n",
    "    dp = [0 for x in range(n+1)]    # '+1' to handle the zero house\n",
    "    dp[0] = 0    # if there are no houses, the thief can't steal anything\n",
    "    dp[1] = wealth[0]    # only one house, so the thief have to steal from it\n",
    "\n",
    "    # please note that dp[] has one extra element to handle zero house\n",
    "    for i in range(1, n):\n",
    "        dp[i + 1] = max(wealth[i] + dp[i - 1], dp[i])\n",
    "\n",
    "    return dp[n]\n",
    "\n",
    "\n",
    "def main():\n",
    "\n",
    "    print(find_max_steal([2, 5, 1, 3, 6, 2, 4]))\n",
    "    print(find_max_steal([2, 10, 14, 8, 1]))\n",
    "\n",
    "\n",
    "main()"
   ]
  },
  {
   "cell_type": "markdown",
   "metadata": {},
   "source": [
    "#### Memory Optimization"
   ]
  },
  {
   "cell_type": "code",
   "execution_count": 28,
   "metadata": {},
   "outputs": [
    {
     "name": "stdout",
     "output_type": "stream",
     "text": [
      "15\n",
      "18\n"
     ]
    }
   ],
   "source": [
    "def find_max_steal(wealth):\n",
    "    n = len(wealth)\n",
    "    if n == 0:\n",
    "        return 0\n",
    "\n",
    "    n1, n2 = 0, wealth[0]\n",
    "    for i in range(1, n):\n",
    "        n1, n2 = n2, max(n1 + wealth[i], n2)\n",
    "\n",
    "    return n2\n",
    "\n",
    "\n",
    "def main():\n",
    "\n",
    "    print(find_max_steal([2, 5, 1, 3, 6, 2, 4]))\n",
    "    print(find_max_steal([2, 10, 14, 8, 1]))\n",
    "\n",
    "\n",
    "main()"
   ]
  },
  {
   "cell_type": "markdown",
   "metadata": {},
   "source": [
    "## Palindromic Subsequence"
   ]
  },
  {
   "cell_type": "markdown",
   "metadata": {},
   "source": [
    "### Longest Palindromic Subsequence"
   ]
  },
  {
   "cell_type": "markdown",
   "metadata": {},
   "source": [
    "Given a sequence, find the length of its Longest Palindromic Subsequence (LPS). In a palindromic subsequence, elements read the same backward and forward.\n",
    "\n",
    "A subsequence is a sequence that can be derived from another sequence by deleting some or no elements without changing the order of the remaining elements."
   ]
  },
  {
   "cell_type": "markdown",
   "metadata": {},
   "source": [
    "#### Basic Solution"
   ]
  },
  {
   "cell_type": "code",
   "execution_count": 29,
   "metadata": {},
   "outputs": [
    {
     "name": "stdout",
     "output_type": "stream",
     "text": [
      "5\n",
      "3\n",
      "1\n"
     ]
    }
   ],
   "source": [
    "def find_LPS_length(st):\n",
    "    return find_LPS_length_recursive(st, 0, len(st) - 1)\n",
    "\n",
    "\n",
    "def find_LPS_length_recursive(st, startIndex, endIndex):\n",
    "    if startIndex > endIndex:\n",
    "        return 0\n",
    "\n",
    "    # every sequence with one element is a palindrome of length 1\n",
    "    if startIndex == endIndex:\n",
    "        return 1\n",
    "\n",
    "    # case 1: elements at the beginning and the end are the same\n",
    "    if st[startIndex] == st[endIndex]:\n",
    "        return 2 + find_LPS_length_recursive(st, startIndex + 1, endIndex - 1)\n",
    "\n",
    "    # case 2: skip one element either from the beginning or the end\n",
    "    c1 = find_LPS_length_recursive(st, startIndex + 1, endIndex)\n",
    "    c2 = find_LPS_length_recursive(st, startIndex, endIndex - 1)\n",
    "    return max(c1, c2)\n",
    "\n",
    "\n",
    "def main():\n",
    "    print(find_LPS_length(\"abdbca\"))\n",
    "    print(find_LPS_length(\"cddpd\"))\n",
    "    print(find_LPS_length(\"pqr\"))\n",
    "\n",
    "\n",
    "main()"
   ]
  },
  {
   "cell_type": "markdown",
   "metadata": {},
   "source": [
    "#### Top-down Dynamic Programming with Memoization"
   ]
  },
  {
   "cell_type": "code",
   "execution_count": 30,
   "metadata": {},
   "outputs": [
    {
     "name": "stdout",
     "output_type": "stream",
     "text": [
      "5\n",
      "3\n",
      "1\n"
     ]
    }
   ],
   "source": [
    "def find_LPS_length(st):\n",
    "    return find_LPS_length_recursive(st, 0, len(st) - 1)\n",
    "\n",
    "\n",
    "def find_LPS_length_recursive(st, startIndex, endIndex):\n",
    "    if startIndex > endIndex:\n",
    "        return 0\n",
    "\n",
    "    # every sequence with one element is a palindrome of length 1\n",
    "    if startIndex == endIndex:\n",
    "        return 1\n",
    "\n",
    "    # case 1: elements at the beginning and the end are the same\n",
    "    if st[startIndex] == st[endIndex]:\n",
    "        return 2 + find_LPS_length_recursive(st, startIndex + 1, endIndex - 1)\n",
    "\n",
    "    # case 2: skip one element either from the beginning or the end\n",
    "    c1 = find_LPS_length_recursive(st, startIndex + 1, endIndex)\n",
    "    c2 = find_LPS_length_recursive(st, startIndex, endIndex - 1)\n",
    "    return max(c1, c2)\n",
    "\n",
    "\n",
    "def main():\n",
    "    print(find_LPS_length(\"abdbca\"))\n",
    "    print(find_LPS_length(\"cddpd\"))\n",
    "    print(find_LPS_length(\"pqr\"))\n",
    "\n",
    "\n",
    "main()"
   ]
  },
  {
   "cell_type": "markdown",
   "metadata": {},
   "source": [
    "#### Bottom-up Dynamic Programming"
   ]
  },
  {
   "cell_type": "code",
   "execution_count": 31,
   "metadata": {},
   "outputs": [
    {
     "name": "stdout",
     "output_type": "stream",
     "text": [
      "5\n",
      "3\n",
      "1\n"
     ]
    }
   ],
   "source": [
    "def find_LPS_length(st):\n",
    "    n = len(st)\n",
    "    # dp[i][j] stores the length of LPS from index 'i' to index 'j'\n",
    "    dp = [[0 for _ in range(n)] for _ in range(n)]\n",
    "\n",
    "    # every sequence with one element is a palindrome of length 1\n",
    "    for i in range(n):\n",
    "        dp[i][i] = 1\n",
    "\n",
    "    for startIndex in range(n - 1, -1, -1):\n",
    "        for endIndex in range(startIndex + 1, n):\n",
    "            # case 1: elements at the beginning and the end are the same\n",
    "            if st[startIndex] == st[endIndex]:\n",
    "                dp[startIndex][endIndex] = 2 + dp[startIndex + 1][endIndex - 1]\n",
    "            else:    # case 2: skip one element either from the beginning or the end\n",
    "                dp[startIndex][endIndex] = max(\n",
    "                    dp[startIndex + 1][endIndex], dp[startIndex][endIndex - 1])\n",
    "\n",
    "    return dp[0][n - 1]\n",
    "\n",
    "\n",
    "def main():\n",
    "    print(find_LPS_length(\"abdbca\"))\n",
    "    print(find_LPS_length(\"cddpd\"))\n",
    "    print(find_LPS_length(\"pqr\"))\n",
    "\n",
    "\n",
    "main()"
   ]
  },
  {
   "cell_type": "markdown",
   "metadata": {},
   "source": [
    "### Longest Palindromic Substring"
   ]
  },
  {
   "cell_type": "markdown",
   "metadata": {},
   "source": [
    "Given a string, find the length of its Longest Palindromic Substring (LPS). In a palindromic string, elements read the same backward and forward."
   ]
  },
  {
   "cell_type": "markdown",
   "metadata": {},
   "source": [
    "#### Basic Solution"
   ]
  },
  {
   "cell_type": "code",
   "execution_count": 32,
   "metadata": {},
   "outputs": [
    {
     "name": "stdout",
     "output_type": "stream",
     "text": [
      "3\n",
      "3\n",
      "1\n"
     ]
    }
   ],
   "source": [
    "def find_LPS_length(st):\n",
    "    return find_LPS_length_recursive(st, 0, len(st) - 1)\n",
    "\n",
    "\n",
    "def find_LPS_length_recursive(st, startIndex, endIndex):\n",
    "    if startIndex > endIndex:\n",
    "        return 0\n",
    "\n",
    "    # every string with one character is a palindrome\n",
    "    if startIndex == endIndex:\n",
    "        return 1\n",
    "\n",
    "    # case 1: elements at the beginning and the end are the same\n",
    "    if st[startIndex] == st[endIndex]:\n",
    "        remainingLength = endIndex - startIndex - 1\n",
    "        # check if the remaining string is also a palindrome\n",
    "        if remainingLength == find_LPS_length_recursive(st, startIndex + 1, endIndex - 1):\n",
    "            return remainingLength + 2\n",
    "\n",
    "    # case 2: skip one character either from the beginning or the end\n",
    "    c1 = find_LPS_length_recursive(st, startIndex + 1, endIndex)\n",
    "    c2 = find_LPS_length_recursive(st, startIndex, endIndex - 1)\n",
    "    return max(c1, c2)\n",
    "\n",
    "\n",
    "def main():\n",
    "    print(find_LPS_length(\"abdbca\"))\n",
    "    print(find_LPS_length(\"cddpd\"))\n",
    "    print(find_LPS_length(\"pqr\"))\n",
    "\n",
    "\n",
    "main()"
   ]
  },
  {
   "cell_type": "markdown",
   "metadata": {},
   "source": [
    "#### Top-down Dynamic Programming with Memoization"
   ]
  },
  {
   "cell_type": "code",
   "execution_count": 33,
   "metadata": {},
   "outputs": [
    {
     "name": "stdout",
     "output_type": "stream",
     "text": [
      "3\n",
      "3\n",
      "1\n"
     ]
    }
   ],
   "source": [
    "def find_LPS_length(st):\n",
    "    n = len(st)\n",
    "    dp = [[-1 for _ in range(n)] for _ in range(n)]\n",
    "    return find_LPS_length_recursive(dp, st, 0, n - 1)\n",
    "\n",
    "\n",
    "def find_LPS_length_recursive(dp, st, startIndex, endIndex):\n",
    "    if startIndex > endIndex:\n",
    "        return 0\n",
    "\n",
    "    # every string with one character is a palindrome\n",
    "    if startIndex == endIndex:\n",
    "        return 1\n",
    "\n",
    "    if dp[startIndex][endIndex] == -1:\n",
    "        # case 1: elements at the beginning and the end are the same\n",
    "        if st[startIndex] == st[endIndex]:\n",
    "            remainingLength = endIndex - startIndex - 1\n",
    "            # if the remaining string is a palindrome too\n",
    "            if remainingLength == find_LPS_length_recursive(dp, st, startIndex + 1, endIndex - 1):\n",
    "                dp[startIndex][endIndex] = remainingLength + 2\n",
    "                return dp[startIndex][endIndex]\n",
    "\n",
    "        # case 2: skip one character either from the beginning or the end\n",
    "        c1 = find_LPS_length_recursive(dp, st, startIndex + 1, endIndex)\n",
    "        c2 = find_LPS_length_recursive(dp, st, startIndex, endIndex - 1)\n",
    "        dp[startIndex][endIndex] = max(c1, c2)\n",
    "\n",
    "    return dp[startIndex][endIndex]\n",
    "\n",
    "\n",
    "def main():\n",
    "    print(find_LPS_length(\"abdbca\"))\n",
    "    print(find_LPS_length(\"cddpd\"))\n",
    "    print(find_LPS_length(\"pqr\"))\n",
    "\n",
    "\n",
    "main()"
   ]
  },
  {
   "cell_type": "markdown",
   "metadata": {},
   "source": [
    "#### Bottom-up Dynamic Programming"
   ]
  },
  {
   "cell_type": "code",
   "execution_count": 34,
   "metadata": {},
   "outputs": [
    {
     "name": "stdout",
     "output_type": "stream",
     "text": [
      "3\n",
      "3\n",
      "1\n"
     ]
    }
   ],
   "source": [
    "def find_LPS_length(st):\n",
    "    n = len(st)\n",
    "    # dp[i][j] will be 'true' if the string from index 'i' to index 'j' is a palindrome\n",
    "    dp = [[False for _ in range(n)] for _ in range(n)]\n",
    "\n",
    "    # every string with one character is a palindrome\n",
    "    for i in range(n):\n",
    "        dp[i][i] = True\n",
    "\n",
    "    maxLength = 1\n",
    "    for startIndex in range(n - 1, -1, -1):\n",
    "        for endIndex in range(startIndex + 1, n):\n",
    "            if st[startIndex] == st[endIndex]:\n",
    "                # if it's a two character string or if the remaining string is a palindrome too\n",
    "                if endIndex - startIndex == 1 or dp[startIndex + 1][endIndex - 1]:\n",
    "                    dp[startIndex][endIndex] = True\n",
    "                    maxLength = max(maxLength, endIndex - startIndex + 1)\n",
    "\n",
    "    return maxLength\n",
    "\n",
    "\n",
    "def main():\n",
    "    print(find_LPS_length(\"abdbca\"))\n",
    "    print(find_LPS_length(\"cddpd\"))\n",
    "    print(find_LPS_length(\"pqr\"))\n",
    "\n",
    "\n",
    "main()"
   ]
  },
  {
   "cell_type": "markdown",
   "metadata": {},
   "source": [
    "### Count of Palindromic Substrings"
   ]
  },
  {
   "cell_type": "markdown",
   "metadata": {},
   "source": [
    "Given a string, find the total number of palindromic substrings in it. Please note we need to find the total number of substrings and not subsequences."
   ]
  },
  {
   "cell_type": "code",
   "execution_count": 35,
   "metadata": {},
   "outputs": [
    {
     "name": "stdout",
     "output_type": "stream",
     "text": [
      "7\n",
      "7\n",
      "3\n",
      "6\n"
     ]
    }
   ],
   "source": [
    "def count_PS(st):\n",
    "    n = len(st)\n",
    "    # dp[i][j] will be 'true' if the string from index 'i' to index 'j' is a palindrome\n",
    "    dp = [[False for _ in range(n)] for _ in range(n)]\n",
    "    count = 0\n",
    "\n",
    "    # every string with one character is a palindrome\n",
    "    for i in range(n):\n",
    "        dp[i][i] = True\n",
    "        count += 1\n",
    "\n",
    "    for startIndex in range(n - 1, -1, -1):\n",
    "        for endIndex in range(startIndex + 1, n):\n",
    "            if st[startIndex] == st[endIndex]:\n",
    "                # if it's a two character string or if the remaining string is a palindrome too\n",
    "                if endIndex - startIndex == 1 or dp[startIndex + 1][endIndex - 1]:\n",
    "                    dp[startIndex][endIndex] = True\n",
    "                    count += 1\n",
    "\n",
    "    return count\n",
    "\n",
    "\n",
    "def main():\n",
    "    print(count_PS(\"abdbca\"))\n",
    "    print(count_PS(\"cddpd\"))\n",
    "    print(count_PS(\"pqr\"))\n",
    "    print(count_PS(\"qqq\"))\n",
    "\n",
    "\n",
    "main()"
   ]
  },
  {
   "cell_type": "markdown",
   "metadata": {},
   "source": [
    "### Minimum Deletions in a String to Make it a Palindrome"
   ]
  },
  {
   "cell_type": "markdown",
   "metadata": {},
   "source": [
    "Given a string, find the minimum number of characters that we can remove to make it a palindrome."
   ]
  },
  {
   "cell_type": "code",
   "execution_count": 36,
   "metadata": {},
   "outputs": [
    {
     "name": "stdout",
     "output_type": "stream",
     "text": [
      "1\n",
      "2\n",
      "2\n"
     ]
    }
   ],
   "source": [
    "def find_minimum_deletions(st):\n",
    "    # subtracting the length of Longest Palindromic Subsequence from the length of\n",
    "    # the input string to get minimum number of deletions\n",
    "    return len(st) - find_LPS_length(st)\n",
    "\n",
    "\n",
    "def find_LPS_length(st):\n",
    "    n = len(st)\n",
    "    # dp[i][j] stores the length of LPS from index 'i' to index 'j'\n",
    "    dp = [[0 for _ in range(n)] for _ in range(n)]\n",
    "\n",
    "    # every sequence with one element is a palindrome of length 1\n",
    "    for i in range(n):\n",
    "        dp[i][i] = 1\n",
    "\n",
    "    for startIndex in range(n - 1, -1, -1):\n",
    "        for endIndex in range(startIndex + 1, n):\n",
    "            # case 1: elements at the beginning and the end are the same\n",
    "            if st[startIndex] == st[endIndex]:\n",
    "                dp[startIndex][endIndex] = 2 + dp[startIndex + 1][endIndex - 1]\n",
    "            else:    # case 2: skip one element either from the beginning or the end\n",
    "                dp[startIndex][endIndex] = max(\n",
    "                    dp[startIndex + 1][endIndex], dp[startIndex][endIndex - 1])\n",
    "\n",
    "    return dp[0][n - 1]\n",
    "\n",
    "\n",
    "def main():\n",
    "    print(find_minimum_deletions(\"abdbca\"))\n",
    "    print(find_minimum_deletions(\"cddpd\"))\n",
    "    print(find_minimum_deletions(\"pqr\"))\n",
    "\n",
    "\n",
    "main()"
   ]
  },
  {
   "cell_type": "markdown",
   "metadata": {},
   "source": [
    "### Palindromic Partitioning"
   ]
  },
  {
   "cell_type": "markdown",
   "metadata": {},
   "source": [
    "Given a string, we want to cut it into pieces such that each piece is a palindrome. Write a function to return the minimum number of cuts needed."
   ]
  },
  {
   "cell_type": "markdown",
   "metadata": {},
   "source": [
    "#### Basic Solution"
   ]
  },
  {
   "cell_type": "code",
   "execution_count": 37,
   "metadata": {},
   "outputs": [
    {
     "name": "stdout",
     "output_type": "stream",
     "text": [
      "3\n",
      "2\n",
      "2\n",
      "0\n",
      "0\n"
     ]
    }
   ],
   "source": [
    "def find_MPP_cuts(st):\n",
    "    return find_MPP_cuts_recursive(st, 0, len(st)-1)\n",
    "\n",
    "\n",
    "def find_MPP_cuts_recursive(st, startIndex, endIndex):\n",
    "    # we don't need to cut the string if it is a palindrome\n",
    "    if startIndex >= endIndex or is_palindrome(st, startIndex, endIndex):\n",
    "        return 0\n",
    "\n",
    "    # at max, we need to cut the string into its 'length-1' pieces\n",
    "    minimumCuts = endIndex - startIndex\n",
    "    for i in range(startIndex, endIndex+1):\n",
    "        if is_palindrome(st, startIndex, i):\n",
    "            # we can cut here as we have a palindrome from 'startIndex' to 'i'\n",
    "            minimumCuts = min(\n",
    "                minimumCuts, 1 + find_MPP_cuts_recursive(st, i + 1, endIndex))\n",
    "\n",
    "    return minimumCuts\n",
    "\n",
    "\n",
    "def is_palindrome(st, x, y):\n",
    "    while (x < y):\n",
    "        if st[x] != st[y]:\n",
    "            return False\n",
    "        x += 1\n",
    "        y -= 1\n",
    "    return True\n",
    "\n",
    "\n",
    "def main():\n",
    "    print(find_MPP_cuts(\"abdbca\"))\n",
    "    print(find_MPP_cuts(\"cdpdd\"))\n",
    "    print(find_MPP_cuts(\"pqr\"))\n",
    "    print(find_MPP_cuts(\"pp\"))\n",
    "    print(find_MPP_cuts(\"madam\"))\n",
    "\n",
    "\n",
    "main()"
   ]
  },
  {
   "cell_type": "markdown",
   "metadata": {},
   "source": [
    "#### Top-down Dynamic Programming with Memoization"
   ]
  },
  {
   "cell_type": "code",
   "execution_count": 38,
   "metadata": {},
   "outputs": [
    {
     "name": "stdout",
     "output_type": "stream",
     "text": [
      "3\n",
      "2\n",
      "2\n",
      "0\n",
      "0\n"
     ]
    }
   ],
   "source": [
    "def find_MPP_cuts(st):\n",
    "    n = len(st)\n",
    "    dp = [[-1 for _ in range(n)] for _ in range(n)]\n",
    "    dpIsPalindrome = [[-1 for _ in range(n)] for _ in range(n)]\n",
    "    return find_MPP_cuts_recursive(dp, dpIsPalindrome, st, 0, n - 1)\n",
    "\n",
    "\n",
    "def find_MPP_cuts_recursive(dp, dpIsPalindrome, st, startIndex, endIndex):\n",
    "\n",
    "    if startIndex >= endIndex or is_palindrome(dpIsPalindrome, st, startIndex, endIndex):\n",
    "        return 0\n",
    "\n",
    "    if dp[startIndex][endIndex] == -1:\n",
    "        # at max, we need to cut the string into its 'length-1' pieces\n",
    "        minimumCuts = endIndex - startIndex\n",
    "        for i in range(startIndex, endIndex+1):\n",
    "            if is_palindrome(dpIsPalindrome, st, startIndex, i):\n",
    "                # we can cut here as we have a palindrome from 'startIndex' to 'i'\n",
    "                minimumCuts = min(\n",
    "                    minimumCuts, 1 + find_MPP_cuts_recursive(dp, dpIsPalindrome, st, i + 1, endIndex))\n",
    "\n",
    "        dp[startIndex][endIndex] = minimumCuts\n",
    "\n",
    "    return dp[startIndex][endIndex]\n",
    "\n",
    "\n",
    "def is_palindrome(dpIsPalindrome, st, x, y):\n",
    "    if dpIsPalindrome[x][y] == -1:\n",
    "        dpIsPalindrome[x][y] = 1\n",
    "        i, j = x, y\n",
    "        while i < j:\n",
    "            if st[i] != st[j]:\n",
    "                dpIsPalindrome[x][y] = 0\n",
    "                break\n",
    "            i += 1\n",
    "            j -= 1\n",
    "            # use memoization to find if the remaining string is a palindrome\n",
    "            if i < j and dpIsPalindrome[i][j] != -1:\n",
    "                dpIsPalindrome[x][y] = dpIsPalindrome[i][j]\n",
    "                break\n",
    "\n",
    "    return True if dpIsPalindrome[x][y] == 1 else False\n",
    "\n",
    "\n",
    "def main():\n",
    "    print(find_MPP_cuts(\"abdbca\"))\n",
    "    print(find_MPP_cuts(\"cdpdd\"))\n",
    "    print(find_MPP_cuts(\"pqr\"))\n",
    "    print(find_MPP_cuts(\"pp\"))\n",
    "    print(find_MPP_cuts(\"madam\"))\n",
    "\n",
    "\n",
    "main()"
   ]
  },
  {
   "cell_type": "markdown",
   "metadata": {},
   "source": [
    "#### Bottom-up Dynamic Programming"
   ]
  },
  {
   "cell_type": "code",
   "execution_count": 39,
   "metadata": {},
   "outputs": [
    {
     "name": "stdout",
     "output_type": "stream",
     "text": [
      "3\n",
      "2\n",
      "2\n",
      "0\n",
      "0\n"
     ]
    }
   ],
   "source": [
    "def find_MPP_cuts(st):\n",
    "    n = len(st)\n",
    "    # isPalindrome[i][j] will be 'true' if the string from index 'i' to index 'j' is a palindrome\n",
    "    isPalindrome = [[False for _ in range(n)] for _ in range(n)]\n",
    "\n",
    "    # every string with one character is a palindrome\n",
    "    for i in range(n):\n",
    "        isPalindrome[i][i] = True\n",
    "\n",
    "    # populate isPalindrome table\n",
    "    for startIndex in range(n-1, -1, -1):\n",
    "        for endIndex in range(startIndex+1, n):\n",
    "            if st[startIndex] == st[endIndex]:\n",
    "                # if it's a two character string or if the remaining string is a palindrome too\n",
    "                if endIndex - startIndex == 1 or isPalindrome[startIndex + 1][endIndex - 1]:\n",
    "                    isPalindrome[startIndex][endIndex] = True\n",
    "\n",
    "    # now lets populate the second table, every index in 'cuts' stores the minimum cuts needed\n",
    "    # for the substring from that index till the end\n",
    "    cuts = [0 for _ in range(n)]\n",
    "    for startIndex in range(n-1, -1, -1):\n",
    "        minCuts = n    # maximum cuts\n",
    "        for endIndex in range(n-1, startIndex-1, -1):\n",
    "            if isPalindrome[startIndex][endIndex]:\n",
    "                # we can cut here as we got a palindrome\n",
    "                # also we don't need any cut if the whole substring is a palindrome\n",
    "                minCuts = 0 if endIndex == n-1 else min(minCuts, 1 + cuts[endIndex + 1])\n",
    "\n",
    "        cuts[startIndex] = minCuts\n",
    "\n",
    "    return cuts[0]\n",
    "\n",
    "\n",
    "def main():\n",
    "    print(find_MPP_cuts(\"abdbca\"))\n",
    "    print(find_MPP_cuts(\"cdpdd\"))\n",
    "    print(find_MPP_cuts(\"pqr\"))\n",
    "    print(find_MPP_cuts(\"pp\"))\n",
    "    print(find_MPP_cuts(\"madam\"))\n",
    "\n",
    "\n",
    "main()"
   ]
  },
  {
   "cell_type": "markdown",
   "metadata": {},
   "source": [
    "## Longest Common Substring"
   ]
  },
  {
   "cell_type": "markdown",
   "metadata": {},
   "source": [
    "### Longest Common Substring"
   ]
  },
  {
   "cell_type": "markdown",
   "metadata": {},
   "source": [
    "Given two strings ‘s1’ and ‘s2’, find the length of the longest substring which is common in both the strings."
   ]
  },
  {
   "cell_type": "markdown",
   "metadata": {},
   "source": [
    "#### Basic Solution"
   ]
  },
  {
   "cell_type": "code",
   "execution_count": 40,
   "metadata": {},
   "outputs": [
    {
     "name": "stdout",
     "output_type": "stream",
     "text": [
      "2\n",
      "3\n"
     ]
    }
   ],
   "source": [
    "def find_LCS_length(s1, s2):\n",
    "    return find_LCS_length_recursive(s1, s2, 0, 0, 0)\n",
    "\n",
    "\n",
    "def find_LCS_length_recursive(s1, s2, i1, i2, count):\n",
    "    if i1 == len(s1) or i2 == len(s2):\n",
    "        return count\n",
    "\n",
    "    if s1[i1] == s2[i2]:\n",
    "        count = find_LCS_length_recursive(s1, s2, i1 + 1, i2 + 1, count + 1)\n",
    "\n",
    "    c1 = find_LCS_length_recursive(s1, s2, i1, i2 + 1, 0)\n",
    "    c2 = find_LCS_length_recursive(s1, s2, i1 + 1, i2, 0)\n",
    "\n",
    "    return max(count, max(c1, c2))\n",
    "\n",
    "\n",
    "def main():\n",
    "    print(find_LCS_length(\"abdca\", \"cbda\"))\n",
    "    print(find_LCS_length(\"passport\", \"ppsspt\"))\n",
    "\n",
    "\n",
    "main()"
   ]
  },
  {
   "cell_type": "markdown",
   "metadata": {},
   "source": [
    "#### Top-down Dynamic Programming with Memoization"
   ]
  },
  {
   "cell_type": "code",
   "execution_count": 41,
   "metadata": {},
   "outputs": [
    {
     "name": "stdout",
     "output_type": "stream",
     "text": [
      "2\n",
      "3\n"
     ]
    }
   ],
   "source": [
    "def find_LCS_length(s1, s2):\n",
    "    n1, n2 = len(s1), len(s2)\n",
    "    maxLength = min(n1, n2)\n",
    "    dp = [[[-1 for _ in range(maxLength)] for _ in range(n2)]\n",
    "                for _ in range(n1)]\n",
    "    return find_LCS_length_recursive(dp, s1, s2, 0, 0, 0)\n",
    "\n",
    "\n",
    "def find_LCS_length_recursive(dp, s1, s2, i1, i2, count):\n",
    "    if i1 == len(s1) or i2 == len(s2):\n",
    "        return count\n",
    "\n",
    "    if dp[i1][i2][count] == -1:\n",
    "        c1 = count\n",
    "        if s1[i1] == s2[i2]:\n",
    "            c1 = find_LCS_length_recursive(\n",
    "                dp, s1, s2, i1 + 1, i2 + 1, count + 1)\n",
    "        c2 = find_LCS_length_recursive(dp, s1, s2, i1, i2 + 1, 0)\n",
    "        c3 = find_LCS_length_recursive(dp, s1, s2, i1 + 1, i2, 0)\n",
    "        dp[i1][i2][count] = max(c1, max(c2, c3))\n",
    "\n",
    "    return dp[i1][i2][count]\n",
    "\n",
    "\n",
    "def main():\n",
    "    print(find_LCS_length(\"abdca\", \"cbda\"))\n",
    "    print(find_LCS_length(\"passport\", \"ppsspt\"))\n",
    "\n",
    "\n",
    "main()"
   ]
  },
  {
   "cell_type": "markdown",
   "metadata": {},
   "source": [
    "#### Bottom-up Dynamic Programming"
   ]
  },
  {
   "cell_type": "code",
   "execution_count": 42,
   "metadata": {},
   "outputs": [
    {
     "name": "stdout",
     "output_type": "stream",
     "text": [
      "2\n",
      "3\n"
     ]
    }
   ],
   "source": [
    "def find_LCS_length(s1, s2):\n",
    "    n1, n2 = len(s1), len(s2)\n",
    "    dp = [[0 for _ in range(n2+1)] for _ in range(n1+1)]\n",
    "    maxLength = 0\n",
    "    for i in range(1, n1+1):\n",
    "        for j in range(1, n2+1):\n",
    "            if s1[i - 1] == s2[j - 1]:\n",
    "                dp[i][j] = 1 + dp[i - 1][j - 1]\n",
    "                maxLength = max(maxLength, dp[i][j])\n",
    "    return maxLength\n",
    "\n",
    "\n",
    "def main():\n",
    "    print(find_LCS_length(\"abdca\", \"cbda\"))\n",
    "    print(find_LCS_length(\"passport\", \"ppsspt\"))\n",
    "\n",
    "\n",
    "main()"
   ]
  },
  {
   "cell_type": "markdown",
   "metadata": {},
   "source": [
    "#### Challenge"
   ]
  },
  {
   "cell_type": "markdown",
   "metadata": {},
   "source": [
    "Can we further improve our bottom-up DP solution? Can you find an algorithm that has $O(n)$ space complexity?"
   ]
  },
  {
   "cell_type": "code",
   "execution_count": 43,
   "metadata": {},
   "outputs": [
    {
     "name": "stdout",
     "output_type": "stream",
     "text": [
      "2\n",
      "3\n"
     ]
    }
   ],
   "source": [
    "def find_LCS_length(s1, s2):\n",
    "    n1, n2 = len(s1), len(s2)\n",
    "    dp = [[0 for _ in range(n2+1)] for _ in range(2)]\n",
    "    maxLength = 0\n",
    "    for i in range(1, n1+1):\n",
    "        for j in range(1, n2+1):\n",
    "            dp[i % 2][j] = 0\n",
    "            if s1[i - 1] == s2[j - 1]:\n",
    "                dp[i % 2][j] = 1 + dp[(i - 1) % 2][j - 1]\n",
    "                maxLength = max(maxLength, dp[i % 2][j])\n",
    "\n",
    "    return maxLength\n",
    "\n",
    "\n",
    "def main():\n",
    "    print(find_LCS_length(\"abdca\", \"cbda\"))\n",
    "    print(find_LCS_length(\"passport\", \"ppsspt\"))\n",
    "\n",
    "\n",
    "main()"
   ]
  },
  {
   "cell_type": "markdown",
   "metadata": {},
   "source": [
    "### Longest Common Subsequence"
   ]
  },
  {
   "cell_type": "markdown",
   "metadata": {},
   "source": [
    "Given two strings ‘s1’ and ‘s2’, find the length of the longest subsequence which is common in both the strings.\n",
    "\n",
    "A subsequence is a sequence that can be derived from another sequence by deleting some or no elements without changing the order of the remaining elements."
   ]
  },
  {
   "cell_type": "markdown",
   "metadata": {},
   "source": [
    "#### Basic Solution"
   ]
  },
  {
   "cell_type": "code",
   "execution_count": 44,
   "metadata": {
    "scrolled": true
   },
   "outputs": [
    {
     "name": "stdout",
     "output_type": "stream",
     "text": [
      "3\n",
      "5\n"
     ]
    }
   ],
   "source": [
    "def find_LCS_length(s1, s2):\n",
    "    return find_LCS_length_recursive(s1, s2, 0, 0)\n",
    "\n",
    "\n",
    "def find_LCS_length_recursive(s1, s2, i1, i2):\n",
    "    if i1 == len(s1) or i2 == len(s2):\n",
    "        return 0\n",
    "\n",
    "    if s1[i1] == s2[i2]:\n",
    "        return 1 + find_LCS_length_recursive(s1, s2, i1 + 1, i2 + 1)\n",
    "\n",
    "    c1 = find_LCS_length_recursive(s1, s2, i1, i2 + 1)\n",
    "    c2 = find_LCS_length_recursive(s1, s2, i1 + 1, i2)\n",
    "\n",
    "    return max(c1, c2)\n",
    "\n",
    "\n",
    "def main():\n",
    "    print(find_LCS_length(\"abdca\", \"cbda\"))\n",
    "    print(find_LCS_length(\"passport\", \"ppsspt\"))\n",
    "\n",
    "\n",
    "main()"
   ]
  },
  {
   "cell_type": "markdown",
   "metadata": {},
   "source": [
    "#### Top-down Dynamic Programming with Memoization"
   ]
  },
  {
   "cell_type": "code",
   "execution_count": 45,
   "metadata": {},
   "outputs": [
    {
     "name": "stdout",
     "output_type": "stream",
     "text": [
      "3\n",
      "5\n"
     ]
    }
   ],
   "source": [
    "def find_LCS_length(s1, s2):\n",
    "    dp = [[-1 for _ in range(len(s2))] for _ in range(len(s1))]\n",
    "    return find_LCS_length_recursive(dp, s1, s2, 0, 0)\n",
    "\n",
    "\n",
    "def find_LCS_length_recursive(dp, s1, s2, i1, i2):\n",
    "    if i1 == len(s1) or i2 == len(s2):\n",
    "        return 0\n",
    "\n",
    "    if dp[i1][i2] == -1:\n",
    "        if s1[i1] == s2[i2]:\n",
    "            dp[i1][i2] = 1 + find_LCS_length_recursive(dp, s1, s2, i1 + 1, i2 + 1)\n",
    "        else:\n",
    "            c1 = find_LCS_length_recursive(dp, s1, s2, i1, i2 + 1)\n",
    "            c2 = find_LCS_length_recursive(dp, s1, s2, i1 + 1, i2)\n",
    "            dp[i1][i2] = max(c1, c2)\n",
    "\n",
    "    return dp[i1][i2]\n",
    "\n",
    "\n",
    "def main():\n",
    "    print(find_LCS_length(\"abdca\", \"cbda\"))\n",
    "    print(find_LCS_length(\"passport\", \"ppsspt\"))\n",
    "\n",
    "\n",
    "main()"
   ]
  },
  {
   "cell_type": "markdown",
   "metadata": {},
   "source": [
    "#### Bottom-up Dynamic Programming"
   ]
  },
  {
   "cell_type": "code",
   "execution_count": 46,
   "metadata": {},
   "outputs": [
    {
     "name": "stdout",
     "output_type": "stream",
     "text": [
      "3\n",
      "5\n"
     ]
    }
   ],
   "source": [
    "def find_LCS_length(s1, s2):\n",
    "    n1, n2 = len(s1), len(s2)\n",
    "    dp = [[0 for _ in range(n2+1)] for _ in range(n1+1)]\n",
    "    maxLength = 0\n",
    "    for i in range(1, n1+1):\n",
    "        for j in range(1, n2+1):\n",
    "            if s1[i - 1] == s2[j - 1]:\n",
    "                dp[i][j] = 1 + dp[i - 1][j - 1]\n",
    "            else:\n",
    "                dp[i][j] = max(dp[i - 1][j], dp[i][j - 1])\n",
    "\n",
    "            maxLength = max(maxLength, dp[i][j])\n",
    "    return maxLength\n",
    "\n",
    "\n",
    "def main():\n",
    "    print(find_LCS_length(\"abdca\", \"cbda\"))\n",
    "    print(find_LCS_length(\"passport\", \"ppsspt\"))\n",
    "\n",
    "\n",
    "main()"
   ]
  },
  {
   "cell_type": "markdown",
   "metadata": {},
   "source": [
    "#### Challenge"
   ]
  },
  {
   "cell_type": "markdown",
   "metadata": {},
   "source": [
    "Can we further improve our bottom-up DP solution? Can you find an algorithm that has $O(n)$ space complexity?"
   ]
  },
  {
   "cell_type": "code",
   "execution_count": 47,
   "metadata": {},
   "outputs": [
    {
     "name": "stdout",
     "output_type": "stream",
     "text": [
      "3\n",
      "5\n"
     ]
    }
   ],
   "source": [
    "def find_LCS_length(s1, s2):\n",
    "    n1, n2 = len(s1), len(s2)\n",
    "    dp = [[0 for _ in range(n2+1)] for _ in range(2)]\n",
    "    maxLength = 0\n",
    "    for i in range(1, n1+1):\n",
    "        for j in range(1, n2+1):\n",
    "            if s1[i - 1] == s2[j - 1]:\n",
    "                dp[i % 2][j] = 1 + dp[(i - 1) % 2][j - 1]\n",
    "            else:\n",
    "                dp[i % 2][j] = max(dp[(i - 1) % 2][j], dp[i % 2][j - 1])\n",
    "\n",
    "            maxLength = max(maxLength, dp[i % 2][j])\n",
    "\n",
    "    return maxLength\n",
    "\n",
    "\n",
    "def main():\n",
    "    print(find_LCS_length(\"abdca\", \"cbda\"))\n",
    "    print(find_LCS_length(\"passport\", \"ppsspt\"))\n",
    "\n",
    "main()"
   ]
  },
  {
   "cell_type": "markdown",
   "metadata": {},
   "source": [
    "### Minimum Deletions & Insertions to Transform a String into Another"
   ]
  },
  {
   "cell_type": "markdown",
   "metadata": {},
   "source": [
    "Given strings s1 and s2, we need to transform s1 into s2 by deleting and inserting characters. Write a function to calculate the count of the minimum number of deletion and insertion operations."
   ]
  },
  {
   "cell_type": "code",
   "execution_count": 48,
   "metadata": {},
   "outputs": [
    {
     "name": "stdout",
     "output_type": "stream",
     "text": [
      "Minimum deletions needed: 1\n",
      "Minimum insertions needed: 1\n",
      "Minimum deletions needed: 2\n",
      "Minimum insertions needed: 1\n",
      "Minimum deletions needed: 3\n",
      "Minimum insertions needed: 1\n"
     ]
    }
   ],
   "source": [
    "def find_MDI(s1, s2):\n",
    "    c1 = find_LCS_length(s1, s2)\n",
    "    print(\"Minimum deletions needed: \" + str(len(s1) - c1))\n",
    "    print(\"Minimum insertions needed: \" + str(len(s2) - c1))\n",
    "\n",
    "\n",
    "def find_LCS_length(s1,    s2):\n",
    "    n1, n2 = len(s1), len(s2)\n",
    "    dp = [[0 for _ in range(n2+1)] for _ in range(n1+1)]\n",
    "    maxLength = 0\n",
    "    for i in range(1, n1+1):\n",
    "        for j in range(1, n2+1):\n",
    "            if s1[i - 1] == s2[j - 1]:\n",
    "                dp[i][j] = 1 + dp[i - 1][j - 1]\n",
    "            else:\n",
    "                dp[i][j] = max(dp[i - 1][j], dp[i][j - 1])\n",
    "\n",
    "            maxLength = max(maxLength, dp[i][j])\n",
    "\n",
    "    return maxLength\n",
    "\n",
    "\n",
    "def main():\n",
    "    find_MDI(\"abc\", \"fbc\")\n",
    "    find_MDI(\"abdca\", \"cbda\")\n",
    "    find_MDI(\"passport\", \"ppsspt\")\n",
    "\n",
    "\n",
    "main()"
   ]
  },
  {
   "cell_type": "markdown",
   "metadata": {},
   "source": [
    "### Longest Increasing Subsequence"
   ]
  },
  {
   "cell_type": "markdown",
   "metadata": {},
   "source": [
    "Given a number sequence, find the length of its Longest Increasing Subsequence (LIS). In an increasing subsequence, all the elements are in increasing order (from lowest to highest)."
   ]
  },
  {
   "cell_type": "markdown",
   "metadata": {},
   "source": [
    "#### Basic Solution"
   ]
  },
  {
   "cell_type": "code",
   "execution_count": 49,
   "metadata": {},
   "outputs": [
    {
     "name": "stdout",
     "output_type": "stream",
     "text": [
      "5\n",
      "4\n"
     ]
    }
   ],
   "source": [
    "def find_LIS_length(nums):\n",
    "    return find_LIS_length_recursive(nums, 0, -1)\n",
    "\n",
    "\n",
    "def find_LIS_length_recursive(nums, currentIndex,    previousIndex):\n",
    "    if currentIndex == len(nums):\n",
    "        return 0\n",
    "\n",
    "    # include nums[currentIndex] if it is larger than the last included number\n",
    "    c1 = 0\n",
    "    if previousIndex == -1 or nums[currentIndex] > nums[previousIndex]:\n",
    "        c1 = 1 + \\\n",
    "                 find_LIS_length_recursive(nums, currentIndex + 1, currentIndex)\n",
    "\n",
    "    # excluding the number at currentIndex\n",
    "    c2 = find_LIS_length_recursive(nums, currentIndex + 1, previousIndex)\n",
    "\n",
    "    return max(c1, c2)\n",
    "\n",
    "\n",
    "def main():\n",
    "    print(find_LIS_length([4, 2, 3, 6, 10, 1, 12]))\n",
    "    print(find_LIS_length([-4, 10, 3, 7, 15]))\n",
    "\n",
    "\n",
    "main()"
   ]
  },
  {
   "cell_type": "markdown",
   "metadata": {},
   "source": [
    "#### Top-down Dynamic Programming with Memoization"
   ]
  },
  {
   "cell_type": "code",
   "execution_count": 50,
   "metadata": {},
   "outputs": [
    {
     "name": "stdout",
     "output_type": "stream",
     "text": [
      "5\n",
      "4\n"
     ]
    }
   ],
   "source": [
    "def find_LIS_length(nums):\n",
    "    n = len(nums)\n",
    "    dp = [[-1 for _ in range(n+1)] for _ in range(n)]\n",
    "    return find_LIS_length_recursive(dp, nums, 0, -1)\n",
    "\n",
    "\n",
    "def find_LIS_length_recursive(dp, nums, currentIndex, previousIndex):\n",
    "    if currentIndex == len(nums):\n",
    "        return 0\n",
    "\n",
    "    if dp[currentIndex][previousIndex + 1] == -1:\n",
    "        # include nums[currentIndex] if it is larger than the last included number\n",
    "        c1 = 0\n",
    "        if previousIndex == -1 or nums[currentIndex] > nums[previousIndex]:\n",
    "            c1 = 1 + find_LIS_length_recursive(dp, nums, currentIndex + 1, currentIndex)\n",
    "\n",
    "        c2 = find_LIS_length_recursive(\n",
    "            dp, nums, currentIndex + 1, previousIndex)\n",
    "        dp[currentIndex][previousIndex + 1] = max(c1, c2)\n",
    "\n",
    "    return dp[currentIndex][previousIndex + 1]\n",
    "\n",
    "\n",
    "def main():\n",
    "    print(find_LIS_length([4, 2, 3, 6, 10, 1, 12]))\n",
    "    print(find_LIS_length([-4, 10, 3, 7, 15]))\n",
    "\n",
    "\n",
    "main()"
   ]
  },
  {
   "cell_type": "markdown",
   "metadata": {},
   "source": [
    "#### Bottom-up Dynamic Programming"
   ]
  },
  {
   "cell_type": "code",
   "execution_count": 51,
   "metadata": {},
   "outputs": [
    {
     "name": "stdout",
     "output_type": "stream",
     "text": [
      "5\n",
      "4\n"
     ]
    }
   ],
   "source": [
    "def find_LIS_length(nums):\n",
    "    n = len(nums)\n",
    "    dp = [0 for _ in range(n)]\n",
    "    dp[0] = 1\n",
    "\n",
    "    maxLength = 1\n",
    "    for i in range(1, n):\n",
    "        dp[i] = 1\n",
    "        for j in range(i):\n",
    "            if nums[i] > nums[j] and dp[i] <= dp[j]:\n",
    "                dp[i] = dp[j] + 1\n",
    "                maxLength = max(maxLength, dp[i])\n",
    "\n",
    "    return maxLength\n",
    "\n",
    "\n",
    "def main():\n",
    "    print(find_LIS_length([4, 2, 3, 6, 10, 1, 12]))\n",
    "    print(find_LIS_length([-4, 10, 3, 7, 15]))\n",
    "\n",
    "\n",
    "main()"
   ]
  },
  {
   "cell_type": "markdown",
   "metadata": {},
   "source": [
    "### Maximum Sum Increasing Subsequence"
   ]
  },
  {
   "cell_type": "markdown",
   "metadata": {},
   "source": [
    "Given a number sequence, find the increasing subsequence with the highest sum. Write a method that returns the highest sum."
   ]
  },
  {
   "cell_type": "markdown",
   "metadata": {},
   "source": [
    "#### Basic Solution"
   ]
  },
  {
   "cell_type": "code",
   "execution_count": 52,
   "metadata": {},
   "outputs": [
    {
     "name": "stdout",
     "output_type": "stream",
     "text": [
      "32\n",
      "25\n"
     ]
    }
   ],
   "source": [
    "def find_MSIS(nums):\n",
    "    return find_MSIS_recursive(nums, 0, -1, 0)\n",
    "\n",
    "\n",
    "def find_MSIS_recursive(nums,    currentIndex,    previousIndex,    sum):\n",
    "    if currentIndex == len(nums):\n",
    "        return sum\n",
    "\n",
    "    # include nums[currentIndex] if it is larger than the last included number\n",
    "    s1 = sum\n",
    "    if previousIndex == -1 or nums[currentIndex] > nums[previousIndex]:\n",
    "        s1 = find_MSIS_recursive(nums, currentIndex+1,\n",
    "                                                         currentIndex, sum + nums[currentIndex])\n",
    "\n",
    "    # excluding the number at currentIndex\n",
    "    s2 = find_MSIS_recursive(nums, currentIndex+1, previousIndex, sum)\n",
    "\n",
    "    return max(s1, s2)\n",
    "\n",
    "\n",
    "def main():\n",
    "    print(find_MSIS([4, 1, 2, 6, 10, 1, 12]))\n",
    "    print(find_MSIS([-4, 10, 3, 7, 15]))\n",
    "\n",
    "\n",
    "main()"
   ]
  },
  {
   "cell_type": "markdown",
   "metadata": {},
   "source": [
    "#### Top-down Dynamic Programming with Memoization"
   ]
  },
  {
   "cell_type": "code",
   "execution_count": 53,
   "metadata": {
    "scrolled": true
   },
   "outputs": [
    {
     "name": "stdout",
     "output_type": "stream",
     "text": [
      "32\n",
      "25\n"
     ]
    }
   ],
   "source": [
    "def find_MSIS(nums):\n",
    "    dp = {}\n",
    "    return find_MSIS_recursive(dp, nums, 0, -1, 0)\n",
    "\n",
    "\n",
    "def find_MSIS_recursive(dp, nums, currentIndex,    previousIndex,    sum):\n",
    "    if currentIndex == len(nums):\n",
    "        return sum\n",
    "\n",
    "    subProblemKey = str(currentIndex) + \"-\" + \\\n",
    "                                    str(previousIndex) + \"-\" + str(sum)\n",
    "\n",
    "    if subProblemKey not in dp:\n",
    "        # include nums[currentIndex] if it is larger than the last included number\n",
    "        s1 = sum\n",
    "        if previousIndex == -1 or nums[currentIndex] > nums[previousIndex]:\n",
    "            s1 = find_MSIS_recursive(\n",
    "                dp, nums, currentIndex + 1, currentIndex, sum + nums[currentIndex])\n",
    "\n",
    "        # excluding the number at currentIndex\n",
    "        s2 = find_MSIS_recursive(\n",
    "            dp, nums, currentIndex + 1, previousIndex, sum)\n",
    "        dp[subProblemKey] = max(s1, s2)\n",
    "\n",
    "    return dp.get(subProblemKey)\n",
    "\n",
    "\n",
    "def main():\n",
    "    print(find_MSIS([4, 1, 2, 6, 10, 1, 12]))\n",
    "    print(find_MSIS([-4, 10, 3, 7, 15]))\n",
    "\n",
    "\n",
    "main()"
   ]
  },
  {
   "cell_type": "markdown",
   "metadata": {},
   "source": [
    "#### Bottom-up Dynamic Programming"
   ]
  },
  {
   "cell_type": "code",
   "execution_count": 54,
   "metadata": {},
   "outputs": [
    {
     "name": "stdout",
     "output_type": "stream",
     "text": [
      "32\n",
      "25\n"
     ]
    }
   ],
   "source": [
    "def find_MSIS(nums):\n",
    "    n = len(nums)\n",
    "    dp = [0 for _ in range(n)]\n",
    "    dp[0] = nums[0]\n",
    "\n",
    "    maxSum = nums[0]\n",
    "    for i in range(1, n):\n",
    "        dp[i] = nums[i]\n",
    "        for j in range(i):\n",
    "            if nums[i] > nums[j] and dp[i] < dp[j] + nums[i]:\n",
    "                dp[i] = dp[j] + nums[i]\n",
    "\n",
    "        maxSum = max(maxSum, dp[i])\n",
    "\n",
    "    return maxSum\n",
    "\n",
    "\n",
    "def main():\n",
    "    print(find_MSIS([4, 1, 2, 6, 10, 1, 12]))\n",
    "    print(find_MSIS([-4, 10, 3, 7, 15]))\n",
    "\n",
    "\n",
    "main()"
   ]
  },
  {
   "cell_type": "markdown",
   "metadata": {},
   "source": [
    "### Shortest Common Super-sequence"
   ]
  },
  {
   "cell_type": "markdown",
   "metadata": {},
   "source": [
    "Given two sequences ‘s1’ and ‘s2’, write a method to find the length of the shortest sequence which has ‘s1’ and ‘s2’ as subsequences."
   ]
  },
  {
   "cell_type": "markdown",
   "metadata": {},
   "source": [
    "#### Basic Solution"
   ]
  },
  {
   "cell_type": "code",
   "execution_count": 55,
   "metadata": {},
   "outputs": [
    {
     "name": "stdout",
     "output_type": "stream",
     "text": [
      "5\n",
      "15\n"
     ]
    }
   ],
   "source": [
    "def find_SCS_length(s1, s2):\n",
    "    return find_SCS_length_recursive(s1, s2, 0, 0)\n",
    "\n",
    "\n",
    "def find_SCS_length_recursive(s1,    s2,    i1,    i2):\n",
    "    # if we have reached the end of a string, return the remaining length of the\n",
    "    # other string, as in this case we have to take all of the remaining other string\n",
    "    n1, n2 = len(s1), len(s2)\n",
    "    if i1 == n1:\n",
    "        return n2 - i2\n",
    "    if i2 == n2:\n",
    "        return n1 - i1\n",
    "\n",
    "    if s1[i1] == s2[i2]:\n",
    "        return 1 + find_SCS_length_recursive(s1, s2, i1 + 1, i2 + 1)\n",
    "\n",
    "    length1 = 1 + find_SCS_length_recursive(s1, s2, i1, i2 + 1)\n",
    "    length2 = 1 + find_SCS_length_recursive(s1, s2, i1 + 1, i2)\n",
    "\n",
    "    return min(length1, length2)\n",
    "\n",
    "\n",
    "def main():\n",
    "    print(find_SCS_length(\"abcf\", \"bdcf\"))\n",
    "    print(find_SCS_length(\"dynamic\", \"programming\"))\n",
    "\n",
    "\n",
    "main()"
   ]
  },
  {
   "cell_type": "markdown",
   "metadata": {},
   "source": [
    "#### Top-down Dynamic Programming with Memoization"
   ]
  },
  {
   "cell_type": "code",
   "execution_count": 56,
   "metadata": {},
   "outputs": [
    {
     "name": "stdout",
     "output_type": "stream",
     "text": [
      "5\n",
      "15\n"
     ]
    }
   ],
   "source": [
    "def find_SCS_length(s1, s2):\n",
    "    dp = [[-1 for _ in range(len(s2))] for _ in range(len(s1))]\n",
    "    return find_SCS_length_recursive(dp, s1, s2, 0, 0)\n",
    "\n",
    "\n",
    "def find_SCS_length_recursive(dp, s1, s2,    i1,    i2):\n",
    "    n1, n2 = len(s1), len(s2)\n",
    "    # if we have reached the end of a string, return the remaining length of the\n",
    "    # other string, as in this case we have to take all of the remaining other string\n",
    "    if i1 == n1:\n",
    "        return n2 - i2\n",
    "    if i2 == n2:\n",
    "        return n1 - i1\n",
    "\n",
    "    if dp[i1][i2] == -1:\n",
    "        if s1[i1] == s2[i2]:\n",
    "            dp[i1][i2] = 1 + \\\n",
    "                                     find_SCS_length_recursive(dp, s1, s2, i1 + 1, i2 + 1)\n",
    "        else:\n",
    "            length1 = 1 + find_SCS_length_recursive(dp, s1, s2, i1, i2 + 1)\n",
    "            length2 = 1 + find_SCS_length_recursive(dp, s1, s2, i1 + 1, i2)\n",
    "            dp[i1][i2] = min(length1, length2)\n",
    "\n",
    "    return dp[i1][i2]\n",
    "\n",
    "\n",
    "def main():\n",
    "    print(find_SCS_length(\"abcf\", \"bdcf\"))\n",
    "    print(find_SCS_length(\"dynamic\", \"programming\"))\n",
    "\n",
    "\n",
    "main()"
   ]
  },
  {
   "cell_type": "markdown",
   "metadata": {},
   "source": [
    "#### Bottom-up Dynamic Programming"
   ]
  },
  {
   "cell_type": "code",
   "execution_count": 57,
   "metadata": {},
   "outputs": [
    {
     "name": "stdout",
     "output_type": "stream",
     "text": [
      "5\n",
      "15\n"
     ]
    }
   ],
   "source": [
    "def find_SCS_length(s1, s2):\n",
    "    n1, n2 = len(s1), len(s2)\n",
    "    dp = [[0 for _ in range(len(s2)+1)] for _ in range(len(s1)+1)]\n",
    "\n",
    "    # if one of the strings is of zero length, SCS would be equal to the length of the other string\n",
    "    for i in range(n1+1):\n",
    "        dp[i][0] = i\n",
    "    for j in range(n2+1):\n",
    "        dp[0][j] = j\n",
    "\n",
    "    for i in range(1, n1+1):\n",
    "        for j in range(1, n2+1):\n",
    "            if s1[i-1] == s2[j-1]:\n",
    "                dp[i][j] = 1 + dp[i-1][j-1]\n",
    "            else:\n",
    "                dp[i][j] = 1 + min(dp[i-1][j], dp[i][j-1])\n",
    "\n",
    "    return dp[n1][n2]\n",
    "\n",
    "\n",
    "def main():\n",
    "    print(find_SCS_length(\"abcf\", \"bdcf\"))\n",
    "    print(find_SCS_length(\"dynamic\", \"programming\"))\n",
    "\n",
    "\n",
    "main()"
   ]
  },
  {
   "cell_type": "markdown",
   "metadata": {},
   "source": [
    "### Minimum Deletions to Make a Sequence Sorted"
   ]
  },
  {
   "cell_type": "markdown",
   "metadata": {},
   "source": [
    "Given a number sequence, find the minimum number of elements that should be deleted to make the remaining sequence sorted."
   ]
  },
  {
   "cell_type": "code",
   "execution_count": 58,
   "metadata": {},
   "outputs": [
    {
     "name": "stdout",
     "output_type": "stream",
     "text": [
      "2\n",
      "1\n",
      "3\n"
     ]
    }
   ],
   "source": [
    "def find_minimum_deletions(nums):\n",
    "    # subtracting the length of LIS from the length of the input array to get minimum number of deletions\n",
    "    return len(nums) - find_LIS_length(nums)\n",
    "\n",
    "\n",
    "def find_LIS_length(nums):\n",
    "    n = len(nums)\n",
    "    dp = [0 for _ in range(n)]\n",
    "    dp[0] = 1\n",
    "\n",
    "    maxLength = 1\n",
    "    for i in range(1, n):\n",
    "        dp[i] = 1\n",
    "        for j in range(i):\n",
    "            if nums[i] > nums[j] and dp[i] <= dp[j]:\n",
    "                dp[i] = dp[j] + 1\n",
    "                maxLength = max(maxLength, dp[i])\n",
    "\n",
    "    return maxLength\n",
    "\n",
    "\n",
    "def main():\n",
    "    print(find_minimum_deletions([4, 2, 3, 6, 10, 1, 12]))\n",
    "    print(find_minimum_deletions([-4, 10, 3, 7, 15]))\n",
    "    print(find_minimum_deletions([3, 2, 1, 0]))\n",
    "\n",
    "\n",
    "main()"
   ]
  },
  {
   "cell_type": "markdown",
   "metadata": {},
   "source": [
    "### Longest Repeating Subsequence"
   ]
  },
  {
   "cell_type": "markdown",
   "metadata": {},
   "source": [
    "Given a sequence, find the length of its longest repeating subsequence (LRS). A repeating subsequence will be the one that appears at least twice in the original sequence and is not overlapping (i.e. none of the corresponding characters in the repeating subsequences have the same index)."
   ]
  },
  {
   "cell_type": "markdown",
   "metadata": {},
   "source": [
    "#### Basic Solution"
   ]
  },
  {
   "cell_type": "code",
   "execution_count": 59,
   "metadata": {},
   "outputs": [
    {
     "name": "stdout",
     "output_type": "stream",
     "text": [
      "2\n",
      "3\n",
      "2\n"
     ]
    }
   ],
   "source": [
    "def find_LRS_length(str):\n",
    "    return find_LRS_length_recursive(str, 0, 0)\n",
    "\n",
    "\n",
    "def find_LRS_length_recursive(str,    i1,    i2):\n",
    "    if i1 == len(str) or i2 == len(str):\n",
    "        return 0\n",
    "\n",
    "    if i1 != i2 and str[i1] == str[i2]:\n",
    "        return 1 + find_LRS_length_recursive(str, i1 + 1, i2 + 1)\n",
    "\n",
    "    c1 = find_LRS_length_recursive(str, i1, i2 + 1)\n",
    "    c2 = find_LRS_length_recursive(str, i1 + 1, i2)\n",
    "\n",
    "    return max(c1, c2)\n",
    "\n",
    "\n",
    "def main():\n",
    "    print(find_LRS_length(\"tomorrow\"))\n",
    "    print(find_LRS_length(\"aabdbcec\"))\n",
    "    print(find_LRS_length(\"fmff\"))\n",
    "\n",
    "\n",
    "main()"
   ]
  },
  {
   "cell_type": "markdown",
   "metadata": {},
   "source": [
    "#### Top-down Dynamic Programming with Memoization"
   ]
  },
  {
   "cell_type": "code",
   "execution_count": 60,
   "metadata": {},
   "outputs": [
    {
     "name": "stdout",
     "output_type": "stream",
     "text": [
      "2\n",
      "3\n",
      "2\n"
     ]
    }
   ],
   "source": [
    "def find_LRS_length(str):\n",
    "    n = len(str)\n",
    "    dp = [[-1 for _ in range(n)] for _ in range(n)]\n",
    "    return find_LRS_length_recursive(dp, str, 0, 0)\n",
    "\n",
    "\n",
    "def find_LRS_length_recursive(dp,    str, i1, i2):\n",
    "    n = len(str)\n",
    "    if i1 == n or i2 == n:\n",
    "        return 0\n",
    "\n",
    "    if dp[i1][i2] == -1:\n",
    "        if i1 != i2 and str[i1] == str[i2]:\n",
    "            dp[i1][i2] = 1 + find_LRS_length_recursive(dp, str, i1 + 1, i2 + 1)\n",
    "        else:\n",
    "            c1 = find_LRS_length_recursive(dp, str, i1, i2 + 1)\n",
    "            c2 = find_LRS_length_recursive(dp, str, i1 + 1, i2)\n",
    "            dp[i1][i2] = max(c1, c2)\n",
    "\n",
    "    return dp[i1][i2]\n",
    "\n",
    "\n",
    "def main():\n",
    "    print(find_LRS_length(\"tomorrow\"))\n",
    "    print(find_LRS_length(\"aabdbcec\"))\n",
    "    print(find_LRS_length(\"fmff\"))\n",
    "\n",
    "\n",
    "main()"
   ]
  },
  {
   "cell_type": "markdown",
   "metadata": {},
   "source": [
    "#### Bottom-up Dynamic Programming"
   ]
  },
  {
   "cell_type": "code",
   "execution_count": 61,
   "metadata": {},
   "outputs": [
    {
     "name": "stdout",
     "output_type": "stream",
     "text": [
      "2\n",
      "3\n",
      "2\n"
     ]
    }
   ],
   "source": [
    "def find_LRS_length(str):\n",
    "    n = len(str)\n",
    "    dp = [[0 for _ in range(n+1)] for _ in range(n+1)]\n",
    "    maxLength = 0\n",
    "    # dp[i1][i2] will be storing the LRS up to str[0..i1-1][0..i2-1]\n",
    "    # this also means that subsequences of length zero(first row and column of\n",
    "    # dp[][]), will always have LRS of size zero.\n",
    "    for i1 in range(1, n+1):\n",
    "        for i2 in range(1, n+1):\n",
    "            if i1 != i2 and str[i1 - 1] == str[i2 - 1]:\n",
    "                dp[i1][i2] = 1 + dp[i1 - 1][i2 - 1]\n",
    "            else:\n",
    "                dp[i1][i2] = max(dp[i1 - 1][i2], dp[i1][i2 - 1])\n",
    "\n",
    "            maxLength = max(maxLength, dp[i1][i2])\n",
    "\n",
    "    return maxLength\n",
    "\n",
    "\n",
    "def main():\n",
    "    print(find_LRS_length(\"tomorrow\"))\n",
    "    print(find_LRS_length(\"aabdbcec\"))\n",
    "    print(find_LRS_length(\"fmff\"))\n",
    "\n",
    "\n",
    "main()"
   ]
  },
  {
   "cell_type": "markdown",
   "metadata": {},
   "source": [
    "### Subsequence Pattern Matching"
   ]
  },
  {
   "cell_type": "markdown",
   "metadata": {},
   "source": [
    "Given a string and a pattern, write a method to count the number of times the pattern appears in the string as a subsequence."
   ]
  },
  {
   "cell_type": "markdown",
   "metadata": {},
   "source": [
    "#### Basic Solution"
   ]
  },
  {
   "cell_type": "code",
   "execution_count": 62,
   "metadata": {},
   "outputs": [
    {
     "name": "stdout",
     "output_type": "stream",
     "text": [
      "2\n",
      "4\n"
     ]
    }
   ],
   "source": [
    "def find_SPM_count(str, pat):\n",
    "    return find_SPM_count_recursive(str, pat, 0, 0)\n",
    "\n",
    "\n",
    "def find_SPM_count_recursive(str,    pat,    strIndex,    patIndex):\n",
    "\n",
    "    # if we have reached the end of the pattern\n",
    "    if patIndex == len(pat):\n",
    "        return 1\n",
    "\n",
    "    # if we have reached the end of the string but pattern has still some characters left\n",
    "    if strIndex == len(str):\n",
    "        return 0\n",
    "\n",
    "    c1 = 0\n",
    "    if str[strIndex] == pat[patIndex]:\n",
    "        c1 = find_SPM_count_recursive(str, pat, strIndex + 1, patIndex + 1)\n",
    "\n",
    "    c2 = find_SPM_count_recursive(str, pat, strIndex + 1, patIndex)\n",
    "\n",
    "    return c1 + c2\n",
    "\n",
    "\n",
    "def main():\n",
    "    print(find_SPM_count(\"baxmx\", \"ax\"))\n",
    "    print(find_SPM_count(\"tomorrow\", \"tor\"))\n",
    "\n",
    "\n",
    "main()"
   ]
  },
  {
   "cell_type": "markdown",
   "metadata": {},
   "source": [
    "#### Top-down Dynamic Programming with Memoization"
   ]
  },
  {
   "cell_type": "code",
   "execution_count": 63,
   "metadata": {},
   "outputs": [
    {
     "name": "stdout",
     "output_type": "stream",
     "text": [
      "2\n",
      "4\n"
     ]
    }
   ],
   "source": [
    "def find_SPM_count(str, pat):\n",
    "    dp = [[-1 for _ in range(len(pat))] for _ in range(len(str))]\n",
    "    return find_SPM_count_recursive(dp, str, pat, 0, 0)\n",
    "\n",
    "\n",
    "def find_SPM_count_recursive(dp, str, pat, strIndex, patIndex):\n",
    "\n",
    "    # if we have reached the end of the pattern\n",
    "    if patIndex == len(pat):\n",
    "        return 1\n",
    "\n",
    "    # if we have reached the end of the string but pattern has still some characters left\n",
    "    if strIndex == len(str):\n",
    "        return 0\n",
    "\n",
    "    if dp[strIndex][patIndex] == -1:\n",
    "        c1 = 0\n",
    "        if str[strIndex] == pat[patIndex]:\n",
    "            c1 = find_SPM_count_recursive(\n",
    "                dp, str, pat, strIndex + 1, patIndex + 1)\n",
    "        c2 = find_SPM_count_recursive(dp, str, pat, strIndex + 1, patIndex)\n",
    "        dp[strIndex][patIndex] = c1 + c2\n",
    "\n",
    "    return dp[strIndex][patIndex]\n",
    "\n",
    "\n",
    "def main():\n",
    "    print(find_SPM_count(\"baxmx\", \"ax\"))\n",
    "    print(find_SPM_count(\"tomorrow\", \"tor\"))\n",
    "\n",
    "\n",
    "main()"
   ]
  },
  {
   "cell_type": "markdown",
   "metadata": {},
   "source": [
    "#### Bottom-up Dynamic Programming"
   ]
  },
  {
   "cell_type": "code",
   "execution_count": 64,
   "metadata": {},
   "outputs": [
    {
     "name": "stdout",
     "output_type": "stream",
     "text": [
      "2\n",
      "4\n"
     ]
    }
   ],
   "source": [
    "def find_SPM_count(str, pat):\n",
    "    strLen, patLen = len(str), len(pat)\n",
    "    # every empty pattern has one match\n",
    "    if patLen == 0:\n",
    "        return 1\n",
    "\n",
    "    if strLen == 0 or patLen > strLen:\n",
    "        return 0\n",
    "\n",
    "    # dp[strIndex][patIndex] will be storing the count of SPM up to str[0..strIndex-1][0..patIndex-1]\n",
    "    dp = [[0 for _ in range(patLen+1)] for _ in range(strLen+1)]\n",
    "\n",
    "    # for the empty pattern, we have one matching\n",
    "    for i in range(strLen+1):\n",
    "        dp[i][0] = 1\n",
    "\n",
    "    for strIndex in range(1, strLen+1):\n",
    "        for patIndex in range(1, patLen+1):\n",
    "            if str[strIndex - 1] == pat[patIndex - 1]:\n",
    "                dp[strIndex][patIndex] = dp[strIndex - 1][patIndex - 1]\n",
    "            dp[strIndex][patIndex] += dp[strIndex - 1][patIndex]\n",
    "\n",
    "    return dp[strLen][patLen]\n",
    "\n",
    "\n",
    "def main():\n",
    "    print(find_SPM_count(\"baxmx\", \"ax\"))\n",
    "    print(find_SPM_count(\"tomorrow\", \"tor\"))\n",
    "\n",
    "\n",
    "main()"
   ]
  },
  {
   "cell_type": "markdown",
   "metadata": {},
   "source": [
    "### Longest Bitonic Subsequence"
   ]
  },
  {
   "cell_type": "markdown",
   "metadata": {},
   "source": [
    "Given a number sequence, find the length of its Longest Bitonic Subsequence (LBS). A subsequence is considered bitonic if it is monotonically increasing and then monotonically decreasing."
   ]
  },
  {
   "cell_type": "markdown",
   "metadata": {},
   "source": [
    "#### Basic Solution"
   ]
  },
  {
   "cell_type": "code",
   "execution_count": 65,
   "metadata": {},
   "outputs": [
    {
     "name": "stdout",
     "output_type": "stream",
     "text": [
      "5\n",
      "7\n"
     ]
    }
   ],
   "source": [
    "def find_LBS_length(nums):\n",
    "    maxLength = 0\n",
    "    for i in range(len(nums)):\n",
    "        c1 = find_LDS_length(nums, i, -1)\n",
    "        c2 = find_LDS_length_rev(nums, i, -1)\n",
    "        maxLength = max(maxLength, c1 + c2 - 1)\n",
    "    return maxLength\n",
    "\n",
    "# find the longest decreasing subsequence from currentIndex till the end of the array\n",
    "\n",
    "\n",
    "def find_LDS_length(nums,    currentIndex, previousIndex):\n",
    "    if currentIndex == len(nums):\n",
    "        return 0\n",
    "\n",
    "    # include nums[currentIndex] if it is smaller than the previous number\n",
    "    c1 = 0\n",
    "    if previousIndex == -1 or nums[currentIndex] < nums[previousIndex]:\n",
    "        c1 = 1 + find_LDS_length(nums, currentIndex + 1, currentIndex)\n",
    "\n",
    "    # excluding the number at currentIndex\n",
    "    c2 = find_LDS_length(nums, currentIndex + 1, previousIndex)\n",
    "\n",
    "    return max(c1, c2)\n",
    "\n",
    "# find the longest decreasing subsequence from currentIndex till the beginning of the array\n",
    "\n",
    "\n",
    "def find_LDS_length_rev(nums,    currentIndex,    previousIndex):\n",
    "    if currentIndex < 0:\n",
    "        return 0\n",
    "\n",
    "    # include nums[currentIndex] if it is smaller than the previous number\n",
    "    c1 = 0\n",
    "    if previousIndex == -1 or nums[currentIndex] < nums[previousIndex]:\n",
    "        c1 = 1 + find_LDS_length_rev(nums, currentIndex - 1, currentIndex)\n",
    "\n",
    "    # excluding the number at currentIndex\n",
    "    c2 = find_LDS_length_rev(nums, currentIndex - 1, previousIndex)\n",
    "\n",
    "    return max(c1, c2)\n",
    "\n",
    "\n",
    "def main():\n",
    "    print(find_LBS_length([4, 2, 3, 6, 10, 1, 12]))\n",
    "    print(find_LBS_length([4, 2, 5, 9, 7, 6, 10, 3, 1]))\n",
    "\n",
    "\n",
    "main()"
   ]
  },
  {
   "cell_type": "markdown",
   "metadata": {},
   "source": [
    "#### Top-down Dynamic Programming with Memoization"
   ]
  },
  {
   "cell_type": "code",
   "execution_count": 66,
   "metadata": {},
   "outputs": [
    {
     "name": "stdout",
     "output_type": "stream",
     "text": [
      "5\n",
      "7\n"
     ]
    }
   ],
   "source": [
    "def find_LBS_length(nums):\n",
    "    n = len(nums)\n",
    "\n",
    "    lds = [[-1 for _ in range(n+1)] for _ in range(n)]\n",
    "    ldsRev = [[-1 for _ in range(n+1)] for _ in range(n)]\n",
    "\n",
    "    maxLength = 0\n",
    "    for i in range(n):\n",
    "        c1 = find_LDS_length(lds, nums, i, -1)\n",
    "        c2 = find_LDS_length_rev(ldsRev, nums, i, -1)\n",
    "        maxLength = max(maxLength, c1 + c2 - 1)\n",
    "\n",
    "    return maxLength\n",
    "\n",
    "# find the longest decreasing subsequence from currentIndex till the end of the array\n",
    "\n",
    "\n",
    "def find_LDS_length(dp,    nums,    currentIndex,    previousIndex):\n",
    "    if currentIndex == len(nums):\n",
    "        return 0\n",
    "\n",
    "    if dp[currentIndex][previousIndex + 1] == -1:\n",
    "        # include nums[currentIndex] if it is smaller than the previous number\n",
    "        c1 = 0\n",
    "        if previousIndex == -1 or nums[currentIndex] < nums[previousIndex]:\n",
    "            c1 = 1 + find_LDS_length(dp, nums, currentIndex + 1, currentIndex)\n",
    "\n",
    "        # excluding the number at currentIndex\n",
    "        c2 = find_LDS_length(dp, nums, currentIndex + 1, previousIndex)\n",
    "\n",
    "        dp[currentIndex][previousIndex + 1] = max(c1, c2)\n",
    "\n",
    "    return dp[currentIndex][previousIndex + 1]\n",
    "\n",
    "# find the longest decreasing subsequence from currentIndex till the beginning of the array\n",
    "\n",
    "\n",
    "def find_LDS_length_rev(dp,    nums,    currentIndex,    previousIndex):\n",
    "    if currentIndex < 0:\n",
    "        return 0\n",
    "\n",
    "    if dp[currentIndex][previousIndex + 1] == -1:\n",
    "        # include nums[currentIndex] if it is smaller than the previous number\n",
    "        c1 = 0\n",
    "        if previousIndex == -1 or nums[currentIndex] < nums[previousIndex]:\n",
    "            c1 = 1 + find_LDS_length_rev(dp, nums,\n",
    "                                                                     currentIndex - 1, currentIndex)\n",
    "\n",
    "        # excluding the number at currentIndex\n",
    "        c2 = find_LDS_length_rev(dp, nums, currentIndex - 1, previousIndex)\n",
    "\n",
    "        dp[currentIndex][previousIndex + 1] = max(c1, c2)\n",
    "    return dp[currentIndex][previousIndex + 1]\n",
    "\n",
    "\n",
    "def main():\n",
    "    print(find_LBS_length([4, 2, 3, 6, 10, 1, 12]))\n",
    "    print(find_LBS_length([4, 2, 5, 9, 7, 6, 10, 3, 1]))\n",
    "\n",
    "\n",
    "main()"
   ]
  },
  {
   "cell_type": "markdown",
   "metadata": {},
   "source": [
    "#### Bottom-up Dynamic Programming"
   ]
  },
  {
   "cell_type": "code",
   "execution_count": 67,
   "metadata": {},
   "outputs": [
    {
     "name": "stdout",
     "output_type": "stream",
     "text": [
      "5\n",
      "7\n"
     ]
    }
   ],
   "source": [
    "def find_LBS_length(nums):\n",
    "    n = len(nums)\n",
    "    lds = [0 for _ in range(n)]\n",
    "    ldsReverse = [0 for _ in range(n)]\n",
    "\n",
    "    # find LDS for every index up to the beginning of the array\n",
    "    for i in range(n):\n",
    "        lds[i] = 1    # every element is an LDS of length 1\n",
    "        for j in range(i-1, -1, -1):\n",
    "            if nums[j] < nums[i]:\n",
    "                lds[i] = max(lds[i], lds[j] + 1)\n",
    "\n",
    "    # find LDS for every index up to the end of the array\n",
    "    for i in range(n-1, -1, -1):\n",
    "        ldsReverse[i] = 1    # every element is an LDS of length 1\n",
    "        for j in range(i+1, n):\n",
    "            if nums[j] < nums[i]:\n",
    "                ldsReverse[i] = max(ldsReverse[i], ldsReverse[j]+1)\n",
    "\n",
    "    maxLength = 0\n",
    "    for i in range(n):\n",
    "        maxLength = max(maxLength, lds[i] + ldsReverse[i]-1)\n",
    "\n",
    "    return maxLength\n",
    "\n",
    "\n",
    "def main():\n",
    "    print(find_LBS_length([4, 2, 3, 6, 10, 1, 12]))\n",
    "    print(find_LBS_length([4, 2, 5, 9, 7, 6, 10, 3, 1]))\n",
    "\n",
    "\n",
    "main()"
   ]
  },
  {
   "cell_type": "markdown",
   "metadata": {},
   "source": [
    "### Longest Alternating Subsequence"
   ]
  },
  {
   "cell_type": "markdown",
   "metadata": {},
   "source": [
    "Given a number sequence, find the length of its Longest Alternating Subsequence (LAS). A subsequence is considered alternating if its elements are in alternating order.\n",
    "\n",
    "A three element sequence (a1, a2, a3) will be an alternating sequence if its elements hold one of the following conditions:\n",
    "\n",
    "    {a1 > a2 < a3 } or { a1 < a2 > a3}. "
   ]
  },
  {
   "cell_type": "markdown",
   "metadata": {},
   "source": [
    "#### Basic Solution"
   ]
  },
  {
   "cell_type": "code",
   "execution_count": 68,
   "metadata": {},
   "outputs": [
    {
     "name": "stdout",
     "output_type": "stream",
     "text": [
      "2\n",
      "3\n",
      "4\n"
     ]
    }
   ],
   "source": [
    "def find_LAS_length(nums):\n",
    "    # we have to start with two recursive calls, one where we will consider that the first element is\n",
    "    # bigger than the second element and one where the first element is smaller than the second element\n",
    "    return max(find_LAS_length_recursive(nums, -1, 0, True), find_LAS_length_recursive(nums, -1, 0, False))\n",
    "\n",
    "\n",
    "def find_LAS_length_recursive(nums,    previousIndex,    currentIndex,    isAsc):\n",
    "    if currentIndex == len(nums):\n",
    "        return 0\n",
    "\n",
    "    c1 = 0\n",
    "    # if ascending, the next element should be bigger\n",
    "    if isAsc:\n",
    "        if previousIndex == -1 or nums[previousIndex] < nums[currentIndex]:\n",
    "            c1 = 1 + find_LAS_length_recursive(nums, currentIndex, currentIndex + 1, not isAsc)\n",
    "    else:    # if descending, the next element should be smaller\n",
    "        if previousIndex == -1 or nums[previousIndex] > nums[currentIndex]:\n",
    "            c1 = 1 + find_LAS_length_recursive(nums, currentIndex, currentIndex + 1, not isAsc)\n",
    "    # skip the current element\n",
    "    c2 = find_LAS_length_recursive(\n",
    "        nums, previousIndex, currentIndex + 1, isAsc)\n",
    "    return max(c1, c2)\n",
    "\n",
    "\n",
    "def main():\n",
    "    print(find_LAS_length([1, 2, 3, 4]))\n",
    "    print(find_LAS_length([3, 2, 1, 4]))\n",
    "    print(find_LAS_length([1, 3, 2, 4]))\n",
    "\n",
    "\n",
    "main()"
   ]
  },
  {
   "cell_type": "markdown",
   "metadata": {},
   "source": [
    "#### Top-down Dynamic Programming with Memoization"
   ]
  },
  {
   "cell_type": "code",
   "execution_count": 69,
   "metadata": {},
   "outputs": [
    {
     "name": "stdout",
     "output_type": "stream",
     "text": [
      "2\n",
      "3\n",
      "4\n"
     ]
    }
   ],
   "source": [
    "def find_LAS_length(nums):\n",
    "    n = len(nums)\n",
    "    dp = [[[-1 for _ in range(2)] for _ in range(n)] for _ in range(n)]\n",
    "    return max(find_LAS_length_recursive(dp, nums, -1, 0, True),\n",
    "                         find_LAS_length_recursive(dp, nums, -1, 0, False))\n",
    "\n",
    "\n",
    "def find_LAS_length_recursive(dp, nums, previousIndex, currentIndex, isAsc):\n",
    "\n",
    "    if currentIndex == len(nums):\n",
    "        return 0\n",
    "\n",
    "    if dp[previousIndex + 1][currentIndex][1 if isAsc else 0] == -1:\n",
    "        c1 = 0\n",
    "        # if ascending, the next element should be bigger\n",
    "        if isAsc:\n",
    "            if previousIndex == -1 or nums[previousIndex] < nums[currentIndex]:\n",
    "                c1 = 1 + find_LAS_length_recursive(dp, nums, currentIndex, currentIndex + 1, not isAsc)\n",
    "        else:    # if descending, the next element should be smaller\n",
    "            if previousIndex == -1 or nums[previousIndex] > nums[currentIndex]:\n",
    "                c1 = 1 + find_LAS_length_recursive(dp, nums, currentIndex, currentIndex + 1, not isAsc)\n",
    "\n",
    "        # skip the current element\n",
    "        c2 = find_LAS_length_recursive(\n",
    "            dp, nums, previousIndex, currentIndex + 1, isAsc)\n",
    "        dp[previousIndex + 1][currentIndex][1 if isAsc else 0] = max(c1, c2)\n",
    "\n",
    "    return dp[previousIndex + 1][currentIndex][1 if isAsc else 0]\n",
    "\n",
    "\n",
    "def main():\n",
    "    print(find_LAS_length([1, 2, 3, 4]))\n",
    "    print(find_LAS_length([3, 2, 1, 4]))\n",
    "    print(find_LAS_length([1, 3, 2, 4]))\n",
    "\n",
    "\n",
    "main()"
   ]
  },
  {
   "cell_type": "markdown",
   "metadata": {},
   "source": [
    "#### Bottom-up Dynamic Programming"
   ]
  },
  {
   "cell_type": "code",
   "execution_count": 71,
   "metadata": {},
   "outputs": [
    {
     "name": "stdout",
     "output_type": "stream",
     "text": [
      "2\n",
      "3\n",
      "4\n"
     ]
    }
   ],
   "source": [
    "def find_LAS_length(nums):\n",
    "    n = len(nums)\n",
    "    if n == 0:\n",
    "        return 0\n",
    "    # dp[i][0] = stores the LAS ending at 'i' such that the last two elements are in ascending order\n",
    "    # dp[i][1] = stores the LAS ending at 'i' such that the last two elements are in descending order\n",
    "    dp = [[0 for _ in range(2)] for _ in range(n)]\n",
    "    maxLength = 1\n",
    "    for i in range(n):\n",
    "        # every single element can be considered as LAS of length 1\n",
    "        dp[i][0] = dp[i][1] = 1\n",
    "        for j in range(i):\n",
    "            if nums[i] > nums[j]:\n",
    "                # if nums[i] is BIGGER than nums[j] then we will consider the LAS ending at 'j' where the\n",
    "                # last two elements were in DESCENDING order\n",
    "                dp[i][0] = max(dp[i][0], 1 + dp[j][1])\n",
    "                maxLength = max(maxLength, dp[i][0])\n",
    "            elif nums[i] != nums[j]:    # if the numbers are equal don't do anything\n",
    "                # if nums[i] is SMALLER than nums[j] then we will consider the LAS ending at\n",
    "                # 'j' where the last two elements were in ASCENDING order\n",
    "                dp[i][1] = max(dp[i][1], 1 + dp[j][0])\n",
    "                maxLength = max(maxLength, dp[i][1])\n",
    "    return maxLength\n",
    "\n",
    "\n",
    "def main():\n",
    "    print(find_LAS_length([1, 2, 3, 4]))\n",
    "    print(find_LAS_length([3, 2, 1, 4]))\n",
    "    print(find_LAS_length([1, 3, 2, 4]))\n",
    "\n",
    "\n",
    "main()"
   ]
  },
  {
   "cell_type": "markdown",
   "metadata": {},
   "source": [
    "### Edit Distance"
   ]
  },
  {
   "cell_type": "markdown",
   "metadata": {},
   "source": [
    "Given strings s1 and s2, we need to transform s1 into s2 by deleting, inserting, or replacing characters. Write a function to calculate the count of the minimum number of edit operations."
   ]
  },
  {
   "cell_type": "markdown",
   "metadata": {},
   "source": [
    "#### Basic Solution"
   ]
  },
  {
   "cell_type": "code",
   "execution_count": 72,
   "metadata": {},
   "outputs": [
    {
     "name": "stdout",
     "output_type": "stream",
     "text": [
      "1\n",
      "2\n",
      "3\n"
     ]
    }
   ],
   "source": [
    "def find_min_operations(s1, s2):\n",
    "    return find_min_operations_recursive(s1, s2, 0, 0)\n",
    "\n",
    "\n",
    "def find_min_operations_recursive(s1, s2, i1, i2):\n",
    "\n",
    "    n1, n2 = len(s1), len(s2)\n",
    "    # if we have reached the end of s1, then we have to insert all the remaining characters of s2\n",
    "    if i1 == n1:\n",
    "        return n2 - i2\n",
    "\n",
    "    # if we have reached the end of s2, then we have to delete all the remaining characters of s1\n",
    "    if i2 == n2:\n",
    "        return n1 - i1\n",
    "\n",
    "    # If the strings have a matching character, we can recursively match for the remaining lengths\n",
    "    if s1[i1] == s2[i2]:\n",
    "        return find_min_operations_recursive(s1, s2, i1 + 1, i2 + 1)\n",
    "\n",
    "    # perform deletion\n",
    "    c1 = 1 + find_min_operations_recursive(s1, s2, i1 + 1, i2)\n",
    "    # perform insertion\n",
    "    c2 = 1 + find_min_operations_recursive(s1, s2, i1, i2 + 1)\n",
    "    # perform replacement\n",
    "    c3 = 1 + find_min_operations_recursive(s1, s2, i1 + 1, i2 + 1)\n",
    "\n",
    "    return min(c1, min(c2, c3))\n",
    "\n",
    "\n",
    "def main():\n",
    "    print(find_min_operations(\"bat\", \"but\"))\n",
    "    print(find_min_operations(\"abdca\", \"cbda\"))\n",
    "    print(find_min_operations(\"passpot\", \"ppsspqrt\"))\n",
    "\n",
    "\n",
    "main()"
   ]
  },
  {
   "cell_type": "markdown",
   "metadata": {},
   "source": [
    "#### Top-down Dynamic Programming with Memoization"
   ]
  },
  {
   "cell_type": "code",
   "execution_count": 73,
   "metadata": {},
   "outputs": [
    {
     "name": "stdout",
     "output_type": "stream",
     "text": [
      "1\n",
      "2\n",
      "3\n"
     ]
    }
   ],
   "source": [
    "def find_min_operations(s1, s2):\n",
    "    dp = [[-1 for _ in range(len(s2)+1)] for _ in range(len(s1)+1)]\n",
    "    return find_min_operations_recursive(dp, s1, s2, 0, 0)\n",
    "\n",
    "\n",
    "def find_min_operations_recursive(dp, s1,    s2,    i1,    i2):\n",
    "    n1, n2 = len(s1), len(s2)\n",
    "    if dp[i1][i2] == -1:\n",
    "        # if we have reached the end of s1, then we have to insert all the remaining characters of s2\n",
    "        if i1 == n1:\n",
    "            dp[i1][i2] = n2 - i2\n",
    "\n",
    "        # if we have reached the end of s2, then we have to delete all the remaining characters of s1\n",
    "        elif i2 == n2:\n",
    "            dp[i1][i2] = n1 - i1\n",
    "\n",
    "        # If the strings have a matching character, we can recursively match for the remaining lengths\n",
    "        elif s1[i1] == s2[i2]:\n",
    "            dp[i1][i2] = find_min_operations_recursive(\n",
    "                dp, s1, s2, i1 + 1, i2 + 1)\n",
    "        else:\n",
    "            c1 = find_min_operations_recursive(\n",
    "                dp, s1, s2, i1 + 1, i2)    # delete\n",
    "            c2 = find_min_operations_recursive(\n",
    "                dp, s1, s2, i1, i2 + 1)    # insert\n",
    "            c3 = find_min_operations_recursive(\n",
    "                dp, s1, s2, i1 + 1, i2 + 1)    # replace\n",
    "            dp[i1][i2] = 1 + min(c1, min(c2, c3))\n",
    "\n",
    "    return dp[i1][i2]\n",
    "\n",
    "\n",
    "def main():\n",
    "    print(find_min_operations(\"bat\", \"but\"))\n",
    "    print(find_min_operations(\"abdca\", \"cbda\"))\n",
    "    print(find_min_operations(\"passpot\", \"ppsspqrt\"))\n",
    "\n",
    "\n",
    "main()"
   ]
  },
  {
   "cell_type": "markdown",
   "metadata": {},
   "source": [
    "#### Bottom-up Dynamic Programming"
   ]
  },
  {
   "cell_type": "code",
   "execution_count": 75,
   "metadata": {},
   "outputs": [
    {
     "name": "stdout",
     "output_type": "stream",
     "text": [
      "1\n",
      "2\n",
      "3\n"
     ]
    }
   ],
   "source": [
    "def find_min_operations(s1, s2):\n",
    "    n1, n2 = len(s1), len(s2)\n",
    "    dp = [[-1 for _ in range(n2+1)] for _ in range(n1+1)]\n",
    "\n",
    "    # if s2 is empty, we can remove all the characters of s1 to make it empty too\n",
    "    for i1 in range(n1+1):\n",
    "        dp[i1][0] = i1\n",
    "\n",
    "    # if s1 is empty, we have to insert all the characters of s2\n",
    "    for i2 in range(n2+1):\n",
    "        dp[0][i2] = i2\n",
    "\n",
    "    for i1 in range(1, n1+1):\n",
    "        for i2 in range(1, n2+1):\n",
    "            # If the strings have a matching character, we can recursively match for the remaining lengths\n",
    "            if s1[i1 - 1] == s2[i2 - 1]:\n",
    "                dp[i1][i2] = dp[i1 - 1][i2 - 1]\n",
    "            else:\n",
    "                dp[i1][i2] = 1 + min(dp[i1 - 1][i2],    # delete\n",
    "                                     min(dp[i1][i2 - 1],    # insert\n",
    "                                         dp[i1 - 1][i2 - 1]))    # replace\n",
    "\n",
    "    return dp[n1][n2]\n",
    "\n",
    "\n",
    "def main():\n",
    "    print(find_min_operations(\"bat\", \"but\"))\n",
    "    print(find_min_operations(\"abdca\", \"cbda\"))\n",
    "    print(find_min_operations(\"passpot\", \"ppsspqrt\"))\n",
    "\n",
    "\n",
    "main()"
   ]
  },
  {
   "cell_type": "markdown",
   "metadata": {},
   "source": [
    "### Strings Interleaving"
   ]
  },
  {
   "cell_type": "markdown",
   "metadata": {},
   "source": [
    "Give three strings ‘m’, ‘n’, and ‘p’, write a method to find out if ‘p’ has been formed by interleaving ‘m’ and ‘n’. ‘p’ would be considered interleaving ‘m’ and ‘n’ if it contains all the letters from ‘m’ and ‘n’ and the order of letters is preserved too."
   ]
  },
  {
   "cell_type": "markdown",
   "metadata": {},
   "source": [
    "#### Basic Solution"
   ]
  },
  {
   "cell_type": "code",
   "execution_count": 76,
   "metadata": {
    "scrolled": true
   },
   "outputs": [
    {
     "name": "stdout",
     "output_type": "stream",
     "text": [
      "True\n",
      "False\n",
      "False\n",
      "True\n"
     ]
    }
   ],
   "source": [
    "def find_SI(m, n, p):\n",
    "    return find_SI_recursive(m, n, p, 0, 0, 0)\n",
    "\n",
    "\n",
    "def find_SI_recursive(m, n, p, mIndex, nIndex, pIndex):\n",
    "\n",
    "    mLen, nLen, pLen = len(m), len(n), len(p)\n",
    "    # if we have reached the end of the all the strings\n",
    "    if mIndex == mLen and nIndex == nLen and pIndex == pLen:\n",
    "        return True\n",
    "\n",
    "    # if we have reached the end of 'p' but 'm' or 'n' still has some characters left\n",
    "    if pIndex == pLen:\n",
    "        return False\n",
    "\n",
    "    b1, b2 = False, False\n",
    "    if mIndex < mLen and m[mIndex] == p[pIndex]:\n",
    "        b1 = find_SI_recursive(m, n, p, mIndex+1, nIndex, pIndex+1)\n",
    "\n",
    "    if nIndex < nLen and n[nIndex] == p[pIndex]:\n",
    "        b2 = find_SI_recursive(m, n, p, mIndex, nIndex+1, pIndex+1)\n",
    "\n",
    "    return b1 or b2\n",
    "\n",
    "\n",
    "def main():\n",
    "    print(find_SI(\"abd\", \"cef\", \"abcdef\"))\n",
    "    print(find_SI(\"abd\", \"cef\", \"adcbef\"))\n",
    "    print(find_SI(\"abc\", \"def\", \"abdccf\"))\n",
    "    print(find_SI(\"abcdef\", \"mnop\", \"mnaobcdepf\"))\n",
    "\n",
    "\n",
    "main()"
   ]
  },
  {
   "cell_type": "markdown",
   "metadata": {},
   "source": [
    "#### Top-down Dynamic Programming with Memoization"
   ]
  },
  {
   "cell_type": "code",
   "execution_count": 78,
   "metadata": {},
   "outputs": [
    {
     "name": "stdout",
     "output_type": "stream",
     "text": [
      "True\n",
      "False\n",
      "False\n",
      "True\n"
     ]
    }
   ],
   "source": [
    "def find_SI(m, n, p):\n",
    "    return find_SI_recursive({}, m, n, p, 0, 0, 0)\n",
    "\n",
    "\n",
    "def find_SI_recursive(dp, m, n, p, mIndex, nIndex, pIndex):\n",
    "    mLen, nLen, pLen = len(m), len(n), len(p)\n",
    "    # if we have reached the end of the all the strings\n",
    "\n",
    "    if mIndex == mLen and nIndex == nLen and pIndex == pLen:\n",
    "        return True\n",
    "\n",
    "    # if we have reached the end of 'p' but 'm' or 'n' still has some characters left\n",
    "    if pIndex == pLen:\n",
    "        return False\n",
    "\n",
    "    subProblemKey = str(mIndex) + \"-\" + str(nIndex) + \"-\" + str(pIndex)\n",
    "    if subProblemKey not in dp:\n",
    "        b1, b2 = False, False\n",
    "        if mIndex < mLen and m[mIndex] == p[pIndex]:\n",
    "            b1 = find_SI_recursive(dp, m, n, p, mIndex + 1, nIndex, pIndex + 1)\n",
    "\n",
    "        if nIndex < nLen and n[nIndex] == p[pIndex]:\n",
    "            b2 = find_SI_recursive(dp, m, n, p, mIndex, nIndex + 1, pIndex + 1)\n",
    "\n",
    "        dp[subProblemKey] = b1 or b2\n",
    "\n",
    "    return dp.get(subProblemKey)\n",
    "\n",
    "\n",
    "def main():\n",
    "    print(find_SI(\"abd\", \"cef\", \"abcdef\"))\n",
    "    print(find_SI(\"abd\", \"cef\", \"adcbef\"))\n",
    "    print(find_SI(\"abc\", \"def\", \"abdccf\"))\n",
    "    print(find_SI(\"abcdef\", \"mnop\", \"mnaobcdepf\"))\n",
    "\n",
    "\n",
    "main()"
   ]
  },
  {
   "cell_type": "markdown",
   "metadata": {},
   "source": [
    "#### Bottom-up Dynamic Programming"
   ]
  },
  {
   "cell_type": "code",
   "execution_count": 77,
   "metadata": {},
   "outputs": [
    {
     "name": "stdout",
     "output_type": "stream",
     "text": [
      "True\n",
      "False\n",
      "False\n",
      "True\n"
     ]
    }
   ],
   "source": [
    "def find_SI(m, n, p):\n",
    "    mLen, nLen, pLen = len(m), len(n), len(p)\n",
    "    # dp[mIndex][nIndex] will be storing the result of string interleaving\n",
    "    # up to p[0..mIndex+nIndex-1]\n",
    "    dp = [[False for _ in range(nLen+1)] for _ in range(mLen+1)]\n",
    "\n",
    "    # make sure if lengths of the strings add up\n",
    "    if mLen + nLen != pLen:\n",
    "        return False\n",
    "\n",
    "    for mIndex in range(mLen+1):\n",
    "        for nIndex in range(nLen+1):\n",
    "            # if 'm' and 'n' are empty, then 'p' must have been empty too.\n",
    "            if mIndex == 0 and nIndex == 0:\n",
    "                dp[mIndex][nIndex] = True\n",
    "            # if 'm' is empty, we need to check the interleaving with 'n' only\n",
    "            elif mIndex == 0 and n[nIndex - 1] == p[mIndex + nIndex - 1]:\n",
    "                dp[mIndex][nIndex] = dp[mIndex][nIndex - 1]\n",
    "            # if 'n' is empty, we need to check the interleaving with 'm' only\n",
    "            elif nIndex == 0 and m[mIndex - 1] == p[mIndex + nIndex - 1]:\n",
    "                dp[mIndex][nIndex] = dp[mIndex - 1][nIndex]\n",
    "            else:\n",
    "                # if the letter of 'm' and 'p' match, we take whatever is matched till mIndex-1\n",
    "                if mIndex > 0 and m[mIndex - 1] == p[mIndex + nIndex - 1]:\n",
    "                    dp[mIndex][nIndex] = dp[mIndex - 1][nIndex]\n",
    "                # if the letter of 'n' and 'p' match, we take whatever is matched till nIndex-1 too\n",
    "                # note the '|=', this is required when we have common letters\n",
    "                if nIndex > 0 and n[nIndex - 1] == p[mIndex + nIndex - 1]:\n",
    "                    dp[mIndex][nIndex] |= dp[mIndex][nIndex - 1]\n",
    "\n",
    "    return dp[mLen][nLen]\n",
    "\n",
    "\n",
    "def main():\n",
    "    print(find_SI(\"abd\", \"cef\", \"abcdef\"))\n",
    "    print(find_SI(\"abd\", \"cef\", \"adcbef\"))\n",
    "    print(find_SI(\"abc\", \"def\", \"abdccf\"))\n",
    "    print(find_SI(\"abcdef\", \"mnop\", \"mnaobcdepf\"))\n",
    "\n",
    "\n",
    "main()"
   ]
  }
 ],
 "metadata": {
  "kernelspec": {
   "display_name": "Python 3",
   "language": "python",
   "name": "python3"
  },
  "language_info": {
   "codemirror_mode": {
    "name": "ipython",
    "version": 3
   },
   "file_extension": ".py",
   "mimetype": "text/x-python",
   "name": "python",
   "nbconvert_exporter": "python",
   "pygments_lexer": "ipython3",
   "version": "3.7.6"
  },
  "toc": {
   "base_numbering": 1,
   "nav_menu": {},
   "number_sections": true,
   "sideBar": true,
   "skip_h1_title": true,
   "title_cell": "Grokking Dynamic Programming Patterns for Coding Interviews",
   "title_sidebar": "Contents",
   "toc_cell": true,
   "toc_position": {
    "height": "calc(100% - 180px)",
    "left": "10px",
    "top": "150px",
    "width": "449.611px"
   },
   "toc_section_display": true,
   "toc_window_display": false
  }
 },
 "nbformat": 4,
 "nbformat_minor": 4
}
