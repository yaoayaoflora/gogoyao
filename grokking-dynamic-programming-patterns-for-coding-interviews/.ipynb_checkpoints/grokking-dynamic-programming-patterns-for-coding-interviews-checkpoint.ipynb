{
 "cells": [
  {
   "cell_type": "markdown",
   "metadata": {
    "toc": true
   },
   "source": [
    "<h1>Grokking Dynamic Programming Patterns for Coding Interviews<span class=\"tocSkip\"></span></h1>\n",
    "<div class=\"toc\"><ul class=\"toc-item\"><li><span><a href=\"#0/1-Knapsack\" data-toc-modified-id=\"0/1-Knapsack-1\"><span class=\"toc-item-num\">1&nbsp;&nbsp;</span>0/1 Knapsack</a></span><ul class=\"toc-item\"><li><span><a href=\"#0/1-Knapsack\" data-toc-modified-id=\"0/1-Knapsack-1.1\"><span class=\"toc-item-num\">1.1&nbsp;&nbsp;</span>0/1 Knapsack</a></span><ul class=\"toc-item\"><li><span><a href=\"#Basic-Solution\" data-toc-modified-id=\"Basic-Solution-1.1.1\"><span class=\"toc-item-num\">1.1.1&nbsp;&nbsp;</span>Basic Solution</a></span></li><li><span><a href=\"#Top-down-Dynamic-Programming-with-Memoization\" data-toc-modified-id=\"Top-down-Dynamic-Programming-with-Memoization-1.1.2\"><span class=\"toc-item-num\">1.1.2&nbsp;&nbsp;</span>Top-down Dynamic Programming with Memoization</a></span></li><li><span><a href=\"#Bottom-up-Dynamic-Programming\" data-toc-modified-id=\"Bottom-up-Dynamic-Programming-1.1.3\"><span class=\"toc-item-num\">1.1.3&nbsp;&nbsp;</span>Bottom-up Dynamic Programming</a></span></li><li><span><a href=\"#Challenge\" data-toc-modified-id=\"Challenge-1.1.4\"><span class=\"toc-item-num\">1.1.4&nbsp;&nbsp;</span>Challenge</a></span></li></ul></li><li><span><a href=\"#Equal-Subset-Sum-Partition\" data-toc-modified-id=\"Equal-Subset-Sum-Partition-1.2\"><span class=\"toc-item-num\">1.2&nbsp;&nbsp;</span>Equal Subset Sum Partition</a></span><ul class=\"toc-item\"><li><span><a href=\"#Basic-Solution\" data-toc-modified-id=\"Basic-Solution-1.2.1\"><span class=\"toc-item-num\">1.2.1&nbsp;&nbsp;</span>Basic Solution</a></span></li><li><span><a href=\"#Top-down-Dynamic-Programming-with-Memoization\" data-toc-modified-id=\"Top-down-Dynamic-Programming-with-Memoization-1.2.2\"><span class=\"toc-item-num\">1.2.2&nbsp;&nbsp;</span>Top-down Dynamic Programming with Memoization</a></span></li><li><span><a href=\"#Bottom-up-Dynamic-Programming\" data-toc-modified-id=\"Bottom-up-Dynamic-Programming-1.2.3\"><span class=\"toc-item-num\">1.2.3&nbsp;&nbsp;</span>Bottom-up Dynamic Programming</a></span></li></ul></li><li><span><a href=\"#Subset-Sum\" data-toc-modified-id=\"Subset-Sum-1.3\"><span class=\"toc-item-num\">1.3&nbsp;&nbsp;</span>Subset Sum</a></span><ul class=\"toc-item\"><li><span><a href=\"#Bottom-up-Dynamic-Programming\" data-toc-modified-id=\"Bottom-up-Dynamic-Programming-1.3.1\"><span class=\"toc-item-num\">1.3.1&nbsp;&nbsp;</span>Bottom-up Dynamic Programming</a></span></li><li><span><a href=\"#Challenge\" data-toc-modified-id=\"Challenge-1.3.2\"><span class=\"toc-item-num\">1.3.2&nbsp;&nbsp;</span>Challenge</a></span></li></ul></li><li><span><a href=\"#Minimum-Subset-Sum-Difference\" data-toc-modified-id=\"Minimum-Subset-Sum-Difference-1.4\"><span class=\"toc-item-num\">1.4&nbsp;&nbsp;</span>Minimum Subset Sum Difference</a></span><ul class=\"toc-item\"><li><span><a href=\"#Basic-Solution\" data-toc-modified-id=\"Basic-Solution-1.4.1\"><span class=\"toc-item-num\">1.4.1&nbsp;&nbsp;</span>Basic Solution</a></span></li><li><span><a href=\"#Top-down-Dynamic-Programming-with-Memoization\" data-toc-modified-id=\"Top-down-Dynamic-Programming-with-Memoization-1.4.2\"><span class=\"toc-item-num\">1.4.2&nbsp;&nbsp;</span>Top-down Dynamic Programming with Memoization</a></span></li><li><span><a href=\"#Bottom-up-Dynamic-Programming\" data-toc-modified-id=\"Bottom-up-Dynamic-Programming-1.4.3\"><span class=\"toc-item-num\">1.4.3&nbsp;&nbsp;</span>Bottom-up Dynamic Programming</a></span></li></ul></li><li><span><a href=\"#Count-of-Subset-Sum\" data-toc-modified-id=\"Count-of-Subset-Sum-1.5\"><span class=\"toc-item-num\">1.5&nbsp;&nbsp;</span>Count of Subset Sum</a></span><ul class=\"toc-item\"><li><span><a href=\"#Basic-Solution\" data-toc-modified-id=\"Basic-Solution-1.5.1\"><span class=\"toc-item-num\">1.5.1&nbsp;&nbsp;</span>Basic Solution</a></span></li><li><span><a href=\"#Top-down-Dynamic-Programming-with-Memoization\" data-toc-modified-id=\"Top-down-Dynamic-Programming-with-Memoization-1.5.2\"><span class=\"toc-item-num\">1.5.2&nbsp;&nbsp;</span>Top-down Dynamic Programming with Memoization</a></span></li><li><span><a href=\"#Bottom-up-Dynamic-Programming\" data-toc-modified-id=\"Bottom-up-Dynamic-Programming-1.5.3\"><span class=\"toc-item-num\">1.5.3&nbsp;&nbsp;</span>Bottom-up Dynamic Programming</a></span></li><li><span><a href=\"#Challenge\" data-toc-modified-id=\"Challenge-1.5.4\"><span class=\"toc-item-num\">1.5.4&nbsp;&nbsp;</span>Challenge</a></span></li></ul></li><li><span><a href=\"#Target-Sum\" data-toc-modified-id=\"Target-Sum-1.6\"><span class=\"toc-item-num\">1.6&nbsp;&nbsp;</span>Target Sum</a></span><ul class=\"toc-item\"><li><span><a href=\"#Solution\" data-toc-modified-id=\"Solution-1.6.1\"><span class=\"toc-item-num\">1.6.1&nbsp;&nbsp;</span>Solution</a></span></li><li><span><a href=\"#Space-Optimized-Solution\" data-toc-modified-id=\"Space-Optimized-Solution-1.6.2\"><span class=\"toc-item-num\">1.6.2&nbsp;&nbsp;</span>Space Optimized Solution</a></span></li></ul></li></ul></li><li><span><a href=\"#Unbounded-Knapsack\" data-toc-modified-id=\"Unbounded-Knapsack-2\"><span class=\"toc-item-num\">2&nbsp;&nbsp;</span>Unbounded Knapsack</a></span><ul class=\"toc-item\"><li><span><a href=\"#Unbounded-Knapsack\" data-toc-modified-id=\"Unbounded-Knapsack-2.1\"><span class=\"toc-item-num\">2.1&nbsp;&nbsp;</span>Unbounded Knapsack</a></span><ul class=\"toc-item\"><li><span><a href=\"#Basic-Solution\" data-toc-modified-id=\"Basic-Solution-2.1.1\"><span class=\"toc-item-num\">2.1.1&nbsp;&nbsp;</span>Basic Solution</a></span></li><li><span><a href=\"#Top-down-Dynamic-Programming-with-Memoization\" data-toc-modified-id=\"Top-down-Dynamic-Programming-with-Memoization-2.1.2\"><span class=\"toc-item-num\">2.1.2&nbsp;&nbsp;</span>Top-down Dynamic Programming with Memoization</a></span></li><li><span><a href=\"#Bottom-up-Dynamic-Programming\" data-toc-modified-id=\"Bottom-up-Dynamic-Programming-2.1.3\"><span class=\"toc-item-num\">2.1.3&nbsp;&nbsp;</span>Bottom-up Dynamic Programming</a></span></li></ul></li></ul></li></ul></div>"
   ]
  },
  {
   "cell_type": "markdown",
   "metadata": {},
   "source": [
    "## 0/1 Knapsack"
   ]
  },
  {
   "cell_type": "markdown",
   "metadata": {},
   "source": [
    "### 0/1 Knapsack"
   ]
  },
  {
   "cell_type": "markdown",
   "metadata": {},
   "source": [
    "Given two integer arrays to represent weights and profits of ‘N’ items, we need to find a subset of these items which will give us maximum profit such that their cumulative weight is not more than a given number ‘C’. Each item can only be selected once, which means either we put an item in the knapsack or we skip it."
   ]
  },
  {
   "cell_type": "markdown",
   "metadata": {},
   "source": [
    "#### Basic Solution"
   ]
  },
  {
   "cell_type": "code",
   "execution_count": 1,
   "metadata": {},
   "outputs": [
    {
     "name": "stdout",
     "output_type": "stream",
     "text": [
      "22\n",
      "17\n"
     ]
    }
   ],
   "source": [
    "def solve_knapsack(profits, weights, capacity):\n",
    "    return knapsack_recursive(profits, weights, capacity, 0)\n",
    "\n",
    "\n",
    "def knapsack_recursive(profits, weights, capacity, currentIndex):\n",
    "    # base checks\n",
    "    if capacity <= 0 or currentIndex >= len(profits):\n",
    "        return 0\n",
    "\n",
    "    # recursive call after choosing the element at the currentIndex\n",
    "    # if the weight of the element at currentIndex exceeds the capacity, we    shouldn't process this\n",
    "    profit1 = 0\n",
    "    if weights[currentIndex] <= capacity:\n",
    "        profit1 = profits[currentIndex] + knapsack_recursive(\n",
    "            profits, weights, capacity - weights[currentIndex], currentIndex + 1)\n",
    "\n",
    "    # recursive call after excluding the element at the currentIndex\n",
    "    profit2 = knapsack_recursive(profits, weights, capacity, currentIndex + 1)\n",
    "\n",
    "    return max(profit1, profit2)\n",
    "\n",
    "\n",
    "def main():\n",
    "    print(solve_knapsack([1, 6, 10, 16], [1, 2, 3, 5], 7))\n",
    "    print(solve_knapsack([1, 6, 10, 16], [1, 2, 3, 5], 6))\n",
    "\n",
    "\n",
    "main()"
   ]
  },
  {
   "cell_type": "markdown",
   "metadata": {},
   "source": [
    "#### Top-down Dynamic Programming with Memoization"
   ]
  },
  {
   "cell_type": "code",
   "execution_count": 2,
   "metadata": {},
   "outputs": [
    {
     "name": "stdout",
     "output_type": "stream",
     "text": [
      "22\n",
      "17\n"
     ]
    }
   ],
   "source": [
    "def solve_knapsack(profits, weights, capacity):\n",
    "    # create a two dimensional array for Memoization, each element is initialized to '-1'\n",
    "    dp = [[-1 for x in range(capacity+1)] for y in range(len(profits))]\n",
    "    return knapsack_recursive(dp, profits, weights, capacity, 0)\n",
    "\n",
    "\n",
    "def knapsack_recursive(dp, profits, weights, capacity, currentIndex):\n",
    "\n",
    "    # base checks\n",
    "    if capacity <= 0 or currentIndex >= len(profits):\n",
    "        return 0\n",
    "\n",
    "    # if we have already solved a similar problem, return the result from memory\n",
    "    if dp[currentIndex][capacity] != -1:\n",
    "        return dp[currentIndex][capacity]\n",
    "\n",
    "    # recursive call after choosing the element at the currentIndex\n",
    "    # if the weight of the element at currentIndex exceeds the capacity, we\n",
    "    # shouldn't process this\n",
    "    profit1 = 0\n",
    "    if weights[currentIndex] <= capacity:\n",
    "        profit1 = profits[currentIndex] + knapsack_recursive(\n",
    "            dp, profits, weights, capacity - weights[currentIndex], currentIndex + 1)\n",
    "\n",
    "    # recursive call after excluding the element at the currentIndex\n",
    "    profit2 = knapsack_recursive(\n",
    "        dp, profits, weights, capacity, currentIndex + 1)\n",
    "\n",
    "    dp[currentIndex][capacity] = max(profit1, profit2)\n",
    "    return dp[currentIndex][capacity]\n",
    "\n",
    "\n",
    "def main():\n",
    "    print(solve_knapsack([1, 6, 10, 16], [1, 2, 3, 5], 7))\n",
    "    print(solve_knapsack([1, 6, 10, 16], [1, 2, 3, 5], 6))\n",
    "\n",
    "\n",
    "main()"
   ]
  },
  {
   "cell_type": "markdown",
   "metadata": {},
   "source": [
    "#### Bottom-up Dynamic Programming"
   ]
  },
  {
   "cell_type": "code",
   "execution_count": 3,
   "metadata": {
    "scrolled": true
   },
   "outputs": [
    {
     "name": "stdout",
     "output_type": "stream",
     "text": [
      "16\n",
      "17\n",
      "22\n"
     ]
    }
   ],
   "source": [
    "def solve_knapsack(profits, weights, capacity):\n",
    "    # basic checks\n",
    "    n = len(profits)\n",
    "    if capacity <= 0 or n == 0 or len(weights) != n:\n",
    "        return 0\n",
    "\n",
    "    dp = [[0 for x in range(capacity+1)] for y in range(n)]\n",
    "\n",
    "    # populate the capacity = 0 columns, with '0' capacity we have '0' profit\n",
    "    for i in range(0, n):\n",
    "        dp[i][0] = 0\n",
    "\n",
    "    # if we have only one weight, we will take it if it is not more than the capacity\n",
    "    for c in range(0, capacity+1):\n",
    "        if weights[0] <= c:\n",
    "            dp[0][c] = profits[0]\n",
    "\n",
    "    # process all sub-arrays for all the capacities\n",
    "    for i in range(1, n):\n",
    "        for c in range(1, capacity+1):\n",
    "            profit1, profit2 = 0, 0\n",
    "            # include the item, if it is not more than the capacity\n",
    "            if weights[i] <= c:\n",
    "                profit1 = profits[i] + dp[i - 1][c - weights[i]]\n",
    "            # exclude the item\n",
    "            profit2 = dp[i - 1][c]\n",
    "            # take maximum\n",
    "            dp[i][c] = max(profit1, profit2)\n",
    "\n",
    "    # maximum profit will be at the bottom-right corner.\n",
    "    return dp[n - 1][capacity]\n",
    "\n",
    "\n",
    "def main():\n",
    "    print(solve_knapsack([1, 6, 10, 16], [1, 2, 3, 5], 5))\n",
    "    print(solve_knapsack([1, 6, 10, 16], [1, 2, 3, 5], 6))\n",
    "    print(solve_knapsack([1, 6, 10, 16], [1, 2, 3, 5], 7))\n",
    "\n",
    "\n",
    "main()"
   ]
  },
  {
   "cell_type": "markdown",
   "metadata": {},
   "source": [
    "Let’s write a function to print the set of items included in the knapsack."
   ]
  },
  {
   "cell_type": "code",
   "execution_count": 4,
   "metadata": {},
   "outputs": [
    {
     "name": "stdout",
     "output_type": "stream",
     "text": [
      "Selected weights are: 5 2 \n",
      "Total knapsack profit: 22\n",
      "Selected weights are: 3 2 1 \n",
      "Total knapsack profit: 17\n"
     ]
    }
   ],
   "source": [
    "from __future__ import print_function\n",
    "\n",
    "\n",
    "def solve_knapsack(profits, weights, capacity):\n",
    "    # basic checks\n",
    "    n = len(profits)\n",
    "    if capacity <= 0 or n == 0 or len(weights) != n:\n",
    "        return 0\n",
    "\n",
    "    dp = [[0 for x in range(capacity+1)] for y in range(n)]\n",
    "\n",
    "    # populate the capacity = 0 columns, with '0' capacity we have '0' profit\n",
    "    for i in range(0, n):\n",
    "        dp[i][0] = 0\n",
    "\n",
    "    # if we have only one weight, we will take it if it is not more than the capacity\n",
    "    for c in range(0, capacity+1):\n",
    "        if weights[0] <= c:\n",
    "            dp[0][c] = profits[0]\n",
    "\n",
    "    # process all sub-arrays for all the capacities\n",
    "    for i in range(1, n):\n",
    "        for c in range(1, capacity+1):\n",
    "            profit1, profit2 = 0, 0\n",
    "            # include the item, if it is not more than the capacity\n",
    "            if weights[i] <= c:\n",
    "                profit1 = profits[i] + dp[i - 1][c - weights[i]]\n",
    "            # exclude the item\n",
    "            profit2 = dp[i - 1][c]\n",
    "            # take maximum\n",
    "            dp[i][c] = max(profit1, profit2)\n",
    "\n",
    "    print_selected_elements(dp, weights, profits, capacity)\n",
    "    # maximum profit will be at the bottom-right corner.\n",
    "    return dp[n - 1][capacity]\n",
    "\n",
    "\n",
    "def print_selected_elements(dp, weights, profits, capacity):\n",
    "    print(\"Selected weights are: \", end='')\n",
    "    n = len(weights)\n",
    "    totalProfit = dp[n-1][capacity]\n",
    "    for i in range(n-1, 0, -1):\n",
    "        if totalProfit != dp[i - 1][capacity]:\n",
    "            print(str(weights[i]) + \" \", end='')\n",
    "            capacity -= weights[i]\n",
    "            totalProfit -= profits[i]\n",
    "\n",
    "    if totalProfit != 0:\n",
    "        print(str(weights[0]) + \" \", end='')\n",
    "    print()\n",
    "\n",
    "\n",
    "def main():\n",
    "    print(\"Total knapsack profit: \" +\n",
    "          str(solve_knapsack([1, 6, 10, 16], [1, 2, 3, 5], 7)))\n",
    "    print(\"Total knapsack profit: \" +\n",
    "          str(solve_knapsack([1, 6, 10, 16], [1, 2, 3, 5], 6)))\n",
    "\n",
    "\n",
    "main()"
   ]
  },
  {
   "cell_type": "markdown",
   "metadata": {},
   "source": [
    "#### Challenge\n",
    "Can we further improve our bottom-up DP solution? Can you find an algorithm that has $O(C)$ space complexity?"
   ]
  },
  {
   "cell_type": "code",
   "execution_count": 5,
   "metadata": {},
   "outputs": [
    {
     "name": "stdout",
     "output_type": "stream",
     "text": [
      "Total knapsack profit: 22\n",
      "Total knapsack profit: 17\n"
     ]
    }
   ],
   "source": [
    "def solve_knapsack(profits, weights, capacity):\n",
    "    # basic checks\n",
    "    n = len(profits)\n",
    "    if capacity <= 0 or n == 0 or len(weights) != n:\n",
    "        return 0\n",
    "\n",
    "    # we only need one previous row to find the optimal solution, overall we need '2' rows\n",
    "    # the above solution is similar to the previous solution, the only difference is that\n",
    "    # we use `i % 2` instead if `i` and `(i-1) % 2` instead if `i-1`\n",
    "    dp = [[0 for x in range(capacity+1)] for y in range(2)]\n",
    "\n",
    "    # if we have only one weight, we will take it if it is not more than the capacity\n",
    "    for c in range(0, capacity+1):\n",
    "        if weights[0] <= c:\n",
    "            dp[0][c] = dp[1][c] = profits[0]\n",
    "\n",
    "    # process all sub-arrays for all the capacities\n",
    "    for i in range(1, n):\n",
    "        for c in range(0, capacity+1):\n",
    "            profit1, profit2 = 0, 0\n",
    "            # include the item, if it is not more than the capacity\n",
    "            if weights[i] <= c:\n",
    "                profit1 = profits[i] + dp[(i - 1) % 2][c - weights[i]]\n",
    "            # exclude the item\n",
    "            profit2 = dp[(i - 1) % 2][c]\n",
    "            # take maximum\n",
    "            dp[i % 2][c] = max(profit1, profit2)\n",
    "\n",
    "    return dp[(n - 1) % 2][capacity]\n",
    "\n",
    "\n",
    "def main():\n",
    "    print(\"Total knapsack profit: \" +\n",
    "          str(solve_knapsack([1, 6, 10, 16], [1, 2, 3, 5], 7)))\n",
    "    print(\"Total knapsack profit: \" +\n",
    "          str(solve_knapsack([1, 6, 10, 16], [1, 2, 3, 5], 6)))\n",
    "\n",
    "\n",
    "main()"
   ]
  },
  {
   "cell_type": "markdown",
   "metadata": {},
   "source": [
    "This space optimization solution can also be implemented using a single array. It is a bit tricky though, but the intuition is to use the same array for the previous and the next iteration!"
   ]
  },
  {
   "cell_type": "code",
   "execution_count": 6,
   "metadata": {},
   "outputs": [
    {
     "name": "stdout",
     "output_type": "stream",
     "text": [
      "Total knapsack profit: 22\n",
      "Total knapsack profit: 17\n"
     ]
    }
   ],
   "source": [
    "def solve_knapsack(profits, weights, capacity):\n",
    "    # basic checks\n",
    "    n = len(profits)\n",
    "    if capacity <= 0 or n == 0 or len(weights) != n:\n",
    "        return 0\n",
    "\n",
    "    dp = [0 for x in range(capacity+1)]\n",
    "\n",
    "    # if we have only one weight, we will take it if it is not more than the capacity\n",
    "    for c in range(0, capacity+1):\n",
    "        if weights[0] <= c:\n",
    "            dp[c] = profits[0]\n",
    "\n",
    "    # process all sub-arrays for all the capacities\n",
    "    for i in range(1, n):\n",
    "        for c in range(capacity, -1, -1):\n",
    "            profit1, profit2 = 0, 0\n",
    "            # include the item, if it is not more than the capacity\n",
    "            if weights[i] <= c:\n",
    "                profit1 = profits[i] + dp[c - weights[i]]\n",
    "            # exclude the item\n",
    "            profit2 = dp[c]\n",
    "            # take maximum\n",
    "            dp[c] = max(profit1, profit2)\n",
    "\n",
    "    return dp[capacity]\n",
    "\n",
    "\n",
    "def main():\n",
    "    print(\"Total knapsack profit: \" +\n",
    "                str(solve_knapsack([1, 6, 10, 16], [1, 2, 3, 5], 7)))\n",
    "    print(\"Total knapsack profit: \" +\n",
    "                str(solve_knapsack([1, 6, 10, 16], [1, 2, 3, 5], 6)))\n",
    "\n",
    "\n",
    "main()"
   ]
  },
  {
   "cell_type": "markdown",
   "metadata": {},
   "source": [
    "### Equal Subset Sum Partition"
   ]
  },
  {
   "cell_type": "markdown",
   "metadata": {},
   "source": [
    "Given a set of positive numbers, find if we can partition it into two subsets such that the sum of elements in both the subsets is equal."
   ]
  },
  {
   "cell_type": "markdown",
   "metadata": {},
   "source": [
    "#### Basic Solution"
   ]
  },
  {
   "cell_type": "code",
   "execution_count": 7,
   "metadata": {},
   "outputs": [
    {
     "name": "stdout",
     "output_type": "stream",
     "text": [
      "Can partition: True\n",
      "Can partition: True\n",
      "Can partition: False\n"
     ]
    }
   ],
   "source": [
    "def can_partition(num):\n",
    "    s = sum(num)\n",
    "    # if 's' is a an odd number, we can't have two subsets with equal sum\n",
    "    if s % 2 != 0:\n",
    "        return False\n",
    "\n",
    "    return can_partition_recursive(num, s / 2, 0)\n",
    "\n",
    "\n",
    "def can_partition_recursive(num, sum, currentIndex):\n",
    "    # base check\n",
    "    if sum == 0:\n",
    "        return True\n",
    "\n",
    "    n = len(num)\n",
    "    if n == 0 or currentIndex >= n:\n",
    "        return False\n",
    "\n",
    "    # recursive call after choosing the number at the `currentIndex`\n",
    "    # if the number at `currentIndex` exceeds the sum, we shouldn't process this\n",
    "    if num[currentIndex] <= sum:\n",
    "        if(can_partition_recursive(num, sum - num[currentIndex], currentIndex + 1)):\n",
    "            return True\n",
    "\n",
    "    # recursive call after excluding the number at the 'currentIndex'\n",
    "    return can_partition_recursive(num, sum, currentIndex + 1)\n",
    "\n",
    "\n",
    "def main():\n",
    "    print(\"Can partition: \" + str(can_partition([1, 2, 3, 4])))\n",
    "    print(\"Can partition: \" + str(can_partition([1, 1, 3, 4, 7])))\n",
    "    print(\"Can partition: \" + str(can_partition([2, 3, 4, 6])))\n",
    "\n",
    "\n",
    "main()"
   ]
  },
  {
   "cell_type": "markdown",
   "metadata": {},
   "source": [
    "#### Top-down Dynamic Programming with Memoization"
   ]
  },
  {
   "cell_type": "code",
   "execution_count": 8,
   "metadata": {},
   "outputs": [
    {
     "name": "stdout",
     "output_type": "stream",
     "text": [
      "Can partition: True\n",
      "Can partition: True\n",
      "Can partition: False\n"
     ]
    }
   ],
   "source": [
    "def can_partition(num):\n",
    "    s = sum(num)\n",
    "\n",
    "    # if 's' is a an odd number, we can't have two subsets with equal sum\n",
    "    if s % 2 != 0:\n",
    "        return False\n",
    "\n",
    "    # initialize the 'dp' array, -1 for default, 1 for true and 0 for false\n",
    "    dp = [[-1 for x in range(int(s/2)+1)] for y in range(len(num))]\n",
    "    return True if can_partition_recursive(dp, num, int(s / 2), 0) == 1 else False\n",
    "\n",
    "\n",
    "def can_partition_recursive(dp, num, sum, currentIndex):\n",
    "    # base check\n",
    "    if sum == 0:\n",
    "        return 1\n",
    "\n",
    "    n = len(num)\n",
    "    if n == 0 or currentIndex >= n:\n",
    "        return 0\n",
    "\n",
    "    # if we have not already processed a similar problem\n",
    "    if dp[currentIndex][sum] == -1:\n",
    "        # recursive call after choosing the number at the currentIndex\n",
    "        # if the number at currentIndex exceeds the sum, we shouldn't process this\n",
    "        if num[currentIndex] <= sum:\n",
    "            if can_partition_recursive(dp, num, sum - num[currentIndex], currentIndex + 1) == 1:\n",
    "                dp[currentIndex][sum] = 1\n",
    "                return 1\n",
    "\n",
    "        # recursive call after excluding the number at the currentIndex\n",
    "        dp[currentIndex][sum] = can_partition_recursive(\n",
    "            dp, num, sum, currentIndex + 1)\n",
    "\n",
    "    return dp[currentIndex][sum]\n",
    "\n",
    "\n",
    "def main():\n",
    "    print(\"Can partition: \" + str(can_partition([1, 2, 3, 4])))\n",
    "    print(\"Can partition: \" + str(can_partition([1, 1, 3, 4, 7])))\n",
    "    print(\"Can partition: \" + str(can_partition([2, 3, 4, 6])))\n",
    "\n",
    "\n",
    "main()"
   ]
  },
  {
   "cell_type": "markdown",
   "metadata": {},
   "source": [
    "#### Bottom-up Dynamic Programming"
   ]
  },
  {
   "cell_type": "code",
   "execution_count": 9,
   "metadata": {},
   "outputs": [
    {
     "name": "stdout",
     "output_type": "stream",
     "text": [
      "Can partition: True\n",
      "Can partition: True\n",
      "Can partition: False\n"
     ]
    }
   ],
   "source": [
    "def can_partition(num):\n",
    "    s = sum(num)\n",
    "\n",
    "    # if 's' is a an odd number, we can't have two subsets with same total\n",
    "    if s % 2 != 0:\n",
    "        return False\n",
    "\n",
    "    # we are trying to find a subset of given numbers that has a total sum of 's/2'.\n",
    "    s = int(s / 2)\n",
    "\n",
    "    n = len(num)\n",
    "    dp = [[False for x in range(s+1)] for y in range(n)]\n",
    "\n",
    "    # populate the sum=0 column, as we can always have '0' sum without including \n",
    "    # any element\n",
    "    for i in range(0, n):\n",
    "        dp[i][0] = True\n",
    "\n",
    "    # with only one number, we can form a subset only when the required sum is\n",
    "    # equal to its value\n",
    "    for j in range(1, s+1):\n",
    "        dp[0][j] = num[0] == j\n",
    "\n",
    "    # process all subsets for all sums\n",
    "    for i in range(1, n):\n",
    "        for j in range(1, s+1):\n",
    "            # if we can get the sum 'j' without the number at index 'i'\n",
    "            if dp[i - 1][j]:\n",
    "                dp[i][j] = dp[i - 1][j]\n",
    "            elif j >= num[i]:    # else if we can find a subset to get the remaining sum\n",
    "                dp[i][j] = dp[i - 1][j - num[i]]\n",
    "\n",
    "    # the bottom-right corner will have our answer.\n",
    "    return dp[n - 1][s]\n",
    "\n",
    "\n",
    "def main():\n",
    "    print(\"Can partition: \" + str(can_partition([1, 2, 3, 4])))\n",
    "    print(\"Can partition: \" + str(can_partition([1, 1, 3, 4, 7])))\n",
    "    print(\"Can partition: \" + str(can_partition([2, 3, 4, 6])))\n",
    "\n",
    "\n",
    "main()"
   ]
  },
  {
   "cell_type": "markdown",
   "metadata": {},
   "source": [
    "### Subset Sum"
   ]
  },
  {
   "cell_type": "markdown",
   "metadata": {},
   "source": [
    "Given a set of positive numbers, determine if there exists a subset whose sum is equal to a given number ‘S’."
   ]
  },
  {
   "cell_type": "markdown",
   "metadata": {},
   "source": [
    "#### Bottom-up Dynamic Programming "
   ]
  },
  {
   "cell_type": "code",
   "execution_count": 10,
   "metadata": {},
   "outputs": [
    {
     "name": "stdout",
     "output_type": "stream",
     "text": [
      "Can partition: True\n",
      "Can partition: True\n",
      "Can partition: False\n"
     ]
    }
   ],
   "source": [
    "def can_partition(num, sum):\n",
    "    n = len(num)\n",
    "    dp = [[False for x in range(sum+1)] for y in range(n)]\n",
    "\n",
    "    # populate the sum = 0 columns, as we can always form '0' sum with an empty set\n",
    "    for i in range(0, n):\n",
    "        dp[i][0] = True\n",
    "\n",
    "    # with only one number, we can form a subset only when the required sum is\n",
    "    # equal to its value\n",
    "    for s in range(1, sum+1):\n",
    "        dp[0][s] = True if num[0] == s else False\n",
    "\n",
    "    # process all subsets for all sums\n",
    "    for i in range(1, n):\n",
    "        for s in range(1, sum+1):\n",
    "            # if we can get the sum 's' without the number at index 'i'\n",
    "            if dp[i - 1][s]:\n",
    "                dp[i][s] = dp[i - 1][s]\n",
    "            elif s >= num[i]:\n",
    "                # else include the number and see if we can find a subset to get the remaining sum\n",
    "                dp[i][s] = dp[i - 1][s - num[i]]\n",
    "\n",
    "    # the bottom-right corner will have our answer.\n",
    "    return dp[n - 1][sum]\n",
    "\n",
    "\n",
    "def main():\n",
    "    print(\"Can partition: \" + str(can_partition([1, 2, 3, 7], 6)))\n",
    "    print(\"Can partition: \" + str(can_partition([1, 2, 7, 1, 5], 10)))\n",
    "    print(\"Can partition: \" + str(can_partition([1, 3, 4, 8], 6)))\n",
    "\n",
    "\n",
    "main()"
   ]
  },
  {
   "cell_type": "markdown",
   "metadata": {},
   "source": [
    "#### Challenge"
   ]
  },
  {
   "cell_type": "markdown",
   "metadata": {},
   "source": [
    "Can we further improve our bottom-up DP solution? Can you find an algorithm that has $O(S)$ space complexity?"
   ]
  },
  {
   "cell_type": "code",
   "execution_count": 11,
   "metadata": {},
   "outputs": [
    {
     "name": "stdout",
     "output_type": "stream",
     "text": [
      "Can partition: True\n",
      "Can partition: True\n",
      "Can partition: False\n"
     ]
    }
   ],
   "source": [
    "def can_partition(num, sum):\n",
    "    n = len(num)\n",
    "    dp = [False for x in range(sum+1)]\n",
    "\n",
    "    # handle sum=0, as we can always have '0' sum with an empty set\n",
    "    dp[0] = True\n",
    "\n",
    "    # with only one number, we can have a subset only when the required sum is equal to its value\n",
    "    for s in range(1, sum+1):\n",
    "        dp[s] = num[0] == s\n",
    "\n",
    "    # process all subsets for all sums\n",
    "    for i in range(1, n):\n",
    "        for s in range(sum, -1, -1):\n",
    "            # if dp[s]==true, this means we can get the sum 's' without num[i], hence we can move on to\n",
    "            # the next number else we can include num[i] and see if we can find a subset to get the\n",
    "            # remaining sum\n",
    "            if not dp[s] and s >= num[i]:\n",
    "                dp[s] = dp[s - num[i]]\n",
    "\n",
    "    return dp[sum]\n",
    "\n",
    "\n",
    "def main():\n",
    "    print(\"Can partition: \" + str(can_partition([1, 2, 3, 7], 6)))\n",
    "    print(\"Can partition: \" + str(can_partition([1, 2, 7, 1, 5], 10)))\n",
    "    print(\"Can partition: \" + str(can_partition([1, 3, 4, 8], 6)))\n",
    "\n",
    "\n",
    "main()"
   ]
  },
  {
   "cell_type": "markdown",
   "metadata": {},
   "source": [
    "### Minimum Subset Sum Difference"
   ]
  },
  {
   "cell_type": "markdown",
   "metadata": {},
   "source": [
    "Given a set of positive numbers, partition the set into two subsets with a minimum difference between their subset sums."
   ]
  },
  {
   "cell_type": "markdown",
   "metadata": {},
   "source": [
    "#### Basic Solution"
   ]
  },
  {
   "cell_type": "code",
   "execution_count": 12,
   "metadata": {},
   "outputs": [
    {
     "name": "stdout",
     "output_type": "stream",
     "text": [
      "Can partition: 3\n",
      "Can partition: 0\n",
      "Can partition: 92\n"
     ]
    }
   ],
   "source": [
    "def can_partition(num):\n",
    "    return can_partition_recursive(num, 0, 0, 0)\n",
    "\n",
    "\n",
    "def can_partition_recursive(num, currentIndex, sum1, sum2):\n",
    "    # base check\n",
    "    if currentIndex == len(num):\n",
    "        return abs(sum1 - sum2)\n",
    "\n",
    "    # recursive call after including the number at the currentIndex in the first set\n",
    "    diff1 = can_partition_recursive(\n",
    "        num, currentIndex + 1, sum1 + num[currentIndex], sum2)\n",
    "\n",
    "    # recursive call after including the number at the currentIndex in the second set\n",
    "    diff2 = can_partition_recursive(\n",
    "        num, currentIndex + 1, sum1, sum2 + num[currentIndex])\n",
    "\n",
    "    return min(diff1, diff2)\n",
    "\n",
    "\n",
    "def main():\n",
    "    print(\"Can partition: \" + str(can_partition([1, 2, 3, 9])))\n",
    "    print(\"Can partition: \" + str(can_partition([1, 2, 7, 1, 5])))\n",
    "    print(\"Can partition: \" + str(can_partition([1, 3, 100, 4])))\n",
    "\n",
    "\n",
    "main()"
   ]
  },
  {
   "cell_type": "markdown",
   "metadata": {},
   "source": [
    "#### Top-down Dynamic Programming with Memoization"
   ]
  },
  {
   "cell_type": "code",
   "execution_count": 13,
   "metadata": {},
   "outputs": [
    {
     "name": "stdout",
     "output_type": "stream",
     "text": [
      "Can partition: 3\n",
      "Can partition: 0\n",
      "Can partition: 92\n"
     ]
    }
   ],
   "source": [
    "def can_partition(num):\n",
    "    s = sum(num)\n",
    "    dp = [[-1 for x in range(s+1)] for y in range(len(num))]\n",
    "    return can_partition_recursive(dp, num, 0, 0, 0)\n",
    "\n",
    "\n",
    "def can_partition_recursive(dp, num, currentIndex, sum1, sum2):\n",
    "    # base check\n",
    "    if currentIndex == len(num):\n",
    "        return abs(sum1 - sum2)\n",
    "\n",
    "    # check if we have not already processed similar problem\n",
    "    if dp[currentIndex][sum1] == -1:\n",
    "        # recursive call after including the number at the currentIndex in the first set\n",
    "        diff1 = can_partition_recursive(\n",
    "            dp, num, currentIndex + 1, sum1 + num[currentIndex], sum2)\n",
    "\n",
    "        # recursive call after including the number at the currentIndex in the second set\n",
    "        diff2 = can_partition_recursive(\n",
    "            dp, num, currentIndex + 1, sum1, sum2 + num[currentIndex])\n",
    "\n",
    "        dp[currentIndex][sum1] = min(diff1, diff2)\n",
    "\n",
    "    return dp[currentIndex][sum1]\n",
    "\n",
    "\n",
    "def main():\n",
    "    print(\"Can partition: \" + str(can_partition([1, 2, 3, 9])))\n",
    "    print(\"Can partition: \" + str(can_partition([1, 2, 7, 1, 5])))\n",
    "    print(\"Can partition: \" + str(can_partition([1, 3, 100, 4])))\n",
    "\n",
    "\n",
    "main()"
   ]
  },
  {
   "cell_type": "markdown",
   "metadata": {},
   "source": [
    "#### Bottom-up Dynamic Programming"
   ]
  },
  {
   "cell_type": "code",
   "execution_count": 14,
   "metadata": {},
   "outputs": [
    {
     "name": "stdout",
     "output_type": "stream",
     "text": [
      "Can partition: 3\n",
      "Can partition: 0\n",
      "Can partition: 92\n"
     ]
    }
   ],
   "source": [
    "def can_partition(num):\n",
    "    s = sum(num)\n",
    "    n = len(num)\n",
    "    dp = [[False for x in range(int(s/2)+1)] for y in range(n)]\n",
    "\n",
    "    # populate the s=0 columns, as we can always form '0' sum with an empty set\n",
    "    for i in range(0, n):\n",
    "        dp[i][0] = True\n",
    "\n",
    "    # with only one number, we can form a subset only when the required sum is equal to that number\n",
    "    for j in range(0, int(s/2)+1):\n",
    "        dp[0][j] = num[0] == j\n",
    "\n",
    "    # process all subsets for all sums\n",
    "    for i in range(1, n):\n",
    "        for j in range(1, int(s/2)+1):\n",
    "            # if we can get the sum 's' without the number at index 'i'\n",
    "            if dp[i - 1][j]:\n",
    "                dp[i][j] = dp[i - 1][j]\n",
    "            elif j >= num[i]:\n",
    "                # else include the number and see if we can find a subset to get the remaining sum\n",
    "                dp[i][j] = dp[i - 1][j - num[i]]\n",
    "\n",
    "    sum1 = 0\n",
    "    # find the largest index in the last row which is true\n",
    "    for i in range(int(s/2), -1, -1):\n",
    "        if dp[n - 1][i]:\n",
    "            sum1 = i\n",
    "            break\n",
    "\n",
    "    sum2 = s - sum1\n",
    "    return abs(sum2 - sum1)\n",
    "\n",
    "\n",
    "def main():\n",
    "    print(\"Can partition: \" + str(can_partition([1, 2, 3, 9])))\n",
    "    print(\"Can partition: \" + str(can_partition([1, 2, 7, 1, 5])))\n",
    "    print(\"Can partition: \" + str(can_partition([1, 3, 100, 4])))\n",
    "\n",
    "\n",
    "main()"
   ]
  },
  {
   "cell_type": "markdown",
   "metadata": {},
   "source": [
    "### Count of Subset Sum"
   ]
  },
  {
   "cell_type": "markdown",
   "metadata": {},
   "source": [
    "Given a set of positive numbers, find the total number of subsets whose sum is equal to a given number ‘S’."
   ]
  },
  {
   "cell_type": "markdown",
   "metadata": {},
   "source": [
    "#### Basic Solution"
   ]
  },
  {
   "cell_type": "code",
   "execution_count": 1,
   "metadata": {},
   "outputs": [
    {
     "name": "stdout",
     "output_type": "stream",
     "text": [
      "Total number of subsets 3\n",
      "Total number of subsets: 3\n"
     ]
    }
   ],
   "source": [
    "def count_subsets(num, sum):\n",
    "    return count_subsets_recursive(num, sum, 0)\n",
    "\n",
    "\n",
    "def count_subsets_recursive(num, sum, currentIndex):\n",
    "    # base checks\n",
    "    if sum == 0:\n",
    "        return 1\n",
    "    n = len(num)\n",
    "    if n == 0 or currentIndex >= n:\n",
    "        return 0\n",
    "\n",
    "    # recursive call after selecting the number at the currentIndex\n",
    "    # if the number at currentIndex exceeds the sum, we shouldn't process this\n",
    "    sum1 = 0\n",
    "    if num[currentIndex] <= sum:\n",
    "        sum1 = count_subsets_recursive(\n",
    "            num, sum - num[currentIndex], currentIndex + 1)\n",
    "\n",
    "    # recursive call after excluding the number at the currentIndex\n",
    "    sum2 = count_subsets_recursive(num, sum, currentIndex + 1)\n",
    "\n",
    "    return sum1 + sum2\n",
    "\n",
    "\n",
    "def main():\n",
    "    print(\"Total number of subsets \" + str(count_subsets([1, 1, 2, 3], 4)))\n",
    "    print(\"Total number of subsets: \" + str(count_subsets([1, 2, 7, 1, 5], 9)))\n",
    "\n",
    "\n",
    "main()"
   ]
  },
  {
   "cell_type": "markdown",
   "metadata": {},
   "source": [
    "#### Top-down Dynamic Programming with Memoization"
   ]
  },
  {
   "cell_type": "code",
   "execution_count": 2,
   "metadata": {},
   "outputs": [
    {
     "name": "stdout",
     "output_type": "stream",
     "text": [
      "Total number of subsets 3\n",
      "Total number of subsets: 3\n"
     ]
    }
   ],
   "source": [
    "def count_subsets(num, sum):\n",
    "    # create a two dimensional array for Memoization, each element is initialized to '-1'\n",
    "    dp = [[-1 for x in range(sum+1)] for y in range(len(num))]\n",
    "    return count_subsets_recursive(dp, num, sum, 0)\n",
    "\n",
    "\n",
    "def count_subsets_recursive(dp, num, sum, currentIndex):\n",
    "    # base checks\n",
    "    if sum == 0:\n",
    "        return 1\n",
    "\n",
    "    n = len(num)\n",
    "    if n == 0 or currentIndex >= n:\n",
    "        return 0\n",
    "\n",
    "    # check if we have not already processed a similar problem\n",
    "    if dp[currentIndex][sum] == -1:\n",
    "        # recursive call after choosing the number at the currentIndex\n",
    "        # if the number at currentIndex exceeds the sum, we shouldn't process this\n",
    "        sum1 = 0\n",
    "        if num[currentIndex] <= sum:\n",
    "            sum1 = count_subsets_recursive(\n",
    "                dp, num, sum - num[currentIndex], currentIndex + 1)\n",
    "\n",
    "        # recursive call after excluding the number at the currentIndex\n",
    "        sum2 = count_subsets_recursive(dp, num, sum, currentIndex + 1)\n",
    "\n",
    "        dp[currentIndex][sum] = sum1 + sum2\n",
    "\n",
    "    return dp[currentIndex][sum]\n",
    "\n",
    "\n",
    "def main():\n",
    "    print(\"Total number of subsets \" + str(count_subsets([1, 1, 2, 3], 4)))\n",
    "    print(\"Total number of subsets: \" + str(count_subsets([1, 2, 7, 1, 5], 9)))\n",
    "\n",
    "\n",
    "main()"
   ]
  },
  {
   "cell_type": "markdown",
   "metadata": {},
   "source": [
    "#### Bottom-up Dynamic Programming"
   ]
  },
  {
   "cell_type": "code",
   "execution_count": 3,
   "metadata": {},
   "outputs": [
    {
     "name": "stdout",
     "output_type": "stream",
     "text": [
      "Total number of subsets 3\n",
      "Total number of subsets: 3\n"
     ]
    }
   ],
   "source": [
    "def count_subsets(num, sum):\n",
    "    n = len(num)\n",
    "    dp = [[-1 for x in range(sum+1)] for y in range(n)]\n",
    "\n",
    "    # populate the sum = 0 columns, as we will always have an empty set for zero sum\n",
    "    for i in range(0, n):\n",
    "        dp[i][0] = 1\n",
    "\n",
    "    # with only one number, we can form a subset only when the required sum is\n",
    "    # equal to its value\n",
    "    for s in range(1, sum+1):\n",
    "        dp[0][s] = 1 if num[0] == s else 0\n",
    "\n",
    "    # process all subsets for all sums\n",
    "    for i in range(1, n):\n",
    "        for s in range(1, sum+1):\n",
    "            # exclude the number\n",
    "            dp[i][s] = dp[i - 1][s]\n",
    "            # include the number, if it does not exceed the sum\n",
    "            if s >= num[i]:\n",
    "                dp[i][s] += dp[i - 1][s - num[i]]\n",
    "\n",
    "    # the bottom-right corner will have our answer.\n",
    "    return dp[n - 1][sum]\n",
    "\n",
    "\n",
    "def main():\n",
    "    print(\"Total number of subsets \" + str(count_subsets([1, 1, 2, 3], 4)))\n",
    "    print(\"Total number of subsets: \" + str(count_subsets([1, 2, 7, 1, 5], 9)))\n",
    "\n",
    "\n",
    "main()"
   ]
  },
  {
   "cell_type": "markdown",
   "metadata": {},
   "source": [
    "#### Challenge"
   ]
  },
  {
   "cell_type": "markdown",
   "metadata": {},
   "source": [
    "Can we further improve our bottom-up DP solution? Can you find an algorithm that has $O(S)$ space complexity?"
   ]
  },
  {
   "cell_type": "code",
   "execution_count": 4,
   "metadata": {},
   "outputs": [
    {
     "name": "stdout",
     "output_type": "stream",
     "text": [
      "Total number of subsets 3\n",
      "Total number of subsets: 3\n"
     ]
    }
   ],
   "source": [
    "def count_subsets(num, sum):\n",
    "    n = len(num)\n",
    "    dp = [0 for x in range(sum+1)]\n",
    "    dp[0] = 1\n",
    "\n",
    "    # with only one number, we can form a subset only when the required sum is equal to the number\n",
    "    for s in range(1, sum+1):\n",
    "        dp[s] = 1 if num[0] == s else 0\n",
    "\n",
    "    # process all subsets for all sums\n",
    "    for i in range(1, n):\n",
    "        for s in range(sum, -1, -1):\n",
    "            if s >= num[i]:\n",
    "                dp[s] += dp[s - num[i]]\n",
    "\n",
    "    return dp[sum]\n",
    "\n",
    "\n",
    "def main():\n",
    "    print(\"Total number of subsets \" + str(count_subsets([1, 1, 2, 3], 4)))\n",
    "    print(\"Total number of subsets: \" + str(count_subsets([1, 2, 7, 1, 5], 9)))\n",
    "\n",
    "\n",
    "main()"
   ]
  },
  {
   "cell_type": "markdown",
   "metadata": {},
   "source": [
    "### Target Sum"
   ]
  },
  {
   "cell_type": "markdown",
   "metadata": {},
   "source": [
    "Given a set of positive numbers (non zero) and a target sum ‘S’. Each number should be assigned either a ‘+’ or ‘-’ sign. We need to find out total ways to assign symbols to make the sum of numbers equal to target ‘S’."
   ]
  },
  {
   "cell_type": "markdown",
   "metadata": {},
   "source": [
    "#### Solution"
   ]
  },
  {
   "cell_type": "code",
   "execution_count": 5,
   "metadata": {},
   "outputs": [
    {
     "name": "stdout",
     "output_type": "stream",
     "text": [
      "Total ways: 3\n",
      "Total ways: 2\n"
     ]
    }
   ],
   "source": [
    "def find_target_subsets(num, s):\n",
    "    totalSum = sum(num)\n",
    "\n",
    "    # if 's + totalSum' is odd, we can't find a subset with sum equal to '(s + totalSum) / 2'\n",
    "    if totalSum < s or (s + totalSum) % 2 == 1:\n",
    "        return 0\n",
    "\n",
    "    return count_subsets(num, int((s + totalSum) / 2))\n",
    "\n",
    "\n",
    "# this function is exactly similar to what we have in 'Count of Subset Sum' problem.\n",
    "def count_subsets(num, s):\n",
    "    n = len(num)\n",
    "    dp = [[0 for x in range(s+1)] for y in range(n)]\n",
    "\n",
    "    # populate the sum = 0 columns, as we will always have an empty set for zero sum\n",
    "    for i in range(0, n):\n",
    "        dp[i][0] = 1\n",
    "\n",
    "    # with only one number, we can form a subset only when the required sum is\n",
    "    # equal to the number\n",
    "    for s in range(1, s+1):\n",
    "        dp[0][s] = 1 if num[0] == s else 0\n",
    "\n",
    "    # process all subsets for all sums\n",
    "    for i in range(1, n):\n",
    "        for s in range(1, s+1):\n",
    "            dp[i][s] = dp[i - 1][s]\n",
    "            if s >= num[i]:\n",
    "                dp[i][s] += dp[i - 1][s - num[i]]\n",
    "\n",
    "    # the bottom-right corner will have our answer.\n",
    "    return dp[n - 1][s]\n",
    "\n",
    "\n",
    "def main():\n",
    "    print(\"Total ways: \" + str(find_target_subsets([1, 1, 2, 3], 1)))\n",
    "    print(\"Total ways: \" + str(find_target_subsets([1, 2, 7, 1], 9)))\n",
    "\n",
    "\n",
    "main()"
   ]
  },
  {
   "cell_type": "markdown",
   "metadata": {},
   "source": [
    "#### Space Optimized Solution"
   ]
  },
  {
   "cell_type": "code",
   "execution_count": 6,
   "metadata": {},
   "outputs": [
    {
     "name": "stdout",
     "output_type": "stream",
     "text": [
      "Total ways: 3\n",
      "Total ways: 2\n"
     ]
    }
   ],
   "source": [
    "def find_target_subsets(num, s):\n",
    "    totalSum = sum(num)\n",
    "\n",
    "    # if 's + totalSum' is odd, we can't find a subset with sum equal to '(s +totalSum) / 2'\n",
    "    if totalSum < s or (s + totalSum) % 2 == 1:\n",
    "        return 0\n",
    "\n",
    "    return count_subsets(num, int((s + totalSum) / 2))\n",
    "\n",
    "\n",
    "# this function is exactly similar to what we have in 'Count of Subset Sum' problem\n",
    "def count_subsets(num, sum):\n",
    "    n = len(num)\n",
    "    dp = [0 for x in range(sum+1)]\n",
    "    dp[0] = 1\n",
    "\n",
    "    # with only one number, we can form a subset only when the required sum is equal to the number\n",
    "    for s in range(1, sum+1):\n",
    "        dp[s] = 1 if num[0] == s else 0\n",
    "\n",
    "    # process all subsets for all sums\n",
    "    for i in range(1, n):\n",
    "        for s in range(sum, -1, -1):\n",
    "            if s >= num[i]:\n",
    "                dp[s] += dp[s - num[i]]\n",
    "\n",
    "    return dp[sum]\n",
    "\n",
    "\n",
    "def main():\n",
    "    print(\"Total ways: \" + str(find_target_subsets([1, 1, 2, 3], 1)))\n",
    "    print(\"Total ways: \" + str(find_target_subsets([1, 2, 7, 1], 9)))\n",
    "\n",
    "\n",
    "main()"
   ]
  },
  {
   "cell_type": "markdown",
   "metadata": {},
   "source": [
    "## Unbounded Knapsack"
   ]
  },
  {
   "cell_type": "markdown",
   "metadata": {},
   "source": [
    "### Unbounded Knapsack"
   ]
  },
  {
   "cell_type": "markdown",
   "metadata": {},
   "source": [
    "Given two integer arrays to represent weights and profits of ‘N’ items, we need to find a subset of these items which will give us maximum profit such that their cumulative weight is not more than a given number ‘C’. We can assume an infinite supply of item quantities; therefore, each item can be selected multiple times."
   ]
  },
  {
   "cell_type": "markdown",
   "metadata": {},
   "source": [
    "#### Basic Solution"
   ]
  },
  {
   "cell_type": "code",
   "execution_count": 7,
   "metadata": {},
   "outputs": [
    {
     "name": "stdout",
     "output_type": "stream",
     "text": [
      "140\n",
      "105\n"
     ]
    }
   ],
   "source": [
    "def solve_knapsack(profits, weights, capacity):\n",
    "    return solve_knapsack_recursive(profits, weights, capacity, 0)\n",
    "\n",
    "\n",
    "def solve_knapsack_recursive(profits, weights, capacity, currentIndex):\n",
    "    n = len(profits)\n",
    "    # base checks\n",
    "    if capacity <= 0 or n == 0 or len(weights) != n or currentIndex >= n:\n",
    "        return 0\n",
    "\n",
    "    # recursive call after choosing the items at the currentIndex, note that we recursive call on all\n",
    "    # items as we did not increment currentIndex\n",
    "    profit1 = 0\n",
    "    if weights[currentIndex] <= capacity:\n",
    "        profit1 = profits[currentIndex] + solve_knapsack_recursive(\n",
    "            profits, weights, capacity - weights[currentIndex], currentIndex)\n",
    "\n",
    "    # recursive call after excluding the element at the currentIndex\n",
    "    profit2 = solve_knapsack_recursive(\n",
    "        profits, weights, capacity, currentIndex + 1)\n",
    "\n",
    "    return max(profit1, profit2)\n",
    "\n",
    "\n",
    "def main():\n",
    "    print(solve_knapsack([15, 50, 60, 90], [1, 3, 4, 5], 8))\n",
    "    print(solve_knapsack([15, 50, 60, 90], [1, 3, 4, 5], 6))\n",
    "\n",
    "\n",
    "main()"
   ]
  },
  {
   "cell_type": "markdown",
   "metadata": {},
   "source": [
    "#### Top-down Dynamic Programming with Memoization"
   ]
  },
  {
   "cell_type": "code",
   "execution_count": 8,
   "metadata": {},
   "outputs": [
    {
     "name": "stdout",
     "output_type": "stream",
     "text": [
      "140\n",
      "105\n"
     ]
    }
   ],
   "source": [
    "def solve_knapsack(profits, weights, capacity):\n",
    "    dp = [[-1 for _ in range(capacity+1)] for _ in range(len(profits))]\n",
    "    return solve_knapsack_recursive(dp, profits, weights, capacity, 0)\n",
    "\n",
    "\n",
    "def solve_knapsack_recursive(dp, profits, weights, capacity, currentIndex):\n",
    "    n = len(profits)\n",
    "    # base checks\n",
    "    if capacity <= 0 or n == 0 or len(weights) != n or currentIndex >= n:\n",
    "        return 0\n",
    "\n",
    "    # check if we have not already processed a similar sub-problem\n",
    "    if dp[currentIndex][capacity] == -1:\n",
    "        # recursive call after choosing the items at the currentIndex, note that we\n",
    "        # recursive call on all items as we did not increment currentIndex\n",
    "        profit1 = 0\n",
    "        if weights[currentIndex] <= capacity:\n",
    "            profit1 = profits[currentIndex] + solve_knapsack_recursive(\n",
    "                dp, profits, weights, capacity - weights[currentIndex], currentIndex)\n",
    "\n",
    "        # recursive call after excluding the element at the currentIndex\n",
    "        profit2 = solve_knapsack_recursive(\n",
    "            dp, profits, weights, capacity, currentIndex + 1)\n",
    "\n",
    "        dp[currentIndex][capacity] = max(profit1, profit2)\n",
    "\n",
    "    return dp[currentIndex][capacity]\n",
    "\n",
    "\n",
    "def main():\n",
    "    print(solve_knapsack([15, 50, 60, 90], [1, 3, 4, 5], 8))\n",
    "    print(solve_knapsack([15, 50, 60, 90], [1, 3, 4, 5], 6))\n",
    "\n",
    "\n",
    "main()"
   ]
  },
  {
   "cell_type": "markdown",
   "metadata": {},
   "source": [
    "#### Bottom-up Dynamic Programming"
   ]
  },
  {
   "cell_type": "code",
   "execution_count": 9,
   "metadata": {},
   "outputs": [
    {
     "name": "stdout",
     "output_type": "stream",
     "text": [
      "140\n",
      "105\n"
     ]
    }
   ],
   "source": [
    "def solve_knapsack(profits, weights, capacity):\n",
    "    n = len(profits)\n",
    "    # base checks\n",
    "    if capacity <= 0 or n == 0 or len(weights) != n:\n",
    "        return 0\n",
    "\n",
    "    dp = [[-1 for _ in range(capacity+1)] for _ in range(len(profits))]\n",
    "\n",
    "    # populate the capacity=0 columns\n",
    "    for i in range(n):\n",
    "        dp[i][0] = 0\n",
    "\n",
    "    # process all sub-arrays for all capacities\n",
    "    for i in range(n):\n",
    "        for c in range(1, capacity+1):\n",
    "            profit1, profit2 = 0, 0\n",
    "            if weights[i] <= c:\n",
    "                profit1 = profits[i] + dp[i][c - weights[i]]\n",
    "            if i > 0:\n",
    "                profit2 = dp[i - 1][c]\n",
    "            dp[i][c] = profit1 if profit1 > profit2 else profit2\n",
    "\n",
    "    # maximum profit will be in the bottom-right corner.\n",
    "    return dp[n - 1][capacity]\n",
    "\n",
    "\n",
    "def main():\n",
    "    print(solve_knapsack([15, 50, 60, 90], [1, 3, 4, 5], 8))\n",
    "    print(solve_knapsack([15, 50, 60, 90], [1, 3, 4, 5], 6))\n",
    "\n",
    "\n",
    "main()"
   ]
  },
  {
   "cell_type": "code",
   "execution_count": null,
   "metadata": {},
   "outputs": [],
   "source": []
  }
 ],
 "metadata": {
  "kernelspec": {
   "display_name": "Python 3",
   "language": "python",
   "name": "python3"
  },
  "language_info": {
   "codemirror_mode": {
    "name": "ipython",
    "version": 3
   },
   "file_extension": ".py",
   "mimetype": "text/x-python",
   "name": "python",
   "nbconvert_exporter": "python",
   "pygments_lexer": "ipython3",
   "version": "3.6.6"
  },
  "toc": {
   "base_numbering": 1,
   "nav_menu": {},
   "number_sections": true,
   "sideBar": true,
   "skip_h1_title": true,
   "title_cell": "Grokking Dynamic Programming Patterns for Coding Interviews",
   "title_sidebar": "Contents",
   "toc_cell": true,
   "toc_position": {
    "height": "calc(100% - 180px)",
    "left": "10px",
    "top": "150px",
    "width": "449.611px"
   },
   "toc_section_display": true,
   "toc_window_display": false
  }
 },
 "nbformat": 4,
 "nbformat_minor": 4
}
