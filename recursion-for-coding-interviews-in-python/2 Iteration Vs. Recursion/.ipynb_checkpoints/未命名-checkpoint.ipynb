{
 "cells": [
  {
   "cell_type": "markdown",
   "metadata": {},
   "source": [
    "## Overview of Iterative Functions"
   ]
  },
  {
   "cell_type": "markdown",
   "metadata": {},
   "source": [
    "### Iterative"
   ]
  },
  {
   "cell_type": "code",
   "execution_count": 1,
   "metadata": {},
   "outputs": [
    {
     "name": "stdout",
     "output_type": "stream",
     "text": [
      "The factorial of 5 is: 120\n"
     ]
    }
   ],
   "source": [
    "def factorial(targetNumber) :\n",
    "    index = targetNumber - 1 # set the index to target - 1\n",
    "    \n",
    "    while index >= 1 :\n",
    "        targetNumber = targetNumber * index # multiply targetNumber with one less than itself, i.e, index here\n",
    "        index -= 1 # reduce index in each iteration\n",
    "\n",
    "    return targetNumber\n",
    "\n",
    "# Driver Code\n",
    "targetNumber = 5\n",
    "result = factorial(targetNumber)\n",
    "print(\"The factorial of \" + str(targetNumber) + \" is: \" + str(result))"
   ]
  },
  {
   "cell_type": "markdown",
   "metadata": {},
   "source": [
    "### Recursive"
   ]
  },
  {
   "cell_type": "code",
   "execution_count": 2,
   "metadata": {},
   "outputs": [
    {
     "name": "stdout",
     "output_type": "stream",
     "text": [
      "The factorial of 5 is: 120\n"
     ]
    }
   ],
   "source": [
    "def factorial(targetNumber) :\n",
    "    # Base case\n",
    "    if targetNumber == 1 : # Factorial of 1 is 1\n",
    "        return 1\n",
    "\n",
    "    # Recursive case\n",
    "    else :\n",
    "        return (targetNumber * factorial(targetNumber - 1)) \n",
    "\n",
    "# Driver Code\n",
    "targetNumber = 5\n",
    "result = factorial(targetNumber)\n",
    "print(\"The factorial of \" + str(targetNumber) + \" is: \" + str(result))"
   ]
  },
  {
   "cell_type": "markdown",
   "metadata": {},
   "source": [
    "## Converting Iterative Code to Recursive Code"
   ]
  },
  {
   "cell_type": "markdown",
   "metadata": {},
   "source": [
    "### Iterative"
   ]
  },
  {
   "cell_type": "code",
   "execution_count": 3,
   "metadata": {},
   "outputs": [
    {
     "name": "stdout",
     "output_type": "stream",
     "text": [
      "evitacudE\n"
     ]
    }
   ],
   "source": [
    "def reverseString(string):\n",
    "    reverse = ''\n",
    "    length = len(string) - 1\n",
    "    while length >= 0:\n",
    "        reverse = reverse + string[length]\n",
    "        length = length - 1\n",
    "        \n",
    "    return reverse\n",
    "\n",
    "# Driver Code\n",
    "targetVariable = \"Educative\"\n",
    "print(reverseString(targetVariable))"
   ]
  },
  {
   "cell_type": "markdown",
   "metadata": {},
   "source": [
    "### Recursive"
   ]
  },
  {
   "cell_type": "code",
   "execution_count": 4,
   "metadata": {},
   "outputs": [
    {
     "name": "stdout",
     "output_type": "stream",
     "text": [
      "evitacudE\n"
     ]
    }
   ],
   "source": [
    "def reverseString(string):\n",
    "    # Base Case\n",
    "    if len(string) == 0:\n",
    "        return string\n",
    "\n",
    "    # Recursive Case\n",
    "    else:\n",
    "        return reverseString(string[1:]) + string[0]\n",
    "\n",
    "# Driver Code\n",
    "targetVariable = \"Educative\"\n",
    "print(reverseString(targetVariable))"
   ]
  },
  {
   "cell_type": "markdown",
   "metadata": {},
   "source": [
    "## Count Vowels in a String"
   ]
  },
  {
   "cell_type": "markdown",
   "metadata": {},
   "source": [
    "Imagine that we have to find the number of vowels in a given string. We know that the English alphabet contains 55 vowels: a, e, i, o, ua,e,i,o,u. Let’s solve this problem using both iterative and recursive methods."
   ]
  },
  {
   "cell_type": "markdown",
   "metadata": {},
   "source": [
    "### Iterative"
   ]
  },
  {
   "cell_type": "code",
   "execution_count": 6,
   "metadata": {},
   "outputs": [
    {
     "name": "stdout",
     "output_type": "stream",
     "text": [
      "5\n"
     ]
    }
   ],
   "source": [
    "def isVowel(character): # function to check whether input character is a vowel\n",
    "    character = character.lower() # convert character to lower case so upper cases can also be handled\n",
    "    vowels = \"aeiou\" # string containing all vowels\n",
    "\n",
    "    if character in vowels: # check if given character is in vowels\n",
    "        return 1\n",
    "    else:\n",
    "        return 0\n",
    "\n",
    "def countVowels(string): # function that returns the count of vowels\n",
    "    count = 0\n",
    "    for i in range(len(string)): \n",
    "        if isVowel(string[i]) : # check if character is vowel \n",
    "            count += 1\n",
    "    return count \n",
    "\n",
    "# Driver code \n",
    "string = \"Educative\"\n",
    "print(countVowels(string)) "
   ]
  },
  {
   "cell_type": "markdown",
   "metadata": {},
   "source": [
    "### Recursive"
   ]
  },
  {
   "cell_type": "code",
   "execution_count": 7,
   "metadata": {},
   "outputs": [
    {
     "name": "stdout",
     "output_type": "stream",
     "text": [
      "5\n"
     ]
    }
   ],
   "source": [
    "def isVowel(character): # function to check whether input character is a vowel\n",
    "    character = character.lower() # convert character to lower case so upper cases can also be handled\n",
    "\n",
    "    vowels = \"aeiou\" # string containing all vowels\n",
    "\n",
    "    if character in vowels : # check if given character is in vowels\n",
    "        return 1\n",
    "    else:\n",
    "            return 0\n",
    "\n",
    "def countVowels(string, n): # function that returns the count of vowels\n",
    "    # Base Case\n",
    "    if n == 1 :\n",
    "        return isVowel(string[0]) \n",
    "\n",
    "    # Recursive Case\n",
    "    return countVowels(string, n - 1) + isVowel(string[n - 1]) \n",
    "\n",
    "# Driver code \n",
    "string = \"Educative\"\n",
    "print(countVowels(string, len(string))) "
   ]
  },
  {
   "cell_type": "code",
   "execution_count": null,
   "metadata": {},
   "outputs": [],
   "source": []
  }
 ],
 "metadata": {
  "kernelspec": {
   "display_name": "Python 3",
   "language": "python",
   "name": "python3"
  },
  "language_info": {
   "codemirror_mode": {
    "name": "ipython",
    "version": 3
   },
   "file_extension": ".py",
   "mimetype": "text/x-python",
   "name": "python",
   "nbconvert_exporter": "python",
   "pygments_lexer": "ipython3",
   "version": "3.7.6"
  },
  "toc": {
   "base_numbering": 1,
   "nav_menu": {},
   "number_sections": false,
   "sideBar": true,
   "skip_h1_title": false,
   "title_cell": "Table of Contents",
   "title_sidebar": "Contents",
   "toc_cell": false,
   "toc_position": {},
   "toc_section_display": true,
   "toc_window_display": true
  }
 },
 "nbformat": 4,
 "nbformat_minor": 4
}
