{
 "cells": [
  {
   "cell_type": "markdown",
   "metadata": {},
   "source": [
    "# Sliding Window"
   ]
  },
  {
   "cell_type": "markdown",
   "metadata": {},
   "source": [
    "## Introduction"
   ]
  },
  {
   "cell_type": "markdown",
   "metadata": {},
   "source": [
    "Given an array, find the average of all contiguous subarrays of size ‘K’ in it."
   ]
  },
  {
   "cell_type": "code",
   "execution_count": 1,
   "metadata": {},
   "outputs": [
    {
     "name": "stdout",
     "output_type": "stream",
     "text": [
      "Averages of subarrays of size K: [2.2, 2.8, 2.4, 3.6, 2.8]\n"
     ]
    }
   ],
   "source": [
    "def find_averages_of_subarrays(K, arr):\n",
    "    result = []\n",
    "    for i in range(len(arr)-K+1):\n",
    "        # find sum of next 'K' elements\n",
    "        _sum = 0.0\n",
    "        for j in range(i, i+K):\n",
    "            _sum += arr[j]\n",
    "        result.append(_sum/K)  # calculate average\n",
    "    \n",
    "    return result\n",
    "\n",
    "\n",
    "def main():\n",
    "    result = find_averages_of_subarrays(5, [1, 3, 2, 6, -1, 4, 1, 8, 2])\n",
    "    print(\"Averages of subarrays of size K: \" + str(result))\n",
    "\n",
    "\n",
    "main()"
   ]
  },
  {
   "cell_type": "code",
   "execution_count": 2,
   "metadata": {},
   "outputs": [
    {
     "name": "stdout",
     "output_type": "stream",
     "text": [
      "Averages of subarrays of size K: [2.2, 2.8, 2.4, 3.6, 2.8]\n"
     ]
    }
   ],
   "source": [
    "def find_averages_of_subarrays(K, arr):\n",
    "    result = []\n",
    "    windowSum, windowStart = 0.0, 0\n",
    "    for windowEnd in range(len(arr)):\n",
    "        windowSum += arr[windowEnd]  # add the next element\n",
    "        # slide the window, we don't need to slide if we've not hit the required window size of 'k'\n",
    "        if windowEnd >= K - 1:\n",
    "            result.append(windowSum / K)  # calculate the average\n",
    "            windowSum -= arr[windowStart]  # subtract the element going out\n",
    "            windowStart += 1  # slide the window ahead\n",
    "\n",
    "    return result\n",
    "\n",
    "\n",
    "def main():\n",
    "    result = find_averages_of_subarrays(5, [1, 3, 2, 6, -1, 4, 1, 8, 2])\n",
    "    print(\"Averages of subarrays of size K: \" + str(result))\n",
    "\n",
    "\n",
    "main()"
   ]
  },
  {
   "cell_type": "markdown",
   "metadata": {},
   "source": [
    "## Maximum Sum Subarray of Size K (easy)"
   ]
  },
  {
   "cell_type": "markdown",
   "metadata": {},
   "source": [
    "Given an array of positive numbers and a positive number ‘k’, find the maximum sum of any contiguous subarray of size ‘k’."
   ]
  },
  {
   "cell_type": "code",
   "execution_count": 3,
   "metadata": {},
   "outputs": [
    {
     "name": "stdout",
     "output_type": "stream",
     "text": [
      "Maximum sum of a subarray of size K: 9\n",
      "Maximum sum of a subarray of size K: 7\n"
     ]
    }
   ],
   "source": [
    "def max_sub_array_of_size_k(k, arr):\n",
    "    max_sum = 0\n",
    "    window_sum = 0\n",
    "\n",
    "    for i in range(len(arr) - k + 1):\n",
    "        window_sum = 0\n",
    "        for j in range(i, i+k):\n",
    "            window_sum += arr[j]\n",
    "        max_sum = max(max_sum, window_sum)\n",
    "    return max_sum\n",
    "\n",
    "\n",
    "def main():\n",
    "    print(\"Maximum sum of a subarray of size K: \" + str(max_sub_array_of_size_k(3, [2, 1, 5, 1, 3, 2])))\n",
    "    print(\"Maximum sum of a subarray of size K: \" + str(max_sub_array_of_size_k(2, [2, 3, 4, 1, 5])))\n",
    "\n",
    "\n",
    "main()"
   ]
  },
  {
   "cell_type": "code",
   "execution_count": 4,
   "metadata": {},
   "outputs": [
    {
     "name": "stdout",
     "output_type": "stream",
     "text": [
      "Maximum sum of a subarray of size K: 9\n",
      "Maximum sum of a subarray of size K: 7\n"
     ]
    }
   ],
   "source": [
    "def max_sub_array_of_size_k(k, arr):\n",
    "    max_sum , window_sum = 0, 0\n",
    "    window_start = 0\n",
    "\n",
    "    for window_end in range(len(arr)):\n",
    "        window_sum += arr[window_end]  # add the next element\n",
    "        # slide the window, we don't need to slide if we've not hit the required window size of 'k'\n",
    "        if window_end >= k-1:\n",
    "            max_sum = max(max_sum, window_sum)\n",
    "            window_sum -= arr[window_start]  # subtract the element going out\n",
    "            window_start += 1  # slide the window ahead\n",
    "    return max_sum\n",
    "\n",
    "\n",
    "def main():\n",
    "    print(\"Maximum sum of a subarray of size K: \" + str(max_sub_array_of_size_k(3, [2, 1, 5, 1, 3, 2])))\n",
    "    print(\"Maximum sum of a subarray of size K: \" + str(max_sub_array_of_size_k(2, [2, 3, 4, 1, 5])))\n",
    "\n",
    "main()"
   ]
  },
  {
   "cell_type": "markdown",
   "metadata": {},
   "source": [
    "## Smallest Subarray with a given sum (easy)"
   ]
  },
  {
   "cell_type": "markdown",
   "metadata": {},
   "source": [
    "Given an array of positive numbers and a positive number ‘S’, find the length of the smallest contiguous subarray whose sum is greater than or equal to ‘S’. Return 0, if no such subarray exists."
   ]
  },
  {
   "cell_type": "code",
   "execution_count": 5,
   "metadata": {},
   "outputs": [
    {
     "name": "stdout",
     "output_type": "stream",
     "text": [
      "Smallest subarray length: 2\n",
      "Smallest subarray length: 1\n",
      "Smallest subarray length: 3\n"
     ]
    }
   ],
   "source": [
    "import math\n",
    "\n",
    "\n",
    "def smallest_subarray_with_given_sum(s, arr):\n",
    "    window_sum = 0\n",
    "    min_length = math.inf\n",
    "    window_start = 0\n",
    "\n",
    "    for window_end in range(0, len(arr)):\n",
    "        window_sum += arr[window_end]  # add the next element\n",
    "        # shrink the window as small as possible until the 'window_sum' is smaller than 's'\n",
    "        while window_sum >= s:\n",
    "            min_length = min(min_length, window_end - window_start + 1)\n",
    "            window_sum -= arr[window_start]\n",
    "            window_start += 1\n",
    "    if min_length == math.inf:\n",
    "        return 0\n",
    "    return min_length\n",
    "\n",
    "\n",
    "def main():\n",
    "    print(\"Smallest subarray length: \" + str(smallest_subarray_with_given_sum(7, [2, 1, 5, 2, 3, 2])))\n",
    "    print(\"Smallest subarray length: \" + str(smallest_subarray_with_given_sum(7, [2, 1, 5, 2, 8])))\n",
    "    print(\"Smallest subarray length: \" + str(smallest_subarray_with_given_sum(8, [3, 4, 1, 1, 6])))\n",
    "\n",
    "\n",
    "main()"
   ]
  },
  {
   "cell_type": "markdown",
   "metadata": {},
   "source": [
    "## Longest Substring with K Distinct Characters (medium)"
   ]
  },
  {
   "cell_type": "markdown",
   "metadata": {},
   "source": [
    "Given a string, find the length of the longest substring in it with no more than K distinct characters."
   ]
  },
  {
   "cell_type": "code",
   "execution_count": 6,
   "metadata": {},
   "outputs": [
    {
     "name": "stdout",
     "output_type": "stream",
     "text": [
      "Length of the longest substr1ing: 4\n",
      "Length of the longest substr1ing: 2\n",
      "Length of the longest substr1ing: 5\n"
     ]
    }
   ],
   "source": [
    "def longest_substring_with_k_distinct(str1, k):\n",
    "    window_start = 0\n",
    "    max_length = 0\n",
    "    char_frequency = {}\n",
    "\n",
    "    # in the following loop we'll try to extend the range [window_start, window_end]\n",
    "    for window_end in range(len(str1)):\n",
    "        right_char = str1[window_end]\n",
    "        if right_char not in char_frequency:\n",
    "            char_frequency[right_char] = 0\n",
    "        char_frequency[right_char] += 1\n",
    "\n",
    "        # shrink the sliding window, until we are left with 'k' distinct characters in the char_frequency\n",
    "        while len(char_frequency) > k:\n",
    "            left_char = str1[window_start]\n",
    "            char_frequency[left_char] -= 1\n",
    "            if char_frequency[left_char] == 0:\n",
    "                del char_frequency[left_char]\n",
    "            window_start += 1  # shrink the window\n",
    "        # remember the maximum length so far\n",
    "        max_length = max(max_length, window_end-window_start + 1)\n",
    "    return max_length\n",
    "\n",
    "\n",
    "def main():\n",
    "    print(\"Length of the longest substr1ing: \" + str(longest_substring_with_k_distinct(\"araaci\", 2)))\n",
    "    print(\"Length of the longest substr1ing: \" + str(longest_substring_with_k_distinct(\"araaci\", 1)))\n",
    "    print(\"Length of the longest substr1ing: \" + str(longest_substring_with_k_distinct(\"cbbebi\", 3)))\n",
    "\n",
    "\n",
    "main()"
   ]
  },
  {
   "cell_type": "markdown",
   "metadata": {},
   "source": [
    "## Fruits into Baskets (medium)"
   ]
  },
  {
   "cell_type": "markdown",
   "metadata": {},
   "source": [
    "Given an array of characters where each character represents a fruit tree, you are given two baskets and your goal is to put maximum number of fruits in each basket. The only restriction is that each basket can have only one type of fruit.\n",
    "\n",
    "You can start with any tree, but once you have started you can’t skip a tree. You will pick one fruit from each tree until you cannot, i.e., you will stop when you have to pick from a third fruit type.\n",
    "\n",
    "Write a function to return the maximum number of fruits in both the baskets."
   ]
  },
  {
   "cell_type": "code",
   "execution_count": 7,
   "metadata": {},
   "outputs": [
    {
     "name": "stdout",
     "output_type": "stream",
     "text": [
      "Maximum number of fruits: 3\n",
      "Maximum number of fruits: 5\n"
     ]
    }
   ],
   "source": [
    "def fruits_into_baskets(fruits):\n",
    "    window_start = 0\n",
    "    max_length = 0\n",
    "    fruit_frequency = {}\n",
    "\n",
    "    # try to extend the range [window_start, window_end]\n",
    "    for window_end in range(len(fruits)):\n",
    "        right_fruit = fruits[window_end]\n",
    "        if right_fruit not in fruit_frequency:\n",
    "            fruit_frequency[right_fruit] = 0\n",
    "        fruit_frequency[right_fruit] += 1\n",
    "\n",
    "        # shrink the sliding window, until we are left with '2' fruits in the fruit frequency dictionary\n",
    "        while len(fruit_frequency) > 2:\n",
    "            left_fruit = fruits[window_start]\n",
    "            fruit_frequency[left_fruit] -= 1\n",
    "            if fruit_frequency[left_fruit] == 0:\n",
    "                del fruit_frequency[left_fruit]\n",
    "            window_start += 1  # shrink the window\n",
    "        max_length = max(max_length, window_end - window_start + 1)\n",
    "    return max_length\n",
    "\n",
    "\n",
    "def main():\n",
    "    print(\"Maximum number of fruits: \" + str(fruits_into_baskets(['A', 'B', 'C', 'A', 'C'])))\n",
    "    print(\"Maximum number of fruits: \" + str(fruits_into_baskets(['A', 'B', 'C', 'B', 'B', 'C'])))\n",
    "\n",
    "\n",
    "main()"
   ]
  },
  {
   "cell_type": "markdown",
   "metadata": {},
   "source": [
    "## No-repeat Substring (hard)"
   ]
  },
  {
   "cell_type": "markdown",
   "metadata": {},
   "source": [
    "Given a string, find the length of the longest substring which has no repeating characters."
   ]
  },
  {
   "cell_type": "code",
   "execution_count": 8,
   "metadata": {},
   "outputs": [
    {
     "name": "stdout",
     "output_type": "stream",
     "text": [
      "Length of the longest substring: 3\n",
      "Length of the longest substring: 2\n",
      "Length of the longest substring: 3\n"
     ]
    }
   ],
   "source": [
    "def non_repeat_substring(str1):\n",
    "    window_start = 0\n",
    "    max_length = 0\n",
    "    char_index_map = {}\n",
    "\n",
    "    # try to extend the range [windowStart, windowEnd]\n",
    "    for window_end in range(len(str1)):\n",
    "        right_char = str1[window_end]\n",
    "        # if the map already contains the 'right_char', shrink the window from the beginning so that\n",
    "        # we have only one occurrence of 'right_char'\n",
    "        if right_char in char_index_map:\n",
    "            # this is tricky; in the current window, we will not have any 'right_char' after its previous index\n",
    "            # and if 'window_start' is already ahead of the last index of 'right_char', we'll keep 'window_start'\n",
    "            window_start = max(window_start, char_index_map[right_char] + 1)\n",
    "        # insert the 'right_char' into the map\n",
    "        char_index_map[right_char] = window_end\n",
    "        # remember the maximum length so far\n",
    "        max_length = max(max_length, window_end - window_start + 1)\n",
    "    return max_length\n",
    "\n",
    "\n",
    "def main():\n",
    "    print(\"Length of the longest substring: \" + str(non_repeat_substring(\"aabccbb\")))\n",
    "    print(\"Length of the longest substring: \" + str(non_repeat_substring(\"abbbb\")))\n",
    "    print(\"Length of the longest substring: \" + str(non_repeat_substring(\"abccde\")))\n",
    "\n",
    "\n",
    "main()"
   ]
  },
  {
   "cell_type": "markdown",
   "metadata": {},
   "source": [
    "## Longest Substring with Same Letters after Replacement (hard)"
   ]
  },
  {
   "cell_type": "markdown",
   "metadata": {},
   "source": [
    "Given a string with lowercase letters only, if you are allowed to replace no more than ‘k’ letters with any letter, find the length of the longest substring having the same letters after replacement."
   ]
  },
  {
   "cell_type": "code",
   "execution_count": 9,
   "metadata": {},
   "outputs": [
    {
     "name": "stdout",
     "output_type": "stream",
     "text": [
      "5\n",
      "4\n",
      "3\n"
     ]
    }
   ],
   "source": [
    "def length_of_longest_substring(str1, k):\n",
    "    window_start, max_length, max_repeat_letter_count = 0, 0, 0\n",
    "    frequency_map = {}\n",
    "\n",
    "    # Try to extend the range [window_start, window_end]\n",
    "    for window_end in range(len(str1)):\n",
    "        right_char = str1[window_end]\n",
    "        if right_char not in frequency_map:\n",
    "            frequency_map[right_char] = 0\n",
    "        frequency_map[right_char] += 1\n",
    "        max_repeat_letter_count = max(\n",
    "            max_repeat_letter_count, frequency_map[right_char])\n",
    "\n",
    "        # Current window size is from window_start to window_end, overall we have a letter which is\n",
    "        # repeating 'max_repeat_letter_count' times, this means we can have a window which has one letter\n",
    "        # repeating 'max_repeat_letter_count' times and the remaining letters we should replace.\n",
    "        # if the remaining letters are more than 'k', it is the time to shrink the window as we\n",
    "        # are not allowed to replace more than 'k' letters\n",
    "        if (window_end - window_start + 1 - max_repeat_letter_count) > k:\n",
    "            left_char = str1[window_start]\n",
    "            frequency_map[left_char] -= 1\n",
    "            window_start += 1\n",
    "\n",
    "        max_length = max(max_length, window_end - window_start + 1)\n",
    "    return max_length\n",
    "\n",
    "\n",
    "def main():\n",
    "    print(length_of_longest_substring(\"aabccbb\", 2))\n",
    "    print(length_of_longest_substring(\"abbcb\", 1))\n",
    "    print(length_of_longest_substring(\"abccde\", 1))\n",
    "\n",
    "\n",
    "main()"
   ]
  },
  {
   "cell_type": "markdown",
   "metadata": {},
   "source": [
    "## Longest Subarray with Ones after Replacement (hard)"
   ]
  },
  {
   "cell_type": "markdown",
   "metadata": {},
   "source": [
    "Given an array containing 0s and 1s, if you are allowed to replace no more than ‘k’ 0s with 1s, find the length of the longest contiguous subarray having all 1s."
   ]
  },
  {
   "cell_type": "code",
   "execution_count": 10,
   "metadata": {},
   "outputs": [
    {
     "name": "stdout",
     "output_type": "stream",
     "text": [
      "6\n",
      "9\n"
     ]
    }
   ],
   "source": [
    "def length_of_longest_substring(arr, k):\n",
    "    window_start, max_length, max_ones_count = 0, 0, 0\n",
    "\n",
    "    # Try to extend the range [window_start, window_end]\n",
    "    for window_end in range(len(arr)):\n",
    "        if arr[window_end] == 1:\n",
    "            max_ones_count += 1\n",
    "\n",
    "        # Current window size is from window_start to window_end, overall we have a maximum of 1s\n",
    "        # repeating 'max_ones_count' times, this means we can have a window with 'max_ones_count' 1s\n",
    "        # and the remaining are 0s which should replace with 1s.\n",
    "        # now, if the remaining 1s are more than 'k', it is the time to shrink the window as we\n",
    "        # are not allowed to replace more than 'k' 0s\n",
    "        if (window_end - window_start + 1 - max_ones_count) > k:\n",
    "            if arr[window_start] == 1:\n",
    "                max_ones_count -= 1\n",
    "            window_start += 1\n",
    "\n",
    "        max_length = max(max_length, window_end - window_start + 1)\n",
    "    return max_length\n",
    "\n",
    "\n",
    "def main():\n",
    "    print(length_of_longest_substring([0, 1, 1, 0, 0, 0, 1, 1, 0, 1, 1], 2))\n",
    "    print(length_of_longest_substring(\n",
    "        [0, 1, 0, 0, 1, 1, 0, 1, 1, 0, 0, 1, 1], 3))\n",
    "\n",
    "\n",
    "main()"
   ]
  },
  {
   "cell_type": "markdown",
   "metadata": {},
   "source": [
    "## Permutation in a String (hard) "
   ]
  },
  {
   "cell_type": "markdown",
   "metadata": {},
   "source": [
    "Given a string and a pattern, find out if the string contains any permutation of the pattern.\n",
    "\n",
    "Permutation is defined as the re-arranging of the characters of the string. For example, “abc” has the following six permutations:\n",
    "\n",
    "1. abc\n",
    "2. acb\n",
    "3. bac\n",
    "4. bca\n",
    "5. cab\n",
    "6. cba\n",
    "\n",
    "If a string has ‘n’ distinct characters it will have $n!$ permutations."
   ]
  },
  {
   "cell_type": "code",
   "execution_count": 11,
   "metadata": {},
   "outputs": [
    {
     "name": "stdout",
     "output_type": "stream",
     "text": [
      "Permutation exist: True\n",
      "Permutation exist: False\n",
      "Permutation exist: True\n",
      "Permutation exist: True\n"
     ]
    }
   ],
   "source": [
    "def find_permutation(str1, pattern):\n",
    "    window_start, matched = 0, 0\n",
    "    char_frequency = {}\n",
    "\n",
    "    for chr in pattern:\n",
    "        if chr not in char_frequency:\n",
    "            char_frequency[chr] = 0\n",
    "        char_frequency[chr] += 1\n",
    "\n",
    "    # our goal is to match all the characters from the 'char_frequency' with the current window\n",
    "    # try to extend the range [window_start, window_end]\n",
    "    for window_end in range(len(str1)):\n",
    "        right_char = str1[window_end]\n",
    "        if right_char in char_frequency:\n",
    "            # decrement the frequency of matched character\n",
    "            char_frequency[right_char] -= 1\n",
    "            if char_frequency[right_char] == 0:\n",
    "                matched += 1\n",
    "\n",
    "        if matched == len(char_frequency):\n",
    "            return True\n",
    "\n",
    "        # shrink the window by one character\n",
    "        if window_end >= len(pattern) - 1:\n",
    "            left_char = str1[window_start]\n",
    "            window_start += 1\n",
    "            if left_char in char_frequency:\n",
    "                if char_frequency[left_char] == 0:\n",
    "                    matched -= 1\n",
    "                char_frequency[left_char] += 1\n",
    "\n",
    "    return False\n",
    "\n",
    "\n",
    "def main():\n",
    "    print('Permutation exist: ' + str(find_permutation(\"oidbcaf\", \"abc\")))\n",
    "    print('Permutation exist: ' + str(find_permutation(\"odicf\", \"dc\")))\n",
    "    print('Permutation exist: ' + str(find_permutation(\"bcdxabcdy\", \"bcdyabcdx\")))\n",
    "    print('Permutation exist: ' + str(find_permutation(\"aaacb\", \"abc\")))\n",
    "\n",
    "\n",
    "main()"
   ]
  },
  {
   "cell_type": "markdown",
   "metadata": {},
   "source": [
    "## String Anagrams (hard)"
   ]
  },
  {
   "cell_type": "markdown",
   "metadata": {},
   "source": [
    "Given a string and a pattern, find all anagrams of the pattern in the given string.\n",
    "\n",
    "Anagram is actually a Permutation of a string. For example, “abc” has the following six anagrams:\n",
    "\n",
    "1. abc\n",
    "2. acb\n",
    "3. bac\n",
    "4. bca\n",
    "5. cab\n",
    "6. cba\n",
    "\n",
    "Write a function to return a list of starting indices of the anagrams of the pattern in the given string."
   ]
  },
  {
   "cell_type": "code",
   "execution_count": 12,
   "metadata": {},
   "outputs": [
    {
     "name": "stdout",
     "output_type": "stream",
     "text": [
      "[1, 2]\n",
      "[2, 3, 4]\n"
     ]
    }
   ],
   "source": [
    "def find_string_anagrams(str1, pattern):\n",
    "    window_start, matched = 0, 0\n",
    "    char_frequency = {}\n",
    "\n",
    "    for chr in pattern:\n",
    "        if chr not in char_frequency:\n",
    "            char_frequency[chr] = 0\n",
    "        char_frequency[chr] += 1\n",
    "\n",
    "    result_indices = []\n",
    "    # Our goal is to match all the characters from the 'char_frequency' with the current window\n",
    "    # try to extend the range [window_start, window_end]\n",
    "    for window_end in range(len(str1)):\n",
    "        right_char = str1[window_end]\n",
    "        if right_char in char_frequency:\n",
    "            # Decrement the frequency of matched character\n",
    "            char_frequency[right_char] -= 1\n",
    "            if char_frequency[right_char] == 0:\n",
    "                matched += 1\n",
    "\n",
    "        if matched == len(char_frequency):    # Have we found an anagram?\n",
    "            result_indices.append(window_start)\n",
    "\n",
    "        # Shrink the sliding window\n",
    "        if window_end >= len(pattern) - 1:\n",
    "            left_char = str1[window_start]\n",
    "            window_start += 1\n",
    "            if left_char in char_frequency:\n",
    "                if char_frequency[left_char] == 0:\n",
    "                    matched -= 1    # Before putting the character back, decrement the matched count\n",
    "                char_frequency[left_char] += 1    # Put the character back\n",
    "\n",
    "    return result_indices\n",
    "\n",
    "\n",
    "def main():\n",
    "    print(find_string_anagrams(\"ppqp\", \"pq\"))\n",
    "    print(find_string_anagrams(\"abbcabc\", \"abc\"))\n",
    "\n",
    "\n",
    "main()"
   ]
  },
  {
   "cell_type": "markdown",
   "metadata": {},
   "source": [
    "## Smallest Window containing Substring (hard)"
   ]
  },
  {
   "cell_type": "markdown",
   "metadata": {},
   "source": [
    "Given a string and a pattern, find the smallest substring in the given string which has all the characters of the given pattern."
   ]
  },
  {
   "cell_type": "code",
   "execution_count": 13,
   "metadata": {},
   "outputs": [
    {
     "name": "stdout",
     "output_type": "stream",
     "text": [
      "abdec\n",
      "abc\n",
      "\n"
     ]
    }
   ],
   "source": [
    "def find_substring(str1, pattern):\n",
    "    window_start, matched, substr_start = 0, 0, 0\n",
    "    min_length = len(str1) + 1\n",
    "    char_frequency = {}\n",
    "\n",
    "    for chr in pattern:\n",
    "        if chr not in char_frequency:\n",
    "            char_frequency[chr] = 0\n",
    "        char_frequency[chr] += 1\n",
    "\n",
    "    # try to extend the range [window_start, window_end]\n",
    "    for window_end in range(len(str1)):\n",
    "        right_char = str1[window_end]\n",
    "        if right_char in char_frequency:\n",
    "            char_frequency[right_char] -= 1\n",
    "            if char_frequency[right_char] >= 0:    # Count every matching of a character\n",
    "                matched += 1\n",
    "\n",
    "        # Shrink the window if we can, finish as soon as we remove a matched character\n",
    "        while matched == len(pattern):\n",
    "            if min_length > window_end - window_start + 1:\n",
    "                min_length = window_end - window_start + 1\n",
    "                substr_start = window_start\n",
    "\n",
    "            left_char = str1[window_start]\n",
    "            window_start += 1\n",
    "            if left_char in char_frequency:\n",
    "                # Note that we could have redundant matching characters, therefore we'll decrement the\n",
    "                # matched count only when a useful occurrence of a matched character is going out of the window\n",
    "                if char_frequency[left_char] == 0:\n",
    "                    matched -= 1\n",
    "                char_frequency[left_char] += 1\n",
    "\n",
    "    if min_length > len(str1):\n",
    "        return \"\"\n",
    "    return str1[substr_start:substr_start + min_length]\n",
    "\n",
    "\n",
    "def main():\n",
    "    print(find_substring(\"aabdec\", \"abc\"))\n",
    "    print(find_substring(\"abdabca\", \"abc\"))\n",
    "    print(find_substring(\"adcad\", \"abc\"))\n",
    "\n",
    "main()"
   ]
  },
  {
   "cell_type": "markdown",
   "metadata": {},
   "source": [
    "## Words Concatenation (hard)"
   ]
  },
  {
   "cell_type": "markdown",
   "metadata": {},
   "source": [
    "Given a string and a list of words, find all the starting indices of substrings in the given string that are a concatenation of all the given words exactly once without any overlapping of words. It is given that all words are of the same length."
   ]
  },
  {
   "cell_type": "code",
   "execution_count": 14,
   "metadata": {},
   "outputs": [
    {
     "name": "stdout",
     "output_type": "stream",
     "text": [
      "[0, 3]\n",
      "[3]\n"
     ]
    }
   ],
   "source": [
    "def find_word_concatenation(str1, words):\n",
    "    if len(words) == 0 or len(words[0]) == 0:\n",
    "        return []\n",
    "\n",
    "    word_frequency = {}\n",
    "\n",
    "    for word in words:\n",
    "        if word not in word_frequency:\n",
    "            word_frequency[word] = 0\n",
    "        word_frequency[word] += 1\n",
    "\n",
    "    result_indices = []\n",
    "    words_count = len(words)\n",
    "    word_length = len(words[0])\n",
    "\n",
    "    for i in range((len(str1) - words_count * word_length)+1):\n",
    "        words_seen = {}\n",
    "        for j in range(0, words_count):\n",
    "            next_word_index = i + j * word_length\n",
    "            # Get the next word from the string\n",
    "            word = str1[next_word_index: next_word_index + word_length]\n",
    "            if word not in word_frequency:    # Break if we don't need this word\n",
    "                break\n",
    "\n",
    "            # Add the word to the 'words_seen' map\n",
    "            if word not in words_seen:\n",
    "                words_seen[word] = 0\n",
    "            words_seen[word] += 1\n",
    "\n",
    "            # No need to process further if the word has higher frequency than required\n",
    "            if words_seen[word] > word_frequency.get(word, 0):\n",
    "                break\n",
    "\n",
    "            if j + 1 == words_count:    # Store index if we have found all the words\n",
    "                result_indices.append(i)\n",
    "\n",
    "    return result_indices\n",
    "\n",
    "\n",
    "def main():\n",
    "    print(find_word_concatenation(\"catfoxcat\", [\"cat\", \"fox\"]))\n",
    "    print(find_word_concatenation(\"catcatfoxfox\", [\"cat\", \"fox\"]))\n",
    "\n",
    "\n",
    "main()"
   ]
  },
  {
   "cell_type": "markdown",
   "metadata": {},
   "source": [
    "# Two Pointers"
   ]
  },
  {
   "cell_type": "markdown",
   "metadata": {},
   "source": [
    "## Pair with Target Sum (easy)"
   ]
  },
  {
   "cell_type": "markdown",
   "metadata": {},
   "source": [
    "Given an array of sorted numbers and a target sum, find a pair in the array whose sum is equal to the given target.\n",
    "\n",
    "Write a function to return the indices of the two numbers (i.e. the pair) such that they add up to the given target."
   ]
  },
  {
   "cell_type": "code",
   "execution_count": 15,
   "metadata": {},
   "outputs": [
    {
     "name": "stdout",
     "output_type": "stream",
     "text": [
      "[1, 3]\n",
      "[0, 2]\n"
     ]
    }
   ],
   "source": [
    "def pair_with_targetsum(arr, target_sum):\n",
    "    left, right = 0, len(arr) - 1\n",
    "    while(left < right):\n",
    "        current_sum = arr[left] + arr[right]\n",
    "        if current_sum == target_sum:\n",
    "            return [left, right]\n",
    "\n",
    "        if target_sum > current_sum:\n",
    "            left += 1  # we need a pair with a bigger sum\n",
    "        else:\n",
    "            right -= 1  # we need a pair with a smaller sum\n",
    "    \n",
    "    return [-1, -1]\n",
    "\n",
    "\n",
    "def main():\n",
    "    print(pair_with_targetsum([1, 2, 3, 4, 6], 6))\n",
    "    print(pair_with_targetsum([2, 5, 9, 11], 11))\n",
    "\n",
    "\n",
    "main()"
   ]
  },
  {
   "cell_type": "code",
   "execution_count": 16,
   "metadata": {},
   "outputs": [
    {
     "name": "stdout",
     "output_type": "stream",
     "text": [
      "[1, 3]\n",
      "[0, 2]\n"
     ]
    }
   ],
   "source": [
    "def pair_with_targetsum(arr, target_sum):\n",
    "    nums = {}  # to store numbers and their indices\n",
    "    for i, num in enumerate(arr):\n",
    "        if target_sum - num in nums:\n",
    "            return [nums[target_sum - num], i]\n",
    "        else:\n",
    "            nums[arr[i]] = i\n",
    "    return [-1, -1]\n",
    "\n",
    "\n",
    "def main():\n",
    "    print(pair_with_targetsum([1, 2, 3, 4, 6], 6))\n",
    "    print(pair_with_targetsum([2, 5, 9, 11], 11))\n",
    "\n",
    "\n",
    "main()"
   ]
  },
  {
   "cell_type": "markdown",
   "metadata": {},
   "source": [
    "## Remove Duplicates (easy)"
   ]
  },
  {
   "cell_type": "markdown",
   "metadata": {},
   "source": [
    "Given an array of sorted numbers, remove all duplicates from it. You should not use any extra space; after removing the duplicates in-place return the new length of the array."
   ]
  },
  {
   "cell_type": "code",
   "execution_count": 17,
   "metadata": {},
   "outputs": [
    {
     "name": "stdout",
     "output_type": "stream",
     "text": [
      "Array new length: 4\n",
      "Array new length: 2\n"
     ]
    }
   ],
   "source": [
    "def remove_element(arr, key):\n",
    "    nextElement = 0    # index of the next element which is not 'key'\n",
    "    for i in range(len(arr)):\n",
    "        if arr[i] != key:\n",
    "            arr[nextElement] = arr[i]\n",
    "            nextElement += 1\n",
    "\n",
    "    return nextElement\n",
    "\n",
    "\n",
    "def main():\n",
    "    print(\"Array new length: \" +\n",
    "                str(remove_element([3, 2, 3, 6, 3, 10, 9, 3], 3)))\n",
    "    print(\"Array new length: \" +\n",
    "                str(remove_element([2, 11, 2, 2, 1], 2)))\n",
    "\n",
    "\n",
    "main()"
   ]
  },
  {
   "cell_type": "markdown",
   "metadata": {},
   "source": [
    "Given an unsorted array of numbers and a target ‘key’, remove all instances of ‘key’ in-place and return the new length of the array."
   ]
  },
  {
   "cell_type": "code",
   "execution_count": 18,
   "metadata": {},
   "outputs": [
    {
     "name": "stdout",
     "output_type": "stream",
     "text": [
      "Array new length: 4\n",
      "Array new length: 2\n"
     ]
    }
   ],
   "source": [
    "def remove_element(arr, key):\n",
    "    nextElement = 0    # index of the next element which is not 'key'\n",
    "    for i in range(len(arr)):\n",
    "        if arr[i] != key:\n",
    "            arr[nextElement] = arr[i]\n",
    "            nextElement += 1\n",
    "\n",
    "    return nextElement\n",
    "\n",
    "\n",
    "def main():\n",
    "    print(\"Array new length: \" +\n",
    "                str(remove_element([3, 2, 3, 6, 3, 10, 9, 3], 3)))\n",
    "    print(\"Array new length: \" +\n",
    "                str(remove_element([2, 11, 2, 2, 1], 2)))\n",
    "\n",
    "\n",
    "main()"
   ]
  },
  {
   "cell_type": "markdown",
   "metadata": {},
   "source": [
    "## Squaring a Sorted Array (easy)"
   ]
  },
  {
   "cell_type": "markdown",
   "metadata": {},
   "source": [
    "Given a sorted array, create a new array containing squares of all the number of the input array in the sorted order."
   ]
  },
  {
   "cell_type": "code",
   "execution_count": 19,
   "metadata": {},
   "outputs": [
    {
     "name": "stdout",
     "output_type": "stream",
     "text": [
      "Squares: [0, 1, 4, 4, 9]\n",
      "Squares: [0, 1, 1, 4, 9]\n"
     ]
    }
   ],
   "source": [
    "def make_squares(arr):\n",
    "    n = len(arr)\n",
    "    squares = [0 for x in range(n)]\n",
    "    highestSquareIdx = n - 1\n",
    "    left, right = 0, n - 1\n",
    "    while left <= right:\n",
    "        leftSquare = arr[left] * arr[left]\n",
    "        rightSquare = arr[right] * arr[right]\n",
    "        if leftSquare > rightSquare:\n",
    "            squares[highestSquareIdx] = leftSquare\n",
    "            left += 1\n",
    "        else:\n",
    "            squares[highestSquareIdx] = rightSquare\n",
    "            right -= 1\n",
    "        highestSquareIdx -= 1\n",
    "\n",
    "    return squares\n",
    "\n",
    "\n",
    "def main():\n",
    "\n",
    "    print(\"Squares: \" + str(make_squares([-2, -1, 0, 2, 3])))\n",
    "    print(\"Squares: \" + str(make_squares([-3, -1, 0, 1, 2])))\n",
    "\n",
    "\n",
    "main()"
   ]
  },
  {
   "cell_type": "markdown",
   "metadata": {},
   "source": [
    "## Triplet Sum to Zero (medium)"
   ]
  },
  {
   "cell_type": "markdown",
   "metadata": {},
   "source": [
    "Given an array of unsorted numbers, find all unique triplets in it that add up to zero."
   ]
  },
  {
   "cell_type": "code",
   "execution_count": 20,
   "metadata": {},
   "outputs": [
    {
     "name": "stdout",
     "output_type": "stream",
     "text": [
      "[[-3, 1, 2], [-2, 0, 2], [-2, 1, 1], [-1, 0, 1]]\n",
      "[[-5, 2, 3], [-2, -1, 3]]\n"
     ]
    }
   ],
   "source": [
    "def search_triplets(arr):\n",
    "    arr.sort()\n",
    "    triplets = []\n",
    "    for i in range(len(arr)):\n",
    "        if i > 0 and arr[i] == arr[i-1]:    # skip same element to avoid duplicate triplets\n",
    "            continue\n",
    "        search_pair(arr, -arr[i], i+1, triplets)\n",
    "\n",
    "    return triplets\n",
    "\n",
    "\n",
    "def search_pair(arr, target_sum, left, triplets):\n",
    "    right = len(arr) - 1\n",
    "    while(left < right):\n",
    "        current_sum = arr[left] + arr[right]\n",
    "        if current_sum == target_sum:    # found the triplet\n",
    "            triplets.append([-target_sum, arr[left], arr[right]])\n",
    "            left += 1\n",
    "            right -= 1\n",
    "            while left < right and arr[left] == arr[left - 1]:\n",
    "                left += 1    # skip same element to avoid duplicate triplets\n",
    "            while left < right and arr[right] == arr[right + 1]:\n",
    "                right -= 1    # skip same element to avoid duplicate triplets\n",
    "        elif target_sum > current_sum:\n",
    "            left += 1    # we need a pair with a bigger sum\n",
    "        else:\n",
    "            right -= 1    # we need a pair with a smaller sum\n",
    "\n",
    "\n",
    "def main():\n",
    "    print(search_triplets([-3, 0, 1, 2, -1, 1, -2]))\n",
    "    print(search_triplets([-5, 2, -1, -2, 3]))\n",
    "\n",
    "\n",
    "main()"
   ]
  },
  {
   "cell_type": "markdown",
   "metadata": {},
   "source": [
    "## Triplet Sum Close to Target (medium)"
   ]
  },
  {
   "cell_type": "markdown",
   "metadata": {},
   "source": [
    "Given an array of unsorted numbers and a target number, find a triplet in the array whose sum is as close to the target number as possible, return the sum of the triplet. If there are more than one such triplet, return the sum of the triplet with the smallest sum."
   ]
  },
  {
   "cell_type": "code",
   "execution_count": 21,
   "metadata": {},
   "outputs": [
    {
     "name": "stdout",
     "output_type": "stream",
     "text": [
      "1\n",
      "0\n",
      "3\n"
     ]
    }
   ],
   "source": [
    "import math\n",
    "\n",
    "\n",
    "def triplet_sum_close_to_target(arr, target_sum):\n",
    "    arr.sort()\n",
    "    smallest_difference = math.inf\n",
    "    for i in range(len(arr)-2):\n",
    "        left = i + 1\n",
    "        right = len(arr) - 1\n",
    "        while (left < right):\n",
    "            target_diff = target_sum - arr[i] - arr[left] - arr[right]\n",
    "            if target_diff == 0:    # we've found a triplet with an exact sum\n",
    "                return target_sum - target_diff    # return sum of all the numbers\n",
    "\n",
    "            # the second part of the following 'if' is to handle the smallest sum when we have more than one solution\n",
    "            if abs(target_diff) < abs(smallest_difference) or (abs(target_diff) == abs(smallest_difference) and target_diff > smallest_difference):\n",
    "                smallest_difference = target_diff    # save the closest and the biggest difference\n",
    "\n",
    "            if target_diff > 0:\n",
    "                left += 1    # we need a triplet with a bigger sum\n",
    "            else:\n",
    "                right -= 1    # we need a triplet with a smaller sum\n",
    "\n",
    "    return target_sum - smallest_difference\n",
    "\n",
    "\n",
    "def main():\n",
    "    print(triplet_sum_close_to_target([-2, 0, 1, 2], 2))\n",
    "    print(triplet_sum_close_to_target([-3, -1, 1, 2], 1))\n",
    "    print(triplet_sum_close_to_target([1, 0, 1, 1], 100))\n",
    "\n",
    "\n",
    "main()"
   ]
  },
  {
   "cell_type": "markdown",
   "metadata": {},
   "source": [
    "## Triplets with Smaller Sum (medium)"
   ]
  },
  {
   "cell_type": "markdown",
   "metadata": {},
   "source": [
    "Given an array `arr` of unsorted numbers and a target sum, count all triplets in it such that `arr[i] + arr[j] + arr[k] < target` where `i`, `j`, and `k` are three different indices. Write a function to return the count of such triplets."
   ]
  },
  {
   "cell_type": "code",
   "execution_count": 22,
   "metadata": {},
   "outputs": [
    {
     "name": "stdout",
     "output_type": "stream",
     "text": [
      "2\n",
      "4\n"
     ]
    }
   ],
   "source": [
    "def triplet_with_smaller_sum(arr, target):\n",
    "    arr.sort()\n",
    "    count = 0\n",
    "    for i in range(len(arr)-2):\n",
    "        count += search_pair(arr, target - arr[i], i)\n",
    "    return count\n",
    "\n",
    "\n",
    "def search_pair(arr, target_sum, first):\n",
    "    count = 0\n",
    "    left, right = first + 1, len(arr) - 1\n",
    "    while (left < right):\n",
    "        if arr[left] + arr[right] < target_sum:    # found the triplet\n",
    "            # since arr[right] >= arr[left], therefore, we can replace arr[right] by any number between\n",
    "            # left and right to get a sum less than the target sum\n",
    "            count += right - left\n",
    "            left += 1\n",
    "        else:\n",
    "            right -= 1    # we need a pair with a smaller sum\n",
    "    return count\n",
    "\n",
    "\n",
    "def main():\n",
    "    print(triplet_with_smaller_sum([-1, 0, 2, 3], 3))\n",
    "    print(triplet_with_smaller_sum([-1, 4, 2, 1, 3], 5))\n",
    "\n",
    "\n",
    "main()"
   ]
  },
  {
   "cell_type": "markdown",
   "metadata": {},
   "source": [
    "Write a function to return the list of all such triplets instead of the count. How will the time complexity change in this case?"
   ]
  },
  {
   "cell_type": "code",
   "execution_count": 23,
   "metadata": {},
   "outputs": [
    {
     "name": "stdout",
     "output_type": "stream",
     "text": [
      "[[-1, 0, 3], [-1, 0, 2]]\n",
      "[[-1, 1, 4], [-1, 1, 3], [-1, 1, 2], [-1, 2, 3]]\n"
     ]
    }
   ],
   "source": [
    "def triplet_with_smaller_sum(arr, target):\n",
    "    arr.sort()\n",
    "    triplets = []\n",
    "    for i in range(len(arr)-2):\n",
    "        search_pair(arr, target - arr[i], i, triplets)\n",
    "    return triplets\n",
    "\n",
    "\n",
    "def search_pair(arr, target_sum, first, triplets):\n",
    "    left = first + 1\n",
    "    right = len(arr) - 1\n",
    "    while (left < right):\n",
    "        if arr[left] + arr[right] < target_sum:    # found the triplet\n",
    "            # since arr[right] >= arr[left], therefore, we can replace arr[right] by any number between\n",
    "            # left and right to get a sum less than the target sum\n",
    "            for i in range(right, left, -1):\n",
    "                triplets.append([arr[first], arr[left], arr[i]])\n",
    "            left += 1\n",
    "        else:\n",
    "            right -= 1    # we need a pair with a smaller sum\n",
    "\n",
    "\n",
    "def main():\n",
    "    print(triplet_with_smaller_sum([-1, 0, 2, 3], 3))\n",
    "    print(triplet_with_smaller_sum([-1, 4, 2, 1, 3], 5))\n",
    "\n",
    "\n",
    "main()"
   ]
  },
  {
   "cell_type": "markdown",
   "metadata": {},
   "source": [
    "## Subarrays with Product Less than a Target (medium)"
   ]
  },
  {
   "cell_type": "markdown",
   "metadata": {},
   "source": [
    "Given an array with positive numbers and a target number, find all of its contiguous subarrays whose product is less than the target number."
   ]
  },
  {
   "cell_type": "code",
   "execution_count": 24,
   "metadata": {},
   "outputs": [
    {
     "name": "stdout",
     "output_type": "stream",
     "text": [
      "[[2], [5], [2, 5], [3], [5, 3], [10]]\n",
      "[[8], [2], [8, 2], [6], [2, 6], [5], [6, 5]]\n"
     ]
    }
   ],
   "source": [
    "from collections import deque\n",
    "\n",
    "\n",
    "def find_subarrays(arr, target):\n",
    "    result = []\n",
    "    product = 1\n",
    "    left = 0\n",
    "    for right in range(len(arr)):\n",
    "        product *= arr[right]\n",
    "        while (product >= target and left < len(arr)):\n",
    "            product /= arr[left]\n",
    "            left += 1\n",
    "        # since the product of all numbers from left to right is less than the target therefore,\n",
    "        # all subarrays from left to right will have a product less than the target too; to avoid\n",
    "        # duplicates, we will start with a subarray containing only arr[right] and then extend it\n",
    "        temp_list = deque()\n",
    "        for i in range(right, left-1, -1):\n",
    "            temp_list.appendleft(arr[i])\n",
    "            result.append(list(temp_list))\n",
    "    return result\n",
    "\n",
    "\n",
    "def main():\n",
    "    print(find_subarrays([2, 5, 3, 10], 30))\n",
    "    print(find_subarrays([8, 2, 6, 5], 50))\n",
    "\n",
    "\n",
    "main()"
   ]
  },
  {
   "cell_type": "markdown",
   "metadata": {},
   "source": [
    "## Dutch National Flag Problem (medium)"
   ]
  },
  {
   "cell_type": "markdown",
   "metadata": {},
   "source": [
    "Given an array containing 0s, 1s and 2s, sort the array in-place. You should treat numbers of the array as objects, hence, we can’t count 0s, 1s, and 2s to recreate the array.\n",
    "\n",
    "The flag of the Netherlands consists of three colors: red, white and blue; and since our input array also consists of three different numbers that is why it is called Dutch National Flag problem."
   ]
  },
  {
   "cell_type": "code",
   "execution_count": 25,
   "metadata": {},
   "outputs": [
    {
     "name": "stdout",
     "output_type": "stream",
     "text": [
      "[0, 0, 1, 1, 2]\n",
      "[0, 0, 1, 2, 2, 2]\n"
     ]
    }
   ],
   "source": [
    "def dutch_flag_sort(arr):\n",
    "    # all elements < low are 0, and all elements > high are 2\n",
    "    # all elements from >= low < i are 1\n",
    "    low, high = 0, len(arr) - 1\n",
    "    i = 0\n",
    "    while(i <= high):\n",
    "        if arr[i] == 0:\n",
    "            arr[i], arr[low] = arr[low], arr[i]\n",
    "            # increment 'i' and 'low'\n",
    "            i += 1\n",
    "            low += 1\n",
    "        elif arr[i] == 1:\n",
    "            i += 1\n",
    "        else:    # the case for arr[i] == 2\n",
    "            arr[i], arr[high] = arr[high], arr[i]\n",
    "            # decrement 'high' only, after the swap the number at index 'i' could be 0, 1 or 2\n",
    "            high -= 1\n",
    "\n",
    "\n",
    "def main():\n",
    "    arr = [1, 0, 2, 1, 0]\n",
    "    dutch_flag_sort(arr)\n",
    "    print(arr)\n",
    "\n",
    "    arr = [2, 2, 0, 1, 2, 0]\n",
    "    dutch_flag_sort(arr)\n",
    "    print(arr)\n",
    "\n",
    "\n",
    "main()"
   ]
  },
  {
   "cell_type": "markdown",
   "metadata": {},
   "source": [
    "## Quadruple Sum to Target (medium)"
   ]
  },
  {
   "cell_type": "markdown",
   "metadata": {},
   "source": [
    "Given an array of unsorted numbers and a target number, find all unique quadruplets in it, whose sum is equal to the target number."
   ]
  },
  {
   "cell_type": "code",
   "execution_count": 26,
   "metadata": {},
   "outputs": [
    {
     "name": "stdout",
     "output_type": "stream",
     "text": [
      "[[-3, -1, 1, 4], [-3, 1, 1, 2]]\n",
      "[[-2, 0, 2, 2], [-1, 0, 1, 2]]\n"
     ]
    }
   ],
   "source": [
    "def search_quadruplets(arr, target):\n",
    "    arr.sort()\n",
    "    quadruplets = []\n",
    "    for i in range(0, len(arr)-3):\n",
    "        # skip same element to avoid duplicate quadruplets\n",
    "        if i > 0 and arr[i] == arr[i - 1]:\n",
    "            continue\n",
    "        for j in range(i + 1, len(arr)-2):\n",
    "            # skip same element to avoid duplicate quadruplets\n",
    "            if j > i + 1 and arr[j] == arr[j - 1]:\n",
    "                continue\n",
    "            search_pairs(arr, target, i, j, quadruplets)\n",
    "    return quadruplets\n",
    "\n",
    "\n",
    "def search_pairs(arr, target_sum, first, second, quadruplets):\n",
    "    left = second + 1\n",
    "    right = len(arr) - 1\n",
    "    while (left < right):\n",
    "        sum = arr[first] + arr[second] + arr[left] + arr[right]\n",
    "        if sum == target_sum:    # found the quadruplet\n",
    "            quadruplets.append(\n",
    "                [arr[first], arr[second], arr[left], arr[right]])\n",
    "            left += 1\n",
    "            right -= 1\n",
    "            while (left < right and arr[left] == arr[left - 1]):\n",
    "                left += 1    # skip same element to avoid duplicate quadruplets\n",
    "            while (left < right and arr[right] == arr[right + 1]):\n",
    "                right -= 1    # skip same element to avoid duplicate quadruplets\n",
    "        elif sum < target_sum:\n",
    "            left += 1    # we need a pair with a bigger sum\n",
    "        else:\n",
    "            right -= 1    # we need a pair with a smaller sum\n",
    "\n",
    "\n",
    "def main():\n",
    "    print(search_quadruplets([4, 1, 2, -1, 1, -3], 1))\n",
    "    print(search_quadruplets([2, 0, -1, 1, -2, 2], 2))\n",
    "\n",
    "\n",
    "main()"
   ]
  },
  {
   "cell_type": "markdown",
   "metadata": {},
   "source": [
    "## Comparing Strings containing Backspaces (medium)"
   ]
  },
  {
   "cell_type": "markdown",
   "metadata": {},
   "source": [
    "Given two strings containing backspaces (identified by the character ‘#’), check if the two strings are equal."
   ]
  },
  {
   "cell_type": "code",
   "execution_count": 27,
   "metadata": {},
   "outputs": [
    {
     "name": "stdout",
     "output_type": "stream",
     "text": [
      "True\n",
      "False\n",
      "True\n",
      "True\n"
     ]
    }
   ],
   "source": [
    "def backspace_compare(str1, str2):\n",
    "    # use two pointer approach to compare the strings\n",
    "    index1 = len(str1) - 1\n",
    "    index2 = len(str2) - 1\n",
    "    while (index1 >= 0 or index2 >= 0):\n",
    "        i1 = get_next_valid_char_index(str1, index1)\n",
    "        i2 = get_next_valid_char_index(str2, index2)\n",
    "        if i1 < 0 and i2 < 0:    # reached the end of both the strings\n",
    "            return True\n",
    "        if i1 < 0 or i2 < 0:    # reached the end of one of the strings\n",
    "            return False\n",
    "        if str1[i1] != str2[i2]:    # check if the characters are equal\n",
    "            return False\n",
    "\n",
    "        index1 = i1 - 1\n",
    "        index2 = i2 - 1\n",
    "\n",
    "    return True\n",
    "\n",
    "\n",
    "def get_next_valid_char_index(str, index):\n",
    "    backspace_count = 0\n",
    "    while (index >= 0):\n",
    "        if str[index] == '#':    # found a backspace character\n",
    "            backspace_count += 1\n",
    "        elif backspace_count > 0:    # a non-backspace character\n",
    "            backspace_count -= 1\n",
    "        else:\n",
    "            break\n",
    "\n",
    "        index -= 1    # skip a backspace or a valid character\n",
    "\n",
    "    return index\n",
    "\n",
    "\n",
    "def main():\n",
    "    print(backspace_compare(\"xy#z\", \"xzz#\"))\n",
    "    print(backspace_compare(\"xy#z\", \"xyz#\"))\n",
    "    print(backspace_compare(\"xp#\", \"xyz##\"))\n",
    "    print(backspace_compare(\"xywrrmp\", \"xywrrmu#p\"))\n",
    "\n",
    "\n",
    "main()"
   ]
  },
  {
   "cell_type": "markdown",
   "metadata": {},
   "source": [
    "## Minimum Window Sort (medium) "
   ]
  },
  {
   "cell_type": "markdown",
   "metadata": {},
   "source": [
    "Given an array, find the length of the smallest subarray in it which when sorted will sort the whole array."
   ]
  },
  {
   "cell_type": "code",
   "execution_count": 28,
   "metadata": {},
   "outputs": [
    {
     "name": "stdout",
     "output_type": "stream",
     "text": [
      "5\n",
      "5\n",
      "0\n",
      "3\n"
     ]
    }
   ],
   "source": [
    "import math\n",
    "\n",
    "\n",
    "def shortest_window_sort(arr):\n",
    "    low, high = 0, len(arr) - 1\n",
    "    # find the first number out of sorting order from the beginning\n",
    "    while (low < len(arr) - 1 and arr[low] <= arr[low + 1]):\n",
    "        low += 1\n",
    "\n",
    "    if low == len(arr) - 1:    # if the array is sorted\n",
    "        return 0\n",
    "\n",
    "    # find the first number out of sorting order from the end\n",
    "    while (high > 0 and arr[high] >= arr[high - 1]):\n",
    "        high -= 1\n",
    "\n",
    "    # find the maximum and minimum of the subarray\n",
    "    subarray_max = -math.inf\n",
    "    subarray_min = math.inf\n",
    "    for k in range(low, high+1):\n",
    "        subarray_max = max(subarray_max, arr[k])\n",
    "        subarray_min = min(subarray_min, arr[k])\n",
    "\n",
    "    # extend the subarray to include any number which is bigger than the minimum of the subarray\n",
    "    while (low > 0 and arr[low-1] > subarray_min):\n",
    "        low -= 1\n",
    "    # extend the subarray to include any number which is smaller than the maximum of the subarray\n",
    "    while (high < len(arr)-1 and arr[high+1] < subarray_max):\n",
    "        high += 1\n",
    "\n",
    "    return high - low + 1\n",
    "\n",
    "\n",
    "def main():\n",
    "    print(shortest_window_sort([1, 2, 5, 3, 7, 10, 9, 12]))\n",
    "    print(shortest_window_sort([1, 3, 2, 0, -1, 7, 10]))\n",
    "    print(shortest_window_sort([1, 2, 3]))\n",
    "    print(shortest_window_sort([3, 2, 1]))\n",
    "\n",
    "\n",
    "main()"
   ]
  },
  {
   "cell_type": "markdown",
   "metadata": {},
   "source": [
    "# Fast & Slow Pointer"
   ]
  },
  {
   "cell_type": "markdown",
   "metadata": {},
   "source": [
    "## LinkedList Cycle (easy)"
   ]
  },
  {
   "cell_type": "markdown",
   "metadata": {},
   "source": [
    "Given the head of a Singly LinkedList, write a function to determine if the LinkedList has a cycle in it or not."
   ]
  },
  {
   "cell_type": "code",
   "execution_count": 29,
   "metadata": {},
   "outputs": [
    {
     "name": "stdout",
     "output_type": "stream",
     "text": [
      "LinkedList has cycle: False\n",
      "LinkedList has cycle: True\n",
      "LinkedList has cycle: True\n"
     ]
    }
   ],
   "source": [
    "class Node:\n",
    "    def __init__(self, value, next=None):\n",
    "        self.value = value\n",
    "        self.next = next\n",
    "\n",
    "\n",
    "def has_cycle(head):\n",
    "    slow, fast = head, head\n",
    "    while fast is not None and fast.next is not None:\n",
    "        fast = fast.next.next\n",
    "        slow = slow.next\n",
    "        if slow == fast:\n",
    "            return True    # found the cycle\n",
    "    return False\n",
    "\n",
    "\n",
    "def main():\n",
    "    head = Node(1)\n",
    "    head.next = Node(2)\n",
    "    head.next.next = Node(3)\n",
    "    head.next.next.next = Node(4)\n",
    "    head.next.next.next.next = Node(5)\n",
    "    head.next.next.next.next.next = Node(6)\n",
    "    print(\"LinkedList has cycle: \" + str(has_cycle(head)))\n",
    "\n",
    "    head.next.next.next.next.next.next = head.next.next\n",
    "    print(\"LinkedList has cycle: \" + str(has_cycle(head)))\n",
    "\n",
    "    head.next.next.next.next.next.next = head.next.next.next\n",
    "    print(\"LinkedList has cycle: \" + str(has_cycle(head)))\n",
    "\n",
    "\n",
    "main()"
   ]
  },
  {
   "cell_type": "markdown",
   "metadata": {},
   "source": [
    "Given the head of a LinkedList with a cycle, find the length of the cycle."
   ]
  },
  {
   "cell_type": "code",
   "execution_count": 30,
   "metadata": {},
   "outputs": [
    {
     "name": "stdout",
     "output_type": "stream",
     "text": [
      "LinkedList cycle length: 4\n",
      "LinkedList cycle length: 3\n"
     ]
    }
   ],
   "source": [
    "class Node:\n",
    "    def __init__(self, value, next=None):\n",
    "        self.value = value\n",
    "        self.next = next\n",
    "\n",
    "\n",
    "def find_cycle_length(head):\n",
    "    slow, fast = head, head\n",
    "    while fast is not None and fast.next is not None:\n",
    "        fast = fast.next.next\n",
    "        slow = slow.next\n",
    "        if slow == fast:    # found the cycle\n",
    "            return calculate_cycle_length(slow)\n",
    "\n",
    "    return 0\n",
    "\n",
    "\n",
    "def calculate_cycle_length(slow):\n",
    "    current = slow\n",
    "    cycle_length = 0\n",
    "    while True:\n",
    "        current = current.next\n",
    "        cycle_length += 1\n",
    "        if current == slow:\n",
    "            break\n",
    "    return cycle_length\n",
    "\n",
    "\n",
    "def main():\n",
    "    head = Node(1)\n",
    "    head.next = Node(2)\n",
    "    head.next.next = Node(3)\n",
    "    head.next.next.next = Node(4)\n",
    "    head.next.next.next.next = Node(5)\n",
    "    head.next.next.next.next.next = Node(6)\n",
    "    head.next.next.next.next.next.next = head.next.next\n",
    "    print(\"LinkedList cycle length: \" + str(find_cycle_length(head)))\n",
    "\n",
    "    head.next.next.next.next.next.next = head.next.next.next\n",
    "    print(\"LinkedList cycle length: \" + str(find_cycle_length(head)))\n",
    "\n",
    "\n",
    "main()"
   ]
  },
  {
   "cell_type": "markdown",
   "metadata": {},
   "source": [
    "## Start of LinkedList Cycle (medium)"
   ]
  },
  {
   "cell_type": "markdown",
   "metadata": {},
   "source": [
    "Given the head of a Singly LinkedList that contains a cycle, write a function to find the starting node of the cycle."
   ]
  },
  {
   "cell_type": "code",
   "execution_count": 32,
   "metadata": {},
   "outputs": [
    {
     "name": "stdout",
     "output_type": "stream",
     "text": [
      "LinkedList cycle start: 3\n",
      "LinkedList cycle start: 4\n",
      "LinkedList cycle start: 1\n"
     ]
    }
   ],
   "source": [
    "from __future__ import print_function\n",
    "\n",
    "\n",
    "class Node:\n",
    "    def __init__(self, value, next=None):\n",
    "        self.value = value\n",
    "        self.next = next\n",
    "\n",
    "    def print_list(self):\n",
    "        temp = self\n",
    "        while temp is not None:\n",
    "            print(temp.value, end='')\n",
    "            temp = temp.next\n",
    "        print()\n",
    "\n",
    "\n",
    "def find_cycle_start(head):\n",
    "    cycle_length = 0\n",
    "    # find the LinkedList cycle\n",
    "    slow, fast = head, head\n",
    "    while (fast is not None and fast.next is not None):\n",
    "        fast = fast.next.next\n",
    "        slow = slow.next\n",
    "        if slow == fast:    # found the cycle\n",
    "            cycle_length = calculate_cycle_length(slow)\n",
    "            break\n",
    "    return find_start(head, cycle_length)\n",
    "\n",
    "\n",
    "def calculate_cycle_length(slow):\n",
    "    current = slow\n",
    "    cycle_length = 0\n",
    "    while True:\n",
    "        current = current.next\n",
    "        cycle_length += 1\n",
    "        if current == slow:\n",
    "            break\n",
    "    return cycle_length\n",
    "\n",
    "\n",
    "def find_start(head, cycle_length):\n",
    "    pointer1 = head\n",
    "    pointer2 = head\n",
    "    # move pointer2 ahead 'cycle_length' nodes\n",
    "    while cycle_length > 0:\n",
    "        pointer2 = pointer2.next\n",
    "        cycle_length -= 1\n",
    "    # increment both pointers until they meet at the start of the cycle\n",
    "    while pointer1 != pointer2:\n",
    "        pointer1 = pointer1.next\n",
    "        pointer2 = pointer2.next\n",
    "    return pointer1\n",
    "\n",
    "\n",
    "def main():\n",
    "    head = Node(1)\n",
    "    head.next = Node(2)\n",
    "    head.next.next = Node(3)\n",
    "    head.next.next.next = Node(4)\n",
    "    head.next.next.next.next = Node(5)\n",
    "    head.next.next.next.next.next = Node(6)\n",
    "\n",
    "    head.next.next.next.next.next.next = head.next.next\n",
    "    print(\"LinkedList cycle start: \" + str(find_cycle_start(head).value))\n",
    "\n",
    "    head.next.next.next.next.next.next = head.next.next.next\n",
    "    print(\"LinkedList cycle start: \" + str(find_cycle_start(head).value))\n",
    "\n",
    "    head.next.next.next.next.next.next = head\n",
    "    print(\"LinkedList cycle start: \" + str(find_cycle_start(head).value))\n",
    "\n",
    "\n",
    "main()"
   ]
  },
  {
   "cell_type": "markdown",
   "metadata": {},
   "source": [
    "## Happy Number (medium)"
   ]
  },
  {
   "cell_type": "markdown",
   "metadata": {},
   "source": [
    "Any number will be called a happy number if, after repeatedly replacing it with a number equal to the sum of the square of all of its digits, leads us to number ‘1’. All other (not-happy) numbers will never reach ‘1’. Instead, they will be stuck in a cycle of numbers which does not include ‘1’."
   ]
  },
  {
   "cell_type": "code",
   "execution_count": 33,
   "metadata": {},
   "outputs": [
    {
     "name": "stdout",
     "output_type": "stream",
     "text": [
      "True\n",
      "False\n"
     ]
    }
   ],
   "source": [
    "def find_happy_number(num):\n",
    "    slow, fast = num, num\n",
    "    while True:\n",
    "        slow = find_square_sum(slow)    # move one step\n",
    "        fast = find_square_sum(find_square_sum(fast))    # move two steps\n",
    "        if slow == fast:    # found the cycle\n",
    "            break\n",
    "    return slow == 1    # see if the cycle is stuck on the number '1'\n",
    "\n",
    "\n",
    "def find_square_sum(num):\n",
    "    _sum = 0\n",
    "    while (num > 0):\n",
    "        digit = num % 10\n",
    "        _sum += digit * digit\n",
    "        num //= 10\n",
    "    return _sum\n",
    "\n",
    "\n",
    "def main():\n",
    "    print(find_happy_number(23))\n",
    "    print(find_happy_number(12))\n",
    "\n",
    "\n",
    "main()"
   ]
  },
  {
   "cell_type": "markdown",
   "metadata": {},
   "source": [
    "## Middle of the LinkedList (easy)"
   ]
  },
  {
   "cell_type": "markdown",
   "metadata": {},
   "source": [
    "Given the head of a Singly LinkedList, write a method to return the middle node of the LinkedList.\n",
    "\n",
    "If the total number of nodes in the LinkedList is even, return the second middle node."
   ]
  },
  {
   "cell_type": "code",
   "execution_count": 34,
   "metadata": {},
   "outputs": [
    {
     "name": "stdout",
     "output_type": "stream",
     "text": [
      "Middle Node: 3\n",
      "Middle Node: 4\n",
      "Middle Node: 4\n"
     ]
    }
   ],
   "source": [
    "class Node:\n",
    "    def __init__(self, value, next=None):\n",
    "        self.value = value\n",
    "        self.next = next\n",
    "\n",
    "\n",
    "def find_middle_of_linked_list(head):\n",
    "    slow = head\n",
    "    fast = head\n",
    "    while (fast is not None and fast.next is not None):\n",
    "        slow = slow.next\n",
    "        fast = fast.next.next\n",
    "    return slow\n",
    "\n",
    "\n",
    "def main():\n",
    "    head = Node(1)\n",
    "    head.next = Node(2)\n",
    "    head.next.next = Node(3)\n",
    "    head.next.next.next = Node(4)\n",
    "    head.next.next.next.next = Node(5)\n",
    "\n",
    "    print(\"Middle Node: \" + str(find_middle_of_linked_list(head).value))\n",
    "\n",
    "    head.next.next.next.next.next = Node(6)\n",
    "    print(\"Middle Node: \" + str(find_middle_of_linked_list(head).value))\n",
    "\n",
    "    head.next.next.next.next.next.next = Node(7)\n",
    "    print(\"Middle Node: \" + str(find_middle_of_linked_list(head).value))\n",
    "\n",
    "\n",
    "main()"
   ]
  },
  {
   "cell_type": "markdown",
   "metadata": {},
   "source": [
    "## Palindrome LinkedList (medium)"
   ]
  },
  {
   "cell_type": "markdown",
   "metadata": {},
   "source": [
    "Given the head of a Singly LinkedList, write a method to check if the LinkedList is a palindrome or not.\n",
    "\n",
    "Your algorithm should use constant space and the input LinkedList should be in the original form once the algorithm is finished. The algorithm should have $O(N)$ time complexity where ‘N’ is the number of nodes in the LinkedList."
   ]
  },
  {
   "cell_type": "code",
   "execution_count": 35,
   "metadata": {},
   "outputs": [
    {
     "name": "stdout",
     "output_type": "stream",
     "text": [
      "Is palindrome: True\n",
      "Is palindrome: False\n"
     ]
    }
   ],
   "source": [
    "class Node:\n",
    "    def __init__(self, value, next=None):\n",
    "        self.value = value\n",
    "        self.next = next\n",
    "\n",
    "\n",
    "def is_palindromic_linked_list(head):\n",
    "    if head is None or head.next is None:\n",
    "        return True\n",
    "\n",
    "    # find middle of the LinkedList\n",
    "    slow, fast = head, head\n",
    "    while (fast is not None and fast.next is not None):\n",
    "        slow = slow.next\n",
    "        fast = fast.next.next\n",
    "\n",
    "    head_second_half = reverse(slow)    # reverse the second half\n",
    "    # store the head of reversed part to revert back later\n",
    "    copy_head_second_half = head_second_half\n",
    "\n",
    "    # compare the first and the second half\n",
    "    while (head is not None and head_second_half is not None):\n",
    "        if head.value != head_second_half.value:\n",
    "            break    # not a palindrome\n",
    "\n",
    "        head = head.next\n",
    "        head_second_half = head_second_half.next\n",
    "\n",
    "    reverse(copy_head_second_half)    # revert the reverse of the second half\n",
    "\n",
    "    if head is None or head_second_half is None:    # if both halves match\n",
    "        return True\n",
    "\n",
    "    return False\n",
    "\n",
    "\n",
    "def reverse(head):\n",
    "    prev = None\n",
    "    while (head is not None):\n",
    "        next = head.next\n",
    "        head.next = prev\n",
    "        prev = head\n",
    "        head = next\n",
    "    return prev\n",
    "\n",
    "\n",
    "def main():\n",
    "    head = Node(2)\n",
    "    head.next = Node(4)\n",
    "    head.next.next = Node(6)\n",
    "    head.next.next.next = Node(4)\n",
    "    head.next.next.next.next = Node(2)\n",
    "\n",
    "    print(\"Is palindrome: \" + str(is_palindromic_linked_list(head)))\n",
    "\n",
    "    head.next.next.next.next.next = Node(2)\n",
    "    print(\"Is palindrome: \" + str(is_palindromic_linked_list(head)))\n",
    "\n",
    "\n",
    "main()"
   ]
  },
  {
   "cell_type": "markdown",
   "metadata": {},
   "source": [
    "## Rearrange a LinkedList (medium)"
   ]
  },
  {
   "cell_type": "markdown",
   "metadata": {},
   "source": [
    "Given the head of a Singly LinkedList, write a method to modify the LinkedList such that the nodes from the second half of the LinkedList are inserted alternately to the nodes from the first half in reverse order. So if the LinkedList has nodes 1 -> 2 -> 3 -> 4 -> 5 -> 6 -> null, your method should return 1 -> 6 -> 2 -> 5 -> 3 -> 4 -> null.\n",
    "\n",
    "Your algorithm should not use any extra space and the input LinkedList should be modified in-place."
   ]
  },
  {
   "cell_type": "code",
   "execution_count": 37,
   "metadata": {},
   "outputs": [
    {
     "name": "stdout",
     "output_type": "stream",
     "text": [
      "2 12 4 10 6 8 \n"
     ]
    }
   ],
   "source": [
    "from __future__ import print_function\n",
    "\n",
    "\n",
    "class Node:\n",
    "    def __init__(self, value, next=None):\n",
    "        self.value = value\n",
    "        self.next = next\n",
    "\n",
    "    def print_list(self):\n",
    "        temp = self\n",
    "        while temp is not None:\n",
    "            print(str(temp.value) + \" \", end='')\n",
    "            temp = temp.next\n",
    "        print()\n",
    "\n",
    "\n",
    "def reorder(head):\n",
    "    if head is None or head.next is None:\n",
    "        return\n",
    "\n",
    "    # find middle of the LinkedList\n",
    "    slow, fast = head, head\n",
    "    while fast is not None and fast.next is not None:\n",
    "        slow = slow.next\n",
    "        fast = fast.next.next\n",
    "\n",
    "    # slow is now pointing to the middle node\n",
    "    head_second_half = reverse(slow)    # reverse the second half\n",
    "    head_first_half = head\n",
    "\n",
    "    # rearrange to produce the LinkedList in the required order\n",
    "    while head_first_half is not None and head_second_half is not None:\n",
    "        temp = head_first_half.next\n",
    "        head_first_half.next = head_second_half\n",
    "        head_first_half = temp\n",
    "\n",
    "        temp = head_second_half.next\n",
    "        head_second_half.next = head_first_half\n",
    "        head_second_half = temp\n",
    "\n",
    "    # set the next of the last node to 'None'\n",
    "    if head_first_half is not None:\n",
    "        head_first_half.next = None\n",
    "\n",
    "\n",
    "def reverse(head):\n",
    "    prev = None\n",
    "    while head is not None:\n",
    "        next = head.next\n",
    "        head.next = prev\n",
    "        prev = head\n",
    "        head = next\n",
    "    return prev\n",
    "\n",
    "\n",
    "def main():\n",
    "    head = Node(2)\n",
    "    head.next = Node(4)\n",
    "    head.next.next = Node(6)\n",
    "    head.next.next.next = Node(8)\n",
    "    head.next.next.next.next = Node(10)\n",
    "    head.next.next.next.next.next = Node(12)\n",
    "    reorder(head)\n",
    "    head.print_list()\n",
    "\n",
    "\n",
    "main()"
   ]
  },
  {
   "cell_type": "markdown",
   "metadata": {},
   "source": [
    "## Cycle in a Circular Array (hard)"
   ]
  },
  {
   "cell_type": "markdown",
   "metadata": {},
   "source": [
    "We are given an array containing positive and negative numbers. Suppose the array contains a number ‘M’ at a particular index. Now, if ‘M’ is positive we will move forward ‘M’ indices and if ‘M’ is negative move backwards ‘M’ indices. You should assume that the array is circular which means two things:\n",
    "\n",
    "1. If, while moving forward, we reach the end of the array, we will jump to the first element to continue the movement.\n",
    "2. If, while moving backward, we reach the beginning of the array, we will jump to the last element to continue the movement.\n",
    "\n",
    "Write a method to determine if the array has a cycle. The cycle should have more than one element and should follow one direction which means the cycle should not contain both forward and backward movements."
   ]
  },
  {
   "cell_type": "code",
   "execution_count": 38,
   "metadata": {},
   "outputs": [
    {
     "name": "stdout",
     "output_type": "stream",
     "text": [
      "True\n",
      "True\n",
      "False\n"
     ]
    }
   ],
   "source": [
    "def circular_array_loop_exists(arr):\n",
    "    for i in range(len(arr)):\n",
    "        is_forward = arr[i] >= 0    # if we are moving forward or not\n",
    "        slow, fast = i, i\n",
    "\n",
    "        # if slow or fast becomes '-1' this means we can't find cycle for this number\n",
    "        while True:\n",
    "            # move one step for slow pointer\n",
    "            slow = find_next_index(arr, is_forward, slow)\n",
    "            # move one step for fast pointer\n",
    "            fast = find_next_index(arr, is_forward, fast)\n",
    "            if (fast != -1):\n",
    "                # move another step for fast pointer\n",
    "                fast = find_next_index(arr, is_forward, fast)\n",
    "            if slow == -1 or fast == -1 or slow == fast:\n",
    "                break\n",
    "\n",
    "        if slow != -1 and slow == fast:\n",
    "            return True\n",
    "\n",
    "    return False\n",
    "\n",
    "\n",
    "def find_next_index(arr, is_forward, current_index):\n",
    "    direction = arr[current_index] >= 0\n",
    "\n",
    "    if is_forward != direction:\n",
    "        return -1    # change in direction, return -1\n",
    "\n",
    "    next_index = (current_index + arr[current_index]) % len(arr)\n",
    "\n",
    "    # one element cycle, return -1\n",
    "    if next_index == current_index:\n",
    "        next_index = -1\n",
    "\n",
    "    return next_index\n",
    "\n",
    "\n",
    "def main():\n",
    "    print(circular_array_loop_exists([1, 2, -1, 2, 2]))\n",
    "    print(circular_array_loop_exists([2, 2, -1, 2]))\n",
    "    print(circular_array_loop_exists([2, 1, -1, -2]))\n",
    "\n",
    "\n",
    "main()"
   ]
  },
  {
   "cell_type": "markdown",
   "metadata": {},
   "source": [
    "# Merge Intervals"
   ]
  },
  {
   "cell_type": "markdown",
   "metadata": {},
   "source": [
    "## Merge Intervals (medium)"
   ]
  },
  {
   "cell_type": "markdown",
   "metadata": {},
   "source": [
    "Given a list of intervals, merge all the overlapping intervals to produce a list that has only mutually exclusive intervals."
   ]
  },
  {
   "cell_type": "code",
   "execution_count": 39,
   "metadata": {},
   "outputs": [
    {
     "name": "stdout",
     "output_type": "stream",
     "text": [
      "Merged intervals: [1, 5][7, 9]\n",
      "Merged intervals: [2, 4][5, 9]\n",
      "Merged intervals: [1, 6]\n"
     ]
    }
   ],
   "source": [
    "from __future__ import print_function\n",
    "\n",
    "\n",
    "class Interval:\n",
    "    def __init__(self, start, end):\n",
    "        self.start = start\n",
    "        self.end = end\n",
    "\n",
    "    def print_interval(self):\n",
    "        print(\"[\" + str(self.start) + \", \" + str(self.end) + \"]\", end='')\n",
    "\n",
    "\n",
    "def merge(intervals):\n",
    "    if len(intervals) < 2:\n",
    "        return intervals\n",
    "\n",
    "    # sort the intervals on the start time\n",
    "    intervals.sort(key=lambda x: x.start)\n",
    "\n",
    "    mergedIntervals = []\n",
    "    start = intervals[0].start\n",
    "    end = intervals[0].end\n",
    "    for i in range(1, len(intervals)):\n",
    "        interval = intervals[i]\n",
    "        if interval.start <= end:    # overlapping intervals, adjust the 'end'\n",
    "            end = max(interval.end, end)\n",
    "        else:    # non-overlapping interval, add the previous internval and reset\n",
    "            mergedIntervals.append(Interval(start, end))\n",
    "            start = interval.start\n",
    "            end = interval.end\n",
    "\n",
    "    # add the last interval\n",
    "    mergedIntervals.append(Interval(start, end))\n",
    "    return mergedIntervals\n",
    "\n",
    "\n",
    "def main():\n",
    "    print(\"Merged intervals: \", end='')\n",
    "    for i in merge([Interval(1, 4), Interval(2, 5), Interval(7, 9)]):\n",
    "        i.print_interval()\n",
    "    print()\n",
    "\n",
    "    print(\"Merged intervals: \", end='')\n",
    "    for i in merge([Interval(6, 7), Interval(2, 4), Interval(5, 9)]):\n",
    "        i.print_interval()\n",
    "    print()\n",
    "\n",
    "    print(\"Merged intervals: \", end='')\n",
    "    for i in merge([Interval(1, 4), Interval(2, 6), Interval(3, 5)]):\n",
    "        i.print_interval()\n",
    "    print()\n",
    "\n",
    "\n",
    "main()"
   ]
  },
  {
   "cell_type": "markdown",
   "metadata": {},
   "source": [
    "## Insert Interval (medium)"
   ]
  },
  {
   "cell_type": "markdown",
   "metadata": {},
   "source": [
    "Given a list of non-overlapping intervals sorted by their start time, insert a given interval at the correct position and merge all necessary intervals to produce a list that has only mutually exclusive intervals."
   ]
  },
  {
   "cell_type": "code",
   "execution_count": 40,
   "metadata": {},
   "outputs": [
    {
     "name": "stdout",
     "output_type": "stream",
     "text": [
      "Intervals after inserting the new interval: [[1, 3], [4, 7], [8, 12]]\n",
      "Intervals after inserting the new interval: [[1, 3], [4, 12]]\n",
      "Intervals after inserting the new interval: [[1, 4], [5, 7]]\n"
     ]
    }
   ],
   "source": [
    "def insert(intervals, new_interval):\n",
    "    merged = []\n",
    "    i, start, end = 0, 0, 1\n",
    "\n",
    "    # skip (and add to output) all intervals that come before the 'new_interval'\n",
    "    while i < len(intervals) and intervals[i][end] < new_interval[start]:\n",
    "        merged.append(intervals[i])\n",
    "        i += 1\n",
    "\n",
    "    # merge all intervals that overlap with 'new_interval'\n",
    "    while i < len(intervals) and intervals[i][start] <= new_interval[end]:\n",
    "        new_interval[start] = min(intervals[i][start], new_interval[start])\n",
    "        new_interval[end] = max(intervals[i][end], new_interval[end])\n",
    "        i += 1\n",
    "\n",
    "    # insert the new_interval\n",
    "    merged.append(new_interval)\n",
    "\n",
    "    # add all the remaining intervals to the output\n",
    "    while i < len(intervals):\n",
    "        merged.append(intervals[i])\n",
    "        i += 1\n",
    "    return merged\n",
    "\n",
    "\n",
    "def main():\n",
    "    print(\"Intervals after inserting the new interval: \" + str(insert([[1, 3], [5, 7], [8, 12]], [4, 6])))\n",
    "    print(\"Intervals after inserting the new interval: \" + str(insert([[1, 3], [5, 7], [8, 12]], [4, 10])))\n",
    "    print(\"Intervals after inserting the new interval: \" + str(insert([[2, 3], [5, 7]], [1, 4])))\n",
    "\n",
    "\n",
    "main()"
   ]
  },
  {
   "cell_type": "markdown",
   "metadata": {},
   "source": [
    "## Intervals Intersection (medium)"
   ]
  },
  {
   "cell_type": "markdown",
   "metadata": {},
   "source": [
    "Given two lists of intervals, find the intersection of these two lists. Each list consists of disjoint intervals sorted on their start time."
   ]
  },
  {
   "cell_type": "code",
   "execution_count": 42,
   "metadata": {},
   "outputs": [
    {
     "name": "stdout",
     "output_type": "stream",
     "text": [
      "Intervals Intersection: [[2, 3], [5, 6], [7, 7]]\n",
      "Intervals Intersection: [[5, 7], [9, 10]]\n"
     ]
    }
   ],
   "source": [
    "def merge(intervals_a, intervals_b):\n",
    "    result = []\n",
    "    i, j, start, end = 0, 0, 0, 1\n",
    "\n",
    "    while i < len(intervals_a) and j < len(intervals_b):\n",
    "        # check if intervals overlap and intervals_a[i]'s start time lies within the other intervals_b[j]\n",
    "        a_overlaps_b = intervals_a[i][start] >= intervals_b[j][start] and \\\n",
    "            intervals_a[i][start] <= intervals_b[j][end]\n",
    "\n",
    "        # check if intervals overlap and intervals_a[j]'s start time lies within the other intervals_b[i]\n",
    "        b_overlaps_a = intervals_b[j][start] >= intervals_a[i][start] and \\ \n",
    "            intervals_b[j][start] <= intervals_a[i][end]\n",
    "\n",
    "        # store the the intersection part\n",
    "        if (a_overlaps_b or b_overlaps_a):\n",
    "            result.append([max(intervals_a[i][start], intervals_b[j][start]), min(\n",
    "                intervals_a[i][end], intervals_b[j][end])])\n",
    "\n",
    "        # move next from the interval which is finishing first\n",
    "        if intervals_a[i][end] < intervals_b[j][end]:\n",
    "            i += 1\n",
    "        else:\n",
    "            j += 1\n",
    "\n",
    "    return result\n",
    "\n",
    "\n",
    "def main():\n",
    "    print(\"Intervals Intersection: \" + str(merge([[1, 3], [5, 6], [7, 9]], [[2, 3], [5, 7]])))\n",
    "    print(\"Intervals Intersection: \" + str(merge([[1, 3], [5, 7], [9, 12]], [[5, 10]])))\n",
    "\n",
    "\n",
    "main()"
   ]
  },
  {
   "cell_type": "markdown",
   "metadata": {},
   "source": [
    "## Conflicting Appointments (medium)"
   ]
  },
  {
   "cell_type": "markdown",
   "metadata": {},
   "source": [
    "Given an array of intervals representing ‘N’ appointments, find out if a person can attend all the appointments."
   ]
  },
  {
   "cell_type": "code",
   "execution_count": 43,
   "metadata": {},
   "outputs": [
    {
     "name": "stdout",
     "output_type": "stream",
     "text": [
      "Can attend all appointments: False\n",
      "Can attend all appointments: True\n",
      "Can attend all appointments: False\n"
     ]
    }
   ],
   "source": [
    "def can_attend_all_appointments(intervals):\n",
    "    intervals.sort(key=lambda x: x[0])\n",
    "    start, end = 0, 1\n",
    "    for i in range(1, len(intervals)):\n",
    "        if intervals[i][start] < intervals[i-1][end]:\n",
    "            # please note the comparison above, it is \"<\" and not \"<=\"\n",
    "            # while merging we needed \"<=\" comparison, as we will be merging the two\n",
    "            # intervals having condition \"intervals[i][start] == intervals[i - 1][end]\" but\n",
    "            # such intervals don't represent conflicting appointments as one starts right\n",
    "            # after the other\n",
    "            return False\n",
    "    return True\n",
    "\n",
    "\n",
    "def main():\n",
    "    print(\"Can attend all appointments: \" + str(can_attend_all_appointments([[1, 4], [2, 5], [7, 9]])))\n",
    "    print(\"Can attend all appointments: \" + str(can_attend_all_appointments([[6, 7], [2, 4], [8, 12]])))\n",
    "    print(\"Can attend all appointments: \" + str(can_attend_all_appointments([[4, 5], [2, 3], [3, 6]])))\n",
    "\n",
    "\n",
    "main()"
   ]
  },
  {
   "cell_type": "markdown",
   "metadata": {},
   "source": [
    "## Minimum Meeting Rooms (hard)"
   ]
  },
  {
   "cell_type": "markdown",
   "metadata": {},
   "source": [
    "Given a list of intervals representing the start and end time of ‘N’ meetings, find the minimum number of rooms required to hold all the meetings."
   ]
  },
  {
   "cell_type": "code",
   "execution_count": 44,
   "metadata": {},
   "outputs": [
    {
     "name": "stdout",
     "output_type": "stream",
     "text": [
      "Minimum meeting rooms required: 2\n",
      "Minimum meeting rooms required: 2\n",
      "Minimum meeting rooms required: 1\n",
      "Minimum meeting rooms required: 2\n",
      "Minimum meeting rooms required: 2\n"
     ]
    }
   ],
   "source": [
    "from heapq import *\n",
    "\n",
    "\n",
    "class Meeting:\n",
    "    def __init__(self, start, end):\n",
    "        self.start = start\n",
    "        self.end = end\n",
    "\n",
    "    def __lt__(self, other):\n",
    "        # min heap based on meeting.end\n",
    "        return self.end < other.end\n",
    "\n",
    "\n",
    "def min_meeting_rooms(meetings):\n",
    "    # sort the meetings by start time\n",
    "    meetings.sort(key=lambda x: x.start)\n",
    "\n",
    "    minRooms = 0\n",
    "    minHeap = []\n",
    "    for meeting in meetings:\n",
    "        # remove all the meetings that have ended\n",
    "        while(len(minHeap) > 0 and meeting.start >= minHeap[0].end):\n",
    "            heappop(minHeap)\n",
    "        # add the current meeting into min_heap\n",
    "        heappush(minHeap, meeting)\n",
    "        # all active meetings are in the min_heap, so we need rooms for all of them.\n",
    "        minRooms = max(minRooms, len(minHeap))\n",
    "    return minRooms\n",
    "\n",
    "\n",
    "def main():\n",
    "    print(\"Minimum meeting rooms required: \" + str(min_meeting_rooms(\n",
    "        [Meeting(4, 5), Meeting(2, 3), Meeting(2, 4), Meeting(3, 5)])))\n",
    "    print(\"Minimum meeting rooms required: \" +\n",
    "                str(min_meeting_rooms([Meeting(1, 4), Meeting(2, 5), Meeting(7, 9)])))\n",
    "    print(\"Minimum meeting rooms required: \" +\n",
    "                str(min_meeting_rooms([Meeting(6, 7), Meeting(2, 4), Meeting(8, 12)])))\n",
    "    print(\"Minimum meeting rooms required: \" +\n",
    "                str(min_meeting_rooms([Meeting(1, 4), Meeting(2, 3), Meeting(3, 6)])))\n",
    "    print(\"Minimum meeting rooms required: \" + str(min_meeting_rooms(\n",
    "        [Meeting(4, 5), Meeting(2, 3), Meeting(2, 4), Meeting(3, 5)])))\n",
    "\n",
    "\n",
    "main()"
   ]
  },
  {
   "cell_type": "markdown",
   "metadata": {},
   "source": [
    "## Maximum CPU Load (hard)"
   ]
  },
  {
   "cell_type": "markdown",
   "metadata": {},
   "source": [
    "We are given a list of Jobs. Each job has a Start time, an End time, and a CPU load when it is running. Our goal is to find the maximum CPU load at any time if all the jobs are running on the same machine."
   ]
  },
  {
   "cell_type": "code",
   "execution_count": 45,
   "metadata": {},
   "outputs": [
    {
     "name": "stdout",
     "output_type": "stream",
     "text": [
      "Maximum CPU load at any time: 7\n",
      "Maximum CPU load at any time: 15\n",
      "Maximum CPU load at any time: 8\n"
     ]
    }
   ],
   "source": [
    "from heapq import *\n",
    "\n",
    "\n",
    "class job:\n",
    "    def __init__(self, start, end, cpu_load):\n",
    "        self.start = start\n",
    "        self.end = end\n",
    "        self.cpu_load = cpu_load\n",
    "\n",
    "    def __lt__(self, other):\n",
    "        # min heap based on job.end\n",
    "        return self.end < other.end\n",
    "\n",
    "\n",
    "def find_max_cpu_load(jobs):\n",
    "    # sort the jobs by start time\n",
    "    jobs.sort(key=lambda x: x.start)\n",
    "    max_cpu_load, current_cpu_load = 0, 0\n",
    "    min_heap = []\n",
    "\n",
    "    for j in jobs:\n",
    "        # remove all the jobs that have ended\n",
    "        while(len(min_heap) > 0 and j.start >= min_heap[0].end):\n",
    "            current_cpu_load -= min_heap[0].cpu_load\n",
    "            heappop(min_heap)\n",
    "        # add the current job into min_heap\n",
    "        heappush(min_heap, j)\n",
    "        current_cpu_load += j.cpu_load\n",
    "        max_cpu_load = max(max_cpu_load, current_cpu_load)\n",
    "    return max_cpu_load\n",
    "\n",
    "\n",
    "def main():\n",
    "    print(\"Maximum CPU load at any time: \" + str(find_max_cpu_load([job(1, 4, 3), job(2, 5, 4), job(7, 9, 6)])))\n",
    "    print(\"Maximum CPU load at any time: \" + str(find_max_cpu_load([job(6, 7, 10), job(2, 4, 11), job(8, 12, 15)])))\n",
    "    print(\"Maximum CPU load at any time: \" + str(find_max_cpu_load([job(1, 4, 2), job(2, 4, 1), job(3, 6, 5)])))\n",
    "\n",
    "\n",
    "main()"
   ]
  },
  {
   "cell_type": "markdown",
   "metadata": {},
   "source": [
    "## Employee Free Time (hard)"
   ]
  },
  {
   "cell_type": "markdown",
   "metadata": {},
   "source": [
    "For ‘K’ employees, we are given a list of intervals representing the working hours of each employee. Our goal is to find out if there is a free interval that is common to all employees. You can assume that each list of employee working hours is sorted on the start time."
   ]
  },
  {
   "cell_type": "code",
   "execution_count": 46,
   "metadata": {},
   "outputs": [
    {
     "name": "stdout",
     "output_type": "stream",
     "text": [
      "Free intervals: [3, 5]\n",
      "Free intervals: [4, 6][8, 9]\n",
      "Free intervals: [5, 7]\n"
     ]
    }
   ],
   "source": [
    "from __future__ import print_function\n",
    "from heapq import *\n",
    "\n",
    "\n",
    "class Interval:\n",
    "    def __init__(self, start, end):\n",
    "        self.start = start\n",
    "        self.end = end\n",
    "\n",
    "    def print_interval(self):\n",
    "        print(\"[\" + str(self.start) + \", \" + str(self.end) + \"]\", end='')\n",
    "\n",
    "\n",
    "class EmployeeInterval:\n",
    "\n",
    "    def __init__(self, interval, employeeIndex, intervalIndex):\n",
    "        self.interval = interval  # interval representing employee's working hours\n",
    "        # index of the list containing working hours of this employee\n",
    "        self.employeeIndex = employeeIndex\n",
    "        self.intervalIndex = intervalIndex  # index of the interval in the employee list\n",
    "\n",
    "    def __lt__(self, other):\n",
    "        # min heap based on meeting.end\n",
    "        return self.interval.start < other.interval.start\n",
    "\n",
    "\n",
    "def find_employee_free_time(schedule):\n",
    "    if schedule is None:\n",
    "        return []\n",
    "\n",
    "    n = len(schedule)\n",
    "    result, minHeap = [], []\n",
    "\n",
    "    # insert the first interval of each employee to the queue\n",
    "    for i in range(n):\n",
    "        heappush(minHeap, EmployeeInterval(schedule[i][0], i, 0))\n",
    "\n",
    "    previousInterval = minHeap[0].interval\n",
    "    while minHeap:\n",
    "        queueTop = heappop(minHeap)\n",
    "        # if previousInterval is not overlapping with the next interval, insert a free interval\n",
    "        if previousInterval.end < queueTop.interval.start:\n",
    "            result.append(Interval(previousInterval.end,\n",
    "                                   queueTop.interval.start))\n",
    "            previousInterval = queueTop.interval\n",
    "        else:  # overlapping intervals, update the previousInterval if needed\n",
    "            if previousInterval.end < queueTop.interval.end:\n",
    "                previousInterval = queueTop.interval\n",
    "\n",
    "        # if there are more intervals available for the same employee, add their next interval\n",
    "        employeeSchedule = schedule[queueTop.employeeIndex]\n",
    "        if len(employeeSchedule) > queueTop.intervalIndex + 1:\n",
    "            heappush(minHeap, EmployeeInterval(employeeSchedule[queueTop.intervalIndex + 1], queueTop.employeeIndex,\n",
    "                                               queueTop.intervalIndex + 1))\n",
    "\n",
    "    return result\n",
    "\n",
    "\n",
    "def main():\n",
    "\n",
    "    input = [[Interval(1, 3), Interval(5, 6)], [\n",
    "        Interval(2, 3), Interval(6, 8)]]\n",
    "    print(\"Free intervals: \", end='')\n",
    "    for interval in find_employee_free_time(input):\n",
    "        interval.print_interval()\n",
    "    print()\n",
    "\n",
    "    input = [[Interval(1, 3), Interval(9, 12)], [\n",
    "        Interval(2, 4)], [Interval(6, 8)]]\n",
    "    print(\"Free intervals: \", end='')\n",
    "    for interval in find_employee_free_time(input):\n",
    "        interval.print_interval()\n",
    "    print()\n",
    "\n",
    "    input = [[Interval(1, 3)], [\n",
    "        Interval(2, 4)], [Interval(3, 5), Interval(7, 9)]]\n",
    "    print(\"Free intervals: \", end='')\n",
    "    for interval in find_employee_free_time(input):\n",
    "        interval.print_interval()\n",
    "    print()\n",
    "\n",
    "\n",
    "main()"
   ]
  },
  {
   "cell_type": "markdown",
   "metadata": {},
   "source": [
    "# Cyclic Sort"
   ]
  },
  {
   "cell_type": "markdown",
   "metadata": {},
   "source": [
    "## Cyclic Sort (easy)"
   ]
  },
  {
   "cell_type": "markdown",
   "metadata": {},
   "source": [
    "We are given an array containing ‘n’ objects. Each object, when created, was assigned a unique number from 1 to ‘n’ based on their creation sequence. This means that the object with sequence number ‘3’ was created just before the object with sequence number ‘4’.\n",
    "\n",
    "Write a function to sort the objects in-place on their creation sequence number in $O(n)$ and without any extra space. For simplicity, let’s assume we are passed an integer array containing only the sequence numbers, though each number is actually an object."
   ]
  },
  {
   "cell_type": "code",
   "execution_count": 47,
   "metadata": {},
   "outputs": [
    {
     "name": "stdout",
     "output_type": "stream",
     "text": [
      "[1, 2, 3, 4, 5]\n",
      "[1, 2, 3, 4, 5, 6]\n",
      "[1, 2, 3, 4, 5, 6]\n"
     ]
    }
   ],
   "source": [
    "def cyclic_sort(nums):\n",
    "    i = 0\n",
    "    while i < len(nums):\n",
    "        j = nums[i] - 1\n",
    "        if nums[i] != nums[j]:\n",
    "            nums[i], nums[j] = nums[j], nums[i]    # swap\n",
    "        else:\n",
    "            i += 1\n",
    "    return nums\n",
    "\n",
    "\n",
    "def main():\n",
    "    print(cyclic_sort([3, 1, 5, 4, 2]))\n",
    "    print(cyclic_sort([2, 6, 4, 3, 1, 5]))\n",
    "    print(cyclic_sort([1, 5, 6, 4, 3, 2]))\n",
    "\n",
    "\n",
    "main()"
   ]
  },
  {
   "cell_type": "markdown",
   "metadata": {},
   "source": [
    "## Find the Missing Number (easy)"
   ]
  },
  {
   "cell_type": "markdown",
   "metadata": {},
   "source": [
    "We are given an array containing ‘n’ distinct numbers taken from the range 0 to ‘n’. Since the array has only ‘n’ numbers out of the total ‘n+1’ numbers, find the missing number."
   ]
  },
  {
   "cell_type": "code",
   "execution_count": 48,
   "metadata": {},
   "outputs": [
    {
     "name": "stdout",
     "output_type": "stream",
     "text": [
      "2\n",
      "7\n"
     ]
    }
   ],
   "source": [
    "def find_missing_number(nums):\n",
    "    i, n = 0, len(nums)\n",
    "    while i < n:\n",
    "        j = nums[i]\n",
    "        if nums[i] < n and nums[i] != nums[j]:\n",
    "            nums[i], nums[j] = nums[j], nums[i]    # swap\n",
    "        else:\n",
    "            i += 1\n",
    "\n",
    "    # find the first number missing from its index, that will be our required number\n",
    "    for i in range(n):\n",
    "        if nums[i] != i:\n",
    "            return i\n",
    "\n",
    "    return n\n",
    "\n",
    "\n",
    "def main():\n",
    "    print(find_missing_number([4, 0, 3, 1]))\n",
    "    print(find_missing_number([8, 3, 5, 2, 4, 6, 0, 1]))\n",
    "\n",
    "\n",
    "main()"
   ]
  },
  {
   "cell_type": "markdown",
   "metadata": {},
   "source": [
    "## Find all Missing Numbers (easy)"
   ]
  },
  {
   "cell_type": "markdown",
   "metadata": {},
   "source": [
    "We are given an unsorted array containing numbers taken from the range 1 to ‘n’. The array can have duplicates, which means some numbers will be missing. Find all those missing numbers."
   ]
  },
  {
   "cell_type": "code",
   "execution_count": 49,
   "metadata": {},
   "outputs": [
    {
     "name": "stdout",
     "output_type": "stream",
     "text": [
      "[4, 6, 7]\n",
      "[3]\n",
      "[4]\n"
     ]
    }
   ],
   "source": [
    "def find_missing_numbers(nums):\n",
    "    i = 0\n",
    "    while i < len(nums):\n",
    "        j = nums[i] - 1\n",
    "        if nums[i] != nums[j]:\n",
    "            nums[i], nums[j] = nums[j], nums[i]    # swap\n",
    "        else:\n",
    "            i += 1\n",
    "\n",
    "    missingNumbers = []\n",
    "\n",
    "    for i in range(len(nums)):\n",
    "        if nums[i] != i + 1:\n",
    "            missingNumbers.append(i + 1)\n",
    "\n",
    "    return missingNumbers\n",
    "\n",
    "\n",
    "def main():\n",
    "    print(find_missing_numbers([2, 3, 1, 8, 2, 3, 5, 1]))\n",
    "    print(find_missing_numbers([2, 4, 1, 2]))\n",
    "    print(find_missing_numbers([2, 3, 2, 1]))\n",
    "\n",
    "\n",
    "main()"
   ]
  },
  {
   "cell_type": "markdown",
   "metadata": {},
   "source": [
    "## Find the Duplicate Number (easy)"
   ]
  },
  {
   "cell_type": "markdown",
   "metadata": {},
   "source": [
    "We are given an unsorted array containing ‘n+1’ numbers taken from the range 1 to ‘n’. The array has only one duplicate but it can be repeated multiple times. Find that duplicate number without using any extra space. You are, however, allowed to modify the input array."
   ]
  },
  {
   "cell_type": "code",
   "execution_count": 50,
   "metadata": {},
   "outputs": [
    {
     "name": "stdout",
     "output_type": "stream",
     "text": [
      "4\n",
      "3\n",
      "4\n"
     ]
    }
   ],
   "source": [
    "def find_duplicate(nums):\n",
    "    i = 0\n",
    "    while i < len(nums):\n",
    "        if nums[i] != i + 1:\n",
    "            j = nums[i] - 1\n",
    "            if nums[i] != nums[j]:\n",
    "                nums[i], nums[j] = nums[j], nums[i]    # swap\n",
    "            else:    # we have found the duplicate\n",
    "                return nums[i]\n",
    "        else:\n",
    "            i += 1\n",
    "\n",
    "    return -1\n",
    "\n",
    "\n",
    "def main():\n",
    "    print(find_duplicate([1, 4, 4, 3, 2]))\n",
    "    print(find_duplicate([2, 1, 3, 3, 5, 4]))\n",
    "    print(find_duplicate([2, 4, 1, 4, 4]))\n",
    "\n",
    "\n",
    "main()"
   ]
  },
  {
   "cell_type": "markdown",
   "metadata": {},
   "source": [
    "Can we solve the above problem in $O(1)$ space and without modifying the input array?"
   ]
  },
  {
   "cell_type": "code",
   "execution_count": 51,
   "metadata": {},
   "outputs": [
    {
     "name": "stdout",
     "output_type": "stream",
     "text": [
      "4\n",
      "3\n",
      "4\n"
     ]
    }
   ],
   "source": [
    "def find_duplicate(arr):\n",
    "    slow, fast = arr[0], arr[arr[0]]\n",
    "    while slow != fast:\n",
    "        slow = arr[slow]\n",
    "        fast = arr[arr[fast]]\n",
    "\n",
    "    # find cycle length\n",
    "    current = arr[arr[slow]]\n",
    "    cycleLength = 1\n",
    "    while current != arr[slow]:\n",
    "        current = arr[current]\n",
    "        cycleLength += 1\n",
    "\n",
    "    return find_start(arr, cycleLength)\n",
    "\n",
    "\n",
    "def find_start(arr, cycleLength):\n",
    "    pointer1, pointer2 = arr[0], arr[0]\n",
    "    # move pointer2 ahead 'cycleLength' steps\n",
    "    while cycleLength > 0:\n",
    "        pointer2 = arr[pointer2]\n",
    "        cycleLength -= 1\n",
    "\n",
    "    # increment both pointers until they meet at the start of the cycle\n",
    "    while pointer1 != pointer2:\n",
    "        pointer1 = arr[pointer1]\n",
    "        pointer2 = arr[pointer2]\n",
    "\n",
    "    return pointer1\n",
    "\n",
    "\n",
    "def main():\n",
    "    print(find_duplicate([1, 4, 4, 3, 2]))\n",
    "    print(find_duplicate([2, 1, 3, 3, 5, 4]))\n",
    "    print(find_duplicate([2, 4, 1, 4, 4]))\n",
    "\n",
    "\n",
    "main()"
   ]
  },
  {
   "cell_type": "markdown",
   "metadata": {},
   "source": [
    "## Find all Duplicate Numbers (easy)"
   ]
  },
  {
   "cell_type": "markdown",
   "metadata": {},
   "source": [
    "We are given an unsorted array containing ‘n’ numbers taken from the range 1 to ‘n’. The array has some duplicates, find all the duplicate numbers without using any extra space."
   ]
  },
  {
   "cell_type": "code",
   "execution_count": 52,
   "metadata": {},
   "outputs": [
    {
     "name": "stdout",
     "output_type": "stream",
     "text": [
      "[5, 4]\n",
      "[3, 5]\n"
     ]
    }
   ],
   "source": [
    "def find_all_duplicates(nums):\n",
    "    i = 0\n",
    "    while i < len(nums):\n",
    "        j = nums[i] - 1\n",
    "        if nums[i] != nums[j]:\n",
    "            nums[i], nums[j] = nums[j], nums[i]    # swap\n",
    "        else:\n",
    "            i += 1\n",
    "\n",
    "    duplicateNumbers = []\n",
    "    for i in range(len(nums)):\n",
    "        if nums[i] != i + 1:\n",
    "            duplicateNumbers.append(nums[i])\n",
    "\n",
    "    return duplicateNumbers\n",
    "\n",
    "\n",
    "def main():\n",
    "    print(find_all_duplicates([3, 4, 4, 5, 5]))\n",
    "    print(find_all_duplicates([5, 4, 7, 2, 3, 5, 3]))\n",
    "\n",
    "\n",
    "main()"
   ]
  },
  {
   "cell_type": "markdown",
   "metadata": {},
   "source": [
    "## Find the Corrupt Pair (easy)"
   ]
  },
  {
   "cell_type": "markdown",
   "metadata": {},
   "source": [
    "We are given an unsorted array containing ‘n’ numbers taken from the range 1 to ‘n’. The array originally contained all the numbers from 1 to ‘n’, but due to a data error, one of the numbers got duplicated which also resulted in one number going missing. Find both these numbers."
   ]
  },
  {
   "cell_type": "code",
   "execution_count": 53,
   "metadata": {},
   "outputs": [
    {
     "name": "stdout",
     "output_type": "stream",
     "text": [
      "[2, 4]\n",
      "[3, 5]\n"
     ]
    }
   ],
   "source": [
    "def find_corrupt_numbers(nums):\n",
    "    i = 0\n",
    "    while i < len(nums):\n",
    "        j = nums[i] - 1\n",
    "        if nums[i] != nums[j]:\n",
    "            nums[i], nums[j] = nums[j], nums[i]    # swap\n",
    "        else:\n",
    "            i += 1\n",
    "\n",
    "    for i in range(len(nums)):\n",
    "        if nums[i] != i + 1:\n",
    "            return [nums[i], i + 1]\n",
    "\n",
    "    return [-1, -1]\n",
    "\n",
    "\n",
    "def main():\n",
    "    print(find_corrupt_numbers([3, 1, 2, 5, 2]))\n",
    "    print(find_corrupt_numbers([3, 1, 2, 3, 6, 4]))\n",
    "\n",
    "\n",
    "main()"
   ]
  },
  {
   "cell_type": "markdown",
   "metadata": {},
   "source": [
    "## Find the Smallest Missing Positive Number (medium)"
   ]
  },
  {
   "cell_type": "markdown",
   "metadata": {},
   "source": [
    "Given an unsorted array containing numbers, find the smallest missing positive number in it."
   ]
  },
  {
   "cell_type": "code",
   "execution_count": 54,
   "metadata": {},
   "outputs": [
    {
     "name": "stdout",
     "output_type": "stream",
     "text": [
      "3\n",
      "4\n",
      "4\n"
     ]
    }
   ],
   "source": [
    "def find_first_missing_positive(nums):\n",
    "    i, n = 0, len(nums)\n",
    "    while i < n:\n",
    "        j = nums[i] - 1\n",
    "        if nums[i] > 0 and nums[i] <= n and nums[i] != nums[j]:\n",
    "            nums[i], nums[j] = nums[j], nums[i]    # swap\n",
    "        else:\n",
    "            i += 1\n",
    "\n",
    "    for i in range(n):\n",
    "        if nums[i] != i + 1:\n",
    "            return i + 1\n",
    "\n",
    "    return len(nums) + 1\n",
    "\n",
    "\n",
    "def main():\n",
    "    print(find_first_missing_positive([-3, 1, 5, 4, 2]))\n",
    "    print(find_first_missing_positive([3, -2, 0, 1, 2]))\n",
    "    print(find_first_missing_positive([3, 2, 5, 1]))\n",
    "\n",
    "\n",
    "main()"
   ]
  },
  {
   "cell_type": "markdown",
   "metadata": {},
   "source": [
    "## Find the First K Missing Positive Numbers (hard)"
   ]
  },
  {
   "cell_type": "markdown",
   "metadata": {},
   "source": [
    "Given an unsorted array containing numbers and a number ‘k’, find the first ‘k’ missing positive numbers in the array."
   ]
  },
  {
   "cell_type": "code",
   "execution_count": 55,
   "metadata": {},
   "outputs": [
    {
     "name": "stdout",
     "output_type": "stream",
     "text": [
      "[1, 2, 6]\n",
      "[1, 5, 6]\n",
      "[1, 2]\n"
     ]
    }
   ],
   "source": [
    "def find_first_k_missing_positive(nums, k):\n",
    "    n = len(nums)\n",
    "    i = 0\n",
    "    while i < len(nums):\n",
    "        j = nums[i] - 1\n",
    "        if nums[i] > 0 and nums[i] <= n and nums[i] != nums[j]:\n",
    "            nums[i], nums[j] = nums[j], nums[i]    # swap\n",
    "        else:\n",
    "            i += 1\n",
    "\n",
    "    missingNumbers = []\n",
    "    extraNumbers = set()\n",
    "    for i in range(n):\n",
    "        if len(missingNumbers) < k:\n",
    "            if nums[i] != i + 1:\n",
    "                missingNumbers.append(i + 1)\n",
    "                extraNumbers.add(nums[i])\n",
    "\n",
    "    # add the remaining missing numbers\n",
    "    i = 1\n",
    "    while len(missingNumbers) < k:\n",
    "        candidateNumber = i + n\n",
    "        # ignore if the array contains the candidate number\n",
    "        if candidateNumber not in extraNumbers:\n",
    "            missingNumbers.append(candidateNumber)\n",
    "        i += 1\n",
    "\n",
    "    return missingNumbers\n",
    "\n",
    "\n",
    "def main():\n",
    "    print(find_first_k_missing_positive([3, -1, 4, 5, 5], 3))\n",
    "    print(find_first_k_missing_positive([2, 3, 4], 3))\n",
    "    print(find_first_k_missing_positive([-2, -3, 4], 2))\n",
    "\n",
    "\n",
    "main()"
   ]
  },
  {
   "cell_type": "markdown",
   "metadata": {},
   "source": [
    "# In-place Reversal of a LinkedList"
   ]
  },
  {
   "cell_type": "markdown",
   "metadata": {},
   "source": [
    "## Reverse a LinkedList (easy)"
   ]
  },
  {
   "cell_type": "markdown",
   "metadata": {},
   "source": [
    "Given the head of a Singly LinkedList, reverse the LinkedList. Write a function to return the new head of the reversed LinkedList."
   ]
  },
  {
   "cell_type": "code",
   "execution_count": 56,
   "metadata": {},
   "outputs": [
    {
     "name": "stdout",
     "output_type": "stream",
     "text": [
      "Nodes of original LinkedList are: 2 4 6 8 10 \n",
      "Nodes of reversed LinkedList are: 10 8 6 4 2 \n"
     ]
    }
   ],
   "source": [
    "from __future__ import print_function\n",
    "\n",
    "\n",
    "class Node:\n",
    "    def __init__(self, value, next=None):\n",
    "        self.value = value\n",
    "        self.next = next\n",
    "\n",
    "    def print_list(self):\n",
    "        temp = self\n",
    "        while temp is not None:\n",
    "            print(temp.value, end=\" \")\n",
    "            temp = temp.next\n",
    "        print()\n",
    "\n",
    "\n",
    "def reverse(head):\n",
    "    previous, current, next = None, head, None\n",
    "    while current is not None:\n",
    "        next = current.next    # temporarily store the next node\n",
    "        current.next = previous    # reverse the current node\n",
    "        previous = current    # before we move to the next node, point previous to the current node\n",
    "        current = next    # move on the next node\n",
    "    return previous\n",
    "\n",
    "\n",
    "def main():\n",
    "    head = Node(2)\n",
    "    head.next = Node(4)\n",
    "    head.next.next = Node(6)\n",
    "    head.next.next.next = Node(8)\n",
    "    head.next.next.next.next = Node(10)\n",
    "\n",
    "    print(\"Nodes of original LinkedList are: \", end='')\n",
    "    head.print_list()\n",
    "    result = reverse(head)\n",
    "    print(\"Nodes of reversed LinkedList are: \", end='')\n",
    "    result.print_list()\n",
    "\n",
    "\n",
    "main()"
   ]
  },
  {
   "cell_type": "markdown",
   "metadata": {},
   "source": [
    "## Reverse a Sub-list (medium)"
   ]
  },
  {
   "cell_type": "markdown",
   "metadata": {},
   "source": [
    "Given the head of a LinkedList and two positions ‘p’ and ‘q’, reverse the LinkedList from position ‘p’ to ‘q’."
   ]
  },
  {
   "cell_type": "code",
   "execution_count": 57,
   "metadata": {},
   "outputs": [
    {
     "name": "stdout",
     "output_type": "stream",
     "text": [
      "Nodes of original LinkedList are: 1 2 3 4 5 \n",
      "Nodes of reversed LinkedList are: 1 4 3 2 5 \n"
     ]
    }
   ],
   "source": [
    "from __future__ import print_function\n",
    "\n",
    "\n",
    "class Node:\n",
    "    def __init__(self, value, next=None):\n",
    "        self.value = value\n",
    "        self.next = next\n",
    "\n",
    "    def print_list(self):\n",
    "        temp = self\n",
    "        while temp is not None:\n",
    "            print(temp.value, end=\" \")\n",
    "            temp = temp.next\n",
    "        print()\n",
    "\n",
    "\n",
    "def reverse_sub_list(head, p, q):\n",
    "    if p == q:\n",
    "        return head\n",
    "\n",
    "    # after skipping 'p-1' nodes, current will point to 'p'th node\n",
    "    current, previous = head, None\n",
    "    i = 0\n",
    "    while current is not None and i < p - 1:\n",
    "        previous = current\n",
    "        current = current.next\n",
    "        i += 1\n",
    "\n",
    "    # we are interested in three parts of the LinkedList, the part before index 'p',\n",
    "    # the part between 'p' and 'q', and the part after index 'q'\n",
    "    last_node_of_first_part = previous\n",
    "    # after reversing the LinkedList 'current' will become the last node of the sub-list\n",
    "    last_node_of_sub_list = current\n",
    "    next = None    # will be used to temporarily store the next node\n",
    "\n",
    "    i = 0\n",
    "    # reverse nodes between 'p' and 'q'\n",
    "    while current is not None and i < q - p + 1:\n",
    "        next = current.next\n",
    "        current.next = previous\n",
    "        previous = current\n",
    "        current = next\n",
    "        i += 1\n",
    "\n",
    "    # connect with the first part\n",
    "    if last_node_of_first_part is not None:\n",
    "        # 'previous' is now the first node of the sub-list\n",
    "        last_node_of_first_part.next = previous\n",
    "    # this means p == 1 i.e., we are changing the first node (head) of the LinkedList\n",
    "    else:\n",
    "        head = previous\n",
    "\n",
    "    # connect with the last part\n",
    "    last_node_of_sub_list.next = current\n",
    "    return head\n",
    "\n",
    "\n",
    "def main():\n",
    "    head = Node(1)\n",
    "    head.next = Node(2)\n",
    "    head.next.next = Node(3)\n",
    "    head.next.next.next = Node(4)\n",
    "    head.next.next.next.next = Node(5)\n",
    "\n",
    "    print(\"Nodes of original LinkedList are: \", end='')\n",
    "    head.print_list()\n",
    "    result = reverse_sub_list(head, 2, 4)\n",
    "    print(\"Nodes of reversed LinkedList are: \", end='')\n",
    "    result.print_list()\n",
    "\n",
    "\n",
    "main()"
   ]
  },
  {
   "cell_type": "markdown",
   "metadata": {},
   "source": [
    "## Reverse every K-element Sub-list (medium)"
   ]
  },
  {
   "cell_type": "markdown",
   "metadata": {},
   "source": [
    "Given the head of a LinkedList and a number ‘k’, reverse every ‘k’ sized sub-list starting from the head.\n",
    "\n",
    "If, in the end, you are left with a sub-list with less than ‘k’ elements, reverse it too."
   ]
  },
  {
   "cell_type": "code",
   "execution_count": 58,
   "metadata": {},
   "outputs": [
    {
     "name": "stdout",
     "output_type": "stream",
     "text": [
      "Nodes of original LinkedList are: 1 2 3 4 5 6 7 8 \n",
      "Nodes of reversed LinkedList are: 3 2 1 6 5 4 8 7 \n"
     ]
    }
   ],
   "source": [
    "from __future__ import print_function\n",
    "\n",
    "\n",
    "class Node:\n",
    "    def __init__(self, value, next=None):\n",
    "        self.value = value\n",
    "        self.next = next\n",
    "\n",
    "    def print_list(self):\n",
    "        temp = self\n",
    "        while temp is not None:\n",
    "            print(temp.value, end=\" \")\n",
    "            temp = temp.next\n",
    "        print()\n",
    "\n",
    "\n",
    "def reverse_every_k_elements(head, k):\n",
    "    if k <= 1 or head is None:\n",
    "        return head\n",
    "\n",
    "    current, previous = head, None\n",
    "    while True:\n",
    "        last_node_of_previous_part = previous\n",
    "        # after reversing the LinkedList 'current' will become the last node of the sub-list\n",
    "        last_node_of_sub_list = current\n",
    "        next = None    # will be used to temporarily store the next node\n",
    "        i = 0\n",
    "        while current is not None and i < k:    # reverse 'k' nodes\n",
    "            next = current.next\n",
    "            current.next = previous\n",
    "            previous = current\n",
    "            current = next\n",
    "            i += 1\n",
    "\n",
    "        # connect with the previous part\n",
    "        if last_node_of_previous_part is not None:\n",
    "            last_node_of_previous_part.next = previous\n",
    "        else:\n",
    "            head = previous\n",
    "\n",
    "        # connect with the next part\n",
    "        last_node_of_sub_list.next = current\n",
    "\n",
    "        if current is None:\n",
    "            break\n",
    "        previous = last_node_of_sub_list\n",
    "    return head\n",
    "\n",
    "\n",
    "def main():\n",
    "    head = Node(1)\n",
    "    head.next = Node(2)\n",
    "    head.next.next = Node(3)\n",
    "    head.next.next.next = Node(4)\n",
    "    head.next.next.next.next = Node(5)\n",
    "    head.next.next.next.next.next = Node(6)\n",
    "    head.next.next.next.next.next.next = Node(7)\n",
    "    head.next.next.next.next.next.next.next = Node(8)\n",
    "\n",
    "    print(\"Nodes of original LinkedList are: \", end='')\n",
    "    head.print_list()\n",
    "    result = reverse_every_k_elements(head, 3)\n",
    "    print(\"Nodes of reversed LinkedList are: \", end='')\n",
    "    result.print_list()\n",
    "\n",
    "\n",
    "main()"
   ]
  },
  {
   "cell_type": "markdown",
   "metadata": {},
   "source": [
    "## Reverse alternating K-element Sub-list (medium)"
   ]
  },
  {
   "cell_type": "markdown",
   "metadata": {},
   "source": [
    "Given the head of a LinkedList and a number ‘k’, reverse every alternating ‘k’ sized sub-list starting from the head.\n",
    "\n",
    "If, in the end, you are left with a sub-list with less than ‘k’ elements, reverse it too."
   ]
  },
  {
   "cell_type": "code",
   "execution_count": 59,
   "metadata": {},
   "outputs": [
    {
     "name": "stdout",
     "output_type": "stream",
     "text": [
      "Nodes of original LinkedList are: 1 2 3 4 5 6 7 8 \n",
      "Nodes of reversed LinkedList are: 2 1 3 4 6 5 7 8 \n"
     ]
    }
   ],
   "source": [
    "from __future__ import print_function\n",
    "\n",
    "\n",
    "class Node:\n",
    "    def __init__(self, value, next=None):\n",
    "        self.value = value\n",
    "        self.next = next\n",
    "\n",
    "    def print_list(self):\n",
    "        temp = self\n",
    "        while temp is not None:\n",
    "            print(temp.value, end=\" \")\n",
    "            temp = temp.next\n",
    "        print()\n",
    "\n",
    "\n",
    "def reverse_alternate_k_elements(head, k):\n",
    "    if k <= 1 or head is None:\n",
    "        return head\n",
    "\n",
    "    current, previous = head, None\n",
    "    while True:\n",
    "        last_node_of_previous_part = previous\n",
    "        # after reversing the LinkedList 'current' will become the last node of the sub-list\n",
    "        last_node_of_sub_list = current\n",
    "        next = None    # will be used to temporarily store the next node\n",
    "\n",
    "        # reverse 'k' nodes\n",
    "        i = 0\n",
    "        while current is not None and i < k:\n",
    "            next = current.next\n",
    "            current.next = previous\n",
    "            previous = current\n",
    "            current = next\n",
    "            i += 1\n",
    "\n",
    "        # connect with the previous part\n",
    "        if last_node_of_previous_part is not None:\n",
    "            last_node_of_previous_part.next = previous\n",
    "        else:\n",
    "            head = previous\n",
    "\n",
    "        # connect with the next part\n",
    "        last_node_of_sub_list.next = current\n",
    "\n",
    "        # skip 'k' nodes\n",
    "        i = 0\n",
    "        while current is not None and i < k:\n",
    "            previous = current\n",
    "            current = current.next\n",
    "            i += 1\n",
    "\n",
    "        if current is None:\n",
    "            break\n",
    "    return head\n",
    "\n",
    "\n",
    "def main():\n",
    "    head = Node(1)\n",
    "    head.next = Node(2)\n",
    "    head.next.next = Node(3)\n",
    "    head.next.next.next = Node(4)\n",
    "    head.next.next.next.next = Node(5)\n",
    "    head.next.next.next.next.next = Node(6)\n",
    "    head.next.next.next.next.next.next = Node(7)\n",
    "    head.next.next.next.next.next.next.next = Node(8)\n",
    "\n",
    "    print(\"Nodes of original LinkedList are: \", end='')\n",
    "    head.print_list()\n",
    "    result = reverse_alternate_k_elements(head, 2)\n",
    "    print(\"Nodes of reversed LinkedList are: \", end='')\n",
    "    result.print_list()\n",
    "\n",
    "\n",
    "main()"
   ]
  },
  {
   "cell_type": "markdown",
   "metadata": {},
   "source": [
    "## Rotate a LinkedList (medium)"
   ]
  },
  {
   "cell_type": "markdown",
   "metadata": {},
   "source": [
    "Given the head of a Singly LinkedList and a number ‘k’, rotate the LinkedList to the right by ‘k’ nodes."
   ]
  },
  {
   "cell_type": "code",
   "execution_count": 60,
   "metadata": {},
   "outputs": [
    {
     "name": "stdout",
     "output_type": "stream",
     "text": [
      "Nodes of original LinkedList are: 1 2 3 4 5 6 \n",
      "Nodes of rotated LinkedList are: 4 5 6 1 2 3 \n"
     ]
    }
   ],
   "source": [
    "from __future__ import print_function\n",
    "\n",
    "\n",
    "class Node:\n",
    "    def __init__(self, value, next=None):\n",
    "        self.value = value\n",
    "        self.next = next\n",
    "\n",
    "    def print_list(self):\n",
    "        temp = self\n",
    "        while temp is not None:\n",
    "            print(temp.value, end=\" \")\n",
    "            temp = temp.next\n",
    "        print()\n",
    "\n",
    "\n",
    "def rotate(head, rotations):\n",
    "    if head is None or head.next is None or rotations <= 0:\n",
    "        return head\n",
    "\n",
    "    # find the length and the last node of the list\n",
    "    last_node = head\n",
    "    list_length = 1\n",
    "    while last_node.next is not None:\n",
    "        last_node = last_node.next\n",
    "        list_length += 1\n",
    "\n",
    "    last_node.next = head    # connect the last node with the head to make it a circular list\n",
    "    rotations %= list_length    # no need to do rotations more than the length of the list\n",
    "    skip_length = list_length - rotations\n",
    "    last_node_of_rotated_list = head\n",
    "    for i in range(skip_length - 1):\n",
    "        last_node_of_rotated_list = last_node_of_rotated_list.next\n",
    "\n",
    "    # 'last_node_of_rotated_list.next' is pointing to the sub-list of 'k' ending nodes\n",
    "    head = last_node_of_rotated_list.next\n",
    "    last_node_of_rotated_list.next = None\n",
    "    return head\n",
    "\n",
    "\n",
    "def main():\n",
    "    head = Node(1)\n",
    "    head.next = Node(2)\n",
    "    head.next.next = Node(3)\n",
    "    head.next.next.next = Node(4)\n",
    "    head.next.next.next.next = Node(5)\n",
    "    head.next.next.next.next.next = Node(6)\n",
    "\n",
    "    print(\"Nodes of original LinkedList are: \", end='')\n",
    "    head.print_list()\n",
    "    result = rotate(head, 3)\n",
    "    print(\"Nodes of rotated LinkedList are: \", end='')\n",
    "    result.print_list()\n",
    "\n",
    "\n",
    "main()"
   ]
  },
  {
   "cell_type": "markdown",
   "metadata": {},
   "source": [
    "# Tree Breadth First Search"
   ]
  },
  {
   "cell_type": "markdown",
   "metadata": {},
   "source": [
    "## Binary Tree Level Order Traversal (easy)"
   ]
  },
  {
   "cell_type": "markdown",
   "metadata": {},
   "source": [
    "Given a binary tree, populate an array to represent its level-by-level traversal. You should populate the values of all nodes of each level from left to right in separate sub-arrays."
   ]
  },
  {
   "cell_type": "code",
   "execution_count": 61,
   "metadata": {},
   "outputs": [
    {
     "name": "stdout",
     "output_type": "stream",
     "text": [
      "Level order traversal: [[12], [7, 1], [9, 10, 5]]\n"
     ]
    }
   ],
   "source": [
    "from collections import deque\n",
    "\n",
    "\n",
    "class TreeNode:\n",
    "    def __init__(self, val):\n",
    "        self.val = val\n",
    "        self.left, self.right = None, None\n",
    "\n",
    "\n",
    "def traverse(root):\n",
    "    result = []\n",
    "    if root is None:\n",
    "        return result\n",
    "\n",
    "    queue = deque()\n",
    "    queue.append(root)\n",
    "    while queue:\n",
    "        levelSize = len(queue)\n",
    "        currentLevel = []\n",
    "        for _ in range(levelSize):\n",
    "            currentNode = queue.popleft()\n",
    "            # add the node to the current level\n",
    "            currentLevel.append(currentNode.val)\n",
    "            # insert the children of current node in the queue\n",
    "            if currentNode.left:\n",
    "                queue.append(currentNode.left)\n",
    "            if currentNode.right:\n",
    "                queue.append(currentNode.right)\n",
    "\n",
    "        result.append(currentLevel)\n",
    "\n",
    "    return result\n",
    "\n",
    "\n",
    "def main():\n",
    "    root = TreeNode(12)\n",
    "    root.left = TreeNode(7)\n",
    "    root.right = TreeNode(1)\n",
    "    root.left.left = TreeNode(9)\n",
    "    root.right.left = TreeNode(10)\n",
    "    root.right.right = TreeNode(5)\n",
    "    print(\"Level order traversal: \" + str(traverse(root)))\n",
    "\n",
    "\n",
    "main()"
   ]
  },
  {
   "cell_type": "markdown",
   "metadata": {},
   "source": [
    "## Reverse Level Order Traversal (easy)"
   ]
  },
  {
   "cell_type": "markdown",
   "metadata": {},
   "source": [
    "Given a binary tree, populate an array to represent its level-by-level traversal in reverse order, i.e., the lowest level comes first. You should populate the values of all nodes in each level from left to right in separate sub-arrays."
   ]
  },
  {
   "cell_type": "code",
   "execution_count": 62,
   "metadata": {},
   "outputs": [
    {
     "name": "stdout",
     "output_type": "stream",
     "text": [
      "Reverse level order traversal: deque([[9, 10, 5], [7, 1], [12]])\n"
     ]
    }
   ],
   "source": [
    "from collections import deque\n",
    "\n",
    "\n",
    "class TreeNode:\n",
    "    def __init__(self, val):\n",
    "        self.val = val\n",
    "        self.left, self.right = None, None\n",
    "\n",
    "\n",
    "def traverse(root):\n",
    "    result = deque()\n",
    "    if root is None:\n",
    "        return result\n",
    "\n",
    "    queue = deque()\n",
    "    queue.append(root)\n",
    "    while queue:\n",
    "        levelSize = len(queue)\n",
    "        currentLevel = []\n",
    "        for _ in range(levelSize):\n",
    "            currentNode = queue.popleft()\n",
    "            # add the node to the current level\n",
    "            currentLevel.append(currentNode.val)\n",
    "            # insert the children of current node in the queue\n",
    "            if currentNode.left:\n",
    "                queue.append(currentNode.left)\n",
    "            if currentNode.right:\n",
    "                queue.append(currentNode.right)\n",
    "\n",
    "        result.appendleft(currentLevel)\n",
    "\n",
    "    return result\n",
    "\n",
    "\n",
    "def main():\n",
    "    root = TreeNode(12)\n",
    "    root.left = TreeNode(7)\n",
    "    root.right = TreeNode(1)\n",
    "    root.left.left = TreeNode(9)\n",
    "    root.right.left = TreeNode(10)\n",
    "    root.right.right = TreeNode(5)\n",
    "    print(\"Reverse level order traversal: \" + str(traverse(root)))\n",
    "\n",
    "\n",
    "main()"
   ]
  },
  {
   "cell_type": "markdown",
   "metadata": {},
   "source": [
    "## Zigzag Traversal (medium)"
   ]
  },
  {
   "cell_type": "markdown",
   "metadata": {},
   "source": [
    "Given a binary tree, populate an array to represent its zigzag level order traversal. You should populate the values of all nodes of the first level from left to right, then right to left for the next level and keep alternating in the same manner for the following levels."
   ]
  },
  {
   "cell_type": "code",
   "execution_count": 63,
   "metadata": {},
   "outputs": [
    {
     "name": "stdout",
     "output_type": "stream",
     "text": [
      "Zigzag traversal: [[12], [1, 7], [9, 10, 5], [17, 20]]\n"
     ]
    }
   ],
   "source": [
    "from collections import deque\n",
    "\n",
    "\n",
    "class TreeNode:\n",
    "    def __init__(self, val):\n",
    "        self.val = val\n",
    "        self.left, self.right = None, None\n",
    "\n",
    "\n",
    "def traverse(root):\n",
    "    result = []\n",
    "    if root is None:\n",
    "        return result\n",
    "\n",
    "    queue = deque()\n",
    "    queue.append(root)\n",
    "    leftToRight = True\n",
    "    while queue:\n",
    "        levelSize = len(queue)\n",
    "        currentLevel = deque()\n",
    "        for _ in range(levelSize):\n",
    "            currentNode = queue.popleft()\n",
    "\n",
    "            # add the node to the current level based on the traverse direction\n",
    "            if leftToRight:\n",
    "                currentLevel.append(currentNode.val)\n",
    "            else:\n",
    "                currentLevel.appendleft(currentNode.val)\n",
    "\n",
    "            # insert the children of current node in the queue\n",
    "            if currentNode.left:\n",
    "                queue.append(currentNode.left)\n",
    "            if currentNode.right:\n",
    "                queue.append(currentNode.right)\n",
    "\n",
    "        result.append(list(currentLevel))\n",
    "        # reverse the traversal direction\n",
    "        leftToRight = not leftToRight\n",
    "\n",
    "    return result\n",
    "\n",
    "\n",
    "def main():\n",
    "    root = TreeNode(12)\n",
    "    root.left = TreeNode(7)\n",
    "    root.right = TreeNode(1)\n",
    "    root.left.left = TreeNode(9)\n",
    "    root.right.left = TreeNode(10)\n",
    "    root.right.right = TreeNode(5)\n",
    "    root.right.left.left = TreeNode(20)\n",
    "    root.right.left.right = TreeNode(17)\n",
    "    print(\"Zigzag traversal: \" + str(traverse(root)))\n",
    "\n",
    "\n",
    "main()"
   ]
  },
  {
   "cell_type": "markdown",
   "metadata": {},
   "source": [
    "## Level Averages in a Binary Tree (easy)"
   ]
  },
  {
   "cell_type": "markdown",
   "metadata": {},
   "source": [
    "Given a binary tree, populate an array to represent the averages of all of its levels."
   ]
  },
  {
   "cell_type": "code",
   "execution_count": 64,
   "metadata": {},
   "outputs": [
    {
     "name": "stdout",
     "output_type": "stream",
     "text": [
      "Level averages are: [12.0, 4.0, 6.5]\n"
     ]
    }
   ],
   "source": [
    "from collections import deque\n",
    "\n",
    "\n",
    "class TreeNode:\n",
    "    def __init__(self, val):\n",
    "        self.val = val\n",
    "        self.left, self.right = None, None\n",
    "\n",
    "\n",
    "def find_level_averages(root):\n",
    "    result = []\n",
    "    if root is None:\n",
    "        return result\n",
    "\n",
    "    queue = deque()\n",
    "    queue.append(root)\n",
    "    while queue:\n",
    "        levelSize = len(queue)\n",
    "        levelSum = 0.0\n",
    "        for _ in range(levelSize):\n",
    "            currentNode = queue.popleft()\n",
    "            # add the node's value to the running sum\n",
    "            levelSum += currentNode.val\n",
    "            # insert the children of current node to the queue\n",
    "            if currentNode.left:\n",
    "                queue.append(currentNode.left)\n",
    "            if currentNode.right:\n",
    "                queue.append(currentNode.right)\n",
    "\n",
    "        # append the current level's average to the result array\n",
    "        result.append(levelSum / levelSize)\n",
    "\n",
    "    return result\n",
    "\n",
    "\n",
    "def main():\n",
    "    root = TreeNode(12)\n",
    "    root.left = TreeNode(7)\n",
    "    root.right = TreeNode(1)\n",
    "    root.left.left = TreeNode(9)\n",
    "    root.left.right = TreeNode(2)\n",
    "    root.right.left = TreeNode(10)\n",
    "    root.right.right = TreeNode(5)\n",
    "    print(\"Level averages are: \" + str(find_level_averages(root)))\n",
    "\n",
    "\n",
    "main()"
   ]
  },
  {
   "cell_type": "markdown",
   "metadata": {},
   "source": [
    "## Minimum Depth of a Binary Tree (easy)"
   ]
  },
  {
   "cell_type": "markdown",
   "metadata": {},
   "source": [
    "Find the minimum depth of a binary tree. The minimum depth is the number of nodes along the shortest path from the root node to the nearest leaf node."
   ]
  },
  {
   "cell_type": "code",
   "execution_count": 65,
   "metadata": {},
   "outputs": [
    {
     "name": "stdout",
     "output_type": "stream",
     "text": [
      "Tree Minimum Depth: 2\n",
      "Tree Minimum Depth: 3\n"
     ]
    }
   ],
   "source": [
    "from collections import deque\n",
    "\n",
    "\n",
    "class TreeNode:\n",
    "    def __init__(self, val):\n",
    "        self.val = val\n",
    "        self.left, self.right = None, None\n",
    "\n",
    "\n",
    "def find_minimum_depth(root):\n",
    "    if root is None:\n",
    "        return 0\n",
    "\n",
    "    queue = deque()\n",
    "    queue.append(root)\n",
    "    minimumTreeDepth = 0\n",
    "    while queue:\n",
    "        minimumTreeDepth += 1\n",
    "        levelSize = len(queue)\n",
    "        for _ in range(levelSize):\n",
    "            currentNode = queue.popleft()\n",
    "\n",
    "            # check if this is a leaf node\n",
    "            if not currentNode.left and not currentNode.right:\n",
    "                return minimumTreeDepth\n",
    "\n",
    "            # insert the children of current node in the queue\n",
    "            if currentNode.left:\n",
    "                queue.append(currentNode.left)\n",
    "            if currentNode.right:\n",
    "                queue.append(currentNode.right)\n",
    "\n",
    "\n",
    "\n",
    "def main():\n",
    "    root = TreeNode(12)\n",
    "    root.left = TreeNode(7)\n",
    "    root.right = TreeNode(1)\n",
    "    root.right.left = TreeNode(10)\n",
    "    root.right.right = TreeNode(5)\n",
    "    print(\"Tree Minimum Depth: \" + str(find_minimum_depth(root)))\n",
    "    root.left.left = TreeNode(9)\n",
    "    root.right.left.left = TreeNode(11)\n",
    "    print(\"Tree Minimum Depth: \" + str(find_minimum_depth(root)))\n",
    "\n",
    "\n",
    "main()"
   ]
  },
  {
   "cell_type": "markdown",
   "metadata": {},
   "source": [
    "Given a binary tree, find its maximum depth (or height)."
   ]
  },
  {
   "cell_type": "code",
   "execution_count": 66,
   "metadata": {},
   "outputs": [
    {
     "name": "stdout",
     "output_type": "stream",
     "text": [
      "Tree Maximum Depth: 3\n",
      "Tree Maximum Depth: 4\n"
     ]
    }
   ],
   "source": [
    "from collections import deque\n",
    "\n",
    "\n",
    "class TreeNode:\n",
    "    def __init__(self, val):\n",
    "        self.val = val\n",
    "        self.left, self.right = None, None\n",
    "\n",
    "\n",
    "def find_maximum_depth(root):\n",
    "    if root is None:\n",
    "        return 0\n",
    "\n",
    "    queue = deque()\n",
    "    queue.append(root)\n",
    "    maximumTreeDepth = 0\n",
    "    while queue:\n",
    "        maximumTreeDepth += 1\n",
    "        levelSize = len(queue)\n",
    "        for _ in range(levelSize):\n",
    "            currentNode = queue.popleft()\n",
    "\n",
    "            # insert the children of current node in the queue\n",
    "            if currentNode.left:\n",
    "                queue.append(currentNode.left)\n",
    "            if currentNode.right:\n",
    "                queue.append(currentNode.right)\n",
    "\n",
    "    return maximumTreeDepth\n",
    "\n",
    "\n",
    "def main():\n",
    "    root = TreeNode(12)\n",
    "    root.left = TreeNode(7)\n",
    "    root.right = TreeNode(1)\n",
    "    root.right.left = TreeNode(10)\n",
    "    root.right.right = TreeNode(5)\n",
    "    print(\"Tree Maximum Depth: \" + str(find_maximum_depth(root)))\n",
    "    root.left.left = TreeNode(9)\n",
    "    root.right.left.left = TreeNode(11)\n",
    "    print(\"Tree Maximum Depth: \" + str(find_maximum_depth(root)))\n",
    "\n",
    "\n",
    "main()"
   ]
  },
  {
   "cell_type": "markdown",
   "metadata": {},
   "source": [
    "## Level Order Successor (easy)"
   ]
  },
  {
   "cell_type": "markdown",
   "metadata": {},
   "source": [
    "Given a binary tree and a node, find the level order successor of the given node in the tree. The level order successor is the node that appears right after the given node in the level order traversal."
   ]
  },
  {
   "cell_type": "code",
   "execution_count": 68,
   "metadata": {},
   "outputs": [
    {
     "name": "stdout",
     "output_type": "stream",
     "text": [
      "7\n",
      "10\n"
     ]
    }
   ],
   "source": [
    "from collections import deque\n",
    "\n",
    "\n",
    "class TreeNode:\n",
    "    def __init__(self, val):\n",
    "        self.val = val\n",
    "        self.left, self.right = None, None\n",
    "\n",
    "\n",
    "def find_successor(root, key):\n",
    "    if root is None:\n",
    "        return None\n",
    "\n",
    "    queue = deque()\n",
    "    queue.append(root)\n",
    "    while queue:\n",
    "        currentNode = queue.popleft()\n",
    "        # insert the children of current node in the queue\n",
    "        if currentNode.left:\n",
    "            queue.append(currentNode.left)\n",
    "        if currentNode.right:\n",
    "            queue.append(currentNode.right)\n",
    "\n",
    "        # break if we have found the key\n",
    "        if currentNode.val == key:\n",
    "            break\n",
    "\n",
    "    return queue[0] if queue else None\n",
    "\n",
    "\n",
    "def main():\n",
    "    root = TreeNode(12)\n",
    "    root.left = TreeNode(7)\n",
    "    root.right = TreeNode(1)\n",
    "    root.left.left = TreeNode(9)\n",
    "    root.right.left = TreeNode(10)\n",
    "    root.right.right = TreeNode(5)\n",
    "    result = find_successor(root, 12)\n",
    "    if result:\n",
    "        print(result.val)\n",
    "    result = find_successor(root, 9)\n",
    "    if result:\n",
    "        print(result.val)\n",
    "\n",
    "\n",
    "main()"
   ]
  },
  {
   "cell_type": "markdown",
   "metadata": {},
   "source": [
    "## Connect Level Order Siblings (medium)"
   ]
  },
  {
   "cell_type": "markdown",
   "metadata": {},
   "source": [
    "Given a binary tree, connect each node with its level order successor. The last node of each level should point to a `null` node."
   ]
  },
  {
   "cell_type": "code",
   "execution_count": 69,
   "metadata": {},
   "outputs": [
    {
     "name": "stdout",
     "output_type": "stream",
     "text": [
      "Level order traversal using 'next' pointer: \n",
      "12 \n",
      "7 1 \n",
      "9 10 5 \n"
     ]
    }
   ],
   "source": [
    "from __future__ import print_function\n",
    "from collections import deque\n",
    "\n",
    "\n",
    "class TreeNode:\n",
    "    def __init__(self, val):\n",
    "        self.val = val\n",
    "        self.left, self.right, self.next = None, None, None\n",
    "\n",
    "    # level order traversal using 'next' pointer\n",
    "    def print_level_order(self):\n",
    "        nextLevelRoot = self\n",
    "        while nextLevelRoot:\n",
    "            current = nextLevelRoot\n",
    "            nextLevelRoot = None\n",
    "            while current:\n",
    "                print(str(current.val) + \" \", end='')\n",
    "                if not nextLevelRoot:\n",
    "                    if current.left:\n",
    "                        nextLevelRoot = current.left\n",
    "                    elif current.right:\n",
    "                        nextLevelRoot = current.right\n",
    "                current = current.next\n",
    "            print()\n",
    "\n",
    "\n",
    "def connect_level_order_siblings(root):\n",
    "    if root is None:\n",
    "        return\n",
    "\n",
    "    queue = deque()\n",
    "    queue.append(root)\n",
    "    while queue:\n",
    "        previousNode = None\n",
    "        levelSize = len(queue)\n",
    "        # connect all nodes of this level\n",
    "        for _ in range(levelSize):\n",
    "            currentNode = queue.popleft()\n",
    "            if previousNode:\n",
    "                previousNode.next = currentNode\n",
    "            previousNode = currentNode\n",
    "\n",
    "            # insert the children of current node in the queue\n",
    "            if currentNode.left:\n",
    "                queue.append(currentNode.left)\n",
    "            if currentNode.right:\n",
    "                queue.append(currentNode.right)\n",
    "\n",
    "\n",
    "def main():\n",
    "    root = TreeNode(12)\n",
    "    root.left = TreeNode(7)\n",
    "    root.right = TreeNode(1)\n",
    "    root.left.left = TreeNode(9)\n",
    "    root.right.left = TreeNode(10)\n",
    "    root.right.right = TreeNode(5)\n",
    "    connect_level_order_siblings(root)\n",
    "\n",
    "    print(\"Level order traversal using 'next' pointer: \")\n",
    "    root.print_level_order()\n",
    "\n",
    "\n",
    "main()"
   ]
  },
  {
   "cell_type": "markdown",
   "metadata": {},
   "source": [
    "## Connect All Level Order Siblings (medium)"
   ]
  },
  {
   "cell_type": "markdown",
   "metadata": {},
   "source": [
    "Given a binary tree, connect each node with its level order successor. The last node of each level should point to the first node of the next level."
   ]
  },
  {
   "cell_type": "code",
   "execution_count": 70,
   "metadata": {},
   "outputs": [
    {
     "name": "stdout",
     "output_type": "stream",
     "text": [
      "Traversal using 'next' pointer: 12 7 1 9 10 5 "
     ]
    }
   ],
   "source": [
    "from __future__ import print_function\n",
    "from collections import deque\n",
    "\n",
    "\n",
    "class TreeNode:\n",
    "    def __init__(self, val):\n",
    "        self.val = val\n",
    "        self.left, self.right, self.next = None, None, None\n",
    "\n",
    "    # tree traversal using 'next' pointer\n",
    "    def print_tree(self):\n",
    "        print(\"Traversal using 'next' pointer: \", end='')\n",
    "        current = self\n",
    "        while current:\n",
    "            print(str(current.val) + \" \", end='')\n",
    "            current = current.next\n",
    "\n",
    "\n",
    "def connect_all_siblings(root):\n",
    "    if root is None:\n",
    "        return\n",
    "\n",
    "    queue = deque()\n",
    "    queue.append(root)\n",
    "    currentNode, previousNode = None, None\n",
    "    while queue:\n",
    "        currentNode = queue.popleft()\n",
    "        if previousNode:\n",
    "            previousNode.next = currentNode\n",
    "        previousNode = currentNode\n",
    "\n",
    "        # insert the children of current node in the queue\n",
    "        if currentNode.left:\n",
    "            queue.append(currentNode.left)\n",
    "        if currentNode.right:\n",
    "            queue.append(currentNode.right)\n",
    "\n",
    "\n",
    "def main():\n",
    "    root = TreeNode(12)\n",
    "    root.left = TreeNode(7)\n",
    "    root.right = TreeNode(1)\n",
    "    root.left.left = TreeNode(9)\n",
    "    root.right.left = TreeNode(10)\n",
    "    root.right.right = TreeNode(5)\n",
    "    connect_all_siblings(root)\n",
    "    root.print_tree()\n",
    "\n",
    "\n",
    "main()"
   ]
  },
  {
   "cell_type": "markdown",
   "metadata": {},
   "source": [
    "## Right View of a Binary Tree (easy)"
   ]
  },
  {
   "cell_type": "markdown",
   "metadata": {},
   "source": [
    "Given a binary tree, return an array containing nodes in its right view. The right view of a binary tree is the set of nodes visible when the tree is seen from the right side."
   ]
  },
  {
   "cell_type": "code",
   "execution_count": 71,
   "metadata": {},
   "outputs": [
    {
     "name": "stdout",
     "output_type": "stream",
     "text": [
      "Tree right view: \n",
      "12 1 5 3 "
     ]
    }
   ],
   "source": [
    "from __future__ import print_function\n",
    "from collections import deque\n",
    "\n",
    "\n",
    "class TreeNode:\n",
    "    def __init__(self, val):\n",
    "        self.val = val\n",
    "        self.left, self.right = None, None\n",
    "\n",
    "\n",
    "def tree_right_view(root):\n",
    "    result = []\n",
    "    if root is None:\n",
    "        return result\n",
    "\n",
    "    queue = deque()\n",
    "    queue.append(root)\n",
    "    while queue:\n",
    "        levelSize = len(queue)\n",
    "        for i in range(0, levelSize):\n",
    "            currentNode = queue.popleft()\n",
    "            # if it is the last node of this level, add it to the result\n",
    "            if i == levelSize - 1:\n",
    "                result.append(currentNode)\n",
    "            # insert the children of current node in the queue\n",
    "            if currentNode.left:\n",
    "                queue.append(currentNode.left)\n",
    "            if currentNode.right:\n",
    "                queue.append(currentNode.right)\n",
    "\n",
    "    return result\n",
    "\n",
    "\n",
    "def main():\n",
    "    root = TreeNode(12)\n",
    "    root.left = TreeNode(7)\n",
    "    root.right = TreeNode(1)\n",
    "    root.left.left = TreeNode(9)\n",
    "    root.right.left = TreeNode(10)\n",
    "    root.right.right = TreeNode(5)\n",
    "    root.left.left.left = TreeNode(3)\n",
    "    result = tree_right_view(root)\n",
    "    print(\"Tree right view: \")\n",
    "    for node in result:\n",
    "        print(str(node.val) + \" \", end='')\n",
    "\n",
    "\n",
    "main()"
   ]
  },
  {
   "cell_type": "markdown",
   "metadata": {},
   "source": [
    "# Tree Depth First Search"
   ]
  },
  {
   "cell_type": "markdown",
   "metadata": {},
   "source": [
    "## Binary Tree Path Sum (easy)"
   ]
  },
  {
   "cell_type": "markdown",
   "metadata": {},
   "source": [
    "Given a binary tree and a number ‘S’, find if the tree has a path from root-to-leaf such that the sum of all the node values of that path equals ‘S’."
   ]
  },
  {
   "cell_type": "code",
   "execution_count": 72,
   "metadata": {},
   "outputs": [
    {
     "name": "stdout",
     "output_type": "stream",
     "text": [
      "Tree has path: True\n",
      "Tree has path: False\n"
     ]
    }
   ],
   "source": [
    "class TreeNode:\n",
    "    def __init__(self, val, left=None, right=None):\n",
    "        self.val = val\n",
    "        self.left = left\n",
    "        self.right = right\n",
    "\n",
    "\n",
    "def has_path(root, sum):\n",
    "    if root is None:\n",
    "        return False\n",
    "\n",
    "    # if the current node is a leaf and its value is equal to the sum, we've found a path\n",
    "    if root.val == sum and root.left is None and root.right is None:\n",
    "        return True\n",
    "\n",
    "    # recursively call to traverse the left and right sub-tree\n",
    "    # return true if any of the two recursive call return true\n",
    "    return has_path(root.left, sum - root.val) or has_path(root.right, sum - root.val)\n",
    "\n",
    "\n",
    "def main():\n",
    "\n",
    "    root = TreeNode(12)\n",
    "    root.left = TreeNode(7)\n",
    "    root.right = TreeNode(1)\n",
    "    root.left.left = TreeNode(9)\n",
    "    root.right.left = TreeNode(10)\n",
    "    root.right.right = TreeNode(5)\n",
    "    print(\"Tree has path: \" + str(has_path(root, 23)))\n",
    "    print(\"Tree has path: \" + str(has_path(root, 16)))\n",
    "\n",
    "\n",
    "main()"
   ]
  },
  {
   "cell_type": "markdown",
   "metadata": {},
   "source": [
    "## All Paths for a Sum (medium)"
   ]
  },
  {
   "cell_type": "markdown",
   "metadata": {},
   "source": [
    "Given a binary tree and a number ‘S’, find all paths from root-to-leaf such that the sum of all the node values of each path equals ‘S’."
   ]
  },
  {
   "cell_type": "code",
   "execution_count": 73,
   "metadata": {},
   "outputs": [
    {
     "name": "stdout",
     "output_type": "stream",
     "text": [
      "Tree paths with sum 23: []\n"
     ]
    }
   ],
   "source": [
    "class TreeNode:\n",
    "    def __init__(self, val, left=None, right=None):\n",
    "        self.val = val\n",
    "        self.left = left\n",
    "        self.right = right\n",
    "\n",
    "\n",
    "def find_paths(root, sum):\n",
    "    allPaths = []\n",
    "    # TODO: Write your code here\n",
    "    return allPaths\n",
    "\n",
    "\n",
    "def main():\n",
    "\n",
    "    root = TreeNode(12)\n",
    "    root.left = TreeNode(7)\n",
    "    root.right = TreeNode(1)\n",
    "    root.left.left = TreeNode(4)\n",
    "    root.right.left = TreeNode(10)\n",
    "    root.right.right = TreeNode(5)\n",
    "    sum = 23\n",
    "    print(\"Tree paths with sum \" + str(sum) +\n",
    "                \": \" + str(find_paths(root, sum)))\n",
    "\n",
    "\n",
    "main()"
   ]
  },
  {
   "cell_type": "markdown",
   "metadata": {},
   "source": [
    "## Sum of Path Numbers (medium)"
   ]
  },
  {
   "cell_type": "markdown",
   "metadata": {},
   "source": [
    "Given a binary tree where each node can only have a digit (0-9) value, each root-to-leaf path will represent a number. Find the total sum of all the numbers represented by all paths."
   ]
  },
  {
   "cell_type": "code",
   "execution_count": 74,
   "metadata": {},
   "outputs": [
    {
     "name": "stdout",
     "output_type": "stream",
     "text": [
      "Total Sum of Path Numbers: 332\n"
     ]
    }
   ],
   "source": [
    "class TreeNode:\n",
    "    def __init__(self, val, left=None, right=None):\n",
    "        self.val = val\n",
    "        self.left = left\n",
    "        self.right = right\n",
    "\n",
    "\n",
    "def find_sum_of_path_numbers(root):\n",
    "    return find_root_to_leaf_path_numbers(root, 0)\n",
    "\n",
    "\n",
    "def find_root_to_leaf_path_numbers(currentNode, pathSum):\n",
    "    if currentNode is None:\n",
    "        return 0\n",
    "\n",
    "    # calculate the path number of the current node\n",
    "    pathSum = 10 * pathSum + currentNode.val\n",
    "\n",
    "    # if the current node is a leaf, return the current path sum\n",
    "    if currentNode.left is None and currentNode.right is None:\n",
    "        return pathSum\n",
    "\n",
    "    # traverse the left and the right sub-tree\n",
    "    return find_root_to_leaf_path_numbers(currentNode.left, pathSum) + find_root_to_leaf_path_numbers(currentNode.right, pathSum)\n",
    "\n",
    "\n",
    "def main():\n",
    "    root = TreeNode(1)\n",
    "    root.left = TreeNode(0)\n",
    "    root.right = TreeNode(1)\n",
    "    root.left.left = TreeNode(1)\n",
    "    root.right.left = TreeNode(6)\n",
    "    root.right.right = TreeNode(5)\n",
    "    print(\"Total Sum of Path Numbers: \" + str(find_sum_of_path_numbers(root)))\n",
    "\n",
    "\n",
    "main()"
   ]
  },
  {
   "cell_type": "markdown",
   "metadata": {},
   "source": [
    "## Path With Given Sequence (medium)"
   ]
  },
  {
   "cell_type": "markdown",
   "metadata": {},
   "source": [
    "Given a binary tree and a number sequence, find if the sequence is present as a root-to-leaf path in the given tree."
   ]
  },
  {
   "cell_type": "code",
   "execution_count": 75,
   "metadata": {},
   "outputs": [
    {
     "name": "stdout",
     "output_type": "stream",
     "text": [
      "Tree has path sequence: False\n",
      "Tree has path sequence: True\n"
     ]
    }
   ],
   "source": [
    "class TreeNode:\n",
    "    def __init__(self, val, left=None, right=None):\n",
    "        self.val = val\n",
    "        self.left = left\n",
    "        self.right = right\n",
    "\n",
    "\n",
    "def find_path(root, sequence):\n",
    "    if not root:\n",
    "        return len(sequence) == 0\n",
    "\n",
    "    return find_path_recursive(root, sequence, 0)\n",
    "\n",
    "\n",
    "def find_path_recursive(currentNode, sequence, sequenceIndex):\n",
    "\n",
    "    if currentNode is None:\n",
    "        return False\n",
    "\n",
    "    seqLen = len(sequence)\n",
    "    if sequenceIndex >= seqLen or currentNode.val != sequence[sequenceIndex]:\n",
    "        return False\n",
    "\n",
    "    # if the current node is a leaf, add it is the end of the sequence, we have found a path!\n",
    "    if currentNode.left is None and currentNode.right is None and sequenceIndex == seqLen - 1:\n",
    "        return True\n",
    "\n",
    "    # recursively call to traverse the left and right sub-tree\n",
    "    # return true if any of the two recursive call return true\n",
    "    return find_path_recursive(currentNode.left, sequence, sequenceIndex + 1) or \\\n",
    "                 find_path_recursive(currentNode.right, sequence, sequenceIndex + 1)\n",
    "\n",
    "\n",
    "def main():\n",
    "\n",
    "    root = TreeNode(1)\n",
    "    root.left = TreeNode(0)\n",
    "    root.right = TreeNode(1)\n",
    "    root.left.left = TreeNode(1)\n",
    "    root.right.left = TreeNode(6)\n",
    "    root.right.right = TreeNode(5)\n",
    "\n",
    "    print(\"Tree has path sequence: \" + str(find_path(root, [1, 0, 7])))\n",
    "    print(\"Tree has path sequence: \" + str(find_path(root, [1, 1, 6])))\n",
    "\n",
    "\n",
    "main()"
   ]
  },
  {
   "cell_type": "markdown",
   "metadata": {},
   "source": [
    "## Count Paths for a Sum (medium)"
   ]
  },
  {
   "cell_type": "markdown",
   "metadata": {},
   "source": [
    "Given a binary tree and a number ‘S’, find all paths in the tree such that the sum of all the node values of each path equals ‘S’. Please note that the paths can start or end at any node but all paths must follow direction from parent to child (top to bottom)."
   ]
  },
  {
   "cell_type": "code",
   "execution_count": 76,
   "metadata": {},
   "outputs": [
    {
     "name": "stdout",
     "output_type": "stream",
     "text": [
      "Tree has paths: 2\n"
     ]
    }
   ],
   "source": [
    "class TreeNode:\n",
    "    def __init__(self, val, left=None, right=None):\n",
    "        self.val = val\n",
    "        self.left = left\n",
    "        self.right = right\n",
    "\n",
    "\n",
    "def count_paths(root, S):\n",
    "    return count_paths_recursive(root, S, [])\n",
    "\n",
    "\n",
    "def count_paths_recursive(currentNode, S, currentPath):\n",
    "    if currentNode is None:\n",
    "        return 0\n",
    "\n",
    "    # add the current node to the path\n",
    "    currentPath.append(currentNode.val)\n",
    "    pathCount, pathSum = 0, 0\n",
    "    # find the sums of all sub-paths in the current path list\n",
    "    for i in range(len(currentPath)-1, -1, -1):\n",
    "        pathSum += currentPath[i]\n",
    "        # if the sum of any sub-path is equal to 'S' we increment our path count.\n",
    "        if pathSum == S:\n",
    "            pathCount += 1\n",
    "\n",
    "    # traverse the left sub-tree\n",
    "    pathCount += count_paths_recursive(currentNode.left, S, currentPath)\n",
    "    # traverse the right sub-tree\n",
    "    pathCount += count_paths_recursive(currentNode.right, S, currentPath)\n",
    "\n",
    "    # remove the current node from the path to backtrack\n",
    "    # we need to remove the current node while we are going up the recursive call stack\n",
    "    del currentPath[-1]\n",
    "\n",
    "    return pathCount\n",
    "\n",
    "\n",
    "def main():\n",
    "    root = TreeNode(12)\n",
    "    root.left = TreeNode(7)\n",
    "    root.right = TreeNode(1)\n",
    "    root.left.left = TreeNode(4)\n",
    "    root.right.left = TreeNode(10)\n",
    "    root.right.right = TreeNode(5)\n",
    "    print(\"Tree has paths: \" + str(count_paths(root, 11)))\n",
    "\n",
    "\n",
    "main()"
   ]
  },
  {
   "cell_type": "markdown",
   "metadata": {},
   "source": [
    "## Tree Diameter (medium)"
   ]
  },
  {
   "cell_type": "markdown",
   "metadata": {},
   "source": [
    "Given a binary tree, find the length of its diameter. The diameter of a tree is the number of nodes on the longest path between any two leaf nodes. The diameter of a tree may or may not pass through the root.\n",
    "\n",
    "Note: You can always assume that there are at least two leaf nodes in the given tree."
   ]
  },
  {
   "cell_type": "code",
   "execution_count": 77,
   "metadata": {},
   "outputs": [
    {
     "name": "stdout",
     "output_type": "stream",
     "text": [
      "Tree Diameter: 5\n",
      "Tree Diameter: 7\n"
     ]
    }
   ],
   "source": [
    "class TreeNode:\n",
    "    def __init__(self, val, left=None, right=None):\n",
    "        self.val = val\n",
    "        self.left = left\n",
    "        self.right = right\n",
    "\n",
    "\n",
    "class TreeDiameter:\n",
    "\n",
    "    def __init__(self):\n",
    "        self.treeDiameter = 0\n",
    "\n",
    "    def find_diameter(self, root):\n",
    "        self.calculate_height(root)\n",
    "        return self.treeDiameter\n",
    "\n",
    "    def calculate_height(self, currentNode):\n",
    "        if currentNode is None:\n",
    "            return 0\n",
    "\n",
    "        leftTreeHeight = self.calculate_height(currentNode.left)\n",
    "        rightTreeHeight = self.calculate_height(currentNode.right)\n",
    "\n",
    "        # diameter at the current node will be equal to the height of left subtree +\n",
    "        # the height of right sub-trees + '1' for the current node\n",
    "        diameter = leftTreeHeight + rightTreeHeight + 1\n",
    "\n",
    "        # update the global tree diameter\n",
    "        self.treeDiameter = max(self.treeDiameter, diameter)\n",
    "\n",
    "        # height of the current node will be equal to the maximum of the hights of\n",
    "        # left or right subtrees plus '1' for the current node\n",
    "        return max(leftTreeHeight, rightTreeHeight) + 1\n",
    "\n",
    "\n",
    "def main():\n",
    "    treeDiameter = TreeDiameter()\n",
    "    root = TreeNode(1)\n",
    "    root.left = TreeNode(2)\n",
    "    root.right = TreeNode(3)\n",
    "    root.left.left = TreeNode(4)\n",
    "    root.right.left = TreeNode(5)\n",
    "    root.right.right = TreeNode(6)\n",
    "    print(\"Tree Diameter: \" + str(treeDiameter.find_diameter(root)))\n",
    "    root.left.left = None\n",
    "    root.right.left.left = TreeNode(7)\n",
    "    root.right.left.right = TreeNode(8)\n",
    "    root.right.right.left = TreeNode(9)\n",
    "    root.right.left.right.left = TreeNode(10)\n",
    "    root.right.right.left.left = TreeNode(11)\n",
    "    print(\"Tree Diameter: \" + str(treeDiameter.find_diameter(root)))\n",
    "\n",
    "\n",
    "main()"
   ]
  },
  {
   "cell_type": "markdown",
   "metadata": {},
   "source": [
    "## Path with Maximum Sum (hard)"
   ]
  },
  {
   "cell_type": "markdown",
   "metadata": {},
   "source": [
    "Find the path with the maximum sum in a given binary tree. Write a function that returns the maximum sum. A path can be defined as a sequence of nodes between any two nodes and doesn’t necessarily pass through the root."
   ]
  },
  {
   "cell_type": "code",
   "execution_count": 78,
   "metadata": {},
   "outputs": [
    {
     "name": "stdout",
     "output_type": "stream",
     "text": [
      "Maximum Path Sum: 6\n",
      "Maximum Path Sum: 31\n",
      "Maximum Path Sum: -1\n"
     ]
    }
   ],
   "source": [
    "import math\n",
    "\n",
    "\n",
    "class TreeNode:\n",
    "    def __init__(self, val, left=None, right=None):\n",
    "        self.val = val\n",
    "        self.left = left\n",
    "        self.right = right\n",
    "\n",
    "\n",
    "class MaximumPathSum:\n",
    "\n",
    "    def find_maximum_path_sum(self, root):\n",
    "        self.globalMaximumSum = -math.inf\n",
    "        self.find_maximum_path_sum_recursive(root)\n",
    "        return self.globalMaximumSum\n",
    "\n",
    "    def find_maximum_path_sum_recursive(self, currentNode):\n",
    "        if currentNode is None:\n",
    "            return 0\n",
    "\n",
    "        maxPathSumFromLeft = self.find_maximum_path_sum_recursive(\n",
    "            currentNode.left)\n",
    "        maxPathSumFromRight = self.find_maximum_path_sum_recursive(\n",
    "            currentNode.right)\n",
    "\n",
    "        # ignore paths with negative sums, since we need to find the maximum sum we should\n",
    "        # ignore any path which has an overall negative sum.\n",
    "        maxPathSumFromLeft = max(maxPathSumFromLeft, 0)\n",
    "        maxPathSumFromRight = max(maxPathSumFromRight, 0)\n",
    "\n",
    "        # maximum path sum at the current node will be equal to the sum from the left subtree +\n",
    "        # the sum from right subtree + val of current node\n",
    "        localMaximumSum = maxPathSumFromLeft + maxPathSumFromRight + currentNode.val\n",
    "\n",
    "        # update the global maximum sum\n",
    "        self.globalMaximumSum = max(self.globalMaximumSum, localMaximumSum)\n",
    "\n",
    "        # maximum sum of any path from the current node will be equal to the maximum of\n",
    "        # the sums from left or right subtrees plus the value of the current node\n",
    "        return max(maxPathSumFromLeft, maxPathSumFromRight) + currentNode.val\n",
    "\n",
    "\n",
    "def main():\n",
    "    maximumPathSum = MaximumPathSum()\n",
    "    root = TreeNode(1)\n",
    "    root.left = TreeNode(2)\n",
    "    root.right = TreeNode(3)\n",
    "\n",
    "    print(\"Maximum Path Sum: \" + str(maximumPathSum.find_maximum_path_sum(root)))\n",
    "    root.left.left = TreeNode(1)\n",
    "    root.left.right = TreeNode(3)\n",
    "    root.right.left = TreeNode(5)\n",
    "    root.right.right = TreeNode(6)\n",
    "    root.right.left.left = TreeNode(7)\n",
    "    root.right.left.right = TreeNode(8)\n",
    "    root.right.right.left = TreeNode(9)\n",
    "    print(\"Maximum Path Sum: \" + str(maximumPathSum.find_maximum_path_sum(root)))\n",
    "\n",
    "    root = TreeNode(-1)\n",
    "    root.left = TreeNode(-3)\n",
    "    print(\"Maximum Path Sum: \" + str(maximumPathSum.find_maximum_path_sum(root)))\n",
    "\n",
    "\n",
    "main()"
   ]
  },
  {
   "cell_type": "markdown",
   "metadata": {},
   "source": [
    "# Two Heaps"
   ]
  },
  {
   "cell_type": "markdown",
   "metadata": {},
   "source": [
    "## Find the Median of a Number Stream (medium)"
   ]
  },
  {
   "cell_type": "markdown",
   "metadata": {},
   "source": [
    "Design a class to calculate the median of a number stream. The class should have the following two methods:\n",
    "\n",
    "1. `insertNum(int num)`: stores the number in the class\n",
    "2. `findMedian()`: returns the median of all numbers inserted in the class\n",
    "\n",
    "If the count of numbers inserted in the class is even, the median will be the average of the middle two numbers."
   ]
  },
  {
   "cell_type": "code",
   "execution_count": 79,
   "metadata": {},
   "outputs": [
    {
     "name": "stdout",
     "output_type": "stream",
     "text": [
      "The median is: 2.0\n",
      "The median is: 3.0\n",
      "The median is: 3.5\n"
     ]
    }
   ],
   "source": [
    "from heapq import *\n",
    "\n",
    "\n",
    "class MedianOfAStream:\n",
    "\n",
    "    maxHeap = []    # containing first half of numbers\n",
    "    minHeap = []    # containing second half of numbers\n",
    "\n",
    "    def insert_num(self, num):\n",
    "        if not self.maxHeap or -self.maxHeap[0] >= num:\n",
    "            heappush(self.maxHeap, -num)\n",
    "        else:\n",
    "            heappush(self.minHeap, num)\n",
    "\n",
    "        # either both the heaps will have equal number of elements or max-heap will have one\n",
    "        # more element than the min-heap\n",
    "        if len(self.maxHeap) > len(self.minHeap) + 1:\n",
    "            heappush(self.minHeap, -heappop(self.maxHeap))\n",
    "        elif len(self.maxHeap) < len(self.minHeap):\n",
    "            heappush(self.maxHeap, -heappop(self.minHeap))\n",
    "\n",
    "    def find_median(self):\n",
    "        if len(self.maxHeap) == len(self.minHeap):\n",
    "            # we have even number of elements, take the average of middle two elements\n",
    "            return -self.maxHeap[0] / 2.0 + self.minHeap[0] / 2.0\n",
    "\n",
    "        # because max-heap will have one more element than the min-heap\n",
    "        return -self.maxHeap[0] / 1.0\n",
    "\n",
    "\n",
    "def main():\n",
    "    medianOfAStream = MedianOfAStream()\n",
    "    medianOfAStream.insert_num(3)\n",
    "    medianOfAStream.insert_num(1)\n",
    "    print(\"The median is: \" + str(medianOfAStream.find_median()))\n",
    "    medianOfAStream.insert_num(5)\n",
    "    print(\"The median is: \" + str(medianOfAStream.find_median()))\n",
    "    medianOfAStream.insert_num(4)\n",
    "    print(\"The median is: \" + str(medianOfAStream.find_median()))\n",
    "\n",
    "\n",
    "main()"
   ]
  },
  {
   "cell_type": "markdown",
   "metadata": {},
   "source": [
    "## Sliding Window Median (hard)"
   ]
  },
  {
   "cell_type": "markdown",
   "metadata": {},
   "source": [
    "Given an array of numbers and a number ‘k’, find the median of all the ‘k’ sized sub-arrays (or windows) of the array."
   ]
  },
  {
   "cell_type": "code",
   "execution_count": 80,
   "metadata": {},
   "outputs": [
    {
     "name": "stdout",
     "output_type": "stream",
     "text": [
      "Sliding window medians are: [1.5, 0.5, 1.0, 4.0]\n",
      "Sliding window medians are: [1.0, 2.0, 3.0]\n"
     ]
    }
   ],
   "source": [
    "from heapq import *\n",
    "import heapq\n",
    "\n",
    "\n",
    "class SlidingWindowMedian:\n",
    "    def __init__(self):\n",
    "        self.maxHeap, self.minHeap = [], []\n",
    "\n",
    "    def find_sliding_window_median(self, nums, k):\n",
    "        result = [0.0 for x in range(len(nums) - k + 1)]\n",
    "        for i in range(0, len(nums)):\n",
    "            if not self.maxHeap or nums[i] <= -self.maxHeap[0]:\n",
    "                heappush(self.maxHeap, -nums[i])\n",
    "            else:\n",
    "                heappush(self.minHeap, nums[i])\n",
    "\n",
    "            self.rebalance_heaps()\n",
    "\n",
    "            if i - k + 1 >= 0:    # if we have at least 'k' elements in the sliding window\n",
    "                # add the median to the the result array\n",
    "                if len(self.maxHeap) == len(self.minHeap):\n",
    "                    # we have even number of elements, take the average of middle two elements\n",
    "                    result[i - k + 1] = -self.maxHeap[0] / \\\n",
    "                                                            2.0 + self.minHeap[0] / 2.0\n",
    "                else:    # because max-heap will have one more element than the min-heap\n",
    "                    result[i - k + 1] = -self.maxHeap[0] / 1.0\n",
    "\n",
    "                # remove the the element going out of the sliding window\n",
    "                elementToBeRemoved = nums[i - k + 1]\n",
    "                if elementToBeRemoved <= -self.maxHeap[0]:\n",
    "                    self.remove(self.maxHeap, -elementToBeRemoved)\n",
    "                else:\n",
    "                    self.remove(self.minHeap, elementToBeRemoved)\n",
    "\n",
    "                self.rebalance_heaps()\n",
    "\n",
    "        return result\n",
    "\n",
    "    # removes an element from the heap keeping the heap property\n",
    "    def remove(self, heap, element):\n",
    "        ind = heap.index(element)    # find the element\n",
    "        # move the element to the end and delete it\n",
    "        heap[ind] = heap[-1]\n",
    "        del heap[-1]\n",
    "        # we can use heapify to readjust the elements but that would be O(N),\n",
    "        # instead, we will adjust only one element which will O(logN)\n",
    "        if ind < len(heap):\n",
    "            heapq._siftup(heap, ind)\n",
    "            heapq._siftdown(heap, 0, ind)\n",
    "\n",
    "    def rebalance_heaps(self):\n",
    "        # either both the heaps will have equal number of elements or max-heap will have\n",
    "        # one more element than the min-heap\n",
    "        if len(self.maxHeap) > len(self.minHeap) + 1:\n",
    "            heappush(self.minHeap, -heappop(self.maxHeap))\n",
    "        elif len(self.maxHeap) < len(self.minHeap):\n",
    "            heappush(self.maxHeap, -heappop(self.minHeap))\n",
    "\n",
    "\n",
    "def main():\n",
    "\n",
    "    slidingWindowMedian = SlidingWindowMedian()\n",
    "    result = slidingWindowMedian.find_sliding_window_median(\n",
    "        [1, 2, -1, 3, 5], 2)\n",
    "    print(\"Sliding window medians are: \" + str(result))\n",
    "\n",
    "    slidingWindowMedian = SlidingWindowMedian()\n",
    "    result = slidingWindowMedian.find_sliding_window_median(\n",
    "        [1, 2, -1, 3, 5], 3)\n",
    "    print(\"Sliding window medians are: \" + str(result))\n",
    "\n",
    "\n",
    "main()"
   ]
  },
  {
   "cell_type": "markdown",
   "metadata": {},
   "source": [
    "## Maximize Capital (hard)"
   ]
  },
  {
   "cell_type": "markdown",
   "metadata": {},
   "source": [
    "Given a set of investment projects with their respective profits, we need to find the most profitable projects. We are given an initial capital and are allowed to invest only in a fixed number of projects. Our goal is to choose projects that give us the maximum profit.\n",
    "\n",
    "We can start an investment project only when we have the required capital. Once a project is selected, we can assume that its profit has become our capital."
   ]
  },
  {
   "cell_type": "code",
   "execution_count": 81,
   "metadata": {},
   "outputs": [
    {
     "name": "stdout",
     "output_type": "stream",
     "text": [
      "Maximum capital: 6\n",
      "Maximum capital: 8\n"
     ]
    }
   ],
   "source": [
    "from heapq import *\n",
    "\n",
    "\n",
    "def find_maximum_capital(capital, profits, numberOfProjects, initialCapital):\n",
    "    minCapitalHeap = []\n",
    "    maxProfitHeap = []\n",
    "\n",
    "    # insert all project capitals to a min-heap\n",
    "    for i in range(0, len(profits)):\n",
    "        heappush(minCapitalHeap, (capital[i], i))\n",
    "\n",
    "    # let's try to find a total of 'numberOfProjects' best projects\n",
    "    availableCapital = initialCapital\n",
    "    for _ in range(numberOfProjects):\n",
    "        # find all projects that can be selected within the available capital and insert them in a max-heap\n",
    "        while minCapitalHeap and minCapitalHeap[0][0] <= availableCapital:\n",
    "            capital, i = heappop(minCapitalHeap)\n",
    "            heappush(maxProfitHeap, (-profits[i], i))\n",
    "\n",
    "        # terminate if we are not able to find any project that can be completed within the available capital\n",
    "        if not maxProfitHeap:\n",
    "            break\n",
    "\n",
    "        # select the project with the maximum profit\n",
    "        availableCapital += -heappop(maxProfitHeap)[0]\n",
    "\n",
    "    return availableCapital\n",
    "\n",
    "\n",
    "def main():\n",
    "\n",
    "    print(\"Maximum capital: \" +\n",
    "                str(find_maximum_capital([0, 1, 2], [1, 2, 3], 2, 1)))\n",
    "    print(\"Maximum capital: \" +\n",
    "                str(find_maximum_capital([0, 1, 2, 3], [1, 2, 3, 5], 3, 0)))\n",
    "\n",
    "\n",
    "main()"
   ]
  },
  {
   "cell_type": "markdown",
   "metadata": {},
   "source": [
    "## Next Interval (hard)"
   ]
  },
  {
   "cell_type": "markdown",
   "metadata": {},
   "source": [
    "Given an array of intervals, find the next interval of each interval. In a list of intervals, for an interval ‘i’ its next interval ‘j’ will have the smallest ‘start’ greater than or equal to the ‘end’ of ‘i’.\n",
    "\n",
    "Write a function to return an array containing indices of the next interval of each input interval. If there is no next interval of a given interval, return -1. It is given that none of the intervals have the same start point."
   ]
  },
  {
   "cell_type": "code",
   "execution_count": 82,
   "metadata": {},
   "outputs": [
    {
     "name": "stdout",
     "output_type": "stream",
     "text": [
      "Next interval indices are: [1, 2, -1]\n",
      "Next interval indices are: [2, -1, -1]\n"
     ]
    }
   ],
   "source": [
    "from heapq import *\n",
    "\n",
    "\n",
    "class Interval:\n",
    "    def __init__(self, start, end):\n",
    "        self.start = start\n",
    "        self.end = end\n",
    "\n",
    "\n",
    "def find_next_interval(intervals):\n",
    "    n = len(intervals)\n",
    "\n",
    "    # heaps for finding the maximum start and end\n",
    "    maxStartHeap, maxEndHeap = [], []\n",
    "\n",
    "    result = [0 for x in range(n)]\n",
    "    for endIndex in range(n):\n",
    "        heappush(maxStartHeap, (-intervals[endIndex].start, endIndex))\n",
    "        heappush(maxEndHeap, (-intervals[endIndex].end, endIndex))\n",
    "\n",
    "    # go through all the intervals to find each interval's next interval\n",
    "    for _ in range(n):\n",
    "        # let's find the next interval of the interval which has the highest 'end'\n",
    "        topEnd, endIndex = heappop(maxEndHeap)\n",
    "        result[endIndex] = -1    # defaults to - 1\n",
    "        if -maxStartHeap[0][0] >= -topEnd:\n",
    "            topStart, startIndex = heappop(maxStartHeap)\n",
    "            # find the the interval that has the closest 'start'\n",
    "            while maxStartHeap and -maxStartHeap[0][0] >= -topEnd:\n",
    "                topStart, startIndex = heappop(maxStartHeap)\n",
    "            result[endIndex] = startIndex\n",
    "            # put the interval back as it could be the next interval of other intervals\n",
    "            heappush(maxStartHeap, (topStart, startIndex))\n",
    "\n",
    "    return result\n",
    "\n",
    "\n",
    "def main():\n",
    "\n",
    "    result = find_next_interval(\n",
    "        [Interval(2, 3), Interval(3, 4), Interval(5, 6)])\n",
    "    print(\"Next interval indices are: \" + str(result))\n",
    "\n",
    "    result = find_next_interval(\n",
    "        [Interval(3, 4), Interval(1, 5), Interval(4, 6)])\n",
    "    print(\"Next interval indices are: \" + str(result))\n",
    "\n",
    "\n",
    "main()"
   ]
  },
  {
   "cell_type": "markdown",
   "metadata": {},
   "source": [
    "# Subsets"
   ]
  },
  {
   "cell_type": "markdown",
   "metadata": {},
   "source": [
    "## Subsets (easy)"
   ]
  },
  {
   "cell_type": "code",
   "execution_count": 83,
   "metadata": {},
   "outputs": [
    {
     "name": "stdout",
     "output_type": "stream",
     "text": [
      "Here is the list of subsets: [[], [1], [3], [1, 3]]\n",
      "Here is the list of subsets: [[], [1], [5], [1, 5], [3], [1, 3], [5, 3], [1, 5, 3]]\n"
     ]
    }
   ],
   "source": [
    "def find_subsets(nums):\n",
    "    subsets = []\n",
    "    # start by adding the empty subset\n",
    "    subsets.append([])\n",
    "    for currentNumber in nums:\n",
    "        # we will take all existing subsets and insert the current number in them to create new subsets\n",
    "        n = len(subsets)\n",
    "        for i in range(n):\n",
    "            # create a new subset from the existing subset and insert the current element to it\n",
    "            set = list(subsets[i])\n",
    "            set.append(currentNumber)\n",
    "            subsets.append(set)\n",
    "\n",
    "    return subsets\n",
    "\n",
    "\n",
    "def main():\n",
    "\n",
    "    print(\"Here is the list of subsets: \" + str(find_subsets([1, 3])))\n",
    "    print(\"Here is the list of subsets: \" + str(find_subsets([1, 5, 3])))\n",
    "\n",
    "\n",
    "main()"
   ]
  },
  {
   "cell_type": "markdown",
   "metadata": {},
   "source": [
    "## Subsets With Duplicates (easy)"
   ]
  },
  {
   "cell_type": "markdown",
   "metadata": {},
   "source": [
    "Given a set of numbers that might contain duplicates, find all of its distinct subsets."
   ]
  },
  {
   "cell_type": "code",
   "execution_count": 84,
   "metadata": {},
   "outputs": [
    {
     "name": "stdout",
     "output_type": "stream",
     "text": [
      "Here is the list of subsets: [[], [1], [3], [1, 3], [3, 3], [1, 3, 3]]\n",
      "Here is the list of subsets: [[], [1], [3], [1, 3], [3, 3], [1, 3, 3], [5], [1, 5], [3, 5], [1, 3, 5], [3, 3, 5], [1, 3, 3, 5]]\n"
     ]
    }
   ],
   "source": [
    "def find_subsets(nums):\n",
    "    # sort the numbers to handle duplicates\n",
    "    list.sort(nums)\n",
    "    subsets = []\n",
    "    subsets.append([])\n",
    "    startIndex, endIndex = 0, 0\n",
    "    for i in range(len(nums)):\n",
    "        startIndex = 0\n",
    "        # if current and the previous elements are same, create new subsets only from the subsets\n",
    "        # added in the previous step\n",
    "        if i > 0 and nums[i] == nums[i - 1]:\n",
    "            startIndex = endIndex + 1\n",
    "        endIndex = len(subsets) - 1\n",
    "        for j in range(startIndex, endIndex+1):\n",
    "            # create a new subset from the existing subset and add the current element to it\n",
    "            set = list(subsets[j])\n",
    "            set.append(nums[i])\n",
    "            subsets.append(set)\n",
    "    return subsets\n",
    "\n",
    "\n",
    "def main():\n",
    "\n",
    "    print(\"Here is the list of subsets: \" + str(find_subsets([1, 3, 3])))\n",
    "    print(\"Here is the list of subsets: \" + str(find_subsets([1, 5, 3, 3])))\n",
    "\n",
    "\n",
    "main()"
   ]
  },
  {
   "cell_type": "markdown",
   "metadata": {},
   "source": [
    "## Permutations (medium)"
   ]
  },
  {
   "cell_type": "markdown",
   "metadata": {},
   "source": [
    "Given a set of distinct numbers, find all of its permutations.\n",
    "\n",
    "Permutation is defined as the re-arranging of the elements of the set. For example, {1, 2, 3} has the following six permutations:\n",
    "\n",
    "1. {1, 2, 3}\n",
    "2. {1, 3, 2}\n",
    "3. {2, 1, 3}\n",
    "4. {2, 3, 1}\n",
    "5. {3, 1, 2}\n",
    "6. {3, 2, 1}\n",
    "\n",
    "If a set has ‘n’ distinct elements it will have $n!$ permutations."
   ]
  },
  {
   "cell_type": "code",
   "execution_count": 85,
   "metadata": {},
   "outputs": [
    {
     "name": "stdout",
     "output_type": "stream",
     "text": [
      "Here are all the permutations: [[5, 3, 1], [3, 5, 1], [3, 1, 5], [5, 1, 3], [1, 5, 3], [1, 3, 5]]\n"
     ]
    }
   ],
   "source": [
    "from collections import deque\n",
    "\n",
    "\n",
    "def find_permutations(nums):\n",
    "    numsLength = len(nums)\n",
    "    result = []\n",
    "    permutations = deque()\n",
    "    permutations.append([])\n",
    "    for currentNumber in nums:\n",
    "        # we will take all existing permutations and add the current number to create new permutations\n",
    "        n = len(permutations)\n",
    "        for _ in range(n):\n",
    "            oldPermutation = permutations.popleft()\n",
    "            # create a new permutation by adding the current number at every position\n",
    "            for j in range(len(oldPermutation)+1):\n",
    "                newPermutation = list(oldPermutation)\n",
    "                newPermutation.insert(j, currentNumber)\n",
    "                if len(newPermutation) == numsLength:\n",
    "                    result.append(newPermutation)\n",
    "                else:\n",
    "                    permutations.append(newPermutation)\n",
    "\n",
    "    return result\n",
    "\n",
    "\n",
    "def main():\n",
    "    print(\"Here are all the permutations: \" + str(find_permutations([1, 3, 5])))\n",
    "\n",
    "\n",
    "main()"
   ]
  },
  {
   "cell_type": "code",
   "execution_count": 86,
   "metadata": {},
   "outputs": [
    {
     "name": "stdout",
     "output_type": "stream",
     "text": [
      "Here are all the permutations: [[5, 3, 1], [3, 5, 1], [3, 1, 5], [5, 1, 3], [1, 5, 3], [1, 3, 5]]\n"
     ]
    }
   ],
   "source": [
    "def generate_permutations(nums):\n",
    "    result = []\n",
    "    generate_permutations_recursive(nums, 0, [], result)\n",
    "    return result\n",
    "\n",
    "\n",
    "def generate_permutations_recursive(nums, index, currentPermutation, result):\n",
    "    if index == len(nums):\n",
    "        result.append(currentPermutation)\n",
    "    else:\n",
    "        # create a new permutation by adding the current number at every position\n",
    "        for i in range(len(currentPermutation)+1):\n",
    "            newPermutation = list(currentPermutation)\n",
    "            newPermutation.insert(i, nums[index])\n",
    "            generate_permutations_recursive(\n",
    "                nums, index + 1, newPermutation, result)\n",
    "\n",
    "\n",
    "def main():\n",
    "    print(\"Here are all the permutations: \" + str(generate_permutations([1, 3, 5])))\n",
    "\n",
    "\n",
    "main()"
   ]
  },
  {
   "cell_type": "markdown",
   "metadata": {},
   "source": [
    "## String Permutations by Changing Case (medium)"
   ]
  },
  {
   "cell_type": "markdown",
   "metadata": {},
   "source": [
    "Given a string, find all of its permutations preserving the character sequence but changing case."
   ]
  },
  {
   "cell_type": "code",
   "execution_count": 87,
   "metadata": {},
   "outputs": [
    {
     "name": "stdout",
     "output_type": "stream",
     "text": [
      "String permutations are: ['ad52', 'Ad52', 'aD52', 'AD52']\n",
      "String permutations are: ['ab7c', 'Ab7c', 'aB7c', 'AB7c', 'ab7C', 'Ab7C', 'aB7C', 'AB7C']\n"
     ]
    }
   ],
   "source": [
    "def find_letter_case_string_permutations(str):\n",
    "    permutations = []\n",
    "    permutations.append(str)\n",
    "    # process every character of the string one by one\n",
    "    for i in range(len(str)):\n",
    "        if str[i].isalpha():    # only process characters, skip digits\n",
    "            # we will take all existing permutations and change the letter case appropriately\n",
    "            n = len(permutations)\n",
    "            for j in range(n):\n",
    "                chs = list(permutations[j])\n",
    "                # if the current character is in upper case, change it to lower case or vice versa\n",
    "                chs[i] = chs[i].swapcase()\n",
    "                permutations.append(''.join(chs))\n",
    "\n",
    "    return permutations\n",
    "\n",
    "\n",
    "def main():\n",
    "    print(\"String permutations are: \" +\n",
    "                str(find_letter_case_string_permutations(\"ad52\")))\n",
    "    print(\"String permutations are: \" +\n",
    "                str(find_letter_case_string_permutations(\"ab7c\")))\n",
    "\n",
    "\n",
    "main()"
   ]
  },
  {
   "cell_type": "markdown",
   "metadata": {},
   "source": [
    "## Balanced Parentheses (hard)"
   ]
  },
  {
   "cell_type": "markdown",
   "metadata": {},
   "source": [
    "For a given number ‘N’, write a function to generate all combination of ‘N’ pairs of balanced parentheses."
   ]
  },
  {
   "cell_type": "code",
   "execution_count": 88,
   "metadata": {},
   "outputs": [
    {
     "name": "stdout",
     "output_type": "stream",
     "text": [
      "All combinations of balanced parentheses are: ['(())', '()()']\n",
      "All combinations of balanced parentheses are: ['((()))', '(()())', '(())()', '()(())', '()()()']\n"
     ]
    }
   ],
   "source": [
    "from collections import deque\n",
    "\n",
    "\n",
    "class ParenthesesString:\n",
    "    def __init__(self, str, openCount, closeCount):\n",
    "        self.str = str\n",
    "        self.openCount = openCount\n",
    "        self.closeCount = closeCount\n",
    "\n",
    "\n",
    "def generate_valid_parentheses(num):\n",
    "    result = []\n",
    "    queue = deque()\n",
    "    queue.append(ParenthesesString(\"\", 0, 0))\n",
    "    while queue:\n",
    "        ps = queue.popleft()\n",
    "        # if we've reached the maximum number of open and close parentheses, add to the result\n",
    "        if ps.openCount == num and ps.closeCount == num:\n",
    "            result.append(ps.str)\n",
    "        else:\n",
    "            if ps.openCount < num:    # if we can add an open parentheses, add it\n",
    "                queue.append(ParenthesesString(\n",
    "                    ps.str + \"(\", ps.openCount + 1, ps.closeCount))\n",
    "\n",
    "            if ps.openCount > ps.closeCount:    # if we can add a close parentheses, add it\n",
    "                queue.append(ParenthesesString(ps.str + \")\", \n",
    "                                               ps.openCount, ps.closeCount + 1))\n",
    "\n",
    "    return result\n",
    "\n",
    "\n",
    "def main():\n",
    "    print(\"All combinations of balanced parentheses are: \" + \n",
    "          str(generate_valid_parentheses(2)))\n",
    "    print(\"All combinations of balanced parentheses are: \" + \n",
    "          str(generate_valid_parentheses(3)))\n",
    "\n",
    "\n",
    "main()"
   ]
  },
  {
   "cell_type": "code",
   "execution_count": 90,
   "metadata": {},
   "outputs": [
    {
     "name": "stdout",
     "output_type": "stream",
     "text": [
      "All combinations of balanced parentheses are: ['(())', '()()']\n",
      "All combinations of balanced parentheses are: ['((()))', '(()())', '(())()', '()(())', '()()()']\n"
     ]
    }
   ],
   "source": [
    "def generate_valid_parentheses(num):\n",
    "    result = []\n",
    "    parenthesesString = [0 for x in range(2*num)]\n",
    "    generate_valid_parentheses_rec(num, 0, 0, parenthesesString, 0, result)\n",
    "    return result\n",
    "\n",
    "\n",
    "def generate_valid_parentheses_rec(num, openCount, closeCount, parenthesesString, index, result):\n",
    "\n",
    "    # if we've reached the maximum number of open and close parentheses, add to the result\n",
    "    if openCount == num and closeCount == num:\n",
    "        result.append(''.join(parenthesesString))\n",
    "    else:\n",
    "        if openCount < num:    # if we can add an open parentheses, add it\n",
    "            parenthesesString[index] = '('\n",
    "            generate_valid_parentheses_rec(\n",
    "                num, openCount + 1, closeCount, parenthesesString, index + 1, result)\n",
    "\n",
    "        if openCount > closeCount:    # if we can add a close parentheses, add it\n",
    "            parenthesesString[index] = ')'\n",
    "            generate_valid_parentheses_rec(\n",
    "                num, openCount, closeCount + 1, parenthesesString, index + 1, result)\n",
    "\n",
    "\n",
    "def main():\n",
    "    print(\"All combinations of balanced parentheses are: \" +\n",
    "          str(generate_valid_parentheses(2)))\n",
    "    print(\"All combinations of balanced parentheses are: \" +\n",
    "          str(generate_valid_parentheses(3)))\n",
    "\n",
    "\n",
    "main()"
   ]
  },
  {
   "cell_type": "markdown",
   "metadata": {},
   "source": [
    "## Unique Generalized Abbreviations (hard)"
   ]
  },
  {
   "cell_type": "markdown",
   "metadata": {},
   "source": [
    "Given a word, write a function to generate all of its unique generalized abbreviations.\n",
    "\n",
    "Generalized abbreviation of a word can be generated by replacing each substring of the word by the count of characters in the substring. Take the example of “ab” which has four substrings: “”, “a”, “b”, and “ab”. After replacing these substrings in the actual word by the count of characters we get all the generalized abbreviations: “ab”, “1b”, “a1”, and “2”."
   ]
  },
  {
   "cell_type": "code",
   "execution_count": 91,
   "metadata": {},
   "outputs": [
    {
     "name": "stdout",
     "output_type": "stream",
     "text": [
      "Generalized abbreviation are: ['3', '2T', '1A1', '1AT', 'B2', 'B1T', 'BA1', 'BAT']\n",
      "Generalized abbreviation are: ['4', '3e', '2d1', '2de', '1o2', '1o1e', '1od1', '1ode', 'c3', 'c2e', 'c1d1', 'c1de', 'co2', 'co1e', 'cod1', 'code']\n"
     ]
    }
   ],
   "source": [
    "from collections import deque\n",
    "\n",
    "\n",
    "class AbbreviatedWord:\n",
    "\n",
    "    def __init__(self, str, start,    count):\n",
    "        self.str = str\n",
    "        self.start = start\n",
    "        self.count = count\n",
    "\n",
    "\n",
    "def generate_generalized_abbreviation(word):\n",
    "    wordLen = len(word)\n",
    "    result = []\n",
    "    queue = deque()\n",
    "    queue.append(AbbreviatedWord(list(), 0, 0))\n",
    "    while queue:\n",
    "        abWord = queue.popleft()\n",
    "        if abWord.start == wordLen:\n",
    "            if abWord.count != 0:\n",
    "                abWord.str.append(str(abWord.count))\n",
    "            result.append(''.join(abWord.str))\n",
    "        else:\n",
    "            # continue abbreviating by incrementing the current abbreviation count\n",
    "            queue.append(AbbreviatedWord(list(abWord.str),\n",
    "                                         abWord.start + 1, abWord.count + 1))\n",
    "\n",
    "            # restart abbreviating, append the count and the current character to the string\n",
    "            if abWord.count != 0:\n",
    "                abWord.str.append(str(abWord.count))\n",
    "\n",
    "            newWord = list(abWord.str)\n",
    "            newWord.append(word[abWord.start])\n",
    "            queue.append(AbbreviatedWord(newWord, abWord.start + 1, 0))\n",
    "\n",
    "    return result\n",
    "\n",
    "\n",
    "def main():\n",
    "    print(\"Generalized abbreviation are: \" +\n",
    "          str(generate_generalized_abbreviation(\"BAT\")))\n",
    "    print(\"Generalized abbreviation are: \" +\n",
    "          str(generate_generalized_abbreviation(\"code\")))\n",
    "\n",
    "\n",
    "main()"
   ]
  },
  {
   "cell_type": "code",
   "execution_count": 92,
   "metadata": {},
   "outputs": [
    {
     "name": "stdout",
     "output_type": "stream",
     "text": [
      "Generalized abbreviation are: ['3', '2T', '1A1', '1AT', 'B2', 'B1T', 'BA1', 'BAT']\n",
      "Generalized abbreviation are: ['4', '3e', '2d1', '2de', '1o2', '1o1e', '1od1', '1ode', 'c3', 'c2e', 'c1d1', 'c1de', 'co2', 'co1e', 'cod1', 'code']\n"
     ]
    }
   ],
   "source": [
    "def generate_generalized_abbreviation(word):\n",
    "    result = []\n",
    "    generate_abbreviation_recursive(word, list(), 0, 0, result)\n",
    "    return result\n",
    "\n",
    "\n",
    "def generate_abbreviation_recursive(word, abWord, start, count, result):\n",
    "\n",
    "    if start == len(word):\n",
    "        if count != 0:\n",
    "            abWord.append(str(count))\n",
    "        result.append(''.join(abWord))\n",
    "    else:\n",
    "        # continue abbreviating by incrementing the current abbreviation count\n",
    "        generate_abbreviation_recursive(\n",
    "            word, list(abWord), start + 1, count + 1, result)\n",
    "\n",
    "        # restart abbreviating, append the count and the current character to the string\n",
    "        if count != 0:\n",
    "            abWord.append(str(count))\n",
    "        newWord = list(abWord)\n",
    "        newWord.append(word[start])\n",
    "        generate_abbreviation_recursive(word, newWord, start + 1, 0, result)\n",
    "\n",
    "\n",
    "def main():\n",
    "    print(\"Generalized abbreviation are: \" +\n",
    "          str(generate_generalized_abbreviation(\"BAT\")))\n",
    "    print(\"Generalized abbreviation are: \" +\n",
    "          str(generate_generalized_abbreviation(\"code\")))\n",
    "\n",
    "\n",
    "main()"
   ]
  },
  {
   "cell_type": "markdown",
   "metadata": {},
   "source": [
    "## Evaluate Expression (hard)"
   ]
  },
  {
   "cell_type": "markdown",
   "metadata": {},
   "source": [
    "Given an expression containing digits and operations (+, -, *), find all possible ways in which the expression can be evaluated by grouping the numbers and operators using parentheses."
   ]
  },
  {
   "cell_type": "code",
   "execution_count": 93,
   "metadata": {},
   "outputs": [
    {
     "name": "stdout",
     "output_type": "stream",
     "text": [
      "Expression evaluations: [7, 9]\n",
      "Expression evaluations: [8, -12, 7, -7, -3]\n"
     ]
    }
   ],
   "source": [
    "def diff_ways_to_evaluate_expression(input):\n",
    "    result = []\n",
    "    # base case: if the input string is a number, parse and add it to output.\n",
    "    if '+' not in input and '-' not in input and '*' not in input:\n",
    "        result.append(int(input))\n",
    "    else:\n",
    "        for i in range(0, len(input)):\n",
    "            char = input[i]\n",
    "            if not char.isdigit():\n",
    "                # break the equation here into two parts and make recursively calls\n",
    "                leftParts = diff_ways_to_evaluate_expression(input[0:i])\n",
    "                rightParts = diff_ways_to_evaluate_expression(input[i+1:])\n",
    "                for part1 in leftParts:\n",
    "                    for part2 in rightParts:\n",
    "                        if char == '+':\n",
    "                            result.append(part1 + part2)\n",
    "                        elif char == '-':\n",
    "                            result.append(part1 - part2)\n",
    "                        elif char == '*':\n",
    "                            result.append(part1 * part2)\n",
    "\n",
    "    return result\n",
    "\n",
    "\n",
    "def main():\n",
    "    print(\"Expression evaluations: \" +\n",
    "                str(diff_ways_to_evaluate_expression(\"1+2*3\")))\n",
    "\n",
    "    print(\"Expression evaluations: \" +\n",
    "                str(diff_ways_to_evaluate_expression(\"2*3-4-5\")))\n",
    "\n",
    "\n",
    "main()"
   ]
  },
  {
   "cell_type": "code",
   "execution_count": 94,
   "metadata": {},
   "outputs": [
    {
     "name": "stdout",
     "output_type": "stream",
     "text": [
      "Expression evaluations: [7, 9]\n",
      "Expression evaluations: [8, -12, 7, -7, -3]\n"
     ]
    }
   ],
   "source": [
    "def diff_ways_to_evaluate_expression(input):\n",
    "    return diff_ways_to_evaluate_expression_rec({}, input)\n",
    "\n",
    "\n",
    "def diff_ways_to_evaluate_expression_rec(map, input):\n",
    "    if input in map:\n",
    "        return map[input]\n",
    "\n",
    "    result = []\n",
    "    # base case: if the input string is a number, parse and return it.\n",
    "    if '+' not in input and '-' not in input and '*' not in input:\n",
    "        result.append(int(input))\n",
    "    else:\n",
    "        for i in range(0, len(input)):\n",
    "            char = input[i]\n",
    "            if not char.isdigit():\n",
    "                # break the equation here into two parts and make recursively calls\n",
    "                leftParts = diff_ways_to_evaluate_expression_rec(\n",
    "                    map, input[0:i])\n",
    "                rightParts = diff_ways_to_evaluate_expression_rec(\n",
    "                    map, input[i+1:])\n",
    "                for part1 in leftParts:\n",
    "                    for part2 in rightParts:\n",
    "                        if char == '+':\n",
    "                            result.append(part1 + part2)\n",
    "                        elif char == '-':\n",
    "                            result.append(part1 - part2)\n",
    "                        elif char == '*':\n",
    "                            result.append(part1 * part2)\n",
    "\n",
    "    map[input] = result\n",
    "    return result\n",
    "\n",
    "\n",
    "def main():\n",
    "    print(\"Expression evaluations: \" +\n",
    "                str(diff_ways_to_evaluate_expression(\"1+2*3\")))\n",
    "\n",
    "    print(\"Expression evaluations: \" +\n",
    "                str(diff_ways_to_evaluate_expression(\"2*3-4-5\")))\n",
    "\n",
    "\n",
    "main()"
   ]
  },
  {
   "cell_type": "markdown",
   "metadata": {},
   "source": [
    "## Structurally Unique Binary Search Trees (hard)"
   ]
  },
  {
   "cell_type": "markdown",
   "metadata": {},
   "source": [
    "Given a number ‘n’, write a function to return all structurally unique Binary Search Trees (BST) that can store values 1 to ‘n’?"
   ]
  },
  {
   "cell_type": "code",
   "execution_count": 95,
   "metadata": {},
   "outputs": [
    {
     "name": "stdout",
     "output_type": "stream",
     "text": [
      "Total trees: 2\n",
      "Total trees: 5\n"
     ]
    }
   ],
   "source": [
    "class TreeNode:\n",
    "    def __init__(self, val):\n",
    "        self.val = val\n",
    "        self.left = None\n",
    "        self.right = None\n",
    "\n",
    "\n",
    "def find_unique_trees(n):\n",
    "    if n <= 0:\n",
    "        return []\n",
    "    return findUnique_trees_recursive(1, n)\n",
    "\n",
    "\n",
    "def findUnique_trees_recursive(start, end):\n",
    "    result = []\n",
    "    # base condition, return 'None' for an empty sub-tree\n",
    "    # consider n = 1, in this case we will have start = end = 1, this means we should have only one tree\n",
    "    # we will have two recursive calls, findUniqueTreesRecursive(1, 0) & (2, 1)\n",
    "    # both of these should return 'None' for the left and the right child\n",
    "    if start > end:\n",
    "        result.append(None)\n",
    "        return result\n",
    "\n",
    "    for i in range(start, end+1):\n",
    "        # making 'i' the root of the tree\n",
    "        leftSubtrees = findUnique_trees_recursive(start, i - 1)\n",
    "        rightSubtrees = findUnique_trees_recursive(i + 1, end)\n",
    "        for leftTree in leftSubtrees:\n",
    "            for rightTree in rightSubtrees:\n",
    "                root = TreeNode(i)\n",
    "                root.left = leftTree\n",
    "                root.right = rightTree\n",
    "                result.append(root)\n",
    "\n",
    "    return result\n",
    "\n",
    "\n",
    "def main():\n",
    "    print(\"Total trees: \" + str(len(find_unique_trees(2))))\n",
    "    print(\"Total trees: \" + str(len(find_unique_trees(3))))\n",
    "\n",
    "\n",
    "main()"
   ]
  },
  {
   "cell_type": "markdown",
   "metadata": {},
   "source": [
    "## Count of Structurally Unique Binary Search Trees (hard)"
   ]
  },
  {
   "cell_type": "markdown",
   "metadata": {},
   "source": [
    "Given a number ‘n’, write a function to return the count of structurally unique Binary Search Trees (BST) that can store values 1 to ‘n’."
   ]
  },
  {
   "cell_type": "code",
   "execution_count": 96,
   "metadata": {},
   "outputs": [
    {
     "name": "stdout",
     "output_type": "stream",
     "text": [
      "Total trees: 2\n",
      "Total trees: 5\n"
     ]
    }
   ],
   "source": [
    "class TreeNode:\n",
    "    def __init__(self, val):\n",
    "        self.val = val\n",
    "        self.left = None\n",
    "        self.right = None\n",
    "\n",
    "\n",
    "def count_trees(n):\n",
    "    if n <= 1:\n",
    "        return 1\n",
    "    count = 0\n",
    "    for i in range(1, n+1):\n",
    "        # making 'i' root of the tree\n",
    "        countOfLeftSubtrees = count_trees(i - 1)\n",
    "        countOfRightSubtrees = count_trees(n - i)\n",
    "        count += (countOfLeftSubtrees * countOfRightSubtrees)\n",
    "\n",
    "    return count\n",
    "\n",
    "\n",
    "def main():\n",
    "    print(\"Total trees: \" + str(count_trees(2)))\n",
    "    print(\"Total trees: \" + str(count_trees(3)))\n",
    "\n",
    "\n",
    "main()"
   ]
  },
  {
   "cell_type": "code",
   "execution_count": 97,
   "metadata": {},
   "outputs": [
    {
     "name": "stdout",
     "output_type": "stream",
     "text": [
      "Total trees: 2\n",
      "Total trees: 5\n"
     ]
    }
   ],
   "source": [
    "class TreeNode:\n",
    "    def __init__(self, val):\n",
    "        self.val = val\n",
    "        self.left = None\n",
    "        self.right = None\n",
    "\n",
    "\n",
    "def count_trees(n):\n",
    "    return count_trees_rec({}, n)\n",
    "\n",
    "\n",
    "def count_trees_rec(map, n):\n",
    "    if n in map:\n",
    "        return map[n]\n",
    "\n",
    "    if n <= 1:\n",
    "        return 1\n",
    "    count = 0\n",
    "    for i in range(1, n+1):\n",
    "        # making 'i' the root of the tree\n",
    "        countOfLeftSubtrees = count_trees_rec(map, i - 1)\n",
    "        countOfRightSubtrees = count_trees_rec(map, n - i)\n",
    "        count += (countOfLeftSubtrees * countOfRightSubtrees)\n",
    "\n",
    "    map[n] = count\n",
    "    return count\n",
    "\n",
    "\n",
    "def main():\n",
    "    print(\"Total trees: \" + str(count_trees(2)))\n",
    "    print(\"Total trees: \" + str(count_trees(3)))\n",
    "\n",
    "\n",
    "main()"
   ]
  },
  {
   "cell_type": "markdown",
   "metadata": {},
   "source": [
    "# Modified Binary Search"
   ]
  },
  {
   "cell_type": "markdown",
   "metadata": {},
   "source": [
    "## Order-agnostic Binary Search (easy)"
   ]
  },
  {
   "cell_type": "markdown",
   "metadata": {},
   "source": [
    "Given a sorted array of numbers, find if a given number ‘key’ is present in the array. Though we know that the array is sorted, we don’t know if it’s sorted in ascending or descending order. You should assume that the array can have duplicates.\n",
    "\n",
    "Write a function to return the index of the ‘key’ if it is present in the array, otherwise return -1."
   ]
  },
  {
   "cell_type": "code",
   "execution_count": 98,
   "metadata": {},
   "outputs": [
    {
     "name": "stdout",
     "output_type": "stream",
     "text": [
      "2\n",
      "4\n",
      "0\n",
      "2\n"
     ]
    }
   ],
   "source": [
    "def binary_search(arr, key):\n",
    "    start, end = 0, len(arr) - 1\n",
    "    isAscending = arr[start] < arr[end]\n",
    "    while start <= end:\n",
    "        # calculate the middle of the current range\n",
    "        mid = start + (end - start) // 2\n",
    "\n",
    "        if key == arr[mid]:\n",
    "            return mid\n",
    "\n",
    "        if isAscending:    # ascending order\n",
    "            if key < arr[mid]:\n",
    "                end = mid - 1    # the 'key' can be in the first half\n",
    "            else:    # key > arr[mid]\n",
    "                start = mid + 1    # the 'key' can be in the second half\n",
    "        else:    # descending order\n",
    "            if key > arr[mid]:\n",
    "                end = mid - 1    # the 'key' can be in the first half\n",
    "            else:    # key < arr[mid]\n",
    "                start = mid + 1    # the 'key' can be in the second half\n",
    "\n",
    "    return -1    # element not found\n",
    "\n",
    "\n",
    "def main():\n",
    "    print(binary_search([4, 6, 10], 10))\n",
    "    print(binary_search([1, 2, 3, 4, 5, 6, 7], 5))\n",
    "    print(binary_search([10, 6, 4], 10))\n",
    "    print(binary_search([10, 6, 4], 4))\n",
    "\n",
    "\n",
    "main()"
   ]
  },
  {
   "cell_type": "markdown",
   "metadata": {},
   "source": [
    "## Ceiling of a Number (medium)"
   ]
  },
  {
   "cell_type": "markdown",
   "metadata": {},
   "source": [
    "Given an array of numbers sorted in an ascending order, find the ceiling of a given number ‘key’. The ceiling of the ‘key’ will be the smallest element in the given array greater than or equal to the ‘key’.\n",
    "\n",
    "Write a function to return the index of the ceiling of the ‘key’. If there isn’t any ceiling return -1."
   ]
  },
  {
   "cell_type": "code",
   "execution_count": 99,
   "metadata": {},
   "outputs": [
    {
     "name": "stdout",
     "output_type": "stream",
     "text": [
      "1\n",
      "4\n",
      "-1\n",
      "0\n"
     ]
    }
   ],
   "source": [
    "def search_ceiling_of_a_number(arr, key):\n",
    "    n = len(arr)\n",
    "    if key > arr[n - 1]:    # if the 'key' is bigger than the biggest element\n",
    "        return -1\n",
    "\n",
    "    start, end = 0, n - 1\n",
    "    while start <= end:\n",
    "        mid = start + (end - start) // 2\n",
    "        if key < arr[mid]:\n",
    "            end = mid - 1\n",
    "        elif key > arr[mid]:\n",
    "            start = mid + 1\n",
    "        else:    # found the key\n",
    "            return mid\n",
    "\n",
    "    # since the loop is running until 'start <= end', so at the end of the while loop, 'start == end+1'\n",
    "    # we are not able to find the element in the given array, so the next big number will be arr[start]\n",
    "    return start\n",
    "\n",
    "\n",
    "def main():\n",
    "    print(search_ceiling_of_a_number([4, 6, 10], 6))\n",
    "    print(search_ceiling_of_a_number([1, 3, 8, 10, 15], 12))\n",
    "    print(search_ceiling_of_a_number([4, 6, 10], 17))\n",
    "    print(search_ceiling_of_a_number([4, 6, 10], -1))\n",
    "\n",
    "\n",
    "main()"
   ]
  },
  {
   "cell_type": "markdown",
   "metadata": {},
   "source": [
    "Given an array of numbers sorted in ascending order, find the floor of a given number ‘key’. The floor of the ‘key’ will be the biggest element in the given array smaller than or equal to the ‘key’\n",
    "\n",
    "Write a function to return the index of the floor of the ‘key’. If there isn’t a floor, return -1."
   ]
  },
  {
   "cell_type": "code",
   "execution_count": 100,
   "metadata": {},
   "outputs": [
    {
     "name": "stdout",
     "output_type": "stream",
     "text": [
      "1\n",
      "3\n",
      "2\n",
      "-1\n"
     ]
    }
   ],
   "source": [
    "def search_floor_of_a_number(arr, key):\n",
    "    if key < arr[0]:    # if the 'key' is smaller than the smallest element\n",
    "        return -1\n",
    "\n",
    "    start, end = 0, len(arr) - 1\n",
    "    while start <= end:\n",
    "        mid = start + (end - start) // 2\n",
    "        if key < arr[mid]:\n",
    "            end = mid - 1\n",
    "        elif key > arr[mid]:\n",
    "            start = mid + 1\n",
    "        else:    # found the key\n",
    "            return mid\n",
    "\n",
    "    # since the loop is running until 'start <= end', so at the end of the while loop, 'start == end+1'\n",
    "    # we are not able to find the element in the given array, so the next smaller number will be arr[end]\n",
    "    return end\n",
    "\n",
    "\n",
    "def main():\n",
    "    print(search_floor_of_a_number([4, 6, 10], 6))\n",
    "    print(search_floor_of_a_number([1, 3, 8, 10, 15], 12))\n",
    "    print(search_floor_of_a_number([4, 6, 10], 17))\n",
    "    print(search_floor_of_a_number([4, 6, 10], -1))\n",
    "\n",
    "\n",
    "main()"
   ]
  },
  {
   "cell_type": "markdown",
   "metadata": {},
   "source": [
    "## Next Letter (medium)"
   ]
  },
  {
   "cell_type": "markdown",
   "metadata": {},
   "source": [
    "Given an array of lowercase letters sorted in ascending order, find the smallest letter in the given array greater than a given ‘key’.\n",
    "\n",
    "Assume the given array is a circular list, which means that the last letter is assumed to be connected with the first letter. This also means that the smallest letter in the given array is greater than the last letter of the array and is also the first letter of the array.\n",
    "\n",
    "Write a function to return the next letter of the given ‘key’."
   ]
  },
  {
   "cell_type": "code",
   "execution_count": 101,
   "metadata": {},
   "outputs": [
    {
     "name": "stdout",
     "output_type": "stream",
     "text": [
      "h\n",
      "c\n",
      "a\n"
     ]
    }
   ],
   "source": [
    "def search_next_letter(letters, key):\n",
    "    n = len(letters)\n",
    "    if key < letters[0] or key > letters[n - 1]:\n",
    "        return letters[0]\n",
    "\n",
    "    start, end = 0, n - 1\n",
    "    while start <= end:\n",
    "        mid = start + (end - start) // 2\n",
    "        if key < letters[mid]:\n",
    "            end = mid - 1\n",
    "        else: # key >= letters[mid]:\n",
    "            start = mid + 1\n",
    "\n",
    "    # since the loop is running until 'start <= end', so at the end of the while loop, 'start == end+1'\n",
    "    return letters[start % n]\n",
    "\n",
    "\n",
    "def main():\n",
    "    print(search_next_letter(['a', 'c', 'f', 'h'], 'f'))\n",
    "    print(search_next_letter(['a', 'c', 'f', 'h'], 'b'))\n",
    "    print(search_next_letter(['a', 'c', 'f', 'h'], 'm'))\n",
    "\n",
    "\n",
    "main()"
   ]
  },
  {
   "cell_type": "markdown",
   "metadata": {},
   "source": [
    "## Number Range (medium)"
   ]
  },
  {
   "cell_type": "markdown",
   "metadata": {},
   "source": [
    "Given an array of numbers sorted in ascending order, find the range of a given number ‘key’. The range of the ‘key’ will be the first and last position of the ‘key’ in the array.\n",
    "\n",
    "Write a function to return the range of the ‘key’. If the ‘key’ is not present return [-1, -1]."
   ]
  },
  {
   "cell_type": "code",
   "execution_count": 102,
   "metadata": {},
   "outputs": [
    {
     "name": "stdout",
     "output_type": "stream",
     "text": [
      "[1, 3]\n",
      "[3, 3]\n",
      "[-1, -1]\n"
     ]
    }
   ],
   "source": [
    "def find_range(arr, key):\n",
    "    result = [- 1, -1]\n",
    "    result[0] = binary_search(arr, key, False)\n",
    "    if result[0] != -1:    # no need to search, if 'key' is not present in the input array\n",
    "        result[1] = binary_search(arr, key, True)\n",
    "    return result\n",
    "\n",
    "\n",
    "# modified Binary Search\n",
    "def binary_search(arr, key, findMaxIndex):\n",
    "    keyIndex = -1\n",
    "    start, end = 0, len(arr) - 1\n",
    "    while start <= end:\n",
    "        mid = start + (end - start) // 2\n",
    "        if key < arr[mid]:\n",
    "            end = mid - 1\n",
    "        elif key > arr[mid]:\n",
    "            start = mid + 1\n",
    "        else:    # key == arr[mid]\n",
    "            keyIndex = mid\n",
    "            if findMaxIndex:\n",
    "                start = mid + 1    # search ahead to find the last index of 'key'\n",
    "            else:\n",
    "                end = mid - 1    # search behind to find the first index of 'key'\n",
    "\n",
    "    return keyIndex\n",
    "\n",
    "\n",
    "def main():\n",
    "    print(find_range([4, 6, 6, 6, 9], 6))\n",
    "    print(find_range([1, 3, 8, 10, 15], 10))\n",
    "    print(find_range([1, 3, 8, 10, 15], 12))\n",
    "\n",
    "\n",
    "main()"
   ]
  },
  {
   "cell_type": "markdown",
   "metadata": {},
   "source": [
    "## Search in a Sorted Infinite Array (medium)"
   ]
  },
  {
   "cell_type": "markdown",
   "metadata": {},
   "source": [
    "Given an infinite sorted array (or an array with unknown size), find if a given number ‘key’ is present in the array. Write a function to return the index of the ‘key’ if it is present in the array, otherwise return -1.\n",
    "\n",
    "Since it is not possible to define an array with infinite (unknown) size, you will be provided with an interface `ArrayReader` to read elements of the array. `ArrayReader.get(index)` will return the number at index; if the array’s size is smaller than the index, it will return `Integer.MAX_VALUE`."
   ]
  },
  {
   "cell_type": "code",
   "execution_count": 103,
   "metadata": {},
   "outputs": [
    {
     "name": "stdout",
     "output_type": "stream",
     "text": [
      "6\n",
      "-1\n",
      "4\n",
      "-1\n"
     ]
    }
   ],
   "source": [
    "import math\n",
    "\n",
    "\n",
    "class ArrayReader:\n",
    "\n",
    "    def __init__(self, arr):\n",
    "        self.arr = arr\n",
    "\n",
    "    def get(self, index):\n",
    "        if index >= len(self.arr):\n",
    "            return math.inf\n",
    "        return self.arr[index]\n",
    "\n",
    "\n",
    "def search_in_infinite_array(reader, key):\n",
    "    # find the proper bounds first\n",
    "    start, end = 0, 1\n",
    "    while reader.get(end) < key:\n",
    "        newStart = end + 1\n",
    "        end += (end - start + 1) * 2\n",
    "        # increase to double the bounds size\n",
    "        start = newStart\n",
    "\n",
    "    return binary_search(reader, key, start, end)\n",
    "\n",
    "\n",
    "def binary_search(reader, key, start, end):\n",
    "    while start <= end:\n",
    "        mid = start + (end - start) // 2\n",
    "        if key < reader.get(mid):\n",
    "            end = mid - 1\n",
    "        elif key > reader.get(mid):\n",
    "            start = mid + 1\n",
    "        else:    # found the key\n",
    "            return mid\n",
    "\n",
    "    return -1\n",
    "\n",
    "\n",
    "def main():\n",
    "    reader = ArrayReader([4, 6, 8, 10, 12, 14, 16, 18, 20, 22, 24, 26, 28, 30])\n",
    "    print(search_in_infinite_array(reader, 16))\n",
    "    print(search_in_infinite_array(reader, 11))\n",
    "    reader = ArrayReader([1, 3, 8, 10, 15])\n",
    "    print(search_in_infinite_array(reader, 15))\n",
    "    print(search_in_infinite_array(reader, 200))\n",
    "\n",
    "\n",
    "main()"
   ]
  },
  {
   "cell_type": "markdown",
   "metadata": {},
   "source": [
    "## Minimum Difference Element (medium)"
   ]
  },
  {
   "cell_type": "markdown",
   "metadata": {},
   "source": [
    "Given an array of numbers sorted in ascending order, find the element in the array that has the minimum difference with the given ‘key’."
   ]
  },
  {
   "cell_type": "code",
   "execution_count": 104,
   "metadata": {},
   "outputs": [
    {
     "name": "stdout",
     "output_type": "stream",
     "text": [
      "6\n",
      "4\n",
      "10\n",
      "10\n"
     ]
    }
   ],
   "source": [
    "def search_min_diff_element(arr, key):\n",
    "    if key < arr[0]:\n",
    "        return arr[0]\n",
    "    n = len(arr)\n",
    "    if key > arr[n - 1]:\n",
    "        return arr[n - 1]\n",
    "\n",
    "    start, end = 0, n - 1\n",
    "    while start <= end:\n",
    "        mid = start + (end - start) // 2\n",
    "        if key < arr[mid]:\n",
    "            end = mid - 1\n",
    "        elif key > arr[mid]:\n",
    "            start = mid + 1\n",
    "        else:\n",
    "            return arr[mid]\n",
    "\n",
    "    # at the end of the while loop, 'start == end+1'\n",
    "    # we are not able to find the element in the given array\n",
    "    # return the element which is closest to the 'key'\n",
    "    if (arr[start] - key) < (key - arr[end]):\n",
    "        return arr[start]\n",
    "    return arr[end]\n",
    "\n",
    "\n",
    "def main():\n",
    "    print(search_min_diff_element([4, 6, 10], 7))\n",
    "    print(search_min_diff_element([4, 6, 10], 4))\n",
    "    print(search_min_diff_element([1, 3, 8, 10, 15], 12))\n",
    "    print(search_min_diff_element([4, 6, 10], 17))\n",
    "\n",
    "\n",
    "main()"
   ]
  },
  {
   "cell_type": "markdown",
   "metadata": {},
   "source": [
    "## Bitonic Array Maximum (easy)"
   ]
  },
  {
   "cell_type": "markdown",
   "metadata": {},
   "source": [
    "Find the maximum value in a given Bitonic array. An array is considered bitonic if it is monotonically increasing and then monotonically decreasing. Monotonically increasing or decreasing means that for any index i in the array `arr[i] != arr[i+1]`."
   ]
  },
  {
   "cell_type": "code",
   "execution_count": 105,
   "metadata": {},
   "outputs": [
    {
     "name": "stdout",
     "output_type": "stream",
     "text": [
      "12\n",
      "8\n",
      "12\n",
      "10\n"
     ]
    }
   ],
   "source": [
    "def find_max_in_bitonic_array(arr):\n",
    "    start, end = 0, len(arr) - 1\n",
    "    while start < end:\n",
    "        mid = start + (end - start) // 2\n",
    "        if arr[mid] > arr[mid + 1]:\n",
    "            end = mid\n",
    "        else:\n",
    "            start = mid + 1\n",
    "\n",
    "    # at the end of the while loop, 'start == end'\n",
    "    return arr[start]\n",
    "\n",
    "\n",
    "def main():\n",
    "    print(find_max_in_bitonic_array([1, 3, 8, 12, 4, 2]))\n",
    "    print(find_max_in_bitonic_array([3, 8, 3, 1]))\n",
    "    print(find_max_in_bitonic_array([1, 3, 8, 12]))\n",
    "    print(find_max_in_bitonic_array([10, 9, 8]))\n",
    "\n",
    "\n",
    "main()"
   ]
  },
  {
   "cell_type": "markdown",
   "metadata": {},
   "source": [
    "## Search Bitonic Array (medium)"
   ]
  },
  {
   "cell_type": "markdown",
   "metadata": {},
   "source": [
    "Given a Bitonic array, find if a given ‘key’ is present in it. An array is considered bitonic if it is monotonically increasing and then monotonically decreasing. Monotonically increasing or decreasing means that for any index i in the array `arr[i] != arr[i+1]`.\n",
    "\n",
    "Write a function to return the index of the ‘key’. If the ‘key’ is not present, return -1."
   ]
  },
  {
   "cell_type": "code",
   "execution_count": 106,
   "metadata": {},
   "outputs": [
    {
     "name": "stdout",
     "output_type": "stream",
     "text": [
      "3\n",
      "1\n",
      "3\n",
      "0\n"
     ]
    }
   ],
   "source": [
    "def search_bitonic_array(arr, key):\n",
    "    maxIndex = find_max(arr)\n",
    "    keyIndex = binary_search(arr, key, 0, maxIndex)\n",
    "    if keyIndex != -1:\n",
    "        return keyIndex\n",
    "    return binary_search(arr, key, maxIndex + 1, len(arr) - 1)\n",
    "\n",
    "\n",
    "# find index of the maximum value in a bitonic array\n",
    "def find_max(arr):\n",
    "    start, end = 0, len(arr) - 1\n",
    "    while start < end:\n",
    "        mid = start + (end - start) // 2\n",
    "        if arr[mid] > arr[mid + 1]:\n",
    "            end = mid\n",
    "        else:\n",
    "            start = mid + 1\n",
    "\n",
    "    # at the end of the while loop, 'start == end'\n",
    "    return start\n",
    "\n",
    "\n",
    "# order-agnostic binary search\n",
    "def binary_search(arr, key, start, end):\n",
    "    while start <= end:\n",
    "        mid = int(start + (end - start) / 2)\n",
    "\n",
    "        if key == arr[mid]:\n",
    "            return mid\n",
    "\n",
    "        if arr[start] < arr[end]:    # ascending order\n",
    "            if key < arr[mid]:\n",
    "                end = mid - 1\n",
    "            else:    # key > arr[mid]\n",
    "                start = mid + 1\n",
    "        else:    # descending order\n",
    "            if key > arr[mid]:\n",
    "                end = mid - 1\n",
    "            else:    # key < arr[mid]\n",
    "                start = mid + 1\n",
    "\n",
    "    return -1    # element is not found\n",
    "\n",
    "\n",
    "def main():\n",
    "    print(search_bitonic_array([1, 3, 8, 4, 3], 4))\n",
    "    print(search_bitonic_array([3, 8, 3, 1], 8))\n",
    "    print(search_bitonic_array([1, 3, 8, 12], 12))\n",
    "    print(search_bitonic_array([10, 9, 8], 10))\n",
    "\n",
    "\n",
    "main()"
   ]
  },
  {
   "cell_type": "markdown",
   "metadata": {},
   "source": [
    "## Search in Rotated Array (medium)"
   ]
  },
  {
   "cell_type": "markdown",
   "metadata": {},
   "source": [
    "Given an array of numbers which is sorted in ascending order and also rotated by some arbitrary number, find if a given ‘key’ is present in it.\n",
    "\n",
    "Write a function to return the index of the ‘key’ in the rotated array. If the ‘key’ is not present, return -1. You can assume that the given array does not have any duplicates."
   ]
  },
  {
   "cell_type": "code",
   "execution_count": 108,
   "metadata": {},
   "outputs": [
    {
     "name": "stdout",
     "output_type": "stream",
     "text": [
      "1\n",
      "4\n"
     ]
    }
   ],
   "source": [
    "def search_rotated_array(arr, key):\n",
    "    start, end = 0, len(arr) - 1\n",
    "    while start <= end:\n",
    "        mid = start + (end - start) // 2\n",
    "        if arr[mid] == key:\n",
    "            return mid\n",
    "\n",
    "        if arr[start] <= arr[mid]:    # left side is sorted in ascending order\n",
    "            if key >= arr[start] and key < arr[mid]:\n",
    "                end = mid - 1\n",
    "            else:    # key > arr[mid]\n",
    "                start = mid + 1\n",
    "        else:    # right side is sorted in ascending order\n",
    "            if key > arr[mid] and key <= arr[end]:\n",
    "                start = mid + 1\n",
    "            else:\n",
    "                end = mid - 1\n",
    "\n",
    "    # we are not able to find the element in the given array\n",
    "    return -1\n",
    "\n",
    "\n",
    "def main():\n",
    "    print(search_rotated_array([10, 15, 1, 3, 8], 15))\n",
    "    print(search_rotated_array([4, 5, 7, 9, 10, -1, 2], 10))\n",
    "\n",
    "main()"
   ]
  },
  {
   "cell_type": "markdown",
   "metadata": {},
   "source": [
    "How do we search in a sorted and rotated array that also has duplicates?"
   ]
  },
  {
   "cell_type": "code",
   "execution_count": 107,
   "metadata": {},
   "outputs": [
    {
     "name": "stdout",
     "output_type": "stream",
     "text": [
      "1\n"
     ]
    }
   ],
   "source": [
    "def search_rotated_with_duplicates(arr, key):\n",
    "    start, end = 0, len(arr) - 1\n",
    "    while start <= end:\n",
    "        mid = start + (end - start) // 2\n",
    "        if arr[mid] == key:\n",
    "            return mid\n",
    "\n",
    "        # the only difference from the previous solution,\n",
    "        # if numbers at indexes start, mid, and end are same, we can't choose a side\n",
    "        # the best we can do, is to skip one number from both ends as key != arr[mid]\n",
    "        if arr[start] == arr[mid] and arr[end] == arr[mid]:\n",
    "            start += 1\n",
    "            end -= 1\n",
    "        elif arr[start] <= arr[mid]:    # left side is sorted in ascending order\n",
    "            if key >= arr[start] and key < arr[mid]:\n",
    "                end = mid - 1\n",
    "            else:    # key > arr[mid]\n",
    "                start = mid + 1\n",
    "\n",
    "        else:    # right side is sorted in ascending order\n",
    "            if key > arr[mid] and key <= arr[end]:\n",
    "                start = mid + 1\n",
    "            else:\n",
    "                end = mid - 1\n",
    "\n",
    "    # we are not able to find the element in the given array\n",
    "    return -1\n",
    "\n",
    "\n",
    "def main():\n",
    "    print(search_rotated_with_duplicates([3, 7, 3, 3, 3], 7))\n",
    "\n",
    "\n",
    "main()"
   ]
  },
  {
   "cell_type": "markdown",
   "metadata": {},
   "source": [
    "## Rotation Count (medium)"
   ]
  },
  {
   "cell_type": "markdown",
   "metadata": {},
   "source": [
    "Given an array of numbers which is sorted in ascending order and is rotated ‘k’ times around a pivot, find ‘k’.\n",
    "\n",
    "You can assume that the array does not have any duplicates."
   ]
  },
  {
   "cell_type": "code",
   "execution_count": 109,
   "metadata": {},
   "outputs": [
    {
     "name": "stdout",
     "output_type": "stream",
     "text": [
      "2\n",
      "5\n",
      "0\n"
     ]
    }
   ],
   "source": [
    "def count_rotations(arr):\n",
    "    start, end = 0, len(arr) - 1\n",
    "    while start < end:\n",
    "        mid = start + (end - start) // 2\n",
    "\n",
    "        # if mid is greater than the next element\n",
    "        if mid < end and arr[mid] > arr[mid + 1]:\n",
    "            return mid + 1\n",
    "\n",
    "        # if mid is smaller than the previous element\n",
    "        if mid > start and arr[mid - 1] > arr[mid]:\n",
    "            return mid\n",
    "\n",
    "        if arr[start] < arr[mid]:    # left side is sorted, so the pivot is on right side\n",
    "            start = mid + 1\n",
    "        else:    # right side is sorted, so the pivot is on the left side\n",
    "            end = mid - 1\n",
    "\n",
    "    return 0    # the array has not been rotated\n",
    "\n",
    "\n",
    "def main():\n",
    "    print(count_rotations([10, 15, 1, 3, 8]))\n",
    "    print(count_rotations([4, 5, 7, 9, 10, -1, 2]))\n",
    "    print(count_rotations([1, 3, 8, 10]))\n",
    "\n",
    "\n",
    "main()"
   ]
  },
  {
   "cell_type": "markdown",
   "metadata": {},
   "source": [
    "How do we find the rotation count of a sorted and rotated array that has duplicates too?"
   ]
  },
  {
   "cell_type": "code",
   "execution_count": 110,
   "metadata": {},
   "outputs": [
    {
     "name": "stdout",
     "output_type": "stream",
     "text": [
      "3\n"
     ]
    }
   ],
   "source": [
    "def count_rotations_with_duplicates(arr):\n",
    "    start, end = 0, len(arr) - 1\n",
    "    while start < end:\n",
    "        mid = start + (end - start) // 2\n",
    "        # if element at mid is greater than the next element\n",
    "        if mid < end and arr[mid] > arr[mid + 1]:\n",
    "            return mid + 1\n",
    "        # if element at mid is smaller than the previous element\n",
    "        if mid > start and arr[mid - 1] > arr[mid]:\n",
    "            return mid\n",
    "\n",
    "        # this is the only difference from the previous solution\n",
    "        # if numbers at indices start, mid, and end are same, we can't choose a side\n",
    "        # the best we can do is to skip one number from both ends if they are not the smallest number\n",
    "        if arr[start] == arr[mid] and arr[end] == arr[mid]:\n",
    "            if arr[start] > arr[start + 1]:    # if element at start+1 is not the smallest\n",
    "                return start + 1\n",
    "            start += 1\n",
    "            if arr[end - 1] > arr[end]:    # if the element at end is not the smallest\n",
    "                return end\n",
    "            end -= 1\n",
    "        # left side is sorted, so the pivot is on right side\n",
    "        elif arr[start] < arr[mid] or (arr[start] == arr[mid] and arr[mid] > arr[end]):\n",
    "            start = mid + 1\n",
    "        else:    # right side is sorted, so the pivot is on the left side\n",
    "            end = mid - 1\n",
    "\n",
    "    return 0    # the array has not been rotated\n",
    "\n",
    "\n",
    "def main():\n",
    "    print(count_rotations_with_duplicates([3, 3, 7, 3]))\n",
    "\n",
    "\n",
    "main()"
   ]
  },
  {
   "cell_type": "markdown",
   "metadata": {},
   "source": [
    "# Bitwise XOR"
   ]
  },
  {
   "cell_type": "markdown",
   "metadata": {},
   "source": [
    "## Single Number (easy)"
   ]
  },
  {
   "cell_type": "markdown",
   "metadata": {},
   "source": [
    "In a non-empty array of integers, every number appears twice except for one, find that single number."
   ]
  },
  {
   "cell_type": "code",
   "execution_count": 111,
   "metadata": {},
   "outputs": [
    {
     "name": "stdout",
     "output_type": "stream",
     "text": [
      "4\n"
     ]
    }
   ],
   "source": [
    "def find_single_number(arr):\n",
    "    num = 0\n",
    "    for i in arr:\n",
    "            num ^= i\n",
    "    return num\n",
    "\n",
    "def main():\n",
    "        arr = [1, 4, 2, 1, 3, 2, 3]\n",
    "        print(find_single_number(arr))\n",
    "\n",
    "main()"
   ]
  },
  {
   "cell_type": "markdown",
   "metadata": {},
   "source": [
    "## Two Single Numbers (medium)"
   ]
  },
  {
   "cell_type": "markdown",
   "metadata": {},
   "source": [
    "In a non-empty array of numbers, every number appears exactly twice except two numbers that appear only once. Find the two numbers that appear only once."
   ]
  },
  {
   "cell_type": "code",
   "execution_count": 112,
   "metadata": {},
   "outputs": [
    {
     "name": "stdout",
     "output_type": "stream",
     "text": [
      "Single numbers are:[6, 4]\n",
      "Single numbers are:[3, 1]\n"
     ]
    }
   ],
   "source": [
    "def find_single_numbers(nums):\n",
    "    # get the XOR of the all the numbers\n",
    "    n1xn2 = 0\n",
    "    for num in nums:\n",
    "        n1xn2 ^= num\n",
    "\n",
    "    # get the rightmost bit that is '1'\n",
    "    rightmost_set_bit = 1\n",
    "    while (rightmost_set_bit & n1xn2) == 0:\n",
    "        rightmost_set_bit = rightmost_set_bit << 1\n",
    "    num1, num2 = 0, 0\n",
    "\n",
    "    for num in nums:\n",
    "        if (num & rightmost_set_bit) != 0:  # the bit is set\n",
    "            num1 ^= num\n",
    "        else:  # the bit is not set\n",
    "            num2 ^= num\n",
    "\n",
    "    return [num1, num2]\n",
    "\n",
    "\n",
    "def main():\n",
    "    print('Single numbers are:' +\n",
    "          str(find_single_numbers([1, 4, 2, 1, 3, 5, 6, 2, 3, 5])))\n",
    "    print('Single numbers are:' + str(find_single_numbers([2, 1, 3, 2])))\n",
    "\n",
    "\n",
    "main()"
   ]
  },
  {
   "cell_type": "markdown",
   "metadata": {},
   "source": [
    "## Complement of Base 10 Number (medium)"
   ]
  },
  {
   "cell_type": "markdown",
   "metadata": {},
   "source": [
    "Every non-negative integer N has a binary representation, for example, 8 can be represented as “1000” in binary and 7 as “0111” in binary.\n",
    "\n",
    "The complement of a binary representation is the number in binary that we get when we change every 1 to a 0 and every 0 to a 1. For example, the binary complement of “1010” is “0101”.\n",
    "\n",
    "For a given positive number N in base-10, return the complement of its binary representation as a base-10 integer."
   ]
  },
  {
   "cell_type": "code",
   "execution_count": 113,
   "metadata": {},
   "outputs": [
    {
     "name": "stdout",
     "output_type": "stream",
     "text": [
      "Bitwise complement is: 7\n",
      "Bitwise complement is: 5\n"
     ]
    }
   ],
   "source": [
    "def calculate_bitwise_complement(num):\n",
    "    # count number of total bits in 'num'\n",
    "    bit_count, n = 0, num\n",
    "    while n > 0:\n",
    "        bit_count += 1\n",
    "        n = n >> 1\n",
    "\n",
    "    # for a number which is a complete power of '2' i.e., it can be written as pow(2, n), if we\n",
    "    # subtract '1' from such a number, we get a number which has 'n' least significant bits set to '1'.\n",
    "    # For example, '4' which is a complete power of '2', and '3' (which is one less than 4) has a binary\n",
    "    # representation of '11' i.e., it has '2' least significant bits set to '1'\n",
    "    all_bits_set = pow(2, bit_count) - 1\n",
    "\n",
    "    # from the solution description: complement = number ^ all_bits_set\n",
    "    return num ^ all_bits_set\n",
    "\n",
    "\n",
    "print('Bitwise complement is: ' + str(calculate_bitwise_complement(8)))\n",
    "print('Bitwise complement is: ' + str(calculate_bitwise_complement(10)))"
   ]
  },
  {
   "cell_type": "markdown",
   "metadata": {},
   "source": [
    "## Problem Statement (hard)\n",
    "Given a binary matrix representing an image, we want to flip the image horizontally, then invert it.\n",
    "\n",
    "To flip an image horizontally means that each row of the image is reversed. For example, flipping [0, 1, 1] horizontally results in [1, 1, 0].\n",
    "\n",
    "To invert an image means that each 0 is replaced by 1, and each 1 is replaced by 0. For example, inverting [1, 1, 0] results in [0, 0, 1]."
   ]
  },
  {
   "cell_type": "code",
   "execution_count": 114,
   "metadata": {},
   "outputs": [
    {
     "name": "stdout",
     "output_type": "stream",
     "text": [
      "[[0, 1, 0], [0, 0, 0], [0, 0, 1]]\n",
      "[[1, 1, 0, 0], [0, 1, 1, 0], [0, 0, 0, 1], [1, 0, 1, 0]]\n"
     ]
    }
   ],
   "source": [
    "def flip_an_invert_image(matrix):\n",
    "    C = len(matrix)\n",
    "    for row in matrix:\n",
    "        for i in range((C+1)//2):\n",
    "            row[i], row[C - i - 1] = row[C - i - 1] ^ 1, row[i] ^ 1\n",
    "            \n",
    "    return matrix\n",
    "\n",
    "def main():\n",
    "        print(flip_an_invert_image([[1,0,1], [1,1,1], [0,1,1]]))\n",
    "        print(flip_an_invert_image([[1,1,0,0],[1,0,0,1],[0,1,1,1],[1,0,1,0]]))\n",
    "\n",
    "main()"
   ]
  },
  {
   "cell_type": "markdown",
   "metadata": {},
   "source": [
    "# Top 'K' Elements"
   ]
  },
  {
   "cell_type": "markdown",
   "metadata": {},
   "source": [
    "## Top 'K' Numbers (easy)"
   ]
  },
  {
   "cell_type": "markdown",
   "metadata": {},
   "source": [
    "Given an unsorted array of numbers, find the ‘K’ largest numbers in it.\n",
    "\n",
    "Note: For a detailed discussion about different approaches to solve this problem, take a look at Kth Smallest Number."
   ]
  },
  {
   "cell_type": "code",
   "execution_count": 115,
   "metadata": {},
   "outputs": [
    {
     "name": "stdout",
     "output_type": "stream",
     "text": [
      "Here are the top K numbers: [5, 12, 11]\n",
      "Here are the top K numbers: [11, 12, 12]\n"
     ]
    }
   ],
   "source": [
    "from heapq import *\n",
    "\n",
    "\n",
    "def find_k_largest_numbers(nums, k):\n",
    "    minHeap = []\n",
    "    # put first 'K' numbers in the min heap\n",
    "    for i in range(k):\n",
    "        heappush(minHeap, nums[i])\n",
    "\n",
    "    # go through the remaining numbers of the array, if the number from the array is bigger than the\n",
    "    # top(smallest) number of the min-heap, remove the top number from heap and add the number from array\n",
    "    for i in range(k, len(nums)):\n",
    "        if nums[i] > minHeap[0]:\n",
    "            heappop(minHeap)\n",
    "            heappush(minHeap, nums[i])\n",
    "\n",
    "    # the heap has the top 'K' numbers, return them in a list\n",
    "    return list(minHeap)\n",
    "\n",
    "\n",
    "def main():\n",
    "\n",
    "    print(\"Here are the top K numbers: \" +\n",
    "                str(find_k_largest_numbers([3, 1, 5, 12, 2, 11], 3)))\n",
    "\n",
    "    print(\"Here are the top K numbers: \" +\n",
    "                str(find_k_largest_numbers([5, 12, 11, -1, 12], 3)))\n",
    "\n",
    "\n",
    "main()"
   ]
  },
  {
   "cell_type": "markdown",
   "metadata": {},
   "source": [
    "## Kth Smallest Number (easy)"
   ]
  },
  {
   "cell_type": "markdown",
   "metadata": {},
   "source": [
    "Given an unsorted array of numbers, find Kth smallest number in it.\n",
    "\n",
    "Please note that it is the Kth smallest number in the sorted order, not the Kth distinct element.\n",
    "\n",
    "Note: For a detailed discussion about different approaches to solve this problem, take a look at Kth Smallest Number."
   ]
  },
  {
   "cell_type": "code",
   "execution_count": 116,
   "metadata": {},
   "outputs": [
    {
     "name": "stdout",
     "output_type": "stream",
     "text": [
      "Kth smallest number is: 5\n",
      "Kth smallest number is: 5\n",
      "Kth smallest number is: 11\n"
     ]
    }
   ],
   "source": [
    "from heapq import *\n",
    "\n",
    "\n",
    "def find_Kth_smallest_number(nums, k):\n",
    "    maxHeap = []\n",
    "    # put first k numbers in the max heap\n",
    "    for i in range(k):\n",
    "        heappush(maxHeap, -nums[i])\n",
    "\n",
    "    # go through the remaining numbers of the array, if the number from the array is smaller than the\n",
    "    # top(biggest) number of the heap, remove the top number from heap and add the number from array\n",
    "    for i in range(k, len(nums)):\n",
    "        if -nums[i] > maxHeap[0]:\n",
    "            heappop(maxHeap)\n",
    "            heappush(maxHeap, -nums[i])\n",
    "\n",
    "    # the root of the heap has the Kth smallest number\n",
    "    return -maxHeap[0]\n",
    "\n",
    "\n",
    "def main():\n",
    "\n",
    "    print(\"Kth smallest number is: \" +\n",
    "                str(find_Kth_smallest_number([1, 5, 12, 2, 11, 5], 3)))\n",
    "\n",
    "    # since there are two 5s in the input array, our 3rd and 4th smallest numbers should be a '5'\n",
    "    print(\"Kth smallest number is: \" +\n",
    "                str(find_Kth_smallest_number([1, 5, 12, 2, 11, 5], 4)))\n",
    "\n",
    "    print(\"Kth smallest number is: \" +\n",
    "                str(find_Kth_smallest_number([5, 12, 11, -1, 12], 3)))\n",
    "\n",
    "\n",
    "main()"
   ]
  },
  {
   "cell_type": "markdown",
   "metadata": {},
   "source": [
    "## 'K' Closest Points to the Origin (easy)"
   ]
  },
  {
   "cell_type": "markdown",
   "metadata": {},
   "source": [
    "Given an array of points in the a $2D$ plane, find ‘K’ closest points to the origin."
   ]
  },
  {
   "cell_type": "code",
   "execution_count": 117,
   "metadata": {},
   "outputs": [
    {
     "name": "stdout",
     "output_type": "stream",
     "text": [
      "Here are the k points closest the origin: [1, 3] [2, -1] "
     ]
    }
   ],
   "source": [
    "from __future__ import print_function\n",
    "from heapq import *\n",
    "\n",
    "\n",
    "class Point:\n",
    "\n",
    "    def __init__(self, x, y):\n",
    "        self.x = x\n",
    "        self.y = y\n",
    "\n",
    "    # used for max-heap\n",
    "    def __lt__(self, other):\n",
    "        return self.distance_from_origin() > other.distance_from_origin()\n",
    "\n",
    "    def distance_from_origin(self):\n",
    "        # ignoring sqrt to calculate the distance\n",
    "        return (self.x * self.x) + (self.y * self.y)\n",
    "\n",
    "    def print_point(self):\n",
    "        print(\"[\" + str(self.x) + \", \" + str(self.y) + \"] \", end='')\n",
    "\n",
    "\n",
    "def find_closest_points(points, k):\n",
    "    maxHeap = []\n",
    "    # put first 'k' points in the max heap\n",
    "    for i in range(k):\n",
    "        heappush(maxHeap, points[i])\n",
    "\n",
    "    # go through the remaining points of the input array, if a point is closer to the origin than the top point\n",
    "    # of the max-heap, remove the top point from heap and add the point from the input array\n",
    "    for i in range(k, len(points)):\n",
    "        if points[i].distance_from_origin() < maxHeap[0].distance_from_origin():\n",
    "            heappop(maxHeap)\n",
    "            heappush(maxHeap, points[i])\n",
    "\n",
    "    # the heap has 'k' points closest to the origin, return them in a list\n",
    "    return list(maxHeap)\n",
    "\n",
    "\n",
    "def main():\n",
    "\n",
    "    result = find_closest_points([Point(1, 3), Point(3, 4), Point(2, -1)], 2)\n",
    "    print(\"Here are the k points closest the origin: \", end='')\n",
    "    for point in result:\n",
    "        point.print_point()\n",
    "\n",
    "\n",
    "main()"
   ]
  },
  {
   "cell_type": "markdown",
   "metadata": {},
   "source": [
    "## Connect Ropes (easy)"
   ]
  },
  {
   "cell_type": "markdown",
   "metadata": {},
   "source": [
    "Given ‘N’ ropes with different lengths, we need to connect these ropes into one big rope with minimum cost. The cost of connecting two ropes is equal to the sum of their lengths."
   ]
  },
  {
   "cell_type": "code",
   "execution_count": 118,
   "metadata": {},
   "outputs": [
    {
     "name": "stdout",
     "output_type": "stream",
     "text": [
      "Minimum cost to connect ropes: 33\n",
      "Minimum cost to connect ropes: 36\n",
      "Minimum cost to connect ropes: 42\n"
     ]
    }
   ],
   "source": [
    "from heapq import *\n",
    "\n",
    "\n",
    "def minimum_cost_to_connect_ropes(ropeLengths):\n",
    "    minHeap = []\n",
    "    # add all ropes to the min heap\n",
    "    for i in ropeLengths:\n",
    "        heappush(minHeap, i)\n",
    "\n",
    "    # go through the values of the heap, in each step take top (lowest) rope lengths from the min heap\n",
    "    # connect them and push the result back to the min heap.\n",
    "    # keep doing this until the heap is left with only one rope\n",
    "    result, temp = 0, 0\n",
    "    while len(minHeap) > 1:\n",
    "        temp = heappop(minHeap) + heappop(minHeap)\n",
    "        result += temp\n",
    "        heappush(minHeap, temp)\n",
    "\n",
    "    return result\n",
    "\n",
    "\n",
    "def main():\n",
    "\n",
    "    print(\"Minimum cost to connect ropes: \" +\n",
    "                str(minimum_cost_to_connect_ropes([1, 3, 11, 5])))\n",
    "    print(\"Minimum cost to connect ropes: \" +\n",
    "                str(minimum_cost_to_connect_ropes([3, 4, 5, 6])))\n",
    "    print(\"Minimum cost to connect ropes: \" +\n",
    "                str(minimum_cost_to_connect_ropes([1, 3, 11, 5, 2])))\n",
    "\n",
    "main()"
   ]
  },
  {
   "cell_type": "markdown",
   "metadata": {},
   "source": [
    "## Top 'K' Frequent Numbers (medium)"
   ]
  },
  {
   "cell_type": "markdown",
   "metadata": {},
   "source": [
    "Given an unsorted array of numbers, find the top ‘K’ frequently occurring numbers in it."
   ]
  },
  {
   "cell_type": "code",
   "execution_count": 119,
   "metadata": {},
   "outputs": [
    {
     "name": "stdout",
     "output_type": "stream",
     "text": [
      "Here are the K frequent numbers: [11, 12]\n",
      "Here are the K frequent numbers: [12, 11]\n"
     ]
    }
   ],
   "source": [
    "from heapq import *\n",
    "\n",
    "\n",
    "def find_k_frequent_numbers(nums, k):\n",
    "\n",
    "    # find the frequency of each number\n",
    "    numFrequencyMap = {}\n",
    "    for num in nums:\n",
    "        numFrequencyMap[num] = numFrequencyMap.get(num, 0) + 1\n",
    "\n",
    "    minHeap = []\n",
    "\n",
    "    # go through all numbers of the numFrequencyMap and push them in the minHeap, which will have\n",
    "    # top k frequent numbers. If the heap size is more than k, we remove the smallest(top) number\n",
    "    for num, frequency in numFrequencyMap.items():\n",
    "        heappush(minHeap, (frequency, num))\n",
    "        if len(minHeap) > k:\n",
    "            heappop(minHeap)\n",
    "\n",
    "    # create a list of top k numbers\n",
    "    topNumbers = []\n",
    "    while minHeap:\n",
    "        topNumbers.append(heappop(minHeap)[1])\n",
    "\n",
    "    return topNumbers\n",
    "\n",
    "\n",
    "def main():\n",
    "\n",
    "    print(\"Here are the K frequent numbers: \" +\n",
    "                str(find_k_frequent_numbers([1, 3, 5, 12, 11, 12, 11], 2)))\n",
    "\n",
    "    print(\"Here are the K frequent numbers: \" +\n",
    "                str(find_k_frequent_numbers([5, 12, 11, 3, 11], 2)))\n",
    "\n",
    "\n",
    "main()"
   ]
  },
  {
   "cell_type": "markdown",
   "metadata": {},
   "source": [
    "## Frequency Sort (medium)"
   ]
  },
  {
   "cell_type": "markdown",
   "metadata": {},
   "source": [
    "Given a string, sort it based on the decreasing frequency of its characters."
   ]
  },
  {
   "cell_type": "code",
   "execution_count": 121,
   "metadata": {},
   "outputs": [
    {
     "name": "stdout",
     "output_type": "stream",
     "text": [
      "String after sorting characters by frequency: ggmmrrPaino\n",
      "String after sorting characters by frequency: bbbaac\n"
     ]
    }
   ],
   "source": [
    "from heapq import *\n",
    "\n",
    "\n",
    "def sort_character_by_frequency(str):\n",
    "\n",
    "    # find the frequency of each character\n",
    "    charFrequencyMap = {}\n",
    "    for char in str:\n",
    "        charFrequencyMap[char] = charFrequencyMap.get(char, 0) + 1\n",
    "\n",
    "    maxHeap = []\n",
    "    # add all characters to the max heap\n",
    "    for char, frequency in charFrequencyMap.items():\n",
    "        heappush(maxHeap, (-frequency, char))\n",
    "\n",
    "    # build a string, appending the most occurring characters first\n",
    "    sortedString = []\n",
    "    while maxHeap:\n",
    "        frequency, char = heappop(maxHeap)\n",
    "        for _ in range(-frequency):\n",
    "            sortedString.append(char)\n",
    "\n",
    "    return ''.join(sortedString)\n",
    "\n",
    "\n",
    "def main():\n",
    "\n",
    "    print(\"String after sorting characters by frequency: \" +\n",
    "                sort_character_by_frequency(\"Programming\"))\n",
    "    print(\"String after sorting characters by frequency: \" +\n",
    "                sort_character_by_frequency(\"abcbab\"))\n",
    "\n",
    "\n",
    "main()"
   ]
  },
  {
   "cell_type": "markdown",
   "metadata": {},
   "source": [
    "## Kth Largest Number in a Stream (medium)"
   ]
  },
  {
   "cell_type": "markdown",
   "metadata": {},
   "source": [
    "Design a class to efficiently find the Kth largest element in a stream of numbers.\n",
    "\n",
    "The class should have the following two things:\n",
    "\n",
    "1. The constructor of the class should accept an integer array containing initial numbers from the stream and an integer ‘K’.\n",
    "2. The class should expose a function `add(int num)` which will store the given number and return the Kth largest number."
   ]
  },
  {
   "cell_type": "code",
   "execution_count": 122,
   "metadata": {},
   "outputs": [
    {
     "name": "stdout",
     "output_type": "stream",
     "text": [
      "4th largest number is: 5\n",
      "4th largest number is: 6\n",
      "4th largest number is: 6\n"
     ]
    }
   ],
   "source": [
    "from heapq import *\n",
    "\n",
    "\n",
    "class KthLargestNumberInStream:\n",
    "    minHeap = []\n",
    "\n",
    "    def __init__(self, nums, k):\n",
    "        self.k = k\n",
    "        # add the numbers in the min heap\n",
    "        for num in nums:\n",
    "            self.add(num)\n",
    "\n",
    "    def add(self, num):\n",
    "        # add the new number in the min heap\n",
    "        heappush(self.minHeap, num)\n",
    "\n",
    "        # if heap has more than 'k' numbers, remove one number\n",
    "        if len(self.minHeap) > self.k:\n",
    "            heappop(self.minHeap)\n",
    "\n",
    "        # return the 'Kth largest number\n",
    "        return self.minHeap[0]\n",
    "\n",
    "\n",
    "def main():\n",
    "\n",
    "    kthLargestNumber = KthLargestNumberInStream([3, 1, 5, 12, 2, 11], 4)\n",
    "    print(\"4th largest number is: \" + str(kthLargestNumber.add(6)))\n",
    "    print(\"4th largest number is: \" + str(kthLargestNumber.add(13)))\n",
    "    print(\"4th largest number is: \" + str(kthLargestNumber.add(4)))\n",
    "\n",
    "\n",
    "main()"
   ]
  },
  {
   "cell_type": "markdown",
   "metadata": {},
   "source": [
    "## 'K' Closest Numbers (medium)"
   ]
  },
  {
   "cell_type": "markdown",
   "metadata": {},
   "source": [
    "Given a sorted number array and two integers ‘K’ and ‘X’, find ‘K’ closest numbers to ‘X’ in the array. Return the numbers in the sorted order. ‘X’ is not necessarily present in the array."
   ]
  },
  {
   "cell_type": "code",
   "execution_count": 123,
   "metadata": {},
   "outputs": [
    {
     "name": "stdout",
     "output_type": "stream",
     "text": [
      "'K' closest numbers to 'X' are: [6, 7, 8]\n",
      "'K' closest numbers to 'X' are: [4, 5, 6]\n",
      "'K' closest numbers to 'X' are: [5, 6, 9]\n"
     ]
    }
   ],
   "source": [
    "from heapq import *\n",
    "\n",
    "\n",
    "def find_closest_elements(arr, K, X):\n",
    "    index = binary_search(arr, X)\n",
    "    low, high = index - K, index + K\n",
    "\n",
    "    low = max(low, 0)    # 'low' should not be less than zero\n",
    "    # 'high' should not be greater the size of the array\n",
    "    high = min(high, len(arr) - 1)\n",
    "\n",
    "    minHeap = []\n",
    "    # add all candidate elements to the min heap, sorted by their absolute difference from 'X'\n",
    "    for i in range(low, high+1):\n",
    "        heappush(minHeap, (abs(arr[i] - X), arr[i]))\n",
    "\n",
    "    # we need the top 'K' elements having smallest difference from 'X'\n",
    "    result = []\n",
    "    for _ in range(K):\n",
    "        result.append(heappop(minHeap)[1])\n",
    "\n",
    "    result.sort()\n",
    "    return result\n",
    "\n",
    "\n",
    "def binary_search(arr,    target):\n",
    "    low, high = 0, len(arr) - 1\n",
    "    while low <= high:\n",
    "        mid = int(low + (high - low) / 2)\n",
    "        if arr[mid] == target:\n",
    "            return mid\n",
    "        if arr[mid] < target:\n",
    "            low = mid + 1\n",
    "        else:\n",
    "            high = mid - 1\n",
    "    if low > 0:\n",
    "        return low - 1\n",
    "    return low\n",
    "\n",
    "\n",
    "def main():\n",
    "    print(\"'K' closest numbers to 'X' are: \" +\n",
    "                str(find_closest_elements([5, 6, 7, 8, 9], 3, 7)))\n",
    "    print(\"'K' closest numbers to 'X' are: \" +\n",
    "                str(find_closest_elements([2, 4, 5, 6, 9], 3, 6)))\n",
    "    print(\"'K' closest numbers to 'X' are: \" +\n",
    "                str(find_closest_elements([2, 4, 5, 6, 9], 3, 10)))\n",
    "\n",
    "\n",
    "main()"
   ]
  },
  {
   "cell_type": "code",
   "execution_count": 124,
   "metadata": {},
   "outputs": [
    {
     "name": "stdout",
     "output_type": "stream",
     "text": [
      "'K' closest numbers to 'X' are: deque([6, 7, 8])\n",
      "'K' closest numbers to 'X' are: deque([4, 5, 6])\n",
      "'K' closest numbers to 'X' are: deque([5, 6, 9])\n"
     ]
    }
   ],
   "source": [
    "from collections import deque\n",
    "\n",
    "\n",
    "def find_closest_elements(arr, K, X):\n",
    "    result = deque()\n",
    "    index = binary_search(arr, X)\n",
    "    leftPointer, rightPointer = index, index + 1\n",
    "    n = len(arr)\n",
    "    for i in range(K):\n",
    "        if leftPointer >= 0 and rightPointer < n:\n",
    "            diff1 = abs(X - arr[leftPointer])\n",
    "            diff2 = abs(X - arr[rightPointer])\n",
    "            if diff1 <= diff2:\n",
    "                result.appendleft(arr[leftPointer])\n",
    "                leftPointer -= 1\n",
    "            else:\n",
    "                result.append(arr[rightPointer])\n",
    "                rightPointer += 1\n",
    "        elif leftPointer >= 0:\n",
    "            result.appendleft(arr[leftPointer])\n",
    "            leftPointer -= 1\n",
    "        elif rightPointer < n:\n",
    "            result.append(arr[rightPointer])\n",
    "            rightPointer += 1\n",
    "\n",
    "    return result\n",
    "\n",
    "\n",
    "def binary_search(arr,    target):\n",
    "    low, high = 0, len(arr) - 1\n",
    "    while low <= high:\n",
    "        mid = int(low + (high - low) / 2)\n",
    "        if arr[mid] == target:\n",
    "            return mid\n",
    "        if arr[mid] < target:\n",
    "            low = mid + 1\n",
    "        else:\n",
    "            high = mid - 1\n",
    "    if low > 0:\n",
    "        return low - 1\n",
    "    return low\n",
    "\n",
    "\n",
    "def main():\n",
    "    print(\"'K' closest numbers to 'X' are: \" +\n",
    "                str(find_closest_elements([5, 6, 7, 8, 9], 3, 7)))\n",
    "    print(\"'K' closest numbers to 'X' are: \" +\n",
    "                str(find_closest_elements([2, 4, 5, 6, 9], 3, 6)))\n",
    "    print(\"'K' closest numbers to 'X' are: \" +\n",
    "                str(find_closest_elements([2, 4, 5, 6, 9], 3, 10)))\n",
    "\n",
    "\n",
    "main()"
   ]
  },
  {
   "cell_type": "markdown",
   "metadata": {},
   "source": [
    "## Maximum Distinct Elements (medium)"
   ]
  },
  {
   "cell_type": "markdown",
   "metadata": {},
   "source": [
    "Given an array of numbers and a number ‘K’, we need to remove ‘K’ numbers from the array such that we are left with maximum distinct numbers."
   ]
  },
  {
   "cell_type": "code",
   "execution_count": 125,
   "metadata": {},
   "outputs": [
    {
     "name": "stdout",
     "output_type": "stream",
     "text": [
      "Maximum distinct numbers after removing K numbers: 3\n",
      "Maximum distinct numbers after removing K numbers: 2\n",
      "Maximum distinct numbers after removing K numbers: 3\n"
     ]
    }
   ],
   "source": [
    "from heapq import *\n",
    "\n",
    "\n",
    "def find_maximum_distinct_elements(nums, k):\n",
    "    distinctElementsCount = 0\n",
    "    if len(nums) <= k:\n",
    "        return distinctElementsCount\n",
    "\n",
    "    # find the frequency of each number\n",
    "    numFrequencyMap = {}\n",
    "    for i in nums:\n",
    "        numFrequencyMap[i] = numFrequencyMap.get(i, 0) + 1\n",
    "\n",
    "    minHeap = []\n",
    "    # insert all numbers with frequency greater than '1' into the min-heap\n",
    "    for num, frequency in numFrequencyMap.items():\n",
    "        if frequency == 1:\n",
    "            distinctElementsCount += 1\n",
    "        else:\n",
    "            heappush(minHeap, (frequency, num))\n",
    "\n",
    "    # following a greedy approach, try removing the least frequent numbers first from the min-heap\n",
    "    while k > 0 and minHeap:\n",
    "        frequency, num = heappop(minHeap)\n",
    "        # to make an element distinct, we need to remove all of its occurrences except one\n",
    "        k -= frequency - 1\n",
    "        if k >= 0:\n",
    "            distinctElementsCount += 1\n",
    "\n",
    "    # if k > 0, this means we have to remove some distinct numbers\n",
    "    if k > 0:\n",
    "        distinctElementsCount -= k\n",
    "\n",
    "    return distinctElementsCount\n",
    "\n",
    "\n",
    "def main():\n",
    "\n",
    "    print(\"Maximum distinct numbers after removing K numbers: \" +\n",
    "                str(find_maximum_distinct_elements([7, 3, 5, 8, 5, 3, 3], 2)))\n",
    "    print(\"Maximum distinct numbers after removing K numbers: \" +\n",
    "                str(find_maximum_distinct_elements([3, 5, 12, 11, 12], 3)))\n",
    "    print(\"Maximum distinct numbers after removing K numbers: \" +\n",
    "                str(find_maximum_distinct_elements([1, 2, 3, 3, 3, 3, 4, 4, 5, 5, 5], 2)))\n",
    "\n",
    "\n",
    "main()"
   ]
  },
  {
   "cell_type": "markdown",
   "metadata": {},
   "source": [
    "## Sum of Elements (medium)"
   ]
  },
  {
   "cell_type": "markdown",
   "metadata": {},
   "source": [
    "Given an array, find the sum of all numbers between the K1’th and K2’th smallest elements of that array."
   ]
  },
  {
   "cell_type": "code",
   "execution_count": 126,
   "metadata": {},
   "outputs": [
    {
     "name": "stdout",
     "output_type": "stream",
     "text": [
      "Sum of all numbers between k1 and k2 smallest numbers: 23\n",
      "Sum of all numbers between k1 and k2 smallest numbers: 12\n"
     ]
    }
   ],
   "source": [
    "from heapq import *\n",
    "\n",
    "\n",
    "def find_sum_of_elements(nums, k1, k2):\n",
    "    minHeap = []\n",
    "    # insert all numbers to the min heap\n",
    "    for num in nums:\n",
    "        heappush(minHeap, num)\n",
    "\n",
    "    # remove k1 small numbers from the min heap\n",
    "    for _ in range(k1):\n",
    "        heappop(minHeap)\n",
    "\n",
    "    elementSum = 0\n",
    "    # sum next k2-k1-1 numbers\n",
    "    for _ in range(k2 - k1 - 1):\n",
    "        elementSum += heappop(minHeap)\n",
    "\n",
    "    return elementSum\n",
    "\n",
    "\n",
    "def main():\n",
    "\n",
    "    print(\"Sum of all numbers between k1 and k2 smallest numbers: \" +\n",
    "                str(find_sum_of_elements([1, 3, 12, 5, 15, 11], 3, 6)))\n",
    "    print(\"Sum of all numbers between k1 and k2 smallest numbers: \" +\n",
    "                str(find_sum_of_elements([3, 5, 8, 7], 1, 4)))\n",
    "\n",
    "\n",
    "main()"
   ]
  },
  {
   "cell_type": "code",
   "execution_count": 128,
   "metadata": {},
   "outputs": [
    {
     "name": "stdout",
     "output_type": "stream",
     "text": [
      "Sum of all numbers between k1 and k2 smallest numbers: 23\n",
      "Sum of all numbers between k1 and k2 smallest numbers: 12\n"
     ]
    }
   ],
   "source": [
    "from heapq import *\n",
    "\n",
    "\n",
    "def find_sum_of_elements(nums, k1, k2):\n",
    "    maxHeap = []\n",
    "    # keep smallest k2 numbers in the max heap\n",
    "    for i in range(len(nums)):\n",
    "        if i < k2 - 1:\n",
    "            heappush(maxHeap, -nums[i])\n",
    "        elif nums[i] < -maxHeap[0]:\n",
    "            heappop(maxHeap) # as we are interested only in the smallest k2 numbers\n",
    "            heappush(maxHeap, -nums[i])\n",
    "\n",
    "    # get the sum of numbers between k1 and k2 indices\n",
    "    # these numbers will be at the top of the max heap\n",
    "    elementSum = 0\n",
    "    for _ in range(k2 - k1 - 1):\n",
    "        elementSum += -heappop(maxHeap)\n",
    "\n",
    "    return elementSum\n",
    "\n",
    "\n",
    "def main():\n",
    "\n",
    "    print(\"Sum of all numbers between k1 and k2 smallest numbers: \" +\n",
    "                str(find_sum_of_elements([1, 3, 12, 5, 15, 11], 3, 6)))\n",
    "    print(\"Sum of all numbers between k1 and k2 smallest numbers: \" +\n",
    "                str(find_sum_of_elements([3, 5, 8, 7], 1, 4)))\n",
    "\n",
    "\n",
    "main()"
   ]
  },
  {
   "cell_type": "markdown",
   "metadata": {},
   "source": [
    "## Rearrange String (hard)"
   ]
  },
  {
   "cell_type": "markdown",
   "metadata": {},
   "source": [
    "Given a string, find if its letters can be rearranged in such a way that no two same characters come next to each other."
   ]
  },
  {
   "cell_type": "code",
   "execution_count": 129,
   "metadata": {},
   "outputs": [
    {
     "name": "stdout",
     "output_type": "stream",
     "text": [
      "Rearranged string:    papap\n",
      "Rearranged string:    gmrPagimnor\n",
      "Rearranged string:    \n"
     ]
    }
   ],
   "source": [
    "from heapq import *\n",
    "\n",
    "\n",
    "def rearrange_string(str):\n",
    "    charFrequencyMap = {}\n",
    "    for char in str:\n",
    "        charFrequencyMap[char] = charFrequencyMap.get(char, 0) + 1\n",
    "\n",
    "    maxHeap = []\n",
    "    # add all characters to the max heap\n",
    "    for char, frequency in charFrequencyMap.items():\n",
    "        heappush(maxHeap, (-frequency, char))\n",
    "\n",
    "    previousChar, previousFrequency = None, 0\n",
    "    resultString = []\n",
    "    while maxHeap:\n",
    "        frequency, char = heappop(maxHeap)\n",
    "        # add the previous entry back in the heap if its frequency is greater than zero\n",
    "        if previousChar and -previousFrequency > 0:\n",
    "            heappush(maxHeap, (previousFrequency, previousChar))\n",
    "        # append the current character to the result string and decrement its count\n",
    "        resultString.append(char)\n",
    "        previousChar = char\n",
    "        previousFrequency = frequency+1    # decrement the frequency\n",
    "\n",
    "    # if we were successful in appending all the characters to the result string, return it\n",
    "    return ''.join(resultString) if len(resultString) == len(str) else \"\"\n",
    "\n",
    "\n",
    "def main():\n",
    "    print(\"Rearranged string:    \" + rearrange_string(\"aappp\"))\n",
    "    print(\"Rearranged string:    \" + rearrange_string(\"Programming\"))\n",
    "    print(\"Rearranged string:    \" + rearrange_string(\"aapa\"))\n",
    "\n",
    "\n",
    "main()"
   ]
  },
  {
   "cell_type": "markdown",
   "metadata": {},
   "source": [
    "## Rearrange String K Distance Apart (hard)"
   ]
  },
  {
   "cell_type": "markdown",
   "metadata": {},
   "source": [
    "Given a string and a number ‘K’, find if the string can be rearranged such that the same characters are at least ‘K’ distance apart from each other."
   ]
  },
  {
   "cell_type": "code",
   "execution_count": 130,
   "metadata": {},
   "outputs": [
    {
     "name": "stdout",
     "output_type": "stream",
     "text": [
      "Reorganized string: gmrPagimnor\n",
      "Reorganized string: mpmp\n",
      "Reorganized string: aba\n",
      "Reorganized string: \n"
     ]
    }
   ],
   "source": [
    "from heapq import *\n",
    "from collections import deque\n",
    "\n",
    "\n",
    "def reorganize_string(str, k):\n",
    "    if k <= 1: \n",
    "        return str\n",
    "\n",
    "    charFrequencyMap = {}\n",
    "    for char in str:\n",
    "        charFrequencyMap[char] = charFrequencyMap.get(char, 0) + 1\n",
    "\n",
    "    maxHeap = []\n",
    "    # add all characters to the max heap\n",
    "    for char, frequency in charFrequencyMap.items():\n",
    "        heappush(maxHeap, (-frequency, char))\n",
    "\n",
    "    queue = deque()\n",
    "    resultString = []\n",
    "    while maxHeap:\n",
    "        frequency, char = heappop(maxHeap)\n",
    "        # append the current character to the result string and decrement its count\n",
    "        resultString.append(char)\n",
    "        # decrement the frequency and append to the queue\n",
    "        queue.append((char, frequency+1))\n",
    "        if len(queue) == k:\n",
    "            char, frequency = queue.popleft()\n",
    "            if -frequency > 0:\n",
    "                heappush(maxHeap, (frequency, char))\n",
    "\n",
    "    # if we were successful in appending all the characters to the result string, return it\n",
    "    return ''.join(resultString) if len(resultString) == len(str) else \"\"\n",
    "\n",
    "\n",
    "def main():\n",
    "    print(\"Reorganized string: \" + reorganize_string(\"Programming\", 3))\n",
    "    print(\"Reorganized string: \" + reorganize_string(\"mmpp\", 2))\n",
    "    print(\"Reorganized string: \" + reorganize_string(\"aab\", 2))\n",
    "    print(\"Reorganized string: \" + reorganize_string(\"aapa\", 3))\n",
    "\n",
    "\n",
    "main()"
   ]
  },
  {
   "cell_type": "markdown",
   "metadata": {},
   "source": [
    "## Scheduling Tasks (hard)"
   ]
  },
  {
   "cell_type": "markdown",
   "metadata": {},
   "source": [
    "You are given a list of tasks that need to be run, in any order, on a server. Each task will take one CPU interval to execute but once a task has finished, it has a cooling period during which it can’t be run again. If the cooling period for all tasks is ‘K’ intervals, find the minimum number of CPU intervals that the server needs to finish all tasks.\n",
    "\n",
    "If at any time the server can’t execute any task then it must stay idle."
   ]
  },
  {
   "cell_type": "code",
   "execution_count": 131,
   "metadata": {},
   "outputs": [
    {
     "name": "stdout",
     "output_type": "stream",
     "text": [
      "Minimum intervals needed to execute all tasks: 7\n",
      "Minimum intervals needed to execute all tasks: 5\n"
     ]
    }
   ],
   "source": [
    "from heapq import *\n",
    "\n",
    "\n",
    "def schedule_tasks(tasks, k):\n",
    "    intervalCount = 0\n",
    "    taskFrequencyMap = {}\n",
    "    for char in tasks:\n",
    "        taskFrequencyMap[char] = taskFrequencyMap.get(char, 0) + 1\n",
    "\n",
    "    maxHeap = []\n",
    "    # add all tasks to the max heap\n",
    "    for char, frequency in taskFrequencyMap.items():\n",
    "        heappush(maxHeap, (-frequency, char))\n",
    "\n",
    "    while maxHeap:\n",
    "        waitList = []\n",
    "        n = k + 1    # try to execute as many as 'k+1' tasks from the max-heap\n",
    "        while n > 0 and maxHeap:\n",
    "            intervalCount += 1\n",
    "            frequency, char = heappop(maxHeap)\n",
    "            if -frequency > 1:\n",
    "                # decrement the frequency and add to the waitList\n",
    "                waitList.append((frequency+1, char))\n",
    "            n -= 1\n",
    "\n",
    "        # put all the waiting list back on the heap\n",
    "        for frequency, char in waitList:\n",
    "            heappush(maxHeap, (frequency, char))\n",
    "\n",
    "        if maxHeap:\n",
    "            intervalCount += n    # we'll be having 'n' idle intervals for the next iteration\n",
    "\n",
    "    return intervalCount\n",
    "\n",
    "\n",
    "def main():\n",
    "    print(\"Minimum intervals needed to execute all tasks: \" +\n",
    "                str(schedule_tasks(['a', 'a', 'a', 'b', 'c', 'c'], 2)))\n",
    "    print(\"Minimum intervals needed to execute all tasks: \" +\n",
    "                str(schedule_tasks(['a', 'b', 'a'], 3)))\n",
    "\n",
    "\n",
    "main()"
   ]
  },
  {
   "cell_type": "markdown",
   "metadata": {},
   "source": [
    "## Frequency Stack (hard)"
   ]
  },
  {
   "cell_type": "markdown",
   "metadata": {},
   "source": [
    "Design a class that simulates a Stack data structure, implementing the following two operations:\n",
    "\n",
    "1. `push(int num)`: Pushes the number ‘num’ on the stack.\n",
    "2. `pop()`: Returns the most frequent number in the stack. If there is a tie, return the number which was pushed later."
   ]
  },
  {
   "cell_type": "code",
   "execution_count": 132,
   "metadata": {},
   "outputs": [
    {
     "name": "stdout",
     "output_type": "stream",
     "text": [
      "2\n",
      "1\n",
      "2\n"
     ]
    }
   ],
   "source": [
    "from heapq import *\n",
    "\n",
    "\n",
    "class Element:\n",
    "\n",
    "    def __init__(self, number, frequency, sequenceNumber):\n",
    "        self.number = number\n",
    "        self.frequency = frequency\n",
    "        self.sequenceNumber = sequenceNumber\n",
    "\n",
    "    def __lt__(self, other):\n",
    "        # higher frequency wins\n",
    "        if self.frequency != other.frequency:\n",
    "            return self.frequency > other.frequency\n",
    "        # if both elements have same frequency, return the element that was pushed later\n",
    "        return self.sequenceNumber > other.sequenceNumber\n",
    "\n",
    "\n",
    "class FrequencyStack:\n",
    "    sequenceNumber = 0\n",
    "    maxHeap = []\n",
    "    frequencyMap = {}\n",
    "\n",
    "    def push(self, num):\n",
    "        self.frequencyMap[num] = self.frequencyMap.get(num, 0) + 1\n",
    "        heappush(self.maxHeap, Element(\n",
    "            num, self.frequencyMap[num], self.sequenceNumber))\n",
    "        self.sequenceNumber += 1\n",
    "\n",
    "    def pop(self):\n",
    "        num = heappop(self.maxHeap).number\n",
    "        # decrement the frequency or remove if this is the last number\n",
    "        if self.frequencyMap[num] > 1:\n",
    "            self.frequencyMap[num] -= 1\n",
    "        else:\n",
    "            del self.frequencyMap[num]\n",
    "\n",
    "        return num\n",
    "\n",
    "\n",
    "def main():\n",
    "    frequencyStack = FrequencyStack()\n",
    "    frequencyStack.push(1)\n",
    "    frequencyStack.push(2)\n",
    "    frequencyStack.push(3)\n",
    "    frequencyStack.push(2)\n",
    "    frequencyStack.push(1)\n",
    "    frequencyStack.push(2)\n",
    "    frequencyStack.push(5)\n",
    "    print(frequencyStack.pop())\n",
    "    print(frequencyStack.pop())\n",
    "    print(frequencyStack.pop())\n",
    "\n",
    "\n",
    "main()"
   ]
  },
  {
   "cell_type": "markdown",
   "metadata": {},
   "source": [
    "# K-way Merge"
   ]
  },
  {
   "cell_type": "markdown",
   "metadata": {},
   "source": [
    "## Merge K Sorted Lists (medium)"
   ]
  },
  {
   "cell_type": "markdown",
   "metadata": {},
   "source": [
    "Given an array of ‘K’ sorted LinkedLists, merge them into one sorted list."
   ]
  },
  {
   "cell_type": "code",
   "execution_count": 1,
   "metadata": {},
   "outputs": [
    {
     "name": "stdout",
     "output_type": "stream",
     "text": [
      "Here are the elements form the merged list: 1 2 3 3 4 6 6 7 8 "
     ]
    }
   ],
   "source": [
    "from __future__ import print_function\n",
    "from heapq import *\n",
    "\n",
    "\n",
    "class ListNode:\n",
    "    def __init__(self, value):\n",
    "        self.value = value\n",
    "        self.next = None\n",
    "\n",
    "    # used for the min-heap\n",
    "    def __lt__(self, other):\n",
    "        return self.value < other.value\n",
    "\n",
    "\n",
    "def merge_lists(lists):\n",
    "    minHeap = []\n",
    "\n",
    "    # put the root of each list in the min heap\n",
    "    for root in lists:\n",
    "        if root is not None:\n",
    "            heappush(minHeap, root)\n",
    "\n",
    "    # take the smallest(top) element form the min-heap and add it to the result\n",
    "    # if the top element has a next element add it to the heap\n",
    "    resultHead, resultTail = None, None\n",
    "    while minHeap:\n",
    "        node = heappop(minHeap)\n",
    "        if resultHead is None:\n",
    "            resultHead = resultTail = node\n",
    "        else:\n",
    "            resultTail.next = node\n",
    "            resultTail = resultTail.next\n",
    "\n",
    "        if node.next is not None:\n",
    "            heappush(minHeap, node.next)\n",
    "\n",
    "    return resultHead\n",
    "\n",
    "\n",
    "def main():\n",
    "    l1 = ListNode(2)\n",
    "    l1.next = ListNode(6)\n",
    "    l1.next.next = ListNode(8)\n",
    "\n",
    "    l2 = ListNode(3)\n",
    "    l2.next = ListNode(6)\n",
    "    l2.next.next = ListNode(7)\n",
    "\n",
    "    l3 = ListNode(1)\n",
    "    l3.next = ListNode(3)\n",
    "    l3.next.next = ListNode(4)\n",
    "\n",
    "    result = merge_lists([l1, l2, l3])\n",
    "    print(\"Here are the elements form the merged list: \", end='')\n",
    "    while result is not None:\n",
    "        print(str(result.value) + \" \", end='')\n",
    "        result = result.next\n",
    "\n",
    "\n",
    "main()"
   ]
  },
  {
   "cell_type": "markdown",
   "metadata": {},
   "source": [
    "## Kth Smallest Number in M Sorted Lists (Medium)"
   ]
  },
  {
   "cell_type": "markdown",
   "metadata": {},
   "source": [
    "Given ‘M’ sorted arrays, find the K’th smallest number among all the arrays."
   ]
  },
  {
   "cell_type": "code",
   "execution_count": 3,
   "metadata": {},
   "outputs": [
    {
     "name": "stdout",
     "output_type": "stream",
     "text": [
      "Kth smallest number is: 4\n"
     ]
    }
   ],
   "source": [
    "from heapq import *\n",
    "\n",
    "\n",
    "def find_Kth_smallest(lists, k):\n",
    "    minHeap = []\n",
    "\n",
    "    # put the 1st element of each list in the min heap\n",
    "    for i in range(len(lists)):\n",
    "        heappush(minHeap, (lists[i][0], 0, lists[i]))\n",
    "\n",
    "    # take the smallest(top) element form the min heap, if the running count is equal to k return the number\n",
    "    numberCount, number = 0, 0\n",
    "    while minHeap:\n",
    "        number, i, list = heappop(minHeap)\n",
    "        numberCount += 1\n",
    "        if numberCount == k:\n",
    "            break\n",
    "        # if the array of the top element has more elements, add the next element to the heap\n",
    "        if len(list) > i+1:\n",
    "            heappush(minHeap, (list[i+1], i+1, list))\n",
    "\n",
    "    return number\n",
    "\n",
    "\n",
    "def main():\n",
    "    print(\"Kth smallest number is: \" +\n",
    "          str(find_Kth_smallest([[2, 6, 8], [3, 6, 7], [1, 3, 4]], 5)))\n",
    "\n",
    "\n",
    "main()"
   ]
  },
  {
   "cell_type": "markdown",
   "metadata": {},
   "source": [
    "##  Kth Smallest Number in a Sorted Matrix (Hard)"
   ]
  },
  {
   "cell_type": "markdown",
   "metadata": {},
   "source": [
    "Given an $N * N$ matrix where each row and column is sorted in ascending order, find the Kth smallest element in the matrix."
   ]
  },
  {
   "cell_type": "code",
   "execution_count": 5,
   "metadata": {},
   "outputs": [
    {
     "name": "stdout",
     "output_type": "stream",
     "text": [
      "Kth smallest number is: 7\n"
     ]
    }
   ],
   "source": [
    "from heapq import *\n",
    "\n",
    "\n",
    "def find_Kth_smallest(matrix, k):\n",
    "        minHeap = []\n",
    "\n",
    "        # put the 1st element of each row in the min heap\n",
    "        # we don't need to push more than 'k' elements in the heap\n",
    "        for i in range(min(k, len(matrix))):\n",
    "                heappush(minHeap, (matrix[i][0], 0, matrix[i]))\n",
    "\n",
    "        # take the smallest(top) element form the min heap, if the running count is equal to k' return the number\n",
    "        # if the row of the top element has more elements, add the next element to the heap\n",
    "        numberCount, number = 0, 0\n",
    "        while minHeap:\n",
    "                number, i, row = heappop(minHeap)\n",
    "                numberCount += 1\n",
    "                if numberCount == k:\n",
    "                        break\n",
    "                if len(row) > i+1:\n",
    "                        heappush(minHeap, (row[i+1], i+1, row))\n",
    "        return number\n",
    "\n",
    "\n",
    "def main():\n",
    "        print(\"Kth smallest number is: \" +\n",
    "              str(find_Kth_smallest([[2, 6, 8], [3, 7, 10], [5, 8, 11]], 5)))\n",
    "\n",
    "\n",
    "main()"
   ]
  },
  {
   "cell_type": "code",
   "execution_count": 6,
   "metadata": {},
   "outputs": [
    {
     "name": "stdout",
     "output_type": "stream",
     "text": [
      "Kth smallest number is: 2\n",
      "Kth smallest number is: -5\n",
      "Kth smallest number is: 7\n",
      "Kth smallest number is: 13\n"
     ]
    }
   ],
   "source": [
    "def find_Kth_smallest(matrix, k):\n",
    "    n = len(matrix)\n",
    "    start, end = matrix[0][0], matrix[n - 1][n - 1]\n",
    "    while start < end:\n",
    "        mid = start + (end - start) / 2\n",
    "        smaller, larger = (matrix[0][0], matrix[n - 1][n - 1])\n",
    "\n",
    "        count, smaller, larger = count_less_equal(matrix, mid, smaller, larger)\n",
    "\n",
    "        if count == k:\n",
    "            return smaller\n",
    "        if count < k:\n",
    "            start = larger    # search higher\n",
    "        else:\n",
    "            end = smaller    # search lower\n",
    "\n",
    "    return start\n",
    "    \n",
    "\n",
    "def count_less_equal(matrix, mid, smaller, larger):\n",
    "    count, n = 0, len(matrix)\n",
    "    row, col = n - 1, 0\n",
    "    while row >= 0 and col < n:\n",
    "        if matrix[row][col] > mid:\n",
    "            # as matrix[row][col] is bigger than the mid, let's keep track of the\n",
    "            # smallest number greater than the mid\n",
    "            larger = min(larger, matrix[row][col])\n",
    "            row -= 1\n",
    "        else:\n",
    "            # as matrix[row][col] is less than or equal to the mid, let's keep track of the\n",
    "            # biggest number less than or equal to the mid\n",
    "            smaller = max(smaller, matrix[row][col])\n",
    "            count += row + 1\n",
    "            col += 1\n",
    "\n",
    "    return count, smaller, larger\n",
    "\n",
    "\n",
    "def main():\n",
    "    print(\"Kth smallest number is: \" +\n",
    "          str(find_Kth_smallest([[1, 4], [2, 5]], 2)))\n",
    "\n",
    "    print(\"Kth smallest number is: \" +\n",
    "          str(find_Kth_smallest([[-5]], 1)))\n",
    "\n",
    "    print(\"Kth smallest number is: \" +\n",
    "          str(find_Kth_smallest([[2, 6, 8], [3, 7, 10], [5, 8, 11]], 5)))\n",
    "\n",
    "    print(\"Kth smallest number is: \" +\n",
    "          str(find_Kth_smallest([[1, 5, 9], [10, 11, 13], [12, 13, 15]], 8)))\n",
    "\n",
    "\n",
    "main()"
   ]
  },
  {
   "cell_type": "markdown",
   "metadata": {},
   "source": [
    "## Smallest Number Range (Hard)"
   ]
  },
  {
   "cell_type": "markdown",
   "metadata": {},
   "source": [
    "Given ‘M’ sorted arrays, find the smallest range that includes at least one number from each of the ‘M’ lists."
   ]
  },
  {
   "cell_type": "code",
   "execution_count": 8,
   "metadata": {},
   "outputs": [
    {
     "name": "stdout",
     "output_type": "stream",
     "text": [
      "Smallest range is: [4, 7]\n"
     ]
    }
   ],
   "source": [
    "from heapq import *\n",
    "import math\n",
    "\n",
    "\n",
    "def find_smallest_range(lists):\n",
    "    minHeap = []\n",
    "    rangeStart, rangeEnd = 0, math.inf\n",
    "    currentMaxNumber = -math.inf\n",
    "\n",
    "    # put the 1st element of each array in the max heap\n",
    "    for arr in lists:\n",
    "        heappush(minHeap, (arr[0], 0, arr))\n",
    "        currentMaxNumber = max(currentMaxNumber, arr[0])\n",
    "\n",
    "    # take the smallest(top) element form the min heap, if it gives us smaller range, update the ranges\n",
    "    # if the array of the top element has more elements, insert the next element in the heap\n",
    "    while len(minHeap) == len(lists):\n",
    "        num, i, arr = heappop(minHeap)\n",
    "        if rangeEnd - rangeStart > currentMaxNumber - num:\n",
    "            rangeStart = num\n",
    "            rangeEnd = currentMaxNumber\n",
    "\n",
    "        if len(arr) > i+1:\n",
    "            # insert the next element in the heap\n",
    "            heappush(minHeap, (arr[i+1], i+1, arr))\n",
    "            currentMaxNumber = max(currentMaxNumber, arr[i+1])\n",
    "\n",
    "    return [rangeStart, rangeEnd]\n",
    "\n",
    "\n",
    "def main():\n",
    "    print(\"Smallest range is: \" +\n",
    "          str(find_smallest_range([[1, 5, 8], [4, 12], [7, 8, 10]])))\n",
    "\n",
    "\n",
    "main()"
   ]
  },
  {
   "cell_type": "markdown",
   "metadata": {},
   "source": [
    "## K Pairs with Largest Sums (Hard)"
   ]
  },
  {
   "cell_type": "markdown",
   "metadata": {},
   "source": [
    "Given two sorted arrays in descending order, find ‘K’ pairs with the largest sum where each pair consists of numbers from both the arrays."
   ]
  },
  {
   "cell_type": "code",
   "execution_count": 10,
   "metadata": {},
   "outputs": [
    {
     "name": "stdout",
     "output_type": "stream",
     "text": [
      "Pairs with largest sum are: [[9, 3], [9, 6], [8, 6]]\n"
     ]
    }
   ],
   "source": [
    "from __future__ import print_function\n",
    "from heapq import *\n",
    "\n",
    "\n",
    "def find_k_largest_pairs(nums1, nums2, k):\n",
    "    minHeap = []\n",
    "    for i in range(0, min(k, len(nums1))):\n",
    "        for j in range(min(k, len(nums2))):\n",
    "            if len(minHeap) < k:\n",
    "                heappush(minHeap, (nums1[i] + nums2[j], i, j))\n",
    "            else:\n",
    "                # if the sum of the two numbers from the two arrays is smaller than the smallest(top)\n",
    "                # element of the heap, we can 'break' here. Since the arrays are sorted in the\n",
    "                # descending order, we'll not be able to find a pair with a higher sum moving forward\n",
    "                if nums1[i] + nums2[j] < minHeap[0][0]:\n",
    "                    break\n",
    "                else:    # we have a pair with a larger sum, remove top and insert this pair in the heap\n",
    "                    heappop(minHeap)\n",
    "                    heappush(minHeap, (nums1[i] + nums2[j], i, j))\n",
    "\n",
    "    result = []\n",
    "    for (num, i, j) in minHeap:\n",
    "        result.append([nums1[i], nums2[j]])\n",
    "\n",
    "    return result\n",
    "\n",
    "\n",
    "def main():\n",
    "    print(\"Pairs with largest sum are: \" +\n",
    "          str(find_k_largest_pairs([9, 8, 2], [6, 3, 1], 3)))\n",
    "\n",
    "\n",
    "main()"
   ]
  },
  {
   "cell_type": "markdown",
   "metadata": {},
   "source": [
    "# 0/1 Knapsack (Dynamic Programming)"
   ]
  },
  {
   "cell_type": "markdown",
   "metadata": {},
   "source": [
    "## 0/1 Knapsack (medium)"
   ]
  },
  {
   "cell_type": "markdown",
   "metadata": {},
   "source": [
    "Given two integer arrays to represent weights and profits of ‘N’ items, we need to find a subset of these items which will give us maximum profit such that their cumulative weight is not more than a given number ‘C’. Each item can only be selected once, which means either we put an item in the knapsack or we skip it."
   ]
  },
  {
   "cell_type": "markdown",
   "metadata": {},
   "source": [
    "### Basic Solution"
   ]
  },
  {
   "cell_type": "code",
   "execution_count": 12,
   "metadata": {},
   "outputs": [
    {
     "name": "stdout",
     "output_type": "stream",
     "text": [
      "22\n",
      "17\n"
     ]
    }
   ],
   "source": [
    "def solve_knapsack(profits, weights, capacity):\n",
    "    return knapsack_recursive(profits, weights, capacity, 0)\n",
    "\n",
    "\n",
    "def knapsack_recursive(profits, weights, capacity, currentIndex):\n",
    "    # base checks\n",
    "    if capacity <= 0 or currentIndex >= len(profits):\n",
    "        return 0\n",
    "\n",
    "    # recursive call after choosing the element at the currentIndex\n",
    "    # if the weight of the element at currentIndex exceeds the capacity, we    shouldn't process this\n",
    "    profit1 = 0\n",
    "    if weights[currentIndex] <= capacity:\n",
    "        profit1 = profits[currentIndex] + knapsack_recursive(\n",
    "            profits, weights, capacity - weights[currentIndex], currentIndex + 1)\n",
    "\n",
    "    # recursive call after excluding the element at the currentIndex\n",
    "    profit2 = knapsack_recursive(profits, weights, capacity, currentIndex + 1)\n",
    "\n",
    "    return max(profit1, profit2)\n",
    "\n",
    "\n",
    "def main():\n",
    "    print(solve_knapsack([1, 6, 10, 16], [1, 2, 3, 5], 7))\n",
    "    print(solve_knapsack([1, 6, 10, 16], [1, 2, 3, 5], 6))\n",
    "\n",
    "\n",
    "main()"
   ]
  },
  {
   "cell_type": "markdown",
   "metadata": {},
   "source": [
    "### Top-down Dynamic Programming with Memoization"
   ]
  },
  {
   "cell_type": "code",
   "execution_count": 13,
   "metadata": {},
   "outputs": [
    {
     "name": "stdout",
     "output_type": "stream",
     "text": [
      "22\n",
      "17\n"
     ]
    }
   ],
   "source": [
    "def solve_knapsack(profits, weights, capacity):\n",
    "    # create a two dimensional array for Memoization, each element is initialized to '-1'\n",
    "    dp = [[-1 for x in range(capacity+1)] for y in range(len(profits))]\n",
    "    return knapsack_recursive(dp, profits, weights, capacity, 0)\n",
    "\n",
    "\n",
    "def knapsack_recursive(dp, profits, weights, capacity, currentIndex):\n",
    "\n",
    "    # base checks\n",
    "    if capacity <= 0 or currentIndex >= len(profits):\n",
    "        return 0\n",
    "\n",
    "    # if we have already solved a similar problem, return the result from memory\n",
    "    if dp[currentIndex][capacity] != -1:\n",
    "        return dp[currentIndex][capacity]\n",
    "\n",
    "    # recursive call after choosing the element at the currentIndex\n",
    "    # if the weight of the element at currentIndex exceeds the capacity, we\n",
    "    # shouldn't process this\n",
    "    profit1 = 0\n",
    "    if weights[currentIndex] <= capacity:\n",
    "        profit1 = profits[currentIndex] + knapsack_recursive(\n",
    "            dp, profits, weights, capacity - weights[currentIndex], currentIndex + 1)\n",
    "\n",
    "    # recursive call after excluding the element at the currentIndex\n",
    "    profit2 = knapsack_recursive(\n",
    "        dp, profits, weights, capacity, currentIndex + 1)\n",
    "\n",
    "    dp[currentIndex][capacity] = max(profit1, profit2)\n",
    "    return dp[currentIndex][capacity]\n",
    "\n",
    "\n",
    "def main():\n",
    "    print(solve_knapsack([1, 6, 10, 16], [1, 2, 3, 5], 7))\n",
    "    print(solve_knapsack([1, 6, 10, 16], [1, 2, 3, 5], 6))\n",
    "\n",
    "\n",
    "main()"
   ]
  },
  {
   "cell_type": "markdown",
   "metadata": {},
   "source": [
    "### Bottom-up Dynamic Programming"
   ]
  },
  {
   "cell_type": "code",
   "execution_count": 14,
   "metadata": {},
   "outputs": [
    {
     "name": "stdout",
     "output_type": "stream",
     "text": [
      "16\n",
      "17\n",
      "22\n"
     ]
    }
   ],
   "source": [
    "def solve_knapsack(profits, weights, capacity):\n",
    "    # basic checks\n",
    "    n = len(profits)\n",
    "    if capacity <= 0 or n == 0 or len(weights) != n:\n",
    "        return 0\n",
    "\n",
    "    dp = [[0 for x in range(capacity+1)] for y in range(n)]\n",
    "\n",
    "    # populate the capacity = 0 columns, with '0' capacity we have '0' profit\n",
    "    for i in range(0, n):\n",
    "        dp[i][0] = 0\n",
    "\n",
    "    # if we have only one weight, we will take it if it is not more than the capacity\n",
    "    for c in range(0, capacity+1):\n",
    "        if weights[0] <= c:\n",
    "            dp[0][c] = profits[0]\n",
    "\n",
    "    # process all sub-arrays for all the capacities\n",
    "    for i in range(1, n):\n",
    "        for c in range(1, capacity+1):\n",
    "            profit1, profit2 = 0, 0\n",
    "            # include the item, if it is not more than the capacity\n",
    "            if weights[i] <= c:\n",
    "                profit1 = profits[i] + dp[i - 1][c - weights[i]]\n",
    "            # exclude the item\n",
    "            profit2 = dp[i - 1][c]\n",
    "            # take maximum\n",
    "            dp[i][c] = max(profit1, profit2)\n",
    "\n",
    "    # maximum profit will be at the bottom-right corner.\n",
    "    return dp[n - 1][capacity]\n",
    "\n",
    "\n",
    "def main():\n",
    "    print(solve_knapsack([1, 6, 10, 16], [1, 2, 3, 5], 5))\n",
    "    print(solve_knapsack([1, 6, 10, 16], [1, 2, 3, 5], 6))\n",
    "    print(solve_knapsack([1, 6, 10, 16], [1, 2, 3, 5], 7))\n",
    "\n",
    "\n",
    "main()\n"
   ]
  },
  {
   "cell_type": "code",
   "execution_count": 20,
   "metadata": {},
   "outputs": [
    {
     "name": "stdout",
     "output_type": "stream",
     "text": [
      "Selected weights are: 5 2 \n",
      "Total knapsack profit: 22\n",
      "Selected weights are: 3 2 1 \n",
      "Total knapsack profit: 17\n"
     ]
    }
   ],
   "source": [
    "from __future__ import print_function\n",
    "\n",
    "def solve_knapsack(profits, weights, capacity):\n",
    "    # basic checks\n",
    "    n = len(profits)\n",
    "    if capacity <= 0 or n == 0 or len(weights) != n:\n",
    "        return 0\n",
    "\n",
    "    dp = [[0 for x in range(capacity+1)] for y in range(n)]\n",
    "\n",
    "    # populate the capacity = 0 columns, with '0' capacity we have '0' profit\n",
    "    for i in range(0, n):\n",
    "        dp[i][0] = 0\n",
    "\n",
    "    # if we have only one weight, we will take it if it is not more than the capacity\n",
    "    for c in range(0, capacity+1):\n",
    "        if weights[0] <= c:\n",
    "            dp[0][c] = profits[0]\n",
    "\n",
    "    # process all sub-arrays for all the capacities\n",
    "    for i in range(1, n):\n",
    "        for c in range(1, capacity+1):\n",
    "            profit1, profit2 = 0, 0\n",
    "            # include the item, if it is not more than the capacity\n",
    "            if weights[i] <= c:\n",
    "                profit1 = profits[i] + dp[i - 1][c - weights[i]]\n",
    "            # exclude the item\n",
    "            profit2 = dp[i - 1][c]\n",
    "            # take maximum\n",
    "            dp[i][c] = max(profit1, profit2)\n",
    "\n",
    "    print_selected_elements(dp, weights, profits, capacity)\n",
    "    # maximum profit will be at the bottom-right corner.\n",
    "    return dp[n - 1][capacity]\n",
    "\n",
    "\n",
    "def print_selected_elements(dp, weights, profits, capacity):\n",
    "    print(\"Selected weights are: \", end='')\n",
    "    n = len(weights)\n",
    "    totalProfit = dp[n-1][capacity]\n",
    "    for i in range(n-1, 0, -1):\n",
    "        if totalProfit != dp[i - 1][capacity]:\n",
    "            print(str(weights[i]) + \" \", end='')\n",
    "            capacity -= weights[i]\n",
    "            totalProfit -= profits[i]\n",
    "\n",
    "    if totalProfit != 0:\n",
    "        print(str(weights[0]) + \" \", end='')\n",
    "    print()\n",
    "\n",
    "\n",
    "def main():\n",
    "    print(\"Total knapsack profit: \" +\n",
    "                str(solve_knapsack([1, 6, 10, 16], [1, 2, 3, 5], 7)))\n",
    "    print(\"Total knapsack profit: \" +\n",
    "                str(solve_knapsack([1, 6, 10, 16], [1, 2, 3, 5], 6)))\n",
    "\n",
    "\n",
    "main()"
   ]
  },
  {
   "cell_type": "markdown",
   "metadata": {},
   "source": [
    "### Challenge\n",
    "Can we improve our bottom-up DP solution even further? Can you find an algorithm that has $O(C)$ space complexity?"
   ]
  },
  {
   "cell_type": "code",
   "execution_count": 17,
   "metadata": {},
   "outputs": [
    {
     "name": "stdout",
     "output_type": "stream",
     "text": [
      "Total knapsack profit: 22\n",
      "Total knapsack profit: 17\n"
     ]
    }
   ],
   "source": [
    "def solve_knapsack(profits, weights, capacity):\n",
    "    # basic checks\n",
    "    n = len(profits)\n",
    "    if capacity <= 0 or n == 0 or len(weights) != n:\n",
    "        return 0\n",
    "\n",
    "    # we only need one previous row to find the optimal solution, overall we need '2' rows\n",
    "    # the above solution is similar to the previous solution, the only difference is that\n",
    "    # we use `i % 2` instead if `i` and `(i-1) % 2` instead if `i-1`\n",
    "    dp = [[0 for x in range(capacity+1)] for y in range(2)]\n",
    "\n",
    "    # if we have only one weight, we will take it if it is not more than the capacity\n",
    "    for c in range(0, capacity+1):\n",
    "        if weights[0] <= c:\n",
    "            dp[0][c] = dp[1][c] = profits[0]\n",
    "\n",
    "    # process all sub-arrays for all the capacities\n",
    "    for i in range(1, n):\n",
    "        for c in range(0, capacity+1):\n",
    "            profit1, profit2 = 0, 0\n",
    "            # include the item, if it is not more than the capacity\n",
    "            if weights[i] <= c:\n",
    "                profit1 = profits[i] + dp[(i - 1) % 2][c - weights[i]]\n",
    "            # exclude the item\n",
    "            profit2 = dp[(i - 1) % 2][c]\n",
    "            # take maximum\n",
    "            dp[i % 2][c] = max(profit1, profit2)\n",
    "\n",
    "    return dp[(n - 1) % 2][capacity]\n",
    "\n",
    "\n",
    "def main():\n",
    "    print(\"Total knapsack profit: \" +\n",
    "                str(solve_knapsack([1, 6, 10, 16], [1, 2, 3, 5], 7)))\n",
    "    print(\"Total knapsack profit: \" +\n",
    "                str(solve_knapsack([1, 6, 10, 16], [1, 2, 3, 5], 6)))\n",
    "\n",
    "\n",
    "main()"
   ]
  },
  {
   "cell_type": "code",
   "execution_count": 19,
   "metadata": {},
   "outputs": [
    {
     "name": "stdout",
     "output_type": "stream",
     "text": [
      "Total knapsack profit: 22\n",
      "Total knapsack profit: 17\n"
     ]
    }
   ],
   "source": [
    "def solve_knapsack(profits, weights, capacity):\n",
    "    # basic checks\n",
    "    n = len(profits)\n",
    "    if capacity <= 0 or n == 0 or len(weights) != n:\n",
    "        return 0\n",
    "\n",
    "    dp = [0 for x in range(capacity+1)]\n",
    "\n",
    "    # if we have only one weight, we will take it if it is not more than the capacity\n",
    "    for c in range(0, capacity+1):\n",
    "        if weights[0] <= c:\n",
    "            dp[c] = profits[0]\n",
    "\n",
    "    # process all sub-arrays for all the capacities\n",
    "    for i in range(1, n):\n",
    "        for c in range(capacity, -1, -1):\n",
    "            profit1, profit2 = 0, 0\n",
    "            # include the item, if it is not more than the capacity\n",
    "            if weights[i] <= c:\n",
    "                profit1 = profits[i] + dp[c - weights[i]]\n",
    "            # exclude the item\n",
    "            profit2 = dp[c]\n",
    "            # take maximum\n",
    "            dp[c] = max(profit1, profit2)\n",
    "\n",
    "    return dp[capacity]\n",
    "\n",
    "\n",
    "def main():\n",
    "    print(\"Total knapsack profit: \" +\n",
    "                str(solve_knapsack([1, 6, 10, 16], [1, 2, 3, 5], 7)))\n",
    "    print(\"Total knapsack profit: \" +\n",
    "                str(solve_knapsack([1, 6, 10, 16], [1, 2, 3, 5], 6)))\n",
    "\n",
    "\n",
    "main()"
   ]
  },
  {
   "cell_type": "markdown",
   "metadata": {},
   "source": [
    "## Equal Subset Sum Partition (medium)"
   ]
  },
  {
   "cell_type": "markdown",
   "metadata": {},
   "source": [
    "Given a set of positive numbers, find if we can partition it into two subsets such that the sum of elements in both subsets is equal."
   ]
  },
  {
   "cell_type": "markdown",
   "metadata": {},
   "source": [
    "### Basic Solution"
   ]
  },
  {
   "cell_type": "code",
   "execution_count": 21,
   "metadata": {},
   "outputs": [
    {
     "name": "stdout",
     "output_type": "stream",
     "text": [
      "Can partition: True\n",
      "Can partition: True\n",
      "Can partition: False\n"
     ]
    }
   ],
   "source": [
    "def can_partition(num):\n",
    "    s = sum(num)\n",
    "    # if 's' is a an odd number, we can't have two subsets with equal sum\n",
    "    if s % 2 != 0:\n",
    "        return False\n",
    "\n",
    "    return can_partition_recursive(num, s / 2, 0)\n",
    "\n",
    "\n",
    "def can_partition_recursive(num, sum, currentIndex):\n",
    "    # base check\n",
    "    if sum == 0:\n",
    "        return True\n",
    "\n",
    "    n = len(num)\n",
    "    if n == 0 or currentIndex >= n:\n",
    "        return False\n",
    "\n",
    "    # recursive call after choosing the number at the `currentIndex`\n",
    "    # if the number at `currentIndex` exceeds the sum, we shouldn't process this\n",
    "    if num[currentIndex] <= sum:\n",
    "        if(can_partition_recursive(num, sum - num[currentIndex], currentIndex + 1)):\n",
    "            return True\n",
    "\n",
    "    # recursive call after excluding the number at the 'currentIndex'\n",
    "    return can_partition_recursive(num, sum, currentIndex + 1)\n",
    "\n",
    "\n",
    "def main():\n",
    "    print(\"Can partition: \" + str(can_partition([1, 2, 3, 4])))\n",
    "    print(\"Can partition: \" + str(can_partition([1, 1, 3, 4, 7])))\n",
    "    print(\"Can partition: \" + str(can_partition([2, 3, 4, 6])))\n",
    "\n",
    "\n",
    "main()"
   ]
  },
  {
   "cell_type": "markdown",
   "metadata": {},
   "source": [
    "### Top-down Dynamic Programming with Memoization"
   ]
  },
  {
   "cell_type": "code",
   "execution_count": 22,
   "metadata": {},
   "outputs": [
    {
     "name": "stdout",
     "output_type": "stream",
     "text": [
      "Can partition: True\n",
      "Can partition: True\n",
      "Can partition: False\n"
     ]
    }
   ],
   "source": [
    "def can_partition(num):\n",
    "    s = sum(num)\n",
    "\n",
    "    # if 's' is a an odd number, we can't have two subsets with equal sum\n",
    "    if s % 2 != 0:\n",
    "        return False\n",
    "\n",
    "    # initialize the 'dp' array, -1 for default, 1 for true and 0 for false\n",
    "    dp = [[-1 for x in range(int(s/2)+1)] for y in range(len(num))]\n",
    "    return True if can_partition_recursive(dp, num, int(s / 2), 0) == 1 else False\n",
    "\n",
    "\n",
    "def can_partition_recursive(dp, num, sum, currentIndex):\n",
    "    # base check\n",
    "    if sum == 0:\n",
    "        return 1\n",
    "\n",
    "    n = len(num)\n",
    "    if n == 0 or currentIndex >= n:\n",
    "        return 0\n",
    "\n",
    "    # if we have not already processed a similar problem\n",
    "    if dp[currentIndex][sum] == -1:\n",
    "        # recursive call after choosing the number at the currentIndex\n",
    "        # if the number at currentIndex exceeds the sum, we shouldn't process this\n",
    "        if num[currentIndex] <= sum:\n",
    "            if can_partition_recursive(dp, num, sum - num[currentIndex], currentIndex + 1) == 1:\n",
    "                dp[currentIndex][sum] = 1\n",
    "                return 1\n",
    "\n",
    "        # recursive call after excluding the number at the currentIndex\n",
    "        dp[currentIndex][sum] = can_partition_recursive(\n",
    "            dp, num, sum, currentIndex + 1)\n",
    "\n",
    "    return dp[currentIndex][sum]\n",
    "\n",
    "\n",
    "def main():\n",
    "    print(\"Can partition: \" + str(can_partition([1, 2, 3, 4])))\n",
    "    print(\"Can partition: \" + str(can_partition([1, 1, 3, 4, 7])))\n",
    "    print(\"Can partition: \" + str(can_partition([2, 3, 4, 6])))\n",
    "\n",
    "\n",
    "main()"
   ]
  },
  {
   "cell_type": "markdown",
   "metadata": {},
   "source": [
    "###  Bottom-up Dynamic Programming"
   ]
  },
  {
   "cell_type": "code",
   "execution_count": 23,
   "metadata": {},
   "outputs": [
    {
     "name": "stdout",
     "output_type": "stream",
     "text": [
      "Can partition: True\n",
      "Can partition: True\n",
      "Can partition: False\n"
     ]
    }
   ],
   "source": [
    "def can_partition(num):\n",
    "    s = sum(num)\n",
    "\n",
    "    # if 's' is a an odd number, we can't have two subsets with same total\n",
    "    if s % 2 != 0:\n",
    "        return False\n",
    "\n",
    "    # we are trying to find a subset of given numbers that has a total sum of 's/2'.\n",
    "    s = int(s / 2)\n",
    "\n",
    "    n = len(num)\n",
    "    dp = [[False for x in range(s+1)] for y in range(n)]\n",
    "\n",
    "    # populate the s=0 columns, as we can always for '0' sum with an empty set\n",
    "    for i in range(0, n):\n",
    "        dp[i][0] = True\n",
    "\n",
    "    # with only one number, we can form a subset only when the required sum is\n",
    "    # equal to its value\n",
    "    for j in range(1, s+1):\n",
    "        dp[0][j] = num[0] == j\n",
    "\n",
    "    # process all subsets for all sums\n",
    "    for i in range(1, n):\n",
    "        for j in range(1, s+1):\n",
    "            # if we can get the sum 'j' without the number at index 'i'\n",
    "            if dp[i - 1][j]:\n",
    "                dp[i][j] = dp[i - 1][j]\n",
    "            elif j >= num[i]:    # else if we can find a subset to get the remaining sum\n",
    "                dp[i][j] = dp[i - 1][j - num[i]]\n",
    "\n",
    "    # the bottom-right corner will have our answer.\n",
    "    return dp[n - 1][s]\n",
    "\n",
    "\n",
    "def main():\n",
    "    print(\"Can partition: \" + str(can_partition([1, 2, 3, 4])))\n",
    "    print(\"Can partition: \" + str(can_partition([1, 1, 3, 4, 7])))\n",
    "    print(\"Can partition: \" + str(can_partition([2, 3, 4, 6])))\n",
    "\n",
    "\n",
    "main()"
   ]
  },
  {
   "cell_type": "markdown",
   "metadata": {},
   "source": [
    "## Subset Sum (medium)"
   ]
  },
  {
   "cell_type": "markdown",
   "metadata": {},
   "source": [
    "Given a set of positive numbers, determine if a subset exists whose sum is equal to a given number ‘S’."
   ]
  },
  {
   "cell_type": "markdown",
   "metadata": {},
   "source": [
    "### Bottom-up Dynamic Programming"
   ]
  },
  {
   "cell_type": "code",
   "execution_count": 24,
   "metadata": {},
   "outputs": [
    {
     "name": "stdout",
     "output_type": "stream",
     "text": [
      "Can partition: True\n",
      "Can partition: True\n",
      "Can partition: False\n"
     ]
    }
   ],
   "source": [
    "def can_partition(num, sum):\n",
    "    n = len(num)\n",
    "    dp = [[False for x in range(sum+1)] for y in range(n)]\n",
    "\n",
    "    # populate the sum = 0 columns, as we can always form '0' sum with an empty set\n",
    "    for i in range(0, n):\n",
    "        dp[i][0] = True\n",
    "\n",
    "    # with only one number, we can form a subset only when the required sum is\n",
    "    # equal to its value\n",
    "    for s in range(1, sum+1):\n",
    "        dp[0][s] = True if num[0] == s else False\n",
    "\n",
    "    # process all subsets for all sums\n",
    "    for i in range(1, n):\n",
    "        for s in range(1, sum+1):\n",
    "            # if we can get the sum 's' without the number at index 'i'\n",
    "            if dp[i - 1][s]:\n",
    "                dp[i][s] = dp[i - 1][s]\n",
    "            elif s >= num[i]:\n",
    "                # else include the number and see if we can find a subset to get the remaining sum\n",
    "                dp[i][s] = dp[i - 1][s - num[i]]\n",
    "\n",
    "    # the bottom-right corner will have our answer.\n",
    "    return dp[n - 1][sum]\n",
    "\n",
    "\n",
    "def main():\n",
    "    print(\"Can partition: \" + str(can_partition([1, 2, 3, 7], 6)))\n",
    "    print(\"Can partition: \" + str(can_partition([1, 2, 7, 1, 5], 10)))\n",
    "    print(\"Can partition: \" + str(can_partition([1, 3, 4, 8], 6)))\n",
    "\n",
    "\n",
    "main()"
   ]
  },
  {
   "cell_type": "markdown",
   "metadata": {},
   "source": [
    "### Challenge"
   ]
  },
  {
   "cell_type": "markdown",
   "metadata": {},
   "source": [
    "Can we improve our bottom-up DP solution even further? Can you find an algorithm that has $O(S)$ space complexity?"
   ]
  },
  {
   "cell_type": "code",
   "execution_count": 25,
   "metadata": {},
   "outputs": [
    {
     "name": "stdout",
     "output_type": "stream",
     "text": [
      "Can partition: True\n",
      "Can partition: True\n",
      "Can partition: False\n"
     ]
    }
   ],
   "source": [
    "def can_partition(num, sum):\n",
    "    n = len(num)\n",
    "    dp = [False for x in range(sum+1)]\n",
    "\n",
    "    # handle sum=0, as we can always have '0' sum with an empty set\n",
    "    dp[0] = True\n",
    "\n",
    "    # with only one number, we can have a subset only when the required sum is equal to its value\n",
    "    for s in range(1, sum+1):\n",
    "        dp[s] = num[0] == s\n",
    "\n",
    "    # process all subsets for all sums\n",
    "    for i in range(1, n):\n",
    "        for s in range(sum, -1, -1):\n",
    "            # if dp[s]==true, this means we can get the sum 's' without num[i], hence we can move on to\n",
    "            # the next number else we can include num[i] and see if we can find a subset to get the\n",
    "            # remaining sum\n",
    "            if not dp[s] and s >= num[i]:\n",
    "                dp[s] = dp[s - num[i]]\n",
    "\n",
    "    return dp[sum]\n",
    "\n",
    "\n",
    "def main():\n",
    "    print(\"Can partition: \" + str(can_partition([1, 2, 3, 7], 6)))\n",
    "    print(\"Can partition: \" + str(can_partition([1, 2, 7, 1, 5], 10)))\n",
    "    print(\"Can partition: \" + str(can_partition([1, 3, 4, 8], 6)))\n",
    "\n",
    "\n",
    "main()"
   ]
  },
  {
   "cell_type": "markdown",
   "metadata": {},
   "source": [
    "## Minimum Subset Sum Difference (hard)"
   ]
  },
  {
   "cell_type": "markdown",
   "metadata": {},
   "source": [
    "Given a set of positive numbers, partition the set into two subsets with minimum difference between their subset sums."
   ]
  },
  {
   "cell_type": "markdown",
   "metadata": {},
   "source": [
    "### Basic Solution"
   ]
  },
  {
   "cell_type": "code",
   "execution_count": 26,
   "metadata": {},
   "outputs": [
    {
     "name": "stdout",
     "output_type": "stream",
     "text": [
      "Can partition: 3\n",
      "Can partition: 0\n",
      "Can partition: 92\n"
     ]
    }
   ],
   "source": [
    "def can_partition(num):\n",
    "    return can_partition_recursive(num, 0, 0, 0)\n",
    "\n",
    "\n",
    "def can_partition_recursive(num, currentIndex, sum1, sum2):\n",
    "    # base check\n",
    "    if currentIndex == len(num):\n",
    "        return abs(sum1 - sum2)\n",
    "\n",
    "    # recursive call after including the number at the currentIndex in the first set\n",
    "    diff1 = can_partition_recursive(\n",
    "        num, currentIndex + 1, sum1 + num[currentIndex], sum2)\n",
    "\n",
    "    # recursive call after including the number at the currentIndex in the second set\n",
    "    diff2 = can_partition_recursive(\n",
    "        num, currentIndex + 1, sum1, sum2 + num[currentIndex])\n",
    "\n",
    "    return min(diff1, diff2)\n",
    "\n",
    "\n",
    "def main():\n",
    "    print(\"Can partition: \" + str(can_partition([1, 2, 3, 9])))\n",
    "    print(\"Can partition: \" + str(can_partition([1, 2, 7, 1, 5])))\n",
    "    print(\"Can partition: \" + str(can_partition([1, 3, 100, 4])))\n",
    "\n",
    "\n",
    "main()"
   ]
  },
  {
   "cell_type": "markdown",
   "metadata": {},
   "source": [
    "### Top-down Dynamic Programming with Memoization"
   ]
  },
  {
   "cell_type": "code",
   "execution_count": 27,
   "metadata": {},
   "outputs": [
    {
     "name": "stdout",
     "output_type": "stream",
     "text": [
      "Can partition: 3\n",
      "Can partition: 0\n",
      "Can partition: 92\n"
     ]
    }
   ],
   "source": [
    "def can_partition(num):\n",
    "    s = sum(num)\n",
    "    dp = [[-1 for x in range(s+1)] for y in range(len(num))]\n",
    "    return can_partition_recursive(dp, num, 0, 0, 0)\n",
    "\n",
    "\n",
    "def can_partition_recursive(dp, num, currentIndex, sum1, sum2):\n",
    "    # base check\n",
    "    if currentIndex == len(num):\n",
    "        return abs(sum1 - sum2)\n",
    "\n",
    "    # check if we have not already processed similar problem\n",
    "    if dp[currentIndex][sum1] == -1:\n",
    "        # recursive call after including the number at the currentIndex in the first set\n",
    "        diff1 = can_partition_recursive(\n",
    "            dp, num, currentIndex + 1, sum1 + num[currentIndex], sum2)\n",
    "\n",
    "        # recursive call after including the number at the currentIndex in the second set\n",
    "        diff2 = can_partition_recursive(\n",
    "            dp, num, currentIndex + 1, sum1, sum2 + num[currentIndex])\n",
    "\n",
    "        dp[currentIndex][sum1] = min(diff1, diff2)\n",
    "\n",
    "    return dp[currentIndex][sum1]\n",
    "\n",
    "\n",
    "def main():\n",
    "    print(\"Can partition: \" + str(can_partition([1, 2, 3, 9])))\n",
    "    print(\"Can partition: \" + str(can_partition([1, 2, 7, 1, 5])))\n",
    "    print(\"Can partition: \" + str(can_partition([1, 3, 100, 4])))\n",
    "\n",
    "\n",
    "main()"
   ]
  },
  {
   "cell_type": "markdown",
   "metadata": {},
   "source": [
    "### Bottom-up Dynamic Programming"
   ]
  },
  {
   "cell_type": "code",
   "execution_count": 28,
   "metadata": {},
   "outputs": [
    {
     "name": "stdout",
     "output_type": "stream",
     "text": [
      "Can partition: 3\n",
      "Can partition: 0\n",
      "Can partition: 92\n"
     ]
    }
   ],
   "source": [
    "def can_partition(num):\n",
    "    s = sum(num)\n",
    "    n = len(num)\n",
    "    dp = [[False for x in range(int(s/2)+1)] for y in range(n)]\n",
    "\n",
    "    # populate the s=0 columns, as we can always form '0' sum with an empty set\n",
    "    for i in range(0, n):\n",
    "        dp[i][0] = True\n",
    "\n",
    "    # with only one number, we can form a subset only when the required sum is equal to that number\n",
    "    for j in range(0, int(s/2)+1):\n",
    "        dp[0][j] = num[0] == j\n",
    "\n",
    "    # process all subsets for all sums\n",
    "    for i in range(1, n):\n",
    "        for j in range(1, int(s/2)+1):\n",
    "            # if we can get the sum 's' without the number at index 'i'\n",
    "            if dp[i - 1][j]:\n",
    "                dp[i][j] = dp[i - 1][j]\n",
    "            elif j >= num[i]:\n",
    "                # else include the number and see if we can find a subset to get the remaining sum\n",
    "                dp[i][j] = dp[i - 1][j - num[i]]\n",
    "\n",
    "    sum1 = 0\n",
    "    # find the largest index in the last row which is true\n",
    "    for i in range(int(s/2), -1, -1):\n",
    "        if dp[n - 1][i]:\n",
    "            sum1 = i\n",
    "            break\n",
    "\n",
    "    sum2 = s - sum1\n",
    "    return abs(sum2 - sum1)\n",
    "\n",
    "\n",
    "def main():\n",
    "    print(\"Can partition: \" + str(can_partition([1, 2, 3, 9])))\n",
    "    print(\"Can partition: \" + str(can_partition([1, 2, 7, 1, 5])))\n",
    "    print(\"Can partition: \" + str(can_partition([1, 3, 100, 4])))\n",
    "\n",
    "\n",
    "main()"
   ]
  },
  {
   "cell_type": "markdown",
   "metadata": {},
   "source": [
    "## Count of Subset Sum (hard)"
   ]
  },
  {
   "cell_type": "markdown",
   "metadata": {},
   "source": [
    "Given a set of positive numbers, find the total number of subsets whose sum is equal to a given number ‘S’."
   ]
  },
  {
   "cell_type": "markdown",
   "metadata": {},
   "source": [
    "### Basic Solution"
   ]
  },
  {
   "cell_type": "code",
   "execution_count": 32,
   "metadata": {},
   "outputs": [
    {
     "name": "stdout",
     "output_type": "stream",
     "text": [
      "Total number of subsets: 3\n",
      "Total number of subsets: 3\n"
     ]
    }
   ],
   "source": [
    "def count_subsets(num, sum):\n",
    "    return count_subsets_recursive(num, sum, 0)\n",
    "\n",
    "\n",
    "def count_subsets_recursive(num, sum, currentIndex):\n",
    "    # base checks\n",
    "    if sum == 0:\n",
    "        return 1\n",
    "    n = len(num)\n",
    "    if n == 0 or currentIndex >= n:\n",
    "        return 0\n",
    "\n",
    "    # recursive call after selecting the number at the currentIndex\n",
    "    # if the number at currentIndex exceeds the sum, we shouldn't process this\n",
    "    sum1 = 0\n",
    "    if num[currentIndex] <= sum:\n",
    "        sum1 = count_subsets_recursive(\n",
    "            num, sum - num[currentIndex], currentIndex + 1)\n",
    "\n",
    "    # recursive call after excluding the number at the currentIndex\n",
    "    sum2 = count_subsets_recursive(num, sum, currentIndex + 1)\n",
    "\n",
    "    return sum1 + sum2\n",
    "\n",
    "\n",
    "def main():\n",
    "    print(\"Total number of subsets: \" + str(count_subsets([1, 1, 2, 3], 4)))\n",
    "    print(\"Total number of subsets: \" + str(count_subsets([1, 2, 7, 1, 5], 9)))\n",
    "\n",
    "\n",
    "main()"
   ]
  },
  {
   "cell_type": "markdown",
   "metadata": {},
   "source": [
    "###  Top-down Dynamic Programming with Memoization"
   ]
  },
  {
   "cell_type": "code",
   "execution_count": 33,
   "metadata": {},
   "outputs": [
    {
     "name": "stdout",
     "output_type": "stream",
     "text": [
      "Total number of subsets: 3\n",
      "Total number of subsets: 3\n"
     ]
    }
   ],
   "source": [
    "def count_subsets(num, sum):\n",
    "    # create a two dimensional array for Memoization, each element is initialized to '-1'\n",
    "    dp = [[-1 for x in range(sum+1)] for y in range(len(num))]\n",
    "    return count_subsets_recursive(dp, num, sum, 0)\n",
    "\n",
    "\n",
    "def count_subsets_recursive(dp, num, sum, currentIndex):\n",
    "    # base checks\n",
    "    if sum == 0:\n",
    "        return 1\n",
    "\n",
    "    n = len(num)\n",
    "    if n == 0 or currentIndex >= n:\n",
    "        return 0\n",
    "\n",
    "    # check if we have not already processed a similar problem\n",
    "    if dp[currentIndex][sum] == -1:\n",
    "        # recursive call after choosing the number at the currentIndex\n",
    "        # if the number at currentIndex exceeds the sum, we shouldn't process this\n",
    "        sum1 = 0\n",
    "        if num[currentIndex] <= sum:\n",
    "            sum1 = count_subsets_recursive(\n",
    "                dp, num, sum - num[currentIndex], currentIndex + 1)\n",
    "\n",
    "        # recursive call after excluding the number at the currentIndex\n",
    "        sum2 = count_subsets_recursive(dp, num, sum, currentIndex + 1)\n",
    "\n",
    "        dp[currentIndex][sum] = sum1 + sum2\n",
    "\n",
    "    return dp[currentIndex][sum]\n",
    "\n",
    "\n",
    "def main():\n",
    "    print(\"Total number of subsets: \" + str(count_subsets([1, 1, 2, 3], 4)))\n",
    "    print(\"Total number of subsets: \" + str(count_subsets([1, 2, 7, 1, 5], 9)))\n",
    "\n",
    "\n",
    "main()"
   ]
  },
  {
   "cell_type": "markdown",
   "metadata": {},
   "source": [
    "### Bottom-up Dynamic Programming"
   ]
  },
  {
   "cell_type": "code",
   "execution_count": 35,
   "metadata": {},
   "outputs": [
    {
     "name": "stdout",
     "output_type": "stream",
     "text": [
      "Total number of subsets: 3\n",
      "Total number of subsets: 3\n"
     ]
    }
   ],
   "source": [
    "def count_subsets(num, sum):\n",
    "    n = len(num)\n",
    "    dp = [[-1 for x in range(sum+1)] for y in range(n)]\n",
    "\n",
    "    # populate the sum = 0 columns, as we will always have an empty set for zero sum\n",
    "    for i in range(0, n):\n",
    "        dp[i][0] = 1\n",
    "\n",
    "    # with only one number, we can form a subset only when the required sum is\n",
    "    # equal to its value\n",
    "    for s in range(1, sum+1):\n",
    "        dp[0][s] = 1 if num[0] == s else 0\n",
    "\n",
    "    # process all subsets for all sums\n",
    "    for i in range(1, n):\n",
    "        for s in range(1, sum+1):\n",
    "            # exclude the number\n",
    "            dp[i][s] = dp[i - 1][s]\n",
    "            # include the number, if it does not exceed the sum\n",
    "            if s >= num[i]:\n",
    "                dp[i][s] += dp[i - 1][s - num[i]]\n",
    "\n",
    "    # the bottom-right corner will have our answer.\n",
    "    return dp[n - 1][sum]\n",
    "\n",
    "\n",
    "def main():\n",
    "    print(\"Total number of subsets: \" + str(count_subsets([1, 1, 2, 3], 4)))\n",
    "    print(\"Total number of subsets: \" + str(count_subsets([1, 2, 7, 1, 5], 9)))\n",
    "\n",
    "\n",
    "main()"
   ]
  },
  {
   "cell_type": "markdown",
   "metadata": {},
   "source": [
    "### Challenge"
   ]
  },
  {
   "cell_type": "code",
   "execution_count": 36,
   "metadata": {},
   "outputs": [
    {
     "name": "stdout",
     "output_type": "stream",
     "text": [
      "Total number of subsets: 3\n",
      "Total number of subsets: 3\n"
     ]
    }
   ],
   "source": [
    "def count_subsets(num, sum):\n",
    "    n = len(num)\n",
    "    dp = [0 for x in range(sum+1)]\n",
    "    dp[0] = 1\n",
    "\n",
    "    # with only one number, we can form a subset only when the required sum is equal to the number\n",
    "    for s in range(1, sum+1):\n",
    "        dp[s] = 1 if num[0] == s else 0\n",
    "\n",
    "    # process all subsets for all sums\n",
    "    for i in range(1, n):\n",
    "        for s in range(sum, -1, -1):\n",
    "            if s >= num[i]:\n",
    "                dp[s] += dp[s - num[i]]\n",
    "\n",
    "    return dp[sum]\n",
    "\n",
    "\n",
    "def main():\n",
    "    print(\"Total number of subsets: \" + str(count_subsets([1, 1, 2, 3], 4)))\n",
    "    print(\"Total number of subsets: \" + str(count_subsets([1, 2, 7, 1, 5], 9)))\n",
    "\n",
    "\n",
    "main()"
   ]
  },
  {
   "cell_type": "markdown",
   "metadata": {},
   "source": [
    "## Target Sum (hard)"
   ]
  },
  {
   "cell_type": "markdown",
   "metadata": {},
   "source": [
    "You are given a set of positive numbers and a target sum ‘S’. Each number should be assigned either a ‘+’ or ‘-’ sign. We need to find the total ways to assign symbols to make the sum of the numbers equal to the target ‘S’."
   ]
  },
  {
   "cell_type": "markdown",
   "metadata": {},
   "source": [
    "### Solution"
   ]
  },
  {
   "cell_type": "code",
   "execution_count": 37,
   "metadata": {},
   "outputs": [
    {
     "name": "stdout",
     "output_type": "stream",
     "text": [
      "Total ways: 3\n",
      "Total ways: 2\n"
     ]
    }
   ],
   "source": [
    "def find_target_subsets(num, s):\n",
    "    totalSum = sum(num)\n",
    "\n",
    "    # if 's + totalSum' is odd, we can't find a subset with sum equal to '(s + totalSum) / 2'\n",
    "    if totalSum < s or (s + totalSum) % 2 == 1:\n",
    "        return 0\n",
    "\n",
    "    return count_subsets(num, (s + totalSum) // 2)\n",
    "\n",
    "\n",
    "# this function is exactly similar to what we have in 'Count of Subset Sum' problem.\n",
    "def count_subsets(num, s):\n",
    "    n = len(num)\n",
    "    dp = [[0 for x in range(s+1)] for y in range(n)]\n",
    "\n",
    "    # populate the sum = 0 columns, as we will always have an empty set for zero sum\n",
    "    for i in range(0, n):\n",
    "        dp[i][0] = 1\n",
    "\n",
    "    # with only one number, we can form a subset only when the required sum is\n",
    "    # equal to the number\n",
    "    for s in range(1, s+1):\n",
    "        dp[0][s] = 1 if num[0] == s else 0\n",
    "\n",
    "    # process all subsets for all sums\n",
    "    for i in range(1, n):\n",
    "        for s in range(1, s+1):\n",
    "            dp[i][s] = dp[i - 1][s]\n",
    "            if s >= num[i]:\n",
    "                dp[i][s] += dp[i - 1][s - num[i]]\n",
    "\n",
    "    # the bottom-right corner will have our answer.\n",
    "    return dp[n - 1][s]\n",
    "\n",
    "\n",
    "def main():\n",
    "    print(\"Total ways: \" + str(find_target_subsets([1, 1, 2, 3], 1)))\n",
    "    print(\"Total ways: \" + str(find_target_subsets([1, 2, 7, 1], 9)))\n",
    "\n",
    "\n",
    "main()"
   ]
  },
  {
   "cell_type": "markdown",
   "metadata": {},
   "source": [
    "### Space-Optimized Solution"
   ]
  },
  {
   "cell_type": "code",
   "execution_count": 38,
   "metadata": {},
   "outputs": [
    {
     "name": "stdout",
     "output_type": "stream",
     "text": [
      "Total ways: 3\n",
      "Total ways: 2\n"
     ]
    }
   ],
   "source": [
    "\n",
    "def find_target_subsets(num, s):\n",
    "    totalSum = sum(num)\n",
    "\n",
    "    # if 's + totalSum' is odd, we can't find a subset with sum equal to '(s +totalSum) / 2'\n",
    "    if totalSum < s or (s + totalSum) % 2 == 1:\n",
    "        return 0\n",
    "\n",
    "    return count_subsets(num, (s + totalSum) // 2)\n",
    "\n",
    "\n",
    "# this function is exactly similar to what we have in 'Count of Subset Sum' problem\n",
    "def count_subsets(num, sum):\n",
    "    n = len(num)\n",
    "    dp = [0 for x in range(sum+1)]\n",
    "    dp[0] = 1\n",
    "\n",
    "    # with only one number, we can form a subset only when the required sum is equal to the number\n",
    "    for s in range(1, sum+1):\n",
    "        dp[s] = 1 if num[0] == s else 0\n",
    "\n",
    "    # process all subsets for all sums\n",
    "    for i in range(1, n):\n",
    "        for s in range(sum, -1, -1):\n",
    "            if s >= num[i]:\n",
    "                dp[s] += dp[s - num[i]]\n",
    "\n",
    "    return dp[sum]\n",
    "\n",
    "\n",
    "def main():\n",
    "    print(\"Total ways: \" + str(find_target_subsets([1, 1, 2, 3], 1)))\n",
    "    print(\"Total ways: \" + str(find_target_subsets([1, 2, 7, 1], 9)))\n",
    "\n",
    "\n",
    "main()"
   ]
  },
  {
   "cell_type": "markdown",
   "metadata": {},
   "source": [
    "# Topological Sort (Graph)"
   ]
  },
  {
   "cell_type": "markdown",
   "metadata": {},
   "source": [
    "## Topological Sort (medium)"
   ]
  },
  {
   "cell_type": "markdown",
   "metadata": {},
   "source": [
    "Topological Sort of a directed graph (a graph with unidirectional edges) is a linear ordering of its vertices such that for every directed edge (U, V) from vertex U to vertex V, U comes before V in the ordering.\n",
    "\n",
    "Given a directed graph, find the topological ordering of its vertices."
   ]
  },
  {
   "cell_type": "code",
   "execution_count": 39,
   "metadata": {},
   "outputs": [
    {
     "name": "stdout",
     "output_type": "stream",
     "text": [
      "Topological sort: [3, 2, 0, 1]\n",
      "Topological sort: [4, 2, 3, 0, 1]\n",
      "Topological sort: [5, 6, 3, 4, 0, 2, 1]\n"
     ]
    }
   ],
   "source": [
    "from collections import deque\n",
    "\n",
    "\n",
    "def topological_sort(vertices, edges):\n",
    "    sortedOrder = []\n",
    "    if vertices <= 0:\n",
    "        return sortedOrder\n",
    "\n",
    "    # a. Initialize the graph\n",
    "    inDegree = {i: 0 for i in range(vertices)}    # count of incoming edges\n",
    "    graph = {i: [] for i in range(vertices)}    # adjacency list graph\n",
    "\n",
    "    # b. Build the graph\n",
    "    for edge in edges:\n",
    "        parent, child = edge[0], edge[1]\n",
    "        graph[parent].append(child)    # put the child into it's parent's list\n",
    "        inDegree[child] += 1    # increment child's inDegree\n",
    "\n",
    "    # c. Find all sources i.e., all vertices with 0 in-degrees\n",
    "    sources = deque()\n",
    "    for key in inDegree:\n",
    "        if inDegree[key] == 0:\n",
    "            sources.append(key)\n",
    "\n",
    "    # d. For each source, add it to the sortedOrder and subtract one from all of its children's in-degrees\n",
    "    # if a child's in-degree becomes zero, add it to the sources queue\n",
    "    while sources:\n",
    "        vertex = sources.popleft()\n",
    "        sortedOrder.append(vertex)\n",
    "        for child in graph[vertex]:    # get the node's children to decrement their in-degrees\n",
    "            inDegree[child] -= 1\n",
    "            if inDegree[child] == 0:\n",
    "                sources.append(child)\n",
    "\n",
    "    # topological sort is not possible as the graph has a cycle\n",
    "    if len(sortedOrder) != vertices:\n",
    "        return []\n",
    "\n",
    "    return sortedOrder\n",
    "\n",
    "\n",
    "def main():\n",
    "    print(\"Topological sort: \" +\n",
    "                str(topological_sort(4, [[3, 2], [3, 0], [2, 0], [2, 1]])))\n",
    "    print(\"Topological sort: \" +\n",
    "                str(topological_sort(5, [[4, 2], [4, 3], [2, 0], [2, 1], [3, 1]])))\n",
    "    print(\"Topological sort: \" +\n",
    "                str(topological_sort(7, [[6, 4], [6, 2], [5, 3], [5, 4], [3, 0], [3, 1], [3, 2], [4, 1]])))\n",
    "\n",
    "\n",
    "main()"
   ]
  },
  {
   "cell_type": "markdown",
   "metadata": {},
   "source": [
    "## Tasks Scheduling (medium)"
   ]
  },
  {
   "cell_type": "markdown",
   "metadata": {},
   "source": [
    "There are ‘N’ tasks, labeled from ‘0’ to ‘N-1’. Each task can have some prerequisite tasks which need to be completed before it can be scheduled. Given the number of tasks and a list of prerequisite pairs, find out if it is possible to schedule all the tasks."
   ]
  },
  {
   "cell_type": "code",
   "execution_count": 40,
   "metadata": {},
   "outputs": [
    {
     "name": "stdout",
     "output_type": "stream",
     "text": [
      "Is scheduling possible: True\n",
      "Is scheduling possible: False\n",
      "Is scheduling possible: True\n"
     ]
    }
   ],
   "source": [
    "from collections import deque\n",
    "\n",
    "\n",
    "def is_scheduling_possible(tasks, prerequisites):\n",
    "    sortedOrder = []\n",
    "    if tasks <= 0:\n",
    "        return False\n",
    "\n",
    "    # a. Initialize the graph\n",
    "    inDegree = {i: 0 for i in range(tasks)}    # count of incoming edges\n",
    "    graph = {i: [] for i in range(tasks)}    # adjacency list graph\n",
    "\n",
    "    # b. Build the graph\n",
    "    for prerequisite in prerequisites:\n",
    "        parent, child = prerequisite[0], prerequisite[1]\n",
    "        graph[parent].append(child)    # put the child into it's parent's list\n",
    "        inDegree[child] += 1    # increment child's inDegree\n",
    "\n",
    "    # c. Find all sources i.e., all vertices with 0 in-degrees\n",
    "    sources = deque()\n",
    "    for key in inDegree:\n",
    "        if inDegree[key] == 0:\n",
    "            sources.append(key)\n",
    "\n",
    "    # d. For each source, add it to the sortedOrder and subtract one from all of its children's in-degrees\n",
    "    # if a child's in-degree becomes zero, add it to the sources queue\n",
    "    while sources:\n",
    "        vertex = sources.popleft()\n",
    "        sortedOrder.append(vertex)\n",
    "        for child in graph[vertex]:    # get the node's children to decrement their in-degrees\n",
    "            inDegree[child] -= 1\n",
    "            if inDegree[child] == 0:\n",
    "                sources.append(child)\n",
    "\n",
    "    # if sortedOrder doesn't contain all tasks, there is a cyclic dependency between tasks, therefore, we\n",
    "    # will not be able to schedule all tasks\n",
    "    return len(sortedOrder) == tasks\n",
    "\n",
    "\n",
    "def main():\n",
    "    print(\"Is scheduling possible: \" +\n",
    "                str(is_scheduling_possible(3, [[0, 1], [1, 2]])))\n",
    "    print(\"Is scheduling possible: \" +\n",
    "                str(is_scheduling_possible(3, [[0, 1], [1, 2], [2, 0]])))\n",
    "    print(\"Is scheduling possible: \" +\n",
    "                str(is_scheduling_possible(6, [[0, 4], [1, 4], [3, 2], [1, 3]])))\n",
    "\n",
    "main()"
   ]
  },
  {
   "cell_type": "markdown",
   "metadata": {},
   "source": [
    "## Tasks Scheduling Order (medium)"
   ]
  },
  {
   "cell_type": "markdown",
   "metadata": {},
   "source": [
    "There are ‘N’ tasks, labeled from ‘0’ to ‘N-1’. Each task can have some prerequisite tasks which need to be completed before it can be scheduled. Given the number of tasks and a list of prerequisite pairs, write a method to find the ordering of tasks we should pick to finish all tasks."
   ]
  },
  {
   "cell_type": "code",
   "execution_count": 41,
   "metadata": {},
   "outputs": [
    {
     "name": "stdout",
     "output_type": "stream",
     "text": [
      "Is scheduling possible: [0, 1, 2]\n",
      "Is scheduling possible: []\n",
      "Is scheduling possible: [0, 1, 4, 3, 2, 5]\n"
     ]
    }
   ],
   "source": [
    "from collections import deque\n",
    "\n",
    "\n",
    "def find_order(tasks, prerequisites):\n",
    "    sortedOrder = []\n",
    "    if tasks <= 0:\n",
    "        return sortedOrder\n",
    "\n",
    "    # a. Initialize the graph\n",
    "    inDegree = {i: 0 for i in range(tasks)}    # count of incoming edges\n",
    "    graph = {i: [] for i in range(tasks)}    # adjacency list graph\n",
    "\n",
    "    # b. Build the graph\n",
    "    for prerequisite in prerequisites:\n",
    "        parent, child = prerequisite[0], prerequisite[1]\n",
    "        graph[parent].append(child)    # put the child into it's parent's list\n",
    "        inDegree[child] += 1    # increment child's inDegree\n",
    "\n",
    "    # c. Find all sources i.e., all vertices with 0 in-degrees\n",
    "    sources = deque()\n",
    "    for key in inDegree:\n",
    "        if inDegree[key] == 0:\n",
    "            sources.append(key)\n",
    "\n",
    "    # d. For each source, add it to the sortedOrder and subtract one from all of its children's in-degrees\n",
    "    # if a child's in-degree becomes zero, add it to the sources queue\n",
    "    while sources:\n",
    "        vertex = sources.popleft()\n",
    "        sortedOrder.append(vertex)\n",
    "        for child in graph[vertex]:    # get the node's children to decrement their in-degrees\n",
    "            inDegree[child] -= 1\n",
    "            if inDegree[child] == 0:\n",
    "                sources.append(child)\n",
    "\n",
    "    # if sortedOrder doesn't contain all tasks, there is a cyclic dependency between tasks, therefore, we\n",
    "    # will not be able to schedule all tasks\n",
    "    if len(sortedOrder) != tasks:\n",
    "        return []\n",
    "\n",
    "    return sortedOrder\n",
    "\n",
    "\n",
    "def main():\n",
    "    print(\"Is scheduling possible: \" + str(find_order(3, [[0, 1], [1, 2]])))\n",
    "    print(\"Is scheduling possible: \" +\n",
    "                str(find_order(3, [[0, 1], [1, 2], [2, 0]])))\n",
    "    print(\"Is scheduling possible: \" +\n",
    "                str(find_order(6, [[2, 5], [0, 5], [0, 4], [1, 4], [3, 2], [1, 3]])))\n",
    "\n",
    "\n",
    "main()"
   ]
  },
  {
   "cell_type": "markdown",
   "metadata": {},
   "source": [
    "## All Tasks Scheduling Orders (hard)"
   ]
  },
  {
   "cell_type": "markdown",
   "metadata": {},
   "source": [
    "There are ‘N’ tasks, labeled from ‘0’ to ‘N-1’. Each task can have some prerequisite tasks which need to be completed before it can be scheduled. Given the number of tasks and a list of prerequisite pairs, write a method to print all possible ordering of tasks meeting all prerequisites."
   ]
  },
  {
   "cell_type": "code",
   "execution_count": 42,
   "metadata": {},
   "outputs": [
    {
     "name": "stdout",
     "output_type": "stream",
     "text": [
      "Task Orders: \n",
      "[0, 1, 2]\n",
      "Task Orders: \n",
      "[3, 2, 0, 1]\n",
      "[3, 2, 1, 0]\n",
      "Task Orders: \n",
      "[0, 1, 4, 3, 2, 5]\n",
      "[0, 1, 3, 4, 2, 5]\n",
      "[0, 1, 3, 2, 4, 5]\n",
      "[0, 1, 3, 2, 5, 4]\n",
      "[1, 0, 3, 4, 2, 5]\n",
      "[1, 0, 3, 2, 4, 5]\n",
      "[1, 0, 3, 2, 5, 4]\n",
      "[1, 0, 4, 3, 2, 5]\n",
      "[1, 3, 0, 2, 4, 5]\n",
      "[1, 3, 0, 2, 5, 4]\n",
      "[1, 3, 0, 4, 2, 5]\n",
      "[1, 3, 2, 0, 5, 4]\n",
      "[1, 3, 2, 0, 4, 5]\n"
     ]
    }
   ],
   "source": [
    "from collections import deque\n",
    "\n",
    "\n",
    "def print_orders(tasks, prerequisites):\n",
    "    sortedOrder = []\n",
    "    if tasks <= 0:\n",
    "        return False\n",
    "\n",
    "    # a. Initialize the graph\n",
    "    inDegree = {i: 0 for i in range(tasks)}    # count of incoming edges\n",
    "    graph = {i: [] for i in range(tasks)}    # adjacency list graph\n",
    "\n",
    "    # b. Build the graph\n",
    "    for prerequisite in prerequisites:\n",
    "        parent, child = prerequisite[0], prerequisite[1]\n",
    "        graph[parent].append(child)    # put the child into it's parent's list\n",
    "        inDegree[child] += 1    # increment child's inDegree\n",
    "\n",
    "    # c. Find all sources i.e., all vertices with 0 in-degrees\n",
    "    sources = deque()\n",
    "    for key in inDegree:\n",
    "        if inDegree[key] == 0:\n",
    "            sources.append(key)\n",
    "\n",
    "    print_all_topological_sorts(graph, inDegree, sources, sortedOrder)\n",
    "\n",
    "\n",
    "def print_all_topological_sorts(graph, inDegree, sources, sortedOrder):\n",
    "    if sources:\n",
    "        for vertex in sources:\n",
    "            sortedOrder.append(vertex)\n",
    "            sourcesForNextCall = deque(sources)    # make a copy of sources\n",
    "            # only remove the current source, all other sources should remain in the queue for the next call\n",
    "            sourcesForNextCall.remove(vertex)\n",
    "            # get the node's children to decrement their in-degrees\n",
    "            for child in graph[vertex]:\n",
    "                inDegree[child] -= 1\n",
    "                if inDegree[child] == 0:\n",
    "                    sourcesForNextCall.append(child)\n",
    "\n",
    "            # recursive call to print other orderings from the remaining (and new) sources\n",
    "            print_all_topological_sorts(\n",
    "                graph, inDegree, sourcesForNextCall, sortedOrder)\n",
    "\n",
    "            # backtrack, remove the vertex from the sorted order and put all of its children back to consider\n",
    "            # the next source instead of the current vertex\n",
    "            sortedOrder.remove(vertex)\n",
    "            for child in graph[vertex]:\n",
    "                inDegree[child] += 1\n",
    "\n",
    "    # if sortedOrder doesn't contain all tasks, either we've a cyclic dependency between tasks, or\n",
    "    # we have not processed all the tasks in this recursive call\n",
    "    if len(sortedOrder) == len(inDegree):\n",
    "        print(sortedOrder)\n",
    "\n",
    "\n",
    "def main():\n",
    "    print(\"Task Orders: \")\n",
    "    print_orders(3, [[0, 1], [1, 2]])\n",
    "\n",
    "    print(\"Task Orders: \")\n",
    "    print_orders(4, [[3, 2], [3, 0], [2, 0], [2, 1]])\n",
    "\n",
    "    print(\"Task Orders: \")\n",
    "    print_orders(6, [[2, 5], [0, 5], [0, 4], [1, 4], [3, 2], [1, 3]])\n",
    "\n",
    "\n",
    "main()"
   ]
  },
  {
   "cell_type": "markdown",
   "metadata": {},
   "source": [
    "## Alien Dictionary (hard)"
   ]
  },
  {
   "cell_type": "markdown",
   "metadata": {},
   "source": [
    "There is a dictionary containing words from an alien language for which we don’t know the ordering of the characters. Write a method to find the correct order of characters in the alien language."
   ]
  },
  {
   "cell_type": "code",
   "execution_count": 43,
   "metadata": {},
   "outputs": [
    {
     "name": "stdout",
     "output_type": "stream",
     "text": [
      "Character order: bac\n",
      "Character order: cab\n",
      "Character order: ywxz\n"
     ]
    }
   ],
   "source": [
    "from collections import deque\n",
    "\n",
    "\n",
    "def find_order(words):\n",
    "    if len(words) == 0:\n",
    "        return \"\"\n",
    "\n",
    "    # a. Initialize the graph\n",
    "    inDegree = {}    # count of incoming edges\n",
    "    graph = {}    # adjacency list graph\n",
    "    for word in words:\n",
    "        for character in word:\n",
    "            inDegree[character] = 0\n",
    "            graph[character] = []\n",
    "\n",
    "    # b. Build the graph\n",
    "    for i in range(0, len(words)-1):\n",
    "        # find ordering of characters from adjacent words\n",
    "        w1, w2 = words[i], words[i + 1]\n",
    "        for j in range(0, min(len(w1), len(w2))):\n",
    "            parent, child = w1[j], w2[j]\n",
    "            if parent != child:    # if the two characters are different\n",
    "                # put the child into it's parent's list\n",
    "                graph[parent].append(child)\n",
    "                inDegree[child] += 1    # increment child's inDegree\n",
    "                break    # only the first different character between the two words will help us find the order\n",
    "\n",
    "    # c. Find all sources i.e., all vertices with 0 in-degrees\n",
    "    sources = deque()\n",
    "    for key in inDegree:\n",
    "        if inDegree[key] == 0:\n",
    "            sources.append(key)\n",
    "\n",
    "    # d. For each source, add it to the sortedOrder and subtract one from all of its children's in-degrees\n",
    "    # if a child's in-degree becomes zero, add it to the sources queue\n",
    "    sortedOrder = []\n",
    "    while sources:\n",
    "        vertex = sources.popleft()\n",
    "        sortedOrder.append(vertex)\n",
    "        for child in graph[vertex]:    # get the node's children to decrement their in-degrees\n",
    "            inDegree[child] -= 1\n",
    "            if inDegree[child] == 0:\n",
    "                sources.append(child)\n",
    "\n",
    "    # if sortedOrder doesn't contain all characters, there is a cyclic dependency between characters, therefore, we\n",
    "    # will not be able to find the correct ordering of the characters\n",
    "    if len(sortedOrder) != len(inDegree):\n",
    "        return \"\"\n",
    "\n",
    "    return ''.join(sortedOrder)\n",
    "\n",
    "\n",
    "def main():\n",
    "    print(\"Character order: \" + find_order([\"ba\", \"bc\", \"ac\", \"cab\"]))\n",
    "    print(\"Character order: \" + find_order([\"cab\", \"aaa\", \"aab\"]))\n",
    "    print(\"Character order: \" + find_order([\"ywx\", \"wz\", \"xww\", \"xz\", \"zyy\", \"zwz\"]))\n",
    "\n",
    "\n",
    "main()"
   ]
  },
  {
   "cell_type": "markdown",
   "metadata": {},
   "source": [
    "## Reconstructing a Sequence (hard)"
   ]
  },
  {
   "cell_type": "markdown",
   "metadata": {},
   "source": [
    "Given a sequence `originalSeq` and an array of sequences, write a method to find if `originalSeq` can be uniquely reconstructed from the array of sequences.\n",
    "\n",
    "Unique reconstruction means that we need to find if `originalSeq` is the only sequence such that all sequences in the array are subsequences of it."
   ]
  },
  {
   "cell_type": "code",
   "execution_count": 44,
   "metadata": {},
   "outputs": [
    {
     "name": "stdout",
     "output_type": "stream",
     "text": [
      "Can construct: True\n",
      "Can construct: False\n",
      "Can construct: True\n"
     ]
    }
   ],
   "source": [
    "from collections import deque\n",
    "\n",
    "\n",
    "def can_construct(originalSeq, sequences):\n",
    "    sortedOrder = []\n",
    "    if len(originalSeq) <= 0:\n",
    "        return False\n",
    "\n",
    "    # a. Initialize the graph\n",
    "    inDegree = {}    # count of incoming edges\n",
    "    graph = {}    # adjacency list graph\n",
    "    for sequence in sequences:\n",
    "        for num in sequence:\n",
    "            inDegree[num] = 0\n",
    "            graph[num] = []\n",
    "\n",
    "    # b. Build the graph\n",
    "    for sequence in sequences:\n",
    "        for i in range(1, len(sequence)):\n",
    "            parent, child = sequence[i - 1], sequence[i]\n",
    "            graph[parent].append(child)\n",
    "            inDegree[child] += 1\n",
    "\n",
    "    # if we don't have ordering rules for all the numbers we'll not able to uniquely construct the sequence\n",
    "    if len(inDegree) != len(originalSeq):\n",
    "        return False\n",
    "\n",
    "    # c. Find all sources i.e., all vertices with 0 in-degrees\n",
    "    sources = deque()\n",
    "    for key in inDegree:\n",
    "        if inDegree[key] == 0:\n",
    "            sources.append(key)\n",
    "\n",
    "    # d. For each source, add it to the sortedOrder and subtract one from all of its children's in-degrees\n",
    "    # if a child's in-degree becomes zero, add it to the sources queue\n",
    "    while sources:\n",
    "        if len(sources) > 1:\n",
    "            return False    # more than one sources mean, there is more than one way to reconstruct the sequence\n",
    "        if originalSeq[len(sortedOrder)] != sources[0]:\n",
    "            # the next source(or number) is different from the original sequence\n",
    "            return False\n",
    "\n",
    "        vertex = sources.popleft()\n",
    "        sortedOrder.append(vertex)\n",
    "        for child in graph[vertex]:    # get the node's children to decrement their in-degrees\n",
    "            inDegree[child] -= 1\n",
    "            if inDegree[child] == 0:\n",
    "                sources.append(child)\n",
    "\n",
    "    # if sortedOrder's size is not equal to original sequence's size, there is no unique way to construct\n",
    "    return len(sortedOrder) == len(originalSeq)\n",
    "\n",
    "\n",
    "def main():\n",
    "    print(\"Can construct: \" +\n",
    "                str(can_construct([1, 2, 3, 4], [[1, 2], [2, 3], [3, 4]])))\n",
    "    print(\"Can construct: \" +\n",
    "                str(can_construct([1, 2, 3, 4], [[1, 2], [2, 3], [2, 4]])))\n",
    "    print(\"Can construct: \" +\n",
    "                str(can_construct([3, 1, 4, 2, 5], [[3, 1, 5], [1, 4, 2, 5]])))\n",
    "\n",
    "\n",
    "main()"
   ]
  },
  {
   "cell_type": "markdown",
   "metadata": {},
   "source": [
    "## Minimum Height Trees (hard)"
   ]
  },
  {
   "cell_type": "markdown",
   "metadata": {},
   "source": [
    "We are given an undirected graph that has characteristics of a k-ary tree. In such a graph, we can choose any node as the root to make a k-ary tree. The root (or the tree) with the minimum height will be called Minimum Height Tree (MHT). There can be multiple MHTs for a graph. In this problem, we need to find all those roots which give us MHTs. Write a method to find all MHTs of the given graph and return a list of their roots."
   ]
  },
  {
   "cell_type": "code",
   "execution_count": 46,
   "metadata": {},
   "outputs": [
    {
     "name": "stdout",
     "output_type": "stream",
     "text": [
      "Roots of MHTs: [1, 2]\n",
      "Roots of MHTs: [0, 2]\n",
      "Roots of MHTs: [1]\n"
     ]
    }
   ],
   "source": [
    "from collections import deque\n",
    "\n",
    "\n",
    "def find_trees(nodes, edges):\n",
    "    if nodes <= 0:\n",
    "        return []\n",
    "\n",
    "    # with only one node, since its in-degrees will be 0, therefore, we need to handle it separately\n",
    "    if nodes == 1:\n",
    "        return [0]\n",
    "\n",
    "    # a. Initialize the graph\n",
    "    inDegree = {i: 0 for i in range(nodes)}    # count of incoming edges\n",
    "    graph = {i: [] for i in range(nodes)}    # adjacency list graph\n",
    "\n",
    "    # b. Build the graph\n",
    "    for edge in edges:\n",
    "        n1, n2 = edge[0], edge[1]\n",
    "        # since this is an undirected graph, therefore, add a link for both the nodes\n",
    "        graph[n1].append(n2)\n",
    "        graph[n2].append(n1)\n",
    "        # increment the in-degrees of both the nodes\n",
    "        inDegree[n1] += 1\n",
    "        inDegree[n2] += 1\n",
    "\n",
    "    # c. Find all leaves i.e., all nodes with 0 in-degrees\n",
    "    leaves = deque()\n",
    "    for key in inDegree:\n",
    "        if inDegree[key] == 1:\n",
    "            leaves.append(key)\n",
    "\n",
    "    # d. Remove leaves level by level and subtract each leave's children's in-degrees.\n",
    "    # Repeat this until we are left with 1 or 2 nodes, which will be our answer.\n",
    "    # Any node that has already been a leaf cannot be the root of a minimum height tree, because\n",
    "    # its adjacent non-leaf node will always be a better candidate.\n",
    "    totalNodes = nodes\n",
    "    while totalNodes > 2:\n",
    "        leavesSize = len(leaves)\n",
    "        totalNodes -= leavesSize\n",
    "        for i in range(0, leavesSize):\n",
    "            vertex = leaves.popleft()\n",
    "            # get the node's children to decrement their in-degrees\n",
    "            for child in graph[vertex]:\n",
    "                inDegree[child] -= 1\n",
    "                if inDegree[child] == 1:\n",
    "                    leaves.append(child)\n",
    "\n",
    "    return list(leaves)\n",
    "\n",
    "\n",
    "def main():\n",
    "    print(\"Roots of MHTs: \" +\n",
    "                str(find_trees(5, [[0, 1], [1, 2], [1, 3], [2, 4]])))\n",
    "    print(\"Roots of MHTs: \" +\n",
    "                str(find_trees(4, [[0, 1], [0, 2], [2, 3]])))\n",
    "    print(\"Roots of MHTs: \" +\n",
    "                str(find_trees(4, [[1, 2], [1, 3]])))\n",
    "\n",
    "\n",
    "main()"
   ]
  },
  {
   "cell_type": "markdown",
   "metadata": {},
   "source": [
    "# Kth Smallest Number (hard)"
   ]
  },
  {
   "cell_type": "markdown",
   "metadata": {},
   "source": [
    "## Brute-force"
   ]
  },
  {
   "cell_type": "code",
   "execution_count": 47,
   "metadata": {},
   "outputs": [
    {
     "name": "stdout",
     "output_type": "stream",
     "text": [
      "Kth smallest number is: 5\n",
      "Kth smallest number is: 5\n",
      "Kth smallest number is: 11\n"
     ]
    }
   ],
   "source": [
    "import math\n",
    "\n",
    "\n",
    "def find_Kth_smallest_number(nums, k):\n",
    "    # to handle duplicates, we will keep track of previous smallest number and its index\n",
    "    previousSmallestNum, previousSmallestIndex = -math.inf, -1\n",
    "    currentSmallestNum, currentSmallestIndex = math.inf, -1\n",
    "    for i in range(k):\n",
    "        for j in range(len(nums)):\n",
    "            if nums[j] > previousSmallestNum and nums[j] < currentSmallestNum:\n",
    "                # found the next smallest number\n",
    "                currentSmallestNum = nums[j]\n",
    "                currentSmallestIndex = j\n",
    "            elif nums[j] == previousSmallestNum and j > previousSmallestIndex:\n",
    "                # found a number which is equal to the previous smallest number; since numbers can repeat,\n",
    "                # we will consider 'nums[j]' only if it has a different index than previous smallest\n",
    "                currentSmallestNum = nums[j]\n",
    "                currentSmallestIndex = j\n",
    "                break    # break here as we have found our definitive next smallest number\n",
    "\n",
    "        # current smallest number becomes previous smallest number for the next iteration\n",
    "        previousSmallestNum = currentSmallestNum\n",
    "        previousSmallestIndex = currentSmallestIndex\n",
    "        currentSmallestNum = math.inf\n",
    "\n",
    "    return previousSmallestNum\n",
    "\n",
    "\n",
    "def main():\n",
    "\n",
    "    print(\"Kth smallest number is: \" +\n",
    "                str(find_Kth_smallest_number([1, 5, 12, 2, 11, 5], 3)))\n",
    "\n",
    "    # since there are two 5s in the input array, our 3rd and 4th smallest numbers should be a '5'\n",
    "    print(\"Kth smallest number is: \" +\n",
    "                str(find_Kth_smallest_number([1, 5, 12, 2, 11, 5], 4)))\n",
    "\n",
    "    print(\"Kth smallest number is: \" +\n",
    "                str(find_Kth_smallest_number([5, 12, 11, -1, 12], 3)))\n",
    "\n",
    "\n",
    "main()"
   ]
  },
  {
   "cell_type": "markdown",
   "metadata": {},
   "source": [
    "## Brute-force using Sorting"
   ]
  },
  {
   "cell_type": "code",
   "execution_count": 48,
   "metadata": {},
   "outputs": [
    {
     "name": "stdout",
     "output_type": "stream",
     "text": [
      "Kth smallest number is: 5\n",
      "Kth smallest number is: 5\n",
      "Kth smallest number is: 11\n"
     ]
    }
   ],
   "source": [
    "def find_Kth_smallest_number(nums, k):\n",
    "    return sorted(nums)[k-1]\n",
    "\n",
    "\n",
    "def main():\n",
    "\n",
    "    print(\"Kth smallest number is: \" +\n",
    "                str(find_Kth_smallest_number([1, 5, 12, 2, 11, 5], 3)))\n",
    "\n",
    "    # since there are two 5s in the input array, our 3rd and 4th smallest numbers should be a '5'\n",
    "    print(\"Kth smallest number is: \" +\n",
    "                str(find_Kth_smallest_number([1, 5, 12, 2, 11, 5], 4)))\n",
    "\n",
    "    print(\"Kth smallest number is: \" +\n",
    "                str(find_Kth_smallest_number([5, 12, 11, -1, 12], 3)))\n",
    "\n",
    "\n",
    "main()"
   ]
  },
  {
   "cell_type": "markdown",
   "metadata": {},
   "source": [
    "## Using Max-Heap"
   ]
  },
  {
   "cell_type": "code",
   "execution_count": 50,
   "metadata": {},
   "outputs": [
    {
     "name": "stdout",
     "output_type": "stream",
     "text": [
      "Kth smallest number is: 5\n",
      "Kth smallest number is: 5\n",
      "Kth smallest number is: 11\n"
     ]
    }
   ],
   "source": [
    "from heapq import *\n",
    "\n",
    "\n",
    "def find_Kth_smallest_number(nums, k):\n",
    "    maxHeap = []\n",
    "    # put first k numbers in the max heap\n",
    "    for i in range(k):\n",
    "        heappush(maxHeap, -nums[i])\n",
    "\n",
    "    # go through the remaining numbers of the array, if the number from the array is smaller than the\n",
    "    # top(biggest) number of the heap, remove the top number from heap and add the number from array\n",
    "    for i in range(k, len(nums)):\n",
    "        if -nums[i] > maxHeap[0]:\n",
    "            heappop(maxHeap)\n",
    "            heappush(maxHeap, -nums[i])\n",
    "\n",
    "    # the root of the heap has the Kth smallest number\n",
    "    return -maxHeap[0]\n",
    "\n",
    "\n",
    "def main():\n",
    "    print(\"Kth smallest number is: \" +\n",
    "                str(find_Kth_smallest_number([1, 5, 12, 2, 11, 5], 3)))\n",
    "\n",
    "    # since there are two 5s in the input array, our 3rd and 4th smallest numbers should be a '5'\n",
    "    print(\"Kth smallest number is: \" +\n",
    "                str(find_Kth_smallest_number([1, 5, 12, 2, 11, 5], 4)))\n",
    "\n",
    "    print(\"Kth smallest number is: \" +\n",
    "                str(find_Kth_smallest_number([5, 12, 11, -1, 12], 3)))\n",
    "\n",
    "\n",
    "main()"
   ]
  },
  {
   "cell_type": "markdown",
   "metadata": {},
   "source": [
    "## Using Min-Heap"
   ]
  },
  {
   "cell_type": "code",
   "execution_count": 51,
   "metadata": {},
   "outputs": [
    {
     "name": "stdout",
     "output_type": "stream",
     "text": [
      "Kth smallest number is: 5\n",
      "Kth smallest number is: 5\n",
      "Kth smallest number is: 11\n"
     ]
    }
   ],
   "source": [
    "from heapq import *\n",
    "\n",
    "\n",
    "def find_Kth_smallest_number(nums, k):\n",
    "    maxHeap = []\n",
    "    # put first k numbers in the max heap\n",
    "    for i in range(k):\n",
    "        heappush(maxHeap, -nums[i])\n",
    "\n",
    "    # go through the remaining numbers of the array, if the number from the array is smaller than the\n",
    "    # top(biggest) number of the heap, remove the top number from heap and add the number from array\n",
    "    for i in range(k, len(nums)):\n",
    "        if -nums[i] > maxHeap[0]:\n",
    "            heappop(maxHeap)\n",
    "            heappush(maxHeap, -nums[i])\n",
    "\n",
    "    # the root of the heap has the Kth smallest number\n",
    "    return -maxHeap[0]\n",
    "\n",
    "\n",
    "def main():\n",
    "    print(\"Kth smallest number is: \" +\n",
    "                str(find_Kth_smallest_number([1, 5, 12, 2, 11, 5], 3)))\n",
    "\n",
    "    # since there are two 5s in the input array, our 3rd and 4th smallest numbers should be a '5'\n",
    "    print(\"Kth smallest number is: \" +\n",
    "                str(find_Kth_smallest_number([1, 5, 12, 2, 11, 5], 4)))\n",
    "\n",
    "    print(\"Kth smallest number is: \" +\n",
    "                str(find_Kth_smallest_number([5, 12, 11, -1, 12], 3)))\n",
    "\n",
    "\n",
    "main()"
   ]
  },
  {
   "cell_type": "markdown",
   "metadata": {},
   "source": [
    "## Using Partition Scheme of Quicksort"
   ]
  },
  {
   "cell_type": "code",
   "execution_count": 52,
   "metadata": {},
   "outputs": [
    {
     "name": "stdout",
     "output_type": "stream",
     "text": [
      "Kth smallest number is: 5\n",
      "Kth smallest number is: 5\n",
      "Kth smallest number is: 11\n"
     ]
    }
   ],
   "source": [
    "def find_Kth_smallest_number(nums, k):\n",
    "    return find_Kth_smallest_number_rec(nums, k, 0, len(nums) - 1)\n",
    "\n",
    "\n",
    "def find_Kth_smallest_number_rec(nums, k, start, end):\n",
    "    p = partition(nums, start, end)\n",
    "\n",
    "    if p == k - 1:\n",
    "        return nums[p]\n",
    "\n",
    "    if p > k - 1:    # search lower part\n",
    "        return find_Kth_smallest_number_rec(nums, k, start, p - 1)\n",
    "\n",
    "    # search higher part\n",
    "    return find_Kth_smallest_number_rec(nums, k, p + 1, end)\n",
    "\n",
    "\n",
    "def partition(nums, low, high):\n",
    "    if low == high:\n",
    "        return low\n",
    "\n",
    "    pivot = nums[high]\n",
    "    for i in range(low, high):\n",
    "        # all elements less than 'pivot' will be before the index 'low'\n",
    "        if nums[i] < pivot:\n",
    "            nums[low], nums[i] = nums[i], nums[low]\n",
    "            low += 1\n",
    "\n",
    "    # put the pivot in its correct place\n",
    "    nums[low], nums[high] = nums[high], nums[low]\n",
    "    return low\n",
    "\n",
    "\n",
    "def main():\n",
    "    print(\"Kth smallest number is: \" +\n",
    "                str(find_Kth_smallest_number([1, 5, 12, 2, 11, 5], 3)))\n",
    "\n",
    "    # since there are two 5s in the input array, our 3rd and 4th smallest numbers should be a '5'\n",
    "    print(\"Kth smallest number is: \" +\n",
    "                str(find_Kth_smallest_number([1, 5, 12, 2, 11, 5], 4)))\n",
    "\n",
    "    print(\"Kth smallest number is: \" +\n",
    "                str(find_Kth_smallest_number([5, 12, 11, -1, 12], 3)))\n",
    "\n",
    "\n",
    "main()"
   ]
  },
  {
   "cell_type": "markdown",
   "metadata": {},
   "source": [
    "## Using Randomized Partitioning Scheme of Quicksort"
   ]
  },
  {
   "cell_type": "code",
   "execution_count": 55,
   "metadata": {},
   "outputs": [
    {
     "name": "stdout",
     "output_type": "stream",
     "text": [
      "Kth smallest number is: 5\n",
      "Kth smallest number is: 5\n",
      "Kth smallest number is: 11\n"
     ]
    }
   ],
   "source": [
    "import random\n",
    "\n",
    "\n",
    "def find_Kth_smallest_number(nums, k):\n",
    "    return find_Kth_smallest_number_rec(nums, k, 0, len(nums) - 1)\n",
    "\n",
    "\n",
    "def find_Kth_smallest_number_rec(nums, k, start, end):\n",
    "    p = partition(nums, start, end)\n",
    "\n",
    "    if p == k - 1:\n",
    "        return nums[p]\n",
    "\n",
    "    if p > k - 1:    # search lower part\n",
    "        return find_Kth_smallest_number_rec(nums, k, start, p - 1)\n",
    "\n",
    "    # search higher part\n",
    "    return find_Kth_smallest_number_rec(nums, k, p + 1, end)\n",
    "\n",
    "\n",
    "def partition(nums, low, high):\n",
    "    if low == high:\n",
    "        return low\n",
    "\n",
    "    pivotIndex = random.randint(low, high)\n",
    "    nums[pivotIndex], nums[high] = nums[high], nums[pivotIndex]\n",
    "\n",
    "    pivot = nums[high]\n",
    "    for i in range(low, high):\n",
    "        # all elements less than 'pivot' will be before the index 'low'\n",
    "        if nums[i] < pivot:\n",
    "            nums[low], nums[i] = nums[i], nums[low]\n",
    "            low += 1\n",
    "\n",
    "    # put the pivot in its correct place\n",
    "    nums[low], nums[high] = nums[high], nums[low]\n",
    "    return low\n",
    "\n",
    "\n",
    "def main():\n",
    "    print(\"Kth smallest number is: \" +\n",
    "          str(find_Kth_smallest_number([1, 5, 12, 2, 11, 5], 3)))\n",
    "\n",
    "    # since there are two 5s in the input array, our 3rd and 4th smallest numbers should be a '5'\n",
    "    print(\"Kth smallest number is: \" +\n",
    "          str(find_Kth_smallest_number([1, 5, 12, 2, 11, 5], 4)))\n",
    "\n",
    "    print(\"Kth smallest number is: \" +\n",
    "          str(find_Kth_smallest_number([5, 12, 11, -1, 12], 3)))\n",
    "\n",
    "\n",
    "main()"
   ]
  },
  {
   "cell_type": "markdown",
   "metadata": {},
   "source": [
    "## Using the Median of Medians"
   ]
  },
  {
   "cell_type": "code",
   "execution_count": 2,
   "metadata": {},
   "outputs": [
    {
     "name": "stdout",
     "output_type": "stream",
     "text": [
      "Kth smallest number is: 5\n",
      "Kth smallest number is: 5\n",
      "Kth smallest number is: 11\n"
     ]
    }
   ],
   "source": [
    "def find_Kth_smallest_number(nums, k):\n",
    "    return find_Kth_smallest_number_rec(nums, k, 0, len(nums) - 1)\n",
    "\n",
    "\n",
    "def find_Kth_smallest_number_rec(nums, k, start, end):\n",
    "    p = partition(nums, start, end)\n",
    "\n",
    "    if p == k - 1:\n",
    "        return nums[p]\n",
    "\n",
    "    if p > k - 1:    # search lower part\n",
    "        return find_Kth_smallest_number_rec(nums, k, start, p - 1)\n",
    "\n",
    "    # search higher part\n",
    "    return find_Kth_smallest_number_rec(nums, k, p + 1, end)\n",
    "\n",
    "\n",
    "def partition(nums, low, high):\n",
    "    if low == high:\n",
    "        return low\n",
    "\n",
    "    median = median_of_medians(nums, low, high)\n",
    "    # find the median in the array and swap it with 'nums[high]' which will become our pivot\n",
    "    for i in range(low, high):\n",
    "        if nums[i] == median:\n",
    "            nums[i], nums[high] = nums[high], nums[i]\n",
    "            break\n",
    "\n",
    "    pivot = nums[high]\n",
    "    for i in range(low, high):\n",
    "        # all elements less than 'pivot' will be before the index 'low'\n",
    "        if nums[i] < pivot:\n",
    "            nums[low], nums[i] = nums[i], nums[low]\n",
    "            low += 1\n",
    "\n",
    "    # put the pivot in its correct place\n",
    "    nums[low], nums[high] = nums[high], nums[low]\n",
    "    return low\n",
    "\n",
    "\n",
    "def median_of_medians(nums, low, high):\n",
    "    n = high - low + 1\n",
    "    # if we have less than 5 elements, ignore the partitioning algorithm\n",
    "    if n < 5:\n",
    "        return nums[low]\n",
    "\n",
    "    # partition the given array into chunks of 5 elements\n",
    "    partitions = [nums[j:j+5] for j in range(low, high+1, 5)]\n",
    "\n",
    "    # for simplicity, lets ignore any partition with less than 5 elements\n",
    "    fullPartitions = [\n",
    "        partition for partition in partitions if len(partition) == 5]\n",
    "\n",
    "    # sort all partitions\n",
    "    sortedPartitions = [sorted(partition) for partition in fullPartitions]\n",
    "\n",
    "    # find median of all partations; the median of each partition is at index '2'\n",
    "    medians = [partition[2] for partition in sortedPartitions]\n",
    "\n",
    "    return partition(medians, 0, len(medians)-1)\n",
    "\n",
    "\n",
    "def main():\n",
    "    print(\"Kth smallest number is: \" +\n",
    "          str(find_Kth_smallest_number([1, 5, 12, 2, 11, 5], 3)))\n",
    "\n",
    "    # since there are two 5s in the input array, our 3rd and 4th smallest numbers should be a '5'\n",
    "    print(\"Kth smallest number is: \" +\n",
    "          str(find_Kth_smallest_number([1, 5, 12, 2, 11, 5], 4)))\n",
    "\n",
    "    print(\"Kth smallest number is: \" +\n",
    "          str(find_Kth_smallest_number([5, 12, 11, -1, 12], 3)))\n",
    "\n",
    "\n",
    "main()"
   ]
  },
  {
   "cell_type": "code",
   "execution_count": null,
   "metadata": {},
   "outputs": [],
   "source": []
  }
 ],
 "metadata": {
  "kernelspec": {
   "display_name": "Python 3",
   "language": "python",
   "name": "python3"
  },
  "language_info": {
   "codemirror_mode": {
    "name": "ipython",
    "version": 3
   },
   "file_extension": ".py",
   "mimetype": "text/x-python",
   "name": "python",
   "nbconvert_exporter": "python",
   "pygments_lexer": "ipython3",
   "version": "3.6.6"
  },
  "toc": {
   "base_numbering": 1,
   "nav_menu": {},
   "number_sections": true,
   "sideBar": true,
   "skip_h1_title": false,
   "title_cell": "Table of Contents",
   "title_sidebar": "Contents",
   "toc_cell": false,
   "toc_position": {},
   "toc_section_display": true,
   "toc_window_display": false
  }
 },
 "nbformat": 4,
 "nbformat_minor": 4
}
