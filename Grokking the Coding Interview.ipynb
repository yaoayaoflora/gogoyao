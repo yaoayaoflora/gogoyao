{
 "cells": [
  {
   "cell_type": "markdown",
   "metadata": {},
   "source": [
    "# Sliding Window"
   ]
  },
  {
   "cell_type": "markdown",
   "metadata": {},
   "source": [
    "## Introduction"
   ]
  },
  {
   "cell_type": "markdown",
   "metadata": {},
   "source": [
    "Given an array, find the average of all contiguous subarrays of size ‘K’ in it."
   ]
  },
  {
   "cell_type": "code",
   "execution_count": 1,
   "metadata": {},
   "outputs": [
    {
     "name": "stdout",
     "output_type": "stream",
     "text": [
      "Averages of subarrays of size K: [2.2, 2.8, 2.4, 3.6, 2.8]\n"
     ]
    }
   ],
   "source": [
    "def find_averages_of_subarrays(K, arr):\n",
    "    result = []\n",
    "    for i in range(len(arr)-K+1):\n",
    "        # find sum of next 'K' elements\n",
    "        _sum = 0.0\n",
    "        for j in range(i, i+K):\n",
    "            _sum += arr[j]\n",
    "        result.append(_sum/K)  # calculate average\n",
    "    \n",
    "    return result\n",
    "\n",
    "\n",
    "def main():\n",
    "    result = find_averages_of_subarrays(5, [1, 3, 2, 6, -1, 4, 1, 8, 2])\n",
    "    print(\"Averages of subarrays of size K: \" + str(result))\n",
    "\n",
    "\n",
    "main()"
   ]
  },
  {
   "cell_type": "code",
   "execution_count": 2,
   "metadata": {},
   "outputs": [
    {
     "name": "stdout",
     "output_type": "stream",
     "text": [
      "Averages of subarrays of size K: [2.2, 2.8, 2.4, 3.6, 2.8]\n"
     ]
    }
   ],
   "source": [
    "def find_averages_of_subarrays(K, arr):\n",
    "    result = []\n",
    "    windowSum, windowStart = 0.0, 0\n",
    "    for windowEnd in range(len(arr)):\n",
    "        windowSum += arr[windowEnd]  # add the next element\n",
    "        # slide the window, we don't need to slide if we've not hit the required window size of 'k'\n",
    "        if windowEnd >= K - 1:\n",
    "            result.append(windowSum / K)  # calculate the average\n",
    "            windowSum -= arr[windowStart]  # subtract the element going out\n",
    "            windowStart += 1  # slide the window ahead\n",
    "\n",
    "    return result\n",
    "\n",
    "\n",
    "def main():\n",
    "    result = find_averages_of_subarrays(5, [1, 3, 2, 6, -1, 4, 1, 8, 2])\n",
    "    print(\"Averages of subarrays of size K: \" + str(result))\n",
    "\n",
    "\n",
    "main()"
   ]
  },
  {
   "cell_type": "markdown",
   "metadata": {},
   "source": [
    "## Maximum Sum Subarray of Size K (easy)"
   ]
  },
  {
   "cell_type": "markdown",
   "metadata": {},
   "source": [
    "Given an array of positive numbers and a positive number ‘k’, find the maximum sum of any contiguous subarray of size ‘k’."
   ]
  },
  {
   "cell_type": "code",
   "execution_count": 3,
   "metadata": {},
   "outputs": [
    {
     "name": "stdout",
     "output_type": "stream",
     "text": [
      "Maximum sum of a subarray of size K: 9\n",
      "Maximum sum of a subarray of size K: 7\n"
     ]
    }
   ],
   "source": [
    "def max_sub_array_of_size_k(k, arr):\n",
    "    max_sum = 0\n",
    "    window_sum = 0\n",
    "\n",
    "    for i in range(len(arr) - k + 1):\n",
    "        window_sum = 0\n",
    "        for j in range(i, i+k):\n",
    "            window_sum += arr[j]\n",
    "        max_sum = max(max_sum, window_sum)\n",
    "    return max_sum\n",
    "\n",
    "\n",
    "def main():\n",
    "    print(\"Maximum sum of a subarray of size K: \" + str(max_sub_array_of_size_k(3, [2, 1, 5, 1, 3, 2])))\n",
    "    print(\"Maximum sum of a subarray of size K: \" + str(max_sub_array_of_size_k(2, [2, 3, 4, 1, 5])))\n",
    "\n",
    "\n",
    "main()"
   ]
  },
  {
   "cell_type": "code",
   "execution_count": 4,
   "metadata": {},
   "outputs": [
    {
     "name": "stdout",
     "output_type": "stream",
     "text": [
      "Maximum sum of a subarray of size K: 9\n",
      "Maximum sum of a subarray of size K: 7\n"
     ]
    }
   ],
   "source": [
    "def max_sub_array_of_size_k(k, arr):\n",
    "    max_sum , window_sum = 0, 0\n",
    "    window_start = 0\n",
    "\n",
    "    for window_end in range(len(arr)):\n",
    "        window_sum += arr[window_end]  # add the next element\n",
    "        # slide the window, we don't need to slide if we've not hit the required window size of 'k'\n",
    "        if window_end >= k-1:\n",
    "            max_sum = max(max_sum, window_sum)\n",
    "            window_sum -= arr[window_start]  # subtract the element going out\n",
    "            window_start += 1  # slide the window ahead\n",
    "    return max_sum\n",
    "\n",
    "\n",
    "def main():\n",
    "    print(\"Maximum sum of a subarray of size K: \" + str(max_sub_array_of_size_k(3, [2, 1, 5, 1, 3, 2])))\n",
    "    print(\"Maximum sum of a subarray of size K: \" + str(max_sub_array_of_size_k(2, [2, 3, 4, 1, 5])))\n",
    "\n",
    "main()"
   ]
  },
  {
   "cell_type": "markdown",
   "metadata": {},
   "source": [
    "## Smallest Subarray with a given sum (easy)"
   ]
  },
  {
   "cell_type": "markdown",
   "metadata": {},
   "source": [
    "Given an array of positive numbers and a positive number ‘S’, find the length of the smallest contiguous subarray whose sum is greater than or equal to ‘S’. Return 0, if no such subarray exists."
   ]
  },
  {
   "cell_type": "code",
   "execution_count": 5,
   "metadata": {},
   "outputs": [
    {
     "name": "stdout",
     "output_type": "stream",
     "text": [
      "Smallest subarray length: 2\n",
      "Smallest subarray length: 1\n",
      "Smallest subarray length: 3\n"
     ]
    }
   ],
   "source": [
    "import math\n",
    "\n",
    "\n",
    "def smallest_subarray_with_given_sum(s, arr):\n",
    "    window_sum = 0\n",
    "    min_length = math.inf\n",
    "    window_start = 0\n",
    "\n",
    "    for window_end in range(0, len(arr)):\n",
    "        window_sum += arr[window_end]  # add the next element\n",
    "        # shrink the window as small as possible until the 'window_sum' is smaller than 's'\n",
    "        while window_sum >= s:\n",
    "            min_length = min(min_length, window_end - window_start + 1)\n",
    "            window_sum -= arr[window_start]\n",
    "            window_start += 1\n",
    "    if min_length == math.inf:\n",
    "        return 0\n",
    "    return min_length\n",
    "\n",
    "\n",
    "def main():\n",
    "    print(\"Smallest subarray length: \" + str(smallest_subarray_with_given_sum(7, [2, 1, 5, 2, 3, 2])))\n",
    "    print(\"Smallest subarray length: \" + str(smallest_subarray_with_given_sum(7, [2, 1, 5, 2, 8])))\n",
    "    print(\"Smallest subarray length: \" + str(smallest_subarray_with_given_sum(8, [3, 4, 1, 1, 6])))\n",
    "\n",
    "\n",
    "main()"
   ]
  },
  {
   "cell_type": "markdown",
   "metadata": {},
   "source": [
    "## Longest Substring with K Distinct Characters (medium)"
   ]
  },
  {
   "cell_type": "markdown",
   "metadata": {},
   "source": [
    "Given a string, find the length of the longest substring in it with no more than K distinct characters."
   ]
  },
  {
   "cell_type": "code",
   "execution_count": 6,
   "metadata": {},
   "outputs": [
    {
     "name": "stdout",
     "output_type": "stream",
     "text": [
      "Length of the longest substr1ing: 4\n",
      "Length of the longest substr1ing: 2\n",
      "Length of the longest substr1ing: 5\n"
     ]
    }
   ],
   "source": [
    "def longest_substring_with_k_distinct(str1, k):\n",
    "    window_start = 0\n",
    "    max_length = 0\n",
    "    char_frequency = {}\n",
    "\n",
    "    # in the following loop we'll try to extend the range [window_start, window_end]\n",
    "    for window_end in range(len(str1)):\n",
    "        right_char = str1[window_end]\n",
    "        if right_char not in char_frequency:\n",
    "            char_frequency[right_char] = 0\n",
    "        char_frequency[right_char] += 1\n",
    "\n",
    "        # shrink the sliding window, until we are left with 'k' distinct characters in the char_frequency\n",
    "        while len(char_frequency) > k:\n",
    "            left_char = str1[window_start]\n",
    "            char_frequency[left_char] -= 1\n",
    "            if char_frequency[left_char] == 0:\n",
    "                del char_frequency[left_char]\n",
    "            window_start += 1  # shrink the window\n",
    "        # remember the maximum length so far\n",
    "        max_length = max(max_length, window_end-window_start + 1)\n",
    "    return max_length\n",
    "\n",
    "\n",
    "def main():\n",
    "    print(\"Length of the longest substr1ing: \" + str(longest_substring_with_k_distinct(\"araaci\", 2)))\n",
    "    print(\"Length of the longest substr1ing: \" + str(longest_substring_with_k_distinct(\"araaci\", 1)))\n",
    "    print(\"Length of the longest substr1ing: \" + str(longest_substring_with_k_distinct(\"cbbebi\", 3)))\n",
    "\n",
    "\n",
    "main()"
   ]
  },
  {
   "cell_type": "markdown",
   "metadata": {},
   "source": [
    "## Fruits into Baskets (medium)"
   ]
  },
  {
   "cell_type": "markdown",
   "metadata": {},
   "source": [
    "Given an array of characters where each character represents a fruit tree, you are given two baskets and your goal is to put maximum number of fruits in each basket. The only restriction is that each basket can have only one type of fruit.\n",
    "\n",
    "You can start with any tree, but once you have started you can’t skip a tree. You will pick one fruit from each tree until you cannot, i.e., you will stop when you have to pick from a third fruit type.\n",
    "\n",
    "Write a function to return the maximum number of fruits in both the baskets."
   ]
  },
  {
   "cell_type": "code",
   "execution_count": 7,
   "metadata": {},
   "outputs": [
    {
     "name": "stdout",
     "output_type": "stream",
     "text": [
      "Maximum number of fruits: 3\n",
      "Maximum number of fruits: 5\n"
     ]
    }
   ],
   "source": [
    "def fruits_into_baskets(fruits):\n",
    "    window_start = 0\n",
    "    max_length = 0\n",
    "    fruit_frequency = {}\n",
    "\n",
    "    # try to extend the range [window_start, window_end]\n",
    "    for window_end in range(len(fruits)):\n",
    "        right_fruit = fruits[window_end]\n",
    "        if right_fruit not in fruit_frequency:\n",
    "            fruit_frequency[right_fruit] = 0\n",
    "        fruit_frequency[right_fruit] += 1\n",
    "\n",
    "        # shrink the sliding window, until we are left with '2' fruits in the fruit frequency dictionary\n",
    "        while len(fruit_frequency) > 2:\n",
    "            left_fruit = fruits[window_start]\n",
    "            fruit_frequency[left_fruit] -= 1\n",
    "            if fruit_frequency[left_fruit] == 0:\n",
    "                del fruit_frequency[left_fruit]\n",
    "            window_start += 1  # shrink the window\n",
    "        max_length = max(max_length, window_end - window_start + 1)\n",
    "    return max_length\n",
    "\n",
    "\n",
    "def main():\n",
    "    print(\"Maximum number of fruits: \" + str(fruits_into_baskets(['A', 'B', 'C', 'A', 'C'])))\n",
    "    print(\"Maximum number of fruits: \" + str(fruits_into_baskets(['A', 'B', 'C', 'B', 'B', 'C'])))\n",
    "\n",
    "\n",
    "main()"
   ]
  },
  {
   "cell_type": "markdown",
   "metadata": {},
   "source": [
    "## No-repeat Substring (hard)"
   ]
  },
  {
   "cell_type": "markdown",
   "metadata": {},
   "source": [
    "Given a string, find the length of the longest substring which has no repeating characters."
   ]
  },
  {
   "cell_type": "code",
   "execution_count": 8,
   "metadata": {},
   "outputs": [
    {
     "name": "stdout",
     "output_type": "stream",
     "text": [
      "Length of the longest substring: 3\n",
      "Length of the longest substring: 2\n",
      "Length of the longest substring: 3\n"
     ]
    }
   ],
   "source": [
    "def non_repeat_substring(str1):\n",
    "    window_start = 0\n",
    "    max_length = 0\n",
    "    char_index_map = {}\n",
    "\n",
    "    # try to extend the range [windowStart, windowEnd]\n",
    "    for window_end in range(len(str1)):\n",
    "        right_char = str1[window_end]\n",
    "        # if the map already contains the 'right_char', shrink the window from the beginning so that\n",
    "        # we have only one occurrence of 'right_char'\n",
    "        if right_char in char_index_map:\n",
    "            # this is tricky; in the current window, we will not have any 'right_char' after its previous index\n",
    "            # and if 'window_start' is already ahead of the last index of 'right_char', we'll keep 'window_start'\n",
    "            window_start = max(window_start, char_index_map[right_char] + 1)\n",
    "        # insert the 'right_char' into the map\n",
    "        char_index_map[right_char] = window_end\n",
    "        # remember the maximum length so far\n",
    "        max_length = max(max_length, window_end - window_start + 1)\n",
    "    return max_length\n",
    "\n",
    "\n",
    "def main():\n",
    "    print(\"Length of the longest substring: \" + str(non_repeat_substring(\"aabccbb\")))\n",
    "    print(\"Length of the longest substring: \" + str(non_repeat_substring(\"abbbb\")))\n",
    "    print(\"Length of the longest substring: \" + str(non_repeat_substring(\"abccde\")))\n",
    "\n",
    "\n",
    "main()"
   ]
  },
  {
   "cell_type": "markdown",
   "metadata": {},
   "source": [
    "## Longest Substring with Same Letters after Replacement (hard)"
   ]
  },
  {
   "cell_type": "markdown",
   "metadata": {},
   "source": [
    "Given a string with lowercase letters only, if you are allowed to replace no more than ‘k’ letters with any letter, find the length of the longest substring having the same letters after replacement."
   ]
  },
  {
   "cell_type": "code",
   "execution_count": 9,
   "metadata": {},
   "outputs": [
    {
     "name": "stdout",
     "output_type": "stream",
     "text": [
      "5\n",
      "4\n",
      "3\n"
     ]
    }
   ],
   "source": [
    "def length_of_longest_substring(str1, k):\n",
    "    window_start, max_length, max_repeat_letter_count = 0, 0, 0\n",
    "    frequency_map = {}\n",
    "\n",
    "    # Try to extend the range [window_start, window_end]\n",
    "    for window_end in range(len(str1)):\n",
    "        right_char = str1[window_end]\n",
    "        if right_char not in frequency_map:\n",
    "            frequency_map[right_char] = 0\n",
    "        frequency_map[right_char] += 1\n",
    "        max_repeat_letter_count = max(\n",
    "            max_repeat_letter_count, frequency_map[right_char])\n",
    "\n",
    "        # Current window size is from window_start to window_end, overall we have a letter which is\n",
    "        # repeating 'max_repeat_letter_count' times, this means we can have a window which has one letter\n",
    "        # repeating 'max_repeat_letter_count' times and the remaining letters we should replace.\n",
    "        # if the remaining letters are more than 'k', it is the time to shrink the window as we\n",
    "        # are not allowed to replace more than 'k' letters\n",
    "        if (window_end - window_start + 1 - max_repeat_letter_count) > k:\n",
    "            left_char = str1[window_start]\n",
    "            frequency_map[left_char] -= 1\n",
    "            window_start += 1\n",
    "\n",
    "        max_length = max(max_length, window_end - window_start + 1)\n",
    "    return max_length\n",
    "\n",
    "\n",
    "def main():\n",
    "    print(length_of_longest_substring(\"aabccbb\", 2))\n",
    "    print(length_of_longest_substring(\"abbcb\", 1))\n",
    "    print(length_of_longest_substring(\"abccde\", 1))\n",
    "\n",
    "\n",
    "main()"
   ]
  },
  {
   "cell_type": "markdown",
   "metadata": {},
   "source": [
    "## Longest Subarray with Ones after Replacement (hard)"
   ]
  },
  {
   "cell_type": "markdown",
   "metadata": {},
   "source": [
    "Given an array containing 0s and 1s, if you are allowed to replace no more than ‘k’ 0s with 1s, find the length of the longest contiguous subarray having all 1s."
   ]
  },
  {
   "cell_type": "code",
   "execution_count": 10,
   "metadata": {},
   "outputs": [
    {
     "name": "stdout",
     "output_type": "stream",
     "text": [
      "6\n",
      "9\n"
     ]
    }
   ],
   "source": [
    "def length_of_longest_substring(arr, k):\n",
    "    window_start, max_length, max_ones_count = 0, 0, 0\n",
    "\n",
    "    # Try to extend the range [window_start, window_end]\n",
    "    for window_end in range(len(arr)):\n",
    "        if arr[window_end] == 1:\n",
    "            max_ones_count += 1\n",
    "\n",
    "        # Current window size is from window_start to window_end, overall we have a maximum of 1s\n",
    "        # repeating 'max_ones_count' times, this means we can have a window with 'max_ones_count' 1s\n",
    "        # and the remaining are 0s which should replace with 1s.\n",
    "        # now, if the remaining 1s are more than 'k', it is the time to shrink the window as we\n",
    "        # are not allowed to replace more than 'k' 0s\n",
    "        if (window_end - window_start + 1 - max_ones_count) > k:\n",
    "            if arr[window_start] == 1:\n",
    "                max_ones_count -= 1\n",
    "            window_start += 1\n",
    "\n",
    "        max_length = max(max_length, window_end - window_start + 1)\n",
    "    return max_length\n",
    "\n",
    "\n",
    "def main():\n",
    "    print(length_of_longest_substring([0, 1, 1, 0, 0, 0, 1, 1, 0, 1, 1], 2))\n",
    "    print(length_of_longest_substring(\n",
    "        [0, 1, 0, 0, 1, 1, 0, 1, 1, 0, 0, 1, 1], 3))\n",
    "\n",
    "\n",
    "main()"
   ]
  },
  {
   "cell_type": "markdown",
   "metadata": {},
   "source": [
    "## Permutation in a String (hard) "
   ]
  },
  {
   "cell_type": "markdown",
   "metadata": {},
   "source": [
    "Given a string and a pattern, find out if the string contains any permutation of the pattern.\n",
    "\n",
    "Permutation is defined as the re-arranging of the characters of the string. For example, “abc” has the following six permutations:\n",
    "\n",
    "1. abc\n",
    "2. acb\n",
    "3. bac\n",
    "4. bca\n",
    "5. cab\n",
    "6. cba\n",
    "\n",
    "If a string has ‘n’ distinct characters it will have $n!$ permutations."
   ]
  },
  {
   "cell_type": "code",
   "execution_count": 11,
   "metadata": {},
   "outputs": [
    {
     "name": "stdout",
     "output_type": "stream",
     "text": [
      "Permutation exist: True\n",
      "Permutation exist: False\n",
      "Permutation exist: True\n",
      "Permutation exist: True\n"
     ]
    }
   ],
   "source": [
    "def find_permutation(str1, pattern):\n",
    "    window_start, matched = 0, 0\n",
    "    char_frequency = {}\n",
    "\n",
    "    for chr in pattern:\n",
    "        if chr not in char_frequency:\n",
    "            char_frequency[chr] = 0\n",
    "        char_frequency[chr] += 1\n",
    "\n",
    "    # our goal is to match all the characters from the 'char_frequency' with the current window\n",
    "    # try to extend the range [window_start, window_end]\n",
    "    for window_end in range(len(str1)):\n",
    "        right_char = str1[window_end]\n",
    "        if right_char in char_frequency:\n",
    "            # decrement the frequency of matched character\n",
    "            char_frequency[right_char] -= 1\n",
    "            if char_frequency[right_char] == 0:\n",
    "                matched += 1\n",
    "\n",
    "        if matched == len(char_frequency):\n",
    "            return True\n",
    "\n",
    "        # shrink the window by one character\n",
    "        if window_end >= len(pattern) - 1:\n",
    "            left_char = str1[window_start]\n",
    "            window_start += 1\n",
    "            if left_char in char_frequency:\n",
    "                if char_frequency[left_char] == 0:\n",
    "                    matched -= 1\n",
    "                char_frequency[left_char] += 1\n",
    "\n",
    "    return False\n",
    "\n",
    "\n",
    "def main():\n",
    "    print('Permutation exist: ' + str(find_permutation(\"oidbcaf\", \"abc\")))\n",
    "    print('Permutation exist: ' + str(find_permutation(\"odicf\", \"dc\")))\n",
    "    print('Permutation exist: ' + str(find_permutation(\"bcdxabcdy\", \"bcdyabcdx\")))\n",
    "    print('Permutation exist: ' + str(find_permutation(\"aaacb\", \"abc\")))\n",
    "\n",
    "\n",
    "main()"
   ]
  },
  {
   "cell_type": "markdown",
   "metadata": {},
   "source": [
    "## String Anagrams (hard)"
   ]
  },
  {
   "cell_type": "markdown",
   "metadata": {},
   "source": [
    "Given a string and a pattern, find all anagrams of the pattern in the given string.\n",
    "\n",
    "Anagram is actually a Permutation of a string. For example, “abc” has the following six anagrams:\n",
    "\n",
    "1. abc\n",
    "2. acb\n",
    "3. bac\n",
    "4. bca\n",
    "5. cab\n",
    "6. cba\n",
    "\n",
    "Write a function to return a list of starting indices of the anagrams of the pattern in the given string."
   ]
  },
  {
   "cell_type": "code",
   "execution_count": 12,
   "metadata": {},
   "outputs": [
    {
     "name": "stdout",
     "output_type": "stream",
     "text": [
      "[1, 2]\n",
      "[2, 3, 4]\n"
     ]
    }
   ],
   "source": [
    "def find_string_anagrams(str1, pattern):\n",
    "    window_start, matched = 0, 0\n",
    "    char_frequency = {}\n",
    "\n",
    "    for chr in pattern:\n",
    "        if chr not in char_frequency:\n",
    "            char_frequency[chr] = 0\n",
    "        char_frequency[chr] += 1\n",
    "\n",
    "    result_indices = []\n",
    "    # Our goal is to match all the characters from the 'char_frequency' with the current window\n",
    "    # try to extend the range [window_start, window_end]\n",
    "    for window_end in range(len(str1)):\n",
    "        right_char = str1[window_end]\n",
    "        if right_char in char_frequency:\n",
    "            # Decrement the frequency of matched character\n",
    "            char_frequency[right_char] -= 1\n",
    "            if char_frequency[right_char] == 0:\n",
    "                matched += 1\n",
    "\n",
    "        if matched == len(char_frequency):    # Have we found an anagram?\n",
    "            result_indices.append(window_start)\n",
    "\n",
    "        # Shrink the sliding window\n",
    "        if window_end >= len(pattern) - 1:\n",
    "            left_char = str1[window_start]\n",
    "            window_start += 1\n",
    "            if left_char in char_frequency:\n",
    "                if char_frequency[left_char] == 0:\n",
    "                    matched -= 1    # Before putting the character back, decrement the matched count\n",
    "                char_frequency[left_char] += 1    # Put the character back\n",
    "\n",
    "    return result_indices\n",
    "\n",
    "\n",
    "def main():\n",
    "    print(find_string_anagrams(\"ppqp\", \"pq\"))\n",
    "    print(find_string_anagrams(\"abbcabc\", \"abc\"))\n",
    "\n",
    "\n",
    "main()"
   ]
  },
  {
   "cell_type": "markdown",
   "metadata": {},
   "source": [
    "## Smallest Window containing Substring (hard)"
   ]
  },
  {
   "cell_type": "markdown",
   "metadata": {},
   "source": [
    "Given a string and a pattern, find the smallest substring in the given string which has all the characters of the given pattern."
   ]
  },
  {
   "cell_type": "code",
   "execution_count": 13,
   "metadata": {},
   "outputs": [
    {
     "name": "stdout",
     "output_type": "stream",
     "text": [
      "abdec\n",
      "abc\n",
      "\n"
     ]
    }
   ],
   "source": [
    "def find_substring(str1, pattern):\n",
    "    window_start, matched, substr_start = 0, 0, 0\n",
    "    min_length = len(str1) + 1\n",
    "    char_frequency = {}\n",
    "\n",
    "    for chr in pattern:\n",
    "        if chr not in char_frequency:\n",
    "            char_frequency[chr] = 0\n",
    "        char_frequency[chr] += 1\n",
    "\n",
    "    # try to extend the range [window_start, window_end]\n",
    "    for window_end in range(len(str1)):\n",
    "        right_char = str1[window_end]\n",
    "        if right_char in char_frequency:\n",
    "            char_frequency[right_char] -= 1\n",
    "            if char_frequency[right_char] >= 0:    # Count every matching of a character\n",
    "                matched += 1\n",
    "\n",
    "        # Shrink the window if we can, finish as soon as we remove a matched character\n",
    "        while matched == len(pattern):\n",
    "            if min_length > window_end - window_start + 1:\n",
    "                min_length = window_end - window_start + 1\n",
    "                substr_start = window_start\n",
    "\n",
    "            left_char = str1[window_start]\n",
    "            window_start += 1\n",
    "            if left_char in char_frequency:\n",
    "                # Note that we could have redundant matching characters, therefore we'll decrement the\n",
    "                # matched count only when a useful occurrence of a matched character is going out of the window\n",
    "                if char_frequency[left_char] == 0:\n",
    "                    matched -= 1\n",
    "                char_frequency[left_char] += 1\n",
    "\n",
    "    if min_length > len(str1):\n",
    "        return \"\"\n",
    "    return str1[substr_start:substr_start + min_length]\n",
    "\n",
    "\n",
    "def main():\n",
    "    print(find_substring(\"aabdec\", \"abc\"))\n",
    "    print(find_substring(\"abdabca\", \"abc\"))\n",
    "    print(find_substring(\"adcad\", \"abc\"))\n",
    "\n",
    "main()"
   ]
  },
  {
   "cell_type": "markdown",
   "metadata": {},
   "source": [
    "## Words Concatenation (hard)"
   ]
  },
  {
   "cell_type": "markdown",
   "metadata": {},
   "source": [
    "Given a string and a list of words, find all the starting indices of substrings in the given string that are a concatenation of all the given words exactly once without any overlapping of words. It is given that all words are of the same length."
   ]
  },
  {
   "cell_type": "code",
   "execution_count": 14,
   "metadata": {},
   "outputs": [
    {
     "name": "stdout",
     "output_type": "stream",
     "text": [
      "[0, 3]\n",
      "[3]\n"
     ]
    }
   ],
   "source": [
    "def find_word_concatenation(str1, words):\n",
    "    if len(words) == 0 or len(words[0]) == 0:\n",
    "        return []\n",
    "\n",
    "    word_frequency = {}\n",
    "\n",
    "    for word in words:\n",
    "        if word not in word_frequency:\n",
    "            word_frequency[word] = 0\n",
    "        word_frequency[word] += 1\n",
    "\n",
    "    result_indices = []\n",
    "    words_count = len(words)\n",
    "    word_length = len(words[0])\n",
    "\n",
    "    for i in range((len(str1) - words_count * word_length)+1):\n",
    "        words_seen = {}\n",
    "        for j in range(0, words_count):\n",
    "            next_word_index = i + j * word_length\n",
    "            # Get the next word from the string\n",
    "            word = str1[next_word_index: next_word_index + word_length]\n",
    "            if word not in word_frequency:    # Break if we don't need this word\n",
    "                break\n",
    "\n",
    "            # Add the word to the 'words_seen' map\n",
    "            if word not in words_seen:\n",
    "                words_seen[word] = 0\n",
    "            words_seen[word] += 1\n",
    "\n",
    "            # No need to process further if the word has higher frequency than required\n",
    "            if words_seen[word] > word_frequency.get(word, 0):\n",
    "                break\n",
    "\n",
    "            if j + 1 == words_count:    # Store index if we have found all the words\n",
    "                result_indices.append(i)\n",
    "\n",
    "    return result_indices\n",
    "\n",
    "\n",
    "def main():\n",
    "    print(find_word_concatenation(\"catfoxcat\", [\"cat\", \"fox\"]))\n",
    "    print(find_word_concatenation(\"catcatfoxfox\", [\"cat\", \"fox\"]))\n",
    "\n",
    "\n",
    "main()"
   ]
  },
  {
   "cell_type": "markdown",
   "metadata": {},
   "source": [
    "# Two Pointers"
   ]
  },
  {
   "cell_type": "markdown",
   "metadata": {},
   "source": [
    "## Pair with Target Sum (easy)"
   ]
  },
  {
   "cell_type": "markdown",
   "metadata": {},
   "source": [
    "Given an array of sorted numbers and a target sum, find a pair in the array whose sum is equal to the given target.\n",
    "\n",
    "Write a function to return the indices of the two numbers (i.e. the pair) such that they add up to the given target."
   ]
  },
  {
   "cell_type": "code",
   "execution_count": 15,
   "metadata": {},
   "outputs": [
    {
     "name": "stdout",
     "output_type": "stream",
     "text": [
      "[1, 3]\n",
      "[0, 2]\n"
     ]
    }
   ],
   "source": [
    "def pair_with_targetsum(arr, target_sum):\n",
    "    left, right = 0, len(arr) - 1\n",
    "    while(left < right):\n",
    "        current_sum = arr[left] + arr[right]\n",
    "        if current_sum == target_sum:\n",
    "            return [left, right]\n",
    "\n",
    "        if target_sum > current_sum:\n",
    "            left += 1  # we need a pair with a bigger sum\n",
    "        else:\n",
    "            right -= 1  # we need a pair with a smaller sum\n",
    "    \n",
    "    return [-1, -1]\n",
    "\n",
    "\n",
    "def main():\n",
    "    print(pair_with_targetsum([1, 2, 3, 4, 6], 6))\n",
    "    print(pair_with_targetsum([2, 5, 9, 11], 11))\n",
    "\n",
    "\n",
    "main()"
   ]
  },
  {
   "cell_type": "code",
   "execution_count": 16,
   "metadata": {},
   "outputs": [
    {
     "name": "stdout",
     "output_type": "stream",
     "text": [
      "[1, 3]\n",
      "[0, 2]\n"
     ]
    }
   ],
   "source": [
    "def pair_with_targetsum(arr, target_sum):\n",
    "    nums = {}  # to store numbers and their indices\n",
    "    for i, num in enumerate(arr):\n",
    "        if target_sum - num in nums:\n",
    "            return [nums[target_sum - num], i]\n",
    "        else:\n",
    "            nums[arr[i]] = i\n",
    "    return [-1, -1]\n",
    "\n",
    "\n",
    "def main():\n",
    "    print(pair_with_targetsum([1, 2, 3, 4, 6], 6))\n",
    "    print(pair_with_targetsum([2, 5, 9, 11], 11))\n",
    "\n",
    "\n",
    "main()"
   ]
  },
  {
   "cell_type": "markdown",
   "metadata": {},
   "source": [
    "## Remove Duplicates (easy)"
   ]
  },
  {
   "cell_type": "markdown",
   "metadata": {},
   "source": [
    "Given an array of sorted numbers, remove all duplicates from it. You should not use any extra space; after removing the duplicates in-place return the new length of the array."
   ]
  },
  {
   "cell_type": "code",
   "execution_count": 17,
   "metadata": {},
   "outputs": [
    {
     "name": "stdout",
     "output_type": "stream",
     "text": [
      "Array new length: 4\n",
      "Array new length: 2\n"
     ]
    }
   ],
   "source": [
    "def remove_element(arr, key):\n",
    "    nextElement = 0    # index of the next element which is not 'key'\n",
    "    for i in range(len(arr)):\n",
    "        if arr[i] != key:\n",
    "            arr[nextElement] = arr[i]\n",
    "            nextElement += 1\n",
    "\n",
    "    return nextElement\n",
    "\n",
    "\n",
    "def main():\n",
    "    print(\"Array new length: \" +\n",
    "                str(remove_element([3, 2, 3, 6, 3, 10, 9, 3], 3)))\n",
    "    print(\"Array new length: \" +\n",
    "                str(remove_element([2, 11, 2, 2, 1], 2)))\n",
    "\n",
    "\n",
    "main()"
   ]
  },
  {
   "cell_type": "markdown",
   "metadata": {},
   "source": [
    "Given an unsorted array of numbers and a target ‘key’, remove all instances of ‘key’ in-place and return the new length of the array."
   ]
  },
  {
   "cell_type": "code",
   "execution_count": 18,
   "metadata": {},
   "outputs": [
    {
     "name": "stdout",
     "output_type": "stream",
     "text": [
      "Array new length: 4\n",
      "Array new length: 2\n"
     ]
    }
   ],
   "source": [
    "def remove_element(arr, key):\n",
    "    nextElement = 0    # index of the next element which is not 'key'\n",
    "    for i in range(len(arr)):\n",
    "        if arr[i] != key:\n",
    "            arr[nextElement] = arr[i]\n",
    "            nextElement += 1\n",
    "\n",
    "    return nextElement\n",
    "\n",
    "\n",
    "def main():\n",
    "    print(\"Array new length: \" +\n",
    "                str(remove_element([3, 2, 3, 6, 3, 10, 9, 3], 3)))\n",
    "    print(\"Array new length: \" +\n",
    "                str(remove_element([2, 11, 2, 2, 1], 2)))\n",
    "\n",
    "\n",
    "main()"
   ]
  },
  {
   "cell_type": "markdown",
   "metadata": {},
   "source": [
    "## Squaring a Sorted Array (easy)"
   ]
  },
  {
   "cell_type": "markdown",
   "metadata": {},
   "source": [
    "Given a sorted array, create a new array containing squares of all the number of the input array in the sorted order."
   ]
  },
  {
   "cell_type": "code",
   "execution_count": 19,
   "metadata": {},
   "outputs": [
    {
     "name": "stdout",
     "output_type": "stream",
     "text": [
      "Squares: [0, 1, 4, 4, 9]\n",
      "Squares: [0, 1, 1, 4, 9]\n"
     ]
    }
   ],
   "source": [
    "def make_squares(arr):\n",
    "    n = len(arr)\n",
    "    squares = [0 for x in range(n)]\n",
    "    highestSquareIdx = n - 1\n",
    "    left, right = 0, n - 1\n",
    "    while left <= right:\n",
    "        leftSquare = arr[left] * arr[left]\n",
    "        rightSquare = arr[right] * arr[right]\n",
    "        if leftSquare > rightSquare:\n",
    "            squares[highestSquareIdx] = leftSquare\n",
    "            left += 1\n",
    "        else:\n",
    "            squares[highestSquareIdx] = rightSquare\n",
    "            right -= 1\n",
    "        highestSquareIdx -= 1\n",
    "\n",
    "    return squares\n",
    "\n",
    "\n",
    "def main():\n",
    "\n",
    "    print(\"Squares: \" + str(make_squares([-2, -1, 0, 2, 3])))\n",
    "    print(\"Squares: \" + str(make_squares([-3, -1, 0, 1, 2])))\n",
    "\n",
    "\n",
    "main()"
   ]
  },
  {
   "cell_type": "markdown",
   "metadata": {},
   "source": [
    "## Triplet Sum to Zero (medium)"
   ]
  },
  {
   "cell_type": "markdown",
   "metadata": {},
   "source": [
    "Given an array of unsorted numbers, find all unique triplets in it that add up to zero."
   ]
  },
  {
   "cell_type": "code",
   "execution_count": 20,
   "metadata": {},
   "outputs": [
    {
     "name": "stdout",
     "output_type": "stream",
     "text": [
      "[[-3, 1, 2], [-2, 0, 2], [-2, 1, 1], [-1, 0, 1]]\n",
      "[[-5, 2, 3], [-2, -1, 3]]\n"
     ]
    }
   ],
   "source": [
    "def search_triplets(arr):\n",
    "    arr.sort()\n",
    "    triplets = []\n",
    "    for i in range(len(arr)):\n",
    "        if i > 0 and arr[i] == arr[i-1]:    # skip same element to avoid duplicate triplets\n",
    "            continue\n",
    "        search_pair(arr, -arr[i], i+1, triplets)\n",
    "\n",
    "    return triplets\n",
    "\n",
    "\n",
    "def search_pair(arr, target_sum, left, triplets):\n",
    "    right = len(arr) - 1\n",
    "    while(left < right):\n",
    "        current_sum = arr[left] + arr[right]\n",
    "        if current_sum == target_sum:    # found the triplet\n",
    "            triplets.append([-target_sum, arr[left], arr[right]])\n",
    "            left += 1\n",
    "            right -= 1\n",
    "            while left < right and arr[left] == arr[left - 1]:\n",
    "                left += 1    # skip same element to avoid duplicate triplets\n",
    "            while left < right and arr[right] == arr[right + 1]:\n",
    "                right -= 1    # skip same element to avoid duplicate triplets\n",
    "        elif target_sum > current_sum:\n",
    "            left += 1    # we need a pair with a bigger sum\n",
    "        else:\n",
    "            right -= 1    # we need a pair with a smaller sum\n",
    "\n",
    "\n",
    "def main():\n",
    "    print(search_triplets([-3, 0, 1, 2, -1, 1, -2]))\n",
    "    print(search_triplets([-5, 2, -1, -2, 3]))\n",
    "\n",
    "\n",
    "main()"
   ]
  },
  {
   "cell_type": "markdown",
   "metadata": {},
   "source": [
    "## Triplet Sum Close to Target (medium)"
   ]
  },
  {
   "cell_type": "markdown",
   "metadata": {},
   "source": [
    "Given an array of unsorted numbers and a target number, find a triplet in the array whose sum is as close to the target number as possible, return the sum of the triplet. If there are more than one such triplet, return the sum of the triplet with the smallest sum."
   ]
  },
  {
   "cell_type": "code",
   "execution_count": 21,
   "metadata": {},
   "outputs": [
    {
     "name": "stdout",
     "output_type": "stream",
     "text": [
      "1\n",
      "0\n",
      "3\n"
     ]
    }
   ],
   "source": [
    "import math\n",
    "\n",
    "\n",
    "def triplet_sum_close_to_target(arr, target_sum):\n",
    "    arr.sort()\n",
    "    smallest_difference = math.inf\n",
    "    for i in range(len(arr)-2):\n",
    "        left = i + 1\n",
    "        right = len(arr) - 1\n",
    "        while (left < right):\n",
    "            target_diff = target_sum - arr[i] - arr[left] - arr[right]\n",
    "            if target_diff == 0:    # we've found a triplet with an exact sum\n",
    "                return target_sum - target_diff    # return sum of all the numbers\n",
    "\n",
    "            # the second part of the following 'if' is to handle the smallest sum when we have more than one solution\n",
    "            if abs(target_diff) < abs(smallest_difference) or (abs(target_diff) == abs(smallest_difference) and target_diff > smallest_difference):\n",
    "                smallest_difference = target_diff    # save the closest and the biggest difference\n",
    "\n",
    "            if target_diff > 0:\n",
    "                left += 1    # we need a triplet with a bigger sum\n",
    "            else:\n",
    "                right -= 1    # we need a triplet with a smaller sum\n",
    "\n",
    "    return target_sum - smallest_difference\n",
    "\n",
    "\n",
    "def main():\n",
    "    print(triplet_sum_close_to_target([-2, 0, 1, 2], 2))\n",
    "    print(triplet_sum_close_to_target([-3, -1, 1, 2], 1))\n",
    "    print(triplet_sum_close_to_target([1, 0, 1, 1], 100))\n",
    "\n",
    "\n",
    "main()"
   ]
  },
  {
   "cell_type": "markdown",
   "metadata": {},
   "source": [
    "## Triplets with Smaller Sum (medium)"
   ]
  },
  {
   "cell_type": "markdown",
   "metadata": {},
   "source": [
    "Given an array `arr` of unsorted numbers and a target sum, count all triplets in it such that `arr[i] + arr[j] + arr[k] < target` where `i`, `j`, and `k` are three different indices. Write a function to return the count of such triplets."
   ]
  },
  {
   "cell_type": "code",
   "execution_count": 22,
   "metadata": {},
   "outputs": [
    {
     "name": "stdout",
     "output_type": "stream",
     "text": [
      "2\n",
      "4\n"
     ]
    }
   ],
   "source": [
    "def triplet_with_smaller_sum(arr, target):\n",
    "    arr.sort()\n",
    "    count = 0\n",
    "    for i in range(len(arr)-2):\n",
    "        count += search_pair(arr, target - arr[i], i)\n",
    "    return count\n",
    "\n",
    "\n",
    "def search_pair(arr, target_sum, first):\n",
    "    count = 0\n",
    "    left, right = first + 1, len(arr) - 1\n",
    "    while (left < right):\n",
    "        if arr[left] + arr[right] < target_sum:    # found the triplet\n",
    "            # since arr[right] >= arr[left], therefore, we can replace arr[right] by any number between\n",
    "            # left and right to get a sum less than the target sum\n",
    "            count += right - left\n",
    "            left += 1\n",
    "        else:\n",
    "            right -= 1    # we need a pair with a smaller sum\n",
    "    return count\n",
    "\n",
    "\n",
    "def main():\n",
    "    print(triplet_with_smaller_sum([-1, 0, 2, 3], 3))\n",
    "    print(triplet_with_smaller_sum([-1, 4, 2, 1, 3], 5))\n",
    "\n",
    "\n",
    "main()"
   ]
  },
  {
   "cell_type": "markdown",
   "metadata": {},
   "source": [
    "Write a function to return the list of all such triplets instead of the count. How will the time complexity change in this case?"
   ]
  },
  {
   "cell_type": "code",
   "execution_count": 23,
   "metadata": {},
   "outputs": [
    {
     "name": "stdout",
     "output_type": "stream",
     "text": [
      "[[-1, 0, 3], [-1, 0, 2]]\n",
      "[[-1, 1, 4], [-1, 1, 3], [-1, 1, 2], [-1, 2, 3]]\n"
     ]
    }
   ],
   "source": [
    "def triplet_with_smaller_sum(arr, target):\n",
    "    arr.sort()\n",
    "    triplets = []\n",
    "    for i in range(len(arr)-2):\n",
    "        search_pair(arr, target - arr[i], i, triplets)\n",
    "    return triplets\n",
    "\n",
    "\n",
    "def search_pair(arr, target_sum, first, triplets):\n",
    "    left = first + 1\n",
    "    right = len(arr) - 1\n",
    "    while (left < right):\n",
    "        if arr[left] + arr[right] < target_sum:    # found the triplet\n",
    "            # since arr[right] >= arr[left], therefore, we can replace arr[right] by any number between\n",
    "            # left and right to get a sum less than the target sum\n",
    "            for i in range(right, left, -1):\n",
    "                triplets.append([arr[first], arr[left], arr[i]])\n",
    "            left += 1\n",
    "        else:\n",
    "            right -= 1    # we need a pair with a smaller sum\n",
    "\n",
    "\n",
    "def main():\n",
    "    print(triplet_with_smaller_sum([-1, 0, 2, 3], 3))\n",
    "    print(triplet_with_smaller_sum([-1, 4, 2, 1, 3], 5))\n",
    "\n",
    "\n",
    "main()"
   ]
  },
  {
   "cell_type": "markdown",
   "metadata": {},
   "source": [
    "## Subarrays with Product Less than a Target (medium)"
   ]
  },
  {
   "cell_type": "markdown",
   "metadata": {},
   "source": [
    "Given an array with positive numbers and a target number, find all of its contiguous subarrays whose product is less than the target number."
   ]
  },
  {
   "cell_type": "code",
   "execution_count": 24,
   "metadata": {},
   "outputs": [
    {
     "name": "stdout",
     "output_type": "stream",
     "text": [
      "[[2], [5], [2, 5], [3], [5, 3], [10]]\n",
      "[[8], [2], [8, 2], [6], [2, 6], [5], [6, 5]]\n"
     ]
    }
   ],
   "source": [
    "from collections import deque\n",
    "\n",
    "\n",
    "def find_subarrays(arr, target):\n",
    "    result = []\n",
    "    product = 1\n",
    "    left = 0\n",
    "    for right in range(len(arr)):\n",
    "        product *= arr[right]\n",
    "        while (product >= target and left < len(arr)):\n",
    "            product /= arr[left]\n",
    "            left += 1\n",
    "        # since the product of all numbers from left to right is less than the target therefore,\n",
    "        # all subarrays from left to right will have a product less than the target too; to avoid\n",
    "        # duplicates, we will start with a subarray containing only arr[right] and then extend it\n",
    "        temp_list = deque()\n",
    "        for i in range(right, left-1, -1):\n",
    "            temp_list.appendleft(arr[i])\n",
    "            result.append(list(temp_list))\n",
    "    return result\n",
    "\n",
    "\n",
    "def main():\n",
    "    print(find_subarrays([2, 5, 3, 10], 30))\n",
    "    print(find_subarrays([8, 2, 6, 5], 50))\n",
    "\n",
    "\n",
    "main()"
   ]
  },
  {
   "cell_type": "markdown",
   "metadata": {},
   "source": [
    "## Dutch National Flag Problem (medium)"
   ]
  },
  {
   "cell_type": "markdown",
   "metadata": {},
   "source": [
    "Given an array containing 0s, 1s and 2s, sort the array in-place. You should treat numbers of the array as objects, hence, we can’t count 0s, 1s, and 2s to recreate the array.\n",
    "\n",
    "The flag of the Netherlands consists of three colors: red, white and blue; and since our input array also consists of three different numbers that is why it is called Dutch National Flag problem."
   ]
  },
  {
   "cell_type": "code",
   "execution_count": 25,
   "metadata": {},
   "outputs": [
    {
     "name": "stdout",
     "output_type": "stream",
     "text": [
      "[0, 0, 1, 1, 2]\n",
      "[0, 0, 1, 2, 2, 2]\n"
     ]
    }
   ],
   "source": [
    "def dutch_flag_sort(arr):\n",
    "    # all elements < low are 0, and all elements > high are 2\n",
    "    # all elements from >= low < i are 1\n",
    "    low, high = 0, len(arr) - 1\n",
    "    i = 0\n",
    "    while(i <= high):\n",
    "        if arr[i] == 0:\n",
    "            arr[i], arr[low] = arr[low], arr[i]\n",
    "            # increment 'i' and 'low'\n",
    "            i += 1\n",
    "            low += 1\n",
    "        elif arr[i] == 1:\n",
    "            i += 1\n",
    "        else:    # the case for arr[i] == 2\n",
    "            arr[i], arr[high] = arr[high], arr[i]\n",
    "            # decrement 'high' only, after the swap the number at index 'i' could be 0, 1 or 2\n",
    "            high -= 1\n",
    "\n",
    "\n",
    "def main():\n",
    "    arr = [1, 0, 2, 1, 0]\n",
    "    dutch_flag_sort(arr)\n",
    "    print(arr)\n",
    "\n",
    "    arr = [2, 2, 0, 1, 2, 0]\n",
    "    dutch_flag_sort(arr)\n",
    "    print(arr)\n",
    "\n",
    "\n",
    "main()"
   ]
  },
  {
   "cell_type": "markdown",
   "metadata": {},
   "source": [
    "## Quadruple Sum to Target (medium)"
   ]
  },
  {
   "cell_type": "markdown",
   "metadata": {},
   "source": [
    "Given an array of unsorted numbers and a target number, find all unique quadruplets in it, whose sum is equal to the target number."
   ]
  },
  {
   "cell_type": "code",
   "execution_count": 26,
   "metadata": {},
   "outputs": [
    {
     "name": "stdout",
     "output_type": "stream",
     "text": [
      "[[-3, -1, 1, 4], [-3, 1, 1, 2]]\n",
      "[[-2, 0, 2, 2], [-1, 0, 1, 2]]\n"
     ]
    }
   ],
   "source": [
    "def search_quadruplets(arr, target):\n",
    "    arr.sort()\n",
    "    quadruplets = []\n",
    "    for i in range(0, len(arr)-3):\n",
    "        # skip same element to avoid duplicate quadruplets\n",
    "        if i > 0 and arr[i] == arr[i - 1]:\n",
    "            continue\n",
    "        for j in range(i + 1, len(arr)-2):\n",
    "            # skip same element to avoid duplicate quadruplets\n",
    "            if j > i + 1 and arr[j] == arr[j - 1]:\n",
    "                continue\n",
    "            search_pairs(arr, target, i, j, quadruplets)\n",
    "    return quadruplets\n",
    "\n",
    "\n",
    "def search_pairs(arr, target_sum, first, second, quadruplets):\n",
    "    left = second + 1\n",
    "    right = len(arr) - 1\n",
    "    while (left < right):\n",
    "        sum = arr[first] + arr[second] + arr[left] + arr[right]\n",
    "        if sum == target_sum:    # found the quadruplet\n",
    "            quadruplets.append(\n",
    "                [arr[first], arr[second], arr[left], arr[right]])\n",
    "            left += 1\n",
    "            right -= 1\n",
    "            while (left < right and arr[left] == arr[left - 1]):\n",
    "                left += 1    # skip same element to avoid duplicate quadruplets\n",
    "            while (left < right and arr[right] == arr[right + 1]):\n",
    "                right -= 1    # skip same element to avoid duplicate quadruplets\n",
    "        elif sum < target_sum:\n",
    "            left += 1    # we need a pair with a bigger sum\n",
    "        else:\n",
    "            right -= 1    # we need a pair with a smaller sum\n",
    "\n",
    "\n",
    "def main():\n",
    "    print(search_quadruplets([4, 1, 2, -1, 1, -3], 1))\n",
    "    print(search_quadruplets([2, 0, -1, 1, -2, 2], 2))\n",
    "\n",
    "\n",
    "main()"
   ]
  },
  {
   "cell_type": "markdown",
   "metadata": {},
   "source": [
    "## Comparing Strings containing Backspaces (medium)"
   ]
  },
  {
   "cell_type": "markdown",
   "metadata": {},
   "source": [
    "Given two strings containing backspaces (identified by the character ‘#’), check if the two strings are equal."
   ]
  },
  {
   "cell_type": "code",
   "execution_count": 27,
   "metadata": {},
   "outputs": [
    {
     "name": "stdout",
     "output_type": "stream",
     "text": [
      "True\n",
      "False\n",
      "True\n",
      "True\n"
     ]
    }
   ],
   "source": [
    "def backspace_compare(str1, str2):\n",
    "    # use two pointer approach to compare the strings\n",
    "    index1 = len(str1) - 1\n",
    "    index2 = len(str2) - 1\n",
    "    while (index1 >= 0 or index2 >= 0):\n",
    "        i1 = get_next_valid_char_index(str1, index1)\n",
    "        i2 = get_next_valid_char_index(str2, index2)\n",
    "        if i1 < 0 and i2 < 0:    # reached the end of both the strings\n",
    "            return True\n",
    "        if i1 < 0 or i2 < 0:    # reached the end of one of the strings\n",
    "            return False\n",
    "        if str1[i1] != str2[i2]:    # check if the characters are equal\n",
    "            return False\n",
    "\n",
    "        index1 = i1 - 1\n",
    "        index2 = i2 - 1\n",
    "\n",
    "    return True\n",
    "\n",
    "\n",
    "def get_next_valid_char_index(str, index):\n",
    "    backspace_count = 0\n",
    "    while (index >= 0):\n",
    "        if str[index] == '#':    # found a backspace character\n",
    "            backspace_count += 1\n",
    "        elif backspace_count > 0:    # a non-backspace character\n",
    "            backspace_count -= 1\n",
    "        else:\n",
    "            break\n",
    "\n",
    "        index -= 1    # skip a backspace or a valid character\n",
    "\n",
    "    return index\n",
    "\n",
    "\n",
    "def main():\n",
    "    print(backspace_compare(\"xy#z\", \"xzz#\"))\n",
    "    print(backspace_compare(\"xy#z\", \"xyz#\"))\n",
    "    print(backspace_compare(\"xp#\", \"xyz##\"))\n",
    "    print(backspace_compare(\"xywrrmp\", \"xywrrmu#p\"))\n",
    "\n",
    "\n",
    "main()"
   ]
  },
  {
   "cell_type": "markdown",
   "metadata": {},
   "source": [
    "## Minimum Window Sort (medium) "
   ]
  },
  {
   "cell_type": "markdown",
   "metadata": {},
   "source": [
    "Given an array, find the length of the smallest subarray in it which when sorted will sort the whole array."
   ]
  },
  {
   "cell_type": "code",
   "execution_count": 28,
   "metadata": {},
   "outputs": [
    {
     "name": "stdout",
     "output_type": "stream",
     "text": [
      "5\n",
      "5\n",
      "0\n",
      "3\n"
     ]
    }
   ],
   "source": [
    "import math\n",
    "\n",
    "\n",
    "def shortest_window_sort(arr):\n",
    "    low, high = 0, len(arr) - 1\n",
    "    # find the first number out of sorting order from the beginning\n",
    "    while (low < len(arr) - 1 and arr[low] <= arr[low + 1]):\n",
    "        low += 1\n",
    "\n",
    "    if low == len(arr) - 1:    # if the array is sorted\n",
    "        return 0\n",
    "\n",
    "    # find the first number out of sorting order from the end\n",
    "    while (high > 0 and arr[high] >= arr[high - 1]):\n",
    "        high -= 1\n",
    "\n",
    "    # find the maximum and minimum of the subarray\n",
    "    subarray_max = -math.inf\n",
    "    subarray_min = math.inf\n",
    "    for k in range(low, high+1):\n",
    "        subarray_max = max(subarray_max, arr[k])\n",
    "        subarray_min = min(subarray_min, arr[k])\n",
    "\n",
    "    # extend the subarray to include any number which is bigger than the minimum of the subarray\n",
    "    while (low > 0 and arr[low-1] > subarray_min):\n",
    "        low -= 1\n",
    "    # extend the subarray to include any number which is smaller than the maximum of the subarray\n",
    "    while (high < len(arr)-1 and arr[high+1] < subarray_max):\n",
    "        high += 1\n",
    "\n",
    "    return high - low + 1\n",
    "\n",
    "\n",
    "def main():\n",
    "    print(shortest_window_sort([1, 2, 5, 3, 7, 10, 9, 12]))\n",
    "    print(shortest_window_sort([1, 3, 2, 0, -1, 7, 10]))\n",
    "    print(shortest_window_sort([1, 2, 3]))\n",
    "    print(shortest_window_sort([3, 2, 1]))\n",
    "\n",
    "\n",
    "main()"
   ]
  },
  {
   "cell_type": "markdown",
   "metadata": {},
   "source": [
    "# Fast & Slow Pointer"
   ]
  },
  {
   "cell_type": "markdown",
   "metadata": {},
   "source": [
    "## LinkedList Cycle (easy)"
   ]
  },
  {
   "cell_type": "markdown",
   "metadata": {},
   "source": [
    "Given the head of a Singly LinkedList, write a function to determine if the LinkedList has a cycle in it or not."
   ]
  },
  {
   "cell_type": "code",
   "execution_count": 29,
   "metadata": {},
   "outputs": [
    {
     "name": "stdout",
     "output_type": "stream",
     "text": [
      "LinkedList has cycle: False\n",
      "LinkedList has cycle: True\n",
      "LinkedList has cycle: True\n"
     ]
    }
   ],
   "source": [
    "class Node:\n",
    "    def __init__(self, value, next=None):\n",
    "        self.value = value\n",
    "        self.next = next\n",
    "\n",
    "\n",
    "def has_cycle(head):\n",
    "    slow, fast = head, head\n",
    "    while fast is not None and fast.next is not None:\n",
    "        fast = fast.next.next\n",
    "        slow = slow.next\n",
    "        if slow == fast:\n",
    "            return True    # found the cycle\n",
    "    return False\n",
    "\n",
    "\n",
    "def main():\n",
    "    head = Node(1)\n",
    "    head.next = Node(2)\n",
    "    head.next.next = Node(3)\n",
    "    head.next.next.next = Node(4)\n",
    "    head.next.next.next.next = Node(5)\n",
    "    head.next.next.next.next.next = Node(6)\n",
    "    print(\"LinkedList has cycle: \" + str(has_cycle(head)))\n",
    "\n",
    "    head.next.next.next.next.next.next = head.next.next\n",
    "    print(\"LinkedList has cycle: \" + str(has_cycle(head)))\n",
    "\n",
    "    head.next.next.next.next.next.next = head.next.next.next\n",
    "    print(\"LinkedList has cycle: \" + str(has_cycle(head)))\n",
    "\n",
    "\n",
    "main()"
   ]
  },
  {
   "cell_type": "markdown",
   "metadata": {},
   "source": [
    "Given the head of a LinkedList with a cycle, find the length of the cycle."
   ]
  },
  {
   "cell_type": "code",
   "execution_count": 30,
   "metadata": {},
   "outputs": [
    {
     "name": "stdout",
     "output_type": "stream",
     "text": [
      "LinkedList cycle length: 4\n",
      "LinkedList cycle length: 3\n"
     ]
    }
   ],
   "source": [
    "class Node:\n",
    "    def __init__(self, value, next=None):\n",
    "        self.value = value\n",
    "        self.next = next\n",
    "\n",
    "\n",
    "def find_cycle_length(head):\n",
    "    slow, fast = head, head\n",
    "    while fast is not None and fast.next is not None:\n",
    "        fast = fast.next.next\n",
    "        slow = slow.next\n",
    "        if slow == fast:    # found the cycle\n",
    "            return calculate_cycle_length(slow)\n",
    "\n",
    "    return 0\n",
    "\n",
    "\n",
    "def calculate_cycle_length(slow):\n",
    "    current = slow\n",
    "    cycle_length = 0\n",
    "    while True:\n",
    "        current = current.next\n",
    "        cycle_length += 1\n",
    "        if current == slow:\n",
    "            break\n",
    "    return cycle_length\n",
    "\n",
    "\n",
    "def main():\n",
    "    head = Node(1)\n",
    "    head.next = Node(2)\n",
    "    head.next.next = Node(3)\n",
    "    head.next.next.next = Node(4)\n",
    "    head.next.next.next.next = Node(5)\n",
    "    head.next.next.next.next.next = Node(6)\n",
    "    head.next.next.next.next.next.next = head.next.next\n",
    "    print(\"LinkedList cycle length: \" + str(find_cycle_length(head)))\n",
    "\n",
    "    head.next.next.next.next.next.next = head.next.next.next\n",
    "    print(\"LinkedList cycle length: \" + str(find_cycle_length(head)))\n",
    "\n",
    "\n",
    "main()"
   ]
  },
  {
   "cell_type": "markdown",
   "metadata": {},
   "source": [
    "## Start of LinkedList Cycle (medium)"
   ]
  },
  {
   "cell_type": "markdown",
   "metadata": {},
   "source": [
    "Given the head of a Singly LinkedList that contains a cycle, write a function to find the starting node of the cycle."
   ]
  },
  {
   "cell_type": "code",
   "execution_count": 32,
   "metadata": {},
   "outputs": [
    {
     "name": "stdout",
     "output_type": "stream",
     "text": [
      "LinkedList cycle start: 3\n",
      "LinkedList cycle start: 4\n",
      "LinkedList cycle start: 1\n"
     ]
    }
   ],
   "source": [
    "from __future__ import print_function\n",
    "\n",
    "\n",
    "class Node:\n",
    "    def __init__(self, value, next=None):\n",
    "        self.value = value\n",
    "        self.next = next\n",
    "\n",
    "    def print_list(self):\n",
    "        temp = self\n",
    "        while temp is not None:\n",
    "            print(temp.value, end='')\n",
    "            temp = temp.next\n",
    "        print()\n",
    "\n",
    "\n",
    "def find_cycle_start(head):\n",
    "    cycle_length = 0\n",
    "    # find the LinkedList cycle\n",
    "    slow, fast = head, head\n",
    "    while (fast is not None and fast.next is not None):\n",
    "        fast = fast.next.next\n",
    "        slow = slow.next\n",
    "        if slow == fast:    # found the cycle\n",
    "            cycle_length = calculate_cycle_length(slow)\n",
    "            break\n",
    "    return find_start(head, cycle_length)\n",
    "\n",
    "\n",
    "def calculate_cycle_length(slow):\n",
    "    current = slow\n",
    "    cycle_length = 0\n",
    "    while True:\n",
    "        current = current.next\n",
    "        cycle_length += 1\n",
    "        if current == slow:\n",
    "            break\n",
    "    return cycle_length\n",
    "\n",
    "\n",
    "def find_start(head, cycle_length):\n",
    "    pointer1 = head\n",
    "    pointer2 = head\n",
    "    # move pointer2 ahead 'cycle_length' nodes\n",
    "    while cycle_length > 0:\n",
    "        pointer2 = pointer2.next\n",
    "        cycle_length -= 1\n",
    "    # increment both pointers until they meet at the start of the cycle\n",
    "    while pointer1 != pointer2:\n",
    "        pointer1 = pointer1.next\n",
    "        pointer2 = pointer2.next\n",
    "    return pointer1\n",
    "\n",
    "\n",
    "def main():\n",
    "    head = Node(1)\n",
    "    head.next = Node(2)\n",
    "    head.next.next = Node(3)\n",
    "    head.next.next.next = Node(4)\n",
    "    head.next.next.next.next = Node(5)\n",
    "    head.next.next.next.next.next = Node(6)\n",
    "\n",
    "    head.next.next.next.next.next.next = head.next.next\n",
    "    print(\"LinkedList cycle start: \" + str(find_cycle_start(head).value))\n",
    "\n",
    "    head.next.next.next.next.next.next = head.next.next.next\n",
    "    print(\"LinkedList cycle start: \" + str(find_cycle_start(head).value))\n",
    "\n",
    "    head.next.next.next.next.next.next = head\n",
    "    print(\"LinkedList cycle start: \" + str(find_cycle_start(head).value))\n",
    "\n",
    "\n",
    "main()"
   ]
  },
  {
   "cell_type": "markdown",
   "metadata": {},
   "source": [
    "## Happy Number (medium)"
   ]
  },
  {
   "cell_type": "markdown",
   "metadata": {},
   "source": [
    "Any number will be called a happy number if, after repeatedly replacing it with a number equal to the sum of the square of all of its digits, leads us to number ‘1’. All other (not-happy) numbers will never reach ‘1’. Instead, they will be stuck in a cycle of numbers which does not include ‘1’."
   ]
  },
  {
   "cell_type": "code",
   "execution_count": 33,
   "metadata": {},
   "outputs": [
    {
     "name": "stdout",
     "output_type": "stream",
     "text": [
      "True\n",
      "False\n"
     ]
    }
   ],
   "source": [
    "def find_happy_number(num):\n",
    "    slow, fast = num, num\n",
    "    while True:\n",
    "        slow = find_square_sum(slow)    # move one step\n",
    "        fast = find_square_sum(find_square_sum(fast))    # move two steps\n",
    "        if slow == fast:    # found the cycle\n",
    "            break\n",
    "    return slow == 1    # see if the cycle is stuck on the number '1'\n",
    "\n",
    "\n",
    "def find_square_sum(num):\n",
    "    _sum = 0\n",
    "    while (num > 0):\n",
    "        digit = num % 10\n",
    "        _sum += digit * digit\n",
    "        num //= 10\n",
    "    return _sum\n",
    "\n",
    "\n",
    "def main():\n",
    "    print(find_happy_number(23))\n",
    "    print(find_happy_number(12))\n",
    "\n",
    "\n",
    "main()"
   ]
  },
  {
   "cell_type": "markdown",
   "metadata": {},
   "source": [
    "## Middle of the LinkedList (easy)"
   ]
  },
  {
   "cell_type": "markdown",
   "metadata": {},
   "source": [
    "Given the head of a Singly LinkedList, write a method to return the middle node of the LinkedList.\n",
    "\n",
    "If the total number of nodes in the LinkedList is even, return the second middle node."
   ]
  },
  {
   "cell_type": "code",
   "execution_count": 34,
   "metadata": {},
   "outputs": [
    {
     "name": "stdout",
     "output_type": "stream",
     "text": [
      "Middle Node: 3\n",
      "Middle Node: 4\n",
      "Middle Node: 4\n"
     ]
    }
   ],
   "source": [
    "class Node:\n",
    "    def __init__(self, value, next=None):\n",
    "        self.value = value\n",
    "        self.next = next\n",
    "\n",
    "\n",
    "def find_middle_of_linked_list(head):\n",
    "    slow = head\n",
    "    fast = head\n",
    "    while (fast is not None and fast.next is not None):\n",
    "        slow = slow.next\n",
    "        fast = fast.next.next\n",
    "    return slow\n",
    "\n",
    "\n",
    "def main():\n",
    "    head = Node(1)\n",
    "    head.next = Node(2)\n",
    "    head.next.next = Node(3)\n",
    "    head.next.next.next = Node(4)\n",
    "    head.next.next.next.next = Node(5)\n",
    "\n",
    "    print(\"Middle Node: \" + str(find_middle_of_linked_list(head).value))\n",
    "\n",
    "    head.next.next.next.next.next = Node(6)\n",
    "    print(\"Middle Node: \" + str(find_middle_of_linked_list(head).value))\n",
    "\n",
    "    head.next.next.next.next.next.next = Node(7)\n",
    "    print(\"Middle Node: \" + str(find_middle_of_linked_list(head).value))\n",
    "\n",
    "\n",
    "main()"
   ]
  },
  {
   "cell_type": "markdown",
   "metadata": {},
   "source": [
    "## Palindrome LinkedList (medium)"
   ]
  },
  {
   "cell_type": "markdown",
   "metadata": {},
   "source": [
    "Given the head of a Singly LinkedList, write a method to check if the LinkedList is a palindrome or not.\n",
    "\n",
    "Your algorithm should use constant space and the input LinkedList should be in the original form once the algorithm is finished. The algorithm should have $O(N)$ time complexity where ‘N’ is the number of nodes in the LinkedList."
   ]
  },
  {
   "cell_type": "code",
   "execution_count": 35,
   "metadata": {},
   "outputs": [
    {
     "name": "stdout",
     "output_type": "stream",
     "text": [
      "Is palindrome: True\n",
      "Is palindrome: False\n"
     ]
    }
   ],
   "source": [
    "class Node:\n",
    "    def __init__(self, value, next=None):\n",
    "        self.value = value\n",
    "        self.next = next\n",
    "\n",
    "\n",
    "def is_palindromic_linked_list(head):\n",
    "    if head is None or head.next is None:\n",
    "        return True\n",
    "\n",
    "    # find middle of the LinkedList\n",
    "    slow, fast = head, head\n",
    "    while (fast is not None and fast.next is not None):\n",
    "        slow = slow.next\n",
    "        fast = fast.next.next\n",
    "\n",
    "    head_second_half = reverse(slow)    # reverse the second half\n",
    "    # store the head of reversed part to revert back later\n",
    "    copy_head_second_half = head_second_half\n",
    "\n",
    "    # compare the first and the second half\n",
    "    while (head is not None and head_second_half is not None):\n",
    "        if head.value != head_second_half.value:\n",
    "            break    # not a palindrome\n",
    "\n",
    "        head = head.next\n",
    "        head_second_half = head_second_half.next\n",
    "\n",
    "    reverse(copy_head_second_half)    # revert the reverse of the second half\n",
    "\n",
    "    if head is None or head_second_half is None:    # if both halves match\n",
    "        return True\n",
    "\n",
    "    return False\n",
    "\n",
    "\n",
    "def reverse(head):\n",
    "    prev = None\n",
    "    while (head is not None):\n",
    "        next = head.next\n",
    "        head.next = prev\n",
    "        prev = head\n",
    "        head = next\n",
    "    return prev\n",
    "\n",
    "\n",
    "def main():\n",
    "    head = Node(2)\n",
    "    head.next = Node(4)\n",
    "    head.next.next = Node(6)\n",
    "    head.next.next.next = Node(4)\n",
    "    head.next.next.next.next = Node(2)\n",
    "\n",
    "    print(\"Is palindrome: \" + str(is_palindromic_linked_list(head)))\n",
    "\n",
    "    head.next.next.next.next.next = Node(2)\n",
    "    print(\"Is palindrome: \" + str(is_palindromic_linked_list(head)))\n",
    "\n",
    "\n",
    "main()"
   ]
  },
  {
   "cell_type": "markdown",
   "metadata": {},
   "source": [
    "## Rearrange a LinkedList (medium)"
   ]
  },
  {
   "cell_type": "markdown",
   "metadata": {},
   "source": [
    "Given the head of a Singly LinkedList, write a method to modify the LinkedList such that the nodes from the second half of the LinkedList are inserted alternately to the nodes from the first half in reverse order. So if the LinkedList has nodes 1 -> 2 -> 3 -> 4 -> 5 -> 6 -> null, your method should return 1 -> 6 -> 2 -> 5 -> 3 -> 4 -> null.\n",
    "\n",
    "Your algorithm should not use any extra space and the input LinkedList should be modified in-place."
   ]
  },
  {
   "cell_type": "code",
   "execution_count": 37,
   "metadata": {},
   "outputs": [
    {
     "name": "stdout",
     "output_type": "stream",
     "text": [
      "2 12 4 10 6 8 \n"
     ]
    }
   ],
   "source": [
    "from __future__ import print_function\n",
    "\n",
    "\n",
    "class Node:\n",
    "    def __init__(self, value, next=None):\n",
    "        self.value = value\n",
    "        self.next = next\n",
    "\n",
    "    def print_list(self):\n",
    "        temp = self\n",
    "        while temp is not None:\n",
    "            print(str(temp.value) + \" \", end='')\n",
    "            temp = temp.next\n",
    "        print()\n",
    "\n",
    "\n",
    "def reorder(head):\n",
    "    if head is None or head.next is None:\n",
    "        return\n",
    "\n",
    "    # find middle of the LinkedList\n",
    "    slow, fast = head, head\n",
    "    while fast is not None and fast.next is not None:\n",
    "        slow = slow.next\n",
    "        fast = fast.next.next\n",
    "\n",
    "    # slow is now pointing to the middle node\n",
    "    head_second_half = reverse(slow)    # reverse the second half\n",
    "    head_first_half = head\n",
    "\n",
    "    # rearrange to produce the LinkedList in the required order\n",
    "    while head_first_half is not None and head_second_half is not None:\n",
    "        temp = head_first_half.next\n",
    "        head_first_half.next = head_second_half\n",
    "        head_first_half = temp\n",
    "\n",
    "        temp = head_second_half.next\n",
    "        head_second_half.next = head_first_half\n",
    "        head_second_half = temp\n",
    "\n",
    "    # set the next of the last node to 'None'\n",
    "    if head_first_half is not None:\n",
    "        head_first_half.next = None\n",
    "\n",
    "\n",
    "def reverse(head):\n",
    "    prev = None\n",
    "    while head is not None:\n",
    "        next = head.next\n",
    "        head.next = prev\n",
    "        prev = head\n",
    "        head = next\n",
    "    return prev\n",
    "\n",
    "\n",
    "def main():\n",
    "    head = Node(2)\n",
    "    head.next = Node(4)\n",
    "    head.next.next = Node(6)\n",
    "    head.next.next.next = Node(8)\n",
    "    head.next.next.next.next = Node(10)\n",
    "    head.next.next.next.next.next = Node(12)\n",
    "    reorder(head)\n",
    "    head.print_list()\n",
    "\n",
    "\n",
    "main()"
   ]
  },
  {
   "cell_type": "markdown",
   "metadata": {},
   "source": [
    "## Cycle in a Circular Array (hard)"
   ]
  },
  {
   "cell_type": "markdown",
   "metadata": {},
   "source": [
    "We are given an array containing positive and negative numbers. Suppose the array contains a number ‘M’ at a particular index. Now, if ‘M’ is positive we will move forward ‘M’ indices and if ‘M’ is negative move backwards ‘M’ indices. You should assume that the array is circular which means two things:\n",
    "\n",
    "1. If, while moving forward, we reach the end of the array, we will jump to the first element to continue the movement.\n",
    "2. If, while moving backward, we reach the beginning of the array, we will jump to the last element to continue the movement.\n",
    "\n",
    "Write a method to determine if the array has a cycle. The cycle should have more than one element and should follow one direction which means the cycle should not contain both forward and backward movements."
   ]
  },
  {
   "cell_type": "code",
   "execution_count": 38,
   "metadata": {},
   "outputs": [
    {
     "name": "stdout",
     "output_type": "stream",
     "text": [
      "True\n",
      "True\n",
      "False\n"
     ]
    }
   ],
   "source": [
    "def circular_array_loop_exists(arr):\n",
    "    for i in range(len(arr)):\n",
    "        is_forward = arr[i] >= 0    # if we are moving forward or not\n",
    "        slow, fast = i, i\n",
    "\n",
    "        # if slow or fast becomes '-1' this means we can't find cycle for this number\n",
    "        while True:\n",
    "            # move one step for slow pointer\n",
    "            slow = find_next_index(arr, is_forward, slow)\n",
    "            # move one step for fast pointer\n",
    "            fast = find_next_index(arr, is_forward, fast)\n",
    "            if (fast != -1):\n",
    "                # move another step for fast pointer\n",
    "                fast = find_next_index(arr, is_forward, fast)\n",
    "            if slow == -1 or fast == -1 or slow == fast:\n",
    "                break\n",
    "\n",
    "        if slow != -1 and slow == fast:\n",
    "            return True\n",
    "\n",
    "    return False\n",
    "\n",
    "\n",
    "def find_next_index(arr, is_forward, current_index):\n",
    "    direction = arr[current_index] >= 0\n",
    "\n",
    "    if is_forward != direction:\n",
    "        return -1    # change in direction, return -1\n",
    "\n",
    "    next_index = (current_index + arr[current_index]) % len(arr)\n",
    "\n",
    "    # one element cycle, return -1\n",
    "    if next_index == current_index:\n",
    "        next_index = -1\n",
    "\n",
    "    return next_index\n",
    "\n",
    "\n",
    "def main():\n",
    "    print(circular_array_loop_exists([1, 2, -1, 2, 2]))\n",
    "    print(circular_array_loop_exists([2, 2, -1, 2]))\n",
    "    print(circular_array_loop_exists([2, 1, -1, -2]))\n",
    "\n",
    "\n",
    "main()"
   ]
  },
  {
   "cell_type": "markdown",
   "metadata": {},
   "source": [
    "# Merge Intervals"
   ]
  },
  {
   "cell_type": "markdown",
   "metadata": {},
   "source": [
    "## Merge Intervals (medium)"
   ]
  },
  {
   "cell_type": "markdown",
   "metadata": {},
   "source": [
    "Given a list of intervals, merge all the overlapping intervals to produce a list that has only mutually exclusive intervals."
   ]
  },
  {
   "cell_type": "code",
   "execution_count": 39,
   "metadata": {},
   "outputs": [
    {
     "name": "stdout",
     "output_type": "stream",
     "text": [
      "Merged intervals: [1, 5][7, 9]\n",
      "Merged intervals: [2, 4][5, 9]\n",
      "Merged intervals: [1, 6]\n"
     ]
    }
   ],
   "source": [
    "from __future__ import print_function\n",
    "\n",
    "\n",
    "class Interval:\n",
    "    def __init__(self, start, end):\n",
    "        self.start = start\n",
    "        self.end = end\n",
    "\n",
    "    def print_interval(self):\n",
    "        print(\"[\" + str(self.start) + \", \" + str(self.end) + \"]\", end='')\n",
    "\n",
    "\n",
    "def merge(intervals):\n",
    "    if len(intervals) < 2:\n",
    "        return intervals\n",
    "\n",
    "    # sort the intervals on the start time\n",
    "    intervals.sort(key=lambda x: x.start)\n",
    "\n",
    "    mergedIntervals = []\n",
    "    start = intervals[0].start\n",
    "    end = intervals[0].end\n",
    "    for i in range(1, len(intervals)):\n",
    "        interval = intervals[i]\n",
    "        if interval.start <= end:    # overlapping intervals, adjust the 'end'\n",
    "            end = max(interval.end, end)\n",
    "        else:    # non-overlapping interval, add the previous internval and reset\n",
    "            mergedIntervals.append(Interval(start, end))\n",
    "            start = interval.start\n",
    "            end = interval.end\n",
    "\n",
    "    # add the last interval\n",
    "    mergedIntervals.append(Interval(start, end))\n",
    "    return mergedIntervals\n",
    "\n",
    "\n",
    "def main():\n",
    "    print(\"Merged intervals: \", end='')\n",
    "    for i in merge([Interval(1, 4), Interval(2, 5), Interval(7, 9)]):\n",
    "        i.print_interval()\n",
    "    print()\n",
    "\n",
    "    print(\"Merged intervals: \", end='')\n",
    "    for i in merge([Interval(6, 7), Interval(2, 4), Interval(5, 9)]):\n",
    "        i.print_interval()\n",
    "    print()\n",
    "\n",
    "    print(\"Merged intervals: \", end='')\n",
    "    for i in merge([Interval(1, 4), Interval(2, 6), Interval(3, 5)]):\n",
    "        i.print_interval()\n",
    "    print()\n",
    "\n",
    "\n",
    "main()"
   ]
  },
  {
   "cell_type": "markdown",
   "metadata": {},
   "source": [
    "## Insert Interval (medium)"
   ]
  },
  {
   "cell_type": "markdown",
   "metadata": {},
   "source": [
    "Given a list of non-overlapping intervals sorted by their start time, insert a given interval at the correct position and merge all necessary intervals to produce a list that has only mutually exclusive intervals."
   ]
  },
  {
   "cell_type": "code",
   "execution_count": 40,
   "metadata": {},
   "outputs": [
    {
     "name": "stdout",
     "output_type": "stream",
     "text": [
      "Intervals after inserting the new interval: [[1, 3], [4, 7], [8, 12]]\n",
      "Intervals after inserting the new interval: [[1, 3], [4, 12]]\n",
      "Intervals after inserting the new interval: [[1, 4], [5, 7]]\n"
     ]
    }
   ],
   "source": [
    "def insert(intervals, new_interval):\n",
    "    merged = []\n",
    "    i, start, end = 0, 0, 1\n",
    "\n",
    "    # skip (and add to output) all intervals that come before the 'new_interval'\n",
    "    while i < len(intervals) and intervals[i][end] < new_interval[start]:\n",
    "        merged.append(intervals[i])\n",
    "        i += 1\n",
    "\n",
    "    # merge all intervals that overlap with 'new_interval'\n",
    "    while i < len(intervals) and intervals[i][start] <= new_interval[end]:\n",
    "        new_interval[start] = min(intervals[i][start], new_interval[start])\n",
    "        new_interval[end] = max(intervals[i][end], new_interval[end])\n",
    "        i += 1\n",
    "\n",
    "    # insert the new_interval\n",
    "    merged.append(new_interval)\n",
    "\n",
    "    # add all the remaining intervals to the output\n",
    "    while i < len(intervals):\n",
    "        merged.append(intervals[i])\n",
    "        i += 1\n",
    "    return merged\n",
    "\n",
    "\n",
    "def main():\n",
    "    print(\"Intervals after inserting the new interval: \" + str(insert([[1, 3], [5, 7], [8, 12]], [4, 6])))\n",
    "    print(\"Intervals after inserting the new interval: \" + str(insert([[1, 3], [5, 7], [8, 12]], [4, 10])))\n",
    "    print(\"Intervals after inserting the new interval: \" + str(insert([[2, 3], [5, 7]], [1, 4])))\n",
    "\n",
    "\n",
    "main()"
   ]
  },
  {
   "cell_type": "markdown",
   "metadata": {},
   "source": [
    "## Intervals Intersection (medium)"
   ]
  },
  {
   "cell_type": "markdown",
   "metadata": {},
   "source": [
    "Given two lists of intervals, find the intersection of these two lists. Each list consists of disjoint intervals sorted on their start time."
   ]
  },
  {
   "cell_type": "code",
   "execution_count": 42,
   "metadata": {},
   "outputs": [
    {
     "name": "stdout",
     "output_type": "stream",
     "text": [
      "Intervals Intersection: [[2, 3], [5, 6], [7, 7]]\n",
      "Intervals Intersection: [[5, 7], [9, 10]]\n"
     ]
    }
   ],
   "source": [
    "def merge(intervals_a, intervals_b):\n",
    "    result = []\n",
    "    i, j, start, end = 0, 0, 0, 1\n",
    "\n",
    "    while i < len(intervals_a) and j < len(intervals_b):\n",
    "        # check if intervals overlap and intervals_a[i]'s start time lies within the other intervals_b[j]\n",
    "        a_overlaps_b = intervals_a[i][start] >= intervals_b[j][start] and \\\n",
    "            intervals_a[i][start] <= intervals_b[j][end]\n",
    "\n",
    "        # check if intervals overlap and intervals_a[j]'s start time lies within the other intervals_b[i]\n",
    "        b_overlaps_a = intervals_b[j][start] >= intervals_a[i][start] and \\ \n",
    "            intervals_b[j][start] <= intervals_a[i][end]\n",
    "\n",
    "        # store the the intersection part\n",
    "        if (a_overlaps_b or b_overlaps_a):\n",
    "            result.append([max(intervals_a[i][start], intervals_b[j][start]), min(\n",
    "                intervals_a[i][end], intervals_b[j][end])])\n",
    "\n",
    "        # move next from the interval which is finishing first\n",
    "        if intervals_a[i][end] < intervals_b[j][end]:\n",
    "            i += 1\n",
    "        else:\n",
    "            j += 1\n",
    "\n",
    "    return result\n",
    "\n",
    "\n",
    "def main():\n",
    "    print(\"Intervals Intersection: \" + str(merge([[1, 3], [5, 6], [7, 9]], [[2, 3], [5, 7]])))\n",
    "    print(\"Intervals Intersection: \" + str(merge([[1, 3], [5, 7], [9, 12]], [[5, 10]])))\n",
    "\n",
    "\n",
    "main()"
   ]
  },
  {
   "cell_type": "markdown",
   "metadata": {},
   "source": [
    "## Conflicting Appointments (medium)"
   ]
  },
  {
   "cell_type": "markdown",
   "metadata": {},
   "source": [
    "Given an array of intervals representing ‘N’ appointments, find out if a person can attend all the appointments."
   ]
  },
  {
   "cell_type": "code",
   "execution_count": 43,
   "metadata": {},
   "outputs": [
    {
     "name": "stdout",
     "output_type": "stream",
     "text": [
      "Can attend all appointments: False\n",
      "Can attend all appointments: True\n",
      "Can attend all appointments: False\n"
     ]
    }
   ],
   "source": [
    "def can_attend_all_appointments(intervals):\n",
    "    intervals.sort(key=lambda x: x[0])\n",
    "    start, end = 0, 1\n",
    "    for i in range(1, len(intervals)):\n",
    "        if intervals[i][start] < intervals[i-1][end]:\n",
    "            # please note the comparison above, it is \"<\" and not \"<=\"\n",
    "            # while merging we needed \"<=\" comparison, as we will be merging the two\n",
    "            # intervals having condition \"intervals[i][start] == intervals[i - 1][end]\" but\n",
    "            # such intervals don't represent conflicting appointments as one starts right\n",
    "            # after the other\n",
    "            return False\n",
    "    return True\n",
    "\n",
    "\n",
    "def main():\n",
    "    print(\"Can attend all appointments: \" + str(can_attend_all_appointments([[1, 4], [2, 5], [7, 9]])))\n",
    "    print(\"Can attend all appointments: \" + str(can_attend_all_appointments([[6, 7], [2, 4], [8, 12]])))\n",
    "    print(\"Can attend all appointments: \" + str(can_attend_all_appointments([[4, 5], [2, 3], [3, 6]])))\n",
    "\n",
    "\n",
    "main()"
   ]
  },
  {
   "cell_type": "markdown",
   "metadata": {},
   "source": [
    "## Minimum Meeting Rooms (hard)"
   ]
  },
  {
   "cell_type": "markdown",
   "metadata": {},
   "source": [
    "Given a list of intervals representing the start and end time of ‘N’ meetings, find the minimum number of rooms required to hold all the meetings."
   ]
  },
  {
   "cell_type": "code",
   "execution_count": 44,
   "metadata": {},
   "outputs": [
    {
     "name": "stdout",
     "output_type": "stream",
     "text": [
      "Minimum meeting rooms required: 2\n",
      "Minimum meeting rooms required: 2\n",
      "Minimum meeting rooms required: 1\n",
      "Minimum meeting rooms required: 2\n",
      "Minimum meeting rooms required: 2\n"
     ]
    }
   ],
   "source": [
    "from heapq import *\n",
    "\n",
    "\n",
    "class Meeting:\n",
    "    def __init__(self, start, end):\n",
    "        self.start = start\n",
    "        self.end = end\n",
    "\n",
    "    def __lt__(self, other):\n",
    "        # min heap based on meeting.end\n",
    "        return self.end < other.end\n",
    "\n",
    "\n",
    "def min_meeting_rooms(meetings):\n",
    "    # sort the meetings by start time\n",
    "    meetings.sort(key=lambda x: x.start)\n",
    "\n",
    "    minRooms = 0\n",
    "    minHeap = []\n",
    "    for meeting in meetings:\n",
    "        # remove all the meetings that have ended\n",
    "        while(len(minHeap) > 0 and meeting.start >= minHeap[0].end):\n",
    "            heappop(minHeap)\n",
    "        # add the current meeting into min_heap\n",
    "        heappush(minHeap, meeting)\n",
    "        # all active meetings are in the min_heap, so we need rooms for all of them.\n",
    "        minRooms = max(minRooms, len(minHeap))\n",
    "    return minRooms\n",
    "\n",
    "\n",
    "def main():\n",
    "    print(\"Minimum meeting rooms required: \" + str(min_meeting_rooms(\n",
    "        [Meeting(4, 5), Meeting(2, 3), Meeting(2, 4), Meeting(3, 5)])))\n",
    "    print(\"Minimum meeting rooms required: \" +\n",
    "                str(min_meeting_rooms([Meeting(1, 4), Meeting(2, 5), Meeting(7, 9)])))\n",
    "    print(\"Minimum meeting rooms required: \" +\n",
    "                str(min_meeting_rooms([Meeting(6, 7), Meeting(2, 4), Meeting(8, 12)])))\n",
    "    print(\"Minimum meeting rooms required: \" +\n",
    "                str(min_meeting_rooms([Meeting(1, 4), Meeting(2, 3), Meeting(3, 6)])))\n",
    "    print(\"Minimum meeting rooms required: \" + str(min_meeting_rooms(\n",
    "        [Meeting(4, 5), Meeting(2, 3), Meeting(2, 4), Meeting(3, 5)])))\n",
    "\n",
    "\n",
    "main()"
   ]
  },
  {
   "cell_type": "markdown",
   "metadata": {},
   "source": [
    "## Maximum CPU Load (hard)"
   ]
  },
  {
   "cell_type": "markdown",
   "metadata": {},
   "source": [
    "We are given a list of Jobs. Each job has a Start time, an End time, and a CPU load when it is running. Our goal is to find the maximum CPU load at any time if all the jobs are running on the same machine."
   ]
  },
  {
   "cell_type": "code",
   "execution_count": 45,
   "metadata": {},
   "outputs": [
    {
     "name": "stdout",
     "output_type": "stream",
     "text": [
      "Maximum CPU load at any time: 7\n",
      "Maximum CPU load at any time: 15\n",
      "Maximum CPU load at any time: 8\n"
     ]
    }
   ],
   "source": [
    "from heapq import *\n",
    "\n",
    "\n",
    "class job:\n",
    "    def __init__(self, start, end, cpu_load):\n",
    "        self.start = start\n",
    "        self.end = end\n",
    "        self.cpu_load = cpu_load\n",
    "\n",
    "    def __lt__(self, other):\n",
    "        # min heap based on job.end\n",
    "        return self.end < other.end\n",
    "\n",
    "\n",
    "def find_max_cpu_load(jobs):\n",
    "    # sort the jobs by start time\n",
    "    jobs.sort(key=lambda x: x.start)\n",
    "    max_cpu_load, current_cpu_load = 0, 0\n",
    "    min_heap = []\n",
    "\n",
    "    for j in jobs:\n",
    "        # remove all the jobs that have ended\n",
    "        while(len(min_heap) > 0 and j.start >= min_heap[0].end):\n",
    "            current_cpu_load -= min_heap[0].cpu_load\n",
    "            heappop(min_heap)\n",
    "        # add the current job into min_heap\n",
    "        heappush(min_heap, j)\n",
    "        current_cpu_load += j.cpu_load\n",
    "        max_cpu_load = max(max_cpu_load, current_cpu_load)\n",
    "    return max_cpu_load\n",
    "\n",
    "\n",
    "def main():\n",
    "    print(\"Maximum CPU load at any time: \" + str(find_max_cpu_load([job(1, 4, 3), job(2, 5, 4), job(7, 9, 6)])))\n",
    "    print(\"Maximum CPU load at any time: \" + str(find_max_cpu_load([job(6, 7, 10), job(2, 4, 11), job(8, 12, 15)])))\n",
    "    print(\"Maximum CPU load at any time: \" + str(find_max_cpu_load([job(1, 4, 2), job(2, 4, 1), job(3, 6, 5)])))\n",
    "\n",
    "\n",
    "main()"
   ]
  },
  {
   "cell_type": "markdown",
   "metadata": {},
   "source": [
    "## Employee Free Time (hard)"
   ]
  },
  {
   "cell_type": "markdown",
   "metadata": {},
   "source": [
    "For ‘K’ employees, we are given a list of intervals representing the working hours of each employee. Our goal is to find out if there is a free interval that is common to all employees. You can assume that each list of employee working hours is sorted on the start time."
   ]
  },
  {
   "cell_type": "code",
   "execution_count": 46,
   "metadata": {},
   "outputs": [
    {
     "name": "stdout",
     "output_type": "stream",
     "text": [
      "Free intervals: [3, 5]\n",
      "Free intervals: [4, 6][8, 9]\n",
      "Free intervals: [5, 7]\n"
     ]
    }
   ],
   "source": [
    "from __future__ import print_function\n",
    "from heapq import *\n",
    "\n",
    "\n",
    "class Interval:\n",
    "    def __init__(self, start, end):\n",
    "        self.start = start\n",
    "        self.end = end\n",
    "\n",
    "    def print_interval(self):\n",
    "        print(\"[\" + str(self.start) + \", \" + str(self.end) + \"]\", end='')\n",
    "\n",
    "\n",
    "class EmployeeInterval:\n",
    "\n",
    "    def __init__(self, interval, employeeIndex, intervalIndex):\n",
    "        self.interval = interval  # interval representing employee's working hours\n",
    "        # index of the list containing working hours of this employee\n",
    "        self.employeeIndex = employeeIndex\n",
    "        self.intervalIndex = intervalIndex  # index of the interval in the employee list\n",
    "\n",
    "    def __lt__(self, other):\n",
    "        # min heap based on meeting.end\n",
    "        return self.interval.start < other.interval.start\n",
    "\n",
    "\n",
    "def find_employee_free_time(schedule):\n",
    "    if schedule is None:\n",
    "        return []\n",
    "\n",
    "    n = len(schedule)\n",
    "    result, minHeap = [], []\n",
    "\n",
    "    # insert the first interval of each employee to the queue\n",
    "    for i in range(n):\n",
    "        heappush(minHeap, EmployeeInterval(schedule[i][0], i, 0))\n",
    "\n",
    "    previousInterval = minHeap[0].interval\n",
    "    while minHeap:\n",
    "        queueTop = heappop(minHeap)\n",
    "        # if previousInterval is not overlapping with the next interval, insert a free interval\n",
    "        if previousInterval.end < queueTop.interval.start:\n",
    "            result.append(Interval(previousInterval.end,\n",
    "                                   queueTop.interval.start))\n",
    "            previousInterval = queueTop.interval\n",
    "        else:  # overlapping intervals, update the previousInterval if needed\n",
    "            if previousInterval.end < queueTop.interval.end:\n",
    "                previousInterval = queueTop.interval\n",
    "\n",
    "        # if there are more intervals available for the same employee, add their next interval\n",
    "        employeeSchedule = schedule[queueTop.employeeIndex]\n",
    "        if len(employeeSchedule) > queueTop.intervalIndex + 1:\n",
    "            heappush(minHeap, EmployeeInterval(employeeSchedule[queueTop.intervalIndex + 1], queueTop.employeeIndex,\n",
    "                                               queueTop.intervalIndex + 1))\n",
    "\n",
    "    return result\n",
    "\n",
    "\n",
    "def main():\n",
    "\n",
    "    input = [[Interval(1, 3), Interval(5, 6)], [\n",
    "        Interval(2, 3), Interval(6, 8)]]\n",
    "    print(\"Free intervals: \", end='')\n",
    "    for interval in find_employee_free_time(input):\n",
    "        interval.print_interval()\n",
    "    print()\n",
    "\n",
    "    input = [[Interval(1, 3), Interval(9, 12)], [\n",
    "        Interval(2, 4)], [Interval(6, 8)]]\n",
    "    print(\"Free intervals: \", end='')\n",
    "    for interval in find_employee_free_time(input):\n",
    "        interval.print_interval()\n",
    "    print()\n",
    "\n",
    "    input = [[Interval(1, 3)], [\n",
    "        Interval(2, 4)], [Interval(3, 5), Interval(7, 9)]]\n",
    "    print(\"Free intervals: \", end='')\n",
    "    for interval in find_employee_free_time(input):\n",
    "        interval.print_interval()\n",
    "    print()\n",
    "\n",
    "\n",
    "main()"
   ]
  },
  {
   "cell_type": "markdown",
   "metadata": {},
   "source": [
    "# Cyclic Sort"
   ]
  },
  {
   "cell_type": "markdown",
   "metadata": {},
   "source": [
    "## Cyclic Sort (easy)"
   ]
  },
  {
   "cell_type": "markdown",
   "metadata": {},
   "source": [
    "We are given an array containing ‘n’ objects. Each object, when created, was assigned a unique number from 1 to ‘n’ based on their creation sequence. This means that the object with sequence number ‘3’ was created just before the object with sequence number ‘4’.\n",
    "\n",
    "Write a function to sort the objects in-place on their creation sequence number in $O(n)$ and without any extra space. For simplicity, let’s assume we are passed an integer array containing only the sequence numbers, though each number is actually an object."
   ]
  },
  {
   "cell_type": "code",
   "execution_count": 47,
   "metadata": {},
   "outputs": [
    {
     "name": "stdout",
     "output_type": "stream",
     "text": [
      "[1, 2, 3, 4, 5]\n",
      "[1, 2, 3, 4, 5, 6]\n",
      "[1, 2, 3, 4, 5, 6]\n"
     ]
    }
   ],
   "source": [
    "def cyclic_sort(nums):\n",
    "    i = 0\n",
    "    while i < len(nums):\n",
    "        j = nums[i] - 1\n",
    "        if nums[i] != nums[j]:\n",
    "            nums[i], nums[j] = nums[j], nums[i]    # swap\n",
    "        else:\n",
    "            i += 1\n",
    "    return nums\n",
    "\n",
    "\n",
    "def main():\n",
    "    print(cyclic_sort([3, 1, 5, 4, 2]))\n",
    "    print(cyclic_sort([2, 6, 4, 3, 1, 5]))\n",
    "    print(cyclic_sort([1, 5, 6, 4, 3, 2]))\n",
    "\n",
    "\n",
    "main()"
   ]
  },
  {
   "cell_type": "markdown",
   "metadata": {},
   "source": [
    "## Find the Missing Number (easy)"
   ]
  },
  {
   "cell_type": "markdown",
   "metadata": {},
   "source": [
    "We are given an array containing ‘n’ distinct numbers taken from the range 0 to ‘n’. Since the array has only ‘n’ numbers out of the total ‘n+1’ numbers, find the missing number."
   ]
  },
  {
   "cell_type": "code",
   "execution_count": 48,
   "metadata": {},
   "outputs": [
    {
     "name": "stdout",
     "output_type": "stream",
     "text": [
      "2\n",
      "7\n"
     ]
    }
   ],
   "source": [
    "def find_missing_number(nums):\n",
    "    i, n = 0, len(nums)\n",
    "    while i < n:\n",
    "        j = nums[i]\n",
    "        if nums[i] < n and nums[i] != nums[j]:\n",
    "            nums[i], nums[j] = nums[j], nums[i]    # swap\n",
    "        else:\n",
    "            i += 1\n",
    "\n",
    "    # find the first number missing from its index, that will be our required number\n",
    "    for i in range(n):\n",
    "        if nums[i] != i:\n",
    "            return i\n",
    "\n",
    "    return n\n",
    "\n",
    "\n",
    "def main():\n",
    "    print(find_missing_number([4, 0, 3, 1]))\n",
    "    print(find_missing_number([8, 3, 5, 2, 4, 6, 0, 1]))\n",
    "\n",
    "\n",
    "main()"
   ]
  },
  {
   "cell_type": "markdown",
   "metadata": {},
   "source": [
    "## Find all Missing Numbers (easy)"
   ]
  },
  {
   "cell_type": "markdown",
   "metadata": {},
   "source": [
    "We are given an unsorted array containing numbers taken from the range 1 to ‘n’. The array can have duplicates, which means some numbers will be missing. Find all those missing numbers."
   ]
  },
  {
   "cell_type": "code",
   "execution_count": 49,
   "metadata": {},
   "outputs": [
    {
     "name": "stdout",
     "output_type": "stream",
     "text": [
      "[4, 6, 7]\n",
      "[3]\n",
      "[4]\n"
     ]
    }
   ],
   "source": [
    "def find_missing_numbers(nums):\n",
    "    i = 0\n",
    "    while i < len(nums):\n",
    "        j = nums[i] - 1\n",
    "        if nums[i] != nums[j]:\n",
    "            nums[i], nums[j] = nums[j], nums[i]    # swap\n",
    "        else:\n",
    "            i += 1\n",
    "\n",
    "    missingNumbers = []\n",
    "\n",
    "    for i in range(len(nums)):\n",
    "        if nums[i] != i + 1:\n",
    "            missingNumbers.append(i + 1)\n",
    "\n",
    "    return missingNumbers\n",
    "\n",
    "\n",
    "def main():\n",
    "    print(find_missing_numbers([2, 3, 1, 8, 2, 3, 5, 1]))\n",
    "    print(find_missing_numbers([2, 4, 1, 2]))\n",
    "    print(find_missing_numbers([2, 3, 2, 1]))\n",
    "\n",
    "\n",
    "main()"
   ]
  },
  {
   "cell_type": "markdown",
   "metadata": {},
   "source": [
    "## Find the Duplicate Number (easy)"
   ]
  },
  {
   "cell_type": "markdown",
   "metadata": {},
   "source": [
    "We are given an unsorted array containing ‘n+1’ numbers taken from the range 1 to ‘n’. The array has only one duplicate but it can be repeated multiple times. Find that duplicate number without using any extra space. You are, however, allowed to modify the input array."
   ]
  },
  {
   "cell_type": "code",
   "execution_count": 50,
   "metadata": {},
   "outputs": [
    {
     "name": "stdout",
     "output_type": "stream",
     "text": [
      "4\n",
      "3\n",
      "4\n"
     ]
    }
   ],
   "source": [
    "def find_duplicate(nums):\n",
    "    i = 0\n",
    "    while i < len(nums):\n",
    "        if nums[i] != i + 1:\n",
    "            j = nums[i] - 1\n",
    "            if nums[i] != nums[j]:\n",
    "                nums[i], nums[j] = nums[j], nums[i]    # swap\n",
    "            else:    # we have found the duplicate\n",
    "                return nums[i]\n",
    "        else:\n",
    "            i += 1\n",
    "\n",
    "    return -1\n",
    "\n",
    "\n",
    "def main():\n",
    "    print(find_duplicate([1, 4, 4, 3, 2]))\n",
    "    print(find_duplicate([2, 1, 3, 3, 5, 4]))\n",
    "    print(find_duplicate([2, 4, 1, 4, 4]))\n",
    "\n",
    "\n",
    "main()"
   ]
  },
  {
   "cell_type": "markdown",
   "metadata": {},
   "source": [
    "Can we solve the above problem in $O(1)$ space and without modifying the input array?"
   ]
  },
  {
   "cell_type": "code",
   "execution_count": 51,
   "metadata": {},
   "outputs": [
    {
     "name": "stdout",
     "output_type": "stream",
     "text": [
      "4\n",
      "3\n",
      "4\n"
     ]
    }
   ],
   "source": [
    "def find_duplicate(arr):\n",
    "    slow, fast = arr[0], arr[arr[0]]\n",
    "    while slow != fast:\n",
    "        slow = arr[slow]\n",
    "        fast = arr[arr[fast]]\n",
    "\n",
    "    # find cycle length\n",
    "    current = arr[arr[slow]]\n",
    "    cycleLength = 1\n",
    "    while current != arr[slow]:\n",
    "        current = arr[current]\n",
    "        cycleLength += 1\n",
    "\n",
    "    return find_start(arr, cycleLength)\n",
    "\n",
    "\n",
    "def find_start(arr, cycleLength):\n",
    "    pointer1, pointer2 = arr[0], arr[0]\n",
    "    # move pointer2 ahead 'cycleLength' steps\n",
    "    while cycleLength > 0:\n",
    "        pointer2 = arr[pointer2]\n",
    "        cycleLength -= 1\n",
    "\n",
    "    # increment both pointers until they meet at the start of the cycle\n",
    "    while pointer1 != pointer2:\n",
    "        pointer1 = arr[pointer1]\n",
    "        pointer2 = arr[pointer2]\n",
    "\n",
    "    return pointer1\n",
    "\n",
    "\n",
    "def main():\n",
    "    print(find_duplicate([1, 4, 4, 3, 2]))\n",
    "    print(find_duplicate([2, 1, 3, 3, 5, 4]))\n",
    "    print(find_duplicate([2, 4, 1, 4, 4]))\n",
    "\n",
    "\n",
    "main()"
   ]
  },
  {
   "cell_type": "markdown",
   "metadata": {},
   "source": [
    "## Find all Duplicate Numbers (easy)"
   ]
  },
  {
   "cell_type": "markdown",
   "metadata": {},
   "source": [
    "We are given an unsorted array containing ‘n’ numbers taken from the range 1 to ‘n’. The array has some duplicates, find all the duplicate numbers without using any extra space."
   ]
  },
  {
   "cell_type": "code",
   "execution_count": 52,
   "metadata": {},
   "outputs": [
    {
     "name": "stdout",
     "output_type": "stream",
     "text": [
      "[5, 4]\n",
      "[3, 5]\n"
     ]
    }
   ],
   "source": [
    "def find_all_duplicates(nums):\n",
    "    i = 0\n",
    "    while i < len(nums):\n",
    "        j = nums[i] - 1\n",
    "        if nums[i] != nums[j]:\n",
    "            nums[i], nums[j] = nums[j], nums[i]    # swap\n",
    "        else:\n",
    "            i += 1\n",
    "\n",
    "    duplicateNumbers = []\n",
    "    for i in range(len(nums)):\n",
    "        if nums[i] != i + 1:\n",
    "            duplicateNumbers.append(nums[i])\n",
    "\n",
    "    return duplicateNumbers\n",
    "\n",
    "\n",
    "def main():\n",
    "    print(find_all_duplicates([3, 4, 4, 5, 5]))\n",
    "    print(find_all_duplicates([5, 4, 7, 2, 3, 5, 3]))\n",
    "\n",
    "\n",
    "main()"
   ]
  },
  {
   "cell_type": "markdown",
   "metadata": {},
   "source": [
    "## Find the Corrupt Pair (easy)"
   ]
  },
  {
   "cell_type": "markdown",
   "metadata": {},
   "source": [
    "We are given an unsorted array containing ‘n’ numbers taken from the range 1 to ‘n’. The array originally contained all the numbers from 1 to ‘n’, but due to a data error, one of the numbers got duplicated which also resulted in one number going missing. Find both these numbers."
   ]
  },
  {
   "cell_type": "code",
   "execution_count": 53,
   "metadata": {},
   "outputs": [
    {
     "name": "stdout",
     "output_type": "stream",
     "text": [
      "[2, 4]\n",
      "[3, 5]\n"
     ]
    }
   ],
   "source": [
    "def find_corrupt_numbers(nums):\n",
    "    i = 0\n",
    "    while i < len(nums):\n",
    "        j = nums[i] - 1\n",
    "        if nums[i] != nums[j]:\n",
    "            nums[i], nums[j] = nums[j], nums[i]    # swap\n",
    "        else:\n",
    "            i += 1\n",
    "\n",
    "    for i in range(len(nums)):\n",
    "        if nums[i] != i + 1:\n",
    "            return [nums[i], i + 1]\n",
    "\n",
    "    return [-1, -1]\n",
    "\n",
    "\n",
    "def main():\n",
    "    print(find_corrupt_numbers([3, 1, 2, 5, 2]))\n",
    "    print(find_corrupt_numbers([3, 1, 2, 3, 6, 4]))\n",
    "\n",
    "\n",
    "main()"
   ]
  },
  {
   "cell_type": "markdown",
   "metadata": {},
   "source": [
    "## Find the Smallest Missing Positive Number (medium)"
   ]
  },
  {
   "cell_type": "markdown",
   "metadata": {},
   "source": [
    "Given an unsorted array containing numbers, find the smallest missing positive number in it."
   ]
  },
  {
   "cell_type": "code",
   "execution_count": 54,
   "metadata": {},
   "outputs": [
    {
     "name": "stdout",
     "output_type": "stream",
     "text": [
      "3\n",
      "4\n",
      "4\n"
     ]
    }
   ],
   "source": [
    "def find_first_missing_positive(nums):\n",
    "    i, n = 0, len(nums)\n",
    "    while i < n:\n",
    "        j = nums[i] - 1\n",
    "        if nums[i] > 0 and nums[i] <= n and nums[i] != nums[j]:\n",
    "            nums[i], nums[j] = nums[j], nums[i]    # swap\n",
    "        else:\n",
    "            i += 1\n",
    "\n",
    "    for i in range(n):\n",
    "        if nums[i] != i + 1:\n",
    "            return i + 1\n",
    "\n",
    "    return len(nums) + 1\n",
    "\n",
    "\n",
    "def main():\n",
    "    print(find_first_missing_positive([-3, 1, 5, 4, 2]))\n",
    "    print(find_first_missing_positive([3, -2, 0, 1, 2]))\n",
    "    print(find_first_missing_positive([3, 2, 5, 1]))\n",
    "\n",
    "\n",
    "main()"
   ]
  },
  {
   "cell_type": "markdown",
   "metadata": {},
   "source": [
    "## Find the First K Missing Positive Numbers (hard)"
   ]
  },
  {
   "cell_type": "markdown",
   "metadata": {},
   "source": [
    "Given an unsorted array containing numbers and a number ‘k’, find the first ‘k’ missing positive numbers in the array."
   ]
  },
  {
   "cell_type": "code",
   "execution_count": 55,
   "metadata": {},
   "outputs": [
    {
     "name": "stdout",
     "output_type": "stream",
     "text": [
      "[1, 2, 6]\n",
      "[1, 5, 6]\n",
      "[1, 2]\n"
     ]
    }
   ],
   "source": [
    "def find_first_k_missing_positive(nums, k):\n",
    "    n = len(nums)\n",
    "    i = 0\n",
    "    while i < len(nums):\n",
    "        j = nums[i] - 1\n",
    "        if nums[i] > 0 and nums[i] <= n and nums[i] != nums[j]:\n",
    "            nums[i], nums[j] = nums[j], nums[i]    # swap\n",
    "        else:\n",
    "            i += 1\n",
    "\n",
    "    missingNumbers = []\n",
    "    extraNumbers = set()\n",
    "    for i in range(n):\n",
    "        if len(missingNumbers) < k:\n",
    "            if nums[i] != i + 1:\n",
    "                missingNumbers.append(i + 1)\n",
    "                extraNumbers.add(nums[i])\n",
    "\n",
    "    # add the remaining missing numbers\n",
    "    i = 1\n",
    "    while len(missingNumbers) < k:\n",
    "        candidateNumber = i + n\n",
    "        # ignore if the array contains the candidate number\n",
    "        if candidateNumber not in extraNumbers:\n",
    "            missingNumbers.append(candidateNumber)\n",
    "        i += 1\n",
    "\n",
    "    return missingNumbers\n",
    "\n",
    "\n",
    "def main():\n",
    "    print(find_first_k_missing_positive([3, -1, 4, 5, 5], 3))\n",
    "    print(find_first_k_missing_positive([2, 3, 4], 3))\n",
    "    print(find_first_k_missing_positive([-2, -3, 4], 2))\n",
    "\n",
    "\n",
    "main()"
   ]
  },
  {
   "cell_type": "markdown",
   "metadata": {},
   "source": [
    "# In-place Reversal of a LinkedList"
   ]
  },
  {
   "cell_type": "markdown",
   "metadata": {},
   "source": [
    "## Reverse a LinkedList (easy)"
   ]
  },
  {
   "cell_type": "markdown",
   "metadata": {},
   "source": [
    "Given the head of a Singly LinkedList, reverse the LinkedList. Write a function to return the new head of the reversed LinkedList."
   ]
  },
  {
   "cell_type": "code",
   "execution_count": 56,
   "metadata": {},
   "outputs": [
    {
     "name": "stdout",
     "output_type": "stream",
     "text": [
      "Nodes of original LinkedList are: 2 4 6 8 10 \n",
      "Nodes of reversed LinkedList are: 10 8 6 4 2 \n"
     ]
    }
   ],
   "source": [
    "from __future__ import print_function\n",
    "\n",
    "\n",
    "class Node:\n",
    "    def __init__(self, value, next=None):\n",
    "        self.value = value\n",
    "        self.next = next\n",
    "\n",
    "    def print_list(self):\n",
    "        temp = self\n",
    "        while temp is not None:\n",
    "            print(temp.value, end=\" \")\n",
    "            temp = temp.next\n",
    "        print()\n",
    "\n",
    "\n",
    "def reverse(head):\n",
    "    previous, current, next = None, head, None\n",
    "    while current is not None:\n",
    "        next = current.next    # temporarily store the next node\n",
    "        current.next = previous    # reverse the current node\n",
    "        previous = current    # before we move to the next node, point previous to the current node\n",
    "        current = next    # move on the next node\n",
    "    return previous\n",
    "\n",
    "\n",
    "def main():\n",
    "    head = Node(2)\n",
    "    head.next = Node(4)\n",
    "    head.next.next = Node(6)\n",
    "    head.next.next.next = Node(8)\n",
    "    head.next.next.next.next = Node(10)\n",
    "\n",
    "    print(\"Nodes of original LinkedList are: \", end='')\n",
    "    head.print_list()\n",
    "    result = reverse(head)\n",
    "    print(\"Nodes of reversed LinkedList are: \", end='')\n",
    "    result.print_list()\n",
    "\n",
    "\n",
    "main()"
   ]
  },
  {
   "cell_type": "markdown",
   "metadata": {},
   "source": [
    "## Reverse a Sub-list (medium)"
   ]
  },
  {
   "cell_type": "markdown",
   "metadata": {},
   "source": [
    "Given the head of a LinkedList and two positions ‘p’ and ‘q’, reverse the LinkedList from position ‘p’ to ‘q’."
   ]
  },
  {
   "cell_type": "code",
   "execution_count": 57,
   "metadata": {},
   "outputs": [
    {
     "name": "stdout",
     "output_type": "stream",
     "text": [
      "Nodes of original LinkedList are: 1 2 3 4 5 \n",
      "Nodes of reversed LinkedList are: 1 4 3 2 5 \n"
     ]
    }
   ],
   "source": [
    "from __future__ import print_function\n",
    "\n",
    "\n",
    "class Node:\n",
    "    def __init__(self, value, next=None):\n",
    "        self.value = value\n",
    "        self.next = next\n",
    "\n",
    "    def print_list(self):\n",
    "        temp = self\n",
    "        while temp is not None:\n",
    "            print(temp.value, end=\" \")\n",
    "            temp = temp.next\n",
    "        print()\n",
    "\n",
    "\n",
    "def reverse_sub_list(head, p, q):\n",
    "    if p == q:\n",
    "        return head\n",
    "\n",
    "    # after skipping 'p-1' nodes, current will point to 'p'th node\n",
    "    current, previous = head, None\n",
    "    i = 0\n",
    "    while current is not None and i < p - 1:\n",
    "        previous = current\n",
    "        current = current.next\n",
    "        i += 1\n",
    "\n",
    "    # we are interested in three parts of the LinkedList, the part before index 'p',\n",
    "    # the part between 'p' and 'q', and the part after index 'q'\n",
    "    last_node_of_first_part = previous\n",
    "    # after reversing the LinkedList 'current' will become the last node of the sub-list\n",
    "    last_node_of_sub_list = current\n",
    "    next = None    # will be used to temporarily store the next node\n",
    "\n",
    "    i = 0\n",
    "    # reverse nodes between 'p' and 'q'\n",
    "    while current is not None and i < q - p + 1:\n",
    "        next = current.next\n",
    "        current.next = previous\n",
    "        previous = current\n",
    "        current = next\n",
    "        i += 1\n",
    "\n",
    "    # connect with the first part\n",
    "    if last_node_of_first_part is not None:\n",
    "        # 'previous' is now the first node of the sub-list\n",
    "        last_node_of_first_part.next = previous\n",
    "    # this means p == 1 i.e., we are changing the first node (head) of the LinkedList\n",
    "    else:\n",
    "        head = previous\n",
    "\n",
    "    # connect with the last part\n",
    "    last_node_of_sub_list.next = current\n",
    "    return head\n",
    "\n",
    "\n",
    "def main():\n",
    "    head = Node(1)\n",
    "    head.next = Node(2)\n",
    "    head.next.next = Node(3)\n",
    "    head.next.next.next = Node(4)\n",
    "    head.next.next.next.next = Node(5)\n",
    "\n",
    "    print(\"Nodes of original LinkedList are: \", end='')\n",
    "    head.print_list()\n",
    "    result = reverse_sub_list(head, 2, 4)\n",
    "    print(\"Nodes of reversed LinkedList are: \", end='')\n",
    "    result.print_list()\n",
    "\n",
    "\n",
    "main()"
   ]
  },
  {
   "cell_type": "markdown",
   "metadata": {},
   "source": [
    "## Reverse every K-element Sub-list (medium)"
   ]
  },
  {
   "cell_type": "markdown",
   "metadata": {},
   "source": [
    "Given the head of a LinkedList and a number ‘k’, reverse every ‘k’ sized sub-list starting from the head.\n",
    "\n",
    "If, in the end, you are left with a sub-list with less than ‘k’ elements, reverse it too."
   ]
  },
  {
   "cell_type": "code",
   "execution_count": 58,
   "metadata": {},
   "outputs": [
    {
     "name": "stdout",
     "output_type": "stream",
     "text": [
      "Nodes of original LinkedList are: 1 2 3 4 5 6 7 8 \n",
      "Nodes of reversed LinkedList are: 3 2 1 6 5 4 8 7 \n"
     ]
    }
   ],
   "source": [
    "from __future__ import print_function\n",
    "\n",
    "\n",
    "class Node:\n",
    "    def __init__(self, value, next=None):\n",
    "        self.value = value\n",
    "        self.next = next\n",
    "\n",
    "    def print_list(self):\n",
    "        temp = self\n",
    "        while temp is not None:\n",
    "            print(temp.value, end=\" \")\n",
    "            temp = temp.next\n",
    "        print()\n",
    "\n",
    "\n",
    "def reverse_every_k_elements(head, k):\n",
    "    if k <= 1 or head is None:\n",
    "        return head\n",
    "\n",
    "    current, previous = head, None\n",
    "    while True:\n",
    "        last_node_of_previous_part = previous\n",
    "        # after reversing the LinkedList 'current' will become the last node of the sub-list\n",
    "        last_node_of_sub_list = current\n",
    "        next = None    # will be used to temporarily store the next node\n",
    "        i = 0\n",
    "        while current is not None and i < k:    # reverse 'k' nodes\n",
    "            next = current.next\n",
    "            current.next = previous\n",
    "            previous = current\n",
    "            current = next\n",
    "            i += 1\n",
    "\n",
    "        # connect with the previous part\n",
    "        if last_node_of_previous_part is not None:\n",
    "            last_node_of_previous_part.next = previous\n",
    "        else:\n",
    "            head = previous\n",
    "\n",
    "        # connect with the next part\n",
    "        last_node_of_sub_list.next = current\n",
    "\n",
    "        if current is None:\n",
    "            break\n",
    "        previous = last_node_of_sub_list\n",
    "    return head\n",
    "\n",
    "\n",
    "def main():\n",
    "    head = Node(1)\n",
    "    head.next = Node(2)\n",
    "    head.next.next = Node(3)\n",
    "    head.next.next.next = Node(4)\n",
    "    head.next.next.next.next = Node(5)\n",
    "    head.next.next.next.next.next = Node(6)\n",
    "    head.next.next.next.next.next.next = Node(7)\n",
    "    head.next.next.next.next.next.next.next = Node(8)\n",
    "\n",
    "    print(\"Nodes of original LinkedList are: \", end='')\n",
    "    head.print_list()\n",
    "    result = reverse_every_k_elements(head, 3)\n",
    "    print(\"Nodes of reversed LinkedList are: \", end='')\n",
    "    result.print_list()\n",
    "\n",
    "\n",
    "main()"
   ]
  },
  {
   "cell_type": "markdown",
   "metadata": {},
   "source": [
    "## Reverse alternating K-element Sub-list (medium)"
   ]
  },
  {
   "cell_type": "markdown",
   "metadata": {},
   "source": [
    "Given the head of a LinkedList and a number ‘k’, reverse every alternating ‘k’ sized sub-list starting from the head.\n",
    "\n",
    "If, in the end, you are left with a sub-list with less than ‘k’ elements, reverse it too."
   ]
  },
  {
   "cell_type": "code",
   "execution_count": 59,
   "metadata": {},
   "outputs": [
    {
     "name": "stdout",
     "output_type": "stream",
     "text": [
      "Nodes of original LinkedList are: 1 2 3 4 5 6 7 8 \n",
      "Nodes of reversed LinkedList are: 2 1 3 4 6 5 7 8 \n"
     ]
    }
   ],
   "source": [
    "from __future__ import print_function\n",
    "\n",
    "\n",
    "class Node:\n",
    "    def __init__(self, value, next=None):\n",
    "        self.value = value\n",
    "        self.next = next\n",
    "\n",
    "    def print_list(self):\n",
    "        temp = self\n",
    "        while temp is not None:\n",
    "            print(temp.value, end=\" \")\n",
    "            temp = temp.next\n",
    "        print()\n",
    "\n",
    "\n",
    "def reverse_alternate_k_elements(head, k):\n",
    "    if k <= 1 or head is None:\n",
    "        return head\n",
    "\n",
    "    current, previous = head, None\n",
    "    while True:\n",
    "        last_node_of_previous_part = previous\n",
    "        # after reversing the LinkedList 'current' will become the last node of the sub-list\n",
    "        last_node_of_sub_list = current\n",
    "        next = None    # will be used to temporarily store the next node\n",
    "\n",
    "        # reverse 'k' nodes\n",
    "        i = 0\n",
    "        while current is not None and i < k:\n",
    "            next = current.next\n",
    "            current.next = previous\n",
    "            previous = current\n",
    "            current = next\n",
    "            i += 1\n",
    "\n",
    "        # connect with the previous part\n",
    "        if last_node_of_previous_part is not None:\n",
    "            last_node_of_previous_part.next = previous\n",
    "        else:\n",
    "            head = previous\n",
    "\n",
    "        # connect with the next part\n",
    "        last_node_of_sub_list.next = current\n",
    "\n",
    "        # skip 'k' nodes\n",
    "        i = 0\n",
    "        while current is not None and i < k:\n",
    "            previous = current\n",
    "            current = current.next\n",
    "            i += 1\n",
    "\n",
    "        if current is None:\n",
    "            break\n",
    "    return head\n",
    "\n",
    "\n",
    "def main():\n",
    "    head = Node(1)\n",
    "    head.next = Node(2)\n",
    "    head.next.next = Node(3)\n",
    "    head.next.next.next = Node(4)\n",
    "    head.next.next.next.next = Node(5)\n",
    "    head.next.next.next.next.next = Node(6)\n",
    "    head.next.next.next.next.next.next = Node(7)\n",
    "    head.next.next.next.next.next.next.next = Node(8)\n",
    "\n",
    "    print(\"Nodes of original LinkedList are: \", end='')\n",
    "    head.print_list()\n",
    "    result = reverse_alternate_k_elements(head, 2)\n",
    "    print(\"Nodes of reversed LinkedList are: \", end='')\n",
    "    result.print_list()\n",
    "\n",
    "\n",
    "main()"
   ]
  },
  {
   "cell_type": "markdown",
   "metadata": {},
   "source": [
    "## Rotate a LinkedList (medium)"
   ]
  },
  {
   "cell_type": "markdown",
   "metadata": {},
   "source": [
    "Given the head of a Singly LinkedList and a number ‘k’, rotate the LinkedList to the right by ‘k’ nodes."
   ]
  },
  {
   "cell_type": "code",
   "execution_count": 60,
   "metadata": {},
   "outputs": [
    {
     "name": "stdout",
     "output_type": "stream",
     "text": [
      "Nodes of original LinkedList are: 1 2 3 4 5 6 \n",
      "Nodes of rotated LinkedList are: 4 5 6 1 2 3 \n"
     ]
    }
   ],
   "source": [
    "from __future__ import print_function\n",
    "\n",
    "\n",
    "class Node:\n",
    "    def __init__(self, value, next=None):\n",
    "        self.value = value\n",
    "        self.next = next\n",
    "\n",
    "    def print_list(self):\n",
    "        temp = self\n",
    "        while temp is not None:\n",
    "            print(temp.value, end=\" \")\n",
    "            temp = temp.next\n",
    "        print()\n",
    "\n",
    "\n",
    "def rotate(head, rotations):\n",
    "    if head is None or head.next is None or rotations <= 0:\n",
    "        return head\n",
    "\n",
    "    # find the length and the last node of the list\n",
    "    last_node = head\n",
    "    list_length = 1\n",
    "    while last_node.next is not None:\n",
    "        last_node = last_node.next\n",
    "        list_length += 1\n",
    "\n",
    "    last_node.next = head    # connect the last node with the head to make it a circular list\n",
    "    rotations %= list_length    # no need to do rotations more than the length of the list\n",
    "    skip_length = list_length - rotations\n",
    "    last_node_of_rotated_list = head\n",
    "    for i in range(skip_length - 1):\n",
    "        last_node_of_rotated_list = last_node_of_rotated_list.next\n",
    "\n",
    "    # 'last_node_of_rotated_list.next' is pointing to the sub-list of 'k' ending nodes\n",
    "    head = last_node_of_rotated_list.next\n",
    "    last_node_of_rotated_list.next = None\n",
    "    return head\n",
    "\n",
    "\n",
    "def main():\n",
    "    head = Node(1)\n",
    "    head.next = Node(2)\n",
    "    head.next.next = Node(3)\n",
    "    head.next.next.next = Node(4)\n",
    "    head.next.next.next.next = Node(5)\n",
    "    head.next.next.next.next.next = Node(6)\n",
    "\n",
    "    print(\"Nodes of original LinkedList are: \", end='')\n",
    "    head.print_list()\n",
    "    result = rotate(head, 3)\n",
    "    print(\"Nodes of rotated LinkedList are: \", end='')\n",
    "    result.print_list()\n",
    "\n",
    "\n",
    "main()"
   ]
  },
  {
   "cell_type": "markdown",
   "metadata": {},
   "source": [
    "# Tree Breadth First Search"
   ]
  },
  {
   "cell_type": "markdown",
   "metadata": {},
   "source": [
    "## Binary Tree Level Order Traversal (easy)"
   ]
  },
  {
   "cell_type": "markdown",
   "metadata": {},
   "source": [
    "Given a binary tree, populate an array to represent its level-by-level traversal. You should populate the values of all nodes of each level from left to right in separate sub-arrays."
   ]
  },
  {
   "cell_type": "code",
   "execution_count": 61,
   "metadata": {},
   "outputs": [
    {
     "name": "stdout",
     "output_type": "stream",
     "text": [
      "Level order traversal: [[12], [7, 1], [9, 10, 5]]\n"
     ]
    }
   ],
   "source": [
    "from collections import deque\n",
    "\n",
    "\n",
    "class TreeNode:\n",
    "    def __init__(self, val):\n",
    "        self.val = val\n",
    "        self.left, self.right = None, None\n",
    "\n",
    "\n",
    "def traverse(root):\n",
    "    result = []\n",
    "    if root is None:\n",
    "        return result\n",
    "\n",
    "    queue = deque()\n",
    "    queue.append(root)\n",
    "    while queue:\n",
    "        levelSize = len(queue)\n",
    "        currentLevel = []\n",
    "        for _ in range(levelSize):\n",
    "            currentNode = queue.popleft()\n",
    "            # add the node to the current level\n",
    "            currentLevel.append(currentNode.val)\n",
    "            # insert the children of current node in the queue\n",
    "            if currentNode.left:\n",
    "                queue.append(currentNode.left)\n",
    "            if currentNode.right:\n",
    "                queue.append(currentNode.right)\n",
    "\n",
    "        result.append(currentLevel)\n",
    "\n",
    "    return result\n",
    "\n",
    "\n",
    "def main():\n",
    "    root = TreeNode(12)\n",
    "    root.left = TreeNode(7)\n",
    "    root.right = TreeNode(1)\n",
    "    root.left.left = TreeNode(9)\n",
    "    root.right.left = TreeNode(10)\n",
    "    root.right.right = TreeNode(5)\n",
    "    print(\"Level order traversal: \" + str(traverse(root)))\n",
    "\n",
    "\n",
    "main()"
   ]
  },
  {
   "cell_type": "markdown",
   "metadata": {},
   "source": [
    "## Reverse Level Order Traversal (easy)"
   ]
  },
  {
   "cell_type": "markdown",
   "metadata": {},
   "source": [
    "Given a binary tree, populate an array to represent its level-by-level traversal in reverse order, i.e., the lowest level comes first. You should populate the values of all nodes in each level from left to right in separate sub-arrays."
   ]
  },
  {
   "cell_type": "code",
   "execution_count": 62,
   "metadata": {},
   "outputs": [
    {
     "name": "stdout",
     "output_type": "stream",
     "text": [
      "Reverse level order traversal: deque([[9, 10, 5], [7, 1], [12]])\n"
     ]
    }
   ],
   "source": [
    "from collections import deque\n",
    "\n",
    "\n",
    "class TreeNode:\n",
    "    def __init__(self, val):\n",
    "        self.val = val\n",
    "        self.left, self.right = None, None\n",
    "\n",
    "\n",
    "def traverse(root):\n",
    "    result = deque()\n",
    "    if root is None:\n",
    "        return result\n",
    "\n",
    "    queue = deque()\n",
    "    queue.append(root)\n",
    "    while queue:\n",
    "        levelSize = len(queue)\n",
    "        currentLevel = []\n",
    "        for _ in range(levelSize):\n",
    "            currentNode = queue.popleft()\n",
    "            # add the node to the current level\n",
    "            currentLevel.append(currentNode.val)\n",
    "            # insert the children of current node in the queue\n",
    "            if currentNode.left:\n",
    "                queue.append(currentNode.left)\n",
    "            if currentNode.right:\n",
    "                queue.append(currentNode.right)\n",
    "\n",
    "        result.appendleft(currentLevel)\n",
    "\n",
    "    return result\n",
    "\n",
    "\n",
    "def main():\n",
    "    root = TreeNode(12)\n",
    "    root.left = TreeNode(7)\n",
    "    root.right = TreeNode(1)\n",
    "    root.left.left = TreeNode(9)\n",
    "    root.right.left = TreeNode(10)\n",
    "    root.right.right = TreeNode(5)\n",
    "    print(\"Reverse level order traversal: \" + str(traverse(root)))\n",
    "\n",
    "\n",
    "main()"
   ]
  },
  {
   "cell_type": "markdown",
   "metadata": {},
   "source": [
    "## Zigzag Traversal (medium)"
   ]
  },
  {
   "cell_type": "markdown",
   "metadata": {},
   "source": [
    "Given a binary tree, populate an array to represent its zigzag level order traversal. You should populate the values of all nodes of the first level from left to right, then right to left for the next level and keep alternating in the same manner for the following levels."
   ]
  },
  {
   "cell_type": "code",
   "execution_count": 63,
   "metadata": {},
   "outputs": [
    {
     "name": "stdout",
     "output_type": "stream",
     "text": [
      "Zigzag traversal: [[12], [1, 7], [9, 10, 5], [17, 20]]\n"
     ]
    }
   ],
   "source": [
    "from collections import deque\n",
    "\n",
    "\n",
    "class TreeNode:\n",
    "    def __init__(self, val):\n",
    "        self.val = val\n",
    "        self.left, self.right = None, None\n",
    "\n",
    "\n",
    "def traverse(root):\n",
    "    result = []\n",
    "    if root is None:\n",
    "        return result\n",
    "\n",
    "    queue = deque()\n",
    "    queue.append(root)\n",
    "    leftToRight = True\n",
    "    while queue:\n",
    "        levelSize = len(queue)\n",
    "        currentLevel = deque()\n",
    "        for _ in range(levelSize):\n",
    "            currentNode = queue.popleft()\n",
    "\n",
    "            # add the node to the current level based on the traverse direction\n",
    "            if leftToRight:\n",
    "                currentLevel.append(currentNode.val)\n",
    "            else:\n",
    "                currentLevel.appendleft(currentNode.val)\n",
    "\n",
    "            # insert the children of current node in the queue\n",
    "            if currentNode.left:\n",
    "                queue.append(currentNode.left)\n",
    "            if currentNode.right:\n",
    "                queue.append(currentNode.right)\n",
    "\n",
    "        result.append(list(currentLevel))\n",
    "        # reverse the traversal direction\n",
    "        leftToRight = not leftToRight\n",
    "\n",
    "    return result\n",
    "\n",
    "\n",
    "def main():\n",
    "    root = TreeNode(12)\n",
    "    root.left = TreeNode(7)\n",
    "    root.right = TreeNode(1)\n",
    "    root.left.left = TreeNode(9)\n",
    "    root.right.left = TreeNode(10)\n",
    "    root.right.right = TreeNode(5)\n",
    "    root.right.left.left = TreeNode(20)\n",
    "    root.right.left.right = TreeNode(17)\n",
    "    print(\"Zigzag traversal: \" + str(traverse(root)))\n",
    "\n",
    "\n",
    "main()"
   ]
  },
  {
   "cell_type": "markdown",
   "metadata": {},
   "source": [
    "## Level Averages in a Binary Tree (easy)"
   ]
  },
  {
   "cell_type": "markdown",
   "metadata": {},
   "source": [
    "Given a binary tree, populate an array to represent the averages of all of its levels."
   ]
  },
  {
   "cell_type": "code",
   "execution_count": 64,
   "metadata": {},
   "outputs": [
    {
     "name": "stdout",
     "output_type": "stream",
     "text": [
      "Level averages are: [12.0, 4.0, 6.5]\n"
     ]
    }
   ],
   "source": [
    "from collections import deque\n",
    "\n",
    "\n",
    "class TreeNode:\n",
    "    def __init__(self, val):\n",
    "        self.val = val\n",
    "        self.left, self.right = None, None\n",
    "\n",
    "\n",
    "def find_level_averages(root):\n",
    "    result = []\n",
    "    if root is None:\n",
    "        return result\n",
    "\n",
    "    queue = deque()\n",
    "    queue.append(root)\n",
    "    while queue:\n",
    "        levelSize = len(queue)\n",
    "        levelSum = 0.0\n",
    "        for _ in range(levelSize):\n",
    "            currentNode = queue.popleft()\n",
    "            # add the node's value to the running sum\n",
    "            levelSum += currentNode.val\n",
    "            # insert the children of current node to the queue\n",
    "            if currentNode.left:\n",
    "                queue.append(currentNode.left)\n",
    "            if currentNode.right:\n",
    "                queue.append(currentNode.right)\n",
    "\n",
    "        # append the current level's average to the result array\n",
    "        result.append(levelSum / levelSize)\n",
    "\n",
    "    return result\n",
    "\n",
    "\n",
    "def main():\n",
    "    root = TreeNode(12)\n",
    "    root.left = TreeNode(7)\n",
    "    root.right = TreeNode(1)\n",
    "    root.left.left = TreeNode(9)\n",
    "    root.left.right = TreeNode(2)\n",
    "    root.right.left = TreeNode(10)\n",
    "    root.right.right = TreeNode(5)\n",
    "    print(\"Level averages are: \" + str(find_level_averages(root)))\n",
    "\n",
    "\n",
    "main()"
   ]
  },
  {
   "cell_type": "markdown",
   "metadata": {},
   "source": [
    "## Minimum Depth of a Binary Tree (easy)"
   ]
  },
  {
   "cell_type": "markdown",
   "metadata": {},
   "source": [
    "Find the minimum depth of a binary tree. The minimum depth is the number of nodes along the shortest path from the root node to the nearest leaf node."
   ]
  },
  {
   "cell_type": "code",
   "execution_count": 65,
   "metadata": {},
   "outputs": [
    {
     "name": "stdout",
     "output_type": "stream",
     "text": [
      "Tree Minimum Depth: 2\n",
      "Tree Minimum Depth: 3\n"
     ]
    }
   ],
   "source": [
    "from collections import deque\n",
    "\n",
    "\n",
    "class TreeNode:\n",
    "    def __init__(self, val):\n",
    "        self.val = val\n",
    "        self.left, self.right = None, None\n",
    "\n",
    "\n",
    "def find_minimum_depth(root):\n",
    "    if root is None:\n",
    "        return 0\n",
    "\n",
    "    queue = deque()\n",
    "    queue.append(root)\n",
    "    minimumTreeDepth = 0\n",
    "    while queue:\n",
    "        minimumTreeDepth += 1\n",
    "        levelSize = len(queue)\n",
    "        for _ in range(levelSize):\n",
    "            currentNode = queue.popleft()\n",
    "\n",
    "            # check if this is a leaf node\n",
    "            if not currentNode.left and not currentNode.right:\n",
    "                return minimumTreeDepth\n",
    "\n",
    "            # insert the children of current node in the queue\n",
    "            if currentNode.left:\n",
    "                queue.append(currentNode.left)\n",
    "            if currentNode.right:\n",
    "                queue.append(currentNode.right)\n",
    "\n",
    "\n",
    "\n",
    "def main():\n",
    "    root = TreeNode(12)\n",
    "    root.left = TreeNode(7)\n",
    "    root.right = TreeNode(1)\n",
    "    root.right.left = TreeNode(10)\n",
    "    root.right.right = TreeNode(5)\n",
    "    print(\"Tree Minimum Depth: \" + str(find_minimum_depth(root)))\n",
    "    root.left.left = TreeNode(9)\n",
    "    root.right.left.left = TreeNode(11)\n",
    "    print(\"Tree Minimum Depth: \" + str(find_minimum_depth(root)))\n",
    "\n",
    "\n",
    "main()"
   ]
  },
  {
   "cell_type": "markdown",
   "metadata": {},
   "source": [
    "Given a binary tree, find its maximum depth (or height)."
   ]
  },
  {
   "cell_type": "code",
   "execution_count": 66,
   "metadata": {},
   "outputs": [
    {
     "name": "stdout",
     "output_type": "stream",
     "text": [
      "Tree Maximum Depth: 3\n",
      "Tree Maximum Depth: 4\n"
     ]
    }
   ],
   "source": [
    "from collections import deque\n",
    "\n",
    "\n",
    "class TreeNode:\n",
    "    def __init__(self, val):\n",
    "        self.val = val\n",
    "        self.left, self.right = None, None\n",
    "\n",
    "\n",
    "def find_maximum_depth(root):\n",
    "    if root is None:\n",
    "        return 0\n",
    "\n",
    "    queue = deque()\n",
    "    queue.append(root)\n",
    "    maximumTreeDepth = 0\n",
    "    while queue:\n",
    "        maximumTreeDepth += 1\n",
    "        levelSize = len(queue)\n",
    "        for _ in range(levelSize):\n",
    "            currentNode = queue.popleft()\n",
    "\n",
    "            # insert the children of current node in the queue\n",
    "            if currentNode.left:\n",
    "                queue.append(currentNode.left)\n",
    "            if currentNode.right:\n",
    "                queue.append(currentNode.right)\n",
    "\n",
    "    return maximumTreeDepth\n",
    "\n",
    "\n",
    "def main():\n",
    "    root = TreeNode(12)\n",
    "    root.left = TreeNode(7)\n",
    "    root.right = TreeNode(1)\n",
    "    root.right.left = TreeNode(10)\n",
    "    root.right.right = TreeNode(5)\n",
    "    print(\"Tree Maximum Depth: \" + str(find_maximum_depth(root)))\n",
    "    root.left.left = TreeNode(9)\n",
    "    root.right.left.left = TreeNode(11)\n",
    "    print(\"Tree Maximum Depth: \" + str(find_maximum_depth(root)))\n",
    "\n",
    "\n",
    "main()"
   ]
  },
  {
   "cell_type": "markdown",
   "metadata": {},
   "source": [
    "## Level Order Successor (easy)"
   ]
  },
  {
   "cell_type": "markdown",
   "metadata": {},
   "source": [
    "Given a binary tree and a node, find the level order successor of the given node in the tree. The level order successor is the node that appears right after the given node in the level order traversal."
   ]
  },
  {
   "cell_type": "code",
   "execution_count": 68,
   "metadata": {},
   "outputs": [
    {
     "name": "stdout",
     "output_type": "stream",
     "text": [
      "7\n",
      "10\n"
     ]
    }
   ],
   "source": [
    "from collections import deque\n",
    "\n",
    "\n",
    "class TreeNode:\n",
    "    def __init__(self, val):\n",
    "        self.val = val\n",
    "        self.left, self.right = None, None\n",
    "\n",
    "\n",
    "def find_successor(root, key):\n",
    "    if root is None:\n",
    "        return None\n",
    "\n",
    "    queue = deque()\n",
    "    queue.append(root)\n",
    "    while queue:\n",
    "        currentNode = queue.popleft()\n",
    "        # insert the children of current node in the queue\n",
    "        if currentNode.left:\n",
    "            queue.append(currentNode.left)\n",
    "        if currentNode.right:\n",
    "            queue.append(currentNode.right)\n",
    "\n",
    "        # break if we have found the key\n",
    "        if currentNode.val == key:\n",
    "            break\n",
    "\n",
    "    return queue[0] if queue else None\n",
    "\n",
    "\n",
    "def main():\n",
    "    root = TreeNode(12)\n",
    "    root.left = TreeNode(7)\n",
    "    root.right = TreeNode(1)\n",
    "    root.left.left = TreeNode(9)\n",
    "    root.right.left = TreeNode(10)\n",
    "    root.right.right = TreeNode(5)\n",
    "    result = find_successor(root, 12)\n",
    "    if result:\n",
    "        print(result.val)\n",
    "    result = find_successor(root, 9)\n",
    "    if result:\n",
    "        print(result.val)\n",
    "\n",
    "\n",
    "main()"
   ]
  },
  {
   "cell_type": "markdown",
   "metadata": {},
   "source": [
    "## Connect Level Order Siblings (medium)"
   ]
  },
  {
   "cell_type": "markdown",
   "metadata": {},
   "source": [
    "Given a binary tree, connect each node with its level order successor. The last node of each level should point to a `null` node."
   ]
  },
  {
   "cell_type": "code",
   "execution_count": 69,
   "metadata": {},
   "outputs": [
    {
     "name": "stdout",
     "output_type": "stream",
     "text": [
      "Level order traversal using 'next' pointer: \n",
      "12 \n",
      "7 1 \n",
      "9 10 5 \n"
     ]
    }
   ],
   "source": [
    "from __future__ import print_function\n",
    "from collections import deque\n",
    "\n",
    "\n",
    "class TreeNode:\n",
    "    def __init__(self, val):\n",
    "        self.val = val\n",
    "        self.left, self.right, self.next = None, None, None\n",
    "\n",
    "    # level order traversal using 'next' pointer\n",
    "    def print_level_order(self):\n",
    "        nextLevelRoot = self\n",
    "        while nextLevelRoot:\n",
    "            current = nextLevelRoot\n",
    "            nextLevelRoot = None\n",
    "            while current:\n",
    "                print(str(current.val) + \" \", end='')\n",
    "                if not nextLevelRoot:\n",
    "                    if current.left:\n",
    "                        nextLevelRoot = current.left\n",
    "                    elif current.right:\n",
    "                        nextLevelRoot = current.right\n",
    "                current = current.next\n",
    "            print()\n",
    "\n",
    "\n",
    "def connect_level_order_siblings(root):\n",
    "    if root is None:\n",
    "        return\n",
    "\n",
    "    queue = deque()\n",
    "    queue.append(root)\n",
    "    while queue:\n",
    "        previousNode = None\n",
    "        levelSize = len(queue)\n",
    "        # connect all nodes of this level\n",
    "        for _ in range(levelSize):\n",
    "            currentNode = queue.popleft()\n",
    "            if previousNode:\n",
    "                previousNode.next = currentNode\n",
    "            previousNode = currentNode\n",
    "\n",
    "            # insert the children of current node in the queue\n",
    "            if currentNode.left:\n",
    "                queue.append(currentNode.left)\n",
    "            if currentNode.right:\n",
    "                queue.append(currentNode.right)\n",
    "\n",
    "\n",
    "def main():\n",
    "    root = TreeNode(12)\n",
    "    root.left = TreeNode(7)\n",
    "    root.right = TreeNode(1)\n",
    "    root.left.left = TreeNode(9)\n",
    "    root.right.left = TreeNode(10)\n",
    "    root.right.right = TreeNode(5)\n",
    "    connect_level_order_siblings(root)\n",
    "\n",
    "    print(\"Level order traversal using 'next' pointer: \")\n",
    "    root.print_level_order()\n",
    "\n",
    "\n",
    "main()"
   ]
  },
  {
   "cell_type": "markdown",
   "metadata": {},
   "source": [
    "## Connect All Level Order Siblings (medium)"
   ]
  },
  {
   "cell_type": "markdown",
   "metadata": {},
   "source": [
    "Given a binary tree, connect each node with its level order successor. The last node of each level should point to the first node of the next level."
   ]
  },
  {
   "cell_type": "code",
   "execution_count": 70,
   "metadata": {},
   "outputs": [
    {
     "name": "stdout",
     "output_type": "stream",
     "text": [
      "Traversal using 'next' pointer: 12 7 1 9 10 5 "
     ]
    }
   ],
   "source": [
    "from __future__ import print_function\n",
    "from collections import deque\n",
    "\n",
    "\n",
    "class TreeNode:\n",
    "    def __init__(self, val):\n",
    "        self.val = val\n",
    "        self.left, self.right, self.next = None, None, None\n",
    "\n",
    "    # tree traversal using 'next' pointer\n",
    "    def print_tree(self):\n",
    "        print(\"Traversal using 'next' pointer: \", end='')\n",
    "        current = self\n",
    "        while current:\n",
    "            print(str(current.val) + \" \", end='')\n",
    "            current = current.next\n",
    "\n",
    "\n",
    "def connect_all_siblings(root):\n",
    "    if root is None:\n",
    "        return\n",
    "\n",
    "    queue = deque()\n",
    "    queue.append(root)\n",
    "    currentNode, previousNode = None, None\n",
    "    while queue:\n",
    "        currentNode = queue.popleft()\n",
    "        if previousNode:\n",
    "            previousNode.next = currentNode\n",
    "        previousNode = currentNode\n",
    "\n",
    "        # insert the children of current node in the queue\n",
    "        if currentNode.left:\n",
    "            queue.append(currentNode.left)\n",
    "        if currentNode.right:\n",
    "            queue.append(currentNode.right)\n",
    "\n",
    "\n",
    "def main():\n",
    "    root = TreeNode(12)\n",
    "    root.left = TreeNode(7)\n",
    "    root.right = TreeNode(1)\n",
    "    root.left.left = TreeNode(9)\n",
    "    root.right.left = TreeNode(10)\n",
    "    root.right.right = TreeNode(5)\n",
    "    connect_all_siblings(root)\n",
    "    root.print_tree()\n",
    "\n",
    "\n",
    "main()"
   ]
  },
  {
   "cell_type": "markdown",
   "metadata": {},
   "source": [
    "## Right View of a Binary Tree (easy)"
   ]
  },
  {
   "cell_type": "markdown",
   "metadata": {},
   "source": [
    "Given a binary tree, return an array containing nodes in its right view. The right view of a binary tree is the set of nodes visible when the tree is seen from the right side."
   ]
  },
  {
   "cell_type": "code",
   "execution_count": 71,
   "metadata": {},
   "outputs": [
    {
     "name": "stdout",
     "output_type": "stream",
     "text": [
      "Tree right view: \n",
      "12 1 5 3 "
     ]
    }
   ],
   "source": [
    "from __future__ import print_function\n",
    "from collections import deque\n",
    "\n",
    "\n",
    "class TreeNode:\n",
    "    def __init__(self, val):\n",
    "        self.val = val\n",
    "        self.left, self.right = None, None\n",
    "\n",
    "\n",
    "def tree_right_view(root):\n",
    "    result = []\n",
    "    if root is None:\n",
    "        return result\n",
    "\n",
    "    queue = deque()\n",
    "    queue.append(root)\n",
    "    while queue:\n",
    "        levelSize = len(queue)\n",
    "        for i in range(0, levelSize):\n",
    "            currentNode = queue.popleft()\n",
    "            # if it is the last node of this level, add it to the result\n",
    "            if i == levelSize - 1:\n",
    "                result.append(currentNode)\n",
    "            # insert the children of current node in the queue\n",
    "            if currentNode.left:\n",
    "                queue.append(currentNode.left)\n",
    "            if currentNode.right:\n",
    "                queue.append(currentNode.right)\n",
    "\n",
    "    return result\n",
    "\n",
    "\n",
    "def main():\n",
    "    root = TreeNode(12)\n",
    "    root.left = TreeNode(7)\n",
    "    root.right = TreeNode(1)\n",
    "    root.left.left = TreeNode(9)\n",
    "    root.right.left = TreeNode(10)\n",
    "    root.right.right = TreeNode(5)\n",
    "    root.left.left.left = TreeNode(3)\n",
    "    result = tree_right_view(root)\n",
    "    print(\"Tree right view: \")\n",
    "    for node in result:\n",
    "        print(str(node.val) + \" \", end='')\n",
    "\n",
    "\n",
    "main()"
   ]
  },
  {
   "cell_type": "markdown",
   "metadata": {},
   "source": [
    "# Tree Depth First Search"
   ]
  },
  {
   "cell_type": "markdown",
   "metadata": {},
   "source": [
    "## Binary Tree Path Sum (easy)"
   ]
  },
  {
   "cell_type": "markdown",
   "metadata": {},
   "source": [
    "Given a binary tree and a number ‘S’, find if the tree has a path from root-to-leaf such that the sum of all the node values of that path equals ‘S’."
   ]
  },
  {
   "cell_type": "code",
   "execution_count": 72,
   "metadata": {},
   "outputs": [
    {
     "name": "stdout",
     "output_type": "stream",
     "text": [
      "Tree has path: True\n",
      "Tree has path: False\n"
     ]
    }
   ],
   "source": [
    "class TreeNode:\n",
    "    def __init__(self, val, left=None, right=None):\n",
    "        self.val = val\n",
    "        self.left = left\n",
    "        self.right = right\n",
    "\n",
    "\n",
    "def has_path(root, sum):\n",
    "    if root is None:\n",
    "        return False\n",
    "\n",
    "    # if the current node is a leaf and its value is equal to the sum, we've found a path\n",
    "    if root.val == sum and root.left is None and root.right is None:\n",
    "        return True\n",
    "\n",
    "    # recursively call to traverse the left and right sub-tree\n",
    "    # return true if any of the two recursive call return true\n",
    "    return has_path(root.left, sum - root.val) or has_path(root.right, sum - root.val)\n",
    "\n",
    "\n",
    "def main():\n",
    "\n",
    "    root = TreeNode(12)\n",
    "    root.left = TreeNode(7)\n",
    "    root.right = TreeNode(1)\n",
    "    root.left.left = TreeNode(9)\n",
    "    root.right.left = TreeNode(10)\n",
    "    root.right.right = TreeNode(5)\n",
    "    print(\"Tree has path: \" + str(has_path(root, 23)))\n",
    "    print(\"Tree has path: \" + str(has_path(root, 16)))\n",
    "\n",
    "\n",
    "main()"
   ]
  },
  {
   "cell_type": "code",
   "execution_count": null,
   "metadata": {},
   "outputs": [],
   "source": []
  }
 ],
 "metadata": {
  "kernelspec": {
   "display_name": "Python 3",
   "language": "python",
   "name": "python3"
  },
  "language_info": {
   "codemirror_mode": {
    "name": "ipython",
    "version": 3
   },
   "file_extension": ".py",
   "mimetype": "text/x-python",
   "name": "python",
   "nbconvert_exporter": "python",
   "pygments_lexer": "ipython3",
   "version": "3.7.6"
  },
  "toc": {
   "base_numbering": 1,
   "nav_menu": {},
   "number_sections": true,
   "sideBar": true,
   "skip_h1_title": false,
   "title_cell": "Table of Contents",
   "title_sidebar": "Contents",
   "toc_cell": false,
   "toc_position": {},
   "toc_section_display": true,
   "toc_window_display": false
  }
 },
 "nbformat": 4,
 "nbformat_minor": 4
}
