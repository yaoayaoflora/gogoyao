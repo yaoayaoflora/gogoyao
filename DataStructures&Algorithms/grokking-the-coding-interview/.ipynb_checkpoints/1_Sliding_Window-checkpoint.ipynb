{
 "cells": [
  {
   "cell_type": "markdown",
   "metadata": {},
   "source": [
    "# Introduction"
   ]
  },
  {
   "cell_type": "markdown",
   "metadata": {},
   "source": [
    "![](images/1_0_introduction.png)"
   ]
  },
  {
   "cell_type": "code",
   "execution_count": 3,
   "metadata": {},
   "outputs": [
    {
     "name": "stdout",
     "output_type": "stream",
     "text": [
      "Averages of subarrays of size K: [2.2, 2.8, 2.4, 3.6, 2.8]\n"
     ]
    }
   ],
   "source": [
    "def find_averages_of_subarrays(K, arr):\n",
    "    result = []\n",
    "    windowSum, windowStart = 0.0, 0\n",
    "    for windowEnd in range(len(arr)):\n",
    "        windowSum += arr[windowEnd] # add the next element\n",
    "        # slide the window, we don't need to slide if we've not hit the required window size of 'K'\n",
    "        if windowEnd >= K - 1:\n",
    "            result.append(windowSum / K) # calculate the average\n",
    "            windowSum -= arr[windowStart] # subtract the element going out\n",
    "            windowStart += 1\n",
    "        \n",
    "    return result\n",
    "\n",
    "\n",
    "def main():\n",
    "    result = find_averages_of_subarrays(5, [1, 3, 2, 6, -1, 4, 1, 8, 2])\n",
    "    print('Averages of subarrays of size K: ' + str(result))\n",
    "\n",
    "\n",
    "main()"
   ]
  },
  {
   "cell_type": "markdown",
   "metadata": {},
   "source": [
    "# Maximum Sum Subarray of Size K (easy)"
   ]
  },
  {
   "cell_type": "markdown",
   "metadata": {},
   "source": [
    "Given an array of positive numbers and a positive number ‘k’, find the **maximum sum of any contiguous subarray of size ‘k’**."
   ]
  },
  {
   "cell_type": "markdown",
   "metadata": {},
   "source": [
    "![](images/1_1.png)"
   ]
  },
  {
   "cell_type": "code",
   "execution_count": 4,
   "metadata": {},
   "outputs": [
    {
     "name": "stdout",
     "output_type": "stream",
     "text": [
      "[2]\n",
      "windowSum: 2\n",
      "maxSum: 2\n",
      "[2, 1]\n",
      "windowSum: 3\n",
      "maxSum: 3\n",
      "[2, 1, 5]\n",
      "windowSum: 8\n",
      "maxSum: 8\n",
      "[1, 5, 1]\n",
      "windowSum: 7\n",
      "maxSum: 8\n",
      "[5, 1, 3]\n",
      "windowSum: 9\n",
      "maxSum: 9\n",
      "[1, 3, 2]\n",
      "windowSum: 6\n",
      "maxSum: 9\n",
      "Maximum sum of a subarray of size K: 9\n",
      "[2]\n",
      "windowSum: 2\n",
      "maxSum: 2\n",
      "[2, 3]\n",
      "windowSum: 5\n",
      "maxSum: 5\n",
      "[3, 4]\n",
      "windowSum: 7\n",
      "maxSum: 7\n",
      "[4, 1]\n",
      "windowSum: 5\n",
      "maxSum: 7\n",
      "[1, 5]\n",
      "windowSum: 6\n",
      "maxSum: 7\n",
      "Maximum sum of a subarray of size K: 7\n"
     ]
    }
   ],
   "source": [
    "def max_sub_array_of_size_k(k, arr):\n",
    "    windowStart = 0\n",
    "    maxSum = 0\n",
    "    windowSum = 0\n",
    "    \n",
    "    for windowEnd in range(len(arr)):\n",
    "        windowSum += arr[windowEnd]\n",
    "        if windowEnd - windowStart >= k:\n",
    "            windowSum -= arr[windowStart]\n",
    "            windowStart += 1\n",
    "        maxSum = max(windowSum, maxSum)\n",
    "    \n",
    "        #print(arr[windowStart:windowEnd+1])\n",
    "        #print('windowSum: ' + str(windowSum))\n",
    "        #print('maxSum: ' + str(maxSum))\n",
    "    \n",
    "    return maxSum\n",
    "\n",
    "def main():\n",
    "    print(\"Maximum sum of a subarray of size K: \" + str(max_sub_array_of_size_k(3, [2, 1, 5, 1, 3, 2])))\n",
    "    print(\"Maximum sum of a subarray of size K: \" + str(max_sub_array_of_size_k(2, [2, 3, 4, 1, 5])))\n",
    "\n",
    "main()"
   ]
  },
  {
   "cell_type": "code",
   "execution_count": 5,
   "metadata": {},
   "outputs": [
    {
     "name": "stdout",
     "output_type": "stream",
     "text": [
      "Maximum sum of a subarray of size K: 9.0\n",
      "Maximum sum of a subarray of size K: 7.0\n"
     ]
    }
   ],
   "source": [
    "def max_sub_array_of_size_k(k, arr):\n",
    "    maxSum = 0.0\n",
    "    windowSum = 0.0\n",
    "    windowStart = 0\n",
    "    for windowEnd in range(len(arr)):\n",
    "        windowSum += arr[windowEnd]\n",
    "        if windowEnd >= k - 1:\n",
    "            if maxSum < windowSum:\n",
    "                maxSum = windowSum # maxSum = max(maxSum, windowSum)\n",
    "            windowSum -= arr[windowStart]\n",
    "            windowStart += 1\n",
    "    \n",
    "    return maxSum\n",
    "\n",
    "def main():\n",
    "    print(\"Maximum sum of a subarray of size K: \" + str(max_sub_array_of_size_k(3, [2, 1, 5, 1, 3, 2])))\n",
    "    print(\"Maximum sum of a subarray of size K: \" + str(max_sub_array_of_size_k(2, [2, 3, 4, 1, 5])))\n",
    "\n",
    "main()"
   ]
  },
  {
   "cell_type": "markdown",
   "metadata": {},
   "source": [
    "**Time Complexity**: $O(N)$\n",
    "\n",
    "**Space Complexity**: $O(1)$"
   ]
  },
  {
   "cell_type": "markdown",
   "metadata": {},
   "source": [
    "# Smallest Subarray with a Given Sum (easy)"
   ]
  },
  {
   "cell_type": "markdown",
   "metadata": {},
   "source": [
    "Given an array of positive numbers and a positive number ‘S’, find the length of the **smallest\n",
    "contiguous subarray whose sum is greater than or equal to ‘S’**. Return 0, if no such subarray\n",
    "exists."
   ]
  },
  {
   "cell_type": "markdown",
   "metadata": {},
   "source": [
    "# No-repeat Substring (hard)"
   ]
  },
  {
   "cell_type": "markdown",
   "metadata": {},
   "source": [
    "Given a string, find the **length of the longest substring** which has **no repeating characters**."
   ]
  },
  {
   "cell_type": "code",
   "execution_count": null,
   "metadata": {},
   "outputs": [],
   "source": [
    "def non_repeat_substring(str1):\n",
    "    windowStart = 0\n",
    "    maxLength = 0\n",
    "    charIndex = {}\n",
    "    \n",
    "    for windowEnd in range(len(str1)):\n",
    "        rightChar = str1[windowEnd]\n",
    "        if rightChar in charIndex.keys():\n",
    "            "
   ]
  },
  {
   "cell_type": "markdown",
   "metadata": {},
   "source": [
    "# Longest Substring with Same Letters after Replacement (hard)"
   ]
  },
  {
   "cell_type": "markdown",
   "metadata": {},
   "source": [
    "Given a string with lowercase letters only, if you are allowed to **replace no more than ‘k’\n",
    "letters with any letter**, find the **length of the longest substring having the same letters after\n",
    "replacement**."
   ]
  },
  {
   "cell_type": "code",
   "execution_count": null,
   "metadata": {},
   "outputs": [],
   "source": []
  }
 ],
 "metadata": {
  "kernelspec": {
   "display_name": "Python 3",
   "language": "python",
   "name": "python3"
  },
  "language_info": {
   "codemirror_mode": {
    "name": "ipython",
    "version": 3
   },
   "file_extension": ".py",
   "mimetype": "text/x-python",
   "name": "python",
   "nbconvert_exporter": "python",
   "pygments_lexer": "ipython3",
   "version": "3.8.3"
  },
  "toc": {
   "base_numbering": 1,
   "nav_menu": {},
   "number_sections": false,
   "sideBar": true,
   "skip_h1_title": false,
   "title_cell": "Table of Contents",
   "title_sidebar": "Contents",
   "toc_cell": false,
   "toc_position": {},
   "toc_section_display": true,
   "toc_window_display": true
  }
 },
 "nbformat": 4,
 "nbformat_minor": 4
}
