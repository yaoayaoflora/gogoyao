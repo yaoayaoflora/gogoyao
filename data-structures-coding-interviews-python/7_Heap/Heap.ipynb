{
 "metadata": {
  "language_info": {
   "codemirror_mode": {
    "name": "ipython",
    "version": 3
   },
   "file_extension": ".py",
   "mimetype": "text/x-python",
   "name": "python",
   "nbconvert_exporter": "python",
   "pygments_lexer": "ipython3",
   "version": "3.6.6-final"
  },
  "orig_nbformat": 2,
  "kernelspec": {
   "name": "python_defaultSpec_1597913319493",
   "display_name": "Python 3.6.6 64-bit ('base': conda)"
  }
 },
 "nbformat": 4,
 "nbformat_minor": 2,
 "cells": [
  {
   "cell_type": "markdown",
   "metadata": {},
   "source": [
    "# MaxHeap"
   ]
  },
  {
   "cell_type": "code",
   "execution_count": 1,
   "metadata": {
    "tags": []
   },
   "outputs": [
    {
     "output_type": "stream",
     "name": "stdout",
     "text": "100\n"
    }
   ],
   "source": [
    "class MaxHeap:\n",
    "    def __init__(self):\n",
    "        self.heap = []\n",
    "\n",
    "    def insert(self, val):\n",
    "        self.heap.append(val)\n",
    "        self.__percolateUp(len(self.heap)-1)\n",
    "\n",
    "    def getMax(self):\n",
    "        if self.heap:\n",
    "            return self.heap[0]\n",
    "        return None\n",
    "\n",
    "    def removeMax(self):\n",
    "        if len(self.heap) > 1:\n",
    "            max = self.heap[0]\n",
    "            self.heap[0] = self.heap[-1]\n",
    "            del self.heap[-1]\n",
    "            self.__maxHeapify(0)\n",
    "            return max\n",
    "        elif len(self.heap) == 1:\n",
    "            max = self.heap[0]\n",
    "            del self.heap[0]\n",
    "            return max\n",
    "        else:\n",
    "            return None\n",
    "\n",
    "    def __percolateUp(self, index):\n",
    "        parent = (index-1)//2\n",
    "        if index <= 0:\n",
    "            return\n",
    "        elif self.heap[parent] < self.heap[index]:\n",
    "            tmp = self.heap[parent]\n",
    "            self.heap[parent] = self.heap[index]\n",
    "            self.heap[index] = tmp\n",
    "            self.__percolateUp(parent)\n",
    "\n",
    "    def __maxHeapify(self, index):\n",
    "        left = (index * 2) + 1\n",
    "        right = (index * 2) + 2\n",
    "        largest = index\n",
    "        if len(self.heap) > left and self.heap[largest] < self.heap[left]:\n",
    "            largest = left\n",
    "        if len(self.heap) > right and self.heap[largest] < self.heap[right]:\n",
    "            largest = right\n",
    "        if largest != index:\n",
    "            tmp = self.heap[largest]\n",
    "            self.heap[largest] = self.heap[index]\n",
    "            self.heap[index] = tmp\n",
    "            self.__maxHeapify(largest)\n",
    "\n",
    "    def buildHeap(self, arr):\n",
    "        self.heap = arr\n",
    "        for i in range(len(arr)-1, -1, -1):\n",
    "            self.__maxHeapify(i)\n",
    "\n",
    "\n",
    "heap = MaxHeap()\n",
    "heap.insert(12)\n",
    "heap.insert(10)\n",
    "heap.insert(-10)\n",
    "heap.insert(100)\n",
    "\n",
    "print(heap.getMax())"
   ]
  },
  {
   "cell_type": "markdown",
   "metadata": {},
   "source": [
    "# MinHeap"
   ]
  },
  {
   "cell_type": "code",
   "execution_count": 4,
   "metadata": {
    "tags": []
   },
   "outputs": [
    {
     "output_type": "stream",
     "name": "stdout",
     "text": "-10\n-10\n10\n-100\n"
    }
   ],
   "source": [
    "class MinHeap:\n",
    "    def __init__(self):\n",
    "        self.heap = []\n",
    "\n",
    "    def insert(self, val):\n",
    "        self.heap.append(val)\n",
    "        self.__percolateUp(len(self.heap)-1)\n",
    "\n",
    "    def getMin(self):\n",
    "        if self.heap:\n",
    "            return self.heap[0]\n",
    "        return None\n",
    "\n",
    "    def removeMin(self):\n",
    "        if len(self.heap) > 1:\n",
    "            min = self.heap[0]\n",
    "            self.heap[0] = self.heap[-1]\n",
    "            del self.heap[-1]\n",
    "            self.__minHeapify(0)\n",
    "            return min\n",
    "        elif len(self.heap) == 1:\n",
    "            min = self.heap[0]\n",
    "            del self.heap[0]\n",
    "            return min\n",
    "        else:\n",
    "            return None\n",
    "\n",
    "    def __percolateUp(self, index):\n",
    "        parent = (index-1) // 2\n",
    "        if index <= 0:\n",
    "            return\n",
    "        elif self.heap[parent] > self.heap[index]:\n",
    "            tmp = self.heap[parent]\n",
    "            self.heap[parent] = self.heap[index]\n",
    "            self.heap[index] = tmp\n",
    "            self.__percolateUp(parent)\n",
    "\n",
    "    def __minHeapify(self, index):\n",
    "        left = (index * 2) + 1\n",
    "        right = (index * 2) + 2\n",
    "        smallest = index\n",
    "        if len(self.heap) > left and self.heap[smallest] > self.heap[left]:\n",
    "            smallest = left\n",
    "        if len(self.heap) > right and self.heap[smallest] > self.heap[right]:\n",
    "            smallest = right\n",
    "        if smallest != index:\n",
    "            tmp = self.heap[smallest]\n",
    "            self.heap[smallest] = self.heap[index]\n",
    "            self.heap[index] = tmp\n",
    "            self.__minHeapify(smallest)\n",
    "\n",
    "    def buildHeap(self, arr):\n",
    "        self.heap = arr\n",
    "        for i in range(len(arr)-1, -1, -1):\n",
    "            self.__minHeapify(i)\n",
    "\n",
    "\n",
    "heap = MinHeap()\n",
    "heap.insert(12)\n",
    "heap.insert(10)\n",
    "heap.insert(-10)\n",
    "heap.insert(100)\n",
    "\n",
    "print(heap.getMin())\n",
    "print(heap.removeMin())\n",
    "print(heap.getMin())\n",
    "heap.insert(-100)\n",
    "print(heap.getMin())"
   ]
  },
  {
   "cell_type": "code",
   "execution_count": null,
   "metadata": {},
   "outputs": [],
   "source": []
  }
 ]
}